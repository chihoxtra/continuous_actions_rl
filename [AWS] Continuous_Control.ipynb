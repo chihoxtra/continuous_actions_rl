{
 "cells": [
  {
   "cell_type": "markdown",
   "metadata": {},
   "source": [
    "# Continuous Control\n",
    "\n",
    "---\n",
    "\n",
    "In this notebook, you will learn how to use the Unity ML-Agents environment for the second project of the [Deep Reinforcement Learning Nanodegree](https://www.udacity.com/course/deep-reinforcement-learning-nanodegree--nd893) program.\n",
    "\n",
    "### 1. Start the Environment\n",
    "\n",
    "We begin by importing the necessary packages.  If the code cell below returns an error, please revisit the project instructions to double-check that you have installed [Unity ML-Agents](https://github.com/Unity-Technologies/ml-agents/blob/master/docs/Installation.md) and [NumPy](http://www.numpy.org/)."
   ]
  },
  {
   "cell_type": "code",
   "execution_count": 1,
   "metadata": {},
   "outputs": [],
   "source": [
    "from unityagents import UnityEnvironment\n",
    "import numpy as np"
   ]
  },
  {
   "cell_type": "markdown",
   "metadata": {},
   "source": [
    "Next, we will start the environment!  **_Before running the code cell below_**, change the `file_name` parameter to match the location of the Unity environment that you downloaded.\n",
    "\n",
    "- **Mac**: `\"path/to/Reacher.app\"`\n",
    "- **Windows** (x86): `\"path/to/Reacher_Windows_x86/Reacher.exe\"`\n",
    "- **Windows** (x86_64): `\"path/to/Reacher_Windows_x86_64/Reacher.exe\"`\n",
    "- **Linux** (x86): `\"path/to/Reacher_Linux/Reacher.x86\"`\n",
    "- **Linux** (x86_64): `\"path/to/Reacher_Linux/Reacher.x86_64\"`\n",
    "- **Linux** (x86, headless): `\"path/to/Reacher_Linux_NoVis/Reacher.x86\"`\n",
    "- **Linux** (x86_64, headless): `\"path/to/Reacher_Linux_NoVis/Reacher.x86_64\"`\n",
    "\n",
    "For instance, if you are using a Mac, then you downloaded `Reacher.app`.  If this file is in the same folder as the notebook, then the line below should appear as follows:\n",
    "```\n",
    "env = UnityEnvironment(file_name=\"Reacher.app\")\n",
    "```"
   ]
  },
  {
   "cell_type": "code",
   "execution_count": 2,
   "metadata": {},
   "outputs": [
    {
     "name": "stderr",
     "output_type": "stream",
     "text": [
      "INFO:unityagents:\n",
      "'Academy' started successfully!\n",
      "Unity Academy name: Academy\n",
      "        Number of Brains: 1\n",
      "        Number of External Brains : 1\n",
      "        Lesson number : 0\n",
      "        Reset Parameters :\n",
      "\t\tgoal_size -> 5.0\n",
      "\t\tgoal_speed -> 1.0\n",
      "Unity brain name: ReacherBrain\n",
      "        Number of Visual Observations (per agent): 0\n",
      "        Vector Observation space type: continuous\n",
      "        Vector Observation space size (per agent): 33\n",
      "        Number of stacked Vector Observation: 1\n",
      "        Vector Action space type: continuous\n",
      "        Vector Action space size (per agent): 4\n",
      "        Vector Action descriptions: , , , \n"
     ]
    }
   ],
   "source": [
    "env = UnityEnvironment(file_name='/home/ubuntu/projects/continuous_actions_rl/Reacher_Linux_NoVis/Reacher.x86_64')\n",
    "#env = UnityEnvironment(file_name='Reacher.app')"
   ]
  },
  {
   "cell_type": "markdown",
   "metadata": {},
   "source": [
    "Environments contain **_brains_** which are responsible for deciding the actions of their associated agents. Here we check for the first brain available, and set it as the default brain we will be controlling from Python."
   ]
  },
  {
   "cell_type": "code",
   "execution_count": 3,
   "metadata": {},
   "outputs": [],
   "source": [
    "# get the default brain\n",
    "brain_name = env.brain_names[0]\n",
    "brain = env.brains[brain_name]"
   ]
  },
  {
   "cell_type": "markdown",
   "metadata": {},
   "source": [
    "### 2. Examine the State and Action Spaces\n",
    "\n",
    "In this environment, a double-jointed arm can move to target locations. A reward of `+0.1` is provided for each step that the agent's hand is in the goal location. Thus, the goal of your agent is to maintain its position at the target location for as many time steps as possible.\n",
    "\n",
    "The observation space consists of `33` variables corresponding to position, rotation, velocity, and angular velocities of the arm.  Each action is a vector with four numbers, corresponding to torque applicable to two joints.  Every entry in the action vector must be a number between `-1` and `1`.\n",
    "\n",
    "Run the code cell below to print some information about the environment."
   ]
  },
  {
   "cell_type": "code",
   "execution_count": 4,
   "metadata": {},
   "outputs": [
    {
     "name": "stdout",
     "output_type": "stream",
     "text": [
      "Number of agents: 20\n",
      "Size of each action: 4\n",
      "There are 20 agents. Each observes a state with length: 33\n",
      "The state for the first agent looks like: [  0.00000000e+00  -4.00000000e+00   0.00000000e+00   1.00000000e+00\n",
      "  -0.00000000e+00  -0.00000000e+00  -4.37113883e-08   0.00000000e+00\n",
      "   0.00000000e+00   0.00000000e+00   0.00000000e+00   0.00000000e+00\n",
      "   0.00000000e+00   0.00000000e+00  -1.00000000e+01   0.00000000e+00\n",
      "   1.00000000e+00  -0.00000000e+00  -0.00000000e+00  -4.37113883e-08\n",
      "   0.00000000e+00   0.00000000e+00   0.00000000e+00   0.00000000e+00\n",
      "   0.00000000e+00   0.00000000e+00   5.75471878e+00  -1.00000000e+00\n",
      "   5.55726624e+00   0.00000000e+00   1.00000000e+00   0.00000000e+00\n",
      "  -1.68164849e-01]\n"
     ]
    }
   ],
   "source": [
    "# reset the environment\n",
    "env_info = env.reset(train_mode=True)[brain_name]\n",
    "\n",
    "# number of agents\n",
    "num_agents = len(env_info.agents)\n",
    "print('Number of agents:', num_agents)\n",
    "\n",
    "# size of each action\n",
    "action_size = brain.vector_action_space_size\n",
    "print('Size of each action:', action_size)\n",
    "\n",
    "# examine the state space \n",
    "states = env_info.vector_observations\n",
    "state_size = states.shape[1]\n",
    "print('There are {} agents. Each observes a state with length: {}'.format(states.shape[0], state_size))\n",
    "print('The state for the first agent looks like:', states[0])"
   ]
  },
  {
   "cell_type": "markdown",
   "metadata": {},
   "source": [
    "### 3. Take Random Actions in the Environment\n",
    "\n",
    "In the next code cell, you will learn how to use the Python API to control the agent and receive feedback from the environment.\n",
    "\n",
    "Once this cell is executed, you will watch the agent's performance, if it selects an action at random with each time step.  A window should pop up that allows you to observe the agent, as it moves through the environment.  \n",
    "\n",
    "Of course, as part of the project, you'll have to change the code so that the agent is able to use its experience to gradually choose better actions when interacting with the environment!"
   ]
  },
  {
   "cell_type": "code",
   "execution_count": 5,
   "metadata": {},
   "outputs": [
    {
     "data": {
      "text/plain": [
       "\"env_info = env.reset(train_mode=False)[brain_name]     # reset the environment    \\nstates = env_info.vector_observations                  # get the current state (for each agent)\\nscores = np.zeros(num_agents)                          # initialize the score (for each agent)\\nwhile True:\\n    actions = np.random.randn(num_agents, action_size) # select an action (for each agent)\\n    actions = np.clip(actions, -1, 1)                  # all actions between -1 and 1\\n    env_info = env.step(actions)[brain_name]           # send all actions to tne environment\\n    next_states = env_info.vector_observations         # get next state (for each agent)\\n    rewards = env_info.rewards                         # get reward (for each agent)\\n    dones = env_info.local_done                        # see if episode finished\\n    scores += env_info.rewards                         # update the score (for each agent)\\n    states = next_states                               # roll over states to next time step\\n    if np.all(dones):                                  # exit loop if episode finished\\n        break\\nprint('Total score (averaged over agents) this episode: {}'.format(np.mean(scores)))\\nenv.close()\""
      ]
     },
     "execution_count": 5,
     "metadata": {},
     "output_type": "execute_result"
    }
   ],
   "source": [
    "\"\"\"env_info = env.reset(train_mode=False)[brain_name]     # reset the environment    \n",
    "states = env_info.vector_observations                  # get the current state (for each agent)\n",
    "scores = np.zeros(num_agents)                          # initialize the score (for each agent)\n",
    "while True:\n",
    "    actions = np.random.randn(num_agents, action_size) # select an action (for each agent)\n",
    "    actions = np.clip(actions, -1, 1)                  # all actions between -1 and 1\n",
    "    env_info = env.step(actions)[brain_name]           # send all actions to tne environment\n",
    "    next_states = env_info.vector_observations         # get next state (for each agent)\n",
    "    rewards = env_info.rewards                         # get reward (for each agent)\n",
    "    dones = env_info.local_done                        # see if episode finished\n",
    "    scores += env_info.rewards                         # update the score (for each agent)\n",
    "    states = next_states                               # roll over states to next time step\n",
    "    if np.all(dones):                                  # exit loop if episode finished\n",
    "        break\n",
    "print('Total score (averaged over agents) this episode: {}'.format(np.mean(scores)))\n",
    "env.close()\"\"\""
   ]
  },
  {
   "cell_type": "markdown",
   "metadata": {},
   "source": [
    "### 4. It's Your Turn!\n",
    "\n",
    "Now it's your turn to train your own agent to solve the environment!  When training the environment, set `train_mode=True`, so that the line for resetting the environment looks like the following:\n",
    "```python\n",
    "env_info = env.reset(train_mode=True)[brain_name]\n",
    "```"
   ]
  },
  {
   "cell_type": "code",
   "execution_count": 6,
   "metadata": {},
   "outputs": [],
   "source": [
    "import torch\n",
    "def saveTrainedModel(agent, path):\n",
    "    state_dicts = {'model_critic': agent.critic_local.state_dict(), \n",
    "                   'model_actor': agent.actor_local.state_dict()}\n",
    "    torch.save(state_dicts, path)"
   ]
  },
  {
   "cell_type": "code",
   "execution_count": 7,
   "metadata": {},
   "outputs": [],
   "source": [
    "from DDPG_agent import DDPG_Agent"
   ]
  },
  {
   "cell_type": "code",
   "execution_count": 8,
   "metadata": {},
   "outputs": [],
   "source": [
    "model_dir = 'saved_models/'\n",
    "model_name = 'unity_continuous_rl_AWS_' + str(num_agents) + '_agents.pt'\n",
    "\n",
    "agent = DDPG_Agent(state_size, action_size, num_agents=num_agents)"
   ]
  },
  {
   "cell_type": "code",
   "execution_count": 1,
   "metadata": {},
   "outputs": [
    {
     "name": "stdout",
     "output_type": "stream",
     "text": [
      "0.4.0\n"
     ]
    }
   ],
   "source": [
    "import torch\n",
    "print(torch.__version__)"
   ]
  },
  {
   "cell_type": "code",
   "execution_count": 9,
   "metadata": {},
   "outputs": [
    {
     "name": "stdout",
     "output_type": "stream",
     "text": [
      "Fetching experiences... 180180 \n",
      "Prefetch completed. Training starts! \n",
      "Number of Agents:  20\n",
      "Device:  cuda:0\n",
      "Episode: 1  Avg score(#20): 0.75  steps: 10010  Actor G: -0.07  Critic L: 3.12e-05  noise: 0.34  eps: 1.00\n",
      "Episode: 2  Avg score(#20): 0.67  steps: 11011  Actor G: -0.07  Critic L: 1.49e-05  noise: 0.33  eps: 0.99\n",
      "Episode: 3  Avg score(#20): 0.54  steps: 12012  Actor G: -0.07  Critic L: 1.48e-05  noise: 0.33  eps: 0.98\n",
      "Episode: 4  Avg score(#20): 0.51  steps: 13013  Actor G: -0.07  Critic L: 1.47e-05  noise: 0.33  eps: 0.97\n",
      "Episode: 5  Avg score(#20): 0.93  steps: 14014  Actor G: -0.07  Critic L: 1.47e-05  noise: 0.32  eps: 0.96\n",
      "Episode: 6  Avg score(#20): 0.85  steps: 15015  Actor G: -0.06  Critic L: 1.57e-05  noise: 0.32  eps: 0.95\n",
      "Episode: 7  Avg score(#20): 1.63  steps: 16016  Actor G: -0.06  Critic L: 1.73e-05  noise: 0.32  eps: 0.94\n",
      "Episode: 8  Avg score(#20): 1.83  steps: 17017  Actor G: -0.06  Critic L: 1.82e-05  noise: 0.32  eps: 0.93\n",
      "Episode: 9  Avg score(#20): 1.62  steps: 18018  Actor G: -0.06  Critic L: 2.04e-05  noise: 0.31  eps: 0.92\n",
      "Episode: 10  Avg score(#20): 2.54  steps: 19019  Actor G: -0.06  Critic L: 2.45e-05  noise: 0.31  eps: 0.91\n",
      "Episode: 11  Avg score(#20): 3.04  steps: 20020  Actor G: -0.06  Critic L: 3.04e-05  noise: 0.31  eps: 0.90\n",
      "Episode: 12  Avg score(#20): 3.51  steps: 21021  Actor G: -0.06  Critic L: 3.47e-05  noise: 0.30  eps: 0.90\n",
      "Episode: 13  Avg score(#20): 4.10  steps: 22022  Actor G: -0.05  Critic L: 4.09e-05  noise: 0.30  eps: 0.89\n",
      "Episode: 14  Avg score(#20): 5.12  steps: 23023  Actor G: -0.05  Critic L: 4.77e-05  noise: 0.30  eps: 0.88\n",
      "Episode: 15  Avg score(#20): 5.44  steps: 24024  Actor G: -0.05  Critic L: 5.78e-05  noise: 0.30  eps: 0.87\n",
      "Episode: 16  Avg score(#20): 6.55  steps: 25025  Actor G: -0.04  Critic L: 6.79e-05  noise: 0.29  eps: 0.86\n",
      "Episode: 17  Avg score(#20): 10.88  steps: 26026  Actor G: -0.04  Critic L: 8.25e-05  noise: 0.29  eps: 0.85\n",
      "Episode: 18  Avg score(#20): 14.05  steps: 27027  Actor G: -0.03  Critic L: 9.61e-05  noise: 0.28  eps: 0.84\n",
      "Episode: 19  Avg score(#20): 15.53  steps: 28028  Actor G: -0.03  Critic L: 1.18e-04  noise: 0.28  eps: 0.83\n",
      "Episode: 20  Avg score(#20): 17.34  steps: 29029  Actor G: -0.02  Critic L: 1.34e-04  noise: 0.28  eps: 0.83\n",
      "Episode: 21  Avg score(#20): 16.54  steps: 30030  Actor G: -0.01  Critic L: 1.51e-04  noise: 0.28  eps: 0.82\n",
      "Episode: 22  Avg score(#20): 21.17  steps: 31031  Actor G: -0.01  Critic L: 1.75e-04  noise: 0.27  eps: 0.81\n",
      "Episode: 23  Avg score(#20): 26.23  steps: 32032  Actor G: 0.00  Critic L: 2.05e-04  noise: 0.27  eps: 0.80\n",
      "Episode: 24  Avg score(#20): 28.73  steps: 33033  Actor G: 0.01  Critic L: 2.27e-04  noise: 0.27  eps: 0.79\n",
      "Episode: 25  Avg score(#20): 30.28  steps: 34034  Actor G: 0.03  Critic L: 2.50e-04  noise: 0.27  eps: 0.79\n",
      "Episode: 26  Avg score(#20): 32.18  steps: 35035  Actor G: 0.04  Critic L: 2.74e-04  noise: 0.26  eps: 0.78\n",
      "Episode: 27  Avg score(#20): 32.06  steps: 36036  Actor G: 0.05  Critic L: 3.11e-04  noise: 0.26  eps: 0.77\n",
      "Episode: 28  Avg score(#20): 33.73  steps: 37037  Actor G: 0.07  Critic L: 3.34e-04  noise: 0.26  eps: 0.76\n",
      "Episode: 29  Avg score(#20): 35.49  steps: 38038  Actor G: 0.08  Critic L: 3.84e-04  noise: 0.26  eps: 0.75\n",
      "Episode: 30  Avg score(#20): 35.07  steps: 39039  Actor G: 0.10  Critic L: 3.98e-04  noise: 0.25  eps: 0.75\n",
      "Episode: 31  Avg score(#20): 37.24  steps: 40040  Actor G: 0.11  Critic L: 4.18e-04  noise: 0.25  eps: 0.74\n",
      "Episode: 32  Avg score(#20): 37.85  steps: 41041  Actor G: 0.13  Critic L: 4.62e-04  noise: 0.25  eps: 0.73\n",
      "Episode: 33  Avg score(#20): 37.84  steps: 42042  Actor G: 0.15  Critic L: 5.20e-04  noise: 0.25  eps: 0.72\n",
      "Episode: 34  Avg score(#20): 38.28  steps: 43043  Actor G: 0.16  Critic L: 5.46e-04  noise: 0.24  eps: 0.72\n",
      "Episode: 35  Avg score(#20): 38.28  steps: 44044  Actor G: 0.18  Critic L: 5.92e-04  noise: 0.24  eps: 0.71\n",
      "Episode: 36  Avg score(#20): 38.79  steps: 45045  Actor G: 0.20  Critic L: 6.05e-04  noise: 0.24  eps: 0.70\n",
      "Episode: 37  Avg score(#20): 38.95  steps: 46046  Actor G: 0.22  Critic L: 6.31e-04  noise: 0.24  eps: 0.70\n",
      "Episode: 38  Avg score(#20): 39.10  steps: 47047  Actor G: 0.24  Critic L: 6.50e-04  noise: 0.23  eps: 0.69\n",
      "Episode: 39  Avg score(#20): 39.09  steps: 48048  Actor G: 0.26  Critic L: 7.53e-04  noise: 0.23  eps: 0.68\n",
      "Episode: 40  Avg score(#20): 39.19  steps: 49049  Actor G: 0.28  Critic L: 7.42e-04  noise: 0.23  eps: 0.68\n",
      "Episode: 41  Avg score(#20): 39.02  steps: 50050  Actor G: 0.30  Critic L: 8.01e-04  noise: 0.23  eps: 0.67\n",
      "Episode: 42  Avg score(#20): 39.01  steps: 51051  Actor G: 0.32  Critic L: 8.56e-04  noise: 0.23  eps: 0.66\n",
      "Episode: 43  Avg score(#20): 38.93  steps: 52052  Actor G: 0.35  Critic L: 9.18e-04  noise: 0.22  eps: 0.66\n",
      "Episode: 44  Avg score(#20): 39.28  steps: 53053  Actor G: 0.37  Critic L: 9.97e-04  noise: 0.22  eps: 0.65\n",
      "Episode: 45  Avg score(#20): 39.22  steps: 54054  Actor G: 0.40  Critic L: 1.02e-03  noise: 0.22  eps: 0.64\n",
      "Episode: 46  Avg score(#20): 39.38  steps: 55055  Actor G: 0.42  Critic L: 1.05e-03  noise: 0.21  eps: 0.64\n",
      "Episode: 47  Avg score(#20): 39.20  steps: 56056  Actor G: 0.45  Critic L: 1.18e-03  noise: 0.21  eps: 0.63\n",
      "Episode: 48  Avg score(#20): 39.24  steps: 57057  Actor G: 0.48  Critic L: 1.19e-03  noise: 0.21  eps: 0.62\n",
      "Episode: 49  Avg score(#20): 39.48  steps: 58058  Actor G: 0.50  Critic L: 1.29e-03  noise: 0.21  eps: 0.62\n",
      "Episode: 50  Avg score(#20): 39.35  steps: 59059  Actor G: 0.53  Critic L: 1.32e-03  noise: 0.21  eps: 0.61\n",
      "Episode: 51  Avg score(#20): 39.44  steps: 60060  Actor G: 0.56  Critic L: 1.31e-03  noise: 0.20  eps: 0.61\n",
      "Episode: 52  Avg score(#20): 39.28  steps: 61061  Actor G: 0.59  Critic L: 1.37e-03  noise: 0.20  eps: 0.60\n",
      "Episode: 53  Avg score(#20): 39.36  steps: 62062  Actor G: 0.62  Critic L: 1.31e-03  noise: 0.20  eps: 0.59\n",
      "Episode: 54  Avg score(#20): 39.32  steps: 63063  Actor G: 0.65  Critic L: 1.48e-03  noise: 0.20  eps: 0.59\n",
      "Episode: 55  Avg score(#20): 39.50  steps: 64064  Actor G: 0.67  Critic L: 1.51e-03  noise: 0.20  eps: 0.58\n",
      "Episode: 56  Avg score(#20): 39.44  steps: 65065  Actor G: 0.70  Critic L: 1.55e-03  noise: 0.19  eps: 0.58\n",
      "Episode: 57  Avg score(#20): 39.49  steps: 66066  Actor G: 0.73  Critic L: 1.75e-03  noise: 0.19  eps: 0.57\n",
      "Episode: 58  Avg score(#20): 39.49  steps: 67067  Actor G: 0.75  Critic L: 1.79e-03  noise: 0.19  eps: 0.56\n",
      "Episode: 59  Avg score(#20): 39.50  steps: 68068  Actor G: 0.78  Critic L: 1.84e-03  noise: 0.19  eps: 0.56\n",
      "Episode: 60  Avg score(#20): 39.49  steps: 69069  Actor G: 0.82  Critic L: 1.79e-03  noise: 0.19  eps: 0.55\n",
      "Episode: 61  Avg score(#20): 39.53  steps: 70070  Actor G: 0.84  Critic L: 1.90e-03  noise: 0.18  eps: 0.55\n",
      "Episode: 62  Avg score(#20): 39.56  steps: 71071  Actor G: 0.87  Critic L: 1.80e-03  noise: 0.18  eps: 0.54\n",
      "Episode: 63  Avg score(#20): 39.52  steps: 72072  Actor G: 0.90  Critic L: 1.87e-03  noise: 0.18  eps: 0.54\n",
      "Episode: 64  Avg score(#20): 39.54  steps: 73073  Actor G: 0.93  Critic L: 1.99e-03  noise: 0.18  eps: 0.53\n",
      "Episode: 65  Avg score(#20): 39.51  steps: 74074  Actor G: 0.96  Critic L: 1.97e-03  noise: 0.18  eps: 0.53\n",
      "Episode: 66  Avg score(#20): 39.50  steps: 75075  Actor G: 0.99  Critic L: 1.94e-03  noise: 0.18  eps: 0.52\n",
      "Episode: 67  Avg score(#20): 39.53  steps: 76076  Actor G: 1.02  Critic L: 2.24e-03  noise: 0.17  eps: 0.52\n",
      "Episode: 68  Avg score(#20): 39.52  steps: 77077  Actor G: 1.04  Critic L: 2.01e-03  noise: 0.17  eps: 0.51\n",
      "Episode: 69  Avg score(#20): 39.52  steps: 78078  Actor G: 1.07  Critic L: 2.00e-03  noise: 0.17  eps: 0.50\n",
      "Episode: 70  Avg score(#20): 39.50  steps: 79079  Actor G: 1.10  Critic L: 1.99e-03  noise: 0.17  eps: 0.50\n",
      "Episode: 71  Avg score(#20): 39.51  steps: 80080  Actor G: 1.12  Critic L: 1.89e-03  noise: 0.17  eps: 0.49\n",
      "Episode: 72  Avg score(#20): 39.52  steps: 81081  Actor G: 1.15  Critic L: 1.83e-03  noise: 0.17  eps: 0.49\n",
      "Episode: 73  Avg score(#20): 39.51  steps: 82082  Actor G: 1.17  Critic L: 2.10e-03  noise: 0.16  eps: 0.48\n",
      "Episode: 74  Avg score(#20): 39.49  steps: 83083  Actor G: 1.20  Critic L: 2.01e-03  noise: 0.16  eps: 0.48\n",
      "Episode: 75  Avg score(#20): 39.51  steps: 84084  Actor G: 1.22  Critic L: 1.76e-03  noise: 0.16  eps: 0.48\n"
     ]
    },
    {
     "name": "stdout",
     "output_type": "stream",
     "text": [
      "Episode: 76  Avg score(#20): 39.46  steps: 85085  Actor G: 1.24  Critic L: 1.99e-03  noise: 0.16  eps: 0.47\n",
      "Episode: 77  Avg score(#20): 39.48  steps: 86086  Actor G: 1.26  Critic L: 1.90e-03  noise: 0.16  eps: 0.47\n",
      "Episode: 78  Avg score(#20): 39.53  steps: 87087  Actor G: 1.28  Critic L: 1.97e-03  noise: 0.16  eps: 0.46\n",
      "Episode: 79  Avg score(#20): 39.47  steps: 88088  Actor G: 1.30  Critic L: 1.83e-03  noise: 0.15  eps: 0.46\n",
      "Episode: 80  Avg score(#20): 39.24  steps: 89089  Actor G: 1.32  Critic L: 1.67e-03  noise: 0.15  eps: 0.45\n",
      "Episode: 81  Avg score(#20): 39.22  steps: 90090  Actor G: 1.34  Critic L: 1.83e-03  noise: 0.15  eps: 0.45\n",
      "Episode: 82  Avg score(#20): 39.30  steps: 91091  Actor G: 1.36  Critic L: 1.99e-03  noise: 0.15  eps: 0.44\n",
      "Episode: 83  Avg score(#20): 39.08  steps: 92092  Actor G: 1.38  Critic L: 1.89e-03  noise: 0.15  eps: 0.44\n",
      "Episode: 84  Avg score(#20): 37.98  steps: 93093  Actor G: 1.39  Critic L: 1.94e-03  noise: 0.15  eps: 0.43\n",
      "Episode: 85  Avg score(#20): 38.79  steps: 94094  Actor G: 1.41  Critic L: 1.74e-03  noise: 0.15  eps: 0.43\n",
      "Episode: 86  Avg score(#20): 38.74  steps: 95095  Actor G: 1.43  Critic L: 2.33e-03  noise: 0.15  eps: 0.43\n",
      "Episode: 87  Avg score(#20): 38.77  steps: 96096  Actor G: 1.44  Critic L: 2.00e-03  noise: 0.14  eps: 0.42\n",
      "Episode: 88  Avg score(#20): 38.92  steps: 97097  Actor G: 1.46  Critic L: 2.32e-03  noise: 0.14  eps: 0.42\n",
      "Episode: 89  Avg score(#20): 38.92  steps: 98098  Actor G: 1.47  Critic L: 2.03e-03  noise: 0.14  eps: 0.41\n",
      "Episode: 90  Avg score(#20): 38.55  steps: 99099  Actor G: 1.49  Critic L: 2.39e-03  noise: 0.14  eps: 0.41\n",
      "Episode: 91  Avg score(#20): 38.74  steps: 100100  Actor G: 1.50  Critic L: 2.07e-03  noise: 0.14  eps: 0.40\n",
      "Episode: 92  Avg score(#20): 38.98  steps: 101101  Actor G: 1.51  Critic L: 2.48e-03  noise: 0.14  eps: 0.40\n",
      "Episode: 93  Avg score(#20): 38.54  steps: 102102  Actor G: 1.53  Critic L: 2.37e-03  noise: 0.13  eps: 0.40\n",
      "Episode: 94  Avg score(#20): 38.59  steps: 103103  Actor G: 1.54  Critic L: 2.48e-03  noise: 0.13  eps: 0.39\n",
      "Episode: 95  Avg score(#20): 39.34  steps: 104104  Actor G: 1.56  Critic L: 2.59e-03  noise: 0.13  eps: 0.39\n",
      "Episode: 96  Avg score(#20): 39.01  steps: 105105  Actor G: 1.57  Critic L: 2.46e-03  noise: 0.13  eps: 0.38\n",
      "Episode: 97  Avg score(#20): 39.14  steps: 106106  Actor G: 1.58  Critic L: 2.33e-03  noise: 0.13  eps: 0.38\n",
      "Episode: 98  Avg score(#20): 38.25  steps: 107107  Actor G: 1.60  Critic L: 2.32e-03  noise: 0.13  eps: 0.38\n",
      "Episode: 99  Avg score(#20): 37.93  steps: 108108  Actor G: 1.61  Critic L: 2.76e-03  noise: 0.13  eps: 0.37\n",
      "Episode: 100  Avg score(#20): 38.72  steps: 109109  Actor G: 1.62  Critic L: 2.09e-03  noise: 0.13  eps: 0.37\n",
      "\n",
      "Environment solved in 0 episodes!\tAverage Score: 31.25\n"
     ]
    }
   ],
   "source": [
    "def DDPG_train(n_episodes=1000, i_episode=1, eps_start=1.0, eps_end=0.05, eps_decay=0.99):\n",
    "    \"\"\"DDPG_train.\n",
    "    \n",
    "    Params\n",
    "    ======\n",
    "        n_episodes (int): maximum number of training episodes\n",
    "        i_episode (int): starting episode\n",
    "    \"\"\"\n",
    "    \n",
    "    scores_history = []                                           # for plotting graph\n",
    "    eps = eps_start                                               # start of eps noise factor\n",
    "    \n",
    "    while i_episode < n_episodes + 1:\n",
    "        \n",
    "        agent.reset()                                             # reset the agent for noise\n",
    "        env_info = env.reset(train_mode=True)[brain_name]         # reset the environment  \n",
    "        states = env_info.vector_observations                     # get the current state (for each agent)\n",
    "        epi_scores = np.zeros(num_agents)                         # initialize the score (for each agent)\n",
    "\n",
    "        episode_running = True                                    # flag for breaking the loop\n",
    "        while episode_running:\n",
    "            actions = agent.act(states, 1.0)                      # select an action (for each agent)\n",
    "            #n_actions = actions.detach().cpu().numpy()           # to numpy\n",
    "            actions = np.clip(actions, -1, 1)                     # all actions between -1 and 1\n",
    "            env_info = env.step(actions)[brain_name]              # send all actions to tne environment\n",
    "            next_states = env_info.vector_observations            # get next state (for each agent)\n",
    "            rewards = env_info.rewards                            # get reward (for each agent)\n",
    "            dones = env_info.local_done                           # see if episode finished\n",
    "            epi_scores += env_info.rewards                        # update the score (for each agent)\n",
    "\n",
    "            agent.step(states,actions,rewards,next_states,dones)  # agent to update with env info\n",
    "            \n",
    "            states = next_states                                  # roll over states to next time step\n",
    "            if np.any(dones):                                     # exit loop if ANY episode finished\n",
    "                episode_running = False               \n",
    "\n",
    "        if agent.is_training == True:        \n",
    "            scores_history.append(np.mean(epi_scores))             # append episodic avg score to history\n",
    "            print('Episode: {}  Avg score(#{}): {:.2f}  steps: {}  Actor G: {:.2f}  '\n",
    "                  'Critic L: {:1.2e}  noise: {:.2f}  eps: {:.2f}'.format(i_episode, num_agents, \n",
    "                                                                         np.mean(epi_scores),\n",
    "                                                                         agent.t_step, \n",
    "                                                                         agent.getQAvg(), \n",
    "                                                                         agent.get_td_avg(), \n",
    "                                                                         agent.get_noise_avg(),\n",
    "                                                                         eps))\n",
    "\n",
    "            if len(scores_history) >=100 and np.mean(scores_history[-100:]) >= 30.:\n",
    "                print('\\nEnvironment solved in {:d} episodes!\\tAverage Score: {:.2f}'.format(i_episode-100,\n",
    "                                                                                             np.mean(scores_history)))\n",
    "\n",
    "                saveTrainedModel(agent, model_dir + model_name)\n",
    "                break\n",
    "\n",
    "            i_episode += 1                                         # episode increment\n",
    "            eps = max(eps*eps_decay,eps_end)                       # min of eps\n",
    "        else:                                                      # training not yet started\n",
    "            print('\\rFetching experiences... {} '.format(len(agent.memory.memory)), end=\"\")\n",
    "\n",
    "    env.close()\n",
    "        \n",
    "    return scores_history\n",
    "\n",
    "scores = DDPG_train(500)"
   ]
  },
  {
   "cell_type": "code",
   "execution_count": 10,
   "metadata": {},
   "outputs": [
    {
     "data": {
      "image/png": "[encoded data removed]",
      "text/plain": [
       "<matplotlib.figure.Figure at 0x7f5a40fc7160>"
      ]
     },
     "metadata": {},
     "output_type": "display_data"
    }
   ],
   "source": [
    "# plot the scores\n",
    "import matplotlib.pyplot as plt\n",
    "%matplotlib inline\n",
    "\n",
    "fig = plt.figure()\n",
    "ax = fig.add_subplot(111)\n",
    "plt.plot(np.arange(len(scores)), scores)\n",
    "plt.ylabel('Score')\n",
    "plt.xlabel('Episode #')\n",
    "plt.show()"
   ]
  },
  {
   "cell_type": "code",
   "execution_count": null,
   "metadata": {},
   "outputs": [],
   "source": []
  },
  {
   "cell_type": "code",
   "execution_count": null,
   "metadata": {},
   "outputs": [],
   "source": []
  }
 ],
 "metadata": {
  "kernelspec": {
   "display_name": "Python 3",
   "language": "python",
   "name": "python3"
  },
  "language_info": {
   "codemirror_mode": {
    "name": "ipython",
    "version": 3
   },
   "file_extension": ".py",
   "mimetype": "text/x-python",
   "name": "python",
   "nbconvert_exporter": "python",
   "pygments_lexer": "ipython3",
   "version": "3.5.5"
  }
 },
 "nbformat": 4,
 "nbformat_minor": 2
}
