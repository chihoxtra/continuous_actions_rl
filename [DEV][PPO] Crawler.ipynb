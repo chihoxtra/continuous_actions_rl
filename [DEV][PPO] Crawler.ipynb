{
 "cells": [
  {
   "cell_type": "markdown",
   "metadata": {},
   "source": [
    "# [DEV][PPO] Crawler\n",
    "\n",
    "---\n",
    "\n",
    "In this notebook, you will learn how to use the Unity ML-Agents environment for the second project of the [Deep Reinforcement Learning Nanodegree](https://www.udacity.com/course/deep-reinforcement-learning-nanodegree--nd893) program.\n",
    "\n",
    "### 1. Start the Environment\n",
    "\n",
    "We begin by importing the necessary packages.  If the code cell below returns an error, please revisit the project instructions to double-check that you have installed [Unity ML-Agents](https://github.com/Unity-Technologies/ml-agents/blob/master/docs/Installation.md) and [NumPy](http://www.numpy.org/)."
   ]
  },
  {
   "cell_type": "code",
   "execution_count": 8,
   "metadata": {},
   "outputs": [],
   "source": [
    "from unityagents import UnityEnvironment\n",
    "import torch\n",
    "import numpy as np\n",
    "\n",
    "# widget bar to display progress\n",
    "#!pip install progressbar\n",
    "import progressbar as pb"
   ]
  },
  {
   "cell_type": "markdown",
   "metadata": {},
   "source": [
    "Next, we will start the environment!  **_Before running the code cell below_**, change the `file_name` parameter to match the location of the Unity environment that you downloaded.\n",
    "\n",
    "- **Mac**: `\"path/to/Reacher.app\"`\n",
    "- **Windows** (x86): `\"path/to/Reacher_Windows_x86/Reacher.exe\"`\n",
    "- **Windows** (x86_64): `\"path/to/Reacher_Windows_x86_64/Reacher.exe\"`\n",
    "- **Linux** (x86): `\"path/to/Reacher_Linux/Reacher.x86\"`\n",
    "- **Linux** (x86_64): `\"path/to/Reacher_Linux/Reacher.x86_64\"`\n",
    "- **Linux** (x86, headless): `\"path/to/Reacher_Linux_NoVis/Reacher.x86\"`\n",
    "- **Linux** (x86_64, headless): `\"path/to/Reacher_Linux_NoVis/Reacher.x86_64\"`\n",
    "\n",
    "For instance, if you are using a Mac, then you downloaded `Reacher.app`.  If this file is in the same folder as the notebook, then the line below should appear as follows:\n",
    "```\n",
    "env = UnityEnvironment(file_name=\"Reacher.app\")\n",
    "```"
   ]
  },
  {
   "cell_type": "code",
   "execution_count": 9,
   "metadata": {},
   "outputs": [
    {
     "name": "stderr",
     "output_type": "stream",
     "text": [
      "INFO:unityagents:\n",
      "'Academy' started successfully!\n",
      "Unity Academy name: Academy\n",
      "        Number of Brains: 1\n",
      "        Number of External Brains : 1\n",
      "        Lesson number : 0\n",
      "        Reset Parameters :\n",
      "\t\t\n",
      "Unity brain name: CrawlerBrain\n",
      "        Number of Visual Observations (per agent): 0\n",
      "        Vector Observation space type: continuous\n",
      "        Vector Observation space size (per agent): 129\n",
      "        Number of stacked Vector Observation: 1\n",
      "        Vector Action space type: continuous\n",
      "        Vector Action space size (per agent): 20\n",
      "        Vector Action descriptions: , , , , , , , , , , , , , , , , , , , \n"
     ]
    }
   ],
   "source": [
    "env = UnityEnvironment(file_name='Crawler.app', worker_id=101,  no_graphics=True)\n",
    "#env = UnityEnvironment(file_name='Reacher.app')"
   ]
  },
  {
   "cell_type": "markdown",
   "metadata": {},
   "source": [
    "Environments contain **_brains_** which are responsible for deciding the actions of their associated agents. Here we check for the first brain available, and set it as the default brain we will be controlling from Python."
   ]
  },
  {
   "cell_type": "markdown",
   "metadata": {},
   "source": [
    "### 2. Examine the State and Action Spaces\n",
    "\n",
    "In this environment, a double-jointed arm can move to target locations. A reward of `+0.1` is provided for each step that the agent's hand is in the goal location. Thus, the goal of your agent is to maintain its position at the target location for as many time steps as possible.\n",
    "\n",
    "The observation space consists of `33` variables corresponding to position, rotation, velocity, and angular velocities of the arm.  Each action is a vector with four numbers, corresponding to torque applicable to two joints.  Every entry in the action vector must be a number between `-1` and `1`.\n",
    "\n",
    "Run the code cell below to print some information about the environment."
   ]
  },
  {
   "cell_type": "code",
   "execution_count": 10,
   "metadata": {},
   "outputs": [
    {
     "name": "stdout",
     "output_type": "stream",
     "text": [
      "Name of brain: CrawlerBrain\n",
      "Number of agents: 12\n",
      "Size of each action: 20\n",
      "There are 12 agents. Each observes a state with length: 129\n",
      "The state for the first agent looks like: [ 0.00000000e+00  0.00000000e+00  0.00000000e+00  2.25000000e+00\n",
      "  1.00000000e+00  0.00000000e+00  1.78813934e-07  0.00000000e+00\n",
      "  1.00000000e+00  0.00000000e+00  0.00000000e+00  0.00000000e+00\n",
      "  0.00000000e+00  0.00000000e+00  0.00000000e+00  0.00000000e+00\n",
      "  0.00000000e+00  0.00000000e+00  0.00000000e+00  0.00000000e+00\n",
      "  0.00000000e+00  0.00000000e+00  0.00000000e+00  0.00000000e+00\n",
      "  6.06093168e-01 -1.42857209e-01 -6.06078804e-01  0.00000000e+00\n",
      "  0.00000000e+00  0.00000000e+00  0.00000000e+00  0.00000000e+00\n",
      "  0.00000000e+00  0.00000000e+00  0.00000000e+00  0.00000000e+00\n",
      "  0.00000000e+00  0.00000000e+00  1.33339906e+00 -1.42857209e-01\n",
      " -1.33341408e+00  0.00000000e+00  0.00000000e+00  0.00000000e+00\n",
      "  0.00000000e+00  0.00000000e+00  0.00000000e+00  0.00000000e+00\n",
      "  0.00000000e+00  0.00000000e+00  0.00000000e+00  0.00000000e+00\n",
      " -6.06093347e-01 -1.42857209e-01 -6.06078625e-01  0.00000000e+00\n",
      "  0.00000000e+00  0.00000000e+00  0.00000000e+00  0.00000000e+00\n",
      "  0.00000000e+00  0.00000000e+00  0.00000000e+00  0.00000000e+00\n",
      "  0.00000000e+00  0.00000000e+00 -1.33339953e+00 -1.42857209e-01\n",
      " -1.33341372e+00  0.00000000e+00  0.00000000e+00  0.00000000e+00\n",
      "  0.00000000e+00  0.00000000e+00  0.00000000e+00  0.00000000e+00\n",
      "  0.00000000e+00  0.00000000e+00  0.00000000e+00  0.00000000e+00\n",
      " -6.06093168e-01 -1.42857209e-01  6.06078804e-01  0.00000000e+00\n",
      "  0.00000000e+00  0.00000000e+00  0.00000000e+00  0.00000000e+00\n",
      "  0.00000000e+00  0.00000000e+00  0.00000000e+00  0.00000000e+00\n",
      "  0.00000000e+00  0.00000000e+00 -1.33339906e+00 -1.42857209e-01\n",
      "  1.33341408e+00  0.00000000e+00  0.00000000e+00  0.00000000e+00\n",
      "  0.00000000e+00  0.00000000e+00  0.00000000e+00  0.00000000e+00\n",
      "  0.00000000e+00  0.00000000e+00  0.00000000e+00  0.00000000e+00\n",
      "  6.06093347e-01 -1.42857209e-01  6.06078625e-01  0.00000000e+00\n",
      "  0.00000000e+00  0.00000000e+00  0.00000000e+00  0.00000000e+00\n",
      "  0.00000000e+00  0.00000000e+00  0.00000000e+00  0.00000000e+00\n",
      "  0.00000000e+00  0.00000000e+00  1.33339953e+00 -1.42857209e-01\n",
      "  1.33341372e+00  0.00000000e+00  0.00000000e+00  0.00000000e+00\n",
      "  0.00000000e+00]\n"
     ]
    }
   ],
   "source": [
    "# get the default brain\n",
    "brain_name = env.brain_names[0]\n",
    "brain = env.brains[brain_name]\n",
    "\n",
    "# reset the environment\n",
    "env_info = env.reset(train_mode=True)[brain_name]\n",
    "\n",
    "# name of brain\n",
    "print('Name of brain:', brain_name)\n",
    "\n",
    "# number of agents\n",
    "num_agents = len(env_info.agents)\n",
    "print('Number of agents:', num_agents)\n",
    "\n",
    "# size of each action\n",
    "action_size = brain.vector_action_space_size\n",
    "print('Size of each action:', action_size)\n",
    "\n",
    "# examine the state space \n",
    "states = env_info.vector_observations\n",
    "state_size = states.shape[1]\n",
    "print('There are {} agents. Each observes a state with length: {}'.format(states.shape[0], state_size))\n",
    "print('The state for the first agent looks like:', states[0])"
   ]
  },
  {
   "cell_type": "markdown",
   "metadata": {},
   "source": [
    "### 3. Take Random Actions in the Environment\n",
    "\n",
    "In the next code cell, you will learn how to use the Python API to control the agent and receive feedback from the environment.\n",
    "\n",
    "Once this cell is executed, you will watch the agent's performance, if it selects an action at random with each time step.  A window should pop up that allows you to observe the agent, as it moves through the environment.  \n",
    "\n",
    "Of course, as part of the project, you'll have to change the code so that the agent is able to use its experience to gradually choose better actions when interacting with the environment!"
   ]
  },
  {
   "cell_type": "code",
   "execution_count": 11,
   "metadata": {},
   "outputs": [
    {
     "name": "stdout",
     "output_type": "stream",
     "text": [
      "Total score (averaged over agents) this episode: 0.49039648139538866\n"
     ]
    }
   ],
   "source": [
    "env_info = env.reset(train_mode=False)[brain_name]     # reset the environment    \n",
    "states = env_info.vector_observations                  # get the current state (for each agent)\n",
    "scores = np.zeros(num_agents)                          # initialize the score (for each agent)\n",
    "while True:\n",
    "    actions = np.random.randn(num_agents, action_size) # select an action (for each agent)\n",
    "    actions = np.clip(actions, -1, 1)                  # all actions between -1 and 1\n",
    "    env_info = env.step(actions)[brain_name]           # send all actions to tne environment\n",
    "    next_states = env_info.vector_observations         # get next state (for each agent)\n",
    "    rewards = env_info.rewards                         # get reward (for each agent)\n",
    "    dones = env_info.local_done                        # see if episode finished\n",
    "    scores += env_info.rewards                         # update the score (for each agent)\n",
    "    states = next_states                               # roll over states to next time step\n",
    "    if np.any(dones):                                  # exit loop if episode finished\n",
    "        break\n",
    "print('Total score (averaged over agents) this episode: {}'.format(np.mean(scores)))\n",
    "#env.close()"
   ]
  },
  {
   "cell_type": "markdown",
   "metadata": {},
   "source": [
    "### 4. It's Your Turn!\n",
    "\n",
    "Now it's your turn to train your own agent to solve the environment!  When training the environment, set `train_mode=True`, so that the line for resetting the environment looks like the following:\n",
    "```python\n",
    "env_info = env.reset(train_mode=True)[brain_name]\n",
    "```"
   ]
  },
  {
   "cell_type": "code",
   "execution_count": 12,
   "metadata": {},
   "outputs": [],
   "source": [
    "def saveTrainedModel(agent, path):\n",
    "    state_dicts = {'model': agent.model_local.state_dict()}\n",
    "    torch.save(state_dicts, path)\n",
    "    \n",
    "def loadTrainedModel(agent, path):\n",
    "    state_dicts = torch.load(path,map_location={'cuda:0': 'cpu'})\n",
    "\n",
    "    agent.model_local.load_state_dict(state_dicts['model'])\n",
    "    \n",
    "    return agent"
   ]
  },
  {
   "cell_type": "code",
   "execution_count": 13,
   "metadata": {},
   "outputs": [
    {
     "name": "stdout",
     "output_type": "stream",
     "text": [
      "current device:  cpu\n"
     ]
    }
   ],
   "source": [
    "from PPO_agent import PPO_Agent\n",
    "#import PPO_util \n",
    "\n",
    "model_dir = 'saved_models/'\n",
    "model_name = 'unity_continuous_' + str(brain_name) + '_' + str(num_agents) + '_agents.pt'\n",
    "\n",
    "agent = PPO_Agent(env, state_size, action_size, num_agents=num_agents, seed=1234)\n",
    "#agent = loadTrainedModel(agent, model_dir+model_name)"
   ]
  },
  {
   "cell_type": "code",
   "execution_count": null,
   "metadata": {
    "scrolled": true
   },
   "outputs": [
    {
     "name": "stderr",
     "output_type": "stream",
     "text": [
      "training loop:   0% |                                          | ETA:  --:--:--\r"
     ]
    },
    {
     "name": "stdout",
     "output_type": "stream",
     "text": [
      "\n",
      "Prefetch completed. Training starts! \r\n",
      "Number of Agents:  12\n",
      "Device:  cpu\n"
     ]
    },
    {
     "name": "stderr",
     "output_type": "stream",
     "text": [
      "training loop:   0% |                                          | ETA:  --:--:--\r"
     ]
    },
    {
     "name": "stdout",
     "output_type": "stream",
     "text": [
      "Episode: 1   score: 2.09   Avg score (100e): 2.09   actor gain: -0.49   critic loss: 1.08   steps: 1\n"
     ]
    },
    {
     "name": "stderr",
     "output_type": "stream",
     "text": [
      "training loop:   0% |                                 | ETA:  45 days, 21:05:49\r"
     ]
    },
    {
     "name": "stdout",
     "output_type": "stream",
     "text": [
      "Episode: 2   score: 2.02   Avg score (100e): 2.06   actor gain: -0.49   critic loss: 0.95   steps: 2\n"
     ]
    },
    {
     "name": "stderr",
     "output_type": "stream",
     "text": [
      "training loop:   0% |                                  | ETA:  35 days, 7:48:22\r"
     ]
    },
    {
     "name": "stdout",
     "output_type": "stream",
     "text": [
      "Episode: 3   score: 2.12   Avg score (100e): 2.08   actor gain: -0.50   critic loss: 0.86   steps: 3\n"
     ]
    },
    {
     "name": "stderr",
     "output_type": "stream",
     "text": [
      "training loop:   0% |                                 | ETA:  32 days, 14:35:58\r"
     ]
    },
    {
     "name": "stdout",
     "output_type": "stream",
     "text": [
      "Episode: 4   score: 1.97   Avg score (100e): 2.05   actor gain: -0.49   critic loss: 0.81   steps: 4\n"
     ]
    },
    {
     "name": "stderr",
     "output_type": "stream",
     "text": [
      "training loop:   0% |                                 | ETA:  31 days, 15:25:59\r"
     ]
    },
    {
     "name": "stdout",
     "output_type": "stream",
     "text": [
      "Episode: 5   score: 2.03   Avg score (100e): 2.05   actor gain: -0.49   critic loss: 0.76   steps: 5\n"
     ]
    },
    {
     "name": "stderr",
     "output_type": "stream",
     "text": [
      "training loop:   0% |                                 | ETA:  30 days, 16:06:07\r"
     ]
    },
    {
     "name": "stdout",
     "output_type": "stream",
     "text": [
      "Episode: 6   score: 2.04   Avg score (100e): 2.05   actor gain: -0.49   critic loss: 0.73   steps: 6\n"
     ]
    },
    {
     "name": "stderr",
     "output_type": "stream",
     "text": [
      "training loop:   0% |                                  | ETA:  30 days, 2:13:04\r"
     ]
    },
    {
     "name": "stdout",
     "output_type": "stream",
     "text": [
      "Episode: 7   score: 2.07   Avg score (100e): 2.05   actor gain: -0.49   critic loss: 0.70   steps: 7\n"
     ]
    },
    {
     "name": "stderr",
     "output_type": "stream",
     "text": [
      "training loop:   0% |                                 | ETA:  29 days, 20:09:20\r"
     ]
    },
    {
     "name": "stdout",
     "output_type": "stream",
     "text": [
      "Episode: 8   score: 2.08   Avg score (100e): 2.05   actor gain: -0.49   critic loss: 0.68   steps: 8\n"
     ]
    },
    {
     "name": "stderr",
     "output_type": "stream",
     "text": [
      "training loop:   0% |                                 | ETA:  29 days, 21:22:56\r"
     ]
    },
    {
     "name": "stdout",
     "output_type": "stream",
     "text": [
      "Episode: 9   score: 2.08   Avg score (100e): 2.06   actor gain: -0.49   critic loss: 0.66   steps: 9\n"
     ]
    },
    {
     "name": "stderr",
     "output_type": "stream",
     "text": [
      "training loop:   0% |                                  | ETA:  30 days, 4:45:02\r"
     ]
    },
    {
     "name": "stdout",
     "output_type": "stream",
     "text": [
      "Episode: 10   score: 2.11   Avg score (100e): 2.06   actor gain: -0.49   critic loss: 0.65   steps: 10\n"
     ]
    },
    {
     "name": "stderr",
     "output_type": "stream",
     "text": [
      "training loop:   0% |                                 | ETA:  30 days, 15:22:55\r"
     ]
    },
    {
     "name": "stdout",
     "output_type": "stream",
     "text": [
      "Episode: 11   score: 2.26   Avg score (100e): 2.08   actor gain: -0.50   critic loss: 0.63   steps: 11\n"
     ]
    },
    {
     "name": "stderr",
     "output_type": "stream",
     "text": [
      "training loop:   0% |                                 | ETA:  30 days, 23:07:04\r"
     ]
    },
    {
     "name": "stdout",
     "output_type": "stream",
     "text": [
      "Episode: 12   score: 2.34   Avg score (100e): 2.10   actor gain: -0.50   critic loss: 0.62   steps: 12\n"
     ]
    },
    {
     "name": "stderr",
     "output_type": "stream",
     "text": [
      "training loop:   0% |                                  | ETA:  31 days, 5:49:21\r"
     ]
    },
    {
     "name": "stdout",
     "output_type": "stream",
     "text": [
      "Episode: 13   score: 2.34   Avg score (100e): 2.12   actor gain: -0.49   critic loss: 0.61   steps: 13\n"
     ]
    },
    {
     "name": "stderr",
     "output_type": "stream",
     "text": [
      "training loop:   0% |                                 | ETA:  31 days, 16:57:24\r"
     ]
    },
    {
     "name": "stdout",
     "output_type": "stream",
     "text": [
      "Episode: 14   score: 2.35   Avg score (100e): 2.14   actor gain: -0.49   critic loss: 0.60   steps: 14\n"
     ]
    },
    {
     "name": "stderr",
     "output_type": "stream",
     "text": [
      "training loop:   0% |                                 | ETA:  31 days, 18:16:17\r"
     ]
    },
    {
     "name": "stdout",
     "output_type": "stream",
     "text": [
      "Episode: 15   score: 2.34   Avg score (100e): 2.15   actor gain: -0.49   critic loss: 0.59   steps: 15\n"
     ]
    },
    {
     "name": "stderr",
     "output_type": "stream",
     "text": [
      "training loop:   0% |                                 | ETA:  31 days, 20:11:45\r"
     ]
    },
    {
     "name": "stdout",
     "output_type": "stream",
     "text": [
      "Episode: 16   score: 2.36   Avg score (100e): 2.16   actor gain: -0.49   critic loss: 0.58   steps: 16\n"
     ]
    },
    {
     "name": "stderr",
     "output_type": "stream",
     "text": [
      "training loop:   0% |                                  | ETA:  32 days, 0:45:33\r"
     ]
    },
    {
     "name": "stdout",
     "output_type": "stream",
     "text": [
      "Episode: 17   score: 2.38   Avg score (100e): 2.18   actor gain: -0.49   critic loss: 0.57   steps: 17\n"
     ]
    },
    {
     "name": "stderr",
     "output_type": "stream",
     "text": [
      "training loop:   0% |                                  | ETA:  32 days, 5:58:44\r"
     ]
    },
    {
     "name": "stdout",
     "output_type": "stream",
     "text": [
      "Episode: 18   score: 2.44   Avg score (100e): 2.19   actor gain: -0.49   critic loss: 0.57   steps: 18\n"
     ]
    },
    {
     "name": "stderr",
     "output_type": "stream",
     "text": [
      "training loop:   0% |                                 | ETA:  32 days, 13:20:49\r"
     ]
    },
    {
     "name": "stdout",
     "output_type": "stream",
     "text": [
      "Episode: 19   score: 2.50   Avg score (100e): 2.21   actor gain: -0.49   critic loss: 0.56   steps: 19\n"
     ]
    },
    {
     "name": "stderr",
     "output_type": "stream",
     "text": [
      "training loop:   0% |                                 | ETA:  32 days, 18:04:20\r"
     ]
    },
    {
     "name": "stdout",
     "output_type": "stream",
     "text": [
      "Episode: 20   score: 2.54   Avg score (100e): 2.22   actor gain: -0.49   critic loss: 0.56   steps: 20\n"
     ]
    },
    {
     "name": "stderr",
     "output_type": "stream",
     "text": [
      "training loop:   0% |                                 | ETA:  32 days, 23:28:19\r"
     ]
    },
    {
     "name": "stdout",
     "output_type": "stream",
     "text": [
      "Episode: 21   score: 2.62   Avg score (100e): 2.24   actor gain: -0.49   critic loss: 0.55   steps: 21\n"
     ]
    },
    {
     "name": "stderr",
     "output_type": "stream",
     "text": [
      "training loop:   0% |                                 | ETA:  32 days, 22:19:40\r"
     ]
    },
    {
     "name": "stdout",
     "output_type": "stream",
     "text": [
      "Episode: 22   score: 2.63   Avg score (100e): 2.26   actor gain: -0.49   critic loss: 0.55   steps: 22\n"
     ]
    },
    {
     "name": "stderr",
     "output_type": "stream",
     "text": [
      "training loop:   0% |                                 | ETA:  32 days, 22:59:11\r"
     ]
    },
    {
     "name": "stdout",
     "output_type": "stream",
     "text": [
      "Episode: 23   score: 2.62   Avg score (100e): 2.28   actor gain: -0.49   critic loss: 0.54   steps: 23\n"
     ]
    },
    {
     "name": "stderr",
     "output_type": "stream",
     "text": [
      "training loop:   0% |                                 | ETA:  32 days, 21:41:23\r"
     ]
    },
    {
     "name": "stdout",
     "output_type": "stream",
     "text": [
      "Episode: 24   score: 2.65   Avg score (100e): 2.29   actor gain: -0.49   critic loss: 0.54   steps: 24\n"
     ]
    },
    {
     "name": "stderr",
     "output_type": "stream",
     "text": [
      "training loop:   0% |                                 | ETA:  32 days, 21:32:49\r"
     ]
    },
    {
     "name": "stdout",
     "output_type": "stream",
     "text": [
      "Episode: 25   score: 2.67   Avg score (100e): 2.31   actor gain: -0.48   critic loss: 0.54   steps: 25\n"
     ]
    },
    {
     "name": "stderr",
     "output_type": "stream",
     "text": [
      "training loop:   0% |                                 | ETA:  32 days, 22:08:03\r"
     ]
    },
    {
     "name": "stdout",
     "output_type": "stream",
     "text": [
      "Episode: 26   score: 2.71   Avg score (100e): 2.32   actor gain: -0.48   critic loss: 0.51   steps: 26\n"
     ]
    },
    {
     "name": "stderr",
     "output_type": "stream",
     "text": [
      "training loop:   0% |                                  | ETA:  33 days, 2:21:06\r"
     ]
    },
    {
     "name": "stdout",
     "output_type": "stream",
     "text": [
      "Episode: 27   score: 2.80   Avg score (100e): 2.34   actor gain: -0.48   critic loss: 0.50   steps: 27\n"
     ]
    },
    {
     "name": "stderr",
     "output_type": "stream",
     "text": [
      "training loop:   0% |                                  | ETA:  33 days, 3:53:47\r"
     ]
    },
    {
     "name": "stdout",
     "output_type": "stream",
     "text": [
      "Episode: 28   score: 2.84   Avg score (100e): 2.36   actor gain: -0.48   critic loss: 0.49   steps: 28\n"
     ]
    },
    {
     "name": "stderr",
     "output_type": "stream",
     "text": [
      "training loop:   0% |                                  | ETA:  33 days, 6:59:36\r"
     ]
    },
    {
     "name": "stdout",
     "output_type": "stream",
     "text": [
      "Episode: 29   score: 2.88   Avg score (100e): 2.38   actor gain: -0.48   critic loss: 0.48   steps: 29\n"
     ]
    },
    {
     "name": "stderr",
     "output_type": "stream",
     "text": [
      "training loop:   0% |                                 | ETA:  33 days, 10:03:50\r"
     ]
    },
    {
     "name": "stdout",
     "output_type": "stream",
     "text": [
      "Episode: 30   score: 2.91   Avg score (100e): 2.39   actor gain: -0.48   critic loss: 0.47   steps: 30\n"
     ]
    },
    {
     "name": "stderr",
     "output_type": "stream",
     "text": [
      "training loop:   0% |                                 | ETA:  33 days, 11:58:29\r"
     ]
    },
    {
     "name": "stdout",
     "output_type": "stream",
     "text": [
      "Episode: 31   score: 2.93   Avg score (100e): 2.41   actor gain: -0.48   critic loss: 0.47   steps: 31\n"
     ]
    },
    {
     "name": "stderr",
     "output_type": "stream",
     "text": [
      "training loop:   0% |                                 | ETA:  33 days, 15:55:03\r"
     ]
    },
    {
     "name": "stdout",
     "output_type": "stream",
     "text": [
      "Episode: 32   score: 2.96   Avg score (100e): 2.43   actor gain: -0.48   critic loss: 0.47   steps: 32\n"
     ]
    },
    {
     "name": "stderr",
     "output_type": "stream",
     "text": [
      "training loop:   0% |                                 | ETA:  33 days, 21:51:40\r"
     ]
    },
    {
     "name": "stdout",
     "output_type": "stream",
     "text": [
      "Episode: 33   score: 3.00   Avg score (100e): 2.45   actor gain: -0.48   critic loss: 0.47   steps: 33\n"
     ]
    },
    {
     "name": "stderr",
     "output_type": "stream",
     "text": [
      "training loop:   0% |                                  | ETA:  34 days, 0:40:58\r"
     ]
    },
    {
     "name": "stdout",
     "output_type": "stream",
     "text": [
      "Episode: 34   score: 3.02   Avg score (100e): 2.46   actor gain: -0.48   critic loss: 0.46   steps: 34\n"
     ]
    },
    {
     "name": "stderr",
     "output_type": "stream",
     "text": [
      "training loop:   0% |                                 | ETA:  33 days, 23:44:10\r"
     ]
    },
    {
     "name": "stdout",
     "output_type": "stream",
     "text": [
      "Episode: 35   score: 3.01   Avg score (100e): 2.48   actor gain: -0.48   critic loss: 0.46   steps: 35\n"
     ]
    },
    {
     "name": "stderr",
     "output_type": "stream",
     "text": [
      "training loop:   0% |                                 | ETA:  33 days, 23:21:43\r"
     ]
    },
    {
     "name": "stdout",
     "output_type": "stream",
     "text": [
      "Episode: 36   score: 3.05   Avg score (100e): 2.49   actor gain: -0.47   critic loss: 0.46   steps: 36\n"
     ]
    },
    {
     "name": "stderr",
     "output_type": "stream",
     "text": [
      "training loop:   0% |                                 | ETA:  33 days, 23:31:51\r"
     ]
    },
    {
     "name": "stdout",
     "output_type": "stream",
     "text": [
      "Episode: 37   score: 3.09   Avg score (100e): 2.51   actor gain: -0.47   critic loss: 0.46   steps: 37\n"
     ]
    },
    {
     "name": "stderr",
     "output_type": "stream",
     "text": [
      "training loop:   0% |                                  | ETA:  34 days, 1:40:00\r"
     ]
    },
    {
     "name": "stdout",
     "output_type": "stream",
     "text": [
      "Episode: 38   score: 3.14   Avg score (100e): 2.53   actor gain: -0.47   critic loss: 0.46   steps: 38\n"
     ]
    },
    {
     "name": "stderr",
     "output_type": "stream",
     "text": [
      "training loop:   0% |                                  | ETA:  34 days, 1:06:21\r"
     ]
    },
    {
     "name": "stdout",
     "output_type": "stream",
     "text": [
      "Episode: 39   score: 3.19   Avg score (100e): 2.54   actor gain: -0.47   critic loss: 0.46   steps: 39\n"
     ]
    },
    {
     "name": "stderr",
     "output_type": "stream",
     "text": [
      "training loop:   0% |                                  | ETA:  34 days, 1:05:23\r"
     ]
    },
    {
     "name": "stdout",
     "output_type": "stream",
     "text": [
      "Episode: 40   score: 3.25   Avg score (100e): 2.56   actor gain: -0.47   critic loss: 0.46   steps: 40\n"
     ]
    },
    {
     "name": "stderr",
     "output_type": "stream",
     "text": [
      "training loop:   0% |                                  | ETA:  34 days, 0:51:03\r"
     ]
    },
    {
     "name": "stdout",
     "output_type": "stream",
     "text": [
      "Episode: 41   score: 3.29   Avg score (100e): 2.58   actor gain: -0.47   critic loss: 0.46   steps: 41\n"
     ]
    },
    {
     "name": "stderr",
     "output_type": "stream",
     "text": [
      "training loop:   0% |                                  | ETA:  34 days, 5:19:38\r"
     ]
    },
    {
     "name": "stdout",
     "output_type": "stream",
     "text": [
      "Episode: 42   score: 3.32   Avg score (100e): 2.60   actor gain: -2.32   critic loss: 0.46   steps: 42\n"
     ]
    },
    {
     "name": "stderr",
     "output_type": "stream",
     "text": [
      "training loop:   0% |                                  | ETA:  34 days, 4:19:24\r"
     ]
    },
    {
     "name": "stdout",
     "output_type": "stream",
     "text": [
      "Episode: 43   score: 3.39   Avg score (100e): 2.61   actor gain: -2.32   critic loss: 0.46   steps: 43\n"
     ]
    },
    {
     "name": "stderr",
     "output_type": "stream",
     "text": [
      "training loop:   0% |                                  | ETA:  34 days, 4:13:47\r"
     ]
    },
    {
     "name": "stdout",
     "output_type": "stream",
     "text": [
      "Episode: 44   score: 3.42   Avg score (100e): 2.63   actor gain: -2.32   critic loss: 0.45   steps: 44\n"
     ]
    },
    {
     "name": "stderr",
     "output_type": "stream",
     "text": [
      "training loop:   0% |                                  | ETA:  34 days, 3:06:03\r"
     ]
    },
    {
     "name": "stdout",
     "output_type": "stream",
     "text": [
      "Episode: 45   score: 3.42   Avg score (100e): 2.65   actor gain: -2.32   critic loss: 0.46   steps: 45\n"
     ]
    },
    {
     "name": "stderr",
     "output_type": "stream",
     "text": [
      "training loop:   0% |                                  | ETA:  34 days, 3:03:48\r"
     ]
    },
    {
     "name": "stdout",
     "output_type": "stream",
     "text": [
      "Episode: 46   score: 3.49   Avg score (100e): 2.67   actor gain: -2.32   critic loss: 0.46   steps: 46\n"
     ]
    },
    {
     "name": "stderr",
     "output_type": "stream",
     "text": [
      "training loop:   0% |                                  | ETA:  34 days, 2:18:54\r"
     ]
    },
    {
     "name": "stdout",
     "output_type": "stream",
     "text": [
      "Episode: 47   score: 3.50   Avg score (100e): 2.69   actor gain: -2.32   critic loss: 0.46   steps: 47\n"
     ]
    },
    {
     "name": "stderr",
     "output_type": "stream",
     "text": [
      "training loop:   0% |                                  | ETA:  34 days, 2:28:04\r"
     ]
    },
    {
     "name": "stdout",
     "output_type": "stream",
     "text": [
      "Episode: 48   score: 3.57   Avg score (100e): 2.70   actor gain: -2.32   critic loss: 0.46   steps: 48\n"
     ]
    },
    {
     "name": "stderr",
     "output_type": "stream",
     "text": [
      "training loop:   0% |                                  | ETA:  34 days, 2:27:22\r"
     ]
    },
    {
     "name": "stdout",
     "output_type": "stream",
     "text": [
      "Episode: 49   score: 3.62   Avg score (100e): 2.72   actor gain: -2.32   critic loss: 0.46   steps: 49\n"
     ]
    },
    {
     "name": "stderr",
     "output_type": "stream",
     "text": [
      "training loop:   0% |                                  | ETA:  34 days, 3:29:37\r"
     ]
    },
    {
     "name": "stdout",
     "output_type": "stream",
     "text": [
      "Episode: 50   score: 3.64   Avg score (100e): 2.74   actor gain: -2.32   critic loss: 0.46   steps: 50\n"
     ]
    },
    {
     "name": "stderr",
     "output_type": "stream",
     "text": [
      "training loop:   0% |                                  | ETA:  34 days, 4:44:36\r"
     ]
    },
    {
     "name": "stdout",
     "output_type": "stream",
     "text": [
      "Episode: 51   score: 3.69   Avg score (100e): 2.76   actor gain: -2.32   critic loss: 0.46   steps: 51\n"
     ]
    },
    {
     "name": "stderr",
     "output_type": "stream",
     "text": [
      "training loop:   0% |                                  | ETA:  34 days, 4:31:44\r"
     ]
    },
    {
     "name": "stdout",
     "output_type": "stream",
     "text": [
      "Episode: 52   score: 3.70   Avg score (100e): 2.78   actor gain: -2.32   critic loss: 0.46   steps: 52\n"
     ]
    },
    {
     "name": "stderr",
     "output_type": "stream",
     "text": [
      "training loop:   0% |                                  | ETA:  34 days, 4:17:24\r"
     ]
    },
    {
     "name": "stdout",
     "output_type": "stream",
     "text": [
      "Episode: 53   score: 3.73   Avg score (100e): 2.80   actor gain: -2.32   critic loss: 0.45   steps: 53\n"
     ]
    },
    {
     "name": "stderr",
     "output_type": "stream",
     "text": [
      "training loop:   0% |                                  | ETA:  34 days, 4:03:14\r"
     ]
    },
    {
     "name": "stdout",
     "output_type": "stream",
     "text": [
      "Episode: 54   score: 3.77   Avg score (100e): 2.81   actor gain: -2.32   critic loss: 0.45   steps: 54\n"
     ]
    },
    {
     "name": "stderr",
     "output_type": "stream",
     "text": [
      "training loop:   0% |                                  | ETA:  34 days, 3:20:56\r"
     ]
    },
    {
     "name": "stdout",
     "output_type": "stream",
     "text": [
      "Episode: 55   score: 3.80   Avg score (100e): 2.83   actor gain: -2.32   critic loss: 0.45   steps: 55\n"
     ]
    },
    {
     "name": "stderr",
     "output_type": "stream",
     "text": [
      "training loop:   0% |                                  | ETA:  34 days, 3:14:09\r"
     ]
    },
    {
     "name": "stdout",
     "output_type": "stream",
     "text": [
      "Episode: 56   score: 3.86   Avg score (100e): 2.85   actor gain: -2.32   critic loss: 0.45   steps: 56\n"
     ]
    },
    {
     "name": "stderr",
     "output_type": "stream",
     "text": [
      "training loop:   0% |                                  | ETA:  34 days, 3:22:02\r"
     ]
    },
    {
     "name": "stdout",
     "output_type": "stream",
     "text": [
      "Episode: 57   score: 3.89   Avg score (100e): 2.87   actor gain: -2.33   critic loss: 0.45   steps: 57\n"
     ]
    },
    {
     "name": "stderr",
     "output_type": "stream",
     "text": [
      "training loop:   0% |                                  | ETA:  34 days, 3:17:12\r"
     ]
    },
    {
     "name": "stdout",
     "output_type": "stream",
     "text": [
      "Episode: 58   score: 3.92   Avg score (100e): 2.89   actor gain: -2.32   critic loss: 0.45   steps: 58\n"
     ]
    },
    {
     "name": "stderr",
     "output_type": "stream",
     "text": [
      "training loop:   0% |                                  | ETA:  34 days, 3:33:39\r"
     ]
    },
    {
     "name": "stdout",
     "output_type": "stream",
     "text": [
      "Episode: 59   score: 3.97   Avg score (100e): 2.90   actor gain: -2.33   critic loss: 0.45   steps: 59\n"
     ]
    },
    {
     "name": "stderr",
     "output_type": "stream",
     "text": [
      "training loop:   0% |                                  | ETA:  34 days, 0:30:36\r"
     ]
    },
    {
     "name": "stdout",
     "output_type": "stream",
     "text": [
      "Episode: 60   score: 3.98   Avg score (100e): 2.92   actor gain: -2.32   critic loss: 0.45   steps: 60\n"
     ]
    },
    {
     "name": "stderr",
     "output_type": "stream",
     "text": [
      "training loop:   0% |                                 | ETA:  33 days, 21:49:21\r"
     ]
    },
    {
     "name": "stdout",
     "output_type": "stream",
     "text": [
      "Episode: 61   score: 4.00   Avg score (100e): 2.94   actor gain: -2.32   critic loss: 0.45   steps: 61\n"
     ]
    },
    {
     "name": "stderr",
     "output_type": "stream",
     "text": [
      "training loop:   0% |                                 | ETA:  33 days, 17:41:31\r"
     ]
    },
    {
     "name": "stdout",
     "output_type": "stream",
     "text": [
      "Episode: 62   score: 4.03   Avg score (100e): 2.96   actor gain: -2.32   critic loss: 0.45   steps: 62\n"
     ]
    },
    {
     "name": "stderr",
     "output_type": "stream",
     "text": [
      "training loop:   0% |                                 | ETA:  33 days, 14:27:35\r"
     ]
    },
    {
     "name": "stdout",
     "output_type": "stream",
     "text": [
      "Episode: 63   score: 4.09   Avg score (100e): 2.98   actor gain: -2.32   critic loss: 0.45   steps: 63\n"
     ]
    },
    {
     "name": "stderr",
     "output_type": "stream",
     "text": [
      "training loop:   0% |                                 | ETA:  33 days, 12:59:18\r"
     ]
    },
    {
     "name": "stdout",
     "output_type": "stream",
     "text": [
      "Episode: 64   score: 4.12   Avg score (100e): 2.99   actor gain: -2.32   critic loss: 0.44   steps: 64\n"
     ]
    },
    {
     "name": "stderr",
     "output_type": "stream",
     "text": [
      "training loop:   0% |                                 | ETA:  33 days, 13:05:17\r"
     ]
    },
    {
     "name": "stdout",
     "output_type": "stream",
     "text": [
      "Episode: 65   score: 4.16   Avg score (100e): 3.01   actor gain: -2.33   critic loss: 0.44   steps: 65\n"
     ]
    },
    {
     "name": "stderr",
     "output_type": "stream",
     "text": [
      "training loop:   0% |                                 | ETA:  33 days, 11:41:07\r"
     ]
    },
    {
     "name": "stdout",
     "output_type": "stream",
     "text": [
      "Episode: 66   score: 4.19   Avg score (100e): 3.03   actor gain: -2.33   critic loss: 0.44   steps: 66\n"
     ]
    },
    {
     "name": "stderr",
     "output_type": "stream",
     "text": [
      "training loop:   0% |                                  | ETA:  33 days, 9:42:23\r"
     ]
    },
    {
     "name": "stdout",
     "output_type": "stream",
     "text": [
      "Episode: 67   score: 4.22   Avg score (100e): 3.05   actor gain: -0.48   critic loss: 0.44   steps: 67\n"
     ]
    },
    {
     "name": "stderr",
     "output_type": "stream",
     "text": [
      "training loop:   0% |                                  | ETA:  33 days, 7:57:03\r"
     ]
    },
    {
     "name": "stdout",
     "output_type": "stream",
     "text": [
      "Episode: 68   score: 4.21   Avg score (100e): 3.06   actor gain: -0.48   critic loss: 0.44   steps: 68\n"
     ]
    },
    {
     "name": "stderr",
     "output_type": "stream",
     "text": [
      "training loop:   0% |                                  | ETA:  33 days, 4:40:38\r"
     ]
    },
    {
     "name": "stdout",
     "output_type": "stream",
     "text": [
      "Episode: 69   score: 4.24   Avg score (100e): 3.08   actor gain: -0.48   critic loss: 0.44   steps: 69\n"
     ]
    },
    {
     "name": "stderr",
     "output_type": "stream",
     "text": [
      "training loop:   0% |                                  | ETA:  33 days, 2:16:52\r"
     ]
    },
    {
     "name": "stdout",
     "output_type": "stream",
     "text": [
      "Episode: 70   score: 4.29   Avg score (100e): 3.10   actor gain: -0.48   critic loss: 0.44   steps: 70\n"
     ]
    },
    {
     "name": "stderr",
     "output_type": "stream",
     "text": [
      "training loop:   0% |                                  | ETA:  33 days, 0:26:22\r"
     ]
    },
    {
     "name": "stdout",
     "output_type": "stream",
     "text": [
      "Episode: 71   score: 4.31   Avg score (100e): 3.12   actor gain: -0.48   critic loss: 0.44   steps: 71\n"
     ]
    },
    {
     "name": "stderr",
     "output_type": "stream",
     "text": [
      "training loop:   0% |                                 | ETA:  32 days, 22:36:42\r"
     ]
    },
    {
     "name": "stdout",
     "output_type": "stream",
     "text": [
      "Episode: 72   score: 4.34   Avg score (100e): 3.13   actor gain: -0.48   critic loss: 0.44   steps: 72\n"
     ]
    },
    {
     "name": "stderr",
     "output_type": "stream",
     "text": [
      "training loop:   0% |                                 | ETA:  32 days, 19:58:39\r"
     ]
    },
    {
     "name": "stdout",
     "output_type": "stream",
     "text": [
      "Episode: 73   score: 4.35   Avg score (100e): 3.15   actor gain: -0.48   critic loss: 0.44   steps: 73\n"
     ]
    },
    {
     "name": "stderr",
     "output_type": "stream",
     "text": [
      "training loop:   0% |                                 | ETA:  32 days, 19:54:32\r"
     ]
    },
    {
     "name": "stdout",
     "output_type": "stream",
     "text": [
      "Episode: 74   score: 4.39   Avg score (100e): 3.17   actor gain: -0.48   critic loss: 0.43   steps: 74\n"
     ]
    },
    {
     "name": "stderr",
     "output_type": "stream",
     "text": [
      "training loop:   0% |                                 | ETA:  32 days, 17:23:42\r"
     ]
    },
    {
     "name": "stdout",
     "output_type": "stream",
     "text": [
      "Episode: 75   score: 4.42   Avg score (100e): 3.18   actor gain: -0.49   critic loss: 0.43   steps: 75\n"
     ]
    },
    {
     "name": "stderr",
     "output_type": "stream",
     "text": [
      "training loop:   0% |                                 | ETA:  32 days, 15:46:35\r"
     ]
    },
    {
     "name": "stdout",
     "output_type": "stream",
     "text": [
      "Episode: 76   score: 4.45   Avg score (100e): 3.20   actor gain: -0.49   critic loss: 0.43   steps: 76\n"
     ]
    },
    {
     "name": "stderr",
     "output_type": "stream",
     "text": [
      "training loop:   0% |                                 | ETA:  32 days, 14:15:45\r"
     ]
    },
    {
     "name": "stdout",
     "output_type": "stream",
     "text": [
      "Episode: 77   score: 4.46   Avg score (100e): 3.22   actor gain: -0.49   critic loss: 0.43   steps: 77\n"
     ]
    },
    {
     "name": "stderr",
     "output_type": "stream",
     "text": [
      "training loop:   0% |                                 | ETA:  32 days, 11:56:20\r"
     ]
    },
    {
     "name": "stdout",
     "output_type": "stream",
     "text": [
      "Episode: 78   score: 4.47   Avg score (100e): 3.23   actor gain: -0.49   critic loss: 0.43   steps: 78\n"
     ]
    },
    {
     "name": "stderr",
     "output_type": "stream",
     "text": [
      "training loop:   0% |                                  | ETA:  32 days, 9:04:08\r"
     ]
    },
    {
     "name": "stdout",
     "output_type": "stream",
     "text": [
      "Episode: 79   score: 4.49   Avg score (100e): 3.25   actor gain: -0.49   critic loss: 0.43   steps: 79\n"
     ]
    },
    {
     "name": "stderr",
     "output_type": "stream",
     "text": [
      "training loop:   0% |                                  | ETA:  32 days, 6:37:53\r"
     ]
    },
    {
     "name": "stdout",
     "output_type": "stream",
     "text": [
      "Episode: 80   score: 4.51   Avg score (100e): 3.26   actor gain: -0.49   critic loss: 0.43   steps: 80\n"
     ]
    },
    {
     "name": "stderr",
     "output_type": "stream",
     "text": [
      "training loop:   0% |                                  | ETA:  32 days, 3:59:57\r"
     ]
    },
    {
     "name": "stdout",
     "output_type": "stream",
     "text": [
      "Episode: 81   score: 4.54   Avg score (100e): 3.28   actor gain: -0.49   critic loss: 0.43   steps: 81\n"
     ]
    },
    {
     "name": "stderr",
     "output_type": "stream",
     "text": [
      "training loop:   0% |                                  | ETA:  32 days, 1:06:20\r"
     ]
    },
    {
     "name": "stdout",
     "output_type": "stream",
     "text": [
      "Episode: 82   score: 4.56   Avg score (100e): 3.30   actor gain: -0.49   critic loss: 0.43   steps: 82\n"
     ]
    },
    {
     "name": "stderr",
     "output_type": "stream",
     "text": [
      "training loop:   0% |                                 | ETA:  31 days, 23:13:45\r"
     ]
    },
    {
     "name": "stdout",
     "output_type": "stream",
     "text": [
      "Episode: 83   score: 4.59   Avg score (100e): 3.31   actor gain: -0.49   critic loss: 0.43   steps: 83\n"
     ]
    },
    {
     "name": "stderr",
     "output_type": "stream",
     "text": [
      "training loop:   0% |                                 | ETA:  31 days, 20:47:31\r"
     ]
    },
    {
     "name": "stdout",
     "output_type": "stream",
     "text": [
      "Episode: 84   score: 4.60   Avg score (100e): 3.33   actor gain: -0.49   critic loss: 0.43   steps: 84\n"
     ]
    },
    {
     "name": "stderr",
     "output_type": "stream",
     "text": [
      "training loop:   0% |                                 | ETA:  31 days, 19:53:15\r"
     ]
    },
    {
     "name": "stdout",
     "output_type": "stream",
     "text": [
      "Episode: 85   score: 4.63   Avg score (100e): 3.34   actor gain: -0.49   critic loss: 0.43   steps: 85\n"
     ]
    },
    {
     "name": "stderr",
     "output_type": "stream",
     "text": [
      "training loop:   0% |                                 | ETA:  31 days, 19:18:40\r"
     ]
    },
    {
     "name": "stdout",
     "output_type": "stream",
     "text": [
      "Episode: 86   score: 4.65   Avg score (100e): 3.36   actor gain: -0.49   critic loss: 0.43   steps: 86\n"
     ]
    },
    {
     "name": "stderr",
     "output_type": "stream",
     "text": [
      "training loop:   0% |                                 | ETA:  31 days, 16:37:32\r"
     ]
    },
    {
     "name": "stdout",
     "output_type": "stream",
     "text": [
      "Episode: 87   score: 4.65   Avg score (100e): 3.37   actor gain: -0.49   critic loss: 0.43   steps: 87\n"
     ]
    },
    {
     "name": "stderr",
     "output_type": "stream",
     "text": [
      "training loop:   0% |                                 | ETA:  31 days, 13:40:10\r"
     ]
    },
    {
     "name": "stdout",
     "output_type": "stream",
     "text": [
      "Episode: 88   score: 4.66   Avg score (100e): 3.39   actor gain: -0.49   critic loss: 0.43   steps: 88\n"
     ]
    },
    {
     "name": "stderr",
     "output_type": "stream",
     "text": [
      "training loop:   0% |                                 | ETA:  31 days, 11:40:56\r"
     ]
    },
    {
     "name": "stdout",
     "output_type": "stream",
     "text": [
      "Episode: 89   score: 4.69   Avg score (100e): 3.40   actor gain: -0.49   critic loss: 0.43   steps: 89\n"
     ]
    },
    {
     "name": "stderr",
     "output_type": "stream",
     "text": [
      "training loop:   0% |                                 | ETA:  31 days, 11:01:01\r"
     ]
    },
    {
     "name": "stdout",
     "output_type": "stream",
     "text": [
      "Episode: 90   score: 4.71   Avg score (100e): 3.42   actor gain: -0.49   critic loss: 0.43   steps: 90\n"
     ]
    },
    {
     "name": "stderr",
     "output_type": "stream",
     "text": [
      "training loop:   0% |                                  | ETA:  31 days, 9:43:21\r"
     ]
    },
    {
     "name": "stdout",
     "output_type": "stream",
     "text": [
      "Episode: 91   score: 4.73   Avg score (100e): 3.43   actor gain: -0.49   critic loss: 0.43   steps: 91\n"
     ]
    },
    {
     "name": "stderr",
     "output_type": "stream",
     "text": [
      "training loop:   0% |                                  | ETA:  31 days, 6:48:56\r"
     ]
    },
    {
     "name": "stdout",
     "output_type": "stream",
     "text": [
      "Episode: 92   score: 4.72   Avg score (100e): 3.44   actor gain: -0.49   critic loss: 0.42   steps: 92\n"
     ]
    },
    {
     "name": "stderr",
     "output_type": "stream",
     "text": [
      "training loop:   0% |                                  | ETA:  31 days, 4:18:49\r"
     ]
    },
    {
     "name": "stdout",
     "output_type": "stream",
     "text": [
      "Episode: 93   score: 4.75   Avg score (100e): 3.46   actor gain: -0.49   critic loss: 0.42   steps: 93\n"
     ]
    },
    {
     "name": "stderr",
     "output_type": "stream",
     "text": [
      "training loop:   0% |                                  | ETA:  31 days, 1:53:24\r"
     ]
    },
    {
     "name": "stdout",
     "output_type": "stream",
     "text": [
      "Episode: 94   score: 4.78   Avg score (100e): 3.47   actor gain: -0.49   critic loss: 0.42   steps: 94\n"
     ]
    },
    {
     "name": "stderr",
     "output_type": "stream",
     "text": [
      "training loop:   0% |                                 | ETA:  30 days, 23:14:29\r"
     ]
    },
    {
     "name": "stdout",
     "output_type": "stream",
     "text": [
      "Episode: 95   score: 4.83   Avg score (100e): 3.49   actor gain: -0.48   critic loss: 0.42   steps: 95\n"
     ]
    },
    {
     "name": "stderr",
     "output_type": "stream",
     "text": [
      "training loop:   0% |                                 | ETA:  30 days, 20:55:46\r"
     ]
    },
    {
     "name": "stdout",
     "output_type": "stream",
     "text": [
      "Episode: 96   score: 4.86   Avg score (100e): 3.50   actor gain: -0.48   critic loss: 0.42   steps: 96\n"
     ]
    },
    {
     "name": "stderr",
     "output_type": "stream",
     "text": [
      "training loop:   0% |                                 | ETA:  30 days, 18:52:05\r"
     ]
    },
    {
     "name": "stdout",
     "output_type": "stream",
     "text": [
      "Episode: 97   score: 4.89   Avg score (100e): 3.52   actor gain: -0.48   critic loss: 0.42   steps: 97\n"
     ]
    },
    {
     "name": "stderr",
     "output_type": "stream",
     "text": [
      "training loop:   0% |                                 | ETA:  30 days, 16:39:30\r"
     ]
    },
    {
     "name": "stdout",
     "output_type": "stream",
     "text": [
      "Episode: 98   score: 4.90   Avg score (100e): 3.53   actor gain: -0.48   critic loss: 0.42   steps: 98\n"
     ]
    },
    {
     "name": "stderr",
     "output_type": "stream",
     "text": [
      "training loop:   0% |                                 | ETA:  30 days, 14:39:20\r"
     ]
    },
    {
     "name": "stdout",
     "output_type": "stream",
     "text": [
      "Episode: 99   score: 4.93   Avg score (100e): 3.54   actor gain: -0.48   critic loss: 0.42   steps: 99\n"
     ]
    },
    {
     "name": "stderr",
     "output_type": "stream",
     "text": [
      "training loop:   0% |                                 | ETA:  30 days, 12:17:34\r"
     ]
    },
    {
     "name": "stdout",
     "output_type": "stream",
     "text": [
      "Episode: 100   score: 4.95   Avg score (100e): 3.56   actor gain: -0.48   critic loss: 0.42   steps: 100\n"
     ]
    },
    {
     "name": "stderr",
     "output_type": "stream",
     "text": [
      "training loop:   0% |                                 | ETA:  30 days, 11:56:50\r"
     ]
    },
    {
     "name": "stdout",
     "output_type": "stream",
     "text": [
      "Episode: 101   score: 4.96   Avg score (100e): 3.59   actor gain: -0.48   critic loss: 0.42   steps: 101\n"
     ]
    },
    {
     "name": "stderr",
     "output_type": "stream",
     "text": [
      "training loop:   0% |                                  | ETA:  30 days, 9:58:52\r"
     ]
    },
    {
     "name": "stdout",
     "output_type": "stream",
     "text": [
      "Episode: 102   score: 4.98   Avg score (100e): 3.62   actor gain: -0.48   critic loss: 0.42   steps: 102\n"
     ]
    },
    {
     "name": "stderr",
     "output_type": "stream",
     "text": [
      "training loop:   0% |                                  | ETA:  30 days, 7:38:46\r"
     ]
    },
    {
     "name": "stdout",
     "output_type": "stream",
     "text": [
      "Episode: 103   score: 4.98   Avg score (100e): 3.64   actor gain: -0.48   critic loss: 0.42   steps: 103\n"
     ]
    },
    {
     "name": "stderr",
     "output_type": "stream",
     "text": [
      "training loop:   0% |                                  | ETA:  30 days, 5:47:42\r"
     ]
    },
    {
     "name": "stdout",
     "output_type": "stream",
     "text": [
      "Episode: 104   score: 5.00   Avg score (100e): 3.67   actor gain: -0.49   critic loss: 0.42   steps: 104\n"
     ]
    },
    {
     "name": "stderr",
     "output_type": "stream",
     "text": [
      "training loop:   0% |                                  | ETA:  30 days, 4:08:18\r"
     ]
    },
    {
     "name": "stdout",
     "output_type": "stream",
     "text": [
      "Episode: 105   score: 5.04   Avg score (100e): 3.70   actor gain: -0.49   critic loss: 0.42   steps: 105\n"
     ]
    },
    {
     "name": "stderr",
     "output_type": "stream",
     "text": [
      "training loop:   0% |                                  | ETA:  30 days, 2:33:12\r"
     ]
    },
    {
     "name": "stdout",
     "output_type": "stream",
     "text": [
      "Episode: 106   score: 5.04   Avg score (100e): 3.73   actor gain: -0.49   critic loss: 0.42   steps: 106\n"
     ]
    },
    {
     "name": "stderr",
     "output_type": "stream",
     "text": [
      "training loop:   0% |                                  | ETA:  30 days, 2:36:20\r"
     ]
    },
    {
     "name": "stdout",
     "output_type": "stream",
     "text": [
      "Episode: 107   score: 5.06   Avg score (100e): 3.76   actor gain: -0.49   critic loss: 0.42   steps: 107\n"
     ]
    },
    {
     "name": "stderr",
     "output_type": "stream",
     "text": [
      "training loop:   0% |                                  | ETA:  30 days, 1:22:15\r"
     ]
    },
    {
     "name": "stdout",
     "output_type": "stream",
     "text": [
      "Episode: 108   score: 5.11   Avg score (100e): 3.79   actor gain: -0.49   critic loss: 0.42   steps: 108\n"
     ]
    },
    {
     "name": "stderr",
     "output_type": "stream",
     "text": [
      "training loop:   0% |                                 | ETA:  29 days, 23:42:10\r"
     ]
    },
    {
     "name": "stdout",
     "output_type": "stream",
     "text": [
      "Episode: 109   score: 5.13   Avg score (100e): 3.83   actor gain: -0.49   critic loss: 0.42   steps: 109\n"
     ]
    },
    {
     "name": "stderr",
     "output_type": "stream",
     "text": [
      "training loop:   0% |                                 | ETA:  29 days, 21:47:52\r"
     ]
    },
    {
     "name": "stdout",
     "output_type": "stream",
     "text": [
      "Episode: 110   score: 5.15   Avg score (100e): 3.86   actor gain: -0.49   critic loss: 0.42   steps: 110\n"
     ]
    },
    {
     "name": "stderr",
     "output_type": "stream",
     "text": [
      "training loop:   0% |                                 | ETA:  29 days, 20:06:43\r"
     ]
    },
    {
     "name": "stdout",
     "output_type": "stream",
     "text": [
      "Episode: 111   score: 5.18   Avg score (100e): 3.88   actor gain: -0.49   critic loss: 0.42   steps: 111\n"
     ]
    },
    {
     "name": "stderr",
     "output_type": "stream",
     "text": [
      "training loop:   0% |                                 | ETA:  29 days, 18:54:19\r"
     ]
    },
    {
     "name": "stdout",
     "output_type": "stream",
     "text": [
      "Episode: 112   score: 5.20   Avg score (100e): 3.91   actor gain: -0.49   critic loss: 0.42   steps: 112\n"
     ]
    },
    {
     "name": "stderr",
     "output_type": "stream",
     "text": [
      "training loop:   0% |                                 | ETA:  29 days, 17:19:20\r"
     ]
    },
    {
     "name": "stdout",
     "output_type": "stream",
     "text": [
      "Episode: 113   score: 5.22   Avg score (100e): 3.94   actor gain: -0.49   critic loss: 0.42   steps: 113\n"
     ]
    },
    {
     "name": "stderr",
     "output_type": "stream",
     "text": [
      "training loop:   0% |                                 | ETA:  29 days, 15:37:37\r"
     ]
    },
    {
     "name": "stdout",
     "output_type": "stream",
     "text": [
      "Episode: 114   score: 5.24   Avg score (100e): 3.97   actor gain: -0.49   critic loss: 0.42   steps: 114\n"
     ]
    },
    {
     "name": "stderr",
     "output_type": "stream",
     "text": [
      "training loop:   0% |                                 | ETA:  29 days, 13:43:01\r"
     ]
    },
    {
     "name": "stdout",
     "output_type": "stream",
     "text": [
      "Episode: 115   score: 5.23   Avg score (100e): 4.00   actor gain: -0.49   critic loss: 0.42   steps: 115\n"
     ]
    },
    {
     "name": "stderr",
     "output_type": "stream",
     "text": [
      "training loop:   0% |                                 | ETA:  29 days, 11:40:43\r"
     ]
    },
    {
     "name": "stdout",
     "output_type": "stream",
     "text": [
      "Episode: 116   score: 5.25   Avg score (100e): 4.03   actor gain: -0.49   critic loss: 0.42   steps: 116\n"
     ]
    },
    {
     "name": "stderr",
     "output_type": "stream",
     "text": [
      "training loop:   0% |                                  | ETA:  29 days, 9:58:15\r"
     ]
    },
    {
     "name": "stdout",
     "output_type": "stream",
     "text": [
      "Episode: 117   score: 5.26   Avg score (100e): 4.06   actor gain: -0.49   critic loss: 0.42   steps: 117\n"
     ]
    },
    {
     "name": "stderr",
     "output_type": "stream",
     "text": [
      "training loop:   0% |                                  | ETA:  29 days, 9:40:25\r"
     ]
    },
    {
     "name": "stdout",
     "output_type": "stream",
     "text": [
      "Episode: 118   score: 5.29   Avg score (100e): 4.09   actor gain: -0.49   critic loss: 0.42   steps: 118\n"
     ]
    },
    {
     "name": "stderr",
     "output_type": "stream",
     "text": [
      "training loop:   0% |                                 | ETA:  29 days, 10:06:03\r"
     ]
    },
    {
     "name": "stdout",
     "output_type": "stream",
     "text": [
      "Episode: 119   score: 5.31   Avg score (100e): 4.11   actor gain: -0.50   critic loss: 0.42   steps: 119\n"
     ]
    },
    {
     "name": "stderr",
     "output_type": "stream",
     "text": [
      "training loop:   0% |                                  | ETA:  29 days, 9:07:14\r"
     ]
    },
    {
     "name": "stdout",
     "output_type": "stream",
     "text": [
      "Episode: 120   score: 5.33   Avg score (100e): 4.14   actor gain: -0.50   critic loss: 0.42   steps: 120\n"
     ]
    },
    {
     "name": "stderr",
     "output_type": "stream",
     "text": [
      "training loop:   0% |                                  | ETA:  29 days, 8:40:45\r"
     ]
    },
    {
     "name": "stdout",
     "output_type": "stream",
     "text": [
      "Episode: 121   score: 5.34   Avg score (100e): 4.17   actor gain: -0.50   critic loss: 0.42   steps: 121\n"
     ]
    },
    {
     "name": "stderr",
     "output_type": "stream",
     "text": [
      "training loop:   0% |                                  | ETA:  29 days, 9:02:35\r"
     ]
    },
    {
     "name": "stdout",
     "output_type": "stream",
     "text": [
      "Episode: 122   score: 5.36   Avg score (100e): 4.20   actor gain: -0.50   critic loss: 0.42   steps: 122\n"
     ]
    },
    {
     "name": "stderr",
     "output_type": "stream",
     "text": [
      "training loop:   0% |                                  | ETA:  29 days, 7:31:58\r"
     ]
    },
    {
     "name": "stdout",
     "output_type": "stream",
     "text": [
      "Episode: 123   score: 5.36   Avg score (100e): 4.22   actor gain: -0.50   critic loss: 0.42   steps: 123\n"
     ]
    },
    {
     "name": "stderr",
     "output_type": "stream",
     "text": [
      "training loop:   0% |                                  | ETA:  29 days, 6:38:25\r"
     ]
    },
    {
     "name": "stdout",
     "output_type": "stream",
     "text": [
      "Episode: 124   score: 5.36   Avg score (100e): 4.25   actor gain: -0.50   critic loss: 0.42   steps: 124\n"
     ]
    },
    {
     "name": "stderr",
     "output_type": "stream",
     "text": [
      "training loop:   0% |                                  | ETA:  29 days, 5:39:25\r"
     ]
    },
    {
     "name": "stdout",
     "output_type": "stream",
     "text": [
      "Episode: 125   score: 5.38   Avg score (100e): 4.28   actor gain: -0.50   critic loss: 0.42   steps: 125\n"
     ]
    },
    {
     "name": "stderr",
     "output_type": "stream",
     "text": [
      "training loop:   0% |                                  | ETA:  29 days, 4:51:10\r"
     ]
    },
    {
     "name": "stdout",
     "output_type": "stream",
     "text": [
      "Episode: 126   score: 5.41   Avg score (100e): 4.31   actor gain: -0.50   critic loss: 0.42   steps: 126\n"
     ]
    },
    {
     "name": "stderr",
     "output_type": "stream",
     "text": [
      "training loop:   0% |                                  | ETA:  29 days, 4:06:03\r"
     ]
    },
    {
     "name": "stdout",
     "output_type": "stream",
     "text": [
      "Episode: 127   score: 5.44   Avg score (100e): 4.33   actor gain: -0.50   critic loss: 0.42   steps: 127\n"
     ]
    },
    {
     "name": "stderr",
     "output_type": "stream",
     "text": [
      "training loop:   0% |                                  | ETA:  29 days, 4:21:57\r"
     ]
    },
    {
     "name": "stdout",
     "output_type": "stream",
     "text": [
      "Episode: 128   score: 5.45   Avg score (100e): 4.36   actor gain: -0.50   critic loss: 0.42   steps: 128\n"
     ]
    },
    {
     "name": "stderr",
     "output_type": "stream",
     "text": [
      "training loop:   0% |                                  | ETA:  29 days, 3:33:16\r"
     ]
    },
    {
     "name": "stdout",
     "output_type": "stream",
     "text": [
      "Episode: 129   score: 5.50   Avg score (100e): 4.38   actor gain: -0.48   critic loss: 0.42   steps: 129\n"
     ]
    },
    {
     "name": "stderr",
     "output_type": "stream",
     "text": [
      "training loop:   0% |                                  | ETA:  29 days, 2:44:24\r"
     ]
    },
    {
     "name": "stdout",
     "output_type": "stream",
     "text": [
      "Episode: 130   score: 5.51   Avg score (100e): 4.41   actor gain: -0.48   critic loss: 0.42   steps: 130\n"
     ]
    },
    {
     "name": "stderr",
     "output_type": "stream",
     "text": [
      "training loop:   0% |                                  | ETA:  29 days, 1:58:03\r"
     ]
    },
    {
     "name": "stdout",
     "output_type": "stream",
     "text": [
      "Episode: 131   score: 5.50   Avg score (100e): 4.44   actor gain: -0.48   critic loss: 0.42   steps: 131\n"
     ]
    },
    {
     "name": "stderr",
     "output_type": "stream",
     "text": [
      "training loop:   0% |                                  | ETA:  29 days, 0:59:35\r"
     ]
    },
    {
     "name": "stdout",
     "output_type": "stream",
     "text": [
      "Episode: 132   score: 5.53   Avg score (100e): 4.46   actor gain: -0.48   critic loss: 0.42   steps: 132\n"
     ]
    },
    {
     "name": "stderr",
     "output_type": "stream",
     "text": [
      "training loop:   0% |                                  | ETA:  29 days, 0:01:37\r"
     ]
    },
    {
     "name": "stdout",
     "output_type": "stream",
     "text": [
      "Episode: 133   score: 5.57   Avg score (100e): 4.49   actor gain: -0.48   critic loss: 0.42   steps: 133\n"
     ]
    },
    {
     "name": "stderr",
     "output_type": "stream",
     "text": [
      "training loop:   0% |                                 | ETA:  28 days, 23:50:47\r"
     ]
    },
    {
     "name": "stdout",
     "output_type": "stream",
     "text": [
      "Episode: 134   score: 5.59   Avg score (100e): 4.51   actor gain: -0.48   critic loss: 0.42   steps: 134\n"
     ]
    },
    {
     "name": "stderr",
     "output_type": "stream",
     "text": [
      "training loop:   0% |                                  | ETA:  29 days, 0:30:30\r"
     ]
    },
    {
     "name": "stdout",
     "output_type": "stream",
     "text": [
      "Episode: 135   score: 5.62   Avg score (100e): 4.54   actor gain: -0.48   critic loss: 0.42   steps: 135\n"
     ]
    },
    {
     "name": "stderr",
     "output_type": "stream",
     "text": [
      "training loop:   0% |                                  | ETA:  29 days, 0:32:42\r"
     ]
    },
    {
     "name": "stdout",
     "output_type": "stream",
     "text": [
      "Episode: 136   score: 5.63   Avg score (100e): 4.56   actor gain: -0.48   critic loss: 0.42   steps: 136\n"
     ]
    },
    {
     "name": "stderr",
     "output_type": "stream",
     "text": [
      "training loop:   0% |                                 | ETA:  28 days, 23:56:04\r"
     ]
    },
    {
     "name": "stdout",
     "output_type": "stream",
     "text": [
      "Episode: 137   score: 5.69   Avg score (100e): 4.59   actor gain: -0.48   critic loss: 0.42   steps: 137\n"
     ]
    },
    {
     "name": "stderr",
     "output_type": "stream",
     "text": [
      "training loop:   0% |                                 | ETA:  28 days, 23:35:29\r"
     ]
    },
    {
     "name": "stdout",
     "output_type": "stream",
     "text": [
      "Episode: 138   score: 5.72   Avg score (100e): 4.62   actor gain: -0.48   critic loss: 0.42   steps: 138\n"
     ]
    },
    {
     "name": "stderr",
     "output_type": "stream",
     "text": [
      "training loop:   0% |                                  | ETA:  30 days, 1:33:51\r"
     ]
    },
    {
     "name": "stdout",
     "output_type": "stream",
     "text": [
      "Episode: 139   score: 5.75   Avg score (100e): 4.64   actor gain: -0.48   critic loss: 0.42   steps: 139\n"
     ]
    },
    {
     "name": "stderr",
     "output_type": "stream",
     "text": [
      "training loop:   0% |                                  | ETA:  30 days, 1:06:52\r"
     ]
    },
    {
     "name": "stdout",
     "output_type": "stream",
     "text": [
      "Episode: 140   score: 5.77   Avg score (100e): 4.67   actor gain: -0.48   critic loss: 0.42   steps: 140\n"
     ]
    },
    {
     "name": "stderr",
     "output_type": "stream",
     "text": [
      "training loop:   0% |                                  | ETA:  30 days, 0:24:25\r"
     ]
    },
    {
     "name": "stdout",
     "output_type": "stream",
     "text": [
      "Episode: 141   score: 5.81   Avg score (100e): 4.69   actor gain: -0.48   critic loss: 0.42   steps: 141\n"
     ]
    },
    {
     "name": "stderr",
     "output_type": "stream",
     "text": [
      "training loop:   0% |                                  | ETA:  30 days, 1:36:00\r"
     ]
    },
    {
     "name": "stdout",
     "output_type": "stream",
     "text": [
      "Episode: 142   score: 5.83   Avg score (100e): 4.72   actor gain: -0.48   critic loss: 0.42   steps: 142\n"
     ]
    },
    {
     "name": "stderr",
     "output_type": "stream",
     "text": [
      "training loop:   0% |                                  | ETA:  30 days, 4:01:14\r"
     ]
    },
    {
     "name": "stdout",
     "output_type": "stream",
     "text": [
      "Episode: 143   score: 5.83   Avg score (100e): 4.74   actor gain: -0.48   critic loss: 0.42   steps: 143\n"
     ]
    },
    {
     "name": "stderr",
     "output_type": "stream",
     "text": [
      "training loop:   0% |                                  | ETA:  30 days, 6:29:59\r"
     ]
    },
    {
     "name": "stdout",
     "output_type": "stream",
     "text": [
      "Episode: 144   score: 5.83   Avg score (100e): 4.77   actor gain: -0.47   critic loss: 0.42   steps: 144\n"
     ]
    },
    {
     "name": "stderr",
     "output_type": "stream",
     "text": [
      "training loop:   0% |                                  | ETA:  30 days, 7:28:50\r"
     ]
    },
    {
     "name": "stdout",
     "output_type": "stream",
     "text": [
      "Episode: 145   score: 5.83   Avg score (100e): 4.79   actor gain: -0.47   critic loss: 0.42   steps: 145\n"
     ]
    },
    {
     "name": "stderr",
     "output_type": "stream",
     "text": [
      "training loop:   0% |                                  | ETA:  30 days, 8:17:39\r"
     ]
    },
    {
     "name": "stdout",
     "output_type": "stream",
     "text": [
      "Episode: 146   score: 5.82   Avg score (100e): 4.81   actor gain: -0.47   critic loss: 0.42   steps: 146\n"
     ]
    },
    {
     "name": "stderr",
     "output_type": "stream",
     "text": [
      "training loop:   0% |                                  | ETA:  30 days, 9:11:20\r"
     ]
    },
    {
     "name": "stdout",
     "output_type": "stream",
     "text": [
      "Episode: 147   score: 5.84   Avg score (100e): 4.84   actor gain: -0.47   critic loss: 0.42   steps: 147\n"
     ]
    },
    {
     "name": "stderr",
     "output_type": "stream",
     "text": [
      "training loop:   0% |                                  | ETA:  30 days, 9:48:06\r"
     ]
    },
    {
     "name": "stdout",
     "output_type": "stream",
     "text": [
      "Episode: 148   score: 5.83   Avg score (100e): 4.86   actor gain: -0.47   critic loss: 0.42   steps: 148\n"
     ]
    },
    {
     "name": "stderr",
     "output_type": "stream",
     "text": [
      "training loop:   0% |                                 | ETA:  30 days, 11:04:57\r"
     ]
    },
    {
     "name": "stdout",
     "output_type": "stream",
     "text": [
      "Episode: 149   score: 5.84   Avg score (100e): 4.88   actor gain: -0.47   critic loss: 0.42   steps: 149\n"
     ]
    },
    {
     "name": "stderr",
     "output_type": "stream",
     "text": [
      "training loop:   0% |                                 | ETA:  30 days, 11:47:50\r"
     ]
    },
    {
     "name": "stdout",
     "output_type": "stream",
     "text": [
      "Episode: 150   score: 5.85   Avg score (100e): 4.90   actor gain: -0.47   critic loss: 0.42   steps: 150\n"
     ]
    },
    {
     "name": "stderr",
     "output_type": "stream",
     "text": [
      "training loop:   0% |                                 | ETA:  30 days, 12:25:54\r"
     ]
    },
    {
     "name": "stdout",
     "output_type": "stream",
     "text": [
      "Episode: 151   score: 5.88   Avg score (100e): 4.93   actor gain: -0.47   critic loss: 0.42   steps: 151\n"
     ]
    },
    {
     "name": "stderr",
     "output_type": "stream",
     "text": [
      "training loop:   0% |                                 | ETA:  30 days, 13:01:01\r"
     ]
    },
    {
     "name": "stdout",
     "output_type": "stream",
     "text": [
      "Episode: 152   score: 5.92   Avg score (100e): 4.95   actor gain: -0.47   critic loss: 0.42   steps: 152\n"
     ]
    },
    {
     "name": "stderr",
     "output_type": "stream",
     "text": [
      "training loop:   0% |                                 | ETA:  30 days, 13:38:10\r"
     ]
    },
    {
     "name": "stdout",
     "output_type": "stream",
     "text": [
      "Episode: 153   score: 5.95   Avg score (100e): 4.97   actor gain: -0.47   critic loss: 0.42   steps: 153\n"
     ]
    },
    {
     "name": "stderr",
     "output_type": "stream",
     "text": [
      "training loop:   0% |                                 | ETA:  30 days, 14:41:15\r"
     ]
    },
    {
     "name": "stdout",
     "output_type": "stream",
     "text": [
      "Episode: 154   score: 5.98   Avg score (100e): 4.99   actor gain: -0.47   critic loss: 0.42   steps: 154\n"
     ]
    },
    {
     "name": "stderr",
     "output_type": "stream",
     "text": [
      "training loop:   0% |                                 | ETA:  30 days, 16:24:53\r"
     ]
    },
    {
     "name": "stdout",
     "output_type": "stream",
     "text": [
      "Episode: 155   score: 6.00   Avg score (100e): 5.01   actor gain: -0.47   critic loss: 0.42   steps: 155\n"
     ]
    },
    {
     "name": "stderr",
     "output_type": "stream",
     "text": [
      "training loop:   0% |                                 | ETA:  30 days, 17:39:42\r"
     ]
    },
    {
     "name": "stdout",
     "output_type": "stream",
     "text": [
      "Episode: 156   score: 6.00   Avg score (100e): 5.04   actor gain: -0.47   critic loss: 0.42   steps: 156\n"
     ]
    },
    {
     "name": "stderr",
     "output_type": "stream",
     "text": [
      "training loop:   0% |                                 | ETA:  30 days, 18:24:23\r"
     ]
    },
    {
     "name": "stdout",
     "output_type": "stream",
     "text": [
      "Episode: 157   score: 6.03   Avg score (100e): 5.06   actor gain: -0.47   critic loss: 0.42   steps: 157\n"
     ]
    },
    {
     "name": "stderr",
     "output_type": "stream",
     "text": [
      "training loop:   0% |                                 | ETA:  33 days, 15:32:53\r"
     ]
    },
    {
     "name": "stdout",
     "output_type": "stream",
     "text": [
      "Episode: 158   score: 6.05   Avg score (100e): 5.08   actor gain: -0.47   critic loss: 0.42   steps: 158\n"
     ]
    },
    {
     "name": "stderr",
     "output_type": "stream",
     "text": [
      "training loop:   0% |                                 | ETA:  33 days, 17:07:06\r"
     ]
    },
    {
     "name": "stdout",
     "output_type": "stream",
     "text": [
      "Episode: 159   score: 6.10   Avg score (100e): 5.10   actor gain: -0.47   critic loss: 0.42   steps: 159\n"
     ]
    },
    {
     "name": "stderr",
     "output_type": "stream",
     "text": [
      "training loop:   0% |                                 | ETA:  33 days, 17:55:12\r"
     ]
    },
    {
     "name": "stdout",
     "output_type": "stream",
     "text": [
      "Episode: 160   score: 6.10   Avg score (100e): 5.12   actor gain: -0.47   critic loss: 0.42   steps: 160\n"
     ]
    },
    {
     "name": "stderr",
     "output_type": "stream",
     "text": [
      "training loop:   0% |                                 | ETA:  33 days, 18:35:46\r"
     ]
    },
    {
     "name": "stdout",
     "output_type": "stream",
     "text": [
      "Episode: 161   score: 6.12   Avg score (100e): 5.14   actor gain: -0.47   critic loss: 0.42   steps: 161\n"
     ]
    },
    {
     "name": "stderr",
     "output_type": "stream",
     "text": [
      "training loop:   0% |                                 | ETA:  33 days, 19:05:07\r"
     ]
    },
    {
     "name": "stdout",
     "output_type": "stream",
     "text": [
      "Episode: 162   score: 6.14   Avg score (100e): 5.16   actor gain: -0.47   critic loss: 0.42   steps: 162\n"
     ]
    },
    {
     "name": "stderr",
     "output_type": "stream",
     "text": [
      "training loop:   0% |                                 | ETA:  33 days, 18:01:57\r"
     ]
    },
    {
     "name": "stdout",
     "output_type": "stream",
     "text": [
      "Episode: 163   score: 6.18   Avg score (100e): 5.18   actor gain: -0.47   critic loss: 0.42   steps: 163\n"
     ]
    },
    {
     "name": "stderr",
     "output_type": "stream",
     "text": [
      "training loop:   0% |                                 | ETA:  33 days, 17:58:17\r"
     ]
    },
    {
     "name": "stdout",
     "output_type": "stream",
     "text": [
      "Episode: 164   score: 6.20   Avg score (100e): 5.21   actor gain: -0.47   critic loss: 0.42   steps: 164\n"
     ]
    },
    {
     "name": "stderr",
     "output_type": "stream",
     "text": [
      "training loop:   0% |                                 | ETA:  33 days, 17:45:36\r"
     ]
    },
    {
     "name": "stdout",
     "output_type": "stream",
     "text": [
      "Episode: 165   score: 6.20   Avg score (100e): 5.23   actor gain: -0.47   critic loss: 0.42   steps: 165\n"
     ]
    },
    {
     "name": "stderr",
     "output_type": "stream",
     "text": [
      "training loop:   0% |                                 | ETA:  33 days, 17:37:51\r"
     ]
    },
    {
     "name": "stdout",
     "output_type": "stream",
     "text": [
      "Episode: 166   score: 6.22   Avg score (100e): 5.25   actor gain: -0.47   critic loss: 0.42   steps: 166\n"
     ]
    },
    {
     "name": "stderr",
     "output_type": "stream",
     "text": [
      "training loop:   0% |                                 | ETA:  33 days, 17:13:20\r"
     ]
    },
    {
     "name": "stdout",
     "output_type": "stream",
     "text": [
      "Episode: 167   score: 6.22   Avg score (100e): 5.27   actor gain: -0.47   critic loss: 0.42   steps: 167\n"
     ]
    },
    {
     "name": "stderr",
     "output_type": "stream",
     "text": [
      "training loop:   0% |                                 | ETA:  33 days, 16:49:49\r"
     ]
    },
    {
     "name": "stdout",
     "output_type": "stream",
     "text": [
      "Episode: 168   score: 6.23   Avg score (100e): 5.29   actor gain: -0.47   critic loss: 0.42   steps: 168\n"
     ]
    },
    {
     "name": "stderr",
     "output_type": "stream",
     "text": [
      "training loop:   0% |                                 | ETA:  33 days, 16:20:58\r"
     ]
    },
    {
     "name": "stdout",
     "output_type": "stream",
     "text": [
      "Episode: 169   score: 6.24   Avg score (100e): 5.31   actor gain: -0.47   critic loss: 0.42   steps: 169\n"
     ]
    },
    {
     "name": "stderr",
     "output_type": "stream",
     "text": [
      "training loop:   0% |                                 | ETA:  33 days, 16:52:57\r"
     ]
    },
    {
     "name": "stdout",
     "output_type": "stream",
     "text": [
      "Episode: 170   score: 6.25   Avg score (100e): 5.33   actor gain: -0.47   critic loss: 0.42   steps: 170\n"
     ]
    },
    {
     "name": "stderr",
     "output_type": "stream",
     "text": [
      "training loop:   0% |                                 | ETA:  33 days, 17:55:11\r"
     ]
    },
    {
     "name": "stdout",
     "output_type": "stream",
     "text": [
      "Episode: 171   score: 6.25   Avg score (100e): 5.35   actor gain: -0.47   critic loss: 0.42   steps: 171\n"
     ]
    },
    {
     "name": "stderr",
     "output_type": "stream",
     "text": [
      "training loop:   0% |                                 | ETA:  33 days, 18:09:10\r"
     ]
    },
    {
     "name": "stdout",
     "output_type": "stream",
     "text": [
      "Episode: 172   score: 6.26   Avg score (100e): 5.36   actor gain: -0.47   critic loss: 0.42   steps: 172\n"
     ]
    },
    {
     "name": "stderr",
     "output_type": "stream",
     "text": [
      "training loop:   0% |                                 | ETA:  33 days, 18:31:43\r"
     ]
    },
    {
     "name": "stdout",
     "output_type": "stream",
     "text": [
      "Episode: 173   score: 6.28   Avg score (100e): 5.38   actor gain: -0.47   critic loss: 0.42   steps: 173\n"
     ]
    },
    {
     "name": "stderr",
     "output_type": "stream",
     "text": [
      "training loop:   0% |                                 | ETA:  33 days, 18:33:37\r"
     ]
    },
    {
     "name": "stdout",
     "output_type": "stream",
     "text": [
      "Episode: 174   score: 6.26   Avg score (100e): 5.40   actor gain: -0.47   critic loss: 0.42   steps: 174\n"
     ]
    },
    {
     "name": "stderr",
     "output_type": "stream",
     "text": [
      "training loop:   0% |                                 | ETA:  33 days, 18:33:14\r"
     ]
    },
    {
     "name": "stdout",
     "output_type": "stream",
     "text": [
      "Episode: 175   score: 6.25   Avg score (100e): 5.42   actor gain: -0.47   critic loss: 0.42   steps: 175\n"
     ]
    },
    {
     "name": "stderr",
     "output_type": "stream",
     "text": [
      "training loop:   0% |                                 | ETA:  33 days, 18:55:52\r"
     ]
    },
    {
     "name": "stdout",
     "output_type": "stream",
     "text": [
      "Episode: 176   score: 6.25   Avg score (100e): 5.44   actor gain: -0.47   critic loss: 0.42   steps: 176\n"
     ]
    },
    {
     "name": "stderr",
     "output_type": "stream",
     "text": [
      "training loop:   0% |                                 | ETA:  33 days, 19:05:03\r"
     ]
    },
    {
     "name": "stdout",
     "output_type": "stream",
     "text": [
      "Episode: 177   score: 6.27   Avg score (100e): 5.46   actor gain: -0.46   critic loss: 0.42   steps: 177\n"
     ]
    },
    {
     "name": "stderr",
     "output_type": "stream",
     "text": [
      "training loop:   0% |                                 | ETA:  33 days, 19:24:38\r"
     ]
    },
    {
     "name": "stdout",
     "output_type": "stream",
     "text": [
      "Episode: 178   score: 6.26   Avg score (100e): 5.47   actor gain: -0.46   critic loss: 0.42   steps: 178\n"
     ]
    },
    {
     "name": "stderr",
     "output_type": "stream",
     "text": [
      "training loop:   0% |                                 | ETA:  33 days, 19:21:03\r"
     ]
    },
    {
     "name": "stdout",
     "output_type": "stream",
     "text": [
      "Episode: 179   score: 6.28   Avg score (100e): 5.49   actor gain: -0.46   critic loss: 0.42   steps: 179\n"
     ]
    },
    {
     "name": "stderr",
     "output_type": "stream",
     "text": [
      "training loop:   0% |                                 | ETA:  33 days, 19:19:38\r"
     ]
    },
    {
     "name": "stdout",
     "output_type": "stream",
     "text": [
      "Episode: 180   score: 6.28   Avg score (100e): 5.51   actor gain: -0.46   critic loss: 0.42   steps: 180\n"
     ]
    },
    {
     "name": "stderr",
     "output_type": "stream",
     "text": [
      "training loop:   0% |                                 | ETA:  33 days, 19:26:36\r"
     ]
    },
    {
     "name": "stdout",
     "output_type": "stream",
     "text": [
      "Episode: 181   score: 6.30   Avg score (100e): 5.53   actor gain: -0.46   critic loss: 0.42   steps: 181\n"
     ]
    },
    {
     "name": "stderr",
     "output_type": "stream",
     "text": [
      "training loop:   0% |                                 | ETA:  38 days, 22:53:07\r"
     ]
    },
    {
     "name": "stdout",
     "output_type": "stream",
     "text": [
      "Episode: 182   score: 6.29   Avg score (100e): 5.54   actor gain: -0.47   critic loss: 0.42   steps: 182\n"
     ]
    },
    {
     "name": "stderr",
     "output_type": "stream",
     "text": [
      "training loop:   0% |                                 | ETA:  38 days, 22:31:47\r"
     ]
    },
    {
     "name": "stdout",
     "output_type": "stream",
     "text": [
      "Episode: 183   score: 6.31   Avg score (100e): 5.56   actor gain: -0.47   critic loss: 0.42   steps: 183\n"
     ]
    },
    {
     "name": "stderr",
     "output_type": "stream",
     "text": [
      "training loop:   0% |                                 | ETA:  38 days, 22:20:29\r"
     ]
    },
    {
     "name": "stdout",
     "output_type": "stream",
     "text": [
      "Episode: 184   score: 6.33   Avg score (100e): 5.58   actor gain: -0.47   critic loss: 0.42   steps: 184\n"
     ]
    },
    {
     "name": "stderr",
     "output_type": "stream",
     "text": [
      "training loop:   0% |                                 | ETA:  38 days, 22:01:33\r"
     ]
    },
    {
     "name": "stdout",
     "output_type": "stream",
     "text": [
      "Episode: 185   score: 6.34   Avg score (100e): 5.60   actor gain: -0.47   critic loss: 0.42   steps: 185\n"
     ]
    },
    {
     "name": "stderr",
     "output_type": "stream",
     "text": [
      "training loop:   0% |                                 | ETA:  38 days, 21:33:33\r"
     ]
    },
    {
     "name": "stdout",
     "output_type": "stream",
     "text": [
      "Episode: 186   score: 6.37   Avg score (100e): 5.61   actor gain: -0.46   critic loss: 0.42   steps: 186\n"
     ]
    },
    {
     "name": "stderr",
     "output_type": "stream",
     "text": [
      "training loop:   0% |                                 | ETA:  38 days, 20:54:28\r"
     ]
    },
    {
     "name": "stdout",
     "output_type": "stream",
     "text": [
      "Episode: 187   score: 6.38   Avg score (100e): 5.63   actor gain: -0.46   critic loss: 0.42   steps: 187\n"
     ]
    },
    {
     "name": "stderr",
     "output_type": "stream",
     "text": [
      "training loop:   0% |                                 | ETA:  38 days, 20:20:27\r"
     ]
    },
    {
     "name": "stdout",
     "output_type": "stream",
     "text": [
      "Episode: 188   score: 6.39   Avg score (100e): 5.65   actor gain: -0.46   critic loss: 0.42   steps: 188\n"
     ]
    },
    {
     "name": "stderr",
     "output_type": "stream",
     "text": [
      "training loop:   0% |                                 | ETA:  38 days, 20:02:34\r"
     ]
    },
    {
     "name": "stdout",
     "output_type": "stream",
     "text": [
      "Episode: 189   score: 6.43   Avg score (100e): 5.67   actor gain: -0.46   critic loss: 0.42   steps: 189\n"
     ]
    },
    {
     "name": "stderr",
     "output_type": "stream",
     "text": [
      "training loop:   0% |                                 | ETA:  38 days, 19:30:17\r"
     ]
    },
    {
     "name": "stdout",
     "output_type": "stream",
     "text": [
      "Episode: 190   score: 6.46   Avg score (100e): 5.68   actor gain: -0.46   critic loss: 0.42   steps: 190\n"
     ]
    },
    {
     "name": "stderr",
     "output_type": "stream",
     "text": [
      "training loop:   0% |                                 | ETA:  38 days, 18:47:38\r"
     ]
    },
    {
     "name": "stdout",
     "output_type": "stream",
     "text": [
      "Episode: 191   score: 6.46   Avg score (100e): 5.70   actor gain: -0.46   critic loss: 0.42   steps: 191\n"
     ]
    },
    {
     "name": "stderr",
     "output_type": "stream",
     "text": [
      "training loop:   0% |                                 | ETA:  38 days, 18:11:07\r"
     ]
    },
    {
     "name": "stdout",
     "output_type": "stream",
     "text": [
      "Episode: 192   score: 6.47   Avg score (100e): 5.72   actor gain: -0.46   critic loss: 0.42   steps: 192\n"
     ]
    },
    {
     "name": "stderr",
     "output_type": "stream",
     "text": [
      "training loop:   0% |                                 | ETA:  38 days, 17:28:47\r"
     ]
    },
    {
     "name": "stdout",
     "output_type": "stream",
     "text": [
      "Episode: 193   score: 6.49   Avg score (100e): 5.74   actor gain: -0.46   critic loss: 0.42   steps: 193\n"
     ]
    },
    {
     "name": "stderr",
     "output_type": "stream",
     "text": [
      "training loop:   0% |                                 | ETA:  38 days, 17:07:51\r"
     ]
    },
    {
     "name": "stdout",
     "output_type": "stream",
     "text": [
      "Episode: 194   score: 6.50   Avg score (100e): 5.75   actor gain: -0.46   critic loss: 0.42   steps: 194\n"
     ]
    },
    {
     "name": "stderr",
     "output_type": "stream",
     "text": [
      "training loop:   0% |                                 | ETA:  38 days, 16:32:02\r"
     ]
    },
    {
     "name": "stdout",
     "output_type": "stream",
     "text": [
      "Episode: 195   score: 6.53   Avg score (100e): 5.77   actor gain: -0.47   critic loss: 0.42   steps: 195\n"
     ]
    },
    {
     "name": "stderr",
     "output_type": "stream",
     "text": [
      "training loop:   0% |                                 | ETA:  38 days, 16:09:04\r"
     ]
    },
    {
     "name": "stdout",
     "output_type": "stream",
     "text": [
      "Episode: 196   score: 6.55   Avg score (100e): 5.79   actor gain: -0.47   critic loss: 0.42   steps: 196\n"
     ]
    },
    {
     "name": "stderr",
     "output_type": "stream",
     "text": [
      "training loop:   0% |                                 | ETA:  38 days, 15:30:23\r"
     ]
    },
    {
     "name": "stdout",
     "output_type": "stream",
     "text": [
      "Episode: 197   score: 6.56   Avg score (100e): 5.80   actor gain: -0.49   critic loss: 0.42   steps: 197\n"
     ]
    },
    {
     "name": "stderr",
     "output_type": "stream",
     "text": [
      "training loop:   0% |                                 | ETA:  38 days, 14:51:37\r"
     ]
    },
    {
     "name": "stdout",
     "output_type": "stream",
     "text": [
      "Episode: 198   score: 6.55   Avg score (100e): 5.82   actor gain: -0.49   critic loss: 0.42   steps: 198\n"
     ]
    },
    {
     "name": "stderr",
     "output_type": "stream",
     "text": [
      "training loop:   0% |                                 | ETA:  38 days, 14:22:32\r"
     ]
    },
    {
     "name": "stdout",
     "output_type": "stream",
     "text": [
      "Episode: 199   score: 6.59   Avg score (100e): 5.84   actor gain: -0.49   critic loss: 0.42   steps: 199\n"
     ]
    },
    {
     "name": "stderr",
     "output_type": "stream",
     "text": [
      "training loop:   0% |                                 | ETA:  38 days, 13:44:59\r"
     ]
    },
    {
     "name": "stdout",
     "output_type": "stream",
     "text": [
      "Episode: 200   score: 6.63   Avg score (100e): 5.85   actor gain: -0.49   critic loss: 0.42   steps: 200\n"
     ]
    },
    {
     "name": "stderr",
     "output_type": "stream",
     "text": [
      "training loop:   0% |                                 | ETA:  38 days, 13:17:06\r"
     ]
    },
    {
     "name": "stdout",
     "output_type": "stream",
     "text": [
      "Episode: 201   score: 6.65   Avg score (100e): 5.87   actor gain: -0.49   critic loss: 0.42   steps: 201\n"
     ]
    },
    {
     "name": "stderr",
     "output_type": "stream",
     "text": [
      "training loop:   0% |                                 | ETA:  38 days, 12:51:40\r"
     ]
    },
    {
     "name": "stdout",
     "output_type": "stream",
     "text": [
      "Episode: 202   score: 6.68   Avg score (100e): 5.89   actor gain: -0.49   critic loss: 0.42   steps: 202\n"
     ]
    },
    {
     "name": "stderr",
     "output_type": "stream",
     "text": [
      "training loop:   0% |                                 | ETA:  38 days, 12:15:04\r"
     ]
    },
    {
     "name": "stdout",
     "output_type": "stream",
     "text": [
      "Episode: 203   score: 6.72   Avg score (100e): 5.90   actor gain: -0.49   critic loss: 0.42   steps: 203\n"
     ]
    },
    {
     "name": "stderr",
     "output_type": "stream",
     "text": [
      "training loop:   0% |                                 | ETA:  38 days, 12:23:15\r"
     ]
    },
    {
     "name": "stdout",
     "output_type": "stream",
     "text": [
      "Episode: 204   score: 6.75   Avg score (100e): 5.92   actor gain: -0.49   critic loss: 0.42   steps: 204\n"
     ]
    },
    {
     "name": "stderr",
     "output_type": "stream",
     "text": [
      "training loop:   0% |                                 | ETA:  38 days, 12:06:59\r"
     ]
    },
    {
     "name": "stdout",
     "output_type": "stream",
     "text": [
      "Episode: 205   score: 6.79   Avg score (100e): 5.94   actor gain: -0.49   critic loss: 0.42   steps: 205\n"
     ]
    },
    {
     "name": "stderr",
     "output_type": "stream",
     "text": [
      "training loop:   0% |                                 | ETA:  38 days, 11:55:21\r"
     ]
    },
    {
     "name": "stdout",
     "output_type": "stream",
     "text": [
      "Episode: 206   score: 6.82   Avg score (100e): 5.96   actor gain: -0.49   critic loss: 0.42   steps: 206\n"
     ]
    },
    {
     "name": "stderr",
     "output_type": "stream",
     "text": [
      "training loop:   0% |                                 | ETA:  38 days, 11:26:00\r"
     ]
    },
    {
     "name": "stdout",
     "output_type": "stream",
     "text": [
      "Episode: 207   score: 6.86   Avg score (100e): 5.98   actor gain: -0.49   critic loss: 0.42   steps: 207\n"
     ]
    },
    {
     "name": "stderr",
     "output_type": "stream",
     "text": [
      "training loop:   0% |                                 | ETA:  38 days, 11:36:12\r"
     ]
    },
    {
     "name": "stdout",
     "output_type": "stream",
     "text": [
      "Episode: 208   score: 6.88   Avg score (100e): 5.99   actor gain: -0.49   critic loss: 0.42   steps: 208\n"
     ]
    },
    {
     "name": "stderr",
     "output_type": "stream",
     "text": [
      "training loop:   0% |                                 | ETA:  38 days, 11:17:27\r"
     ]
    },
    {
     "name": "stdout",
     "output_type": "stream",
     "text": [
      "Episode: 209   score: 6.92   Avg score (100e): 6.01   actor gain: -0.49   critic loss: 0.42   steps: 209\n"
     ]
    },
    {
     "name": "stderr",
     "output_type": "stream",
     "text": [
      "training loop:   0% |                                 | ETA:  38 days, 10:43:04\r"
     ]
    },
    {
     "name": "stdout",
     "output_type": "stream",
     "text": [
      "Episode: 210   score: 6.96   Avg score (100e): 6.03   actor gain: -0.49   critic loss: 0.42   steps: 210\n"
     ]
    },
    {
     "name": "stderr",
     "output_type": "stream",
     "text": [
      "training loop:   0% |                                 | ETA:  38 days, 10:13:11\r"
     ]
    },
    {
     "name": "stdout",
     "output_type": "stream",
     "text": [
      "Episode: 211   score: 6.97   Avg score (100e): 6.05   actor gain: -0.49   critic loss: 0.42   steps: 211\n"
     ]
    },
    {
     "name": "stderr",
     "output_type": "stream",
     "text": [
      "training loop:   0% |                                  | ETA:  38 days, 9:45:55\r"
     ]
    },
    {
     "name": "stdout",
     "output_type": "stream",
     "text": [
      "Episode: 212   score: 6.99   Avg score (100e): 6.07   actor gain: -0.49   critic loss: 0.42   steps: 212\n"
     ]
    },
    {
     "name": "stderr",
     "output_type": "stream",
     "text": [
      "training loop:   0% |                                  | ETA:  38 days, 9:21:52\r"
     ]
    },
    {
     "name": "stdout",
     "output_type": "stream",
     "text": [
      "Episode: 213   score: 6.98   Avg score (100e): 6.08   actor gain: -0.49   critic loss: 0.42   steps: 213\n"
     ]
    },
    {
     "name": "stderr",
     "output_type": "stream",
     "text": [
      "training loop:   0% |                                  | ETA:  38 days, 9:05:00\r"
     ]
    },
    {
     "name": "stdout",
     "output_type": "stream",
     "text": [
      "Episode: 214   score: 7.01   Avg score (100e): 6.10   actor gain: -0.49   critic loss: 0.42   steps: 214\n"
     ]
    },
    {
     "name": "stderr",
     "output_type": "stream",
     "text": [
      "training loop:   0% |                                  | ETA:  38 days, 8:29:00\r"
     ]
    },
    {
     "name": "stdout",
     "output_type": "stream",
     "text": [
      "Episode: 215   score: 7.04   Avg score (100e): 6.12   actor gain: -0.49   critic loss: 0.42   steps: 215\n"
     ]
    },
    {
     "name": "stderr",
     "output_type": "stream",
     "text": [
      "training loop:   0% |                                  | ETA:  38 days, 7:56:41\r"
     ]
    },
    {
     "name": "stdout",
     "output_type": "stream",
     "text": [
      "Episode: 216   score: 7.07   Avg score (100e): 6.14   actor gain: -0.49   critic loss: 0.42   steps: 216\n"
     ]
    },
    {
     "name": "stderr",
     "output_type": "stream",
     "text": [
      "training loop:   0% |                                  | ETA:  38 days, 7:29:06\r"
     ]
    },
    {
     "name": "stdout",
     "output_type": "stream",
     "text": [
      "Episode: 217   score: 7.10   Avg score (100e): 6.16   actor gain: -0.49   critic loss: 0.42   steps: 217\n"
     ]
    },
    {
     "name": "stderr",
     "output_type": "stream",
     "text": [
      "training loop:   0% |                                  | ETA:  38 days, 7:03:20\r"
     ]
    },
    {
     "name": "stdout",
     "output_type": "stream",
     "text": [
      "Episode: 218   score: 7.15   Avg score (100e): 6.17   actor gain: -0.49   critic loss: 0.42   steps: 218\n"
     ]
    },
    {
     "name": "stderr",
     "output_type": "stream",
     "text": [
      "training loop:   0% |                                  | ETA:  38 days, 6:30:33\r"
     ]
    },
    {
     "name": "stdout",
     "output_type": "stream",
     "text": [
      "Episode: 219   score: 7.18   Avg score (100e): 6.19   actor gain: -0.49   critic loss: 0.42   steps: 219\n"
     ]
    },
    {
     "name": "stderr",
     "output_type": "stream",
     "text": [
      "training loop:   0% |                                  | ETA:  38 days, 6:00:27\r"
     ]
    },
    {
     "name": "stdout",
     "output_type": "stream",
     "text": [
      "Episode: 220   score: 7.21   Avg score (100e): 6.21   actor gain: -0.49   critic loss: 0.42   steps: 220\n"
     ]
    },
    {
     "name": "stderr",
     "output_type": "stream",
     "text": [
      "training loop:   0% |                                  | ETA:  38 days, 5:33:06\r"
     ]
    },
    {
     "name": "stdout",
     "output_type": "stream",
     "text": [
      "Episode: 221   score: 7.24   Avg score (100e): 6.23   actor gain: -0.49   critic loss: 0.42   steps: 221\n"
     ]
    },
    {
     "name": "stderr",
     "output_type": "stream",
     "text": [
      "training loop:   0% |                                  | ETA:  38 days, 4:57:56\r"
     ]
    },
    {
     "name": "stdout",
     "output_type": "stream",
     "text": [
      "Episode: 222   score: 7.28   Avg score (100e): 6.25   actor gain: -0.46   critic loss: 0.42   steps: 222\n"
     ]
    },
    {
     "name": "stderr",
     "output_type": "stream",
     "text": [
      "training loop:   0% |                                  | ETA:  38 days, 4:58:40\r"
     ]
    },
    {
     "name": "stdout",
     "output_type": "stream",
     "text": [
      "Episode: 223   score: 7.27   Avg score (100e): 6.27   actor gain: -0.46   critic loss: 0.42   steps: 223\n"
     ]
    },
    {
     "name": "stderr",
     "output_type": "stream",
     "text": [
      "training loop:   0% |                                  | ETA:  38 days, 4:42:58\r"
     ]
    },
    {
     "name": "stdout",
     "output_type": "stream",
     "text": [
      "Episode: 224   score: 7.30   Avg score (100e): 6.29   actor gain: -0.46   critic loss: 0.42   steps: 224\n"
     ]
    },
    {
     "name": "stderr",
     "output_type": "stream",
     "text": [
      "training loop:   0% |                                  | ETA:  38 days, 4:34:46\r"
     ]
    },
    {
     "name": "stdout",
     "output_type": "stream",
     "text": [
      "Episode: 225   score: 7.36   Avg score (100e): 6.31   actor gain: -0.47   critic loss: 0.42   steps: 225\n"
     ]
    },
    {
     "name": "stderr",
     "output_type": "stream",
     "text": [
      "training loop:   0% |                                  | ETA:  38 days, 3:59:10\r"
     ]
    },
    {
     "name": "stdout",
     "output_type": "stream",
     "text": [
      "Episode: 226   score: 7.38   Avg score (100e): 6.33   actor gain: -0.47   critic loss: 0.42   steps: 226\n"
     ]
    },
    {
     "name": "stderr",
     "output_type": "stream",
     "text": [
      "training loop:   0% |                                  | ETA:  38 days, 3:04:47\r"
     ]
    },
    {
     "name": "stdout",
     "output_type": "stream",
     "text": [
      "Episode: 227   score: 7.41   Avg score (100e): 6.35   actor gain: -0.47   critic loss: 0.42   steps: 227\n"
     ]
    },
    {
     "name": "stderr",
     "output_type": "stream",
     "text": [
      "training loop:   0% |                                  | ETA:  38 days, 3:05:11\r"
     ]
    },
    {
     "name": "stdout",
     "output_type": "stream",
     "text": [
      "Episode: 228   score: 7.42   Avg score (100e): 6.37   actor gain: -0.47   critic loss: 0.42   steps: 228\n"
     ]
    },
    {
     "name": "stderr",
     "output_type": "stream",
     "text": [
      "training loop:   0% |                                  | ETA:  38 days, 2:56:20\r"
     ]
    },
    {
     "name": "stdout",
     "output_type": "stream",
     "text": [
      "Episode: 229   score: 7.46   Avg score (100e): 6.39   actor gain: -0.47   critic loss: 0.42   steps: 229\n"
     ]
    },
    {
     "name": "stderr",
     "output_type": "stream",
     "text": [
      "training loop:   0% |                                  | ETA:  38 days, 2:36:57\r"
     ]
    },
    {
     "name": "stdout",
     "output_type": "stream",
     "text": [
      "Episode: 230   score: 7.46   Avg score (100e): 6.41   actor gain: -0.47   critic loss: 0.42   steps: 230\n"
     ]
    },
    {
     "name": "stderr",
     "output_type": "stream",
     "text": [
      "training loop:   0% |                                  | ETA:  38 days, 2:21:01\r"
     ]
    },
    {
     "name": "stdout",
     "output_type": "stream",
     "text": [
      "Episode: 231   score: 7.47   Avg score (100e): 6.43   actor gain: -0.47   critic loss: 0.42   steps: 231\n"
     ]
    },
    {
     "name": "stderr",
     "output_type": "stream",
     "text": [
      "training loop:   0% |                                  | ETA:  38 days, 2:40:36\r"
     ]
    },
    {
     "name": "stdout",
     "output_type": "stream",
     "text": [
      "Episode: 232   score: 7.49   Avg score (100e): 6.45   actor gain: -0.47   critic loss: 0.42   steps: 232\n"
     ]
    },
    {
     "name": "stderr",
     "output_type": "stream",
     "text": [
      "training loop:   0% |                                  | ETA:  38 days, 2:53:42\r"
     ]
    },
    {
     "name": "stdout",
     "output_type": "stream",
     "text": [
      "Episode: 233   score: 7.53   Avg score (100e): 6.46   actor gain: -0.47   critic loss: 0.42   steps: 233\n"
     ]
    },
    {
     "name": "stderr",
     "output_type": "stream",
     "text": [
      "training loop:   0% |                                  | ETA:  38 days, 2:57:51\r"
     ]
    },
    {
     "name": "stdout",
     "output_type": "stream",
     "text": [
      "Episode: 234   score: 7.58   Avg score (100e): 6.48   actor gain: -0.47   critic loss: 0.42   steps: 234\n"
     ]
    },
    {
     "name": "stderr",
     "output_type": "stream",
     "text": [
      "training loop:   0% |                                  | ETA:  38 days, 2:33:17\r"
     ]
    },
    {
     "name": "stdout",
     "output_type": "stream",
     "text": [
      "Episode: 235   score: 7.60   Avg score (100e): 6.50   actor gain: -0.47   critic loss: 0.42   steps: 235\n"
     ]
    },
    {
     "name": "stderr",
     "output_type": "stream",
     "text": [
      "training loop:   0% |                                  | ETA:  38 days, 3:54:30\r"
     ]
    },
    {
     "name": "stdout",
     "output_type": "stream",
     "text": [
      "Episode: 236   score: 7.63   Avg score (100e): 6.52   actor gain: -0.47   critic loss: 0.42   steps: 236\n"
     ]
    },
    {
     "name": "stderr",
     "output_type": "stream",
     "text": [
      "training loop:   0% |                                  | ETA:  38 days, 4:25:36\r"
     ]
    },
    {
     "name": "stdout",
     "output_type": "stream",
     "text": [
      "Episode: 237   score: 7.67   Avg score (100e): 6.54   actor gain: -0.47   critic loss: 0.42   steps: 237\n"
     ]
    },
    {
     "name": "stderr",
     "output_type": "stream",
     "text": [
      "training loop:   0% |                                  | ETA:  38 days, 5:17:31\r"
     ]
    },
    {
     "name": "stdout",
     "output_type": "stream",
     "text": [
      "Episode: 238   score: 7.69   Avg score (100e): 6.56   actor gain: -0.47   critic loss: 0.42   steps: 238\n"
     ]
    },
    {
     "name": "stderr",
     "output_type": "stream",
     "text": [
      "training loop:   0% |                                  | ETA:  38 days, 5:08:02\r"
     ]
    },
    {
     "name": "stdout",
     "output_type": "stream",
     "text": [
      "Episode: 239   score: 7.72   Avg score (100e): 6.58   actor gain: -0.47   critic loss: 0.42   steps: 239\n"
     ]
    },
    {
     "name": "stderr",
     "output_type": "stream",
     "text": [
      "training loop:   0% |                                  | ETA:  38 days, 4:45:56\r"
     ]
    },
    {
     "name": "stdout",
     "output_type": "stream",
     "text": [
      "Episode: 240   score: 7.77   Avg score (100e): 6.60   actor gain: -0.47   critic loss: 0.42   steps: 240\n"
     ]
    },
    {
     "name": "stderr",
     "output_type": "stream",
     "text": [
      "training loop:   0% |                                  | ETA:  38 days, 4:42:07\r"
     ]
    },
    {
     "name": "stdout",
     "output_type": "stream",
     "text": [
      "Episode: 241   score: 7.79   Avg score (100e): 6.62   actor gain: -0.47   critic loss: 0.42   steps: 241\n"
     ]
    },
    {
     "name": "stderr",
     "output_type": "stream",
     "text": [
      "training loop:   0% |                                  | ETA:  38 days, 4:18:13\r"
     ]
    },
    {
     "name": "stdout",
     "output_type": "stream",
     "text": [
      "Episode: 242   score: 7.80   Avg score (100e): 6.64   actor gain: -0.47   critic loss: 0.42   steps: 242\n"
     ]
    },
    {
     "name": "stderr",
     "output_type": "stream",
     "text": [
      "training loop:   0% |                                  | ETA:  38 days, 3:46:52\r"
     ]
    },
    {
     "name": "stdout",
     "output_type": "stream",
     "text": [
      "Episode: 243   score: 7.83   Avg score (100e): 6.66   actor gain: -0.47   critic loss: 0.42   steps: 243\n"
     ]
    },
    {
     "name": "stderr",
     "output_type": "stream",
     "text": [
      "training loop:   0% |                                  | ETA:  38 days, 3:21:33\r"
     ]
    },
    {
     "name": "stdout",
     "output_type": "stream",
     "text": [
      "Episode: 244   score: 7.84   Avg score (100e): 6.68   actor gain: -0.47   critic loss: 0.42   steps: 244\n"
     ]
    },
    {
     "name": "stderr",
     "output_type": "stream",
     "text": [
      "training loop:   0% |                                  | ETA:  38 days, 3:04:13\r"
     ]
    },
    {
     "name": "stdout",
     "output_type": "stream",
     "text": [
      "Episode: 245   score: 7.88   Avg score (100e): 6.70   actor gain: -0.47   critic loss: 0.42   steps: 245\n"
     ]
    },
    {
     "name": "stderr",
     "output_type": "stream",
     "text": [
      "training loop:   0% |                                  | ETA:  38 days, 2:38:28\r"
     ]
    },
    {
     "name": "stdout",
     "output_type": "stream",
     "text": [
      "Episode: 246   score: 7.91   Avg score (100e): 6.72   actor gain: -0.47   critic loss: 0.42   steps: 246\n"
     ]
    },
    {
     "name": "stderr",
     "output_type": "stream",
     "text": [
      "training loop:   0% |                                  | ETA:  38 days, 2:15:09\r"
     ]
    },
    {
     "name": "stdout",
     "output_type": "stream",
     "text": [
      "Episode: 247   score: 7.92   Avg score (100e): 6.75   actor gain: -0.47   critic loss: 0.42   steps: 247\n"
     ]
    },
    {
     "name": "stderr",
     "output_type": "stream",
     "text": [
      "training loop:   0% |                                  | ETA:  38 days, 1:46:47\r"
     ]
    },
    {
     "name": "stdout",
     "output_type": "stream",
     "text": [
      "Episode: 248   score: 7.96   Avg score (100e): 6.77   actor gain: -0.47   critic loss: 0.42   steps: 248\n"
     ]
    },
    {
     "name": "stderr",
     "output_type": "stream",
     "text": [
      "training loop:   0% |                                  | ETA:  38 days, 1:16:06\r"
     ]
    },
    {
     "name": "stdout",
     "output_type": "stream",
     "text": [
      "Episode: 249   score: 7.98   Avg score (100e): 6.79   actor gain: -0.46   critic loss: 0.42   steps: 249\n"
     ]
    },
    {
     "name": "stderr",
     "output_type": "stream",
     "text": [
      "training loop:   0% |                                  | ETA:  38 days, 0:46:15\r"
     ]
    },
    {
     "name": "stdout",
     "output_type": "stream",
     "text": [
      "Episode: 250   score: 7.99   Avg score (100e): 6.81   actor gain: -0.47   critic loss: 0.41   steps: 250\n"
     ]
    },
    {
     "name": "stderr",
     "output_type": "stream",
     "text": [
      "training loop:   0% |                                  | ETA:  38 days, 0:14:02\r"
     ]
    },
    {
     "name": "stdout",
     "output_type": "stream",
     "text": [
      "Episode: 251   score: 8.01   Avg score (100e): 6.83   actor gain: -0.47   critic loss: 0.41   steps: 251\n"
     ]
    },
    {
     "name": "stderr",
     "output_type": "stream",
     "text": [
      "training loop:   0% |                                 | ETA:  37 days, 23:50:33\r"
     ]
    },
    {
     "name": "stdout",
     "output_type": "stream",
     "text": [
      "Episode: 252   score: 8.03   Avg score (100e): 6.85   actor gain: -0.47   critic loss: 0.41   steps: 252\n"
     ]
    },
    {
     "name": "stderr",
     "output_type": "stream",
     "text": [
      "training loop:   0% |                                 | ETA:  37 days, 23:34:47\r"
     ]
    },
    {
     "name": "stdout",
     "output_type": "stream",
     "text": [
      "Episode: 253   score: 8.06   Avg score (100e): 6.87   actor gain: -0.47   critic loss: 0.41   steps: 253\n"
     ]
    },
    {
     "name": "stderr",
     "output_type": "stream",
     "text": [
      "training loop:   0% |                                 | ETA:  37 days, 23:08:16\r"
     ]
    },
    {
     "name": "stdout",
     "output_type": "stream",
     "text": [
      "Episode: 254   score: 8.09   Avg score (100e): 6.89   actor gain: -0.46   critic loss: 0.41   steps: 254\n"
     ]
    },
    {
     "name": "stderr",
     "output_type": "stream",
     "text": [
      "training loop:   0% |                                 | ETA:  37 days, 22:48:52\r"
     ]
    },
    {
     "name": "stdout",
     "output_type": "stream",
     "text": [
      "Episode: 255   score: 8.12   Avg score (100e): 6.92   actor gain: -0.46   critic loss: 0.41   steps: 255\n"
     ]
    },
    {
     "name": "stderr",
     "output_type": "stream",
     "text": [
      "training loop:   0% |                                 | ETA:  37 days, 22:24:38\r"
     ]
    },
    {
     "name": "stdout",
     "output_type": "stream",
     "text": [
      "Episode: 256   score: 8.14   Avg score (100e): 6.94   actor gain: -0.46   critic loss: 0.41   steps: 256\n"
     ]
    },
    {
     "name": "stderr",
     "output_type": "stream",
     "text": [
      "training loop:   0% |                                 | ETA:  37 days, 22:02:03\r"
     ]
    },
    {
     "name": "stdout",
     "output_type": "stream",
     "text": [
      "Episode: 257   score: 8.16   Avg score (100e): 6.96   actor gain: -0.46   critic loss: 0.42   steps: 257\n"
     ]
    },
    {
     "name": "stderr",
     "output_type": "stream",
     "text": [
      "training loop:   0% |                                 | ETA:  37 days, 21:35:46\r"
     ]
    },
    {
     "name": "stdout",
     "output_type": "stream",
     "text": [
      "Episode: 258   score: 8.15   Avg score (100e): 6.98   actor gain: -0.46   critic loss: 0.42   steps: 258\n"
     ]
    },
    {
     "name": "stderr",
     "output_type": "stream",
     "text": [
      "training loop:   0% |                                 | ETA:  37 days, 21:14:01\r"
     ]
    },
    {
     "name": "stdout",
     "output_type": "stream",
     "text": [
      "Episode: 259   score: 8.18   Avg score (100e): 7.00   actor gain: -0.54   critic loss: 0.42   steps: 259\n"
     ]
    },
    {
     "name": "stderr",
     "output_type": "stream",
     "text": [
      "training loop:   0% |                                 | ETA:  37 days, 20:51:51\r"
     ]
    },
    {
     "name": "stdout",
     "output_type": "stream",
     "text": [
      "Episode: 260   score: 8.18   Avg score (100e): 7.02   actor gain: -0.54   critic loss: 0.42   steps: 260\n"
     ]
    },
    {
     "name": "stderr",
     "output_type": "stream",
     "text": [
      "training loop:   0% |                                 | ETA:  37 days, 20:33:56\r"
     ]
    },
    {
     "name": "stdout",
     "output_type": "stream",
     "text": [
      "Episode: 261   score: 8.21   Avg score (100e): 7.04   actor gain: -0.54   critic loss: 0.42   steps: 261\n"
     ]
    },
    {
     "name": "stderr",
     "output_type": "stream",
     "text": [
      "training loop:   0% |                                 | ETA:  37 days, 20:42:35\r"
     ]
    },
    {
     "name": "stdout",
     "output_type": "stream",
     "text": [
      "Episode: 262   score: 8.25   Avg score (100e): 7.06   actor gain: -0.54   critic loss: 0.42   steps: 262\n"
     ]
    },
    {
     "name": "stderr",
     "output_type": "stream",
     "text": [
      "training loop:   0% |                                 | ETA:  37 days, 20:27:19\r"
     ]
    },
    {
     "name": "stdout",
     "output_type": "stream",
     "text": [
      "Episode: 263   score: 8.28   Avg score (100e): 7.08   actor gain: -0.54   critic loss: 0.42   steps: 263\n"
     ]
    },
    {
     "name": "stderr",
     "output_type": "stream",
     "text": [
      "training loop:   0% |                                 | ETA:  37 days, 20:36:05\r"
     ]
    },
    {
     "name": "stdout",
     "output_type": "stream",
     "text": [
      "Episode: 264   score: 8.31   Avg score (100e): 7.10   actor gain: -0.54   critic loss: 0.42   steps: 264\n"
     ]
    },
    {
     "name": "stderr",
     "output_type": "stream",
     "text": [
      "training loop:   0% |                                 | ETA:  37 days, 20:22:03\r"
     ]
    },
    {
     "name": "stdout",
     "output_type": "stream",
     "text": [
      "Episode: 265   score: 8.33   Avg score (100e): 7.13   actor gain: -0.54   critic loss: 0.42   steps: 265\n"
     ]
    },
    {
     "name": "stderr",
     "output_type": "stream",
     "text": [
      "training loop:   0% |                                 | ETA:  37 days, 20:05:34\r"
     ]
    },
    {
     "name": "stdout",
     "output_type": "stream",
     "text": [
      "Episode: 266   score: 8.36   Avg score (100e): 7.15   actor gain: -0.54   critic loss: 0.42   steps: 266\n"
     ]
    },
    {
     "name": "stderr",
     "output_type": "stream",
     "text": [
      "training loop:   0% |                                 | ETA:  37 days, 19:43:55\r"
     ]
    },
    {
     "name": "stdout",
     "output_type": "stream",
     "text": [
      "Episode: 267   score: 8.38   Avg score (100e): 7.17   actor gain: -0.54   critic loss: 0.42   steps: 267\n"
     ]
    },
    {
     "name": "stderr",
     "output_type": "stream",
     "text": [
      "training loop:   0% |                                 | ETA:  37 days, 19:56:51\r"
     ]
    },
    {
     "name": "stdout",
     "output_type": "stream",
     "text": [
      "Episode: 268   score: 8.39   Avg score (100e): 7.19   actor gain: -0.54   critic loss: 0.42   steps: 268\n"
     ]
    },
    {
     "name": "stderr",
     "output_type": "stream",
     "text": [
      "training loop:   0% |                                 | ETA:  37 days, 19:51:56\r"
     ]
    },
    {
     "name": "stdout",
     "output_type": "stream",
     "text": [
      "Episode: 269   score: 8.42   Avg score (100e): 7.21   actor gain: -0.54   critic loss: 0.42   steps: 269\n"
     ]
    },
    {
     "name": "stderr",
     "output_type": "stream",
     "text": [
      "training loop:   0% |                                 | ETA:  37 days, 19:36:37\r"
     ]
    },
    {
     "name": "stdout",
     "output_type": "stream",
     "text": [
      "Episode: 270   score: 8.43   Avg score (100e): 7.23   actor gain: -0.54   critic loss: 0.42   steps: 270\n"
     ]
    },
    {
     "name": "stderr",
     "output_type": "stream",
     "text": [
      "training loop:   0% |                                 | ETA:  37 days, 19:24:58\r"
     ]
    },
    {
     "name": "stdout",
     "output_type": "stream",
     "text": [
      "Episode: 271   score: 8.46   Avg score (100e): 7.26   actor gain: -0.54   critic loss: 0.42   steps: 271\n"
     ]
    },
    {
     "name": "stderr",
     "output_type": "stream",
     "text": [
      "training loop:   0% |                                 | ETA:  37 days, 19:09:41\r"
     ]
    },
    {
     "name": "stdout",
     "output_type": "stream",
     "text": [
      "Episode: 272   score: 8.48   Avg score (100e): 7.28   actor gain: -0.54   critic loss: 0.42   steps: 272\n"
     ]
    },
    {
     "name": "stderr",
     "output_type": "stream",
     "text": [
      "training loop:   0% |                                 | ETA:  37 days, 18:51:15\r"
     ]
    },
    {
     "name": "stdout",
     "output_type": "stream",
     "text": [
      "Episode: 273   score: 8.51   Avg score (100e): 7.30   actor gain: -0.54   critic loss: 0.42   steps: 273\n"
     ]
    },
    {
     "name": "stderr",
     "output_type": "stream",
     "text": [
      "training loop:   0% |                                 | ETA:  37 days, 18:31:02\r"
     ]
    },
    {
     "name": "stdout",
     "output_type": "stream",
     "text": [
      "Episode: 274   score: 8.53   Avg score (100e): 7.32   actor gain: -0.54   critic loss: 0.42   steps: 274\n"
     ]
    },
    {
     "name": "stderr",
     "output_type": "stream",
     "text": [
      "training loop:   0% |                                 | ETA:  37 days, 18:14:43\r"
     ]
    },
    {
     "name": "stdout",
     "output_type": "stream",
     "text": [
      "Episode: 275   score: 8.55   Avg score (100e): 7.35   actor gain: -0.54   critic loss: 0.42   steps: 275\n"
     ]
    },
    {
     "name": "stderr",
     "output_type": "stream",
     "text": [
      "training loop:   0% |                                 | ETA:  37 days, 17:54:23\r"
     ]
    },
    {
     "name": "stdout",
     "output_type": "stream",
     "text": [
      "Episode: 276   score: 8.58   Avg score (100e): 7.37   actor gain: -0.55   critic loss: 0.42   steps: 276\n"
     ]
    },
    {
     "name": "stderr",
     "output_type": "stream",
     "text": [
      "training loop:   0% |                                 | ETA:  37 days, 17:29:14\r"
     ]
    },
    {
     "name": "stdout",
     "output_type": "stream",
     "text": [
      "Episode: 277   score: 8.62   Avg score (100e): 7.39   actor gain: -0.55   critic loss: 0.42   steps: 277\n"
     ]
    },
    {
     "name": "stderr",
     "output_type": "stream",
     "text": [
      "training loop:   0% |                                 | ETA:  37 days, 17:10:17\r"
     ]
    },
    {
     "name": "stdout",
     "output_type": "stream",
     "text": [
      "Episode: 278   score: 8.64   Avg score (100e): 7.42   actor gain: -0.55   critic loss: 0.42   steps: 278\n"
     ]
    },
    {
     "name": "stderr",
     "output_type": "stream",
     "text": [
      "training loop:   0% |                                 | ETA:  37 days, 16:49:00\r"
     ]
    },
    {
     "name": "stdout",
     "output_type": "stream",
     "text": [
      "Episode: 279   score: 8.66   Avg score (100e): 7.44   actor gain: -0.55   critic loss: 0.42   steps: 279\n"
     ]
    },
    {
     "name": "stderr",
     "output_type": "stream",
     "text": [
      "training loop:   0% |                                 | ETA:  37 days, 16:26:35\r"
     ]
    },
    {
     "name": "stdout",
     "output_type": "stream",
     "text": [
      "Episode: 280   score: 8.68   Avg score (100e): 7.46   actor gain: -0.55   critic loss: 0.42   steps: 280\n"
     ]
    },
    {
     "name": "stderr",
     "output_type": "stream",
     "text": [
      "training loop:   0% |                                 | ETA:  37 days, 16:05:31\r"
     ]
    },
    {
     "name": "stdout",
     "output_type": "stream",
     "text": [
      "Episode: 281   score: 8.69   Avg score (100e): 7.49   actor gain: -0.55   critic loss: 0.42   steps: 281\n"
     ]
    },
    {
     "name": "stderr",
     "output_type": "stream",
     "text": [
      "training loop:   0% |                                 | ETA:  37 days, 15:40:21\r"
     ]
    },
    {
     "name": "stdout",
     "output_type": "stream",
     "text": [
      "Episode: 282   score: 8.72   Avg score (100e): 7.51   actor gain: -0.55   critic loss: 0.42   steps: 282\n"
     ]
    },
    {
     "name": "stderr",
     "output_type": "stream",
     "text": [
      "training loop:   0% |                                 | ETA:  37 days, 15:21:03\r"
     ]
    },
    {
     "name": "stdout",
     "output_type": "stream",
     "text": [
      "Episode: 283   score: 8.74   Avg score (100e): 7.54   actor gain: -0.55   critic loss: 0.42   steps: 283\n"
     ]
    },
    {
     "name": "stderr",
     "output_type": "stream",
     "text": [
      "training loop:   0% |                                 | ETA:  37 days, 14:58:37\r"
     ]
    },
    {
     "name": "stdout",
     "output_type": "stream",
     "text": [
      "Episode: 284   score: 8.75   Avg score (100e): 7.56   actor gain: -0.46   critic loss: 0.42   steps: 284\n"
     ]
    },
    {
     "name": "stderr",
     "output_type": "stream",
     "text": [
      "training loop:   0% |                                 | ETA:  37 days, 14:41:55\r"
     ]
    },
    {
     "name": "stdout",
     "output_type": "stream",
     "text": [
      "Episode: 285   score: 8.77   Avg score (100e): 7.59   actor gain: -0.46   critic loss: 0.42   steps: 285\n"
     ]
    },
    {
     "name": "stderr",
     "output_type": "stream",
     "text": [
      "training loop:   0% |                                 | ETA:  37 days, 14:37:37\r"
     ]
    },
    {
     "name": "stdout",
     "output_type": "stream",
     "text": [
      "Episode: 286   score: 8.79   Avg score (100e): 7.61   actor gain: -0.47   critic loss: 0.42   steps: 286\n"
     ]
    },
    {
     "name": "stderr",
     "output_type": "stream",
     "text": [
      "training loop:   0% |                                 | ETA:  37 days, 14:31:10\r"
     ]
    },
    {
     "name": "stdout",
     "output_type": "stream",
     "text": [
      "Episode: 287   score: 8.81   Avg score (100e): 7.63   actor gain: -0.47   critic loss: 0.42   steps: 287\n"
     ]
    },
    {
     "name": "stderr",
     "output_type": "stream",
     "text": [
      "training loop:   0% |                                 | ETA:  37 days, 14:15:21\r"
     ]
    },
    {
     "name": "stdout",
     "output_type": "stream",
     "text": [
      "Episode: 288   score: 8.82   Avg score (100e): 7.66   actor gain: -0.46   critic loss: 0.42   steps: 288\n"
     ]
    },
    {
     "name": "stderr",
     "output_type": "stream",
     "text": [
      "training loop:   0% |                                 | ETA:  37 days, 13:57:33\r"
     ]
    },
    {
     "name": "stdout",
     "output_type": "stream",
     "text": [
      "Episode: 289   score: 8.87   Avg score (100e): 7.68   actor gain: -0.46   critic loss: 0.42   steps: 289\n"
     ]
    },
    {
     "name": "stderr",
     "output_type": "stream",
     "text": [
      "training loop:   0% |                                 | ETA:  37 days, 13:37:15\r"
     ]
    },
    {
     "name": "stdout",
     "output_type": "stream",
     "text": [
      "Episode: 290   score: 8.89   Avg score (100e): 7.71   actor gain: -0.47   critic loss: 0.42   steps: 290\n"
     ]
    },
    {
     "name": "stderr",
     "output_type": "stream",
     "text": [
      "training loop:   0% |                                 | ETA:  37 days, 13:17:57\r"
     ]
    },
    {
     "name": "stdout",
     "output_type": "stream",
     "text": [
      "Episode: 291   score: 8.92   Avg score (100e): 7.73   actor gain: -0.47   critic loss: 0.42   steps: 291\n"
     ]
    },
    {
     "name": "stderr",
     "output_type": "stream",
     "text": [
      "training loop:   0% |                                 | ETA:  37 days, 13:06:53\r"
     ]
    },
    {
     "name": "stdout",
     "output_type": "stream",
     "text": [
      "Episode: 292   score: 8.94   Avg score (100e): 7.76   actor gain: -0.46   critic loss: 0.41   steps: 292\n"
     ]
    },
    {
     "name": "stderr",
     "output_type": "stream",
     "text": [
      "training loop:   0% |                                 | ETA:  37 days, 12:50:47\r"
     ]
    },
    {
     "name": "stdout",
     "output_type": "stream",
     "text": [
      "Episode: 293   score: 8.97   Avg score (100e): 7.78   actor gain: -0.46   critic loss: 0.41   steps: 293\n"
     ]
    },
    {
     "name": "stderr",
     "output_type": "stream",
     "text": [
      "training loop:   0% |                                 | ETA:  37 days, 12:34:42\r"
     ]
    },
    {
     "name": "stdout",
     "output_type": "stream",
     "text": [
      "Episode: 294   score: 9.00   Avg score (100e): 7.81   actor gain: -0.48   critic loss: 0.41   steps: 294\n"
     ]
    },
    {
     "name": "stderr",
     "output_type": "stream",
     "text": [
      "training loop:   0% |                                 | ETA:  37 days, 12:18:44\r"
     ]
    },
    {
     "name": "stdout",
     "output_type": "stream",
     "text": [
      "Episode: 295   score: 9.01   Avg score (100e): 7.83   actor gain: -0.48   critic loss: 0.41   steps: 295\n"
     ]
    },
    {
     "name": "stderr",
     "output_type": "stream",
     "text": [
      "training loop:   0% |                                 | ETA:  37 days, 12:01:13\r"
     ]
    },
    {
     "name": "stdout",
     "output_type": "stream",
     "text": [
      "Episode: 296   score: 9.04   Avg score (100e): 7.86   actor gain: -0.48   critic loss: 0.41   steps: 296\n"
     ]
    },
    {
     "name": "stderr",
     "output_type": "stream",
     "text": [
      "training loop:   0% |                                 | ETA:  37 days, 11:42:57\r"
     ]
    },
    {
     "name": "stdout",
     "output_type": "stream",
     "text": [
      "Episode: 297   score: 9.05   Avg score (100e): 7.88   actor gain: -0.48   critic loss: 0.41   steps: 297\n"
     ]
    },
    {
     "name": "stderr",
     "output_type": "stream",
     "text": [
      "training loop:   0% |                                 | ETA:  37 days, 11:19:02\r"
     ]
    },
    {
     "name": "stdout",
     "output_type": "stream",
     "text": [
      "Episode: 298   score: 9.07   Avg score (100e): 7.91   actor gain: -0.48   critic loss: 0.41   steps: 298\n"
     ]
    },
    {
     "name": "stderr",
     "output_type": "stream",
     "text": [
      "training loop:   0% |                                 | ETA:  37 days, 11:01:48\r"
     ]
    },
    {
     "name": "stdout",
     "output_type": "stream",
     "text": [
      "Episode: 299   score: 9.10   Avg score (100e): 7.93   actor gain: -0.48   critic loss: 0.41   steps: 299\n"
     ]
    },
    {
     "name": "stderr",
     "output_type": "stream",
     "text": [
      "training loop:   0% |                                 | ETA:  37 days, 10:37:46\r"
     ]
    },
    {
     "name": "stdout",
     "output_type": "stream",
     "text": [
      "Episode: 300   score: 9.12   Avg score (100e): 7.96   actor gain: -0.48   critic loss: 0.41   steps: 300\n"
     ]
    },
    {
     "name": "stderr",
     "output_type": "stream",
     "text": [
      "training loop:   0% |                                 | ETA:  37 days, 10:46:28\r"
     ]
    },
    {
     "name": "stdout",
     "output_type": "stream",
     "text": [
      "Episode: 301   score: 9.13   Avg score (100e): 7.98   actor gain: -0.46   critic loss: 0.41   steps: 301\n"
     ]
    },
    {
     "name": "stderr",
     "output_type": "stream",
     "text": [
      "training loop:   0% |                                 | ETA:  37 days, 10:38:12\r"
     ]
    },
    {
     "name": "stdout",
     "output_type": "stream",
     "text": [
      "Episode: 302   score: 9.15   Avg score (100e): 8.01   actor gain: -0.46   critic loss: 0.41   steps: 302\n"
     ]
    },
    {
     "name": "stderr",
     "output_type": "stream",
     "text": [
      "training loop:   0% |                                 | ETA:  37 days, 10:29:21\r"
     ]
    },
    {
     "name": "stdout",
     "output_type": "stream",
     "text": [
      "Episode: 303   score: 9.15   Avg score (100e): 8.03   actor gain: -0.46   critic loss: 0.41   steps: 303\n"
     ]
    },
    {
     "name": "stderr",
     "output_type": "stream",
     "text": [
      "training loop:   0% |                                 | ETA:  37 days, 10:14:06\r"
     ]
    },
    {
     "name": "stdout",
     "output_type": "stream",
     "text": [
      "Episode: 304   score: 9.16   Avg score (100e): 8.05   actor gain: -0.46   critic loss: 0.41   steps: 304\n"
     ]
    },
    {
     "name": "stderr",
     "output_type": "stream",
     "text": [
      "training loop:   0% |                                  | ETA:  37 days, 9:56:54\r"
     ]
    },
    {
     "name": "stdout",
     "output_type": "stream",
     "text": [
      "Episode: 305   score: 9.18   Avg score (100e): 8.08   actor gain: -0.46   critic loss: 0.40   steps: 305\n"
     ]
    },
    {
     "name": "stderr",
     "output_type": "stream",
     "text": [
      "training loop:   0% |                                  | ETA:  37 days, 9:47:40\r"
     ]
    },
    {
     "name": "stdout",
     "output_type": "stream",
     "text": [
      "Episode: 306   score: 9.22   Avg score (100e): 8.10   actor gain: -0.46   critic loss: 0.40   steps: 306\n"
     ]
    },
    {
     "name": "stderr",
     "output_type": "stream",
     "text": [
      "training loop:   0% |                                  | ETA:  37 days, 9:28:33\r"
     ]
    },
    {
     "name": "stdout",
     "output_type": "stream",
     "text": [
      "Episode: 307   score: 9.22   Avg score (100e): 8.13   actor gain: -0.47   critic loss: 0.40   steps: 307\n"
     ]
    },
    {
     "name": "stderr",
     "output_type": "stream",
     "text": [
      "training loop:   0% |                                  | ETA:  37 days, 9:09:34\r"
     ]
    },
    {
     "name": "stdout",
     "output_type": "stream",
     "text": [
      "Episode: 308   score: 9.26   Avg score (100e): 8.15   actor gain: -0.47   critic loss: 0.40   steps: 308\n"
     ]
    },
    {
     "name": "stderr",
     "output_type": "stream",
     "text": [
      "training loop:   0% |                                  | ETA:  37 days, 8:55:53\r"
     ]
    },
    {
     "name": "stdout",
     "output_type": "stream",
     "text": [
      "Episode: 309   score: 9.26   Avg score (100e): 8.17   actor gain: -0.47   critic loss: 0.40   steps: 309\n"
     ]
    },
    {
     "name": "stderr",
     "output_type": "stream",
     "text": [
      "training loop:   0% |                                  | ETA:  37 days, 8:36:06\r"
     ]
    },
    {
     "name": "stdout",
     "output_type": "stream",
     "text": [
      "Episode: 310   score: 9.28   Avg score (100e): 8.20   actor gain: -0.47   critic loss: 0.40   steps: 310\n"
     ]
    },
    {
     "name": "stderr",
     "output_type": "stream",
     "text": [
      "training loop:   0% |                                  | ETA:  37 days, 8:20:30\r"
     ]
    },
    {
     "name": "stdout",
     "output_type": "stream",
     "text": [
      "Episode: 311   score: 9.32   Avg score (100e): 8.22   actor gain: -0.47   critic loss: 0.40   steps: 311\n"
     ]
    },
    {
     "name": "stderr",
     "output_type": "stream",
     "text": [
      "training loop:   0% |                                  | ETA:  37 days, 8:00:01\r"
     ]
    },
    {
     "name": "stdout",
     "output_type": "stream",
     "text": [
      "Episode: 312   score: 9.34   Avg score (100e): 8.24   actor gain: -0.47   critic loss: 0.40   steps: 312\n"
     ]
    },
    {
     "name": "stderr",
     "output_type": "stream",
     "text": [
      "training loop:   0% |                                  | ETA:  37 days, 7:42:00\r"
     ]
    },
    {
     "name": "stdout",
     "output_type": "stream",
     "text": [
      "Episode: 313   score: 9.38   Avg score (100e): 8.27   actor gain: -0.47   critic loss: 0.40   steps: 313\n"
     ]
    },
    {
     "name": "stderr",
     "output_type": "stream",
     "text": [
      "training loop:   0% |                                  | ETA:  37 days, 7:22:33\r"
     ]
    },
    {
     "name": "stdout",
     "output_type": "stream",
     "text": [
      "Episode: 314   score: 9.41   Avg score (100e): 8.29   actor gain: -0.47   critic loss: 0.40   steps: 314\n"
     ]
    },
    {
     "name": "stderr",
     "output_type": "stream",
     "text": [
      "training loop:   0% |                                  | ETA:  37 days, 7:11:21\r"
     ]
    },
    {
     "name": "stdout",
     "output_type": "stream",
     "text": [
      "Episode: 315   score: 9.44   Avg score (100e): 8.32   actor gain: -0.47   critic loss: 0.40   steps: 315\n"
     ]
    },
    {
     "name": "stderr",
     "output_type": "stream",
     "text": [
      "training loop:   0% |                                  | ETA:  37 days, 7:17:21\r"
     ]
    },
    {
     "name": "stdout",
     "output_type": "stream",
     "text": [
      "Episode: 316   score: 9.45   Avg score (100e): 8.34   actor gain: -0.47   critic loss: 0.40   steps: 316\n"
     ]
    },
    {
     "name": "stderr",
     "output_type": "stream",
     "text": [
      "training loop:   0% |                                  | ETA:  37 days, 7:10:27\r"
     ]
    },
    {
     "name": "stdout",
     "output_type": "stream",
     "text": [
      "Episode: 317   score: 9.45   Avg score (100e): 8.36   actor gain: -0.47   critic loss: 0.40   steps: 317\n"
     ]
    },
    {
     "name": "stderr",
     "output_type": "stream",
     "text": [
      "training loop:   0% |                                  | ETA:  37 days, 6:59:17\r"
     ]
    },
    {
     "name": "stdout",
     "output_type": "stream",
     "text": [
      "Episode: 318   score: 9.48   Avg score (100e): 8.39   actor gain: -0.47   critic loss: 0.40   steps: 318\n"
     ]
    },
    {
     "name": "stderr",
     "output_type": "stream",
     "text": [
      "training loop:   0% |                                  | ETA:  37 days, 7:18:26\r"
     ]
    },
    {
     "name": "stdout",
     "output_type": "stream",
     "text": [
      "Episode: 319   score: 9.48   Avg score (100e): 8.41   actor gain: -0.45   critic loss: 0.40   steps: 319\n"
     ]
    },
    {
     "name": "stderr",
     "output_type": "stream",
     "text": [
      "training loop:   0% |                                  | ETA:  37 days, 7:31:02\r"
     ]
    },
    {
     "name": "stdout",
     "output_type": "stream",
     "text": [
      "Episode: 320   score: 9.51   Avg score (100e): 8.43   actor gain: -0.45   critic loss: 0.40   steps: 320\n"
     ]
    },
    {
     "name": "stderr",
     "output_type": "stream",
     "text": [
      "training loop:   0% |                                  | ETA:  37 days, 7:51:13\r"
     ]
    },
    {
     "name": "stdout",
     "output_type": "stream",
     "text": [
      "Episode: 321   score: 9.53   Avg score (100e): 8.45   actor gain: -0.45   critic loss: 0.40   steps: 321\n"
     ]
    },
    {
     "name": "stderr",
     "output_type": "stream",
     "text": [
      "training loop:   0% |                                  | ETA:  37 days, 7:53:42\r"
     ]
    },
    {
     "name": "stdout",
     "output_type": "stream",
     "text": [
      "Episode: 322   score: 9.55   Avg score (100e): 8.48   actor gain: -0.45   critic loss: 0.40   steps: 322\n"
     ]
    },
    {
     "name": "stderr",
     "output_type": "stream",
     "text": [
      "training loop:   0% |                                  | ETA:  37 days, 7:52:37\r"
     ]
    },
    {
     "name": "stdout",
     "output_type": "stream",
     "text": [
      "Episode: 323   score: 9.56   Avg score (100e): 8.50   actor gain: -0.45   critic loss: 0.40   steps: 323\n"
     ]
    },
    {
     "name": "stderr",
     "output_type": "stream",
     "text": [
      "training loop:   0% |                                  | ETA:  37 days, 8:26:38\r"
     ]
    },
    {
     "name": "stdout",
     "output_type": "stream",
     "text": [
      "Episode: 324   score: 9.59   Avg score (100e): 8.52   actor gain: -0.45   critic loss: 0.40   steps: 324\n"
     ]
    },
    {
     "name": "stderr",
     "output_type": "stream",
     "text": [
      "training loop:   0% |                                  | ETA:  37 days, 8:27:00\r"
     ]
    },
    {
     "name": "stdout",
     "output_type": "stream",
     "text": [
      "Episode: 325   score: 9.61   Avg score (100e): 8.55   actor gain: -0.45   critic loss: 0.40   steps: 325\n"
     ]
    },
    {
     "name": "stderr",
     "output_type": "stream",
     "text": [
      "training loop:   0% |                                  | ETA:  37 days, 8:35:29\r"
     ]
    },
    {
     "name": "stdout",
     "output_type": "stream",
     "text": [
      "Episode: 326   score: 9.64   Avg score (100e): 8.57   actor gain: -0.45   critic loss: 0.40   steps: 326\n"
     ]
    },
    {
     "name": "stderr",
     "output_type": "stream",
     "text": [
      "training loop:   0% |                                  | ETA:  37 days, 8:29:11\r"
     ]
    },
    {
     "name": "stdout",
     "output_type": "stream",
     "text": [
      "Episode: 327   score: 9.64   Avg score (100e): 8.59   actor gain: -0.45   critic loss: 0.40   steps: 327\n"
     ]
    },
    {
     "name": "stderr",
     "output_type": "stream",
     "text": [
      "training loop:   0% |                                  | ETA:  37 days, 8:13:00\r"
     ]
    },
    {
     "name": "stdout",
     "output_type": "stream",
     "text": [
      "Episode: 328   score: 9.66   Avg score (100e): 8.61   actor gain: -0.45   critic loss: 0.40   steps: 328\n"
     ]
    },
    {
     "name": "stderr",
     "output_type": "stream",
     "text": [
      "training loop:   0% |                                  | ETA:  37 days, 8:00:20\r"
     ]
    },
    {
     "name": "stdout",
     "output_type": "stream",
     "text": [
      "Episode: 329   score: 9.70   Avg score (100e): 8.64   actor gain: -0.45   critic loss: 0.40   steps: 329\n"
     ]
    },
    {
     "name": "stderr",
     "output_type": "stream",
     "text": [
      "training loop:   0% |                                  | ETA:  37 days, 7:45:43\r"
     ]
    },
    {
     "name": "stdout",
     "output_type": "stream",
     "text": [
      "Episode: 330   score: 9.70   Avg score (100e): 8.66   actor gain: -0.45   critic loss: 0.40   steps: 330\n"
     ]
    },
    {
     "name": "stderr",
     "output_type": "stream",
     "text": [
      "training loop:   0% |                                  | ETA:  37 days, 7:25:26\r"
     ]
    },
    {
     "name": "stdout",
     "output_type": "stream",
     "text": [
      "Episode: 331   score: 9.72   Avg score (100e): 8.68   actor gain: -0.45   critic loss: 0.40   steps: 331\n"
     ]
    },
    {
     "name": "stderr",
     "output_type": "stream",
     "text": [
      "training loop:   0% |                                  | ETA:  37 days, 7:22:35\r"
     ]
    },
    {
     "name": "stdout",
     "output_type": "stream",
     "text": [
      "Episode: 332   score: 9.72   Avg score (100e): 8.70   actor gain: -0.45   critic loss: 0.41   steps: 332\n"
     ]
    },
    {
     "name": "stderr",
     "output_type": "stream",
     "text": [
      "training loop:   0% |                                  | ETA:  37 days, 7:40:22\r"
     ]
    },
    {
     "name": "stdout",
     "output_type": "stream",
     "text": [
      "Episode: 333   score: 9.75   Avg score (100e): 8.72   actor gain: -0.45   critic loss: 0.41   steps: 333\n"
     ]
    },
    {
     "name": "stderr",
     "output_type": "stream",
     "text": [
      "training loop:   0% |                                  | ETA:  37 days, 7:41:53\r"
     ]
    },
    {
     "name": "stdout",
     "output_type": "stream",
     "text": [
      "Episode: 334   score: 9.77   Avg score (100e): 8.75   actor gain: -0.45   critic loss: 0.41   steps: 334\n"
     ]
    },
    {
     "name": "stderr",
     "output_type": "stream",
     "text": [
      "training loop:   0% |                                  | ETA:  37 days, 7:46:12\r"
     ]
    },
    {
     "name": "stdout",
     "output_type": "stream",
     "text": [
      "Episode: 335   score: 9.80   Avg score (100e): 8.77   actor gain: -0.45   critic loss: 0.41   steps: 335\n"
     ]
    },
    {
     "name": "stderr",
     "output_type": "stream",
     "text": [
      "training loop:   0% |                                  | ETA:  37 days, 7:44:21\r"
     ]
    },
    {
     "name": "stdout",
     "output_type": "stream",
     "text": [
      "Episode: 336   score: 9.82   Avg score (100e): 8.79   actor gain: -0.45   critic loss: 0.41   steps: 336\n"
     ]
    },
    {
     "name": "stderr",
     "output_type": "stream",
     "text": [
      "training loop:   0% |                                  | ETA:  37 days, 7:36:58\r"
     ]
    },
    {
     "name": "stdout",
     "output_type": "stream",
     "text": [
      "Episode: 337   score: 9.86   Avg score (100e): 8.81   actor gain: -0.45   critic loss: 0.41   steps: 337\n"
     ]
    },
    {
     "name": "stderr",
     "output_type": "stream",
     "text": [
      "training loop:   0% |                                  | ETA:  37 days, 7:38:24\r"
     ]
    },
    {
     "name": "stdout",
     "output_type": "stream",
     "text": [
      "Episode: 338   score: 9.87   Avg score (100e): 8.83   actor gain: -0.44   critic loss: 0.41   steps: 338\n"
     ]
    },
    {
     "name": "stderr",
     "output_type": "stream",
     "text": [
      "training loop:   0% |                                  | ETA:  37 days, 7:32:24\r"
     ]
    },
    {
     "name": "stdout",
     "output_type": "stream",
     "text": [
      "Episode: 339   score: 9.89   Avg score (100e): 8.86   actor gain: -0.44   critic loss: 0.41   steps: 339\n"
     ]
    },
    {
     "name": "stderr",
     "output_type": "stream",
     "text": [
      "training loop:   0% |                                  | ETA:  37 days, 7:42:30\r"
     ]
    },
    {
     "name": "stdout",
     "output_type": "stream",
     "text": [
      "Episode: 340   score: 9.92   Avg score (100e): 8.88   actor gain: -0.44   critic loss: 0.41   steps: 340\n"
     ]
    },
    {
     "name": "stderr",
     "output_type": "stream",
     "text": [
      "training loop:   0% |                                  | ETA:  37 days, 7:40:51\r"
     ]
    },
    {
     "name": "stdout",
     "output_type": "stream",
     "text": [
      "Episode: 341   score: 9.95   Avg score (100e): 8.90   actor gain: -0.45   critic loss: 0.41   steps: 341\n"
     ]
    },
    {
     "name": "stderr",
     "output_type": "stream",
     "text": [
      "training loop:   0% |                                  | ETA:  37 days, 7:45:34\r"
     ]
    },
    {
     "name": "stdout",
     "output_type": "stream",
     "text": [
      "Episode: 342   score: 9.98   Avg score (100e): 8.92   actor gain: -0.45   critic loss: 0.41   steps: 342\n"
     ]
    },
    {
     "name": "stderr",
     "output_type": "stream",
     "text": [
      "training loop:   0% |                                  | ETA:  37 days, 7:33:25\r"
     ]
    },
    {
     "name": "stdout",
     "output_type": "stream",
     "text": [
      "Episode: 343   score: 10.00   Avg score (100e): 8.94   actor gain: -0.45   critic loss: 0.41   steps: 343\n"
     ]
    },
    {
     "name": "stderr",
     "output_type": "stream",
     "text": [
      "training loop:   0% |                                  | ETA:  37 days, 7:24:04\r"
     ]
    },
    {
     "name": "stdout",
     "output_type": "stream",
     "text": [
      "Episode: 344   score: 10.03   Avg score (100e): 8.96   actor gain: -0.45   critic loss: 0.41   steps: 344\n"
     ]
    },
    {
     "name": "stderr",
     "output_type": "stream",
     "text": [
      "training loop:   0% |                                  | ETA:  37 days, 7:07:47\r"
     ]
    },
    {
     "name": "stdout",
     "output_type": "stream",
     "text": [
      "Episode: 345   score: 10.04   Avg score (100e): 8.99   actor gain: -0.45   critic loss: 0.41   steps: 345\n"
     ]
    },
    {
     "name": "stderr",
     "output_type": "stream",
     "text": [
      "training loop:   0% |                                  | ETA:  37 days, 6:55:19\r"
     ]
    },
    {
     "name": "stdout",
     "output_type": "stream",
     "text": [
      "Episode: 346   score: 10.06   Avg score (100e): 9.01   actor gain: -0.45   critic loss: 0.41   steps: 346\n"
     ]
    },
    {
     "name": "stderr",
     "output_type": "stream",
     "text": [
      "training loop:   0% |                                  | ETA:  37 days, 6:36:10\r"
     ]
    },
    {
     "name": "stdout",
     "output_type": "stream",
     "text": [
      "Episode: 347   score: 10.06   Avg score (100e): 9.03   actor gain: -0.45   critic loss: 0.41   steps: 347\n"
     ]
    },
    {
     "name": "stderr",
     "output_type": "stream",
     "text": [
      "training loop:   0% |                                  | ETA:  37 days, 6:39:13\r"
     ]
    },
    {
     "name": "stdout",
     "output_type": "stream",
     "text": [
      "Episode: 348   score: 10.07   Avg score (100e): 9.05   actor gain: -0.45   critic loss: 0.41   steps: 348\n"
     ]
    },
    {
     "name": "stderr",
     "output_type": "stream",
     "text": [
      "training loop:   0% |                                  | ETA:  37 days, 6:45:13\r"
     ]
    },
    {
     "name": "stdout",
     "output_type": "stream",
     "text": [
      "Episode: 349   score: 10.09   Avg score (100e): 9.07   actor gain: -0.45   critic loss: 0.41   steps: 349\n"
     ]
    },
    {
     "name": "stderr",
     "output_type": "stream",
     "text": [
      "training loop:   0% |                                  | ETA:  37 days, 6:55:42\r"
     ]
    },
    {
     "name": "stdout",
     "output_type": "stream",
     "text": [
      "Episode: 350   score: 10.11   Avg score (100e): 9.09   actor gain: -0.45   critic loss: 0.40   steps: 350\n"
     ]
    },
    {
     "name": "stderr",
     "output_type": "stream",
     "text": [
      "training loop:   0% |                                  | ETA:  37 days, 6:46:55\r"
     ]
    },
    {
     "name": "stdout",
     "output_type": "stream",
     "text": [
      "Episode: 351   score: 10.13   Avg score (100e): 9.11   actor gain: -0.45   critic loss: 0.40   steps: 351\n"
     ]
    },
    {
     "name": "stderr",
     "output_type": "stream",
     "text": [
      "training loop:   0% |                                  | ETA:  37 days, 6:33:24\r"
     ]
    },
    {
     "name": "stdout",
     "output_type": "stream",
     "text": [
      "Episode: 352   score: 10.14   Avg score (100e): 9.13   actor gain: -0.45   critic loss: 0.40   steps: 352\n"
     ]
    },
    {
     "name": "stderr",
     "output_type": "stream",
     "text": [
      "training loop:   0% |                                  | ETA:  37 days, 6:22:34\r"
     ]
    },
    {
     "name": "stdout",
     "output_type": "stream",
     "text": [
      "Episode: 353   score: 10.16   Avg score (100e): 9.16   actor gain: -0.45   critic loss: 0.40   steps: 353\n"
     ]
    },
    {
     "name": "stderr",
     "output_type": "stream",
     "text": [
      "training loop:   0% |                                  | ETA:  37 days, 6:06:23\r"
     ]
    },
    {
     "name": "stdout",
     "output_type": "stream",
     "text": [
      "Episode: 354   score: 10.20   Avg score (100e): 9.18   actor gain: -0.45   critic loss: 0.40   steps: 354\n"
     ]
    },
    {
     "name": "stderr",
     "output_type": "stream",
     "text": [
      "training loop:   0% |                                  | ETA:  37 days, 5:48:27\r"
     ]
    },
    {
     "name": "stdout",
     "output_type": "stream",
     "text": [
      "Episode: 355   score: 10.22   Avg score (100e): 9.20   actor gain: -0.45   critic loss: 0.40   steps: 355\n"
     ]
    },
    {
     "name": "stderr",
     "output_type": "stream",
     "text": [
      "training loop:   0% |                                  | ETA:  37 days, 5:42:07\r"
     ]
    },
    {
     "name": "stdout",
     "output_type": "stream",
     "text": [
      "Episode: 356   score: 10.26   Avg score (100e): 9.22   actor gain: -0.45   critic loss: 0.40   steps: 356\n"
     ]
    },
    {
     "name": "stderr",
     "output_type": "stream",
     "text": [
      "training loop:   0% |                                  | ETA:  37 days, 5:51:20\r"
     ]
    },
    {
     "name": "stdout",
     "output_type": "stream",
     "text": [
      "Episode: 357   score: 10.27   Avg score (100e): 9.24   actor gain: -0.45   critic loss: 0.40   steps: 357\n"
     ]
    },
    {
     "name": "stderr",
     "output_type": "stream",
     "text": [
      "training loop:   0% |                                  | ETA:  37 days, 5:49:30\r"
     ]
    },
    {
     "name": "stdout",
     "output_type": "stream",
     "text": [
      "Episode: 358   score: 10.29   Avg score (100e): 9.26   actor gain: -0.45   critic loss: 0.40   steps: 358\n"
     ]
    },
    {
     "name": "stderr",
     "output_type": "stream",
     "text": [
      "training loop:   0% |                                  | ETA:  37 days, 5:41:10\r"
     ]
    },
    {
     "name": "stdout",
     "output_type": "stream",
     "text": [
      "Episode: 359   score: 10.32   Avg score (100e): 9.28   actor gain: -0.45   critic loss: 0.41   steps: 359\n"
     ]
    },
    {
     "name": "stderr",
     "output_type": "stream",
     "text": [
      "training loop:   0% |                                  | ETA:  37 days, 5:40:04\r"
     ]
    },
    {
     "name": "stdout",
     "output_type": "stream",
     "text": [
      "Episode: 360   score: 10.32   Avg score (100e): 9.30   actor gain: -0.45   critic loss: 0.41   steps: 360\n"
     ]
    },
    {
     "name": "stderr",
     "output_type": "stream",
     "text": [
      "training loop:   0% |                                  | ETA:  37 days, 5:24:26\r"
     ]
    },
    {
     "name": "stdout",
     "output_type": "stream",
     "text": [
      "Episode: 361   score: 10.34   Avg score (100e): 9.33   actor gain: -0.46   critic loss: 0.41   steps: 361\n"
     ]
    },
    {
     "name": "stderr",
     "output_type": "stream",
     "text": [
      "training loop:   0% |                                  | ETA:  37 days, 5:14:55\r"
     ]
    },
    {
     "name": "stdout",
     "output_type": "stream",
     "text": [
      "Episode: 362   score: 10.37   Avg score (100e): 9.35   actor gain: -0.46   critic loss: 0.41   steps: 362\n"
     ]
    },
    {
     "name": "stderr",
     "output_type": "stream",
     "text": [
      "training loop:   0% |                                  | ETA:  37 days, 5:10:28\r"
     ]
    },
    {
     "name": "stdout",
     "output_type": "stream",
     "text": [
      "Episode: 363   score: 10.39   Avg score (100e): 9.37   actor gain: -0.46   critic loss: 0.41   steps: 363\n"
     ]
    },
    {
     "name": "stderr",
     "output_type": "stream",
     "text": [
      "training loop:   0% |                                  | ETA:  37 days, 5:26:40\r"
     ]
    },
    {
     "name": "stdout",
     "output_type": "stream",
     "text": [
      "Episode: 364   score: 10.42   Avg score (100e): 9.39   actor gain: -0.46   critic loss: 0.41   steps: 364\n"
     ]
    },
    {
     "name": "stderr",
     "output_type": "stream",
     "text": [
      "training loop:   0% |                                  | ETA:  37 days, 5:47:39\r"
     ]
    },
    {
     "name": "stdout",
     "output_type": "stream",
     "text": [
      "Episode: 365   score: 10.43   Avg score (100e): 9.41   actor gain: -0.47   critic loss: 0.41   steps: 365\n"
     ]
    },
    {
     "name": "stderr",
     "output_type": "stream",
     "text": [
      "training loop:   0% |                                  | ETA:  37 days, 5:38:18\r"
     ]
    },
    {
     "name": "stdout",
     "output_type": "stream",
     "text": [
      "Episode: 366   score: 10.46   Avg score (100e): 9.43   actor gain: -0.46   critic loss: 0.41   steps: 366\n"
     ]
    },
    {
     "name": "stderr",
     "output_type": "stream",
     "text": [
      "training loop:   0% |                                  | ETA:  37 days, 5:29:22\r"
     ]
    },
    {
     "name": "stdout",
     "output_type": "stream",
     "text": [
      "Episode: 367   score: 10.49   Avg score (100e): 9.45   actor gain: -0.46   critic loss: 0.41   steps: 367\n"
     ]
    },
    {
     "name": "stderr",
     "output_type": "stream",
     "text": [
      "training loop:   0% |                                  | ETA:  37 days, 5:17:37\r"
     ]
    },
    {
     "name": "stdout",
     "output_type": "stream",
     "text": [
      "Episode: 368   score: 10.51   Avg score (100e): 9.47   actor gain: -0.47   critic loss: 0.41   steps: 368\n"
     ]
    },
    {
     "name": "stderr",
     "output_type": "stream",
     "text": [
      "training loop:   0% |                                  | ETA:  37 days, 4:56:58\r"
     ]
    },
    {
     "name": "stdout",
     "output_type": "stream",
     "text": [
      "Episode: 369   score: 10.51   Avg score (100e): 9.49   actor gain: -0.47   critic loss: 0.41   steps: 369\n"
     ]
    },
    {
     "name": "stderr",
     "output_type": "stream",
     "text": [
      "training loop:   0% |                                  | ETA:  37 days, 4:59:48\r"
     ]
    },
    {
     "name": "stdout",
     "output_type": "stream",
     "text": [
      "Episode: 370   score: 10.52   Avg score (100e): 9.51   actor gain: -0.47   critic loss: 0.41   steps: 370\n"
     ]
    },
    {
     "name": "stderr",
     "output_type": "stream",
     "text": [
      "training loop:   0% |                                  | ETA:  37 days, 4:55:41\r"
     ]
    },
    {
     "name": "stdout",
     "output_type": "stream",
     "text": [
      "Episode: 371   score: 10.52   Avg score (100e): 9.54   actor gain: -0.47   critic loss: 0.41   steps: 371\n"
     ]
    },
    {
     "name": "stderr",
     "output_type": "stream",
     "text": [
      "training loop:   0% |                                  | ETA:  37 days, 4:50:55\r"
     ]
    },
    {
     "name": "stdout",
     "output_type": "stream",
     "text": [
      "Episode: 372   score: 10.53   Avg score (100e): 9.56   actor gain: -0.47   critic loss: 0.41   steps: 372\n"
     ]
    },
    {
     "name": "stderr",
     "output_type": "stream",
     "text": [
      "training loop:   0% |                                  | ETA:  37 days, 4:46:26\r"
     ]
    },
    {
     "name": "stdout",
     "output_type": "stream",
     "text": [
      "Episode: 373   score: 10.54   Avg score (100e): 9.58   actor gain: -0.47   critic loss: 0.41   steps: 373\n"
     ]
    },
    {
     "name": "stderr",
     "output_type": "stream",
     "text": [
      "training loop:   0% |                                  | ETA:  37 days, 4:29:10\r"
     ]
    },
    {
     "name": "stdout",
     "output_type": "stream",
     "text": [
      "Episode: 374   score: 10.54   Avg score (100e): 9.60   actor gain: -0.47   critic loss: 0.41   steps: 374\n"
     ]
    },
    {
     "name": "stderr",
     "output_type": "stream",
     "text": [
      "training loop:   0% |                                  | ETA:  37 days, 4:17:20\r"
     ]
    },
    {
     "name": "stdout",
     "output_type": "stream",
     "text": [
      "Episode: 375   score: 10.55   Avg score (100e): 9.62   actor gain: -0.47   critic loss: 0.41   steps: 375\n"
     ]
    },
    {
     "name": "stderr",
     "output_type": "stream",
     "text": [
      "training loop:   0% |                                  | ETA:  37 days, 4:04:29\r"
     ]
    },
    {
     "name": "stdout",
     "output_type": "stream",
     "text": [
      "Episode: 376   score: 10.57   Avg score (100e): 9.64   actor gain: -0.47   critic loss: 0.41   steps: 376\n"
     ]
    },
    {
     "name": "stderr",
     "output_type": "stream",
     "text": [
      "training loop:   0% |                                  | ETA:  37 days, 3:52:15\r"
     ]
    },
    {
     "name": "stdout",
     "output_type": "stream",
     "text": [
      "Episode: 377   score: 10.57   Avg score (100e): 9.66   actor gain: -0.47   critic loss: 0.41   steps: 377\n"
     ]
    },
    {
     "name": "stderr",
     "output_type": "stream",
     "text": [
      "training loop:   0% |                                  | ETA:  37 days, 3:47:14\r"
     ]
    },
    {
     "name": "stdout",
     "output_type": "stream",
     "text": [
      "Episode: 378   score: 10.59   Avg score (100e): 9.68   actor gain: -0.47   critic loss: 0.41   steps: 378\n"
     ]
    },
    {
     "name": "stderr",
     "output_type": "stream",
     "text": [
      "training loop:   0% |                                  | ETA:  37 days, 3:42:49\r"
     ]
    },
    {
     "name": "stdout",
     "output_type": "stream",
     "text": [
      "Episode: 379   score: 10.58   Avg score (100e): 9.69   actor gain: -0.47   critic loss: 0.41   steps: 379\n"
     ]
    },
    {
     "name": "stderr",
     "output_type": "stream",
     "text": [
      "training loop:   0% |                                  | ETA:  37 days, 3:28:57\r"
     ]
    },
    {
     "name": "stdout",
     "output_type": "stream",
     "text": [
      "Episode: 380   score: 10.59   Avg score (100e): 9.71   actor gain: -0.47   critic loss: 0.41   steps: 380\n"
     ]
    },
    {
     "name": "stderr",
     "output_type": "stream",
     "text": [
      "training loop:   0% |                                  | ETA:  37 days, 3:17:13\r"
     ]
    },
    {
     "name": "stdout",
     "output_type": "stream",
     "text": [
      "Episode: 381   score: 10.59   Avg score (100e): 9.73   actor gain: -0.47   critic loss: 0.40   steps: 381\n"
     ]
    },
    {
     "name": "stderr",
     "output_type": "stream",
     "text": [
      "training loop:   0% |                                  | ETA:  37 days, 3:06:38\r"
     ]
    },
    {
     "name": "stdout",
     "output_type": "stream",
     "text": [
      "Episode: 382   score: 10.61   Avg score (100e): 9.75   actor gain: -0.48   critic loss: 0.40   steps: 382\n"
     ]
    },
    {
     "name": "stderr",
     "output_type": "stream",
     "text": [
      "training loop:   0% |                                  | ETA:  37 days, 2:50:55\r"
     ]
    },
    {
     "name": "stdout",
     "output_type": "stream",
     "text": [
      "Episode: 383   score: 10.59   Avg score (100e): 9.77   actor gain: -0.48   critic loss: 0.40   steps: 383\n"
     ]
    },
    {
     "name": "stderr",
     "output_type": "stream",
     "text": [
      "training loop:   0% |                                  | ETA:  37 days, 2:40:26\r"
     ]
    },
    {
     "name": "stdout",
     "output_type": "stream",
     "text": [
      "Episode: 384   score: 10.59   Avg score (100e): 9.79   actor gain: -0.48   critic loss: 0.40   steps: 384\n"
     ]
    },
    {
     "name": "stderr",
     "output_type": "stream",
     "text": [
      "training loop:   0% |                                  | ETA:  37 days, 2:31:02\r"
     ]
    },
    {
     "name": "stdout",
     "output_type": "stream",
     "text": [
      "Episode: 385   score: 10.61   Avg score (100e): 9.81   actor gain: -0.48   critic loss: 0.40   steps: 385\n"
     ]
    },
    {
     "name": "stderr",
     "output_type": "stream",
     "text": [
      "training loop:   0% |                                  | ETA:  37 days, 2:19:25\r"
     ]
    },
    {
     "name": "stdout",
     "output_type": "stream",
     "text": [
      "Episode: 386   score: 10.62   Avg score (100e): 9.83   actor gain: -0.47   critic loss: 0.40   steps: 386\n"
     ]
    },
    {
     "name": "stderr",
     "output_type": "stream",
     "text": [
      "training loop:   0% |                                  | ETA:  37 days, 2:06:41\r"
     ]
    },
    {
     "name": "stdout",
     "output_type": "stream",
     "text": [
      "Episode: 387   score: 10.62   Avg score (100e): 9.84   actor gain: -0.46   critic loss: 0.40   steps: 387\n"
     ]
    },
    {
     "name": "stderr",
     "output_type": "stream",
     "text": [
      "training loop:   0% |                                  | ETA:  37 days, 1:52:41\r"
     ]
    },
    {
     "name": "stdout",
     "output_type": "stream",
     "text": [
      "Episode: 388   score: 10.64   Avg score (100e): 9.86   actor gain: -0.46   critic loss: 0.40   steps: 388\n"
     ]
    },
    {
     "name": "stderr",
     "output_type": "stream",
     "text": [
      "training loop:   0% |                                  | ETA:  37 days, 1:56:11\r"
     ]
    },
    {
     "name": "stdout",
     "output_type": "stream",
     "text": [
      "Episode: 389   score: 10.67   Avg score (100e): 9.88   actor gain: -0.46   critic loss: 0.40   steps: 389\n"
     ]
    },
    {
     "name": "stderr",
     "output_type": "stream",
     "text": [
      "training loop:   0% |                                  | ETA:  37 days, 1:44:23\r"
     ]
    },
    {
     "name": "stdout",
     "output_type": "stream",
     "text": [
      "Episode: 390   score: 10.69   Avg score (100e): 9.90   actor gain: -0.45   critic loss: 0.40   steps: 390\n"
     ]
    },
    {
     "name": "stderr",
     "output_type": "stream",
     "text": [
      "training loop:   0% |                                  | ETA:  37 days, 1:28:17\r"
     ]
    },
    {
     "name": "stdout",
     "output_type": "stream",
     "text": [
      "Episode: 391   score: 10.70   Avg score (100e): 9.92   actor gain: -0.45   critic loss: 0.40   steps: 391\n"
     ]
    },
    {
     "name": "stderr",
     "output_type": "stream",
     "text": [
      "training loop:   0% |                                  | ETA:  37 days, 1:18:25\r"
     ]
    },
    {
     "name": "stdout",
     "output_type": "stream",
     "text": [
      "Episode: 392   score: 10.71   Avg score (100e): 9.93   actor gain: -0.45   critic loss: 0.40   steps: 392\n"
     ]
    },
    {
     "name": "stderr",
     "output_type": "stream",
     "text": [
      "training loop:   0% |                                  | ETA:  37 days, 1:08:42\r"
     ]
    },
    {
     "name": "stdout",
     "output_type": "stream",
     "text": [
      "Episode: 393   score: 10.73   Avg score (100e): 9.95   actor gain: -0.44   critic loss: 0.39   steps: 393\n"
     ]
    },
    {
     "name": "stderr",
     "output_type": "stream",
     "text": [
      "training loop:   0% |                                  | ETA:  37 days, 0:52:20\r"
     ]
    },
    {
     "name": "stdout",
     "output_type": "stream",
     "text": [
      "Episode: 394   score: 10.74   Avg score (100e): 9.97   actor gain: -0.45   critic loss: 0.39   steps: 394\n"
     ]
    },
    {
     "name": "stderr",
     "output_type": "stream",
     "text": [
      "training loop:   0% |                                  | ETA:  37 days, 0:41:47\r"
     ]
    },
    {
     "name": "stdout",
     "output_type": "stream",
     "text": [
      "Episode: 395   score: 10.75   Avg score (100e): 9.99   actor gain: -0.44   critic loss: 0.39   steps: 395\n"
     ]
    },
    {
     "name": "stderr",
     "output_type": "stream",
     "text": [
      "training loop:   0% |                                  | ETA:  37 days, 0:25:59\r"
     ]
    },
    {
     "name": "stdout",
     "output_type": "stream",
     "text": [
      "Episode: 396   score: 10.75   Avg score (100e): 10.00   actor gain: -0.44   critic loss: 0.39   steps: 396\n"
     ]
    },
    {
     "name": "stderr",
     "output_type": "stream",
     "text": [
      "training loop:   0% |                                  | ETA:  37 days, 0:14:42\r"
     ]
    },
    {
     "name": "stdout",
     "output_type": "stream",
     "text": [
      "Episode: 397   score: 10.75   Avg score (100e): 10.02   actor gain: -0.44   critic loss: 0.39   steps: 397\n"
     ]
    },
    {
     "name": "stderr",
     "output_type": "stream",
     "text": [
      "training loop:   0% |                                  | ETA:  37 days, 0:26:31\r"
     ]
    },
    {
     "name": "stdout",
     "output_type": "stream",
     "text": [
      "Episode: 398   score: 10.77   Avg score (100e): 10.04   actor gain: -0.44   critic loss: 0.39   steps: 398\n"
     ]
    },
    {
     "name": "stderr",
     "output_type": "stream",
     "text": [
      "training loop:   0% |                                  | ETA:  37 days, 0:16:06\r"
     ]
    },
    {
     "name": "stdout",
     "output_type": "stream",
     "text": [
      "Episode: 399   score: 10.77   Avg score (100e): 10.05   actor gain: -0.44   critic loss: 0.39   steps: 399\n"
     ]
    },
    {
     "name": "stderr",
     "output_type": "stream",
     "text": [
      "training loop:   0% |                                  | ETA:  37 days, 0:13:21\r"
     ]
    },
    {
     "name": "stdout",
     "output_type": "stream",
     "text": [
      "Episode: 400   score: 10.80   Avg score (100e): 10.07   actor gain: -0.45   critic loss: 0.39   steps: 400\n"
     ]
    },
    {
     "name": "stderr",
     "output_type": "stream",
     "text": [
      "training loop:   0% |                                  | ETA:  37 days, 0:08:40\r"
     ]
    },
    {
     "name": "stdout",
     "output_type": "stream",
     "text": [
      "Episode: 401   score: 10.80   Avg score (100e): 10.09   actor gain: -0.45   critic loss: 0.39   steps: 401\n"
     ]
    },
    {
     "name": "stderr",
     "output_type": "stream",
     "text": [
      "training loop:   0% |                                 | ETA:  36 days, 23:56:55\r"
     ]
    },
    {
     "name": "stdout",
     "output_type": "stream",
     "text": [
      "Episode: 402   score: 10.81   Avg score (100e): 10.10   actor gain: -0.45   critic loss: 0.39   steps: 402\n"
     ]
    },
    {
     "name": "stderr",
     "output_type": "stream",
     "text": [
      "training loop:   0% |                                 | ETA:  36 days, 23:42:34\r"
     ]
    },
    {
     "name": "stdout",
     "output_type": "stream",
     "text": [
      "Episode: 403   score: 10.82   Avg score (100e): 10.12   actor gain: -0.44   critic loss: 0.39   steps: 403\n"
     ]
    },
    {
     "name": "stderr",
     "output_type": "stream",
     "text": [
      "training loop:   0% |                                 | ETA:  36 days, 23:29:54\r"
     ]
    },
    {
     "name": "stdout",
     "output_type": "stream",
     "text": [
      "Episode: 404   score: 10.83   Avg score (100e): 10.14   actor gain: -0.44   critic loss: 0.39   steps: 404\n"
     ]
    },
    {
     "name": "stderr",
     "output_type": "stream",
     "text": [
      "training loop:   0% |                                 | ETA:  36 days, 23:18:51\r"
     ]
    },
    {
     "name": "stdout",
     "output_type": "stream",
     "text": [
      "Episode: 405   score: 10.83   Avg score (100e): 10.15   actor gain: -0.44   critic loss: 0.39   steps: 405\n"
     ]
    },
    {
     "name": "stderr",
     "output_type": "stream",
     "text": [
      "training loop:   0% |                                 | ETA:  36 days, 23:04:19\r"
     ]
    },
    {
     "name": "stdout",
     "output_type": "stream",
     "text": [
      "Episode: 406   score: 10.84   Avg score (100e): 10.17   actor gain: -0.44   critic loss: 0.39   steps: 406\n"
     ]
    },
    {
     "name": "stderr",
     "output_type": "stream",
     "text": [
      "training loop:   0% |                                 | ETA:  36 days, 22:52:22\r"
     ]
    },
    {
     "name": "stdout",
     "output_type": "stream",
     "text": [
      "Episode: 407   score: 10.84   Avg score (100e): 10.19   actor gain: -0.44   critic loss: 0.39   steps: 407\n"
     ]
    },
    {
     "name": "stderr",
     "output_type": "stream",
     "text": [
      "training loop:   0% |                                 | ETA:  36 days, 22:38:46\r"
     ]
    },
    {
     "name": "stdout",
     "output_type": "stream",
     "text": [
      "Episode: 408   score: 10.84   Avg score (100e): 10.20   actor gain: -0.44   critic loss: 0.39   steps: 408\n"
     ]
    },
    {
     "name": "stderr",
     "output_type": "stream",
     "text": [
      "training loop:   0% |                                 | ETA:  36 days, 22:25:15\r"
     ]
    },
    {
     "name": "stdout",
     "output_type": "stream",
     "text": [
      "Episode: 409   score: 10.87   Avg score (100e): 10.22   actor gain: -0.44   critic loss: 0.39   steps: 409\n"
     ]
    },
    {
     "name": "stderr",
     "output_type": "stream",
     "text": [
      "training loop:   0% |                                 | ETA:  36 days, 22:08:30\r"
     ]
    },
    {
     "name": "stdout",
     "output_type": "stream",
     "text": [
      "Episode: 410   score: 10.87   Avg score (100e): 10.23   actor gain: -0.44   critic loss: 0.39   steps: 410\n"
     ]
    },
    {
     "name": "stderr",
     "output_type": "stream",
     "text": [
      "training loop:   0% |                                 | ETA:  36 days, 21:54:03\r"
     ]
    },
    {
     "name": "stdout",
     "output_type": "stream",
     "text": [
      "Episode: 411   score: 10.89   Avg score (100e): 10.25   actor gain: -0.44   critic loss: 0.39   steps: 411\n"
     ]
    },
    {
     "name": "stderr",
     "output_type": "stream",
     "text": [
      "training loop:   0% |                                 | ETA:  36 days, 21:42:46\r"
     ]
    },
    {
     "name": "stdout",
     "output_type": "stream",
     "text": [
      "Episode: 412   score: 10.89   Avg score (100e): 10.26   actor gain: -0.44   critic loss: 0.39   steps: 412\n"
     ]
    },
    {
     "name": "stderr",
     "output_type": "stream",
     "text": [
      "training loop:   0% |                                 | ETA:  36 days, 21:29:39\r"
     ]
    },
    {
     "name": "stdout",
     "output_type": "stream",
     "text": [
      "Episode: 413   score: 10.90   Avg score (100e): 10.28   actor gain: -0.44   critic loss: 0.39   steps: 413\n"
     ]
    },
    {
     "name": "stderr",
     "output_type": "stream",
     "text": [
      "training loop:   0% |                                 | ETA:  36 days, 21:15:16\r"
     ]
    },
    {
     "name": "stdout",
     "output_type": "stream",
     "text": [
      "Episode: 414   score: 10.89   Avg score (100e): 10.29   actor gain: -0.44   critic loss: 0.40   steps: 414\n"
     ]
    },
    {
     "name": "stderr",
     "output_type": "stream",
     "text": [
      "training loop:   0% |                                 | ETA:  36 days, 21:00:34\r"
     ]
    },
    {
     "name": "stdout",
     "output_type": "stream",
     "text": [
      "Episode: 415   score: 10.90   Avg score (100e): 10.31   actor gain: -0.44   critic loss: 0.40   steps: 415\n"
     ]
    },
    {
     "name": "stderr",
     "output_type": "stream",
     "text": [
      "training loop:   0% |                                 | ETA:  36 days, 20:51:29\r"
     ]
    },
    {
     "name": "stdout",
     "output_type": "stream",
     "text": [
      "Episode: 416   score: 10.91   Avg score (100e): 10.32   actor gain: -0.44   critic loss: 0.40   steps: 416\n"
     ]
    },
    {
     "name": "stderr",
     "output_type": "stream",
     "text": [
      "training loop:   0% |                                 | ETA:  36 days, 20:44:22\r"
     ]
    },
    {
     "name": "stdout",
     "output_type": "stream",
     "text": [
      "Episode: 417   score: 10.90   Avg score (100e): 10.34   actor gain: -0.44   critic loss: 0.40   steps: 417\n"
     ]
    },
    {
     "name": "stderr",
     "output_type": "stream",
     "text": [
      "training loop:   0% |                                 | ETA:  36 days, 20:26:07\r"
     ]
    },
    {
     "name": "stdout",
     "output_type": "stream",
     "text": [
      "Episode: 418   score: 10.92   Avg score (100e): 10.35   actor gain: -0.44   critic loss: 0.40   steps: 418\n"
     ]
    },
    {
     "name": "stderr",
     "output_type": "stream",
     "text": [
      "training loop:   0% |                                 | ETA:  36 days, 20:11:38\r"
     ]
    },
    {
     "name": "stdout",
     "output_type": "stream",
     "text": [
      "Episode: 419   score: 10.90   Avg score (100e): 10.37   actor gain: -0.44   critic loss: 0.39   steps: 419\n"
     ]
    },
    {
     "name": "stderr",
     "output_type": "stream",
     "text": [
      "training loop:   0% |                                 | ETA:  36 days, 19:58:47\r"
     ]
    },
    {
     "name": "stdout",
     "output_type": "stream",
     "text": [
      "Episode: 420   score: 10.91   Avg score (100e): 10.38   actor gain: -0.44   critic loss: 0.39   steps: 420\n"
     ]
    },
    {
     "name": "stderr",
     "output_type": "stream",
     "text": [
      "training loop:   0% |                                 | ETA:  36 days, 19:47:28\r"
     ]
    },
    {
     "name": "stdout",
     "output_type": "stream",
     "text": [
      "Episode: 421   score: 10.92   Avg score (100e): 10.39   actor gain: -0.44   critic loss: 0.40   steps: 421\n"
     ]
    },
    {
     "name": "stderr",
     "output_type": "stream",
     "text": [
      "training loop:   0% |                                 | ETA:  36 days, 19:30:54\r"
     ]
    },
    {
     "name": "stdout",
     "output_type": "stream",
     "text": [
      "Episode: 422   score: 10.92   Avg score (100e): 10.41   actor gain: -0.44   critic loss: 0.39   steps: 422\n"
     ]
    },
    {
     "name": "stderr",
     "output_type": "stream",
     "text": [
      "training loop:   0% |                                 | ETA:  36 days, 19:14:21\r"
     ]
    },
    {
     "name": "stdout",
     "output_type": "stream",
     "text": [
      "Episode: 423   score: 10.92   Avg score (100e): 10.42   actor gain: -0.44   critic loss: 0.39   steps: 423\n"
     ]
    },
    {
     "name": "stderr",
     "output_type": "stream",
     "text": [
      "training loop:   0% |                                 | ETA:  36 days, 19:00:43\r"
     ]
    },
    {
     "name": "stdout",
     "output_type": "stream",
     "text": [
      "Episode: 424   score: 10.94   Avg score (100e): 10.44   actor gain: -0.44   critic loss: 0.39   steps: 424\n"
     ]
    },
    {
     "name": "stderr",
     "output_type": "stream",
     "text": [
      "training loop:   0% |                                 | ETA:  36 days, 18:49:12\r"
     ]
    },
    {
     "name": "stdout",
     "output_type": "stream",
     "text": [
      "Episode: 425   score: 10.95   Avg score (100e): 10.45   actor gain: -0.43   critic loss: 0.39   steps: 425\n"
     ]
    },
    {
     "name": "stderr",
     "output_type": "stream",
     "text": [
      "training loop:   0% |                                 | ETA:  36 days, 18:35:44\r"
     ]
    },
    {
     "name": "stdout",
     "output_type": "stream",
     "text": [
      "Episode: 426   score: 10.95   Avg score (100e): 10.46   actor gain: -0.43   critic loss: 0.39   steps: 426\n"
     ]
    },
    {
     "name": "stderr",
     "output_type": "stream",
     "text": [
      "training loop:   0% |                                 | ETA:  36 days, 18:24:32\r"
     ]
    },
    {
     "name": "stdout",
     "output_type": "stream",
     "text": [
      "Episode: 427   score: 10.95   Avg score (100e): 10.47   actor gain: -0.43   critic loss: 0.39   steps: 427\n"
     ]
    },
    {
     "name": "stderr",
     "output_type": "stream",
     "text": [
      "training loop:   0% |                                 | ETA:  36 days, 18:11:03\r"
     ]
    },
    {
     "name": "stdout",
     "output_type": "stream",
     "text": [
      "Episode: 428   score: 10.96   Avg score (100e): 10.49   actor gain: -0.46   critic loss: 0.39   steps: 428\n"
     ]
    },
    {
     "name": "stderr",
     "output_type": "stream",
     "text": [
      "training loop:   0% |                                 | ETA:  36 days, 18:05:50\r"
     ]
    },
    {
     "name": "stdout",
     "output_type": "stream",
     "text": [
      "Episode: 429   score: 10.97   Avg score (100e): 10.50   actor gain: -0.47   critic loss: 0.39   steps: 429\n"
     ]
    },
    {
     "name": "stderr",
     "output_type": "stream",
     "text": [
      "training loop:   0% |                                 | ETA:  36 days, 18:05:18\r"
     ]
    },
    {
     "name": "stdout",
     "output_type": "stream",
     "text": [
      "Episode: 430   score: 10.96   Avg score (100e): 10.51   actor gain: -0.46   critic loss: 0.39   steps: 430\n"
     ]
    },
    {
     "name": "stderr",
     "output_type": "stream",
     "text": [
      "training loop:   0% |                                 | ETA:  36 days, 17:55:33\r"
     ]
    },
    {
     "name": "stdout",
     "output_type": "stream",
     "text": [
      "Episode: 431   score: 10.96   Avg score (100e): 10.53   actor gain: -0.46   critic loss: 0.39   steps: 431\n"
     ]
    },
    {
     "name": "stderr",
     "output_type": "stream",
     "text": [
      "training loop:   0% |                                 | ETA:  36 days, 17:47:48\r"
     ]
    },
    {
     "name": "stdout",
     "output_type": "stream",
     "text": [
      "Episode: 432   score: 10.99   Avg score (100e): 10.54   actor gain: -0.46   critic loss: 0.39   steps: 432\n"
     ]
    },
    {
     "name": "stderr",
     "output_type": "stream",
     "text": [
      "training loop:   0% |                                 | ETA:  36 days, 17:37:56\r"
     ]
    },
    {
     "name": "stdout",
     "output_type": "stream",
     "text": [
      "Episode: 433   score: 10.98   Avg score (100e): 10.55   actor gain: -0.46   critic loss: 0.39   steps: 433\n"
     ]
    },
    {
     "name": "stderr",
     "output_type": "stream",
     "text": [
      "training loop:   0% |                                 | ETA:  36 days, 17:30:37\r"
     ]
    },
    {
     "name": "stdout",
     "output_type": "stream",
     "text": [
      "Episode: 434   score: 10.98   Avg score (100e): 10.56   actor gain: -0.46   critic loss: 0.39   steps: 434\n"
     ]
    },
    {
     "name": "stderr",
     "output_type": "stream",
     "text": [
      "training loop:   0% |                                 | ETA:  36 days, 17:19:06\r"
     ]
    },
    {
     "name": "stdout",
     "output_type": "stream",
     "text": [
      "Episode: 435   score: 10.98   Avg score (100e): 10.57   actor gain: -0.51   critic loss: 0.39   steps: 435\n"
     ]
    },
    {
     "name": "stderr",
     "output_type": "stream",
     "text": [
      "training loop:   0% |                                 | ETA:  36 days, 17:08:34\r"
     ]
    },
    {
     "name": "stdout",
     "output_type": "stream",
     "text": [
      "Episode: 436   score: 10.99   Avg score (100e): 10.59   actor gain: -0.51   critic loss: 0.39   steps: 436\n"
     ]
    },
    {
     "name": "stderr",
     "output_type": "stream",
     "text": [
      "training loop:   0% |                                 | ETA:  36 days, 16:56:04\r"
     ]
    },
    {
     "name": "stdout",
     "output_type": "stream",
     "text": [
      "Episode: 437   score: 10.98   Avg score (100e): 10.60   actor gain: -0.51   critic loss: 0.39   steps: 437\n"
     ]
    },
    {
     "name": "stderr",
     "output_type": "stream",
     "text": [
      "training loop:   0% |                                 | ETA:  36 days, 16:59:09\r"
     ]
    },
    {
     "name": "stdout",
     "output_type": "stream",
     "text": [
      "Episode: 438   score: 10.99   Avg score (100e): 10.61   actor gain: -0.51   critic loss: 0.39   steps: 438\n"
     ]
    },
    {
     "name": "stderr",
     "output_type": "stream",
     "text": [
      "training loop:   0% |                                 | ETA:  36 days, 16:47:40\r"
     ]
    },
    {
     "name": "stdout",
     "output_type": "stream",
     "text": [
      "Episode: 439   score: 10.98   Avg score (100e): 10.62   actor gain: -0.51   critic loss: 0.39   steps: 439\n"
     ]
    },
    {
     "name": "stderr",
     "output_type": "stream",
     "text": [
      "training loop:   0% |                                 | ETA:  36 days, 16:34:37\r"
     ]
    },
    {
     "name": "stdout",
     "output_type": "stream",
     "text": [
      "Episode: 440   score: 10.98   Avg score (100e): 10.63   actor gain: -0.51   critic loss: 0.39   steps: 440\n"
     ]
    },
    {
     "name": "stderr",
     "output_type": "stream",
     "text": [
      "training loop:   0% |                                 | ETA:  36 days, 16:25:23\r"
     ]
    },
    {
     "name": "stdout",
     "output_type": "stream",
     "text": [
      "Episode: 441   score: 10.98   Avg score (100e): 10.64   actor gain: -0.51   critic loss: 0.39   steps: 441\n"
     ]
    },
    {
     "name": "stderr",
     "output_type": "stream",
     "text": [
      "training loop:   0% |                                 | ETA:  36 days, 16:11:33\r"
     ]
    },
    {
     "name": "stdout",
     "output_type": "stream",
     "text": [
      "Episode: 442   score: 10.98   Avg score (100e): 10.65   actor gain: -0.51   critic loss: 0.39   steps: 442\n"
     ]
    },
    {
     "name": "stderr",
     "output_type": "stream",
     "text": [
      "training loop:   0% |                                 | ETA:  36 days, 15:57:41\r"
     ]
    },
    {
     "name": "stdout",
     "output_type": "stream",
     "text": [
      "Episode: 443   score: 10.98   Avg score (100e): 10.66   actor gain: -0.51   critic loss: 0.39   steps: 443\n"
     ]
    },
    {
     "name": "stderr",
     "output_type": "stream",
     "text": [
      "training loop:   0% |                                 | ETA:  36 days, 15:42:54\r"
     ]
    },
    {
     "name": "stdout",
     "output_type": "stream",
     "text": [
      "Episode: 444   score: 10.98   Avg score (100e): 10.67   actor gain: -0.51   critic loss: 0.39   steps: 444\n"
     ]
    },
    {
     "name": "stderr",
     "output_type": "stream",
     "text": [
      "training loop:   0% |                                 | ETA:  36 days, 15:27:52\r"
     ]
    },
    {
     "name": "stdout",
     "output_type": "stream",
     "text": [
      "Episode: 445   score: 10.98   Avg score (100e): 10.68   actor gain: -0.51   critic loss: 0.39   steps: 445\n"
     ]
    },
    {
     "name": "stderr",
     "output_type": "stream",
     "text": [
      "training loop:   0% |                                 | ETA:  36 days, 15:14:34\r"
     ]
    },
    {
     "name": "stdout",
     "output_type": "stream",
     "text": [
      "Episode: 446   score: 10.99   Avg score (100e): 10.69   actor gain: -0.51   critic loss: 0.39   steps: 446\n"
     ]
    },
    {
     "name": "stderr",
     "output_type": "stream",
     "text": [
      "training loop:   0% |                                 | ETA:  36 days, 14:59:43\r"
     ]
    },
    {
     "name": "stdout",
     "output_type": "stream",
     "text": [
      "Episode: 447   score: 10.99   Avg score (100e): 10.70   actor gain: -0.51   critic loss: 0.39   steps: 447\n"
     ]
    },
    {
     "name": "stderr",
     "output_type": "stream",
     "text": [
      "training loop:   0% |                                 | ETA:  36 days, 14:45:46\r"
     ]
    },
    {
     "name": "stdout",
     "output_type": "stream",
     "text": [
      "Episode: 448   score: 11.00   Avg score (100e): 10.71   actor gain: -0.51   critic loss: 0.39   steps: 448\n"
     ]
    },
    {
     "name": "stderr",
     "output_type": "stream",
     "text": [
      "training loop:   0% |                                 | ETA:  36 days, 14:36:03\r"
     ]
    },
    {
     "name": "stdout",
     "output_type": "stream",
     "text": [
      "Episode: 449   score: 11.00   Avg score (100e): 10.72   actor gain: -0.51   critic loss: 0.39   steps: 449\n"
     ]
    },
    {
     "name": "stderr",
     "output_type": "stream",
     "text": [
      "training loop:   0% |                                 | ETA:  36 days, 14:21:05\r"
     ]
    },
    {
     "name": "stdout",
     "output_type": "stream",
     "text": [
      "Episode: 450   score: 11.00   Avg score (100e): 10.72   actor gain: -0.51   critic loss: 0.39   steps: 450\n"
     ]
    },
    {
     "name": "stderr",
     "output_type": "stream",
     "text": [
      "training loop:   0% |                                 | ETA:  36 days, 14:04:36\r"
     ]
    },
    {
     "name": "stdout",
     "output_type": "stream",
     "text": [
      "Episode: 451   score: 11.00   Avg score (100e): 10.73   actor gain: -0.51   critic loss: 0.39   steps: 451\n"
     ]
    },
    {
     "name": "stderr",
     "output_type": "stream",
     "text": [
      "training loop:   0% |                                 | ETA:  36 days, 13:47:39\r"
     ]
    },
    {
     "name": "stdout",
     "output_type": "stream",
     "text": [
      "Episode: 452   score: 11.00   Avg score (100e): 10.74   actor gain: -0.51   critic loss: 0.39   steps: 452\n"
     ]
    },
    {
     "name": "stderr",
     "output_type": "stream",
     "text": [
      "training loop:   0% |                                 | ETA:  36 days, 13:33:34\r"
     ]
    },
    {
     "name": "stdout",
     "output_type": "stream",
     "text": [
      "Episode: 453   score: 10.99   Avg score (100e): 10.75   actor gain: -0.48   critic loss: 0.39   steps: 453\n"
     ]
    },
    {
     "name": "stderr",
     "output_type": "stream",
     "text": [
      "training loop:   0% |                                 | ETA:  36 days, 13:19:26\r"
     ]
    },
    {
     "name": "stdout",
     "output_type": "stream",
     "text": [
      "Episode: 454   score: 11.00   Avg score (100e): 10.76   actor gain: -0.48   critic loss: 0.39   steps: 454\n"
     ]
    },
    {
     "name": "stderr",
     "output_type": "stream",
     "text": [
      "training loop:   0% |                                 | ETA:  36 days, 13:01:26\r"
     ]
    },
    {
     "name": "stdout",
     "output_type": "stream",
     "text": [
      "Episode: 455   score: 11.01   Avg score (100e): 10.77   actor gain: -0.48   critic loss: 0.39   steps: 455\n"
     ]
    },
    {
     "name": "stderr",
     "output_type": "stream",
     "text": [
      "training loop:   0% |                                 | ETA:  36 days, 12:47:47\r"
     ]
    },
    {
     "name": "stdout",
     "output_type": "stream",
     "text": [
      "Episode: 456   score: 11.00   Avg score (100e): 10.77   actor gain: -0.48   critic loss: 0.39   steps: 456\n"
     ]
    },
    {
     "name": "stderr",
     "output_type": "stream",
     "text": [
      "training loop:   0% |                                 | ETA:  36 days, 12:34:54\r"
     ]
    },
    {
     "name": "stdout",
     "output_type": "stream",
     "text": [
      "Episode: 457   score: 11.00   Avg score (100e): 10.78   actor gain: -0.48   critic loss: 0.39   steps: 457\n"
     ]
    },
    {
     "name": "stderr",
     "output_type": "stream",
     "text": [
      "training loop:   0% |                                 | ETA:  36 days, 12:20:04\r"
     ]
    },
    {
     "name": "stdout",
     "output_type": "stream",
     "text": [
      "Episode: 458   score: 11.00   Avg score (100e): 10.79   actor gain: -0.48   critic loss: 0.39   steps: 458\n"
     ]
    },
    {
     "name": "stderr",
     "output_type": "stream",
     "text": [
      "training loop:   0% |                                 | ETA:  36 days, 12:07:28\r"
     ]
    },
    {
     "name": "stdout",
     "output_type": "stream",
     "text": [
      "Episode: 459   score: 11.00   Avg score (100e): 10.80   actor gain: -0.48   critic loss: 0.39   steps: 459\n"
     ]
    },
    {
     "name": "stderr",
     "output_type": "stream",
     "text": [
      "training loop:   0% |                                 | ETA:  36 days, 11:59:54\r"
     ]
    },
    {
     "name": "stdout",
     "output_type": "stream",
     "text": [
      "Episode: 460   score: 11.00   Avg score (100e): 10.80   actor gain: -0.43   critic loss: 0.39   steps: 460\n"
     ]
    },
    {
     "name": "stderr",
     "output_type": "stream",
     "text": [
      "training loop:   0% |                                 | ETA:  36 days, 11:44:43\r"
     ]
    },
    {
     "name": "stdout",
     "output_type": "stream",
     "text": [
      "Episode: 461   score: 11.00   Avg score (100e): 10.81   actor gain: -0.43   critic loss: 0.39   steps: 461\n"
     ]
    },
    {
     "name": "stderr",
     "output_type": "stream",
     "text": [
      "training loop:   0% |                                 | ETA:  36 days, 11:51:25\r"
     ]
    },
    {
     "name": "stdout",
     "output_type": "stream",
     "text": [
      "Episode: 462   score: 11.00   Avg score (100e): 10.81   actor gain: -0.43   critic loss: 0.39   steps: 462\n"
     ]
    },
    {
     "name": "stderr",
     "output_type": "stream",
     "text": [
      "training loop:   0% |                                 | ETA:  36 days, 11:40:15\r"
     ]
    },
    {
     "name": "stdout",
     "output_type": "stream",
     "text": [
      "Episode: 463   score: 11.00   Avg score (100e): 10.82   actor gain: -0.43   critic loss: 0.39   steps: 463\n"
     ]
    },
    {
     "name": "stderr",
     "output_type": "stream",
     "text": [
      "training loop:   0% |                                 | ETA:  36 days, 11:32:32\r"
     ]
    },
    {
     "name": "stdout",
     "output_type": "stream",
     "text": [
      "Episode: 464   score: 11.00   Avg score (100e): 10.83   actor gain: -0.43   critic loss: 0.39   steps: 464\n"
     ]
    },
    {
     "name": "stderr",
     "output_type": "stream",
     "text": [
      "training loop:   0% |                                 | ETA:  36 days, 11:25:30\r"
     ]
    },
    {
     "name": "stdout",
     "output_type": "stream",
     "text": [
      "Episode: 465   score: 11.01   Avg score (100e): 10.83   actor gain: -0.43   critic loss: 0.39   steps: 465\n"
     ]
    },
    {
     "name": "stderr",
     "output_type": "stream",
     "text": [
      "training loop:   0% |                                 | ETA:  36 days, 11:17:26\r"
     ]
    },
    {
     "name": "stdout",
     "output_type": "stream",
     "text": [
      "Episode: 466   score: 11.01   Avg score (100e): 10.84   actor gain: -0.43   critic loss: 0.39   steps: 466\n"
     ]
    },
    {
     "name": "stderr",
     "output_type": "stream",
     "text": [
      "training loop:   0% |                                 | ETA:  36 days, 11:05:46\r"
     ]
    },
    {
     "name": "stdout",
     "output_type": "stream",
     "text": [
      "Episode: 467   score: 11.01   Avg score (100e): 10.84   actor gain: -0.43   critic loss: 0.39   steps: 467\n"
     ]
    },
    {
     "name": "stderr",
     "output_type": "stream",
     "text": [
      "training loop:   0% |                                 | ETA:  36 days, 10:54:57\r"
     ]
    },
    {
     "name": "stdout",
     "output_type": "stream",
     "text": [
      "Episode: 468   score: 11.02   Avg score (100e): 10.85   actor gain: -0.43   critic loss: 0.39   steps: 468\n"
     ]
    },
    {
     "name": "stderr",
     "output_type": "stream",
     "text": [
      "training loop:   0% |                                 | ETA:  36 days, 10:46:14\r"
     ]
    },
    {
     "name": "stdout",
     "output_type": "stream",
     "text": [
      "Episode: 469   score: 11.02   Avg score (100e): 10.85   actor gain: -0.43   critic loss: 0.39   steps: 469\n"
     ]
    },
    {
     "name": "stderr",
     "output_type": "stream",
     "text": [
      "training loop:   0% |                                 | ETA:  36 days, 10:37:12\r"
     ]
    },
    {
     "name": "stdout",
     "output_type": "stream",
     "text": [
      "Episode: 470   score: 11.02   Avg score (100e): 10.86   actor gain: -0.43   critic loss: 0.39   steps: 470\n"
     ]
    },
    {
     "name": "stderr",
     "output_type": "stream",
     "text": [
      "training loop:   0% |                                 | ETA:  36 days, 10:29:21\r"
     ]
    },
    {
     "name": "stdout",
     "output_type": "stream",
     "text": [
      "Episode: 471   score: 11.02   Avg score (100e): 10.86   actor gain: -0.43   critic loss: 0.39   steps: 471\n"
     ]
    },
    {
     "name": "stderr",
     "output_type": "stream",
     "text": [
      "training loop:   0% |                                 | ETA:  36 days, 10:18:09\r"
     ]
    },
    {
     "name": "stdout",
     "output_type": "stream",
     "text": [
      "Episode: 472   score: 11.01   Avg score (100e): 10.87   actor gain: -0.43   critic loss: 0.39   steps: 472\n"
     ]
    },
    {
     "name": "stderr",
     "output_type": "stream",
     "text": [
      "training loop:   0% |                                 | ETA:  36 days, 10:06:17\r"
     ]
    },
    {
     "name": "stdout",
     "output_type": "stream",
     "text": [
      "Episode: 473   score: 11.02   Avg score (100e): 10.87   actor gain: -0.43   critic loss: 0.39   steps: 473\n"
     ]
    },
    {
     "name": "stderr",
     "output_type": "stream",
     "text": [
      "training loop:   0% |                                  | ETA:  36 days, 9:56:13\r"
     ]
    },
    {
     "name": "stdout",
     "output_type": "stream",
     "text": [
      "Episode: 474   score: 11.02   Avg score (100e): 10.88   actor gain: -0.43   critic loss: 0.39   steps: 474\n"
     ]
    },
    {
     "name": "stderr",
     "output_type": "stream",
     "text": [
      "training loop:   0% |                                  | ETA:  36 days, 9:44:47\r"
     ]
    },
    {
     "name": "stdout",
     "output_type": "stream",
     "text": [
      "Episode: 475   score: 11.03   Avg score (100e): 10.88   actor gain: -0.43   critic loss: 0.39   steps: 475\n"
     ]
    },
    {
     "name": "stderr",
     "output_type": "stream",
     "text": [
      "training loop:   0% |                                  | ETA:  36 days, 9:32:07\r"
     ]
    },
    {
     "name": "stdout",
     "output_type": "stream",
     "text": [
      "Episode: 476   score: 11.04   Avg score (100e): 10.89   actor gain: -0.43   critic loss: 0.39   steps: 476\n"
     ]
    },
    {
     "name": "stderr",
     "output_type": "stream",
     "text": [
      "training loop:   0% |                                  | ETA:  36 days, 9:24:42\r"
     ]
    },
    {
     "name": "stdout",
     "output_type": "stream",
     "text": [
      "Episode: 477   score: 11.04   Avg score (100e): 10.89   actor gain: -0.43   critic loss: 0.39   steps: 477\n"
     ]
    },
    {
     "name": "stderr",
     "output_type": "stream",
     "text": [
      "training loop:   0% |                                  | ETA:  36 days, 9:12:43\r"
     ]
    },
    {
     "name": "stdout",
     "output_type": "stream",
     "text": [
      "Episode: 478   score: 11.05   Avg score (100e): 10.90   actor gain: -0.43   critic loss: 0.39   steps: 478\n"
     ]
    },
    {
     "name": "stderr",
     "output_type": "stream",
     "text": [
      "training loop:   0% |                                  | ETA:  36 days, 9:02:47\r"
     ]
    },
    {
     "name": "stdout",
     "output_type": "stream",
     "text": [
      "Episode: 479   score: 11.06   Avg score (100e): 10.90   actor gain: -0.43   critic loss: 0.39   steps: 479\n"
     ]
    },
    {
     "name": "stderr",
     "output_type": "stream",
     "text": [
      "training loop:   0% |                                  | ETA:  36 days, 8:51:27\r"
     ]
    },
    {
     "name": "stdout",
     "output_type": "stream",
     "text": [
      "Episode: 480   score: 11.05   Avg score (100e): 10.91   actor gain: -0.43   critic loss: 0.39   steps: 480\n"
     ]
    },
    {
     "name": "stderr",
     "output_type": "stream",
     "text": [
      "training loop:   0% |                                  | ETA:  36 days, 8:41:23\r"
     ]
    },
    {
     "name": "stdout",
     "output_type": "stream",
     "text": [
      "Episode: 481   score: 11.04   Avg score (100e): 10.91   actor gain: -0.43   critic loss: 0.39   steps: 481\n"
     ]
    },
    {
     "name": "stderr",
     "output_type": "stream",
     "text": [
      "training loop:   0% |                                  | ETA:  36 days, 8:31:59\r"
     ]
    },
    {
     "name": "stdout",
     "output_type": "stream",
     "text": [
      "Episode: 482   score: 11.06   Avg score (100e): 10.92   actor gain: -0.43   critic loss: 0.39   steps: 482\n"
     ]
    },
    {
     "name": "stderr",
     "output_type": "stream",
     "text": [
      "training loop:   0% |                                  | ETA:  36 days, 8:21:28\r"
     ]
    },
    {
     "name": "stdout",
     "output_type": "stream",
     "text": [
      "Episode: 483   score: 11.06   Avg score (100e): 10.92   actor gain: -0.43   critic loss: 0.39   steps: 483\n"
     ]
    },
    {
     "name": "stderr",
     "output_type": "stream",
     "text": [
      "training loop:   0% |                                  | ETA:  36 days, 8:11:24\r"
     ]
    },
    {
     "name": "stdout",
     "output_type": "stream",
     "text": [
      "Episode: 484   score: 11.06   Avg score (100e): 10.92   actor gain: -0.43   critic loss: 0.39   steps: 484\n"
     ]
    },
    {
     "name": "stderr",
     "output_type": "stream",
     "text": [
      "training loop:   0% |                                  | ETA:  36 days, 8:03:51\r"
     ]
    },
    {
     "name": "stdout",
     "output_type": "stream",
     "text": [
      "Episode: 485   score: 11.06   Avg score (100e): 10.93   actor gain: -0.43   critic loss: 0.39   steps: 485\n"
     ]
    },
    {
     "name": "stderr",
     "output_type": "stream",
     "text": [
      "training loop:   0% |                                  | ETA:  36 days, 7:51:43\r"
     ]
    },
    {
     "name": "stdout",
     "output_type": "stream",
     "text": [
      "Episode: 486   score: 11.07   Avg score (100e): 10.93   actor gain: -0.43   critic loss: 0.39   steps: 486\n"
     ]
    },
    {
     "name": "stderr",
     "output_type": "stream",
     "text": [
      "training loop:   0% |                                  | ETA:  36 days, 7:39:08\r"
     ]
    },
    {
     "name": "stdout",
     "output_type": "stream",
     "text": [
      "Episode: 487   score: 11.07   Avg score (100e): 10.94   actor gain: -0.43   critic loss: 0.39   steps: 487\n"
     ]
    },
    {
     "name": "stderr",
     "output_type": "stream",
     "text": [
      "training loop:   0% |                                  | ETA:  36 days, 7:30:05\r"
     ]
    },
    {
     "name": "stdout",
     "output_type": "stream",
     "text": [
      "Episode: 488   score: 11.07   Avg score (100e): 10.94   actor gain: -0.44   critic loss: 0.39   steps: 488\n"
     ]
    },
    {
     "name": "stderr",
     "output_type": "stream",
     "text": [
      "training loop:   0% |                                  | ETA:  36 days, 7:22:53\r"
     ]
    },
    {
     "name": "stdout",
     "output_type": "stream",
     "text": [
      "Episode: 489   score: 11.07   Avg score (100e): 10.95   actor gain: -0.44   critic loss: 0.39   steps: 489\n"
     ]
    },
    {
     "name": "stderr",
     "output_type": "stream",
     "text": [
      "training loop:   0% |                                  | ETA:  36 days, 7:13:25\r"
     ]
    },
    {
     "name": "stdout",
     "output_type": "stream",
     "text": [
      "Episode: 490   score: 11.07   Avg score (100e): 10.95   actor gain: -0.44   critic loss: 0.39   steps: 490\n"
     ]
    },
    {
     "name": "stderr",
     "output_type": "stream",
     "text": [
      "training loop:   0% |                                  | ETA:  36 days, 7:02:01\r"
     ]
    },
    {
     "name": "stdout",
     "output_type": "stream",
     "text": [
      "Episode: 491   score: 11.07   Avg score (100e): 10.95   actor gain: -0.44   critic loss: 0.39   steps: 491\n"
     ]
    },
    {
     "name": "stderr",
     "output_type": "stream",
     "text": [
      "training loop:   0% |                                  | ETA:  36 days, 6:52:00\r"
     ]
    },
    {
     "name": "stdout",
     "output_type": "stream",
     "text": [
      "Episode: 492   score: 11.07   Avg score (100e): 10.96   actor gain: -0.44   critic loss: 0.39   steps: 492\n"
     ]
    },
    {
     "name": "stderr",
     "output_type": "stream",
     "text": [
      "training loop:   0% |                                  | ETA:  36 days, 6:40:22\r"
     ]
    },
    {
     "name": "stdout",
     "output_type": "stream",
     "text": [
      "Episode: 493   score: 11.07   Avg score (100e): 10.96   actor gain: -0.44   critic loss: 0.39   steps: 493\n"
     ]
    },
    {
     "name": "stderr",
     "output_type": "stream",
     "text": [
      "training loop:   0% |                                  | ETA:  36 days, 6:32:34\r"
     ]
    },
    {
     "name": "stdout",
     "output_type": "stream",
     "text": [
      "Episode: 494   score: 11.08   Avg score (100e): 10.96   actor gain: -0.44   critic loss: 0.39   steps: 494\n"
     ]
    },
    {
     "name": "stderr",
     "output_type": "stream",
     "text": [
      "training loop:   0% |                                  | ETA:  36 days, 6:39:50\r"
     ]
    },
    {
     "name": "stdout",
     "output_type": "stream",
     "text": [
      "Episode: 495   score: 11.07   Avg score (100e): 10.97   actor gain: -0.44   critic loss: 0.39   steps: 495\n"
     ]
    },
    {
     "name": "stderr",
     "output_type": "stream",
     "text": [
      "training loop:   0% |                                  | ETA:  36 days, 6:37:00\r"
     ]
    },
    {
     "name": "stdout",
     "output_type": "stream",
     "text": [
      "Episode: 496   score: 11.08   Avg score (100e): 10.97   actor gain: -0.44   critic loss: 0.39   steps: 496\n"
     ]
    },
    {
     "name": "stderr",
     "output_type": "stream",
     "text": [
      "training loop:   0% |                                  | ETA:  36 days, 6:33:43\r"
     ]
    },
    {
     "name": "stdout",
     "output_type": "stream",
     "text": [
      "Episode: 497   score: 11.08   Avg score (100e): 10.97   actor gain: -0.44   critic loss: 0.39   steps: 497\n"
     ]
    },
    {
     "name": "stderr",
     "output_type": "stream",
     "text": [
      "training loop:   0% |                                  | ETA:  36 days, 6:25:41\r"
     ]
    },
    {
     "name": "stdout",
     "output_type": "stream",
     "text": [
      "Episode: 498   score: 11.09   Avg score (100e): 10.98   actor gain: -0.43   critic loss: 0.39   steps: 498\n"
     ]
    },
    {
     "name": "stderr",
     "output_type": "stream",
     "text": [
      "training loop:   0% |                                  | ETA:  36 days, 6:18:30\r"
     ]
    },
    {
     "name": "stdout",
     "output_type": "stream",
     "text": [
      "Episode: 499   score: 11.09   Avg score (100e): 10.98   actor gain: -0.43   critic loss: 0.39   steps: 499\n"
     ]
    },
    {
     "name": "stderr",
     "output_type": "stream",
     "text": [
      "training loop:   0% |                                  | ETA:  36 days, 6:11:21\r"
     ]
    },
    {
     "name": "stdout",
     "output_type": "stream",
     "text": [
      "Episode: 500   score: 11.10   Avg score (100e): 10.98   actor gain: -0.43   critic loss: 0.39   steps: 500\n"
     ]
    },
    {
     "name": "stderr",
     "output_type": "stream",
     "text": [
      "training loop:   1% |                                  | ETA:  36 days, 6:02:30\r"
     ]
    },
    {
     "name": "stdout",
     "output_type": "stream",
     "text": [
      "Episode: 501   score: 11.10   Avg score (100e): 10.99   actor gain: -0.44   critic loss: 0.39   steps: 501\n"
     ]
    },
    {
     "name": "stderr",
     "output_type": "stream",
     "text": [
      "training loop:   1% |                                  | ETA:  36 days, 5:52:31\r"
     ]
    },
    {
     "name": "stdout",
     "output_type": "stream",
     "text": [
      "Episode: 502   score: 11.10   Avg score (100e): 10.99   actor gain: -0.44   critic loss: 0.39   steps: 502\n"
     ]
    },
    {
     "name": "stderr",
     "output_type": "stream",
     "text": [
      "training loop:   1% |                                  | ETA:  36 days, 5:50:51\r"
     ]
    },
    {
     "name": "stdout",
     "output_type": "stream",
     "text": [
      "Episode: 503   score: 11.11   Avg score (100e): 10.99   actor gain: -0.44   critic loss: 0.39   steps: 503\n"
     ]
    },
    {
     "name": "stderr",
     "output_type": "stream",
     "text": [
      "training loop:   1% |                                  | ETA:  36 days, 5:41:25\r"
     ]
    },
    {
     "name": "stdout",
     "output_type": "stream",
     "text": [
      "Episode: 504   score: 11.10   Avg score (100e): 10.99   actor gain: -0.44   critic loss: 0.39   steps: 504\n"
     ]
    },
    {
     "name": "stderr",
     "output_type": "stream",
     "text": [
      "training loop:   1% |                                  | ETA:  36 days, 5:33:36\r"
     ]
    },
    {
     "name": "stdout",
     "output_type": "stream",
     "text": [
      "Episode: 505   score: 11.10   Avg score (100e): 11.00   actor gain: -0.44   critic loss: 0.39   steps: 505\n"
     ]
    },
    {
     "name": "stderr",
     "output_type": "stream",
     "text": [
      "training loop:   1% |                                  | ETA:  36 days, 5:20:40\r"
     ]
    },
    {
     "name": "stdout",
     "output_type": "stream",
     "text": [
      "Episode: 506   score: 11.11   Avg score (100e): 11.00   actor gain: -0.43   critic loss: 0.39   steps: 506\n"
     ]
    },
    {
     "name": "stderr",
     "output_type": "stream",
     "text": [
      "training loop:   1% |                                  | ETA:  36 days, 5:11:15\r"
     ]
    },
    {
     "name": "stdout",
     "output_type": "stream",
     "text": [
      "Episode: 507   score: 11.12   Avg score (100e): 11.00   actor gain: -0.43   critic loss: 0.39   steps: 507\n"
     ]
    },
    {
     "name": "stderr",
     "output_type": "stream",
     "text": [
      "training loop:   1% |                                  | ETA:  36 days, 5:03:31\r"
     ]
    },
    {
     "name": "stdout",
     "output_type": "stream",
     "text": [
      "Episode: 508   score: 11.12   Avg score (100e): 11.01   actor gain: -0.43   critic loss: 0.39   steps: 508\n"
     ]
    },
    {
     "name": "stderr",
     "output_type": "stream",
     "text": [
      "training loop:   1% |                                  | ETA:  36 days, 4:52:54\r"
     ]
    },
    {
     "name": "stdout",
     "output_type": "stream",
     "text": [
      "Episode: 509   score: 11.12   Avg score (100e): 11.01   actor gain: -0.43   critic loss: 0.39   steps: 509\n"
     ]
    },
    {
     "name": "stderr",
     "output_type": "stream",
     "text": [
      "training loop:   1% |                                  | ETA:  36 days, 4:41:25\r"
     ]
    },
    {
     "name": "stdout",
     "output_type": "stream",
     "text": [
      "Episode: 510   score: 11.12   Avg score (100e): 11.01   actor gain: -0.43   critic loss: 0.39   steps: 510\n"
     ]
    },
    {
     "name": "stderr",
     "output_type": "stream",
     "text": [
      "training loop:   1% |                                  | ETA:  36 days, 4:31:03\r"
     ]
    },
    {
     "name": "stdout",
     "output_type": "stream",
     "text": [
      "Episode: 511   score: 11.12   Avg score (100e): 11.01   actor gain: -0.43   critic loss: 0.39   steps: 511\n"
     ]
    },
    {
     "name": "stderr",
     "output_type": "stream",
     "text": [
      "training loop:   1% |                                  | ETA:  36 days, 4:21:33\r"
     ]
    },
    {
     "name": "stdout",
     "output_type": "stream",
     "text": [
      "Episode: 512   score: 11.12   Avg score (100e): 11.02   actor gain: -0.52   critic loss: 0.39   steps: 512\n"
     ]
    },
    {
     "name": "stderr",
     "output_type": "stream",
     "text": [
      "training loop:   1% |                                  | ETA:  36 days, 4:09:04\r"
     ]
    },
    {
     "name": "stdout",
     "output_type": "stream",
     "text": [
      "Episode: 513   score: 11.12   Avg score (100e): 11.02   actor gain: -0.51   critic loss: 0.39   steps: 513\n"
     ]
    },
    {
     "name": "stderr",
     "output_type": "stream",
     "text": [
      "training loop:   1% |                                  | ETA:  36 days, 3:58:27\r"
     ]
    },
    {
     "name": "stdout",
     "output_type": "stream",
     "text": [
      "Episode: 514   score: 11.13   Avg score (100e): 11.02   actor gain: -0.51   critic loss: 0.39   steps: 514\n"
     ]
    },
    {
     "name": "stderr",
     "output_type": "stream",
     "text": [
      "training loop:   1% |                                  | ETA:  36 days, 3:48:57\r"
     ]
    },
    {
     "name": "stdout",
     "output_type": "stream",
     "text": [
      "Episode: 515   score: 11.13   Avg score (100e): 11.02   actor gain: -0.51   critic loss: 0.39   steps: 515\n"
     ]
    },
    {
     "name": "stderr",
     "output_type": "stream",
     "text": [
      "training loop:   1% |                                  | ETA:  36 days, 3:36:35\r"
     ]
    },
    {
     "name": "stdout",
     "output_type": "stream",
     "text": [
      "Episode: 516   score: 11.16   Avg score (100e): 11.02   actor gain: -0.51   critic loss: 0.39   steps: 516\n"
     ]
    },
    {
     "name": "stderr",
     "output_type": "stream",
     "text": [
      "training loop:   1% |                                  | ETA:  36 days, 3:27:30\r"
     ]
    },
    {
     "name": "stdout",
     "output_type": "stream",
     "text": [
      "Episode: 517   score: 11.18   Avg score (100e): 11.03   actor gain: -0.51   critic loss: 0.39   steps: 517\n"
     ]
    },
    {
     "name": "stderr",
     "output_type": "stream",
     "text": [
      "training loop:   1% |                                  | ETA:  36 days, 3:15:30\r"
     ]
    },
    {
     "name": "stdout",
     "output_type": "stream",
     "text": [
      "Episode: 518   score: 11.17   Avg score (100e): 11.03   actor gain: -0.51   critic loss: 0.39   steps: 518\n"
     ]
    },
    {
     "name": "stderr",
     "output_type": "stream",
     "text": [
      "training loop:   1% |                                  | ETA:  36 days, 3:03:16\r"
     ]
    },
    {
     "name": "stdout",
     "output_type": "stream",
     "text": [
      "Episode: 519   score: 11.17   Avg score (100e): 11.03   actor gain: -0.51   critic loss: 0.40   steps: 519\n"
     ]
    },
    {
     "name": "stderr",
     "output_type": "stream",
     "text": [
      "training loop:   1% |                                  | ETA:  36 days, 2:57:32\r"
     ]
    },
    {
     "name": "stdout",
     "output_type": "stream",
     "text": [
      "Episode: 520   score: 11.19   Avg score (100e): 11.04   actor gain: -0.51   critic loss: 0.40   steps: 520\n"
     ]
    },
    {
     "name": "stderr",
     "output_type": "stream",
     "text": [
      "training loop:   1% |                                  | ETA:  36 days, 2:57:53\r"
     ]
    },
    {
     "name": "stdout",
     "output_type": "stream",
     "text": [
      "Episode: 521   score: 11.21   Avg score (100e): 11.04   actor gain: -0.51   critic loss: 0.40   steps: 521\n"
     ]
    },
    {
     "name": "stderr",
     "output_type": "stream",
     "text": [
      "training loop:   1% |                                  | ETA:  36 days, 2:54:31\r"
     ]
    },
    {
     "name": "stdout",
     "output_type": "stream",
     "text": [
      "Episode: 522   score: 11.21   Avg score (100e): 11.04   actor gain: -0.51   critic loss: 0.40   steps: 522\n"
     ]
    },
    {
     "name": "stderr",
     "output_type": "stream",
     "text": [
      "training loop:   1% |                                  | ETA:  36 days, 2:48:55\r"
     ]
    },
    {
     "name": "stdout",
     "output_type": "stream",
     "text": [
      "Episode: 523   score: 11.22   Avg score (100e): 11.04   actor gain: -0.51   critic loss: 0.40   steps: 523\n"
     ]
    },
    {
     "name": "stderr",
     "output_type": "stream",
     "text": [
      "training loop:   1% |                                  | ETA:  36 days, 2:37:50\r"
     ]
    },
    {
     "name": "stdout",
     "output_type": "stream",
     "text": [
      "Episode: 524   score: 11.22   Avg score (100e): 11.05   actor gain: -0.51   critic loss: 0.40   steps: 524\n"
     ]
    },
    {
     "name": "stderr",
     "output_type": "stream",
     "text": [
      "training loop:   1% |                                  | ETA:  36 days, 2:31:12\r"
     ]
    },
    {
     "name": "stdout",
     "output_type": "stream",
     "text": [
      "Episode: 525   score: 11.23   Avg score (100e): 11.05   actor gain: -0.51   critic loss: 0.40   steps: 525\n"
     ]
    },
    {
     "name": "stderr",
     "output_type": "stream",
     "text": [
      "training loop:   1% |                                  | ETA:  36 days, 2:22:18\r"
     ]
    },
    {
     "name": "stdout",
     "output_type": "stream",
     "text": [
      "Episode: 526   score: 11.24   Avg score (100e): 11.05   actor gain: -0.51   critic loss: 0.40   steps: 526\n"
     ]
    },
    {
     "name": "stderr",
     "output_type": "stream",
     "text": [
      "training loop:   1% |                                  | ETA:  36 days, 2:30:32\r"
     ]
    },
    {
     "name": "stdout",
     "output_type": "stream",
     "text": [
      "Episode: 527   score: 11.25   Avg score (100e): 11.06   actor gain: -0.51   critic loss: 0.40   steps: 527\n"
     ]
    },
    {
     "name": "stderr",
     "output_type": "stream",
     "text": [
      "training loop:   1% |                                  | ETA:  36 days, 2:25:40\r"
     ]
    },
    {
     "name": "stdout",
     "output_type": "stream",
     "text": [
      "Episode: 528   score: 11.26   Avg score (100e): 11.06   actor gain: -0.51   critic loss: 0.40   steps: 528\n"
     ]
    },
    {
     "name": "stderr",
     "output_type": "stream",
     "text": [
      "training loop:   1% |                                  | ETA:  36 days, 2:19:13\r"
     ]
    },
    {
     "name": "stdout",
     "output_type": "stream",
     "text": [
      "Episode: 529   score: 11.28   Avg score (100e): 11.06   actor gain: -0.51   critic loss: 0.40   steps: 529\n"
     ]
    },
    {
     "name": "stderr",
     "output_type": "stream",
     "text": [
      "training loop:   1% |                                  | ETA:  36 days, 2:13:22\r"
     ]
    },
    {
     "name": "stdout",
     "output_type": "stream",
     "text": [
      "Episode: 530   score: 11.29   Avg score (100e): 11.07   actor gain: -0.51   critic loss: 0.40   steps: 530\n"
     ]
    },
    {
     "name": "stderr",
     "output_type": "stream",
     "text": [
      "training loop:   1% |                                  | ETA:  36 days, 2:07:02\r"
     ]
    },
    {
     "name": "stdout",
     "output_type": "stream",
     "text": [
      "Episode: 531   score: 11.30   Avg score (100e): 11.07   actor gain: -0.52   critic loss: 0.40   steps: 531\n"
     ]
    },
    {
     "name": "stderr",
     "output_type": "stream",
     "text": [
      "training loop:   1% |                                  | ETA:  36 days, 1:59:49\r"
     ]
    },
    {
     "name": "stdout",
     "output_type": "stream",
     "text": [
      "Episode: 532   score: 11.29   Avg score (100e): 11.07   actor gain: -0.52   critic loss: 0.40   steps: 532\n"
     ]
    },
    {
     "name": "stderr",
     "output_type": "stream",
     "text": [
      "training loop:   1% |                                  | ETA:  36 days, 1:51:40\r"
     ]
    },
    {
     "name": "stdout",
     "output_type": "stream",
     "text": [
      "Episode: 533   score: 11.30   Avg score (100e): 11.07   actor gain: -0.52   critic loss: 0.40   steps: 533\n"
     ]
    },
    {
     "name": "stderr",
     "output_type": "stream",
     "text": [
      "training loop:   1% |                                  | ETA:  36 days, 1:45:49\r"
     ]
    },
    {
     "name": "stdout",
     "output_type": "stream",
     "text": [
      "Episode: 534   score: 11.30   Avg score (100e): 11.08   actor gain: -0.52   critic loss: 0.40   steps: 534\n"
     ]
    },
    {
     "name": "stderr",
     "output_type": "stream",
     "text": [
      "training loop:   1% |                                  | ETA:  36 days, 1:37:41\r"
     ]
    },
    {
     "name": "stdout",
     "output_type": "stream",
     "text": [
      "Episode: 535   score: 11.30   Avg score (100e): 11.08   actor gain: -0.52   critic loss: 0.40   steps: 535\n"
     ]
    },
    {
     "name": "stderr",
     "output_type": "stream",
     "text": [
      "training loop:   1% |                                  | ETA:  36 days, 1:29:14\r"
     ]
    },
    {
     "name": "stdout",
     "output_type": "stream",
     "text": [
      "Episode: 536   score: 11.32   Avg score (100e): 11.08   actor gain: -0.52   critic loss: 0.40   steps: 536\n"
     ]
    },
    {
     "name": "stderr",
     "output_type": "stream",
     "text": [
      "training loop:   1% |                                  | ETA:  36 days, 1:27:01\r"
     ]
    },
    {
     "name": "stdout",
     "output_type": "stream",
     "text": [
      "Episode: 537   score: 11.31   Avg score (100e): 11.09   actor gain: -0.43   critic loss: 0.40   steps: 537\n"
     ]
    },
    {
     "name": "stderr",
     "output_type": "stream",
     "text": [
      "training loop:   1% |                                  | ETA:  36 days, 1:20:55\r"
     ]
    },
    {
     "name": "stdout",
     "output_type": "stream",
     "text": [
      "Episode: 538   score: 11.30   Avg score (100e): 11.09   actor gain: -0.43   critic loss: 0.40   steps: 538\n"
     ]
    },
    {
     "name": "stderr",
     "output_type": "stream",
     "text": [
      "training loop:   1% |                                  | ETA:  36 days, 1:12:38\r"
     ]
    },
    {
     "name": "stdout",
     "output_type": "stream",
     "text": [
      "Episode: 539   score: 11.30   Avg score (100e): 11.09   actor gain: -0.43   critic loss: 0.40   steps: 539\n"
     ]
    },
    {
     "name": "stderr",
     "output_type": "stream",
     "text": [
      "training loop:   1% |                                  | ETA:  36 days, 1:07:50\r"
     ]
    },
    {
     "name": "stdout",
     "output_type": "stream",
     "text": [
      "Episode: 540   score: 11.31   Avg score (100e): 11.10   actor gain: -0.43   critic loss: 0.40   steps: 540\n"
     ]
    },
    {
     "name": "stderr",
     "output_type": "stream",
     "text": [
      "training loop:   1% |                                  | ETA:  36 days, 0:59:13\r"
     ]
    },
    {
     "name": "stdout",
     "output_type": "stream",
     "text": [
      "Episode: 541   score: 11.32   Avg score (100e): 11.10   actor gain: -0.43   critic loss: 0.40   steps: 541\n"
     ]
    },
    {
     "name": "stderr",
     "output_type": "stream",
     "text": [
      "training loop:   1% |                                  | ETA:  36 days, 0:51:50\r"
     ]
    },
    {
     "name": "stdout",
     "output_type": "stream",
     "text": [
      "Episode: 542   score: 11.34   Avg score (100e): 11.10   actor gain: -0.43   critic loss: 0.40   steps: 542\n"
     ]
    },
    {
     "name": "stderr",
     "output_type": "stream",
     "text": [
      "training loop:   1% |                                  | ETA:  36 days, 0:43:49\r"
     ]
    },
    {
     "name": "stdout",
     "output_type": "stream",
     "text": [
      "Episode: 543   score: 11.35   Avg score (100e): 11.11   actor gain: -0.43   critic loss: 0.40   steps: 543\n"
     ]
    },
    {
     "name": "stderr",
     "output_type": "stream",
     "text": [
      "training loop:   1% |                                  | ETA:  36 days, 0:35:43\r"
     ]
    },
    {
     "name": "stdout",
     "output_type": "stream",
     "text": [
      "Episode: 544   score: 11.36   Avg score (100e): 11.11   actor gain: -0.43   critic loss: 0.40   steps: 544\n"
     ]
    },
    {
     "name": "stderr",
     "output_type": "stream",
     "text": [
      "training loop:   1% |                                  | ETA:  36 days, 0:31:11\r"
     ]
    },
    {
     "name": "stdout",
     "output_type": "stream",
     "text": [
      "Episode: 545   score: 11.36   Avg score (100e): 11.12   actor gain: -0.43   critic loss: 0.40   steps: 545\n"
     ]
    },
    {
     "name": "stderr",
     "output_type": "stream",
     "text": [
      "training loop:   1% |                                  | ETA:  36 days, 0:25:50\r"
     ]
    },
    {
     "name": "stdout",
     "output_type": "stream",
     "text": [
      "Episode: 546   score: 11.36   Avg score (100e): 11.12   actor gain: -0.43   critic loss: 0.40   steps: 546\n"
     ]
    },
    {
     "name": "stderr",
     "output_type": "stream",
     "text": [
      "training loop:   1% |                                  | ETA:  36 days, 0:15:38\r"
     ]
    },
    {
     "name": "stdout",
     "output_type": "stream",
     "text": [
      "Episode: 547   score: 11.37   Avg score (100e): 11.12   actor gain: -0.43   critic loss: 0.40   steps: 547\n"
     ]
    },
    {
     "name": "stderr",
     "output_type": "stream",
     "text": [
      "training loop:   1% |                                  | ETA:  36 days, 0:04:41\r"
     ]
    },
    {
     "name": "stdout",
     "output_type": "stream",
     "text": [
      "Episode: 548   score: 11.37   Avg score (100e): 11.13   actor gain: -0.43   critic loss: 0.40   steps: 548\n"
     ]
    },
    {
     "name": "stderr",
     "output_type": "stream",
     "text": [
      "training loop:   1% |                                 | ETA:  35 days, 23:55:38\r"
     ]
    },
    {
     "name": "stdout",
     "output_type": "stream",
     "text": [
      "Episode: 549   score: 11.38   Avg score (100e): 11.13   actor gain: -0.43   critic loss: 0.40   steps: 549\n"
     ]
    },
    {
     "name": "stderr",
     "output_type": "stream",
     "text": [
      "training loop:   1% |                                 | ETA:  35 days, 23:55:13\r"
     ]
    },
    {
     "name": "stdout",
     "output_type": "stream",
     "text": [
      "Episode: 550   score: 11.39   Avg score (100e): 11.13   actor gain: -0.43   critic loss: 0.40   steps: 550\n"
     ]
    },
    {
     "name": "stderr",
     "output_type": "stream",
     "text": [
      "training loop:   1% |                                 | ETA:  35 days, 23:46:49\r"
     ]
    },
    {
     "name": "stdout",
     "output_type": "stream",
     "text": [
      "Episode: 551   score: 11.39   Avg score (100e): 11.14   actor gain: -0.43   critic loss: 0.40   steps: 551\n"
     ]
    },
    {
     "name": "stderr",
     "output_type": "stream",
     "text": [
      "training loop:   1% |                                 | ETA:  35 days, 23:39:17\r"
     ]
    },
    {
     "name": "stdout",
     "output_type": "stream",
     "text": [
      "Episode: 552   score: 11.40   Avg score (100e): 11.14   actor gain: -0.43   critic loss: 0.40   steps: 552\n"
     ]
    },
    {
     "name": "stderr",
     "output_type": "stream",
     "text": [
      "training loop:   1% |                                 | ETA:  35 days, 23:33:01\r"
     ]
    },
    {
     "name": "stdout",
     "output_type": "stream",
     "text": [
      "Episode: 553   score: 11.40   Avg score (100e): 11.15   actor gain: -0.43   critic loss: 0.40   steps: 553\n"
     ]
    },
    {
     "name": "stderr",
     "output_type": "stream",
     "text": [
      "training loop:   1% |                                 | ETA:  35 days, 23:25:36\r"
     ]
    },
    {
     "name": "stdout",
     "output_type": "stream",
     "text": [
      "Episode: 554   score: 11.42   Avg score (100e): 11.15   actor gain: -0.43   critic loss: 0.40   steps: 554\n"
     ]
    },
    {
     "name": "stderr",
     "output_type": "stream",
     "text": [
      "training loop:   1% |                                 | ETA:  35 days, 23:20:56\r"
     ]
    },
    {
     "name": "stdout",
     "output_type": "stream",
     "text": [
      "Episode: 555   score: 11.41   Avg score (100e): 11.16   actor gain: -0.43   critic loss: 0.40   steps: 555\n"
     ]
    },
    {
     "name": "stderr",
     "output_type": "stream",
     "text": [
      "training loop:   1% |                                 | ETA:  35 days, 23:12:43\r"
     ]
    },
    {
     "name": "stdout",
     "output_type": "stream",
     "text": [
      "Episode: 556   score: 11.41   Avg score (100e): 11.16   actor gain: -0.43   critic loss: 0.40   steps: 556\n"
     ]
    },
    {
     "name": "stderr",
     "output_type": "stream",
     "text": [
      "training loop:   1% |                                 | ETA:  35 days, 23:09:23\r"
     ]
    },
    {
     "name": "stdout",
     "output_type": "stream",
     "text": [
      "Episode: 557   score: 11.41   Avg score (100e): 11.16   actor gain: -0.42   critic loss: 0.40   steps: 557\n"
     ]
    },
    {
     "name": "stderr",
     "output_type": "stream",
     "text": [
      "training loop:   1% |                                 | ETA:  35 days, 23:00:51\r"
     ]
    },
    {
     "name": "stdout",
     "output_type": "stream",
     "text": [
      "Episode: 558   score: 11.42   Avg score (100e): 11.17   actor gain: -0.42   critic loss: 0.39   steps: 558\n"
     ]
    },
    {
     "name": "stderr",
     "output_type": "stream",
     "text": [
      "training loop:   1% |                                 | ETA:  35 days, 23:04:00\r"
     ]
    },
    {
     "name": "stdout",
     "output_type": "stream",
     "text": [
      "Episode: 559   score: 11.42   Avg score (100e): 11.17   actor gain: -0.42   critic loss: 0.39   steps: 559\n"
     ]
    },
    {
     "name": "stderr",
     "output_type": "stream",
     "text": [
      "training loop:   1% |                                 | ETA:  35 days, 22:59:47\r"
     ]
    },
    {
     "name": "stdout",
     "output_type": "stream",
     "text": [
      "Episode: 560   score: 11.42   Avg score (100e): 11.18   actor gain: -0.42   critic loss: 0.39   steps: 560\n"
     ]
    },
    {
     "name": "stderr",
     "output_type": "stream",
     "text": [
      "training loop:   1% |                                 | ETA:  35 days, 22:53:14\r"
     ]
    },
    {
     "name": "stdout",
     "output_type": "stream",
     "text": [
      "Episode: 561   score: 11.42   Avg score (100e): 11.18   actor gain: -0.42   critic loss: 0.39   steps: 561\n"
     ]
    },
    {
     "name": "stderr",
     "output_type": "stream",
     "text": [
      "training loop:   1% |                                 | ETA:  35 days, 22:45:59\r"
     ]
    },
    {
     "name": "stdout",
     "output_type": "stream",
     "text": [
      "Episode: 562   score: 11.42   Avg score (100e): 11.18   actor gain: -0.43   critic loss: 0.39   steps: 562\n"
     ]
    },
    {
     "name": "stderr",
     "output_type": "stream",
     "text": [
      "training loop:   1% |                                 | ETA:  35 days, 22:42:44\r"
     ]
    },
    {
     "name": "stdout",
     "output_type": "stream",
     "text": [
      "Episode: 563   score: 11.43   Avg score (100e): 11.19   actor gain: -0.42   critic loss: 0.39   steps: 563\n"
     ]
    },
    {
     "name": "stderr",
     "output_type": "stream",
     "text": [
      "training loop:   1% |                                 | ETA:  35 days, 22:34:31\r"
     ]
    },
    {
     "name": "stdout",
     "output_type": "stream",
     "text": [
      "Episode: 564   score: 11.46   Avg score (100e): 11.19   actor gain: -0.43   critic loss: 0.39   steps: 564\n"
     ]
    },
    {
     "name": "stderr",
     "output_type": "stream",
     "text": [
      "training loop:   1% |                                 | ETA:  35 days, 22:28:40\r"
     ]
    },
    {
     "name": "stdout",
     "output_type": "stream",
     "text": [
      "Episode: 565   score: 11.46   Avg score (100e): 11.20   actor gain: -0.43   critic loss: 0.39   steps: 565\n"
     ]
    },
    {
     "name": "stderr",
     "output_type": "stream",
     "text": [
      "training loop:   1% |                                 | ETA:  35 days, 22:20:50\r"
     ]
    },
    {
     "name": "stdout",
     "output_type": "stream",
     "text": [
      "Episode: 566   score: 11.45   Avg score (100e): 11.20   actor gain: -0.43   critic loss: 0.39   steps: 566\n"
     ]
    },
    {
     "name": "stderr",
     "output_type": "stream",
     "text": [
      "training loop:   1% |                                 | ETA:  35 days, 22:11:19\r"
     ]
    },
    {
     "name": "stdout",
     "output_type": "stream",
     "text": [
      "Episode: 567   score: 11.46   Avg score (100e): 11.21   actor gain: -0.44   critic loss: 0.39   steps: 567\n"
     ]
    },
    {
     "name": "stderr",
     "output_type": "stream",
     "text": [
      "training loop:   1% |                                 | ETA:  35 days, 22:02:40\r"
     ]
    },
    {
     "name": "stdout",
     "output_type": "stream",
     "text": [
      "Episode: 568   score: 11.47   Avg score (100e): 11.21   actor gain: -0.43   critic loss: 0.39   steps: 568\n"
     ]
    },
    {
     "name": "stderr",
     "output_type": "stream",
     "text": [
      "training loop:   1% |                                 | ETA:  35 days, 21:54:48\r"
     ]
    },
    {
     "name": "stdout",
     "output_type": "stream",
     "text": [
      "Episode: 569   score: 11.47   Avg score (100e): 11.22   actor gain: -0.44   critic loss: 0.39   steps: 569\n"
     ]
    },
    {
     "name": "stderr",
     "output_type": "stream",
     "text": [
      "training loop:   1% |                                 | ETA:  35 days, 21:48:44\r"
     ]
    },
    {
     "name": "stdout",
     "output_type": "stream",
     "text": [
      "Episode: 570   score: 11.47   Avg score (100e): 11.22   actor gain: -0.44   critic loss: 0.40   steps: 570\n"
     ]
    },
    {
     "name": "stderr",
     "output_type": "stream",
     "text": [
      "training loop:   1% |                                 | ETA:  35 days, 21:46:51\r"
     ]
    },
    {
     "name": "stdout",
     "output_type": "stream",
     "text": [
      "Episode: 571   score: 11.48   Avg score (100e): 11.22   actor gain: -0.44   critic loss: 0.40   steps: 571\n"
     ]
    },
    {
     "name": "stderr",
     "output_type": "stream",
     "text": [
      "training loop:   1% |                                 | ETA:  35 days, 21:40:02\r"
     ]
    },
    {
     "name": "stdout",
     "output_type": "stream",
     "text": [
      "Episode: 572   score: 11.48   Avg score (100e): 11.23   actor gain: -0.44   critic loss: 0.40   steps: 572\n"
     ]
    },
    {
     "name": "stderr",
     "output_type": "stream",
     "text": [
      "training loop:   1% |                                 | ETA:  35 days, 21:31:22\r"
     ]
    },
    {
     "name": "stdout",
     "output_type": "stream",
     "text": [
      "Episode: 573   score: 11.49   Avg score (100e): 11.23   actor gain: -0.44   critic loss: 0.40   steps: 573\n"
     ]
    },
    {
     "name": "stderr",
     "output_type": "stream",
     "text": [
      "training loop:   1% |                                 | ETA:  35 days, 21:24:00\r"
     ]
    },
    {
     "name": "stdout",
     "output_type": "stream",
     "text": [
      "Episode: 574   score: 11.48   Avg score (100e): 11.24   actor gain: -0.43   critic loss: 0.40   steps: 574\n"
     ]
    },
    {
     "name": "stderr",
     "output_type": "stream",
     "text": [
      "training loop:   1% |                                 | ETA:  35 days, 21:15:31\r"
     ]
    },
    {
     "name": "stdout",
     "output_type": "stream",
     "text": [
      "Episode: 575   score: 11.50   Avg score (100e): 11.24   actor gain: -0.43   critic loss: 0.40   steps: 575\n"
     ]
    },
    {
     "name": "stderr",
     "output_type": "stream",
     "text": [
      "training loop:   1% |                                 | ETA:  35 days, 21:10:00\r"
     ]
    },
    {
     "name": "stdout",
     "output_type": "stream",
     "text": [
      "Episode: 576   score: 11.50   Avg score (100e): 11.25   actor gain: -0.43   critic loss: 0.40   steps: 576\n"
     ]
    },
    {
     "name": "stderr",
     "output_type": "stream",
     "text": [
      "training loop:   1% |                                 | ETA:  35 days, 21:00:43\r"
     ]
    },
    {
     "name": "stdout",
     "output_type": "stream",
     "text": [
      "Episode: 577   score: 11.51   Avg score (100e): 11.25   actor gain: -0.43   critic loss: 0.40   steps: 577\n"
     ]
    },
    {
     "name": "stderr",
     "output_type": "stream",
     "text": [
      "training loop:   1% |                                 | ETA:  35 days, 20:54:35\r"
     ]
    },
    {
     "name": "stdout",
     "output_type": "stream",
     "text": [
      "Episode: 578   score: 11.52   Avg score (100e): 11.26   actor gain: -0.43   critic loss: 0.40   steps: 578\n"
     ]
    },
    {
     "name": "stderr",
     "output_type": "stream",
     "text": [
      "training loop:   1% |                                 | ETA:  35 days, 20:47:42\r"
     ]
    },
    {
     "name": "stdout",
     "output_type": "stream",
     "text": [
      "Episode: 579   score: 11.52   Avg score (100e): 11.26   actor gain: -0.43   critic loss: 0.40   steps: 579\n"
     ]
    },
    {
     "name": "stderr",
     "output_type": "stream",
     "text": [
      "training loop:   1% |                                 | ETA:  35 days, 20:40:55\r"
     ]
    },
    {
     "name": "stdout",
     "output_type": "stream",
     "text": [
      "Episode: 580   score: 11.54   Avg score (100e): 11.27   actor gain: -0.44   critic loss: 0.40   steps: 580\n"
     ]
    },
    {
     "name": "stderr",
     "output_type": "stream",
     "text": [
      "training loop:   1% |                                 | ETA:  35 days, 20:34:26\r"
     ]
    },
    {
     "name": "stdout",
     "output_type": "stream",
     "text": [
      "Episode: 581   score: 11.54   Avg score (100e): 11.27   actor gain: -0.44   critic loss: 0.40   steps: 581\n"
     ]
    },
    {
     "name": "stderr",
     "output_type": "stream",
     "text": [
      "training loop:   1% |                                 | ETA:  35 days, 20:33:54\r"
     ]
    },
    {
     "name": "stdout",
     "output_type": "stream",
     "text": [
      "Episode: 582   score: 11.53   Avg score (100e): 11.28   actor gain: -0.44   critic loss: 0.40   steps: 582\n"
     ]
    },
    {
     "name": "stderr",
     "output_type": "stream",
     "text": [
      "training loop:   1% |                                 | ETA:  35 days, 20:27:37\r"
     ]
    },
    {
     "name": "stdout",
     "output_type": "stream",
     "text": [
      "Episode: 583   score: 11.54   Avg score (100e): 11.28   actor gain: -0.44   critic loss: 0.40   steps: 583\n"
     ]
    },
    {
     "name": "stderr",
     "output_type": "stream",
     "text": [
      "training loop:   1% |                                 | ETA:  35 days, 20:19:15\r"
     ]
    },
    {
     "name": "stdout",
     "output_type": "stream",
     "text": [
      "Episode: 584   score: 11.54   Avg score (100e): 11.29   actor gain: -0.44   critic loss: 0.40   steps: 584\n"
     ]
    },
    {
     "name": "stderr",
     "output_type": "stream",
     "text": [
      "training loop:   1% |                                 | ETA:  35 days, 20:12:06\r"
     ]
    },
    {
     "name": "stdout",
     "output_type": "stream",
     "text": [
      "Episode: 585   score: 11.54   Avg score (100e): 11.29   actor gain: -0.44   critic loss: 0.40   steps: 585\n"
     ]
    },
    {
     "name": "stderr",
     "output_type": "stream",
     "text": [
      "training loop:   1% |                                 | ETA:  35 days, 20:06:57\r"
     ]
    },
    {
     "name": "stdout",
     "output_type": "stream",
     "text": [
      "Episode: 586   score: 11.55   Avg score (100e): 11.30   actor gain: -0.44   critic loss: 0.40   steps: 586\n"
     ]
    },
    {
     "name": "stderr",
     "output_type": "stream",
     "text": [
      "training loop:   1% |                                 | ETA:  35 days, 20:00:07\r"
     ]
    },
    {
     "name": "stdout",
     "output_type": "stream",
     "text": [
      "Episode: 587   score: 11.55   Avg score (100e): 11.30   actor gain: -0.44   critic loss: 0.40   steps: 587\n"
     ]
    },
    {
     "name": "stderr",
     "output_type": "stream",
     "text": [
      "training loop:   1% |                                 | ETA:  35 days, 19:54:39\r"
     ]
    },
    {
     "name": "stdout",
     "output_type": "stream",
     "text": [
      "Episode: 588   score: 11.57   Avg score (100e): 11.31   actor gain: -0.45   critic loss: 0.40   steps: 588\n"
     ]
    },
    {
     "name": "stderr",
     "output_type": "stream",
     "text": [
      "training loop:   1% |                                 | ETA:  35 days, 19:47:51\r"
     ]
    },
    {
     "name": "stdout",
     "output_type": "stream",
     "text": [
      "Episode: 589   score: 11.58   Avg score (100e): 11.31   actor gain: -0.44   critic loss: 0.40   steps: 589\n"
     ]
    },
    {
     "name": "stderr",
     "output_type": "stream",
     "text": [
      "training loop:   1% |                                 | ETA:  35 days, 19:38:49\r"
     ]
    },
    {
     "name": "stdout",
     "output_type": "stream",
     "text": [
      "Episode: 590   score: 11.57   Avg score (100e): 11.32   actor gain: -0.45   critic loss: 0.40   steps: 590\n"
     ]
    },
    {
     "name": "stderr",
     "output_type": "stream",
     "text": [
      "training loop:   1% |                                 | ETA:  35 days, 19:33:29\r"
     ]
    },
    {
     "name": "stdout",
     "output_type": "stream",
     "text": [
      "Episode: 591   score: 11.59   Avg score (100e): 11.32   actor gain: -0.45   critic loss: 0.40   steps: 591\n"
     ]
    },
    {
     "name": "stderr",
     "output_type": "stream",
     "text": [
      "training loop:   1% |                                 | ETA:  35 days, 19:40:30\r"
     ]
    },
    {
     "name": "stdout",
     "output_type": "stream",
     "text": [
      "Episode: 592   score: 11.60   Avg score (100e): 11.33   actor gain: -0.44   critic loss: 0.40   steps: 592\n"
     ]
    },
    {
     "name": "stderr",
     "output_type": "stream",
     "text": [
      "training loop:   1% |                                 | ETA:  35 days, 19:35:33\r"
     ]
    },
    {
     "name": "stdout",
     "output_type": "stream",
     "text": [
      "Episode: 593   score: 11.61   Avg score (100e): 11.33   actor gain: -0.45   critic loss: 0.40   steps: 593\n"
     ]
    },
    {
     "name": "stderr",
     "output_type": "stream",
     "text": [
      "training loop:   1% |                                 | ETA:  35 days, 19:33:17\r"
     ]
    },
    {
     "name": "stdout",
     "output_type": "stream",
     "text": [
      "Episode: 594   score: 11.61   Avg score (100e): 11.34   actor gain: -0.44   critic loss: 0.40   steps: 594\n"
     ]
    },
    {
     "name": "stderr",
     "output_type": "stream",
     "text": [
      "training loop:   1% |                                 | ETA:  35 days, 19:30:16\r"
     ]
    },
    {
     "name": "stdout",
     "output_type": "stream",
     "text": [
      "Episode: 595   score: 11.63   Avg score (100e): 11.34   actor gain: -0.45   critic loss: 0.40   steps: 595\n"
     ]
    },
    {
     "name": "stderr",
     "output_type": "stream",
     "text": [
      "training loop:   1% |                                 | ETA:  35 days, 19:23:05\r"
     ]
    },
    {
     "name": "stdout",
     "output_type": "stream",
     "text": [
      "Episode: 596   score: 11.63   Avg score (100e): 11.35   actor gain: -0.45   critic loss: 0.40   steps: 596\n"
     ]
    },
    {
     "name": "stderr",
     "output_type": "stream",
     "text": [
      "training loop:   1% |                                 | ETA:  35 days, 19:19:10\r"
     ]
    },
    {
     "name": "stdout",
     "output_type": "stream",
     "text": [
      "Episode: 597   score: 11.63   Avg score (100e): 11.35   actor gain: -0.45   critic loss: 0.40   steps: 597\n"
     ]
    },
    {
     "name": "stderr",
     "output_type": "stream",
     "text": [
      "training loop:   1% |                                 | ETA:  35 days, 19:10:29\r"
     ]
    },
    {
     "name": "stdout",
     "output_type": "stream",
     "text": [
      "Episode: 598   score: 11.64   Avg score (100e): 11.36   actor gain: -0.45   critic loss: 0.40   steps: 598\n"
     ]
    },
    {
     "name": "stderr",
     "output_type": "stream",
     "text": [
      "training loop:   1% |                                 | ETA:  35 days, 19:06:41\r"
     ]
    },
    {
     "name": "stdout",
     "output_type": "stream",
     "text": [
      "Episode: 599   score: 11.65   Avg score (100e): 11.36   actor gain: -0.46   critic loss: 0.40   steps: 599\n"
     ]
    },
    {
     "name": "stderr",
     "output_type": "stream",
     "text": [
      "training loop:   1% |                                 | ETA:  35 days, 19:02:34\r"
     ]
    },
    {
     "name": "stdout",
     "output_type": "stream",
     "text": [
      "Episode: 600   score: 11.65   Avg score (100e): 11.37   actor gain: -0.46   critic loss: 0.40   steps: 600\n"
     ]
    },
    {
     "name": "stderr",
     "output_type": "stream",
     "text": [
      "training loop:   1% |                                 | ETA:  35 days, 18:54:35\r"
     ]
    },
    {
     "name": "stdout",
     "output_type": "stream",
     "text": [
      "Episode: 601   score: 11.66   Avg score (100e): 11.38   actor gain: -0.46   critic loss: 0.40   steps: 601\n"
     ]
    },
    {
     "name": "stderr",
     "output_type": "stream",
     "text": [
      "training loop:   1% |                                 | ETA:  35 days, 18:45:29\r"
     ]
    },
    {
     "name": "stdout",
     "output_type": "stream",
     "text": [
      "Episode: 602   score: 11.66   Avg score (100e): 11.38   actor gain: -0.47   critic loss: 0.40   steps: 602\n"
     ]
    },
    {
     "name": "stderr",
     "output_type": "stream",
     "text": [
      "training loop:   1% |                                 | ETA:  35 days, 18:42:29\r"
     ]
    },
    {
     "name": "stdout",
     "output_type": "stream",
     "text": [
      "Episode: 603   score: 11.67   Avg score (100e): 11.39   actor gain: -0.47   critic loss: 0.40   steps: 603\n"
     ]
    },
    {
     "name": "stderr",
     "output_type": "stream",
     "text": [
      "training loop:   1% |                                 | ETA:  35 days, 18:36:06\r"
     ]
    },
    {
     "name": "stdout",
     "output_type": "stream",
     "text": [
      "Episode: 604   score: 11.69   Avg score (100e): 11.39   actor gain: -0.47   critic loss: 0.40   steps: 604\n"
     ]
    },
    {
     "name": "stderr",
     "output_type": "stream",
     "text": [
      "training loop:   1% |                                 | ETA:  35 days, 18:28:34\r"
     ]
    },
    {
     "name": "stdout",
     "output_type": "stream",
     "text": [
      "Episode: 605   score: 11.70   Avg score (100e): 11.40   actor gain: -0.46   critic loss: 0.40   steps: 605\n"
     ]
    },
    {
     "name": "stderr",
     "output_type": "stream",
     "text": [
      "training loop:   1% |                                 | ETA:  35 days, 18:23:49\r"
     ]
    },
    {
     "name": "stdout",
     "output_type": "stream",
     "text": [
      "Episode: 606   score: 11.72   Avg score (100e): 11.41   actor gain: -0.46   critic loss: 0.40   steps: 606\n"
     ]
    },
    {
     "name": "stderr",
     "output_type": "stream",
     "text": [
      "training loop:   1% |                                 | ETA:  35 days, 18:17:16\r"
     ]
    },
    {
     "name": "stdout",
     "output_type": "stream",
     "text": [
      "Episode: 607   score: 11.72   Avg score (100e): 11.41   actor gain: -0.46   critic loss: 0.40   steps: 607\n"
     ]
    },
    {
     "name": "stderr",
     "output_type": "stream",
     "text": [
      "training loop:   1% |                                 | ETA:  35 days, 18:08:06\r"
     ]
    },
    {
     "name": "stdout",
     "output_type": "stream",
     "text": [
      "Episode: 608   score: 11.73   Avg score (100e): 11.42   actor gain: -0.46   critic loss: 0.40   steps: 608\n"
     ]
    },
    {
     "name": "stderr",
     "output_type": "stream",
     "text": [
      "training loop:   1% |                                 | ETA:  35 days, 17:59:55\r"
     ]
    },
    {
     "name": "stdout",
     "output_type": "stream",
     "text": [
      "Episode: 609   score: 11.75   Avg score (100e): 11.42   actor gain: -0.47   critic loss: 0.40   steps: 609\n"
     ]
    },
    {
     "name": "stderr",
     "output_type": "stream",
     "text": [
      "training loop:   1% |                                 | ETA:  35 days, 17:52:06\r"
     ]
    },
    {
     "name": "stdout",
     "output_type": "stream",
     "text": [
      "Episode: 610   score: 11.75   Avg score (100e): 11.43   actor gain: -0.46   critic loss: 0.40   steps: 610\n"
     ]
    },
    {
     "name": "stderr",
     "output_type": "stream",
     "text": [
      "training loop:   1% |                                 | ETA:  35 days, 17:45:45\r"
     ]
    },
    {
     "name": "stdout",
     "output_type": "stream",
     "text": [
      "Episode: 611   score: 11.77   Avg score (100e): 11.44   actor gain: -0.46   critic loss: 0.40   steps: 611\n"
     ]
    },
    {
     "name": "stderr",
     "output_type": "stream",
     "text": [
      "training loop:   1% |                                 | ETA:  35 days, 17:43:07\r"
     ]
    },
    {
     "name": "stdout",
     "output_type": "stream",
     "text": [
      "Episode: 612   score: 11.78   Avg score (100e): 11.44   actor gain: -0.46   critic loss: 0.40   steps: 612\n"
     ]
    },
    {
     "name": "stderr",
     "output_type": "stream",
     "text": [
      "training loop:   1% |                                 | ETA:  35 days, 17:35:35\r"
     ]
    },
    {
     "name": "stdout",
     "output_type": "stream",
     "text": [
      "Episode: 613   score: 11.77   Avg score (100e): 11.45   actor gain: -0.48   critic loss: 0.40   steps: 613\n"
     ]
    },
    {
     "name": "stderr",
     "output_type": "stream",
     "text": [
      "training loop:   1% |                                 | ETA:  35 days, 17:28:47\r"
     ]
    },
    {
     "name": "stdout",
     "output_type": "stream",
     "text": [
      "Episode: 614   score: 11.77   Avg score (100e): 11.46   actor gain: -0.47   critic loss: 0.40   steps: 614\n"
     ]
    },
    {
     "name": "stderr",
     "output_type": "stream",
     "text": [
      "training loop:   1% |                                 | ETA:  35 days, 17:24:37\r"
     ]
    },
    {
     "name": "stdout",
     "output_type": "stream",
     "text": [
      "Episode: 615   score: 11.76   Avg score (100e): 11.46   actor gain: -0.47   critic loss: 0.40   steps: 615\n"
     ]
    },
    {
     "name": "stderr",
     "output_type": "stream",
     "text": [
      "training loop:   1% |                                 | ETA:  35 days, 17:20:23\r"
     ]
    },
    {
     "name": "stdout",
     "output_type": "stream",
     "text": [
      "Episode: 616   score: 11.77   Avg score (100e): 11.47   actor gain: -0.47   critic loss: 0.40   steps: 616\n"
     ]
    },
    {
     "name": "stderr",
     "output_type": "stream",
     "text": [
      "training loop:   1% |                                 | ETA:  35 days, 17:13:15\r"
     ]
    },
    {
     "name": "stdout",
     "output_type": "stream",
     "text": [
      "Episode: 617   score: 11.78   Avg score (100e): 11.47   actor gain: -0.47   critic loss: 0.40   steps: 617\n"
     ]
    },
    {
     "name": "stderr",
     "output_type": "stream",
     "text": [
      "training loop:   1% |                                 | ETA:  35 days, 17:09:57\r"
     ]
    },
    {
     "name": "stdout",
     "output_type": "stream",
     "text": [
      "Episode: 618   score: 11.78   Avg score (100e): 11.48   actor gain: -0.46   critic loss: 0.40   steps: 618\n"
     ]
    },
    {
     "name": "stderr",
     "output_type": "stream",
     "text": [
      "training loop:   1% |                                 | ETA:  35 days, 17:05:24\r"
     ]
    },
    {
     "name": "stdout",
     "output_type": "stream",
     "text": [
      "Episode: 619   score: 11.78   Avg score (100e): 11.49   actor gain: -0.46   critic loss: 0.40   steps: 619\n"
     ]
    },
    {
     "name": "stderr",
     "output_type": "stream",
     "text": [
      "training loop:   1% |                                 | ETA:  35 days, 17:01:50\r"
     ]
    },
    {
     "name": "stdout",
     "output_type": "stream",
     "text": [
      "Episode: 620   score: 11.79   Avg score (100e): 11.49   actor gain: -0.46   critic loss: 0.40   steps: 620\n"
     ]
    },
    {
     "name": "stderr",
     "output_type": "stream",
     "text": [
      "training loop:   1% |                                 | ETA:  35 days, 16:57:05\r"
     ]
    },
    {
     "name": "stdout",
     "output_type": "stream",
     "text": [
      "Episode: 621   score: 11.80   Avg score (100e): 11.50   actor gain: -0.46   critic loss: 0.40   steps: 621\n"
     ]
    },
    {
     "name": "stderr",
     "output_type": "stream",
     "text": [
      "training loop:   1% |                                 | ETA:  35 days, 16:49:36\r"
     ]
    },
    {
     "name": "stdout",
     "output_type": "stream",
     "text": [
      "Episode: 622   score: 11.82   Avg score (100e): 11.50   actor gain: -0.46   critic loss: 0.40   steps: 622\n"
     ]
    },
    {
     "name": "stderr",
     "output_type": "stream",
     "text": [
      "training loop:   1% |                                 | ETA:  35 days, 16:44:47\r"
     ]
    },
    {
     "name": "stdout",
     "output_type": "stream",
     "text": [
      "Episode: 623   score: 11.82   Avg score (100e): 11.51   actor gain: -0.46   critic loss: 0.40   steps: 623\n"
     ]
    },
    {
     "name": "stderr",
     "output_type": "stream",
     "text": [
      "training loop:   1% |                                 | ETA:  35 days, 16:48:49\r"
     ]
    },
    {
     "name": "stdout",
     "output_type": "stream",
     "text": [
      "Episode: 624   score: 11.83   Avg score (100e): 11.52   actor gain: -0.45   critic loss: 0.40   steps: 624\n"
     ]
    },
    {
     "name": "stderr",
     "output_type": "stream",
     "text": [
      "training loop:   1% |                                 | ETA:  35 days, 16:45:55\r"
     ]
    },
    {
     "name": "stdout",
     "output_type": "stream",
     "text": [
      "Episode: 625   score: 11.84   Avg score (100e): 11.52   actor gain: -0.45   critic loss: 0.40   steps: 625\n"
     ]
    },
    {
     "name": "stderr",
     "output_type": "stream",
     "text": [
      "training loop:   1% |                                 | ETA:  35 days, 16:45:26\r"
     ]
    },
    {
     "name": "stdout",
     "output_type": "stream",
     "text": [
      "Episode: 626   score: 11.85   Avg score (100e): 11.53   actor gain: -0.44   critic loss: 0.40   steps: 626\n"
     ]
    },
    {
     "name": "stderr",
     "output_type": "stream",
     "text": [
      "training loop:   1% |                                 | ETA:  35 days, 16:38:10\r"
     ]
    },
    {
     "name": "stdout",
     "output_type": "stream",
     "text": [
      "Episode: 627   score: 11.86   Avg score (100e): 11.54   actor gain: -0.44   critic loss: 0.40   steps: 627\n"
     ]
    },
    {
     "name": "stderr",
     "output_type": "stream",
     "text": [
      "training loop:   1% |                                 | ETA:  35 days, 16:34:15\r"
     ]
    },
    {
     "name": "stdout",
     "output_type": "stream",
     "text": [
      "Episode: 628   score: 11.87   Avg score (100e): 11.54   actor gain: -0.44   critic loss: 0.40   steps: 628\n"
     ]
    },
    {
     "name": "stderr",
     "output_type": "stream",
     "text": [
      "training loop:   1% |                                 | ETA:  35 days, 16:29:37\r"
     ]
    },
    {
     "name": "stdout",
     "output_type": "stream",
     "text": [
      "Episode: 629   score: 11.87   Avg score (100e): 11.55   actor gain: -0.44   critic loss: 0.40   steps: 629\n"
     ]
    },
    {
     "name": "stderr",
     "output_type": "stream",
     "text": [
      "training loop:   1% |                                 | ETA:  35 days, 16:23:31\r"
     ]
    },
    {
     "name": "stdout",
     "output_type": "stream",
     "text": [
      "Episode: 630   score: 11.88   Avg score (100e): 11.55   actor gain: -0.45   critic loss: 0.40   steps: 630\n"
     ]
    },
    {
     "name": "stderr",
     "output_type": "stream",
     "text": [
      "training loop:   1% |                                 | ETA:  35 days, 16:20:29\r"
     ]
    },
    {
     "name": "stdout",
     "output_type": "stream",
     "text": [
      "Episode: 631   score: 11.90   Avg score (100e): 11.56   actor gain: -0.45   critic loss: 0.40   steps: 631\n"
     ]
    },
    {
     "name": "stderr",
     "output_type": "stream",
     "text": [
      "training loop:   1% |                                 | ETA:  35 days, 16:16:58\r"
     ]
    },
    {
     "name": "stdout",
     "output_type": "stream",
     "text": [
      "Episode: 632   score: 11.89   Avg score (100e): 11.57   actor gain: -0.44   critic loss: 0.40   steps: 632\n"
     ]
    },
    {
     "name": "stderr",
     "output_type": "stream",
     "text": [
      "training loop:   1% |                                 | ETA:  35 days, 16:10:56\r"
     ]
    },
    {
     "name": "stdout",
     "output_type": "stream",
     "text": [
      "Episode: 633   score: 11.90   Avg score (100e): 11.57   actor gain: -0.44   critic loss: 0.40   steps: 633\n"
     ]
    },
    {
     "name": "stderr",
     "output_type": "stream",
     "text": [
      "training loop:   1% |                                 | ETA:  35 days, 16:04:10\r"
     ]
    },
    {
     "name": "stdout",
     "output_type": "stream",
     "text": [
      "Episode: 634   score: 11.91   Avg score (100e): 11.58   actor gain: -0.44   critic loss: 0.40   steps: 634\n"
     ]
    },
    {
     "name": "stderr",
     "output_type": "stream",
     "text": [
      "training loop:   1% |                                 | ETA:  35 days, 15:57:38\r"
     ]
    },
    {
     "name": "stdout",
     "output_type": "stream",
     "text": [
      "Episode: 635   score: 11.92   Avg score (100e): 11.58   actor gain: -0.44   critic loss: 0.40   steps: 635\n"
     ]
    },
    {
     "name": "stderr",
     "output_type": "stream",
     "text": [
      "training loop:   1% |                                 | ETA:  35 days, 15:53:14\r"
     ]
    },
    {
     "name": "stdout",
     "output_type": "stream",
     "text": [
      "Episode: 636   score: 11.93   Avg score (100e): 11.59   actor gain: -0.44   critic loss: 0.40   steps: 636\n"
     ]
    },
    {
     "name": "stderr",
     "output_type": "stream",
     "text": [
      "training loop:   1% |                                 | ETA:  35 days, 15:49:00\r"
     ]
    },
    {
     "name": "stdout",
     "output_type": "stream",
     "text": [
      "Episode: 637   score: 11.94   Avg score (100e): 11.60   actor gain: -0.44   critic loss: 0.40   steps: 637\n"
     ]
    },
    {
     "name": "stderr",
     "output_type": "stream",
     "text": [
      "training loop:   1% |                                 | ETA:  35 days, 15:42:26\r"
     ]
    },
    {
     "name": "stdout",
     "output_type": "stream",
     "text": [
      "Episode: 638   score: 11.96   Avg score (100e): 11.60   actor gain: -0.42   critic loss: 0.40   steps: 638\n"
     ]
    },
    {
     "name": "stderr",
     "output_type": "stream",
     "text": [
      "training loop:   1% |                                 | ETA:  35 days, 15:35:56\r"
     ]
    },
    {
     "name": "stdout",
     "output_type": "stream",
     "text": [
      "Episode: 639   score: 11.97   Avg score (100e): 11.61   actor gain: -0.42   critic loss: 0.40   steps: 639\n"
     ]
    },
    {
     "name": "stderr",
     "output_type": "stream",
     "text": [
      "training loop:   1% |                                 | ETA:  35 days, 15:32:45\r"
     ]
    },
    {
     "name": "stdout",
     "output_type": "stream",
     "text": [
      "Episode: 640   score: 11.97   Avg score (100e): 11.62   actor gain: -0.42   critic loss: 0.40   steps: 640\n"
     ]
    },
    {
     "name": "stderr",
     "output_type": "stream",
     "text": [
      "training loop:   1% |                                 | ETA:  35 days, 15:27:59\r"
     ]
    },
    {
     "name": "stdout",
     "output_type": "stream",
     "text": [
      "Episode: 641   score: 11.97   Avg score (100e): 11.62   actor gain: -0.42   critic loss: 0.40   steps: 641\n"
     ]
    },
    {
     "name": "stderr",
     "output_type": "stream",
     "text": [
      "training loop:   1% |                                 | ETA:  35 days, 15:26:44\r"
     ]
    },
    {
     "name": "stdout",
     "output_type": "stream",
     "text": [
      "Episode: 642   score: 11.96   Avg score (100e): 11.63   actor gain: -0.42   critic loss: 0.40   steps: 642\n"
     ]
    },
    {
     "name": "stderr",
     "output_type": "stream",
     "text": [
      "training loop:   1% |                                 | ETA:  35 days, 15:27:00\r"
     ]
    },
    {
     "name": "stdout",
     "output_type": "stream",
     "text": [
      "Episode: 643   score: 11.98   Avg score (100e): 11.63   actor gain: -0.42   critic loss: 0.40   steps: 643\n"
     ]
    },
    {
     "name": "stderr",
     "output_type": "stream",
     "text": [
      "training loop:   1% |                                 | ETA:  35 days, 15:20:17\r"
     ]
    },
    {
     "name": "stdout",
     "output_type": "stream",
     "text": [
      "Episode: 644   score: 11.99   Avg score (100e): 11.64   actor gain: -0.42   critic loss: 0.41   steps: 644\n"
     ]
    },
    {
     "name": "stderr",
     "output_type": "stream",
     "text": [
      "training loop:   1% |                                 | ETA:  35 days, 15:13:06\r"
     ]
    },
    {
     "name": "stdout",
     "output_type": "stream",
     "text": [
      "Episode: 645   score: 12.00   Avg score (100e): 11.65   actor gain: -0.42   critic loss: 0.41   steps: 645\n"
     ]
    },
    {
     "name": "stderr",
     "output_type": "stream",
     "text": [
      "training loop:   1% |                                 | ETA:  35 days, 15:08:55\r"
     ]
    },
    {
     "name": "stdout",
     "output_type": "stream",
     "text": [
      "Episode: 646   score: 11.99   Avg score (100e): 11.65   actor gain: -0.42   critic loss: 0.41   steps: 646\n"
     ]
    },
    {
     "name": "stderr",
     "output_type": "stream",
     "text": [
      "training loop:   1% |                                 | ETA:  35 days, 15:00:24\r"
     ]
    },
    {
     "name": "stdout",
     "output_type": "stream",
     "text": [
      "Episode: 647   score: 12.00   Avg score (100e): 11.66   actor gain: -0.42   critic loss: 0.41   steps: 647\n"
     ]
    },
    {
     "name": "stderr",
     "output_type": "stream",
     "text": [
      "training loop:   1% |                                 | ETA:  35 days, 14:53:55\r"
     ]
    },
    {
     "name": "stdout",
     "output_type": "stream",
     "text": [
      "Episode: 648   score: 12.00   Avg score (100e): 11.67   actor gain: -0.42   critic loss: 0.41   steps: 648\n"
     ]
    },
    {
     "name": "stderr",
     "output_type": "stream",
     "text": [
      "training loop:   1% |                                 | ETA:  35 days, 14:50:42\r"
     ]
    },
    {
     "name": "stdout",
     "output_type": "stream",
     "text": [
      "Episode: 649   score: 12.01   Avg score (100e): 11.67   actor gain: -0.42   critic loss: 0.41   steps: 649\n"
     ]
    },
    {
     "name": "stderr",
     "output_type": "stream",
     "text": [
      "training loop:   1% |                                 | ETA:  35 days, 14:43:35\r"
     ]
    },
    {
     "name": "stdout",
     "output_type": "stream",
     "text": [
      "Episode: 650   score: 12.01   Avg score (100e): 11.68   actor gain: -0.42   critic loss: 0.41   steps: 650\n"
     ]
    },
    {
     "name": "stderr",
     "output_type": "stream",
     "text": [
      "training loop:   1% |                                 | ETA:  35 days, 14:39:21\r"
     ]
    },
    {
     "name": "stdout",
     "output_type": "stream",
     "text": [
      "Episode: 651   score: 12.02   Avg score (100e): 11.68   actor gain: -0.42   critic loss: 0.41   steps: 651\n"
     ]
    },
    {
     "name": "stderr",
     "output_type": "stream",
     "text": [
      "training loop:   1% |                                 | ETA:  35 days, 14:37:18\r"
     ]
    },
    {
     "name": "stdout",
     "output_type": "stream",
     "text": [
      "Episode: 652   score: 12.03   Avg score (100e): 11.69   actor gain: -0.42   critic loss: 0.41   steps: 652\n"
     ]
    },
    {
     "name": "stderr",
     "output_type": "stream",
     "text": [
      "training loop:   1% |                                 | ETA:  35 days, 14:31:49\r"
     ]
    },
    {
     "name": "stdout",
     "output_type": "stream",
     "text": [
      "Episode: 653   score: 12.04   Avg score (100e): 11.70   actor gain: -0.42   critic loss: 0.41   steps: 653\n"
     ]
    },
    {
     "name": "stderr",
     "output_type": "stream",
     "text": [
      "training loop:   1% |                                 | ETA:  35 days, 14:29:36\r"
     ]
    },
    {
     "name": "stdout",
     "output_type": "stream",
     "text": [
      "Episode: 654   score: 12.05   Avg score (100e): 11.70   actor gain: -0.42   critic loss: 0.41   steps: 654\n"
     ]
    },
    {
     "name": "stderr",
     "output_type": "stream",
     "text": [
      "training loop:   1% |                                 | ETA:  35 days, 14:25:13\r"
     ]
    },
    {
     "name": "stdout",
     "output_type": "stream",
     "text": [
      "Episode: 655   score: 12.05   Avg score (100e): 11.71   actor gain: -0.42   critic loss: 0.40   steps: 655\n"
     ]
    },
    {
     "name": "stderr",
     "output_type": "stream",
     "text": [
      "training loop:   1% |                                 | ETA:  35 days, 14:31:36\r"
     ]
    },
    {
     "name": "stdout",
     "output_type": "stream",
     "text": [
      "Episode: 656   score: 12.06   Avg score (100e): 11.72   actor gain: -0.42   critic loss: 0.40   steps: 656\n"
     ]
    },
    {
     "name": "stderr",
     "output_type": "stream",
     "text": [
      "training loop:   1% |                                 | ETA:  35 days, 14:29:34\r"
     ]
    },
    {
     "name": "stdout",
     "output_type": "stream",
     "text": [
      "Episode: 657   score: 12.08   Avg score (100e): 11.72   actor gain: -0.62   critic loss: 0.40   steps: 657\n"
     ]
    },
    {
     "name": "stderr",
     "output_type": "stream",
     "text": [
      "training loop:   1% |                                 | ETA:  35 days, 14:24:17\r"
     ]
    },
    {
     "name": "stdout",
     "output_type": "stream",
     "text": [
      "Episode: 658   score: 12.10   Avg score (100e): 11.73   actor gain: -0.63   critic loss: 0.40   steps: 658\n"
     ]
    },
    {
     "name": "stderr",
     "output_type": "stream",
     "text": [
      "training loop:   1% |                                 | ETA:  35 days, 14:24:55\r"
     ]
    },
    {
     "name": "stdout",
     "output_type": "stream",
     "text": [
      "Episode: 659   score: 12.11   Avg score (100e): 11.74   actor gain: -0.63   critic loss: 0.40   steps: 659\n"
     ]
    },
    {
     "name": "stderr",
     "output_type": "stream",
     "text": [
      "training loop:   1% |                                 | ETA:  35 days, 14:22:14\r"
     ]
    },
    {
     "name": "stdout",
     "output_type": "stream",
     "text": [
      "Episode: 660   score: 12.10   Avg score (100e): 11.74   actor gain: -0.62   critic loss: 0.40   steps: 660\n"
     ]
    },
    {
     "name": "stderr",
     "output_type": "stream",
     "text": [
      "training loop:   1% |                                 | ETA:  35 days, 14:20:03\r"
     ]
    },
    {
     "name": "stdout",
     "output_type": "stream",
     "text": [
      "Episode: 661   score: 12.10   Avg score (100e): 11.75   actor gain: -0.63   critic loss: 0.40   steps: 661\n"
     ]
    },
    {
     "name": "stderr",
     "output_type": "stream",
     "text": [
      "training loop:   1% |                                 | ETA:  35 days, 14:16:02\r"
     ]
    },
    {
     "name": "stdout",
     "output_type": "stream",
     "text": [
      "Episode: 662   score: 12.09   Avg score (100e): 11.76   actor gain: -0.63   critic loss: 0.40   steps: 662\n"
     ]
    },
    {
     "name": "stderr",
     "output_type": "stream",
     "text": [
      "training loop:   1% |                                 | ETA:  35 days, 14:13:49\r"
     ]
    },
    {
     "name": "stdout",
     "output_type": "stream",
     "text": [
      "Episode: 663   score: 12.10   Avg score (100e): 11.76   actor gain: -0.62   critic loss: 0.40   steps: 663\n"
     ]
    },
    {
     "name": "stderr",
     "output_type": "stream",
     "text": [
      "training loop:   1% |                                 | ETA:  35 days, 14:07:47\r"
     ]
    },
    {
     "name": "stdout",
     "output_type": "stream",
     "text": [
      "Episode: 664   score: 12.10   Avg score (100e): 11.77   actor gain: -0.62   critic loss: 0.40   steps: 664\n"
     ]
    },
    {
     "name": "stderr",
     "output_type": "stream",
     "text": [
      "training loop:   1% |                                 | ETA:  35 days, 14:01:15\r"
     ]
    },
    {
     "name": "stdout",
     "output_type": "stream",
     "text": [
      "Episode: 665   score: 12.08   Avg score (100e): 11.78   actor gain: -0.62   critic loss: 0.40   steps: 665\n"
     ]
    },
    {
     "name": "stderr",
     "output_type": "stream",
     "text": [
      "training loop:   1% |                                 | ETA:  35 days, 13:55:13\r"
     ]
    },
    {
     "name": "stdout",
     "output_type": "stream",
     "text": [
      "Episode: 666   score: 12.09   Avg score (100e): 11.78   actor gain: -0.62   critic loss: 0.40   steps: 666\n"
     ]
    },
    {
     "name": "stderr",
     "output_type": "stream",
     "text": [
      "training loop:   1% |                                 | ETA:  35 days, 13:49:19\r"
     ]
    },
    {
     "name": "stdout",
     "output_type": "stream",
     "text": [
      "Episode: 667   score: 12.08   Avg score (100e): 11.79   actor gain: -0.62   critic loss: 0.40   steps: 667\n"
     ]
    },
    {
     "name": "stderr",
     "output_type": "stream",
     "text": [
      "training loop:   1% |                                 | ETA:  35 days, 13:42:19\r"
     ]
    },
    {
     "name": "stdout",
     "output_type": "stream",
     "text": [
      "Episode: 668   score: 12.08   Avg score (100e): 11.80   actor gain: -0.62   critic loss: 0.40   steps: 668\n"
     ]
    },
    {
     "name": "stderr",
     "output_type": "stream",
     "text": [
      "training loop:   1% |                                 | ETA:  35 days, 13:38:27\r"
     ]
    },
    {
     "name": "stdout",
     "output_type": "stream",
     "text": [
      "Episode: 669   score: 12.08   Avg score (100e): 11.80   actor gain: -0.62   critic loss: 0.40   steps: 669\n"
     ]
    },
    {
     "name": "stderr",
     "output_type": "stream",
     "text": [
      "training loop:   1% |                                 | ETA:  35 days, 13:31:48\r"
     ]
    },
    {
     "name": "stdout",
     "output_type": "stream",
     "text": [
      "Episode: 670   score: 12.09   Avg score (100e): 11.81   actor gain: -0.62   critic loss: 0.40   steps: 670\n"
     ]
    },
    {
     "name": "stderr",
     "output_type": "stream",
     "text": [
      "training loop:   1% |                                 | ETA:  35 days, 13:28:41\r"
     ]
    },
    {
     "name": "stdout",
     "output_type": "stream",
     "text": [
      "Episode: 671   score: 12.06   Avg score (100e): 11.81   actor gain: -0.62   critic loss: 0.40   steps: 671\n"
     ]
    },
    {
     "name": "stderr",
     "output_type": "stream",
     "text": [
      "training loop:   1% |                                 | ETA:  35 days, 13:21:23\r"
     ]
    },
    {
     "name": "stdout",
     "output_type": "stream",
     "text": [
      "Episode: 672   score: 12.06   Avg score (100e): 11.82   actor gain: -0.62   critic loss: 0.40   steps: 672\n"
     ]
    },
    {
     "name": "stderr",
     "output_type": "stream",
     "text": [
      "training loop:   1% |                                 | ETA:  35 days, 13:15:28\r"
     ]
    },
    {
     "name": "stdout",
     "output_type": "stream",
     "text": [
      "Episode: 673   score: 12.05   Avg score (100e): 11.82   actor gain: -0.62   critic loss: 0.40   steps: 673\n"
     ]
    },
    {
     "name": "stderr",
     "output_type": "stream",
     "text": [
      "training loop:   1% |                                 | ETA:  35 days, 13:11:07\r"
     ]
    },
    {
     "name": "stdout",
     "output_type": "stream",
     "text": [
      "Episode: 674   score: 12.05   Avg score (100e): 11.83   actor gain: -0.62   critic loss: 0.39   steps: 674\n"
     ]
    },
    {
     "name": "stderr",
     "output_type": "stream",
     "text": [
      "training loop:   1% |                                 | ETA:  35 days, 13:07:23\r"
     ]
    },
    {
     "name": "stdout",
     "output_type": "stream",
     "text": [
      "Episode: 675   score: 12.05   Avg score (100e): 11.84   actor gain: -0.62   critic loss: 0.39   steps: 675\n"
     ]
    },
    {
     "name": "stderr",
     "output_type": "stream",
     "text": [
      "training loop:   1% |                                 | ETA:  35 days, 13:03:20\r"
     ]
    },
    {
     "name": "stdout",
     "output_type": "stream",
     "text": [
      "Episode: 676   score: 12.04   Avg score (100e): 11.84   actor gain: -0.63   critic loss: 0.39   steps: 676\n"
     ]
    },
    {
     "name": "stderr",
     "output_type": "stream",
     "text": [
      "training loop:   1% |                                 | ETA:  35 days, 13:02:55\r"
     ]
    },
    {
     "name": "stdout",
     "output_type": "stream",
     "text": [
      "Episode: 677   score: 12.04   Avg score (100e): 11.85   actor gain: -0.62   critic loss: 0.39   steps: 677\n"
     ]
    },
    {
     "name": "stderr",
     "output_type": "stream",
     "text": [
      "training loop:   1% |                                 | ETA:  35 days, 12:58:45\r"
     ]
    },
    {
     "name": "stdout",
     "output_type": "stream",
     "text": [
      "Episode: 678   score: 12.02   Avg score (100e): 11.85   actor gain: -0.62   critic loss: 0.39   steps: 678\n"
     ]
    },
    {
     "name": "stderr",
     "output_type": "stream",
     "text": [
      "training loop:   1% |                                 | ETA:  35 days, 12:53:18\r"
     ]
    },
    {
     "name": "stdout",
     "output_type": "stream",
     "text": [
      "Episode: 679   score: 12.02   Avg score (100e): 11.86   actor gain: -0.62   critic loss: 0.39   steps: 679\n"
     ]
    },
    {
     "name": "stderr",
     "output_type": "stream",
     "text": [
      "training loop:   1% |                                 | ETA:  35 days, 12:48:27\r"
     ]
    },
    {
     "name": "stdout",
     "output_type": "stream",
     "text": [
      "Episode: 680   score: 12.00   Avg score (100e): 11.86   actor gain: -0.62   critic loss: 0.39   steps: 680\n"
     ]
    },
    {
     "name": "stderr",
     "output_type": "stream",
     "text": [
      "training loop:   1% |                                 | ETA:  35 days, 12:44:02\r"
     ]
    },
    {
     "name": "stdout",
     "output_type": "stream",
     "text": [
      "Episode: 681   score: 12.01   Avg score (100e): 11.87   actor gain: -0.62   critic loss: 0.39   steps: 681\n"
     ]
    },
    {
     "name": "stderr",
     "output_type": "stream",
     "text": [
      "training loop:   1% |                                 | ETA:  35 days, 12:38:18\r"
     ]
    },
    {
     "name": "stdout",
     "output_type": "stream",
     "text": [
      "Episode: 682   score: 12.00   Avg score (100e): 11.87   actor gain: -0.41   critic loss: 0.39   steps: 682\n"
     ]
    },
    {
     "name": "stderr",
     "output_type": "stream",
     "text": [
      "training loop:   1% |                                 | ETA:  35 days, 12:34:12\r"
     ]
    },
    {
     "name": "stdout",
     "output_type": "stream",
     "text": [
      "Episode: 683   score: 11.99   Avg score (100e): 11.88   actor gain: -0.41   critic loss: 0.38   steps: 683\n"
     ]
    },
    {
     "name": "stderr",
     "output_type": "stream",
     "text": [
      "training loop:   1% |                                 | ETA:  35 days, 12:29:00\r"
     ]
    },
    {
     "name": "stdout",
     "output_type": "stream",
     "text": [
      "Episode: 684   score: 11.99   Avg score (100e): 11.88   actor gain: -0.41   critic loss: 0.38   steps: 684\n"
     ]
    },
    {
     "name": "stderr",
     "output_type": "stream",
     "text": [
      "training loop:   1% |                                 | ETA:  35 days, 12:25:03\r"
     ]
    },
    {
     "name": "stdout",
     "output_type": "stream",
     "text": [
      "Episode: 685   score: 11.99   Avg score (100e): 11.88   actor gain: -0.41   critic loss: 0.38   steps: 685\n"
     ]
    },
    {
     "name": "stderr",
     "output_type": "stream",
     "text": [
      "training loop:   1% |                                 | ETA:  35 days, 12:21:14\r"
     ]
    },
    {
     "name": "stdout",
     "output_type": "stream",
     "text": [
      "Episode: 686   score: 11.98   Avg score (100e): 11.89   actor gain: -0.43   critic loss: 0.38   steps: 686\n"
     ]
    },
    {
     "name": "stderr",
     "output_type": "stream",
     "text": [
      "training loop:   1% |                                 | ETA:  35 days, 12:14:44\r"
     ]
    },
    {
     "name": "stdout",
     "output_type": "stream",
     "text": [
      "Episode: 687   score: 11.98   Avg score (100e): 11.89   actor gain: -0.43   critic loss: 0.38   steps: 687\n"
     ]
    },
    {
     "name": "stderr",
     "output_type": "stream",
     "text": [
      "training loop:   1% |                                 | ETA:  35 days, 12:07:53\r"
     ]
    },
    {
     "name": "stdout",
     "output_type": "stream",
     "text": [
      "Episode: 688   score: 11.99   Avg score (100e): 11.90   actor gain: -0.43   critic loss: 0.38   steps: 688\n",
      "np.all(done) is true! miracle!\n"
     ]
    },
    {
     "name": "stderr",
     "output_type": "stream",
     "text": [
      "training loop:   1% |                                 | ETA:  35 days, 12:12:53\r"
     ]
    },
    {
     "name": "stdout",
     "output_type": "stream",
     "text": [
      "Episode: 689   score: 11.98   Avg score (100e): 11.90   actor gain: -0.43   critic loss: 0.38   steps: 689\n"
     ]
    },
    {
     "name": "stderr",
     "output_type": "stream",
     "text": [
      "training loop:   1% |                                 | ETA:  35 days, 12:09:11\r"
     ]
    },
    {
     "name": "stdout",
     "output_type": "stream",
     "text": [
      "Episode: 690   score: 11.99   Avg score (100e): 11.91   actor gain: -0.43   critic loss: 0.38   steps: 690\n"
     ]
    },
    {
     "name": "stderr",
     "output_type": "stream",
     "text": [
      "training loop:   1% |                                 | ETA:  35 days, 12:11:36\r"
     ]
    },
    {
     "name": "stdout",
     "output_type": "stream",
     "text": [
      "Episode: 691   score: 11.99   Avg score (100e): 11.91   actor gain: -0.43   critic loss: 0.38   steps: 691\n"
     ]
    },
    {
     "name": "stderr",
     "output_type": "stream",
     "text": [
      "training loop:   1% |                                 | ETA:  35 days, 12:07:11\r"
     ]
    },
    {
     "name": "stdout",
     "output_type": "stream",
     "text": [
      "Episode: 692   score: 11.98   Avg score (100e): 11.91   actor gain: -0.44   critic loss: 0.38   steps: 692\n"
     ]
    },
    {
     "name": "stderr",
     "output_type": "stream",
     "text": [
      "training loop:   1% |                                 | ETA:  35 days, 12:06:41\r"
     ]
    },
    {
     "name": "stdout",
     "output_type": "stream",
     "text": [
      "Episode: 693   score: 11.97   Avg score (100e): 11.92   actor gain: -0.44   critic loss: 0.38   steps: 693\n"
     ]
    },
    {
     "name": "stderr",
     "output_type": "stream",
     "text": [
      "training loop:   1% |                                 | ETA:  35 days, 12:02:29\r"
     ]
    },
    {
     "name": "stdout",
     "output_type": "stream",
     "text": [
      "Episode: 694   score: 11.97   Avg score (100e): 11.92   actor gain: -0.44   critic loss: 0.38   steps: 694\n"
     ]
    },
    {
     "name": "stderr",
     "output_type": "stream",
     "text": [
      "training loop:   1% |                                 | ETA:  35 days, 11:57:39\r"
     ]
    },
    {
     "name": "stdout",
     "output_type": "stream",
     "text": [
      "Episode: 695   score: 11.96   Avg score (100e): 11.92   actor gain: -0.44   critic loss: 0.38   steps: 695\n"
     ]
    },
    {
     "name": "stderr",
     "output_type": "stream",
     "text": [
      "training loop:   1% |                                 | ETA:  35 days, 11:52:09\r"
     ]
    },
    {
     "name": "stdout",
     "output_type": "stream",
     "text": [
      "Episode: 696   score: 11.96   Avg score (100e): 11.93   actor gain: -0.44   critic loss: 0.38   steps: 696\n"
     ]
    },
    {
     "name": "stderr",
     "output_type": "stream",
     "text": [
      "training loop:   1% |                                 | ETA:  35 days, 11:46:45\r"
     ]
    },
    {
     "name": "stdout",
     "output_type": "stream",
     "text": [
      "Episode: 697   score: 11.97   Avg score (100e): 11.93   actor gain: -0.44   critic loss: 0.38   steps: 697\n"
     ]
    },
    {
     "name": "stderr",
     "output_type": "stream",
     "text": [
      "training loop:   1% |                                 | ETA:  35 days, 11:41:10\r"
     ]
    },
    {
     "name": "stdout",
     "output_type": "stream",
     "text": [
      "Episode: 698   score: 11.97   Avg score (100e): 11.93   actor gain: -0.44   critic loss: 0.38   steps: 698\n"
     ]
    },
    {
     "name": "stderr",
     "output_type": "stream",
     "text": [
      "training loop:   1% |                                 | ETA:  35 days, 11:35:26\r"
     ]
    },
    {
     "name": "stdout",
     "output_type": "stream",
     "text": [
      "Episode: 699   score: 11.98   Avg score (100e): 11.94   actor gain: -0.44   critic loss: 0.38   steps: 699\n"
     ]
    },
    {
     "name": "stderr",
     "output_type": "stream",
     "text": [
      "training loop:   1% |                                 | ETA:  35 days, 11:29:14\r"
     ]
    },
    {
     "name": "stdout",
     "output_type": "stream",
     "text": [
      "Episode: 700   score: 11.97   Avg score (100e): 11.94   actor gain: -0.44   critic loss: 0.38   steps: 700\n"
     ]
    },
    {
     "name": "stderr",
     "output_type": "stream",
     "text": [
      "training loop:   1% |                                 | ETA:  35 days, 11:25:36\r"
     ]
    },
    {
     "name": "stdout",
     "output_type": "stream",
     "text": [
      "Episode: 701   score: 11.97   Avg score (100e): 11.94   actor gain: -0.45   critic loss: 0.38   steps: 701\n"
     ]
    },
    {
     "name": "stderr",
     "output_type": "stream",
     "text": [
      "training loop:   1% |                                 | ETA:  35 days, 11:24:27\r"
     ]
    },
    {
     "name": "stdout",
     "output_type": "stream",
     "text": [
      "Episode: 702   score: 11.97   Avg score (100e): 11.95   actor gain: -0.45   critic loss: 0.38   steps: 702\n"
     ]
    },
    {
     "name": "stderr",
     "output_type": "stream",
     "text": [
      "training loop:   1% |                                 | ETA:  35 days, 11:23:37\r"
     ]
    },
    {
     "name": "stdout",
     "output_type": "stream",
     "text": [
      "Episode: 703   score: 11.98   Avg score (100e): 11.95   actor gain: -0.44   critic loss: 0.38   steps: 703\n"
     ]
    },
    {
     "name": "stderr",
     "output_type": "stream",
     "text": [
      "training loop:   1% |                                 | ETA:  35 days, 11:18:46\r"
     ]
    },
    {
     "name": "stdout",
     "output_type": "stream",
     "text": [
      "Episode: 704   score: 11.97   Avg score (100e): 11.95   actor gain: -0.44   critic loss: 0.38   steps: 704\n"
     ]
    },
    {
     "name": "stderr",
     "output_type": "stream",
     "text": [
      "training loop:   1% |                                 | ETA:  35 days, 11:16:59\r"
     ]
    },
    {
     "name": "stdout",
     "output_type": "stream",
     "text": [
      "Episode: 705   score: 11.97   Avg score (100e): 11.95   actor gain: -0.44   critic loss: 0.38   steps: 705\n"
     ]
    },
    {
     "name": "stderr",
     "output_type": "stream",
     "text": [
      "training loop:   1% |                                 | ETA:  35 days, 11:14:18\r"
     ]
    },
    {
     "name": "stdout",
     "output_type": "stream",
     "text": [
      "Episode: 706   score: 11.98   Avg score (100e): 11.96   actor gain: -0.44   critic loss: 0.38   steps: 706\n"
     ]
    },
    {
     "name": "stderr",
     "output_type": "stream",
     "text": [
      "training loop:   1% |                                 | ETA:  35 days, 11:09:12\r"
     ]
    },
    {
     "name": "stdout",
     "output_type": "stream",
     "text": [
      "Episode: 707   score: 11.98   Avg score (100e): 11.96   actor gain: -0.46   critic loss: 0.38   steps: 707\n"
     ]
    },
    {
     "name": "stderr",
     "output_type": "stream",
     "text": [
      "training loop:   1% |                                 | ETA:  35 days, 11:05:56\r"
     ]
    },
    {
     "name": "stdout",
     "output_type": "stream",
     "text": [
      "Episode: 708   score: 11.98   Avg score (100e): 11.96   actor gain: -0.46   critic loss: 0.38   steps: 708\n"
     ]
    },
    {
     "name": "stderr",
     "output_type": "stream",
     "text": [
      "training loop:   1% |                                 | ETA:  35 days, 11:01:10\r"
     ]
    },
    {
     "name": "stdout",
     "output_type": "stream",
     "text": [
      "Episode: 709   score: 11.98   Avg score (100e): 11.96   actor gain: -0.45   critic loss: 0.38   steps: 709\n"
     ]
    },
    {
     "name": "stderr",
     "output_type": "stream",
     "text": [
      "training loop:   1% |                                 | ETA:  35 days, 10:57:20\r"
     ]
    },
    {
     "name": "stdout",
     "output_type": "stream",
     "text": [
      "Episode: 710   score: 11.99   Avg score (100e): 11.97   actor gain: -0.47   critic loss: 0.38   steps: 710\n"
     ]
    },
    {
     "name": "stderr",
     "output_type": "stream",
     "text": [
      "training loop:   1% |                                 | ETA:  35 days, 10:54:49\r"
     ]
    },
    {
     "name": "stdout",
     "output_type": "stream",
     "text": [
      "Episode: 711   score: 11.98   Avg score (100e): 11.97   actor gain: -0.45   critic loss: 0.38   steps: 711\n"
     ]
    },
    {
     "name": "stderr",
     "output_type": "stream",
     "text": [
      "training loop:   1% |                                 | ETA:  35 days, 10:50:04\r"
     ]
    },
    {
     "name": "stdout",
     "output_type": "stream",
     "text": [
      "Episode: 712   score: 11.98   Avg score (100e): 11.97   actor gain: -0.45   critic loss: 0.38   steps: 712\n"
     ]
    },
    {
     "name": "stderr",
     "output_type": "stream",
     "text": [
      "training loop:   1% |                                 | ETA:  35 days, 10:44:40\r"
     ]
    },
    {
     "name": "stdout",
     "output_type": "stream",
     "text": [
      "Episode: 713   score: 11.99   Avg score (100e): 11.97   actor gain: -0.45   critic loss: 0.38   steps: 713\n"
     ]
    },
    {
     "name": "stderr",
     "output_type": "stream",
     "text": [
      "training loop:   1% |                                 | ETA:  35 days, 10:40:19\r"
     ]
    },
    {
     "name": "stdout",
     "output_type": "stream",
     "text": [
      "Episode: 714   score: 11.99   Avg score (100e): 11.98   actor gain: -0.45   critic loss: 0.38   steps: 714\n"
     ]
    },
    {
     "name": "stderr",
     "output_type": "stream",
     "text": [
      "training loop:   1% |                                 | ETA:  35 days, 10:34:41\r"
     ]
    },
    {
     "name": "stdout",
     "output_type": "stream",
     "text": [
      "Episode: 715   score: 12.00   Avg score (100e): 11.98   actor gain: -0.45   critic loss: 0.38   steps: 715\n"
     ]
    },
    {
     "name": "stderr",
     "output_type": "stream",
     "text": [
      "training loop:   1% |                                 | ETA:  35 days, 10:29:10\r"
     ]
    },
    {
     "name": "stdout",
     "output_type": "stream",
     "text": [
      "Episode: 716   score: 11.99   Avg score (100e): 11.98   actor gain: -0.45   critic loss: 0.38   steps: 716\n"
     ]
    },
    {
     "name": "stderr",
     "output_type": "stream",
     "text": [
      "training loop:   1% |                                 | ETA:  35 days, 10:27:09\r"
     ]
    },
    {
     "name": "stdout",
     "output_type": "stream",
     "text": [
      "Episode: 717   score: 11.99   Avg score (100e): 11.98   actor gain: -0.45   critic loss: 0.38   steps: 717\n"
     ]
    },
    {
     "name": "stderr",
     "output_type": "stream",
     "text": [
      "training loop:   1% |                                 | ETA:  35 days, 10:22:21\r"
     ]
    },
    {
     "name": "stdout",
     "output_type": "stream",
     "text": [
      "Episode: 718   score: 11.98   Avg score (100e): 11.98   actor gain: -0.45   critic loss: 0.38   steps: 718\n"
     ]
    },
    {
     "name": "stderr",
     "output_type": "stream",
     "text": [
      "training loop:   1% |                                 | ETA:  35 days, 10:16:12\r"
     ]
    },
    {
     "name": "stdout",
     "output_type": "stream",
     "text": [
      "Episode: 719   score: 11.98   Avg score (100e): 11.99   actor gain: -0.45   critic loss: 0.38   steps: 719\n"
     ]
    },
    {
     "name": "stderr",
     "output_type": "stream",
     "text": [
      "training loop:   1% |                                 | ETA:  35 days, 10:11:53\r"
     ]
    },
    {
     "name": "stdout",
     "output_type": "stream",
     "text": [
      "Episode: 720   score: 11.98   Avg score (100e): 11.99   actor gain: -0.45   critic loss: 0.38   steps: 720\n"
     ]
    },
    {
     "name": "stderr",
     "output_type": "stream",
     "text": [
      "training loop:   1% |                                 | ETA:  35 days, 10:17:18\r"
     ]
    },
    {
     "name": "stdout",
     "output_type": "stream",
     "text": [
      "Episode: 721   score: 11.99   Avg score (100e): 11.99   actor gain: -0.45   critic loss: 0.38   steps: 721\n"
     ]
    },
    {
     "name": "stderr",
     "output_type": "stream",
     "text": [
      "training loop:   1% |                                 | ETA:  35 days, 10:16:15\r"
     ]
    },
    {
     "name": "stdout",
     "output_type": "stream",
     "text": [
      "Episode: 722   score: 11.98   Avg score (100e): 11.99   actor gain: -0.46   critic loss: 0.38   steps: 722\n"
     ]
    },
    {
     "name": "stderr",
     "output_type": "stream",
     "text": [
      "training loop:   1% |                                 | ETA:  35 days, 10:15:03\r"
     ]
    },
    {
     "name": "stdout",
     "output_type": "stream",
     "text": [
      "Episode: 723   score: 11.98   Avg score (100e): 11.99   actor gain: -0.45   critic loss: 0.38   steps: 723\n"
     ]
    },
    {
     "name": "stderr",
     "output_type": "stream",
     "text": [
      "training loop:   1% |                                 | ETA:  35 days, 10:10:56\r"
     ]
    },
    {
     "name": "stdout",
     "output_type": "stream",
     "text": [
      "Episode: 724   score: 11.98   Avg score (100e): 11.99   actor gain: -0.46   critic loss: 0.38   steps: 724\n"
     ]
    },
    {
     "name": "stderr",
     "output_type": "stream",
     "text": [
      "training loop:   1% |                                 | ETA:  35 days, 10:08:45\r"
     ]
    },
    {
     "name": "stdout",
     "output_type": "stream",
     "text": [
      "Episode: 725   score: 11.98   Avg score (100e): 12.00   actor gain: -0.46   critic loss: 0.38   steps: 725\n"
     ]
    },
    {
     "name": "stderr",
     "output_type": "stream",
     "text": [
      "training loop:   1% |                                 | ETA:  35 days, 10:07:25\r"
     ]
    },
    {
     "name": "stdout",
     "output_type": "stream",
     "text": [
      "Episode: 726   score: 11.98   Avg score (100e): 12.00   actor gain: -0.51   critic loss: 0.38   steps: 726\n"
     ]
    },
    {
     "name": "stderr",
     "output_type": "stream",
     "text": [
      "training loop:   1% |                                 | ETA:  35 days, 10:03:01\r"
     ]
    },
    {
     "name": "stdout",
     "output_type": "stream",
     "text": [
      "Episode: 727   score: 11.97   Avg score (100e): 12.00   actor gain: -0.51   critic loss: 0.38   steps: 727\n",
      "np.all(done) is true! miracle!\n"
     ]
    },
    {
     "name": "stderr",
     "output_type": "stream",
     "text": [
      "training loop:   1% |                                  | ETA:  35 days, 9:57:40\r"
     ]
    },
    {
     "name": "stdout",
     "output_type": "stream",
     "text": [
      "Episode: 728   score: 11.99   Avg score (100e): 12.00   actor gain: -0.51   critic loss: 0.38   steps: 728\n"
     ]
    },
    {
     "name": "stderr",
     "output_type": "stream",
     "text": [
      "training loop:   1% |                                  | ETA:  35 days, 9:53:08\r"
     ]
    },
    {
     "name": "stdout",
     "output_type": "stream",
     "text": [
      "Episode: 729   score: 11.97   Avg score (100e): 12.00   actor gain: -0.51   critic loss: 0.38   steps: 729\n"
     ]
    },
    {
     "name": "stderr",
     "output_type": "stream",
     "text": [
      "training loop:   1% |                                  | ETA:  35 days, 9:47:37\r"
     ]
    },
    {
     "name": "stdout",
     "output_type": "stream",
     "text": [
      "Episode: 730   score: 11.98   Avg score (100e): 12.00   actor gain: -0.51   critic loss: 0.38   steps: 730\n"
     ]
    },
    {
     "name": "stderr",
     "output_type": "stream",
     "text": [
      "training loop:   1% |                                  | ETA:  35 days, 9:46:40\r"
     ]
    },
    {
     "name": "stdout",
     "output_type": "stream",
     "text": [
      "Episode: 731   score: 11.99   Avg score (100e): 12.00   actor gain: -0.51   critic loss: 0.38   steps: 731\n"
     ]
    },
    {
     "name": "stderr",
     "output_type": "stream",
     "text": [
      "training loop:   1% |                                  | ETA:  35 days, 9:42:04\r"
     ]
    },
    {
     "name": "stdout",
     "output_type": "stream",
     "text": [
      "Episode: 732   score: 11.99   Avg score (100e): 12.00   actor gain: -0.52   critic loss: 0.38   steps: 732\n"
     ]
    },
    {
     "name": "stderr",
     "output_type": "stream",
     "text": [
      "training loop:   1% |                                  | ETA:  35 days, 9:37:54\r"
     ]
    },
    {
     "name": "stdout",
     "output_type": "stream",
     "text": [
      "Episode: 733   score: 11.99   Avg score (100e): 12.00   actor gain: -0.52   critic loss: 0.39   steps: 733\n"
     ]
    },
    {
     "name": "stderr",
     "output_type": "stream",
     "text": [
      "training loop:   1% |                                  | ETA:  35 days, 9:35:37\r"
     ]
    },
    {
     "name": "stdout",
     "output_type": "stream",
     "text": [
      "Episode: 734   score: 11.99   Avg score (100e): 12.01   actor gain: -0.52   critic loss: 0.39   steps: 734\n"
     ]
    },
    {
     "name": "stderr",
     "output_type": "stream",
     "text": [
      "training loop:   1% |                                  | ETA:  35 days, 9:32:28\r"
     ]
    },
    {
     "name": "stdout",
     "output_type": "stream",
     "text": [
      "Episode: 735   score: 11.98   Avg score (100e): 12.01   actor gain: -0.50   critic loss: 0.39   steps: 735\n"
     ]
    },
    {
     "name": "stderr",
     "output_type": "stream",
     "text": [
      "training loop:   1% |                                  | ETA:  35 days, 9:28:58\r"
     ]
    },
    {
     "name": "stdout",
     "output_type": "stream",
     "text": [
      "Episode: 736   score: 11.98   Avg score (100e): 12.01   actor gain: -0.52   critic loss: 0.39   steps: 736\n"
     ]
    },
    {
     "name": "stderr",
     "output_type": "stream",
     "text": [
      "training loop:   1% |                                  | ETA:  35 days, 9:26:20\r"
     ]
    },
    {
     "name": "stdout",
     "output_type": "stream",
     "text": [
      "Episode: 737   score: 11.99   Avg score (100e): 12.01   actor gain: -0.52   critic loss: 0.39   steps: 737\n"
     ]
    },
    {
     "name": "stderr",
     "output_type": "stream",
     "text": [
      "training loop:   1% |                                  | ETA:  35 days, 9:24:20\r"
     ]
    },
    {
     "name": "stdout",
     "output_type": "stream",
     "text": [
      "Episode: 738   score: 11.99   Avg score (100e): 12.01   actor gain: -0.52   critic loss: 0.39   steps: 738\n"
     ]
    },
    {
     "name": "stderr",
     "output_type": "stream",
     "text": [
      "training loop:   1% |                                  | ETA:  35 days, 9:21:57\r"
     ]
    },
    {
     "name": "stdout",
     "output_type": "stream",
     "text": [
      "Episode: 739   score: 12.00   Avg score (100e): 12.01   actor gain: -0.51   critic loss: 0.39   steps: 739\n"
     ]
    },
    {
     "name": "stderr",
     "output_type": "stream",
     "text": [
      "training loop:   1% |                                  | ETA:  35 days, 9:15:44\r"
     ]
    },
    {
     "name": "stdout",
     "output_type": "stream",
     "text": [
      "Episode: 740   score: 12.01   Avg score (100e): 12.01   actor gain: -0.52   critic loss: 0.39   steps: 740\n"
     ]
    },
    {
     "name": "stderr",
     "output_type": "stream",
     "text": [
      "training loop:   1% |                                  | ETA:  35 days, 9:12:22\r"
     ]
    },
    {
     "name": "stdout",
     "output_type": "stream",
     "text": [
      "Episode: 741   score: 12.01   Avg score (100e): 12.01   actor gain: -0.51   critic loss: 0.39   steps: 741\n"
     ]
    },
    {
     "name": "stderr",
     "output_type": "stream",
     "text": [
      "training loop:   1% |                                  | ETA:  35 days, 9:09:54\r"
     ]
    },
    {
     "name": "stdout",
     "output_type": "stream",
     "text": [
      "Episode: 742   score: 12.01   Avg score (100e): 12.01   actor gain: -0.52   critic loss: 0.39   steps: 742\n"
     ]
    },
    {
     "name": "stderr",
     "output_type": "stream",
     "text": [
      "training loop:   1% |                                  | ETA:  35 days, 9:09:23\r"
     ]
    },
    {
     "name": "stdout",
     "output_type": "stream",
     "text": [
      "Episode: 743   score: 12.00   Avg score (100e): 12.01   actor gain: -0.52   critic loss: 0.39   steps: 743\n"
     ]
    },
    {
     "name": "stderr",
     "output_type": "stream",
     "text": [
      "training loop:   1% |                                  | ETA:  35 days, 9:02:58\r"
     ]
    },
    {
     "name": "stdout",
     "output_type": "stream",
     "text": [
      "Episode: 744   score: 12.01   Avg score (100e): 12.01   actor gain: -0.51   critic loss: 0.39   steps: 744\n"
     ]
    },
    {
     "name": "stderr",
     "output_type": "stream",
     "text": [
      "training loop:   1% |                                  | ETA:  35 days, 9:00:40\r"
     ]
    },
    {
     "name": "stdout",
     "output_type": "stream",
     "text": [
      "Episode: 745   score: 12.01   Avg score (100e): 12.01   actor gain: -0.51   critic loss: 0.39   steps: 745\n"
     ]
    },
    {
     "name": "stderr",
     "output_type": "stream",
     "text": [
      "training loop:   1% |                                  | ETA:  35 days, 8:57:13\r"
     ]
    },
    {
     "name": "stdout",
     "output_type": "stream",
     "text": [
      "Episode: 746   score: 12.02   Avg score (100e): 12.01   actor gain: -0.51   critic loss: 0.39   steps: 746\n"
     ]
    },
    {
     "name": "stderr",
     "output_type": "stream",
     "text": [
      "training loop:   1% |                                  | ETA:  35 days, 8:53:19\r"
     ]
    },
    {
     "name": "stdout",
     "output_type": "stream",
     "text": [
      "Episode: 747   score: 12.03   Avg score (100e): 12.01   actor gain: -0.50   critic loss: 0.39   steps: 747\n"
     ]
    },
    {
     "name": "stderr",
     "output_type": "stream",
     "text": [
      "training loop:   1% |                                  | ETA:  35 days, 8:49:58\r"
     ]
    },
    {
     "name": "stdout",
     "output_type": "stream",
     "text": [
      "Episode: 748   score: 12.02   Avg score (100e): 12.01   actor gain: -0.50   critic loss: 0.39   steps: 748\n"
     ]
    },
    {
     "name": "stderr",
     "output_type": "stream",
     "text": [
      "training loop:   1% |                                  | ETA:  35 days, 8:46:42\r"
     ]
    },
    {
     "name": "stdout",
     "output_type": "stream",
     "text": [
      "Episode: 749   score: 12.03   Avg score (100e): 12.01   actor gain: -0.50   critic loss: 0.39   steps: 749\n"
     ]
    },
    {
     "name": "stderr",
     "output_type": "stream",
     "text": [
      "training loop:   1% |                                  | ETA:  35 days, 8:43:26\r"
     ]
    },
    {
     "name": "stdout",
     "output_type": "stream",
     "text": [
      "Episode: 750   score: 12.02   Avg score (100e): 12.01   actor gain: -0.50   critic loss: 0.39   steps: 750\n"
     ]
    },
    {
     "name": "stderr",
     "output_type": "stream",
     "text": [
      "training loop:   1% |                                  | ETA:  35 days, 8:42:03\r"
     ]
    },
    {
     "name": "stdout",
     "output_type": "stream",
     "text": [
      "Episode: 751   score: 12.02   Avg score (100e): 12.01   actor gain: -0.44   critic loss: 0.39   steps: 751\n"
     ]
    },
    {
     "name": "stderr",
     "output_type": "stream",
     "text": [
      "training loop:   1% |                                  | ETA:  35 days, 8:36:56\r"
     ]
    },
    {
     "name": "stdout",
     "output_type": "stream",
     "text": [
      "Episode: 752   score: 12.01   Avg score (100e): 12.01   actor gain: -0.44   critic loss: 0.39   steps: 752\n"
     ]
    },
    {
     "name": "stderr",
     "output_type": "stream",
     "text": [
      "training loop:   1% |                                  | ETA:  35 days, 8:42:28\r"
     ]
    },
    {
     "name": "stdout",
     "output_type": "stream",
     "text": [
      "Episode: 753   score: 12.01   Avg score (100e): 12.01   actor gain: -0.44   critic loss: 0.39   steps: 753\n"
     ]
    },
    {
     "name": "stderr",
     "output_type": "stream",
     "text": [
      "training loop:   1% |                                  | ETA:  35 days, 8:42:37\r"
     ]
    },
    {
     "name": "stdout",
     "output_type": "stream",
     "text": [
      "Episode: 754   score: 12.01   Avg score (100e): 12.01   actor gain: -0.44   critic loss: 0.39   steps: 754\n"
     ]
    },
    {
     "name": "stderr",
     "output_type": "stream",
     "text": [
      "training loop:   1% |                                  | ETA:  35 days, 8:39:05\r"
     ]
    },
    {
     "name": "stdout",
     "output_type": "stream",
     "text": [
      "Episode: 755   score: 12.01   Avg score (100e): 12.01   actor gain: -0.44   critic loss: 0.39   steps: 755\n"
     ]
    },
    {
     "name": "stderr",
     "output_type": "stream",
     "text": [
      "training loop:   1% |                                  | ETA:  35 days, 8:38:10\r"
     ]
    },
    {
     "name": "stdout",
     "output_type": "stream",
     "text": [
      "Episode: 756   score: 12.01   Avg score (100e): 12.01   actor gain: -0.44   critic loss: 0.39   steps: 756\n"
     ]
    },
    {
     "name": "stderr",
     "output_type": "stream",
     "text": [
      "training loop:   1% |                                  | ETA:  35 days, 8:34:40\r"
     ]
    },
    {
     "name": "stdout",
     "output_type": "stream",
     "text": [
      "Episode: 757   score: 12.00   Avg score (100e): 12.01   actor gain: -0.42   critic loss: 0.39   steps: 757\n"
     ]
    },
    {
     "name": "stderr",
     "output_type": "stream",
     "text": [
      "training loop:   1% |                                  | ETA:  35 days, 8:32:59\r"
     ]
    },
    {
     "name": "stdout",
     "output_type": "stream",
     "text": [
      "Episode: 758   score: 11.99   Avg score (100e): 12.01   actor gain: -0.42   critic loss: 0.39   steps: 758\n"
     ]
    },
    {
     "name": "stderr",
     "output_type": "stream",
     "text": [
      "training loop:   1% |                                  | ETA:  35 days, 8:30:29\r"
     ]
    },
    {
     "name": "stdout",
     "output_type": "stream",
     "text": [
      "Episode: 759   score: 12.00   Avg score (100e): 12.01   actor gain: -0.42   critic loss: 0.39   steps: 759\n"
     ]
    },
    {
     "name": "stderr",
     "output_type": "stream",
     "text": [
      "training loop:   1% |                                  | ETA:  35 days, 8:26:00\r"
     ]
    },
    {
     "name": "stdout",
     "output_type": "stream",
     "text": [
      "Episode: 760   score: 12.00   Avg score (100e): 12.00   actor gain: -0.42   critic loss: 0.39   steps: 760\n"
     ]
    },
    {
     "name": "stderr",
     "output_type": "stream",
     "text": [
      "training loop:   1% |                                  | ETA:  35 days, 8:22:32\r"
     ]
    },
    {
     "name": "stdout",
     "output_type": "stream",
     "text": [
      "Episode: 761   score: 11.99   Avg score (100e): 12.00   actor gain: -0.43   critic loss: 0.39   steps: 761\n"
     ]
    },
    {
     "name": "stderr",
     "output_type": "stream",
     "text": [
      "training loop:   1% |                                  | ETA:  35 days, 8:23:10\r"
     ]
    },
    {
     "name": "stdout",
     "output_type": "stream",
     "text": [
      "Episode: 762   score: 12.00   Avg score (100e): 12.00   actor gain: -0.43   critic loss: 0.38   steps: 762\n"
     ]
    },
    {
     "name": "stderr",
     "output_type": "stream",
     "text": [
      "training loop:   1% |                                  | ETA:  35 days, 8:21:20\r"
     ]
    },
    {
     "name": "stdout",
     "output_type": "stream",
     "text": [
      "Episode: 763   score: 12.01   Avg score (100e): 12.00   actor gain: -0.43   critic loss: 0.38   steps: 763\n"
     ]
    },
    {
     "name": "stderr",
     "output_type": "stream",
     "text": [
      "training loop:   1% |                                  | ETA:  35 days, 8:16:05\r"
     ]
    },
    {
     "name": "stdout",
     "output_type": "stream",
     "text": [
      "Episode: 764   score: 12.02   Avg score (100e): 12.00   actor gain: -0.43   critic loss: 0.38   steps: 764\n"
     ]
    },
    {
     "name": "stderr",
     "output_type": "stream",
     "text": [
      "training loop:   1% |                                  | ETA:  35 days, 8:13:44\r"
     ]
    },
    {
     "name": "stdout",
     "output_type": "stream",
     "text": [
      "Episode: 765   score: 12.02   Avg score (100e): 12.00   actor gain: -0.42   critic loss: 0.38   steps: 765\n"
     ]
    },
    {
     "name": "stderr",
     "output_type": "stream",
     "text": [
      "training loop:   1% |                                  | ETA:  35 days, 8:11:00\r"
     ]
    },
    {
     "name": "stdout",
     "output_type": "stream",
     "text": [
      "Episode: 766   score: 12.02   Avg score (100e): 12.00   actor gain: -0.43   critic loss: 0.38   steps: 766\n"
     ]
    },
    {
     "name": "stderr",
     "output_type": "stream",
     "text": [
      "training loop:   1% |                                  | ETA:  35 days, 8:06:10\r"
     ]
    },
    {
     "name": "stdout",
     "output_type": "stream",
     "text": [
      "Episode: 767   score: 12.02   Avg score (100e): 12.00   actor gain: -0.43   critic loss: 0.38   steps: 767\n"
     ]
    },
    {
     "name": "stderr",
     "output_type": "stream",
     "text": [
      "training loop:   1% |                                  | ETA:  35 days, 8:04:10\r"
     ]
    },
    {
     "name": "stdout",
     "output_type": "stream",
     "text": [
      "Episode: 768   score: 12.02   Avg score (100e): 12.00   actor gain: -0.46   critic loss: 0.38   steps: 768\n"
     ]
    },
    {
     "name": "stderr",
     "output_type": "stream",
     "text": [
      "training loop:   1% |                                  | ETA:  35 days, 8:00:37\r"
     ]
    },
    {
     "name": "stdout",
     "output_type": "stream",
     "text": [
      "Episode: 769   score: 12.02   Avg score (100e): 12.00   actor gain: -0.46   critic loss: 0.38   steps: 769\n"
     ]
    },
    {
     "name": "stderr",
     "output_type": "stream",
     "text": [
      "training loop:   1% |                                  | ETA:  35 days, 7:56:58\r"
     ]
    },
    {
     "name": "stdout",
     "output_type": "stream",
     "text": [
      "Episode: 770   score: 12.01   Avg score (100e): 12.00   actor gain: -0.47   critic loss: 0.38   steps: 770\n"
     ]
    },
    {
     "name": "stderr",
     "output_type": "stream",
     "text": [
      "training loop:   1% |                                  | ETA:  35 days, 7:51:56\r"
     ]
    },
    {
     "name": "stdout",
     "output_type": "stream",
     "text": [
      "Episode: 771   score: 12.02   Avg score (100e): 12.00   actor gain: -0.47   critic loss: 0.38   steps: 771\n"
     ]
    },
    {
     "name": "stderr",
     "output_type": "stream",
     "text": [
      "training loop:   1% |                                  | ETA:  35 days, 7:47:36\r"
     ]
    },
    {
     "name": "stdout",
     "output_type": "stream",
     "text": [
      "Episode: 772   score: 12.02   Avg score (100e): 12.00   actor gain: -0.47   critic loss: 0.38   steps: 772\n"
     ]
    },
    {
     "name": "stderr",
     "output_type": "stream",
     "text": [
      "training loop:   1% |                                  | ETA:  35 days, 7:43:11\r"
     ]
    },
    {
     "name": "stdout",
     "output_type": "stream",
     "text": [
      "Episode: 773   score: 12.02   Avg score (100e): 12.00   actor gain: -0.48   critic loss: 0.38   steps: 773\n"
     ]
    },
    {
     "name": "stderr",
     "output_type": "stream",
     "text": [
      "training loop:   1% |                                  | ETA:  35 days, 7:36:37\r"
     ]
    },
    {
     "name": "stdout",
     "output_type": "stream",
     "text": [
      "Episode: 774   score: 12.01   Avg score (100e): 12.00   actor gain: -0.48   critic loss: 0.38   steps: 774\n"
     ]
    },
    {
     "name": "stderr",
     "output_type": "stream",
     "text": [
      "training loop:   1% |                                  | ETA:  35 days, 7:31:20\r"
     ]
    },
    {
     "name": "stdout",
     "output_type": "stream",
     "text": [
      "Episode: 775   score: 12.02   Avg score (100e): 12.00   actor gain: -0.48   critic loss: 0.38   steps: 775\n"
     ]
    },
    {
     "name": "stderr",
     "output_type": "stream",
     "text": [
      "training loop:   1% |                                  | ETA:  35 days, 7:29:42\r"
     ]
    },
    {
     "name": "stdout",
     "output_type": "stream",
     "text": [
      "Episode: 776   score: 12.02   Avg score (100e): 12.00   actor gain: -0.48   critic loss: 0.38   steps: 776\n"
     ]
    },
    {
     "name": "stderr",
     "output_type": "stream",
     "text": [
      "training loop:   1% |                                  | ETA:  35 days, 7:25:20\r"
     ]
    },
    {
     "name": "stdout",
     "output_type": "stream",
     "text": [
      "Episode: 777   score: 12.04   Avg score (100e): 12.00   actor gain: -0.48   critic loss: 0.38   steps: 777\n"
     ]
    },
    {
     "name": "stderr",
     "output_type": "stream",
     "text": [
      "training loop:   1% |                                  | ETA:  35 days, 7:20:40\r"
     ]
    },
    {
     "name": "stdout",
     "output_type": "stream",
     "text": [
      "Episode: 778   score: 12.05   Avg score (100e): 12.00   actor gain: -0.48   critic loss: 0.38   steps: 778\n"
     ]
    },
    {
     "name": "stderr",
     "output_type": "stream",
     "text": [
      "training loop:   1% |                                  | ETA:  35 days, 7:17:16\r"
     ]
    },
    {
     "name": "stdout",
     "output_type": "stream",
     "text": [
      "Episode: 779   score: 12.05   Avg score (100e): 12.00   actor gain: -0.48   critic loss: 0.38   steps: 779\n"
     ]
    },
    {
     "name": "stderr",
     "output_type": "stream",
     "text": [
      "training loop:   1% |                                  | ETA:  35 days, 7:13:25\r"
     ]
    },
    {
     "name": "stdout",
     "output_type": "stream",
     "text": [
      "Episode: 780   score: 12.06   Avg score (100e): 12.00   actor gain: -0.48   critic loss: 0.38   steps: 780\n"
     ]
    },
    {
     "name": "stderr",
     "output_type": "stream",
     "text": [
      "training loop:   1% |                                  | ETA:  35 days, 7:09:48\r"
     ]
    },
    {
     "name": "stdout",
     "output_type": "stream",
     "text": [
      "Episode: 781   score: 12.06   Avg score (100e): 12.00   actor gain: -0.48   critic loss: 0.38   steps: 781\n"
     ]
    },
    {
     "name": "stderr",
     "output_type": "stream",
     "text": [
      "training loop:   1% |                                  | ETA:  35 days, 7:08:35\r"
     ]
    },
    {
     "name": "stdout",
     "output_type": "stream",
     "text": [
      "Episode: 782   score: 12.07   Avg score (100e): 12.00   actor gain: -0.48   critic loss: 0.38   steps: 782\n"
     ]
    },
    {
     "name": "stderr",
     "output_type": "stream",
     "text": [
      "training loop:   1% |                                  | ETA:  35 days, 7:05:14\r"
     ]
    },
    {
     "name": "stdout",
     "output_type": "stream",
     "text": [
      "Episode: 783   score: 12.07   Avg score (100e): 12.00   actor gain: -0.48   critic loss: 0.38   steps: 783\n"
     ]
    },
    {
     "name": "stderr",
     "output_type": "stream",
     "text": [
      "training loop:   1% |                                  | ETA:  35 days, 6:59:13\r"
     ]
    },
    {
     "name": "stdout",
     "output_type": "stream",
     "text": [
      "Episode: 784   score: 12.07   Avg score (100e): 12.00   actor gain: -0.48   critic loss: 0.38   steps: 784\n"
     ]
    },
    {
     "name": "stderr",
     "output_type": "stream",
     "text": [
      "training loop:   1% |                                  | ETA:  35 days, 6:54:52\r"
     ]
    },
    {
     "name": "stdout",
     "output_type": "stream",
     "text": [
      "Episode: 785   score: 12.07   Avg score (100e): 12.00   actor gain: -0.49   critic loss: 0.38   steps: 785\n"
     ]
    },
    {
     "name": "stderr",
     "output_type": "stream",
     "text": [
      "training loop:   1% |                                  | ETA:  35 days, 6:58:53\r"
     ]
    },
    {
     "name": "stdout",
     "output_type": "stream",
     "text": [
      "Episode: 786   score: 12.09   Avg score (100e): 12.00   actor gain: -0.47   critic loss: 0.38   steps: 786\n"
     ]
    },
    {
     "name": "stderr",
     "output_type": "stream",
     "text": [
      "training loop:   1% |                                  | ETA:  35 days, 6:59:56\r"
     ]
    },
    {
     "name": "stdout",
     "output_type": "stream",
     "text": [
      "Episode: 787   score: 12.09   Avg score (100e): 12.00   actor gain: -0.47   critic loss: 0.38   steps: 787\n"
     ]
    },
    {
     "name": "stderr",
     "output_type": "stream",
     "text": [
      "training loop:   1% |                                  | ETA:  35 days, 6:59:02\r"
     ]
    },
    {
     "name": "stdout",
     "output_type": "stream",
     "text": [
      "Episode: 788   score: 12.09   Avg score (100e): 12.00   actor gain: -0.47   critic loss: 0.39   steps: 788\n"
     ]
    },
    {
     "name": "stderr",
     "output_type": "stream",
     "text": [
      "training loop:   1% |                                  | ETA:  35 days, 6:57:23\r"
     ]
    },
    {
     "name": "stdout",
     "output_type": "stream",
     "text": [
      "Episode: 789   score: 12.09   Avg score (100e): 12.00   actor gain: -0.47   critic loss: 0.39   steps: 789\n"
     ]
    },
    {
     "name": "stderr",
     "output_type": "stream",
     "text": [
      "training loop:   1% |                                  | ETA:  35 days, 6:53:53\r"
     ]
    },
    {
     "name": "stdout",
     "output_type": "stream",
     "text": [
      "Episode: 790   score: 12.09   Avg score (100e): 12.01   actor gain: -0.47   critic loss: 0.39   steps: 790\n"
     ]
    },
    {
     "name": "stderr",
     "output_type": "stream",
     "text": [
      "training loop:   1% |                                  | ETA:  35 days, 6:53:47\r"
     ]
    },
    {
     "name": "stdout",
     "output_type": "stream",
     "text": [
      "Episode: 791   score: 12.10   Avg score (100e): 12.01   actor gain: -0.47   critic loss: 0.39   steps: 791\n"
     ]
    },
    {
     "name": "stderr",
     "output_type": "stream",
     "text": [
      "training loop:   1% |                                  | ETA:  35 days, 6:50:52\r"
     ]
    },
    {
     "name": "stdout",
     "output_type": "stream",
     "text": [
      "Episode: 792   score: 12.11   Avg score (100e): 12.01   actor gain: -6.07   critic loss: 0.38   steps: 792\n"
     ]
    },
    {
     "name": "stderr",
     "output_type": "stream",
     "text": [
      "training loop:   1% |                                  | ETA:  35 days, 6:49:49\r"
     ]
    },
    {
     "name": "stdout",
     "output_type": "stream",
     "text": [
      "Episode: 793   score: 12.12   Avg score (100e): 12.01   actor gain: -6.04   critic loss: 0.38   steps: 793\n"
     ]
    },
    {
     "name": "stderr",
     "output_type": "stream",
     "text": [
      "training loop:   1% |                                  | ETA:  35 days, 6:45:30\r"
     ]
    },
    {
     "name": "stdout",
     "output_type": "stream",
     "text": [
      "Episode: 794   score: 12.12   Avg score (100e): 12.01   actor gain: -6.03   critic loss: 0.38   steps: 794\n"
     ]
    },
    {
     "name": "stderr",
     "output_type": "stream",
     "text": [
      "training loop:   1% |                                  | ETA:  35 days, 6:39:26\r"
     ]
    },
    {
     "name": "stdout",
     "output_type": "stream",
     "text": [
      "Episode: 795   score: 12.12   Avg score (100e): 12.01   actor gain: -6.02   critic loss: 0.38   steps: 795\n"
     ]
    },
    {
     "name": "stderr",
     "output_type": "stream",
     "text": [
      "training loop:   1% |                                  | ETA:  35 days, 6:37:46\r"
     ]
    },
    {
     "name": "stdout",
     "output_type": "stream",
     "text": [
      "Episode: 796   score: 12.12   Avg score (100e): 12.01   actor gain: -6.02   critic loss: 0.38   steps: 796\n",
      "np.all(done) is true! miracle!\n"
     ]
    },
    {
     "name": "stderr",
     "output_type": "stream",
     "text": [
      "training loop:   1% |                                  | ETA:  35 days, 6:32:43\r"
     ]
    },
    {
     "name": "stdout",
     "output_type": "stream",
     "text": [
      "Episode: 797   score: 12.13   Avg score (100e): 12.02   actor gain: -6.02   critic loss: 0.39   steps: 797\n"
     ]
    },
    {
     "name": "stderr",
     "output_type": "stream",
     "text": [
      "training loop:   1% |                                  | ETA:  35 days, 6:31:39\r"
     ]
    },
    {
     "name": "stdout",
     "output_type": "stream",
     "text": [
      "Episode: 798   score: 12.13   Avg score (100e): 12.02   actor gain: -6.02   critic loss: 0.38   steps: 798\n"
     ]
    },
    {
     "name": "stderr",
     "output_type": "stream",
     "text": [
      "training loop:   1% |                                  | ETA:  35 days, 6:29:59\r"
     ]
    },
    {
     "name": "stdout",
     "output_type": "stream",
     "text": [
      "Episode: 799   score: 12.14   Avg score (100e): 12.02   actor gain: -6.02   critic loss: 0.39   steps: 799\n"
     ]
    },
    {
     "name": "stderr",
     "output_type": "stream",
     "text": [
      "training loop:   1% |                                  | ETA:  35 days, 6:25:00\r"
     ]
    },
    {
     "name": "stdout",
     "output_type": "stream",
     "text": [
      "Episode: 800   score: 12.15   Avg score (100e): 12.02   actor gain: -6.02   critic loss: 0.39   steps: 800\n"
     ]
    },
    {
     "name": "stderr",
     "output_type": "stream",
     "text": [
      "training loop:   1% |                                  | ETA:  35 days, 6:21:47\r"
     ]
    },
    {
     "name": "stdout",
     "output_type": "stream",
     "text": [
      "Episode: 801   score: 12.16   Avg score (100e): 12.02   actor gain: -6.02   critic loss: 0.39   steps: 801\n"
     ]
    },
    {
     "name": "stderr",
     "output_type": "stream",
     "text": [
      "training loop:   1% |                                  | ETA:  35 days, 6:18:19\r"
     ]
    },
    {
     "name": "stdout",
     "output_type": "stream",
     "text": [
      "Episode: 802   score: 12.17   Avg score (100e): 12.02   actor gain: -6.02   critic loss: 0.39   steps: 802\n"
     ]
    },
    {
     "name": "stderr",
     "output_type": "stream",
     "text": [
      "training loop:   1% |                                  | ETA:  35 days, 6:13:50\r"
     ]
    },
    {
     "name": "stdout",
     "output_type": "stream",
     "text": [
      "Episode: 803   score: 12.19   Avg score (100e): 12.03   actor gain: -6.02   critic loss: 0.39   steps: 803\n"
     ]
    },
    {
     "name": "stderr",
     "output_type": "stream",
     "text": [
      "training loop:   1% |                                  | ETA:  35 days, 6:09:31\r"
     ]
    },
    {
     "name": "stdout",
     "output_type": "stream",
     "text": [
      "Episode: 804   score: 12.20   Avg score (100e): 12.03   actor gain: -6.02   critic loss: 0.39   steps: 804\n"
     ]
    },
    {
     "name": "stderr",
     "output_type": "stream",
     "text": [
      "training loop:   1% |                                  | ETA:  35 days, 6:08:35\r"
     ]
    },
    {
     "name": "stdout",
     "output_type": "stream",
     "text": [
      "Episode: 805   score: 12.20   Avg score (100e): 12.03   actor gain: -6.02   critic loss: 0.39   steps: 805\n"
     ]
    },
    {
     "name": "stderr",
     "output_type": "stream",
     "text": [
      "training loop:   1% |                                  | ETA:  35 days, 6:06:28\r"
     ]
    },
    {
     "name": "stdout",
     "output_type": "stream",
     "text": [
      "Episode: 806   score: 12.22   Avg score (100e): 12.03   actor gain: -6.03   critic loss: 0.39   steps: 806\n"
     ]
    },
    {
     "name": "stderr",
     "output_type": "stream",
     "text": [
      "training loop:   1% |                                  | ETA:  35 days, 6:05:46\r"
     ]
    },
    {
     "name": "stdout",
     "output_type": "stream",
     "text": [
      "Episode: 807   score: 12.22   Avg score (100e): 12.04   actor gain: -6.03   critic loss: 0.39   steps: 807\n"
     ]
    },
    {
     "name": "stderr",
     "output_type": "stream",
     "text": [
      "training loop:   1% |                                  | ETA:  35 days, 6:01:21\r"
     ]
    },
    {
     "name": "stdout",
     "output_type": "stream",
     "text": [
      "Episode: 808   score: 12.23   Avg score (100e): 12.04   actor gain: -6.03   critic loss: 0.40   steps: 808\n"
     ]
    },
    {
     "name": "stderr",
     "output_type": "stream",
     "text": [
      "training loop:   1% |                                  | ETA:  35 days, 5:58:01\r"
     ]
    },
    {
     "name": "stdout",
     "output_type": "stream",
     "text": [
      "Episode: 809   score: 12.23   Avg score (100e): 12.04   actor gain: -6.03   critic loss: 0.40   steps: 809\n"
     ]
    },
    {
     "name": "stderr",
     "output_type": "stream",
     "text": [
      "training loop:   1% |                                  | ETA:  35 days, 5:56:14\r"
     ]
    },
    {
     "name": "stdout",
     "output_type": "stream",
     "text": [
      "Episode: 810   score: 12.25   Avg score (100e): 12.04   actor gain: -6.02   critic loss: 0.40   steps: 810\n"
     ]
    },
    {
     "name": "stderr",
     "output_type": "stream",
     "text": [
      "training loop:   1% |                                  | ETA:  35 days, 5:52:51\r"
     ]
    },
    {
     "name": "stdout",
     "output_type": "stream",
     "text": [
      "Episode: 811   score: 12.24   Avg score (100e): 12.05   actor gain: -6.02   critic loss: 0.40   steps: 811\n",
      "np.all(done) is true! miracle!\n"
     ]
    },
    {
     "name": "stderr",
     "output_type": "stream",
     "text": [
      "training loop:   1% |                                  | ETA:  35 days, 5:48:17\r"
     ]
    },
    {
     "name": "stdout",
     "output_type": "stream",
     "text": [
      "Episode: 812   score: 12.26   Avg score (100e): 12.05   actor gain: -6.02   critic loss: 0.40   steps: 812\n"
     ]
    },
    {
     "name": "stderr",
     "output_type": "stream",
     "text": [
      "training loop:   1% |                                  | ETA:  35 days, 5:44:23\r"
     ]
    },
    {
     "name": "stdout",
     "output_type": "stream",
     "text": [
      "Episode: 813   score: 12.27   Avg score (100e): 12.05   actor gain: -6.02   critic loss: 0.40   steps: 813\n"
     ]
    },
    {
     "name": "stderr",
     "output_type": "stream",
     "text": [
      "training loop:   1% |                                  | ETA:  35 days, 5:40:25\r"
     ]
    },
    {
     "name": "stdout",
     "output_type": "stream",
     "text": [
      "Episode: 814   score: 12.28   Avg score (100e): 12.05   actor gain: -6.02   critic loss: 0.40   steps: 814\n"
     ]
    },
    {
     "name": "stderr",
     "output_type": "stream",
     "text": [
      "training loop:   1% |                                  | ETA:  35 days, 5:36:46\r"
     ]
    },
    {
     "name": "stdout",
     "output_type": "stream",
     "text": [
      "Episode: 815   score: 12.28   Avg score (100e): 12.06   actor gain: -6.02   critic loss: 0.40   steps: 815\n"
     ]
    },
    {
     "name": "stderr",
     "output_type": "stream",
     "text": [
      "training loop:   1% |                                  | ETA:  35 days, 5:34:20\r"
     ]
    },
    {
     "name": "stdout",
     "output_type": "stream",
     "text": [
      "Episode: 816   score: 12.28   Avg score (100e): 12.06   actor gain: -6.02   critic loss: 0.41   steps: 816\n"
     ]
    },
    {
     "name": "stderr",
     "output_type": "stream",
     "text": [
      "training loop:   1% |                                  | ETA:  35 days, 5:30:44\r"
     ]
    },
    {
     "name": "stdout",
     "output_type": "stream",
     "text": [
      "Episode: 817   score: 12.29   Avg score (100e): 12.06   actor gain: -0.42   critic loss: 0.41   steps: 817\n"
     ]
    },
    {
     "name": "stderr",
     "output_type": "stream",
     "text": [
      "training loop:   1% |                                  | ETA:  35 days, 5:37:36\r"
     ]
    },
    {
     "name": "stdout",
     "output_type": "stream",
     "text": [
      "Episode: 818   score: 12.31   Avg score (100e): 12.07   actor gain: -0.42   critic loss: 0.41   steps: 818\n"
     ]
    },
    {
     "name": "stderr",
     "output_type": "stream",
     "text": [
      "training loop:   1% |                                  | ETA:  35 days, 5:36:11\r"
     ]
    },
    {
     "name": "stdout",
     "output_type": "stream",
     "text": [
      "Episode: 819   score: 12.30   Avg score (100e): 12.07   actor gain: -0.42   critic loss: 0.41   steps: 819\n"
     ]
    },
    {
     "name": "stderr",
     "output_type": "stream",
     "text": [
      "training loop:   1% |                                  | ETA:  35 days, 5:33:39\r"
     ]
    },
    {
     "name": "stdout",
     "output_type": "stream",
     "text": [
      "Episode: 820   score: 12.31   Avg score (100e): 12.07   actor gain: -0.42   critic loss: 0.41   steps: 820\n"
     ]
    },
    {
     "name": "stderr",
     "output_type": "stream",
     "text": [
      "training loop:   1% |                                  | ETA:  35 days, 5:37:09\r"
     ]
    },
    {
     "name": "stdout",
     "output_type": "stream",
     "text": [
      "Episode: 821   score: 12.32   Avg score (100e): 12.08   actor gain: -0.42   critic loss: 0.41   steps: 821\n"
     ]
    },
    {
     "name": "stderr",
     "output_type": "stream",
     "text": [
      "training loop:   1% |                                  | ETA:  35 days, 5:37:53\r"
     ]
    },
    {
     "name": "stdout",
     "output_type": "stream",
     "text": [
      "Episode: 822   score: 12.33   Avg score (100e): 12.08   actor gain: -0.42   critic loss: 0.41   steps: 822\n"
     ]
    },
    {
     "name": "stderr",
     "output_type": "stream",
     "text": [
      "training loop:   1% |                                  | ETA:  35 days, 5:40:07\r"
     ]
    },
    {
     "name": "stdout",
     "output_type": "stream",
     "text": [
      "Episode: 823   score: 12.33   Avg score (100e): 12.08   actor gain: -0.41   critic loss: 0.41   steps: 823\n",
      "np.all(done) is true! miracle!\n"
     ]
    },
    {
     "name": "stderr",
     "output_type": "stream",
     "text": [
      "training loop:   1% |                                  | ETA:  35 days, 5:40:15\r"
     ]
    },
    {
     "name": "stdout",
     "output_type": "stream",
     "text": [
      "Episode: 824   score: 12.34   Avg score (100e): 12.09   actor gain: -0.41   critic loss: 0.41   steps: 824\n"
     ]
    },
    {
     "name": "stderr",
     "output_type": "stream",
     "text": [
      "training loop:   1% |                                  | ETA:  35 days, 5:39:16\r"
     ]
    },
    {
     "name": "stdout",
     "output_type": "stream",
     "text": [
      "Episode: 825   score: 12.34   Avg score (100e): 12.09   actor gain: -0.41   critic loss: 0.41   steps: 825\n"
     ]
    },
    {
     "name": "stderr",
     "output_type": "stream",
     "text": [
      "training loop:   1% |                                  | ETA:  35 days, 5:37:03\r"
     ]
    },
    {
     "name": "stdout",
     "output_type": "stream",
     "text": [
      "Episode: 826   score: 12.35   Avg score (100e): 12.09   actor gain: -0.41   critic loss: 0.41   steps: 826\n",
      "np.all(done) is true! miracle!\n"
     ]
    },
    {
     "name": "stderr",
     "output_type": "stream",
     "text": [
      "training loop:   1% |                                  | ETA:  35 days, 5:36:06\r"
     ]
    },
    {
     "name": "stdout",
     "output_type": "stream",
     "text": [
      "Episode: 827   score: 12.37   Avg score (100e): 12.10   actor gain: -0.41   critic loss: 0.41   steps: 827\n"
     ]
    },
    {
     "name": "stderr",
     "output_type": "stream",
     "text": [
      "training loop:   1% |                                  | ETA:  35 days, 5:35:49\r"
     ]
    },
    {
     "name": "stdout",
     "output_type": "stream",
     "text": [
      "Episode: 828   score: 12.39   Avg score (100e): 12.10   actor gain: -0.41   critic loss: 0.41   steps: 828\n"
     ]
    },
    {
     "name": "stderr",
     "output_type": "stream",
     "text": [
      "training loop:   1% |                                  | ETA:  35 days, 5:34:44\r"
     ]
    },
    {
     "name": "stdout",
     "output_type": "stream",
     "text": [
      "Episode: 829   score: 12.39   Avg score (100e): 12.11   actor gain: -0.41   critic loss: 0.41   steps: 829\n"
     ]
    },
    {
     "name": "stderr",
     "output_type": "stream",
     "text": [
      "training loop:   1% |                                  | ETA:  35 days, 5:32:21\r"
     ]
    },
    {
     "name": "stdout",
     "output_type": "stream",
     "text": [
      "Episode: 830   score: 12.40   Avg score (100e): 12.11   actor gain: -0.41   critic loss: 0.41   steps: 830\n"
     ]
    },
    {
     "name": "stderr",
     "output_type": "stream",
     "text": [
      "training loop:   1% |                                  | ETA:  35 days, 5:30:37\r"
     ]
    },
    {
     "name": "stdout",
     "output_type": "stream",
     "text": [
      "Episode: 831   score: 12.41   Avg score (100e): 12.11   actor gain: -0.41   critic loss: 0.41   steps: 831\n",
      "np.all(done) is true! miracle!\n"
     ]
    },
    {
     "name": "stderr",
     "output_type": "stream",
     "text": [
      "training loop:   1% |                                  | ETA:  35 days, 5:28:11\r"
     ]
    },
    {
     "name": "stdout",
     "output_type": "stream",
     "text": [
      "Episode: 832   score: 12.40   Avg score (100e): 12.12   actor gain: -0.40   critic loss: 0.41   steps: 832\n",
      "np.all(done) is true! miracle!\n"
     ]
    },
    {
     "name": "stderr",
     "output_type": "stream",
     "text": [
      "training loop:   1% |                                  | ETA:  35 days, 5:23:35\r"
     ]
    },
    {
     "name": "stdout",
     "output_type": "stream",
     "text": [
      "Episode: 833   score: 12.40   Avg score (100e): 12.12   actor gain: -0.40   critic loss: 0.41   steps: 833\n"
     ]
    },
    {
     "name": "stderr",
     "output_type": "stream",
     "text": [
      "training loop:   1% |                                  | ETA:  35 days, 5:17:46\r"
     ]
    },
    {
     "name": "stdout",
     "output_type": "stream",
     "text": [
      "Episode: 834   score: 12.41   Avg score (100e): 12.13   actor gain: -0.40   critic loss: 0.41   steps: 834\n"
     ]
    },
    {
     "name": "stderr",
     "output_type": "stream",
     "text": [
      "training loop:   1% |                                  | ETA:  35 days, 5:14:59\r"
     ]
    },
    {
     "name": "stdout",
     "output_type": "stream",
     "text": [
      "Episode: 835   score: 12.41   Avg score (100e): 12.13   actor gain: -0.40   critic loss: 0.41   steps: 835\n"
     ]
    },
    {
     "name": "stderr",
     "output_type": "stream",
     "text": [
      "training loop:   1% |                                  | ETA:  35 days, 5:13:14\r"
     ]
    },
    {
     "name": "stdout",
     "output_type": "stream",
     "text": [
      "Episode: 836   score: 12.43   Avg score (100e): 12.14   actor gain: -0.40   critic loss: 0.41   steps: 836\n"
     ]
    },
    {
     "name": "stderr",
     "output_type": "stream",
     "text": [
      "training loop:   1% |                                  | ETA:  35 days, 5:10:28\r"
     ]
    },
    {
     "name": "stdout",
     "output_type": "stream",
     "text": [
      "Episode: 837   score: 12.43   Avg score (100e): 12.14   actor gain: -0.40   critic loss: 0.41   steps: 837\n"
     ]
    },
    {
     "name": "stderr",
     "output_type": "stream",
     "text": [
      "training loop:   1% |                                  | ETA:  35 days, 5:08:12\r"
     ]
    },
    {
     "name": "stdout",
     "output_type": "stream",
     "text": [
      "Episode: 838   score: 12.44   Avg score (100e): 12.14   actor gain: -0.40   critic loss: 0.41   steps: 838\n"
     ]
    },
    {
     "name": "stderr",
     "output_type": "stream",
     "text": [
      "training loop:   1% |                                  | ETA:  35 days, 5:04:15\r"
     ]
    },
    {
     "name": "stdout",
     "output_type": "stream",
     "text": [
      "Episode: 839   score: 12.45   Avg score (100e): 12.15   actor gain: -0.62   critic loss: 0.41   steps: 839\n"
     ]
    },
    {
     "name": "stderr",
     "output_type": "stream",
     "text": [
      "training loop:   1% |                                  | ETA:  35 days, 5:05:14\r"
     ]
    },
    {
     "name": "stdout",
     "output_type": "stream",
     "text": [
      "Episode: 840   score: 12.45   Avg score (100e): 12.15   actor gain: -0.62   critic loss: 0.41   steps: 840\n"
     ]
    },
    {
     "name": "stderr",
     "output_type": "stream",
     "text": [
      "training loop:   1% |                                  | ETA:  35 days, 5:02:16\r"
     ]
    },
    {
     "name": "stdout",
     "output_type": "stream",
     "text": [
      "Episode: 841   score: 12.46   Avg score (100e): 12.16   actor gain: -0.62   critic loss: 0.41   steps: 841\n"
     ]
    },
    {
     "name": "stderr",
     "output_type": "stream",
     "text": [
      "training loop:   1% |                                  | ETA:  35 days, 4:59:22\r"
     ]
    },
    {
     "name": "stdout",
     "output_type": "stream",
     "text": [
      "Episode: 842   score: 12.46   Avg score (100e): 12.16   actor gain: -0.62   critic loss: 0.41   steps: 842\n"
     ]
    },
    {
     "name": "stderr",
     "output_type": "stream",
     "text": [
      "training loop:   1% |                                  | ETA:  35 days, 4:57:21\r"
     ]
    },
    {
     "name": "stdout",
     "output_type": "stream",
     "text": [
      "Episode: 843   score: 12.47   Avg score (100e): 12.17   actor gain: -0.62   critic loss: 0.41   steps: 843\n"
     ]
    },
    {
     "name": "stderr",
     "output_type": "stream",
     "text": [
      "training loop:   1% |                                  | ETA:  35 days, 4:53:59\r"
     ]
    },
    {
     "name": "stdout",
     "output_type": "stream",
     "text": [
      "Episode: 844   score: 12.48   Avg score (100e): 12.17   actor gain: -0.62   critic loss: 0.41   steps: 844\n"
     ]
    },
    {
     "name": "stderr",
     "output_type": "stream",
     "text": [
      "training loop:   1% |                                  | ETA:  35 days, 4:51:51\r"
     ]
    },
    {
     "name": "stdout",
     "output_type": "stream",
     "text": [
      "Episode: 845   score: 12.50   Avg score (100e): 12.18   actor gain: -0.62   critic loss: 0.41   steps: 845\n"
     ]
    },
    {
     "name": "stderr",
     "output_type": "stream",
     "text": [
      "training loop:   1% |                                  | ETA:  35 days, 4:49:50\r"
     ]
    },
    {
     "name": "stdout",
     "output_type": "stream",
     "text": [
      "Episode: 846   score: 12.50   Avg score (100e): 12.18   actor gain: -0.62   critic loss: 0.41   steps: 846\n"
     ]
    },
    {
     "name": "stderr",
     "output_type": "stream",
     "text": [
      "training loop:   1% |                                  | ETA:  35 days, 4:47:06\r"
     ]
    },
    {
     "name": "stdout",
     "output_type": "stream",
     "text": [
      "Episode: 847   score: 12.52   Avg score (100e): 12.19   actor gain: -0.62   critic loss: 0.41   steps: 847\n"
     ]
    },
    {
     "name": "stderr",
     "output_type": "stream",
     "text": [
      "training loop:   1% |                                  | ETA:  35 days, 4:46:05\r"
     ]
    },
    {
     "name": "stdout",
     "output_type": "stream",
     "text": [
      "Episode: 848   score: 12.53   Avg score (100e): 12.19   actor gain: -0.62   critic loss: 0.41   steps: 848\n"
     ]
    },
    {
     "name": "stderr",
     "output_type": "stream",
     "text": [
      "training loop:   1% |                                  | ETA:  35 days, 4:44:27\r"
     ]
    },
    {
     "name": "stdout",
     "output_type": "stream",
     "text": [
      "Episode: 849   score: 12.54   Avg score (100e): 12.20   actor gain: -0.62   critic loss: 0.41   steps: 849\n"
     ]
    },
    {
     "name": "stderr",
     "output_type": "stream",
     "text": [
      "training loop:   1% |                                  | ETA:  35 days, 4:50:54\r"
     ]
    },
    {
     "name": "stdout",
     "output_type": "stream",
     "text": [
      "Episode: 850   score: 12.55   Avg score (100e): 12.20   actor gain: -0.62   critic loss: 0.41   steps: 850\n"
     ]
    },
    {
     "name": "stderr",
     "output_type": "stream",
     "text": [
      "training loop:   1% |                                  | ETA:  35 days, 4:49:07\r"
     ]
    },
    {
     "name": "stdout",
     "output_type": "stream",
     "text": [
      "Episode: 851   score: 12.54   Avg score (100e): 12.21   actor gain: -0.62   critic loss: 0.41   steps: 851\n"
     ]
    },
    {
     "name": "stderr",
     "output_type": "stream",
     "text": [
      "training loop:   1% |                                  | ETA:  35 days, 4:48:42\r"
     ]
    },
    {
     "name": "stdout",
     "output_type": "stream",
     "text": [
      "Episode: 852   score: 12.55   Avg score (100e): 12.21   actor gain: -0.62   critic loss: 0.41   steps: 852\n"
     ]
    },
    {
     "name": "stderr",
     "output_type": "stream",
     "text": [
      "training loop:   1% |                                  | ETA:  35 days, 4:48:52\r"
     ]
    },
    {
     "name": "stdout",
     "output_type": "stream",
     "text": [
      "Episode: 853   score: 12.57   Avg score (100e): 12.22   actor gain: -0.62   critic loss: 0.41   steps: 853\n"
     ]
    },
    {
     "name": "stderr",
     "output_type": "stream",
     "text": [
      "training loop:   1% |                                  | ETA:  35 days, 4:49:07\r"
     ]
    },
    {
     "name": "stdout",
     "output_type": "stream",
     "text": [
      "Episode: 854   score: 12.58   Avg score (100e): 12.22   actor gain: -0.62   critic loss: 0.41   steps: 854\n"
     ]
    },
    {
     "name": "stderr",
     "output_type": "stream",
     "text": [
      "training loop:   1% |                                  | ETA:  35 days, 4:47:30\r"
     ]
    },
    {
     "name": "stdout",
     "output_type": "stream",
     "text": [
      "Episode: 855   score: 12.58   Avg score (100e): 12.23   actor gain: -0.62   critic loss: 0.41   steps: 855\n"
     ]
    },
    {
     "name": "stderr",
     "output_type": "stream",
     "text": [
      "training loop:   1% |                                  | ETA:  35 days, 4:45:56\r"
     ]
    },
    {
     "name": "stdout",
     "output_type": "stream",
     "text": [
      "Episode: 856   score: 12.59   Avg score (100e): 12.24   actor gain: -0.62   critic loss: 0.41   steps: 856\n"
     ]
    },
    {
     "name": "stderr",
     "output_type": "stream",
     "text": [
      "training loop:   1% |                                  | ETA:  35 days, 4:45:10\r"
     ]
    },
    {
     "name": "stdout",
     "output_type": "stream",
     "text": [
      "Episode: 857   score: 12.60   Avg score (100e): 12.24   actor gain: -0.62   critic loss: 0.41   steps: 857\n"
     ]
    },
    {
     "name": "stderr",
     "output_type": "stream",
     "text": [
      "training loop:   1% |                                  | ETA:  35 days, 4:45:25\r"
     ]
    },
    {
     "name": "stdout",
     "output_type": "stream",
     "text": [
      "Episode: 858   score: 12.60   Avg score (100e): 12.25   actor gain: -0.62   critic loss: 0.41   steps: 858\n"
     ]
    },
    {
     "name": "stderr",
     "output_type": "stream",
     "text": [
      "training loop:   1% |                                  | ETA:  35 days, 4:40:07\r"
     ]
    },
    {
     "name": "stdout",
     "output_type": "stream",
     "text": [
      "Episode: 859   score: 12.60   Avg score (100e): 12.25   actor gain: -0.65   critic loss: 0.41   steps: 859\n"
     ]
    },
    {
     "name": "stderr",
     "output_type": "stream",
     "text": [
      "training loop:   1% |                                  | ETA:  35 days, 4:39:16\r"
     ]
    },
    {
     "name": "stdout",
     "output_type": "stream",
     "text": [
      "Episode: 860   score: 12.61   Avg score (100e): 12.26   actor gain: -0.65   critic loss: 0.41   steps: 860\n"
     ]
    },
    {
     "name": "stderr",
     "output_type": "stream",
     "text": [
      "training loop:   1% |                                  | ETA:  35 days, 4:39:26\r"
     ]
    },
    {
     "name": "stdout",
     "output_type": "stream",
     "text": [
      "Episode: 861   score: 12.63   Avg score (100e): 12.27   actor gain: -0.65   critic loss: 0.41   steps: 861\n"
     ]
    },
    {
     "name": "stderr",
     "output_type": "stream",
     "text": [
      "training loop:   1% |                                  | ETA:  35 days, 4:39:17\r"
     ]
    },
    {
     "name": "stdout",
     "output_type": "stream",
     "text": [
      "Episode: 862   score: 12.63   Avg score (100e): 12.27   actor gain: -0.65   critic loss: 0.41   steps: 862\n"
     ]
    },
    {
     "name": "stderr",
     "output_type": "stream",
     "text": [
      "training loop:   1% |                                  | ETA:  35 days, 4:48:32\r"
     ]
    },
    {
     "name": "stdout",
     "output_type": "stream",
     "text": [
      "Episode: 863   score: 12.62   Avg score (100e): 12.28   actor gain: -0.65   critic loss: 0.41   steps: 863\n"
     ]
    },
    {
     "name": "stderr",
     "output_type": "stream",
     "text": [
      "training loop:   1% |                                  | ETA:  35 days, 4:50:26\r"
     ]
    },
    {
     "name": "stdout",
     "output_type": "stream",
     "text": [
      "Episode: 864   score: 12.63   Avg score (100e): 12.28   actor gain: -0.43   critic loss: 0.41   steps: 864\n"
     ]
    },
    {
     "name": "stderr",
     "output_type": "stream",
     "text": [
      "training loop:   1% |                                  | ETA:  35 days, 4:50:14\r"
     ]
    },
    {
     "name": "stdout",
     "output_type": "stream",
     "text": [
      "Episode: 865   score: 12.63   Avg score (100e): 12.29   actor gain: -0.43   critic loss: 0.41   steps: 865\n"
     ]
    },
    {
     "name": "stderr",
     "output_type": "stream",
     "text": [
      "training loop:   1% |                                  | ETA:  35 days, 4:46:06\r"
     ]
    },
    {
     "name": "stdout",
     "output_type": "stream",
     "text": [
      "Episode: 866   score: 12.64   Avg score (100e): 12.30   actor gain: -0.43   critic loss: 0.41   steps: 866\n"
     ]
    },
    {
     "name": "stderr",
     "output_type": "stream",
     "text": [
      "training loop:   1% |                                  | ETA:  35 days, 4:43:43\r"
     ]
    },
    {
     "name": "stdout",
     "output_type": "stream",
     "text": [
      "Episode: 867   score: 12.64   Avg score (100e): 12.30   actor gain: -0.51   critic loss: 0.41   steps: 867\n"
     ]
    },
    {
     "name": "stderr",
     "output_type": "stream",
     "text": [
      "training loop:   1% |                                  | ETA:  35 days, 4:40:59\r"
     ]
    },
    {
     "name": "stdout",
     "output_type": "stream",
     "text": [
      "Episode: 868   score: 12.64   Avg score (100e): 12.31   actor gain: -0.54   critic loss: 0.41   steps: 868\n"
     ]
    },
    {
     "name": "stderr",
     "output_type": "stream",
     "text": [
      "training loop:   1% |                                  | ETA:  35 days, 4:38:26\r"
     ]
    },
    {
     "name": "stdout",
     "output_type": "stream",
     "text": [
      "Episode: 869   score: 12.66   Avg score (100e): 12.32   actor gain: -0.54   critic loss: 0.41   steps: 869\n",
      "np.all(done) is true! miracle!\n"
     ]
    },
    {
     "name": "stderr",
     "output_type": "stream",
     "text": [
      "training loop:   1% |                                  | ETA:  35 days, 4:34:13\r"
     ]
    },
    {
     "name": "stdout",
     "output_type": "stream",
     "text": [
      "Episode: 870   score: 12.65   Avg score (100e): 12.32   actor gain: -0.54   critic loss: 0.41   steps: 870\n"
     ]
    },
    {
     "name": "stderr",
     "output_type": "stream",
     "text": [
      "training loop:   1% |                                  | ETA:  35 days, 4:31:13\r"
     ]
    },
    {
     "name": "stdout",
     "output_type": "stream",
     "text": [
      "Episode: 871   score: 12.66   Avg score (100e): 12.33   actor gain: -0.54   critic loss: 0.41   steps: 871\n"
     ]
    },
    {
     "name": "stderr",
     "output_type": "stream",
     "text": [
      "training loop:   1% |                                  | ETA:  35 days, 4:28:09\r"
     ]
    },
    {
     "name": "stdout",
     "output_type": "stream",
     "text": [
      "Episode: 872   score: 12.67   Avg score (100e): 12.34   actor gain: -0.55   critic loss: 0.41   steps: 872\n"
     ]
    },
    {
     "name": "stderr",
     "output_type": "stream",
     "text": [
      "training loop:   1% |                                  | ETA:  35 days, 4:24:23\r"
     ]
    },
    {
     "name": "stdout",
     "output_type": "stream",
     "text": [
      "Episode: 873   score: 12.67   Avg score (100e): 12.34   actor gain: -0.55   critic loss: 0.41   steps: 873\n"
     ]
    },
    {
     "name": "stderr",
     "output_type": "stream",
     "text": [
      "training loop:   1% |                                  | ETA:  35 days, 4:21:59\r"
     ]
    },
    {
     "name": "stdout",
     "output_type": "stream",
     "text": [
      "Episode: 874   score: 12.68   Avg score (100e): 12.35   actor gain: -0.55   critic loss: 0.41   steps: 874\n"
     ]
    },
    {
     "name": "stderr",
     "output_type": "stream",
     "text": [
      "training loop:   1% |                                  | ETA:  35 days, 4:17:31\r"
     ]
    },
    {
     "name": "stdout",
     "output_type": "stream",
     "text": [
      "Episode: 875   score: 12.68   Avg score (100e): 12.36   actor gain: -0.55   critic loss: 0.41   steps: 875\n"
     ]
    },
    {
     "name": "stderr",
     "output_type": "stream",
     "text": [
      "training loop:   1% |                                  | ETA:  35 days, 4:11:29\r"
     ]
    },
    {
     "name": "stdout",
     "output_type": "stream",
     "text": [
      "Episode: 876   score: 12.68   Avg score (100e): 12.36   actor gain: -0.54   critic loss: 0.41   steps: 876\n"
     ]
    },
    {
     "name": "stderr",
     "output_type": "stream",
     "text": [
      "training loop:   1% |                                  | ETA:  35 days, 4:07:49\r"
     ]
    },
    {
     "name": "stdout",
     "output_type": "stream",
     "text": [
      "Episode: 877   score: 12.69   Avg score (100e): 12.37   actor gain: -0.54   critic loss: 0.41   steps: 877\n"
     ]
    },
    {
     "name": "stderr",
     "output_type": "stream",
     "text": [
      "training loop:   1% |                                  | ETA:  35 days, 4:02:58\r"
     ]
    },
    {
     "name": "stdout",
     "output_type": "stream",
     "text": [
      "Episode: 878   score: 12.69   Avg score (100e): 12.37   actor gain: -0.55   critic loss: 0.41   steps: 878\n"
     ]
    },
    {
     "name": "stderr",
     "output_type": "stream",
     "text": [
      "training loop:   1% |                                  | ETA:  35 days, 3:59:03\r"
     ]
    },
    {
     "name": "stdout",
     "output_type": "stream",
     "text": [
      "Episode: 879   score: 12.70   Avg score (100e): 12.38   actor gain: -0.55   critic loss: 0.41   steps: 879\n"
     ]
    },
    {
     "name": "stderr",
     "output_type": "stream",
     "text": [
      "training loop:   1% |                                  | ETA:  35 days, 4:02:10\r"
     ]
    },
    {
     "name": "stdout",
     "output_type": "stream",
     "text": [
      "Episode: 880   score: 12.71   Avg score (100e): 12.39   actor gain: -0.55   critic loss: 0.41   steps: 880\n"
     ]
    },
    {
     "name": "stderr",
     "output_type": "stream",
     "text": [
      "training loop:   1% |                                  | ETA:  35 days, 4:01:38\r"
     ]
    },
    {
     "name": "stdout",
     "output_type": "stream",
     "text": [
      "Episode: 881   score: 12.72   Avg score (100e): 12.39   actor gain: -0.55   critic loss: 0.41   steps: 881\n"
     ]
    },
    {
     "name": "stderr",
     "output_type": "stream",
     "text": [
      "training loop:   1% |                                  | ETA:  35 days, 4:01:35\r"
     ]
    },
    {
     "name": "stdout",
     "output_type": "stream",
     "text": [
      "Episode: 882   score: 12.73   Avg score (100e): 12.40   actor gain: -0.55   critic loss: 0.41   steps: 882\n"
     ]
    },
    {
     "name": "stderr",
     "output_type": "stream",
     "text": [
      "training loop:   1% |                                  | ETA:  35 days, 4:07:07\r"
     ]
    },
    {
     "name": "stdout",
     "output_type": "stream",
     "text": [
      "Episode: 883   score: 12.73   Avg score (100e): 12.41   actor gain: -0.55   critic loss: 0.41   steps: 883\n"
     ]
    },
    {
     "name": "stderr",
     "output_type": "stream",
     "text": [
      "training loop:   1% |                                  | ETA:  35 days, 4:11:20\r"
     ]
    },
    {
     "name": "stdout",
     "output_type": "stream",
     "text": [
      "Episode: 884   score: 12.74   Avg score (100e): 12.41   actor gain: -0.52   critic loss: 0.42   steps: 884\n"
     ]
    },
    {
     "name": "stderr",
     "output_type": "stream",
     "text": [
      "training loop:   1% |                                  | ETA:  35 days, 4:10:52\r"
     ]
    },
    {
     "name": "stdout",
     "output_type": "stream",
     "text": [
      "Episode: 885   score: 12.73   Avg score (100e): 12.42   actor gain: -0.52   critic loss: 0.42   steps: 885\n"
     ]
    },
    {
     "name": "stderr",
     "output_type": "stream",
     "text": [
      "training loop:   1% |                                  | ETA:  35 days, 4:08:55\r"
     ]
    },
    {
     "name": "stdout",
     "output_type": "stream",
     "text": [
      "Episode: 886   score: 12.75   Avg score (100e): 12.43   actor gain: -0.52   critic loss: 0.42   steps: 886\n"
     ]
    },
    {
     "name": "stderr",
     "output_type": "stream",
     "text": [
      "training loop:   1% |                                  | ETA:  35 days, 4:10:50\r"
     ]
    },
    {
     "name": "stdout",
     "output_type": "stream",
     "text": [
      "Episode: 887   score: 12.76   Avg score (100e): 12.43   actor gain: -0.52   critic loss: 0.42   steps: 887\n"
     ]
    },
    {
     "name": "stderr",
     "output_type": "stream",
     "text": [
      "training loop:   1% |                                  | ETA:  35 days, 4:08:03\r"
     ]
    },
    {
     "name": "stdout",
     "output_type": "stream",
     "text": [
      "Episode: 888   score: 12.77   Avg score (100e): 12.44   actor gain: -0.52   critic loss: 0.42   steps: 888\n"
     ]
    },
    {
     "name": "stderr",
     "output_type": "stream",
     "text": [
      "training loop:   1% |                                  | ETA:  35 days, 4:06:58\r"
     ]
    },
    {
     "name": "stdout",
     "output_type": "stream",
     "text": [
      "Episode: 889   score: 12.77   Avg score (100e): 12.45   actor gain: -0.52   critic loss: 0.42   steps: 889\n"
     ]
    },
    {
     "name": "stderr",
     "output_type": "stream",
     "text": [
      "training loop:   1% |                                  | ETA:  35 days, 4:05:56\r"
     ]
    },
    {
     "name": "stdout",
     "output_type": "stream",
     "text": [
      "Episode: 890   score: 12.78   Avg score (100e): 12.45   actor gain: -0.52   critic loss: 0.42   steps: 890\n"
     ]
    },
    {
     "name": "stderr",
     "output_type": "stream",
     "text": [
      "training loop:   1% |                                  | ETA:  35 days, 4:07:37\r"
     ]
    },
    {
     "name": "stdout",
     "output_type": "stream",
     "text": [
      "Episode: 891   score: 12.80   Avg score (100e): 12.46   actor gain: -0.52   critic loss: 0.42   steps: 891\n"
     ]
    },
    {
     "name": "stderr",
     "output_type": "stream",
     "text": [
      "training loop:   1% |                                  | ETA:  35 days, 4:03:31\r"
     ]
    },
    {
     "name": "stdout",
     "output_type": "stream",
     "text": [
      "Episode: 892   score: 12.79   Avg score (100e): 12.47   actor gain: -0.44   critic loss: 0.42   steps: 892\n"
     ]
    },
    {
     "name": "stderr",
     "output_type": "stream",
     "text": [
      "training loop:   1% |                                  | ETA:  35 days, 4:00:32\r"
     ]
    },
    {
     "name": "stdout",
     "output_type": "stream",
     "text": [
      "Episode: 893   score: 12.80   Avg score (100e): 12.47   actor gain: -0.40   critic loss: 0.42   steps: 893\n"
     ]
    },
    {
     "name": "stderr",
     "output_type": "stream",
     "text": [
      "training loop:   1% |                                  | ETA:  35 days, 3:57:52\r"
     ]
    },
    {
     "name": "stdout",
     "output_type": "stream",
     "text": [
      "Episode: 894   score: 12.80   Avg score (100e): 12.48   actor gain: -0.40   critic loss: 0.42   steps: 894\n"
     ]
    },
    {
     "name": "stderr",
     "output_type": "stream",
     "text": [
      "training loop:   1% |                                  | ETA:  35 days, 3:53:45\r"
     ]
    },
    {
     "name": "stdout",
     "output_type": "stream",
     "text": [
      "Episode: 895   score: 12.81   Avg score (100e): 12.49   actor gain: -0.43   critic loss: 0.42   steps: 895\n"
     ]
    },
    {
     "name": "stderr",
     "output_type": "stream",
     "text": [
      "training loop:   1% |                                  | ETA:  35 days, 3:51:12\r"
     ]
    },
    {
     "name": "stdout",
     "output_type": "stream",
     "text": [
      "Episode: 896   score: 12.83   Avg score (100e): 12.50   actor gain: -0.43   critic loss: 0.42   steps: 896\n"
     ]
    },
    {
     "name": "stderr",
     "output_type": "stream",
     "text": [
      "training loop:   1% |                                  | ETA:  35 days, 3:54:59\r"
     ]
    },
    {
     "name": "stdout",
     "output_type": "stream",
     "text": [
      "Episode: 897   score: 12.83   Avg score (100e): 12.50   actor gain: -0.43   critic loss: 0.42   steps: 897\n"
     ]
    },
    {
     "name": "stderr",
     "output_type": "stream",
     "text": [
      "training loop:   1% |                                  | ETA:  35 days, 4:33:26\r"
     ]
    },
    {
     "name": "stdout",
     "output_type": "stream",
     "text": [
      "Episode: 898   score: 12.83   Avg score (100e): 12.51   actor gain: -0.43   critic loss: 0.42   steps: 898\n"
     ]
    },
    {
     "name": "stderr",
     "output_type": "stream",
     "text": [
      "training loop:   1% |                                  | ETA:  35 days, 4:39:43\r"
     ]
    },
    {
     "name": "stdout",
     "output_type": "stream",
     "text": [
      "Episode: 899   score: 12.83   Avg score (100e): 12.52   actor gain: -0.43   critic loss: 0.42   steps: 899\n"
     ]
    },
    {
     "name": "stderr",
     "output_type": "stream",
     "text": [
      "training loop:   1% |                                  | ETA:  35 days, 4:41:20\r"
     ]
    },
    {
     "name": "stdout",
     "output_type": "stream",
     "text": [
      "Episode: 900   score: 12.83   Avg score (100e): 12.52   actor gain: -0.43   critic loss: 0.42   steps: 900\n"
     ]
    },
    {
     "name": "stderr",
     "output_type": "stream",
     "text": [
      "training loop:   1% |                                  | ETA:  35 days, 4:41:27\r"
     ]
    },
    {
     "name": "stdout",
     "output_type": "stream",
     "text": [
      "Episode: 901   score: 12.84   Avg score (100e): 12.53   actor gain: -0.43   critic loss: 0.42   steps: 901\n"
     ]
    },
    {
     "name": "stderr",
     "output_type": "stream",
     "text": [
      "training loop:   1% |                                  | ETA:  35 days, 4:43:10\r"
     ]
    },
    {
     "name": "stdout",
     "output_type": "stream",
     "text": [
      "Episode: 902   score: 12.84   Avg score (100e): 12.54   actor gain: -0.43   critic loss: 0.42   steps: 902\n"
     ]
    },
    {
     "name": "stderr",
     "output_type": "stream",
     "text": [
      "training loop:   1% |                                  | ETA:  35 days, 6:43:39\r"
     ]
    },
    {
     "name": "stdout",
     "output_type": "stream",
     "text": [
      "Episode: 903   score: 12.84   Avg score (100e): 12.54   actor gain: -0.42   critic loss: 0.42   steps: 903\n"
     ]
    },
    {
     "name": "stderr",
     "output_type": "stream",
     "text": [
      "training loop:   1% |                                  | ETA:  35 days, 6:41:18\r"
     ]
    },
    {
     "name": "stdout",
     "output_type": "stream",
     "text": [
      "Episode: 904   score: 12.85   Avg score (100e): 12.55   actor gain: -0.42   critic loss: 0.42   steps: 904\n"
     ]
    },
    {
     "name": "stderr",
     "output_type": "stream",
     "text": [
      "training loop:   1% |                                  | ETA:  35 days, 6:41:06\r"
     ]
    },
    {
     "name": "stdout",
     "output_type": "stream",
     "text": [
      "Episode: 905   score: 12.85   Avg score (100e): 12.56   actor gain: -0.42   critic loss: 0.42   steps: 905\n",
      "np.all(done) is true! miracle!\n"
     ]
    },
    {
     "name": "stderr",
     "output_type": "stream",
     "text": [
      "training loop:   1% |                                  | ETA:  35 days, 6:35:51\r"
     ]
    },
    {
     "name": "stdout",
     "output_type": "stream",
     "text": [
      "Episode: 906   score: 12.85   Avg score (100e): 12.56   actor gain: -0.42   critic loss: 0.42   steps: 906\n"
     ]
    },
    {
     "name": "stderr",
     "output_type": "stream",
     "text": [
      "training loop:   1% |                                  | ETA:  35 days, 6:36:49\r"
     ]
    },
    {
     "name": "stdout",
     "output_type": "stream",
     "text": [
      "Episode: 907   score: 12.85   Avg score (100e): 12.57   actor gain: -0.42   critic loss: 0.42   steps: 907\n"
     ]
    },
    {
     "name": "stderr",
     "output_type": "stream",
     "text": [
      "training loop:   1% |                                  | ETA:  36 days, 9:35:33\r"
     ]
    },
    {
     "name": "stdout",
     "output_type": "stream",
     "text": [
      "Episode: 908   score: 12.85   Avg score (100e): 12.58   actor gain: -0.42   critic loss: 0.42   steps: 908\n"
     ]
    },
    {
     "name": "stderr",
     "output_type": "stream",
     "text": [
      "training loop:   1% |                                  | ETA:  36 days, 9:31:10\r"
     ]
    },
    {
     "name": "stdout",
     "output_type": "stream",
     "text": [
      "Episode: 909   score: 12.86   Avg score (100e): 12.58   actor gain: -0.42   critic loss: 0.42   steps: 909\n"
     ]
    },
    {
     "name": "stderr",
     "output_type": "stream",
     "text": [
      "training loop:   1% |                                  | ETA:  36 days, 9:31:29\r"
     ]
    },
    {
     "name": "stdout",
     "output_type": "stream",
     "text": [
      "Episode: 910   score: 12.86   Avg score (100e): 12.59   actor gain: -0.42   critic loss: 0.42   steps: 910\n"
     ]
    },
    {
     "name": "stderr",
     "output_type": "stream",
     "text": [
      "training loop:   1% |                                  | ETA:  36 days, 9:26:03\r"
     ]
    },
    {
     "name": "stdout",
     "output_type": "stream",
     "text": [
      "Episode: 911   score: 12.86   Avg score (100e): 12.59   actor gain: -0.42   critic loss: 0.42   steps: 911\n"
     ]
    },
    {
     "name": "stderr",
     "output_type": "stream",
     "text": [
      "training loop:   1% |                                  | ETA:  36 days, 9:20:55\r"
     ]
    },
    {
     "name": "stdout",
     "output_type": "stream",
     "text": [
      "Episode: 912   score: 12.87   Avg score (100e): 12.60   actor gain: -0.42   critic loss: 0.42   steps: 912\n"
     ]
    },
    {
     "name": "stderr",
     "output_type": "stream",
     "text": [
      "training loop:   1% |                                  | ETA:  36 days, 9:17:04\r"
     ]
    },
    {
     "name": "stdout",
     "output_type": "stream",
     "text": [
      "Episode: 913   score: 12.87   Avg score (100e): 12.61   actor gain: -0.42   critic loss: 0.41   steps: 913\n"
     ]
    },
    {
     "name": "stderr",
     "output_type": "stream",
     "text": [
      "training loop:   1% |                                 | ETA:  36 days, 11:00:36\r"
     ]
    },
    {
     "name": "stdout",
     "output_type": "stream",
     "text": [
      "Episode: 914   score: 12.87   Avg score (100e): 12.61   actor gain: -0.43   critic loss: 0.41   steps: 914\n"
     ]
    },
    {
     "name": "stderr",
     "output_type": "stream",
     "text": [
      "training loop:   1% |                                 | ETA:  36 days, 11:13:41\r"
     ]
    },
    {
     "name": "stdout",
     "output_type": "stream",
     "text": [
      "Episode: 915   score: 12.89   Avg score (100e): 12.62   actor gain: -0.43   critic loss: 0.41   steps: 915\n"
     ]
    },
    {
     "name": "stderr",
     "output_type": "stream",
     "text": [
      "training loop:   1% |                                 | ETA:  36 days, 11:14:17\r"
     ]
    },
    {
     "name": "stdout",
     "output_type": "stream",
     "text": [
      "Episode: 916   score: 12.88   Avg score (100e): 12.62   actor gain: -0.43   critic loss: 0.41   steps: 916\n"
     ]
    },
    {
     "name": "stderr",
     "output_type": "stream",
     "text": [
      "training loop:   1% |                                 | ETA:  36 days, 11:12:21\r"
     ]
    },
    {
     "name": "stdout",
     "output_type": "stream",
     "text": [
      "Episode: 917   score: 12.88   Avg score (100e): 12.63   actor gain: -0.43   critic loss: 0.41   steps: 917\n"
     ]
    },
    {
     "name": "stderr",
     "output_type": "stream",
     "text": [
      "training loop:   1% |                                 | ETA:  36 days, 11:13:31\r"
     ]
    },
    {
     "name": "stdout",
     "output_type": "stream",
     "text": [
      "Episode: 918   score: 12.88   Avg score (100e): 12.64   actor gain: -0.44   critic loss: 0.41   steps: 918\n"
     ]
    },
    {
     "name": "stderr",
     "output_type": "stream",
     "text": [
      "training loop:   1% |                                 | ETA:  36 days, 11:09:04\r"
     ]
    },
    {
     "name": "stdout",
     "output_type": "stream",
     "text": [
      "Episode: 919   score: 12.89   Avg score (100e): 12.64   actor gain: -0.44   critic loss: 0.41   steps: 919\n"
     ]
    },
    {
     "name": "stderr",
     "output_type": "stream",
     "text": [
      "training loop:   1% |                                 | ETA:  36 days, 11:07:49\r"
     ]
    },
    {
     "name": "stdout",
     "output_type": "stream",
     "text": [
      "Episode: 920   score: 12.91   Avg score (100e): 12.65   actor gain: -0.41   critic loss: 0.41   steps: 920\n"
     ]
    },
    {
     "name": "stderr",
     "output_type": "stream",
     "text": [
      "training loop:   1% |                                 | ETA:  36 days, 11:12:25\r"
     ]
    },
    {
     "name": "stdout",
     "output_type": "stream",
     "text": [
      "Episode: 921   score: 12.90   Avg score (100e): 12.65   actor gain: -0.41   critic loss: 0.41   steps: 921\n"
     ]
    },
    {
     "name": "stderr",
     "output_type": "stream",
     "text": [
      "training loop:   1% |                                 | ETA:  36 days, 11:08:51\r"
     ]
    },
    {
     "name": "stdout",
     "output_type": "stream",
     "text": [
      "Episode: 922   score: 12.90   Avg score (100e): 12.66   actor gain: -0.41   critic loss: 0.41   steps: 922\n"
     ]
    },
    {
     "name": "stderr",
     "output_type": "stream",
     "text": [
      "training loop:   1% |                                 | ETA:  36 days, 11:03:36\r"
     ]
    },
    {
     "name": "stdout",
     "output_type": "stream",
     "text": [
      "Episode: 923   score: 12.89   Avg score (100e): 12.66   actor gain: -0.41   critic loss: 0.41   steps: 923\n"
     ]
    },
    {
     "name": "stderr",
     "output_type": "stream",
     "text": [
      "training loop:   1% |                                 | ETA:  36 days, 10:58:46\r"
     ]
    },
    {
     "name": "stdout",
     "output_type": "stream",
     "text": [
      "Episode: 924   score: 12.89   Avg score (100e): 12.67   actor gain: -0.41   critic loss: 0.41   steps: 924\n"
     ]
    },
    {
     "name": "stderr",
     "output_type": "stream",
     "text": [
      "training loop:   1% |                                 | ETA:  36 days, 10:52:50\r"
     ]
    },
    {
     "name": "stdout",
     "output_type": "stream",
     "text": [
      "Episode: 925   score: 12.91   Avg score (100e): 12.68   actor gain: -0.41   critic loss: 0.41   steps: 925\n"
     ]
    },
    {
     "name": "stderr",
     "output_type": "stream",
     "text": [
      "training loop:   1% |                                 | ETA:  36 days, 10:48:37\r"
     ]
    },
    {
     "name": "stdout",
     "output_type": "stream",
     "text": [
      "Episode: 926   score: 12.92   Avg score (100e): 12.68   actor gain: -0.41   critic loss: 0.41   steps: 926\n"
     ]
    },
    {
     "name": "stderr",
     "output_type": "stream",
     "text": [
      "training loop:   1% |                                 | ETA:  36 days, 16:06:58\r"
     ]
    },
    {
     "name": "stdout",
     "output_type": "stream",
     "text": [
      "Episode: 927   score: 12.93   Avg score (100e): 12.69   actor gain: -0.42   critic loss: 0.41   steps: 927\n"
     ]
    },
    {
     "name": "stderr",
     "output_type": "stream",
     "text": [
      "training loop:   1% |                                 | ETA:  36 days, 16:17:07\r"
     ]
    },
    {
     "name": "stdout",
     "output_type": "stream",
     "text": [
      "Episode: 928   score: 12.92   Avg score (100e): 12.69   actor gain: -0.42   critic loss: 0.41   steps: 928\n"
     ]
    },
    {
     "name": "stderr",
     "output_type": "stream",
     "text": [
      "training loop:   1% |                                 | ETA:  36 days, 16:29:20\r"
     ]
    },
    {
     "name": "stdout",
     "output_type": "stream",
     "text": [
      "Episode: 929   score: 12.93   Avg score (100e): 12.70   actor gain: -0.42   critic loss: 0.41   steps: 929\n"
     ]
    },
    {
     "name": "stderr",
     "output_type": "stream",
     "text": [
      "training loop:   1% |                                 | ETA:  36 days, 16:36:25\r"
     ]
    },
    {
     "name": "stdout",
     "output_type": "stream",
     "text": [
      "Episode: 930   score: 12.93   Avg score (100e): 12.70   actor gain: -0.41   critic loss: 0.41   steps: 930\n",
      "np.all(done) is true! miracle!\n"
     ]
    },
    {
     "name": "stderr",
     "output_type": "stream",
     "text": [
      "training loop:   1% |                                 | ETA:  36 days, 16:31:05\r"
     ]
    },
    {
     "name": "stdout",
     "output_type": "stream",
     "text": [
      "Episode: 931   score: 12.93   Avg score (100e): 12.71   actor gain: -0.41   critic loss: 0.41   steps: 931\n"
     ]
    },
    {
     "name": "stderr",
     "output_type": "stream",
     "text": [
      "training loop:   1% |                                 | ETA:  36 days, 16:19:31\r"
     ]
    },
    {
     "name": "stdout",
     "output_type": "stream",
     "text": [
      "Episode: 932   score: 12.93   Avg score (100e): 12.71   actor gain: -0.41   critic loss: 0.41   steps: 932\n"
     ]
    },
    {
     "name": "stderr",
     "output_type": "stream",
     "text": [
      "training loop:   1% |                                 | ETA:  36 days, 16:23:04\r"
     ]
    },
    {
     "name": "stdout",
     "output_type": "stream",
     "text": [
      "Episode: 933   score: 12.93   Avg score (100e): 12.72   actor gain: -0.41   critic loss: 0.42   steps: 933\n"
     ]
    },
    {
     "name": "stderr",
     "output_type": "stream",
     "text": [
      "training loop:   1% |                                 | ETA:  36 days, 16:14:46\r"
     ]
    },
    {
     "name": "stdout",
     "output_type": "stream",
     "text": [
      "Episode: 934   score: 12.95   Avg score (100e): 12.72   actor gain: -0.41   critic loss: 0.42   steps: 934\n",
      "np.all(done) is true! miracle!\n"
     ]
    },
    {
     "name": "stderr",
     "output_type": "stream",
     "text": [
      "training loop:   1% |                                 | ETA:  36 days, 16:11:22\r"
     ]
    },
    {
     "name": "stdout",
     "output_type": "stream",
     "text": [
      "Episode: 935   score: 12.94   Avg score (100e): 12.73   actor gain: -0.41   critic loss: 0.42   steps: 935\n"
     ]
    },
    {
     "name": "stderr",
     "output_type": "stream",
     "text": [
      "training loop:   1% |                                 | ETA:  36 days, 16:10:17\r"
     ]
    },
    {
     "name": "stdout",
     "output_type": "stream",
     "text": [
      "Episode: 936   score: 12.94   Avg score (100e): 12.74   actor gain: -0.41   critic loss: 0.42   steps: 936\n"
     ]
    },
    {
     "name": "stderr",
     "output_type": "stream",
     "text": [
      "training loop:   1% |                                 | ETA:  36 days, 16:03:35\r"
     ]
    },
    {
     "name": "stdout",
     "output_type": "stream",
     "text": [
      "Episode: 937   score: 12.95   Avg score (100e): 12.74   actor gain: -0.41   critic loss: 0.42   steps: 937\n"
     ]
    },
    {
     "name": "stderr",
     "output_type": "stream",
     "text": [
      "training loop:   1% |                                 | ETA:  36 days, 15:59:34\r"
     ]
    },
    {
     "name": "stdout",
     "output_type": "stream",
     "text": [
      "Episode: 938   score: 12.95   Avg score (100e): 12.75   actor gain: -0.41   critic loss: 0.42   steps: 938\n"
     ]
    },
    {
     "name": "stderr",
     "output_type": "stream",
     "text": [
      "training loop:   1% |                                 | ETA:  36 days, 16:02:45\r"
     ]
    },
    {
     "name": "stdout",
     "output_type": "stream",
     "text": [
      "Episode: 939   score: 12.95   Avg score (100e): 12.75   actor gain: -0.41   critic loss: 0.42   steps: 939\n"
     ]
    },
    {
     "name": "stderr",
     "output_type": "stream",
     "text": [
      "training loop:   1% |                                 | ETA:  36 days, 16:08:52\r"
     ]
    },
    {
     "name": "stdout",
     "output_type": "stream",
     "text": [
      "Episode: 940   score: 12.95   Avg score (100e): 12.76   actor gain: -0.41   critic loss: 0.42   steps: 940\n"
     ]
    },
    {
     "name": "stderr",
     "output_type": "stream",
     "text": [
      "training loop:   1% |                                 | ETA:  36 days, 16:44:13\r"
     ]
    },
    {
     "name": "stdout",
     "output_type": "stream",
     "text": [
      "Episode: 941   score: 12.95   Avg score (100e): 12.76   actor gain: -0.41   critic loss: 0.42   steps: 941\n"
     ]
    },
    {
     "name": "stderr",
     "output_type": "stream",
     "text": [
      "training loop:   1% |                                 | ETA:  36 days, 16:47:22\r"
     ]
    },
    {
     "name": "stdout",
     "output_type": "stream",
     "text": [
      "Episode: 942   score: 12.95   Avg score (100e): 12.77   actor gain: -0.41   critic loss: 0.42   steps: 942\n"
     ]
    },
    {
     "name": "stderr",
     "output_type": "stream",
     "text": [
      "training loop:   1% |                                 | ETA:  36 days, 16:46:43\r"
     ]
    },
    {
     "name": "stdout",
     "output_type": "stream",
     "text": [
      "Episode: 943   score: 12.96   Avg score (100e): 12.77   actor gain: -0.40   critic loss: 0.42   steps: 943\n"
     ]
    },
    {
     "name": "stderr",
     "output_type": "stream",
     "text": [
      "training loop:   1% |                                 | ETA:  36 days, 16:54:00\r"
     ]
    },
    {
     "name": "stdout",
     "output_type": "stream",
     "text": [
      "Episode: 944   score: 12.97   Avg score (100e): 12.77   actor gain: -0.41   critic loss: 0.42   steps: 944\n"
     ]
    },
    {
     "name": "stderr",
     "output_type": "stream",
     "text": [
      "training loop:   1% |                                 | ETA:  36 days, 16:56:37\r"
     ]
    },
    {
     "name": "stdout",
     "output_type": "stream",
     "text": [
      "Episode: 945   score: 12.98   Avg score (100e): 12.78   actor gain: -0.41   critic loss: 0.42   steps: 945\n"
     ]
    },
    {
     "name": "stderr",
     "output_type": "stream",
     "text": [
      "training loop:   1% |                                 | ETA:  36 days, 16:59:56\r"
     ]
    },
    {
     "name": "stdout",
     "output_type": "stream",
     "text": [
      "Episode: 946   score: 12.99   Avg score (100e): 12.78   actor gain: -0.41   critic loss: 0.42   steps: 946\n"
     ]
    },
    {
     "name": "stderr",
     "output_type": "stream",
     "text": [
      "training loop:   1% |                                 | ETA:  36 days, 17:11:59\r"
     ]
    },
    {
     "name": "stdout",
     "output_type": "stream",
     "text": [
      "Episode: 947   score: 13.00   Avg score (100e): 12.79   actor gain: -0.41   critic loss: 0.42   steps: 947\n"
     ]
    },
    {
     "name": "stderr",
     "output_type": "stream",
     "text": [
      "training loop:   1% |                                 | ETA:  36 days, 17:11:56\r"
     ]
    },
    {
     "name": "stdout",
     "output_type": "stream",
     "text": [
      "Episode: 948   score: 13.00   Avg score (100e): 12.79   actor gain: -0.41   critic loss: 0.42   steps: 948\n"
     ]
    },
    {
     "name": "stderr",
     "output_type": "stream",
     "text": [
      "training loop:   1% |                                 | ETA:  36 days, 17:14:32\r"
     ]
    },
    {
     "name": "stdout",
     "output_type": "stream",
     "text": [
      "Episode: 949   score: 13.00   Avg score (100e): 12.80   actor gain: -0.41   critic loss: 0.42   steps: 949\n"
     ]
    },
    {
     "name": "stderr",
     "output_type": "stream",
     "text": [
      "training loop:   1% |                                 | ETA:  36 days, 17:13:31\r"
     ]
    },
    {
     "name": "stdout",
     "output_type": "stream",
     "text": [
      "Episode: 950   score: 13.01   Avg score (100e): 12.80   actor gain: -0.41   critic loss: 0.42   steps: 950\n"
     ]
    },
    {
     "name": "stderr",
     "output_type": "stream",
     "text": [
      "training loop:   1% |                                 | ETA:  36 days, 17:18:23\r"
     ]
    },
    {
     "name": "stdout",
     "output_type": "stream",
     "text": [
      "Episode: 951   score: 13.01   Avg score (100e): 12.81   actor gain: -0.41   critic loss: 0.42   steps: 951\n"
     ]
    },
    {
     "name": "stderr",
     "output_type": "stream",
     "text": [
      "training loop:   1% |                                 | ETA:  36 days, 17:16:46\r"
     ]
    },
    {
     "name": "stdout",
     "output_type": "stream",
     "text": [
      "Episode: 952   score: 13.02   Avg score (100e): 12.81   actor gain: -0.40   critic loss: 0.42   steps: 952\n"
     ]
    },
    {
     "name": "stderr",
     "output_type": "stream",
     "text": [
      "training loop:   1% |                                 | ETA:  36 days, 17:17:01\r"
     ]
    },
    {
     "name": "stdout",
     "output_type": "stream",
     "text": [
      "Episode: 953   score: 13.02   Avg score (100e): 12.82   actor gain: -0.40   critic loss: 0.42   steps: 953\n"
     ]
    },
    {
     "name": "stderr",
     "output_type": "stream",
     "text": [
      "training loop:   1% |                                 | ETA:  36 days, 17:40:40\r"
     ]
    },
    {
     "name": "stdout",
     "output_type": "stream",
     "text": [
      "Episode: 954   score: 13.01   Avg score (100e): 12.82   actor gain: -0.40   critic loss: 0.42   steps: 954\n"
     ]
    },
    {
     "name": "stderr",
     "output_type": "stream",
     "text": [
      "training loop:   1% |                                 | ETA:  36 days, 17:53:19\r"
     ]
    },
    {
     "name": "stdout",
     "output_type": "stream",
     "text": [
      "Episode: 955   score: 13.02   Avg score (100e): 12.83   actor gain: -0.40   critic loss: 0.42   steps: 955\n"
     ]
    },
    {
     "name": "stderr",
     "output_type": "stream",
     "text": [
      "training loop:   1% |                                 | ETA:  36 days, 18:00:41\r"
     ]
    },
    {
     "name": "stdout",
     "output_type": "stream",
     "text": [
      "Episode: 956   score: 13.03   Avg score (100e): 12.83   actor gain: -0.40   critic loss: 0.42   steps: 956\n"
     ]
    },
    {
     "name": "stderr",
     "output_type": "stream",
     "text": [
      "training loop:   1% |                                 | ETA:  36 days, 18:06:12\r"
     ]
    },
    {
     "name": "stdout",
     "output_type": "stream",
     "text": [
      "Episode: 957   score: 13.03   Avg score (100e): 12.83   actor gain: -0.40   critic loss: 0.42   steps: 957\n"
     ]
    },
    {
     "name": "stderr",
     "output_type": "stream",
     "text": [
      "training loop:   1% |                                 | ETA:  36 days, 18:09:58\r"
     ]
    },
    {
     "name": "stdout",
     "output_type": "stream",
     "text": [
      "Episode: 958   score: 13.03   Avg score (100e): 12.84   actor gain: -0.40   critic loss: 0.42   steps: 958\n"
     ]
    },
    {
     "name": "stderr",
     "output_type": "stream",
     "text": [
      "training loop:   1% |                                 | ETA:  36 days, 18:09:19\r"
     ]
    },
    {
     "name": "stdout",
     "output_type": "stream",
     "text": [
      "Episode: 959   score: 13.04   Avg score (100e): 12.84   actor gain: -0.40   critic loss: 0.42   steps: 959\n"
     ]
    },
    {
     "name": "stderr",
     "output_type": "stream",
     "text": [
      "training loop:   1% |                                 | ETA:  36 days, 18:12:18\r"
     ]
    },
    {
     "name": "stdout",
     "output_type": "stream",
     "text": [
      "Episode: 960   score: 13.04   Avg score (100e): 12.85   actor gain: -0.40   critic loss: 0.42   steps: 960\n"
     ]
    },
    {
     "name": "stderr",
     "output_type": "stream",
     "text": [
      "training loop:   1% |                                 | ETA:  36 days, 18:21:16\r"
     ]
    },
    {
     "name": "stdout",
     "output_type": "stream",
     "text": [
      "Episode: 961   score: 13.05   Avg score (100e): 12.85   actor gain: -0.40   critic loss: 0.42   steps: 961\n"
     ]
    },
    {
     "name": "stderr",
     "output_type": "stream",
     "text": [
      "training loop:   1% |                                 | ETA:  36 days, 18:31:47\r"
     ]
    },
    {
     "name": "stdout",
     "output_type": "stream",
     "text": [
      "Episode: 962   score: 13.05   Avg score (100e): 12.86   actor gain: -0.40   critic loss: 0.41   steps: 962\n"
     ]
    },
    {
     "name": "stderr",
     "output_type": "stream",
     "text": [
      "training loop:   1% |                                 | ETA:  36 days, 18:33:38\r"
     ]
    },
    {
     "name": "stdout",
     "output_type": "stream",
     "text": [
      "Episode: 963   score: 13.05   Avg score (100e): 12.86   actor gain: -0.40   critic loss: 0.41   steps: 963\n",
      "np.all(done) is true! miracle!\n"
     ]
    },
    {
     "name": "stderr",
     "output_type": "stream",
     "text": [
      "training loop:   1% |                                 | ETA:  36 days, 18:33:00\r"
     ]
    },
    {
     "name": "stdout",
     "output_type": "stream",
     "text": [
      "Episode: 964   score: 13.05   Avg score (100e): 12.86   actor gain: -0.40   critic loss: 0.41   steps: 964\n"
     ]
    },
    {
     "name": "stderr",
     "output_type": "stream",
     "text": [
      "training loop:   1% |                                 | ETA:  36 days, 18:51:39\r"
     ]
    },
    {
     "name": "stdout",
     "output_type": "stream",
     "text": [
      "Episode: 965   score: 13.05   Avg score (100e): 12.87   actor gain: -0.40   critic loss: 0.41   steps: 965\n"
     ]
    },
    {
     "name": "stderr",
     "output_type": "stream",
     "text": [
      "training loop:   1% |                                 | ETA:  36 days, 18:57:40\r"
     ]
    },
    {
     "name": "stdout",
     "output_type": "stream",
     "text": [
      "Episode: 966   score: 13.06   Avg score (100e): 12.87   actor gain: -0.40   critic loss: 0.41   steps: 966\n"
     ]
    },
    {
     "name": "stderr",
     "output_type": "stream",
     "text": [
      "training loop:   1% |                                 | ETA:  36 days, 19:04:22\r"
     ]
    },
    {
     "name": "stdout",
     "output_type": "stream",
     "text": [
      "Episode: 967   score: 13.06   Avg score (100e): 12.88   actor gain: -0.40   critic loss: 0.41   steps: 967\n",
      "np.all(done) is true! miracle!\n"
     ]
    },
    {
     "name": "stderr",
     "output_type": "stream",
     "text": [
      "training loop:   1% |                                 | ETA:  36 days, 19:17:44\r"
     ]
    },
    {
     "name": "stdout",
     "output_type": "stream",
     "text": [
      "Episode: 968   score: 13.07   Avg score (100e): 12.88   actor gain: -0.40   critic loss: 0.41   steps: 968\n"
     ]
    },
    {
     "name": "stderr",
     "output_type": "stream",
     "text": [
      "training loop:   1% |                                 | ETA:  36 days, 19:51:01\r"
     ]
    },
    {
     "name": "stdout",
     "output_type": "stream",
     "text": [
      "Episode: 969   score: 13.07   Avg score (100e): 12.88   actor gain: -0.39   critic loss: 0.41   steps: 969\n"
     ]
    },
    {
     "name": "stderr",
     "output_type": "stream",
     "text": [
      "training loop:   1% |                                 | ETA:  36 days, 20:08:25\r"
     ]
    },
    {
     "name": "stdout",
     "output_type": "stream",
     "text": [
      "Episode: 970   score: 13.07   Avg score (100e): 12.89   actor gain: -0.39   critic loss: 0.41   steps: 970\n"
     ]
    },
    {
     "name": "stderr",
     "output_type": "stream",
     "text": [
      "training loop:   1% |                                 | ETA:  36 days, 20:09:45\r"
     ]
    },
    {
     "name": "stdout",
     "output_type": "stream",
     "text": [
      "Episode: 971   score: 13.07   Avg score (100e): 12.89   actor gain: -0.40   critic loss: 0.41   steps: 971\n"
     ]
    },
    {
     "name": "stderr",
     "output_type": "stream",
     "text": [
      "training loop:   1% |                                 | ETA:  36 days, 20:08:25\r"
     ]
    },
    {
     "name": "stdout",
     "output_type": "stream",
     "text": [
      "Episode: 972   score: 13.08   Avg score (100e): 12.90   actor gain: -0.39   critic loss: 0.41   steps: 972\n"
     ]
    },
    {
     "name": "stderr",
     "output_type": "stream",
     "text": [
      "training loop:   1% |                                 | ETA:  36 days, 20:10:47\r"
     ]
    },
    {
     "name": "stdout",
     "output_type": "stream",
     "text": [
      "Episode: 973   score: 13.07   Avg score (100e): 12.90   actor gain: -0.39   critic loss: 0.41   steps: 973\n"
     ]
    },
    {
     "name": "stderr",
     "output_type": "stream",
     "text": [
      "training loop:   1% |                                 | ETA:  36 days, 20:10:13\r"
     ]
    },
    {
     "name": "stdout",
     "output_type": "stream",
     "text": [
      "Episode: 974   score: 13.09   Avg score (100e): 12.91   actor gain: -0.39   critic loss: 0.41   steps: 974\n"
     ]
    },
    {
     "name": "stderr",
     "output_type": "stream",
     "text": [
      "training loop:   1% |                                 | ETA:  36 days, 20:24:13\r"
     ]
    },
    {
     "name": "stdout",
     "output_type": "stream",
     "text": [
      "Episode: 975   score: 13.09   Avg score (100e): 12.91   actor gain: -0.39   critic loss: 0.41   steps: 975\n"
     ]
    },
    {
     "name": "stderr",
     "output_type": "stream",
     "text": [
      "training loop:   1% |                                 | ETA:  36 days, 20:35:40\r"
     ]
    },
    {
     "name": "stdout",
     "output_type": "stream",
     "text": [
      "Episode: 976   score: 13.10   Avg score (100e): 12.91   actor gain: -0.39   critic loss: 0.41   steps: 976\n"
     ]
    },
    {
     "name": "stderr",
     "output_type": "stream",
     "text": [
      "training loop:   1% |                                 | ETA:  36 days, 20:34:11\r"
     ]
    },
    {
     "name": "stdout",
     "output_type": "stream",
     "text": [
      "Episode: 977   score: 13.10   Avg score (100e): 12.92   actor gain: -0.40   critic loss: 0.41   steps: 977\n"
     ]
    },
    {
     "name": "stderr",
     "output_type": "stream",
     "text": [
      "training loop:   1% |                                 | ETA:  36 days, 20:47:47\r"
     ]
    },
    {
     "name": "stdout",
     "output_type": "stream",
     "text": [
      "Episode: 978   score: 13.11   Avg score (100e): 12.92   actor gain: -0.39   critic loss: 0.41   steps: 978\n"
     ]
    },
    {
     "name": "stderr",
     "output_type": "stream",
     "text": [
      "training loop:   1% |                                 | ETA:  36 days, 20:55:24\r"
     ]
    },
    {
     "name": "stdout",
     "output_type": "stream",
     "text": [
      "Episode: 979   score: 13.12   Avg score (100e): 12.93   actor gain: -0.39   critic loss: 0.41   steps: 979\n"
     ]
    },
    {
     "name": "stderr",
     "output_type": "stream",
     "text": [
      "training loop:   1% |                                 | ETA:  36 days, 21:08:57\r"
     ]
    },
    {
     "name": "stdout",
     "output_type": "stream",
     "text": [
      "Episode: 980   score: 13.11   Avg score (100e): 12.93   actor gain: -0.39   critic loss: 0.41   steps: 980\n"
     ]
    },
    {
     "name": "stderr",
     "output_type": "stream",
     "text": [
      "training loop:   1% |                                 | ETA:  36 days, 21:13:14\r"
     ]
    },
    {
     "name": "stdout",
     "output_type": "stream",
     "text": [
      "Episode: 981   score: 13.12   Avg score (100e): 12.93   actor gain: -0.39   critic loss: 0.41   steps: 981\n"
     ]
    },
    {
     "name": "stderr",
     "output_type": "stream",
     "text": [
      "training loop:   1% |                                 | ETA:  36 days, 21:35:11\r"
     ]
    },
    {
     "name": "stdout",
     "output_type": "stream",
     "text": [
      "Episode: 982   score: 13.13   Avg score (100e): 12.94   actor gain: -0.39   critic loss: 0.41   steps: 982\n"
     ]
    },
    {
     "name": "stderr",
     "output_type": "stream",
     "text": [
      "training loop:   1% |                                 | ETA:  36 days, 21:38:09\r"
     ]
    },
    {
     "name": "stdout",
     "output_type": "stream",
     "text": [
      "Episode: 983   score: 13.14   Avg score (100e): 12.94   actor gain: -0.39   critic loss: 0.41   steps: 983\n"
     ]
    },
    {
     "name": "stderr",
     "output_type": "stream",
     "text": [
      "training loop:   1% |                                 | ETA:  36 days, 21:42:17\r"
     ]
    },
    {
     "name": "stdout",
     "output_type": "stream",
     "text": [
      "Episode: 984   score: 13.16   Avg score (100e): 12.95   actor gain: -0.39   critic loss: 0.41   steps: 984\n"
     ]
    },
    {
     "name": "stderr",
     "output_type": "stream",
     "text": [
      "training loop:   1% |                                 | ETA:  36 days, 21:38:39\r"
     ]
    },
    {
     "name": "stdout",
     "output_type": "stream",
     "text": [
      "Episode: 985   score: 13.16   Avg score (100e): 12.95   actor gain: -0.39   critic loss: 0.41   steps: 985\n"
     ]
    },
    {
     "name": "stderr",
     "output_type": "stream",
     "text": [
      "training loop:   1% |                                 | ETA:  36 days, 21:32:54\r"
     ]
    },
    {
     "name": "stdout",
     "output_type": "stream",
     "text": [
      "Episode: 986   score: 13.17   Avg score (100e): 12.96   actor gain: -0.39   critic loss: 0.41   steps: 986\n"
     ]
    },
    {
     "name": "stderr",
     "output_type": "stream",
     "text": [
      "training loop:   1% |                                 | ETA:  36 days, 21:31:16\r"
     ]
    },
    {
     "name": "stdout",
     "output_type": "stream",
     "text": [
      "Episode: 987   score: 13.17   Avg score (100e): 12.96   actor gain: -0.39   critic loss: 0.41   steps: 987\n"
     ]
    },
    {
     "name": "stderr",
     "output_type": "stream",
     "text": [
      "training loop:   1% |                                 | ETA:  36 days, 21:20:31\r"
     ]
    },
    {
     "name": "stdout",
     "output_type": "stream",
     "text": [
      "Episode: 988   score: 13.18   Avg score (100e): 12.96   actor gain: -0.39   critic loss: 0.42   steps: 988\n"
     ]
    },
    {
     "name": "stderr",
     "output_type": "stream",
     "text": [
      "training loop:   1% |                                 | ETA:  36 days, 21:09:40\r"
     ]
    },
    {
     "name": "stdout",
     "output_type": "stream",
     "text": [
      "Episode: 989   score: 13.19   Avg score (100e): 12.97   actor gain: -0.39   critic loss: 0.42   steps: 989\n"
     ]
    },
    {
     "name": "stderr",
     "output_type": "stream",
     "text": [
      "training loop:   1% |                                 | ETA:  36 days, 20:59:18\r"
     ]
    },
    {
     "name": "stdout",
     "output_type": "stream",
     "text": [
      "Episode: 990   score: 13.19   Avg score (100e): 12.97   actor gain: -0.53   critic loss: 0.42   steps: 990\n"
     ]
    },
    {
     "name": "stderr",
     "output_type": "stream",
     "text": [
      "training loop:   1% |                                 | ETA:  36 days, 21:06:19\r"
     ]
    },
    {
     "name": "stdout",
     "output_type": "stream",
     "text": [
      "Episode: 991   score: 13.19   Avg score (100e): 12.98   actor gain: -0.52   critic loss: 0.42   steps: 991\n"
     ]
    },
    {
     "name": "stderr",
     "output_type": "stream",
     "text": [
      "training loop:   1% |                                 | ETA:  36 days, 21:05:45\r"
     ]
    },
    {
     "name": "stdout",
     "output_type": "stream",
     "text": [
      "Episode: 992   score: 13.20   Avg score (100e): 12.98   actor gain: -0.52   critic loss: 0.42   steps: 992\n"
     ]
    },
    {
     "name": "stderr",
     "output_type": "stream",
     "text": [
      "training loop:   1% |                                 | ETA:  36 days, 21:06:47\r"
     ]
    },
    {
     "name": "stdout",
     "output_type": "stream",
     "text": [
      "Episode: 993   score: 13.21   Avg score (100e): 12.98   actor gain: -0.53   critic loss: 0.42   steps: 993\n"
     ]
    },
    {
     "name": "stderr",
     "output_type": "stream",
     "text": [
      "training loop:   1% |                                 | ETA:  36 days, 21:06:48\r"
     ]
    },
    {
     "name": "stdout",
     "output_type": "stream",
     "text": [
      "Episode: 994   score: 13.22   Avg score (100e): 12.99   actor gain: -0.53   critic loss: 0.42   steps: 994\n"
     ]
    },
    {
     "name": "stderr",
     "output_type": "stream",
     "text": [
      "training loop:   1% |                                 | ETA:  36 days, 21:03:59\r"
     ]
    },
    {
     "name": "stdout",
     "output_type": "stream",
     "text": [
      "Episode: 995   score: 13.23   Avg score (100e): 12.99   actor gain: -0.53   critic loss: 0.42   steps: 995\n",
      "np.all(done) is true! miracle!\n"
     ]
    },
    {
     "name": "stderr",
     "output_type": "stream",
     "text": [
      "training loop:   1% |                                 | ETA:  36 days, 21:02:04\r"
     ]
    },
    {
     "name": "stdout",
     "output_type": "stream",
     "text": [
      "Episode: 996   score: 13.24   Avg score (100e): 13.00   actor gain: -0.52   critic loss: 0.42   steps: 996\n"
     ]
    },
    {
     "name": "stderr",
     "output_type": "stream",
     "text": [
      "training loop:   1% |                                 | ETA:  36 days, 20:59:29\r"
     ]
    },
    {
     "name": "stdout",
     "output_type": "stream",
     "text": [
      "Episode: 997   score: 13.25   Avg score (100e): 13.00   actor gain: -0.53   critic loss: 0.42   steps: 997\n"
     ]
    },
    {
     "name": "stderr",
     "output_type": "stream",
     "text": [
      "training loop:   1% |                                 | ETA:  36 days, 20:58:14\r"
     ]
    },
    {
     "name": "stdout",
     "output_type": "stream",
     "text": [
      "Episode: 998   score: 13.25   Avg score (100e): 13.00   actor gain: -0.53   critic loss: 0.42   steps: 998\n"
     ]
    },
    {
     "name": "stderr",
     "output_type": "stream",
     "text": [
      "training loop:   1% |                                 | ETA:  36 days, 20:57:44\r"
     ]
    },
    {
     "name": "stdout",
     "output_type": "stream",
     "text": [
      "Episode: 999   score: 13.24   Avg score (100e): 13.01   actor gain: -0.53   critic loss: 0.42   steps: 999\n"
     ]
    },
    {
     "name": "stderr",
     "output_type": "stream",
     "text": [
      "training loop:   1% |                                 | ETA:  36 days, 20:44:53\r"
     ]
    },
    {
     "name": "stdout",
     "output_type": "stream",
     "text": [
      "Episode: 1000   score: 13.26   Avg score (100e): 13.01   actor gain: -0.52   critic loss: 0.42   steps: 1000\n"
     ]
    },
    {
     "name": "stderr",
     "output_type": "stream",
     "text": [
      "training loop:   2% |                                 | ETA:  36 days, 20:27:15\r"
     ]
    },
    {
     "name": "stdout",
     "output_type": "stream",
     "text": [
      "Episode: 1001   score: 13.26   Avg score (100e): 13.02   actor gain: -0.52   critic loss: 0.42   steps: 1001\n"
     ]
    },
    {
     "name": "stderr",
     "output_type": "stream",
     "text": [
      "training loop:   2% |                                 | ETA:  36 days, 20:10:41\r"
     ]
    },
    {
     "name": "stdout",
     "output_type": "stream",
     "text": [
      "Episode: 1002   score: 13.26   Avg score (100e): 13.02   actor gain: -0.53   critic loss: 0.42   steps: 1002\n"
     ]
    },
    {
     "name": "stderr",
     "output_type": "stream",
     "text": [
      "training loop:   2% |                                 | ETA:  36 days, 19:56:48\r"
     ]
    },
    {
     "name": "stdout",
     "output_type": "stream",
     "text": [
      "Episode: 1003   score: 13.28   Avg score (100e): 13.03   actor gain: -0.53   critic loss: 0.42   steps: 1003\n"
     ]
    },
    {
     "name": "stderr",
     "output_type": "stream",
     "text": [
      "training loop:   2% |                                 | ETA:  36 days, 19:42:12\r"
     ]
    },
    {
     "name": "stdout",
     "output_type": "stream",
     "text": [
      "Episode: 1004   score: 13.29   Avg score (100e): 13.03   actor gain: -0.53   critic loss: 0.41   steps: 1004\n"
     ]
    },
    {
     "name": "stderr",
     "output_type": "stream",
     "text": [
      "training loop:   2% |                                 | ETA:  36 days, 19:35:55\r"
     ]
    },
    {
     "name": "stdout",
     "output_type": "stream",
     "text": [
      "Episode: 1005   score: 13.29   Avg score (100e): 13.03   actor gain: -0.53   critic loss: 0.41   steps: 1005\n"
     ]
    },
    {
     "name": "stderr",
     "output_type": "stream",
     "text": [
      "training loop:   2% |                                 | ETA:  36 days, 19:24:45\r"
     ]
    },
    {
     "name": "stdout",
     "output_type": "stream",
     "text": [
      "Episode: 1006   score: 13.30   Avg score (100e): 13.04   actor gain: -0.53   critic loss: 0.41   steps: 1006\n"
     ]
    },
    {
     "name": "stderr",
     "output_type": "stream",
     "text": [
      "training loop:   2% |                                 | ETA:  36 days, 19:11:04\r"
     ]
    },
    {
     "name": "stdout",
     "output_type": "stream",
     "text": [
      "Episode: 1007   score: 13.30   Avg score (100e): 13.04   actor gain: -0.53   critic loss: 0.41   steps: 1007\n",
      "np.all(done) is true! miracle!\n"
     ]
    },
    {
     "name": "stderr",
     "output_type": "stream",
     "text": [
      "training loop:   2% |                                 | ETA:  36 days, 18:52:16\r"
     ]
    },
    {
     "name": "stdout",
     "output_type": "stream",
     "text": [
      "Episode: 1008   score: 13.30   Avg score (100e): 13.05   actor gain: -0.53   critic loss: 0.41   steps: 1008\n"
     ]
    },
    {
     "name": "stderr",
     "output_type": "stream",
     "text": [
      "training loop:   2% |                                 | ETA:  36 days, 18:32:56\r"
     ]
    },
    {
     "name": "stdout",
     "output_type": "stream",
     "text": [
      "Episode: 1009   score: 13.30   Avg score (100e): 13.05   actor gain: -0.53   critic loss: 0.41   steps: 1009\n"
     ]
    },
    {
     "name": "stderr",
     "output_type": "stream",
     "text": [
      "training loop:   2% |                                 | ETA:  36 days, 18:16:20\r"
     ]
    },
    {
     "name": "stdout",
     "output_type": "stream",
     "text": [
      "Episode: 1010   score: 13.30   Avg score (100e): 13.06   actor gain: -0.53   critic loss: 0.41   steps: 1010\n"
     ]
    },
    {
     "name": "stderr",
     "output_type": "stream",
     "text": [
      "training loop:   2% |                                 | ETA:  36 days, 18:14:17\r"
     ]
    },
    {
     "name": "stdout",
     "output_type": "stream",
     "text": [
      "Episode: 1011   score: 13.32   Avg score (100e): 13.06   actor gain: -0.53   critic loss: 0.41   steps: 1011\n"
     ]
    },
    {
     "name": "stderr",
     "output_type": "stream",
     "text": [
      "training loop:   2% |                                 | ETA:  36 days, 18:18:06\r"
     ]
    },
    {
     "name": "stdout",
     "output_type": "stream",
     "text": [
      "Episode: 1012   score: 13.32   Avg score (100e): 13.07   actor gain: -0.53   critic loss: 0.41   steps: 1012\n"
     ]
    },
    {
     "name": "stderr",
     "output_type": "stream",
     "text": [
      "training loop:   2% |                                 | ETA:  36 days, 18:24:54\r"
     ]
    },
    {
     "name": "stdout",
     "output_type": "stream",
     "text": [
      "Episode: 1013   score: 13.33   Avg score (100e): 13.07   actor gain: -0.53   critic loss: 0.41   steps: 1013\n"
     ]
    },
    {
     "name": "stderr",
     "output_type": "stream",
     "text": [
      "training loop:   2% |                                 | ETA:  36 days, 18:45:32\r"
     ]
    },
    {
     "name": "stdout",
     "output_type": "stream",
     "text": [
      "Episode: 1014   score: 13.34   Avg score (100e): 13.08   actor gain: -0.53   critic loss: 0.41   steps: 1014\n"
     ]
    },
    {
     "name": "stderr",
     "output_type": "stream",
     "text": [
      "training loop:   2% |                                 | ETA:  36 days, 18:52:34\r"
     ]
    },
    {
     "name": "stdout",
     "output_type": "stream",
     "text": [
      "Episode: 1015   score: 13.34   Avg score (100e): 13.08   actor gain: -0.40   critic loss: 0.41   steps: 1015\n"
     ]
    },
    {
     "name": "stderr",
     "output_type": "stream",
     "text": [
      "training loop:   2% |                                 | ETA:  36 days, 19:00:39\r"
     ]
    },
    {
     "name": "stdout",
     "output_type": "stream",
     "text": [
      "Episode: 1016   score: 13.34   Avg score (100e): 13.08   actor gain: -0.40   critic loss: 0.41   steps: 1016\n"
     ]
    },
    {
     "name": "stderr",
     "output_type": "stream",
     "text": [
      "training loop:   2% |                                 | ETA:  36 days, 19:03:19\r"
     ]
    },
    {
     "name": "stdout",
     "output_type": "stream",
     "text": [
      "Episode: 1017   score: 13.35   Avg score (100e): 13.09   actor gain: -0.40   critic loss: 0.41   steps: 1017\n"
     ]
    },
    {
     "name": "stderr",
     "output_type": "stream",
     "text": [
      "training loop:   2% |                                 | ETA:  36 days, 19:04:48\r"
     ]
    },
    {
     "name": "stdout",
     "output_type": "stream",
     "text": [
      "Episode: 1018   score: 13.35   Avg score (100e): 13.09   actor gain: -0.40   critic loss: 0.41   steps: 1018\n"
     ]
    },
    {
     "name": "stderr",
     "output_type": "stream",
     "text": [
      "training loop:   2% |                                 | ETA:  36 days, 19:03:41\r"
     ]
    },
    {
     "name": "stdout",
     "output_type": "stream",
     "text": [
      "Episode: 1019   score: 13.36   Avg score (100e): 13.10   actor gain: -0.40   critic loss: 0.41   steps: 1019\n"
     ]
    },
    {
     "name": "stderr",
     "output_type": "stream",
     "text": [
      "training loop:   2% |                                 | ETA:  36 days, 18:59:28\r"
     ]
    },
    {
     "name": "stdout",
     "output_type": "stream",
     "text": [
      "Episode: 1020   score: 13.36   Avg score (100e): 13.10   actor gain: -0.40   critic loss: 0.41   steps: 1020\n"
     ]
    },
    {
     "name": "stderr",
     "output_type": "stream",
     "text": [
      "training loop:   2% |                                 | ETA:  36 days, 19:04:11\r"
     ]
    },
    {
     "name": "stdout",
     "output_type": "stream",
     "text": [
      "Episode: 1021   score: 13.37   Avg score (100e): 13.11   actor gain: -0.39   critic loss: 0.41   steps: 1021\n",
      "np.all(done) is true! miracle!\n"
     ]
    },
    {
     "name": "stderr",
     "output_type": "stream",
     "text": [
      "training loop:   2% |                                 | ETA:  36 days, 18:56:27\r"
     ]
    },
    {
     "name": "stdout",
     "output_type": "stream",
     "text": [
      "Episode: 1022   score: 13.38   Avg score (100e): 13.11   actor gain: -0.39   critic loss: 0.41   steps: 1022\n"
     ]
    },
    {
     "name": "stderr",
     "output_type": "stream",
     "text": [
      "training loop:   2% |                                 | ETA:  36 days, 18:48:57\r"
     ]
    },
    {
     "name": "stdout",
     "output_type": "stream",
     "text": [
      "Episode: 1023   score: 13.38   Avg score (100e): 13.12   actor gain: -0.40   critic loss: 0.41   steps: 1023\n"
     ]
    },
    {
     "name": "stderr",
     "output_type": "stream",
     "text": [
      "training loop:   2% |                                 | ETA:  36 days, 18:56:40\r"
     ]
    },
    {
     "name": "stdout",
     "output_type": "stream",
     "text": [
      "Episode: 1024   score: 13.39   Avg score (100e): 13.12   actor gain: -0.40   critic loss: 0.41   steps: 1024\n"
     ]
    },
    {
     "name": "stderr",
     "output_type": "stream",
     "text": [
      "training loop:   2% |                                 | ETA:  36 days, 19:00:12\r"
     ]
    },
    {
     "name": "stdout",
     "output_type": "stream",
     "text": [
      "Episode: 1025   score: 13.40   Avg score (100e): 13.13   actor gain: -0.40   critic loss: 0.41   steps: 1025\n"
     ]
    },
    {
     "name": "stderr",
     "output_type": "stream",
     "text": [
      "training loop:   2% |                                 | ETA:  36 days, 19:06:36\r"
     ]
    },
    {
     "name": "stdout",
     "output_type": "stream",
     "text": [
      "Episode: 1026   score: 13.41   Avg score (100e): 13.13   actor gain: -0.40   critic loss: 0.41   steps: 1026\n"
     ]
    },
    {
     "name": "stderr",
     "output_type": "stream",
     "text": [
      "training loop:   2% |                                 | ETA:  36 days, 19:07:43\r"
     ]
    },
    {
     "name": "stdout",
     "output_type": "stream",
     "text": [
      "Episode: 1027   score: 13.42   Avg score (100e): 13.14   actor gain: -0.40   critic loss: 0.41   steps: 1027\n"
     ]
    },
    {
     "name": "stderr",
     "output_type": "stream",
     "text": [
      "training loop:   2% |                                 | ETA:  36 days, 19:07:21\r"
     ]
    },
    {
     "name": "stdout",
     "output_type": "stream",
     "text": [
      "Episode: 1028   score: 13.43   Avg score (100e): 13.14   actor gain: -0.39   critic loss: 0.41   steps: 1028\n"
     ]
    },
    {
     "name": "stderr",
     "output_type": "stream",
     "text": [
      "training loop:   2% |                                 | ETA:  36 days, 19:15:52\r"
     ]
    },
    {
     "name": "stdout",
     "output_type": "stream",
     "text": [
      "Episode: 1029   score: 13.43   Avg score (100e): 13.15   actor gain: -0.40   critic loss: 0.41   steps: 1029\n"
     ]
    },
    {
     "name": "stderr",
     "output_type": "stream",
     "text": [
      "training loop:   2% |                                 | ETA:  36 days, 19:12:59\r"
     ]
    },
    {
     "name": "stdout",
     "output_type": "stream",
     "text": [
      "Episode: 1030   score: 13.43   Avg score (100e): 13.15   actor gain: -0.40   critic loss: 0.41   steps: 1030\n"
     ]
    },
    {
     "name": "stderr",
     "output_type": "stream",
     "text": [
      "training loop:   2% |                                 | ETA:  36 days, 19:06:12\r"
     ]
    },
    {
     "name": "stdout",
     "output_type": "stream",
     "text": [
      "Episode: 1031   score: 13.44   Avg score (100e): 13.16   actor gain: -0.41   critic loss: 0.41   steps: 1031\n"
     ]
    },
    {
     "name": "stderr",
     "output_type": "stream",
     "text": [
      "training loop:   2% |                                 | ETA:  36 days, 18:53:54\r"
     ]
    },
    {
     "name": "stdout",
     "output_type": "stream",
     "text": [
      "Episode: 1032   score: 13.45   Avg score (100e): 13.16   actor gain: -0.41   critic loss: 0.41   steps: 1032\n"
     ]
    },
    {
     "name": "stderr",
     "output_type": "stream",
     "text": [
      "training loop:   2% |                                 | ETA:  36 days, 18:46:43\r"
     ]
    },
    {
     "name": "stdout",
     "output_type": "stream",
     "text": [
      "Episode: 1033   score: 13.44   Avg score (100e): 13.17   actor gain: -0.41   critic loss: 0.41   steps: 1033\n"
     ]
    },
    {
     "name": "stderr",
     "output_type": "stream",
     "text": [
      "training loop:   2% |                                 | ETA:  36 days, 18:43:39\r"
     ]
    },
    {
     "name": "stdout",
     "output_type": "stream",
     "text": [
      "Episode: 1034   score: 13.44   Avg score (100e): 13.17   actor gain: -0.41   critic loss: 0.41   steps: 1034\n"
     ]
    },
    {
     "name": "stderr",
     "output_type": "stream",
     "text": [
      "training loop:   2% |                                 | ETA:  36 days, 18:46:25\r"
     ]
    },
    {
     "name": "stdout",
     "output_type": "stream",
     "text": [
      "Episode: 1035   score: 13.45   Avg score (100e): 13.18   actor gain: -0.41   critic loss: 0.41   steps: 1035\n"
     ]
    },
    {
     "name": "stderr",
     "output_type": "stream",
     "text": [
      "training loop:   2% |                                 | ETA:  36 days, 18:42:15\r"
     ]
    },
    {
     "name": "stdout",
     "output_type": "stream",
     "text": [
      "Episode: 1036   score: 13.46   Avg score (100e): 13.18   actor gain: -0.41   critic loss: 0.41   steps: 1036\n"
     ]
    },
    {
     "name": "stderr",
     "output_type": "stream",
     "text": [
      "training loop:   2% |                                 | ETA:  36 days, 18:43:49\r"
     ]
    },
    {
     "name": "stdout",
     "output_type": "stream",
     "text": [
      "Episode: 1037   score: 13.47   Avg score (100e): 13.19   actor gain: -0.41   critic loss: 0.41   steps: 1037\n"
     ]
    },
    {
     "name": "stderr",
     "output_type": "stream",
     "text": [
      "training loop:   2% |                                 | ETA:  36 days, 18:45:45\r"
     ]
    },
    {
     "name": "stdout",
     "output_type": "stream",
     "text": [
      "Episode: 1038   score: 13.47   Avg score (100e): 13.19   actor gain: -0.41   critic loss: 0.41   steps: 1038\n"
     ]
    },
    {
     "name": "stderr",
     "output_type": "stream",
     "text": [
      "training loop:   2% |                                 | ETA:  36 days, 18:47:09\r"
     ]
    },
    {
     "name": "stdout",
     "output_type": "stream",
     "text": [
      "Episode: 1039   score: 13.48   Avg score (100e): 13.20   actor gain: -0.41   critic loss: 0.41   steps: 1039\n"
     ]
    },
    {
     "name": "stderr",
     "output_type": "stream",
     "text": [
      "training loop:   2% |                                 | ETA:  36 days, 18:49:49\r"
     ]
    },
    {
     "name": "stdout",
     "output_type": "stream",
     "text": [
      "Episode: 1040   score: 13.48   Avg score (100e): 13.20   actor gain: -0.41   critic loss: 0.41   steps: 1040\n"
     ]
    },
    {
     "name": "stderr",
     "output_type": "stream",
     "text": [
      "training loop:   2% |                                 | ETA:  36 days, 18:50:52\r"
     ]
    },
    {
     "name": "stdout",
     "output_type": "stream",
     "text": [
      "Episode: 1041   score: 13.48   Avg score (100e): 13.21   actor gain: -0.41   critic loss: 0.41   steps: 1041\n"
     ]
    },
    {
     "name": "stderr",
     "output_type": "stream",
     "text": [
      "training loop:   2% |                                 | ETA:  36 days, 18:54:24\r"
     ]
    },
    {
     "name": "stdout",
     "output_type": "stream",
     "text": [
      "Episode: 1042   score: 13.48   Avg score (100e): 13.21   actor gain: -0.41   critic loss: 0.41   steps: 1042\n"
     ]
    },
    {
     "name": "stderr",
     "output_type": "stream",
     "text": [
      "training loop:   2% |                                 | ETA:  36 days, 19:21:14\r"
     ]
    },
    {
     "name": "stdout",
     "output_type": "stream",
     "text": [
      "Episode: 1043   score: 13.49   Avg score (100e): 13.22   actor gain: -0.41   critic loss: 0.41   steps: 1043\n"
     ]
    },
    {
     "name": "stderr",
     "output_type": "stream",
     "text": [
      "training loop:   2% |                                 | ETA:  36 days, 19:34:22\r"
     ]
    },
    {
     "name": "stdout",
     "output_type": "stream",
     "text": [
      "Episode: 1044   score: 13.50   Avg score (100e): 13.22   actor gain: -0.42   critic loss: 0.41   steps: 1044\n"
     ]
    },
    {
     "name": "stderr",
     "output_type": "stream",
     "text": [
      "training loop:   2% |                                 | ETA:  36 days, 19:31:48\r"
     ]
    },
    {
     "name": "stdout",
     "output_type": "stream",
     "text": [
      "Episode: 1045   score: 13.50   Avg score (100e): 13.23   actor gain: -0.42   critic loss: 0.41   steps: 1045\n"
     ]
    },
    {
     "name": "stderr",
     "output_type": "stream",
     "text": [
      "training loop:   2% |                                 | ETA:  36 days, 19:35:25\r"
     ]
    },
    {
     "name": "stdout",
     "output_type": "stream",
     "text": [
      "Episode: 1046   score: 13.52   Avg score (100e): 13.23   actor gain: -0.42   critic loss: 0.41   steps: 1046\n"
     ]
    },
    {
     "name": "stderr",
     "output_type": "stream",
     "text": [
      "training loop:   2% |                                 | ETA:  36 days, 19:44:29\r"
     ]
    },
    {
     "name": "stdout",
     "output_type": "stream",
     "text": [
      "Episode: 1047   score: 13.52   Avg score (100e): 13.24   actor gain: -0.42   critic loss: 0.41   steps: 1047\n",
      "np.all(done) is true! miracle!\n"
     ]
    },
    {
     "name": "stderr",
     "output_type": "stream",
     "text": [
      "training loop:   2% |                                 | ETA:  36 days, 20:03:35\r"
     ]
    },
    {
     "name": "stdout",
     "output_type": "stream",
     "text": [
      "Episode: 1048   score: 13.53   Avg score (100e): 13.25   actor gain: -0.42   critic loss: 0.41   steps: 1048\n"
     ]
    },
    {
     "name": "stderr",
     "output_type": "stream",
     "text": [
      "training loop:   2% |                                 | ETA:  36 days, 20:07:31\r"
     ]
    },
    {
     "name": "stdout",
     "output_type": "stream",
     "text": [
      "Episode: 1049   score: 13.53   Avg score (100e): 13.25   actor gain: -0.42   critic loss: 0.41   steps: 1049\n"
     ]
    },
    {
     "name": "stderr",
     "output_type": "stream",
     "text": [
      "training loop:   2% |                                 | ETA:  36 days, 20:07:24\r"
     ]
    },
    {
     "name": "stdout",
     "output_type": "stream",
     "text": [
      "Episode: 1050   score: 13.53   Avg score (100e): 13.26   actor gain: -0.42   critic loss: 0.41   steps: 1050\n"
     ]
    },
    {
     "name": "stderr",
     "output_type": "stream",
     "text": [
      "training loop:   2% |                                 | ETA:  36 days, 20:07:40\r"
     ]
    },
    {
     "name": "stdout",
     "output_type": "stream",
     "text": [
      "Episode: 1051   score: 13.53   Avg score (100e): 13.26   actor gain: -0.42   critic loss: 0.41   steps: 1051\n",
      "np.all(done) is true! miracle!\n"
     ]
    },
    {
     "name": "stderr",
     "output_type": "stream",
     "text": [
      "training loop:   2% |                                 | ETA:  36 days, 20:07:09\r"
     ]
    },
    {
     "name": "stdout",
     "output_type": "stream",
     "text": [
      "Episode: 1052   score: 13.54   Avg score (100e): 13.27   actor gain: -0.42   critic loss: 0.41   steps: 1052\n"
     ]
    },
    {
     "name": "stderr",
     "output_type": "stream",
     "text": [
      "training loop:   2% |                                 | ETA:  36 days, 20:05:43\r"
     ]
    },
    {
     "name": "stdout",
     "output_type": "stream",
     "text": [
      "Episode: 1053   score: 13.54   Avg score (100e): 13.27   actor gain: -0.41   critic loss: 0.41   steps: 1053\n"
     ]
    },
    {
     "name": "stderr",
     "output_type": "stream",
     "text": [
      "training loop:   2% |                                 | ETA:  36 days, 20:01:13\r"
     ]
    },
    {
     "name": "stdout",
     "output_type": "stream",
     "text": [
      "Episode: 1054   score: 13.55   Avg score (100e): 13.28   actor gain: -0.41   critic loss: 0.41   steps: 1054\n"
     ]
    },
    {
     "name": "stderr",
     "output_type": "stream",
     "text": [
      "training loop:   2% |                                 | ETA:  36 days, 19:58:50\r"
     ]
    },
    {
     "name": "stdout",
     "output_type": "stream",
     "text": [
      "Episode: 1055   score: 13.56   Avg score (100e): 13.28   actor gain: -0.42   critic loss: 0.41   steps: 1055\n"
     ]
    },
    {
     "name": "stderr",
     "output_type": "stream",
     "text": [
      "training loop:   2% |                                 | ETA:  36 days, 19:54:48\r"
     ]
    },
    {
     "name": "stdout",
     "output_type": "stream",
     "text": [
      "Episode: 1056   score: 13.56   Avg score (100e): 13.29   actor gain: -0.40   critic loss: 0.41   steps: 1056\n"
     ]
    },
    {
     "name": "stderr",
     "output_type": "stream",
     "text": [
      "training loop:   2% |                                 | ETA:  36 days, 19:53:45\r"
     ]
    },
    {
     "name": "stdout",
     "output_type": "stream",
     "text": [
      "Episode: 1057   score: 13.57   Avg score (100e): 13.29   actor gain: -0.40   critic loss: 0.41   steps: 1057\n"
     ]
    },
    {
     "name": "stderr",
     "output_type": "stream",
     "text": [
      "training loop:   2% |                                 | ETA:  36 days, 19:52:31\r"
     ]
    },
    {
     "name": "stdout",
     "output_type": "stream",
     "text": [
      "Episode: 1058   score: 13.57   Avg score (100e): 13.30   actor gain: -0.40   critic loss: 0.41   steps: 1058\n"
     ]
    },
    {
     "name": "stderr",
     "output_type": "stream",
     "text": [
      "training loop:   2% |                                 | ETA:  36 days, 20:09:14\r"
     ]
    },
    {
     "name": "stdout",
     "output_type": "stream",
     "text": [
      "Episode: 1059   score: 13.57   Avg score (100e): 13.30   actor gain: -0.40   critic loss: 0.41   steps: 1059\n"
     ]
    },
    {
     "name": "stderr",
     "output_type": "stream",
     "text": [
      "training loop:   2% |                                 | ETA:  36 days, 20:19:31\r"
     ]
    },
    {
     "name": "stdout",
     "output_type": "stream",
     "text": [
      "Episode: 1060   score: 13.58   Avg score (100e): 13.31   actor gain: -0.40   critic loss: 0.41   steps: 1060\n",
      "np.all(done) is true! miracle!\n"
     ]
    },
    {
     "name": "stderr",
     "output_type": "stream",
     "text": [
      "training loop:   2% |                                 | ETA:  36 days, 20:22:11\r"
     ]
    },
    {
     "name": "stdout",
     "output_type": "stream",
     "text": [
      "Episode: 1061   score: 13.57   Avg score (100e): 13.31   actor gain: -0.40   critic loss: 0.41   steps: 1061\n"
     ]
    },
    {
     "name": "stderr",
     "output_type": "stream",
     "text": [
      "training loop:   2% |                                 | ETA:  36 days, 20:37:04\r"
     ]
    },
    {
     "name": "stdout",
     "output_type": "stream",
     "text": [
      "Episode: 1062   score: 13.57   Avg score (100e): 13.32   actor gain: -0.40   critic loss: 0.41   steps: 1062\n"
     ]
    },
    {
     "name": "stderr",
     "output_type": "stream",
     "text": [
      "training loop:   2% |                                 | ETA:  36 days, 20:42:23\r"
     ]
    },
    {
     "name": "stdout",
     "output_type": "stream",
     "text": [
      "Episode: 1063   score: 13.58   Avg score (100e): 13.32   actor gain: -0.40   critic loss: 0.41   steps: 1063\n"
     ]
    },
    {
     "name": "stderr",
     "output_type": "stream",
     "text": [
      "training loop:   2% |                                 | ETA:  36 days, 20:39:48\r"
     ]
    },
    {
     "name": "stdout",
     "output_type": "stream",
     "text": [
      "Episode: 1064   score: 13.59   Avg score (100e): 13.33   actor gain: -0.40   critic loss: 0.41   steps: 1064\n"
     ]
    },
    {
     "name": "stderr",
     "output_type": "stream",
     "text": [
      "training loop:   2% |                                 | ETA:  36 days, 20:41:11\r"
     ]
    },
    {
     "name": "stdout",
     "output_type": "stream",
     "text": [
      "Episode: 1065   score: 13.59   Avg score (100e): 13.34   actor gain: -0.40   critic loss: 0.41   steps: 1065\n"
     ]
    },
    {
     "name": "stderr",
     "output_type": "stream",
     "text": [
      "training loop:   2% |                                 | ETA:  36 days, 20:43:19\r"
     ]
    },
    {
     "name": "stdout",
     "output_type": "stream",
     "text": [
      "Episode: 1066   score: 13.59   Avg score (100e): 13.34   actor gain: -0.40   critic loss: 0.41   steps: 1066\n"
     ]
    },
    {
     "name": "stderr",
     "output_type": "stream",
     "text": [
      "training loop:   2% |                                 | ETA:  36 days, 20:45:46\r"
     ]
    },
    {
     "name": "stdout",
     "output_type": "stream",
     "text": [
      "Episode: 1067   score: 13.59   Avg score (100e): 13.35   actor gain: -0.40   critic loss: 0.41   steps: 1067\n"
     ]
    },
    {
     "name": "stderr",
     "output_type": "stream",
     "text": [
      "training loop:   2% |                                 | ETA:  36 days, 20:48:49\r"
     ]
    },
    {
     "name": "stdout",
     "output_type": "stream",
     "text": [
      "Episode: 1068   score: 13.60   Avg score (100e): 13.35   actor gain: -0.40   critic loss: 0.41   steps: 1068\n"
     ]
    },
    {
     "name": "stderr",
     "output_type": "stream",
     "text": [
      "training loop:   2% |                                 | ETA:  36 days, 20:53:04\r"
     ]
    },
    {
     "name": "stdout",
     "output_type": "stream",
     "text": [
      "Episode: 1069   score: 13.60   Avg score (100e): 13.36   actor gain: -0.39   critic loss: 0.41   steps: 1069\n"
     ]
    },
    {
     "name": "stderr",
     "output_type": "stream",
     "text": [
      "training loop:   2% |                                 | ETA:  36 days, 21:06:08\r"
     ]
    },
    {
     "name": "stdout",
     "output_type": "stream",
     "text": [
      "Episode: 1070   score: 13.61   Avg score (100e): 13.36   actor gain: -0.39   critic loss: 0.41   steps: 1070\n"
     ]
    },
    {
     "name": "stderr",
     "output_type": "stream",
     "text": [
      "training loop:   2% |                                 | ETA:  36 days, 21:09:18\r"
     ]
    },
    {
     "name": "stdout",
     "output_type": "stream",
     "text": [
      "Episode: 1071   score: 13.61   Avg score (100e): 13.37   actor gain: -0.39   critic loss: 0.41   steps: 1071\n"
     ]
    },
    {
     "name": "stderr",
     "output_type": "stream",
     "text": [
      "training loop:   2% |                                 | ETA:  36 days, 21:14:10\r"
     ]
    },
    {
     "name": "stdout",
     "output_type": "stream",
     "text": [
      "Episode: 1072   score: 13.62   Avg score (100e): 13.37   actor gain: -0.39   critic loss: 0.41   steps: 1072\n"
     ]
    },
    {
     "name": "stderr",
     "output_type": "stream",
     "text": [
      "training loop:   2% |                                 | ETA:  36 days, 21:36:59\r"
     ]
    },
    {
     "name": "stdout",
     "output_type": "stream",
     "text": [
      "Episode: 1073   score: 13.63   Avg score (100e): 13.38   actor gain: -0.39   critic loss: 0.41   steps: 1073\n"
     ]
    },
    {
     "name": "stderr",
     "output_type": "stream",
     "text": [
      "training loop:   2% |                                 | ETA:  36 days, 21:44:28\r"
     ]
    },
    {
     "name": "stdout",
     "output_type": "stream",
     "text": [
      "Episode: 1074   score: 13.63   Avg score (100e): 13.38   actor gain: -0.39   critic loss: 0.41   steps: 1074\n"
     ]
    },
    {
     "name": "stderr",
     "output_type": "stream",
     "text": [
      "training loop:   2% |                                 | ETA:  36 days, 21:40:45\r"
     ]
    },
    {
     "name": "stdout",
     "output_type": "stream",
     "text": [
      "Episode: 1075   score: 13.64   Avg score (100e): 13.39   actor gain: -0.39   critic loss: 0.41   steps: 1075\n"
     ]
    },
    {
     "name": "stderr",
     "output_type": "stream",
     "text": [
      "training loop:   2% |                                 | ETA:  36 days, 21:48:54\r"
     ]
    },
    {
     "name": "stdout",
     "output_type": "stream",
     "text": [
      "Episode: 1076   score: 13.65   Avg score (100e): 13.40   actor gain: -0.39   critic loss: 0.41   steps: 1076\n"
     ]
    },
    {
     "name": "stderr",
     "output_type": "stream",
     "text": [
      "training loop:   2% |                                 | ETA:  36 days, 21:58:06\r"
     ]
    },
    {
     "name": "stdout",
     "output_type": "stream",
     "text": [
      "Episode: 1077   score: 13.65   Avg score (100e): 13.40   actor gain: -0.39   critic loss: 0.41   steps: 1077\n"
     ]
    },
    {
     "name": "stderr",
     "output_type": "stream",
     "text": [
      "training loop:   2% |                                 | ETA:  36 days, 22:01:19\r"
     ]
    },
    {
     "name": "stdout",
     "output_type": "stream",
     "text": [
      "Episode: 1078   score: 13.66   Avg score (100e): 13.41   actor gain: -0.39   critic loss: 0.41   steps: 1078\n"
     ]
    },
    {
     "name": "stderr",
     "output_type": "stream",
     "text": [
      "training loop:   2% |                                 | ETA:  36 days, 22:01:35\r"
     ]
    },
    {
     "name": "stdout",
     "output_type": "stream",
     "text": [
      "Episode: 1079   score: 13.67   Avg score (100e): 13.41   actor gain: -0.39   critic loss: 0.41   steps: 1079\n"
     ]
    },
    {
     "name": "stderr",
     "output_type": "stream",
     "text": [
      "training loop:   2% |                                 | ETA:  36 days, 21:59:50\r"
     ]
    },
    {
     "name": "stdout",
     "output_type": "stream",
     "text": [
      "Episode: 1080   score: 13.68   Avg score (100e): 13.42   actor gain: -0.39   critic loss: 0.41   steps: 1080\n"
     ]
    },
    {
     "name": "stderr",
     "output_type": "stream",
     "text": [
      "training loop:   2% |                                 | ETA:  36 days, 22:01:27\r"
     ]
    },
    {
     "name": "stdout",
     "output_type": "stream",
     "text": [
      "Episode: 1081   score: 13.68   Avg score (100e): 13.42   actor gain: -0.41   critic loss: 0.41   steps: 1081\n"
     ]
    },
    {
     "name": "stderr",
     "output_type": "stream",
     "text": [
      "training loop:   2% |                                 | ETA:  36 days, 21:55:14\r"
     ]
    },
    {
     "name": "stdout",
     "output_type": "stream",
     "text": [
      "Episode: 1082   score: 13.68   Avg score (100e): 13.43   actor gain: -0.42   critic loss: 0.41   steps: 1082\n"
     ]
    },
    {
     "name": "stderr",
     "output_type": "stream",
     "text": [
      "training loop:   2% |                                 | ETA:  36 days, 21:54:05\r"
     ]
    },
    {
     "name": "stdout",
     "output_type": "stream",
     "text": [
      "Episode: 1083   score: 13.68   Avg score (100e): 13.43   actor gain: -0.43   critic loss: 0.41   steps: 1083\n"
     ]
    },
    {
     "name": "stderr",
     "output_type": "stream",
     "text": [
      "training loop:   2% |                                 | ETA:  36 days, 22:02:12\r"
     ]
    },
    {
     "name": "stdout",
     "output_type": "stream",
     "text": [
      "Episode: 1084   score: 13.68   Avg score (100e): 13.44   actor gain: -0.43   critic loss: 0.40   steps: 1084\n"
     ]
    },
    {
     "name": "stderr",
     "output_type": "stream",
     "text": [
      "training loop:   2% |                                 | ETA:  36 days, 22:05:44\r"
     ]
    },
    {
     "name": "stdout",
     "output_type": "stream",
     "text": [
      "Episode: 1085   score: 13.69   Avg score (100e): 13.44   actor gain: -0.43   critic loss: 0.40   steps: 1085\n"
     ]
    },
    {
     "name": "stderr",
     "output_type": "stream",
     "text": [
      "training loop:   2% |                                 | ETA:  36 days, 22:12:37\r"
     ]
    },
    {
     "name": "stdout",
     "output_type": "stream",
     "text": [
      "Episode: 1086   score: 13.69   Avg score (100e): 13.45   actor gain: -0.42   critic loss: 0.40   steps: 1086\n"
     ]
    },
    {
     "name": "stderr",
     "output_type": "stream",
     "text": [
      "training loop:   2% |                                 | ETA:  36 days, 22:16:19\r"
     ]
    },
    {
     "name": "stdout",
     "output_type": "stream",
     "text": [
      "Episode: 1087   score: 13.71   Avg score (100e): 13.46   actor gain: -0.42   critic loss: 0.40   steps: 1087\n"
     ]
    },
    {
     "name": "stderr",
     "output_type": "stream",
     "text": [
      "training loop:   2% |                                 | ETA:  36 days, 22:15:41\r"
     ]
    },
    {
     "name": "stdout",
     "output_type": "stream",
     "text": [
      "Episode: 1088   score: 13.71   Avg score (100e): 13.46   actor gain: -0.43   critic loss: 0.40   steps: 1088\n"
     ]
    },
    {
     "name": "stderr",
     "output_type": "stream",
     "text": [
      "training loop:   2% |                                 | ETA:  36 days, 22:10:40\r"
     ]
    },
    {
     "name": "stdout",
     "output_type": "stream",
     "text": [
      "Episode: 1089   score: 13.72   Avg score (100e): 13.47   actor gain: -1.03   critic loss: 0.40   steps: 1089\n"
     ]
    },
    {
     "name": "stderr",
     "output_type": "stream",
     "text": [
      "training loop:   2% |                                 | ETA:  36 days, 22:05:21\r"
     ]
    },
    {
     "name": "stdout",
     "output_type": "stream",
     "text": [
      "Episode: 1090   score: 13.71   Avg score (100e): 13.47   actor gain: -1.03   critic loss: 0.40   steps: 1090\n"
     ]
    },
    {
     "name": "stderr",
     "output_type": "stream",
     "text": [
      "training loop:   2% |                                 | ETA:  36 days, 21:59:06\r"
     ]
    },
    {
     "name": "stdout",
     "output_type": "stream",
     "text": [
      "Episode: 1091   score: 13.72   Avg score (100e): 13.48   actor gain: -1.03   critic loss: 0.41   steps: 1091\n"
     ]
    },
    {
     "name": "stderr",
     "output_type": "stream",
     "text": [
      "training loop:   2% |                                 | ETA:  36 days, 21:57:54\r"
     ]
    },
    {
     "name": "stdout",
     "output_type": "stream",
     "text": [
      "Episode: 1092   score: 13.72   Avg score (100e): 13.48   actor gain: -1.03   critic loss: 0.41   steps: 1092\n"
     ]
    },
    {
     "name": "stderr",
     "output_type": "stream",
     "text": [
      "training loop:   2% |                                 | ETA:  36 days, 21:52:51\r"
     ]
    },
    {
     "name": "stdout",
     "output_type": "stream",
     "text": [
      "Episode: 1093   score: 13.73   Avg score (100e): 13.49   actor gain: -1.03   critic loss: 0.40   steps: 1093\n"
     ]
    },
    {
     "name": "stderr",
     "output_type": "stream",
     "text": [
      "training loop:   2% |                                 | ETA:  36 days, 21:45:23\r"
     ]
    },
    {
     "name": "stdout",
     "output_type": "stream",
     "text": [
      "Episode: 1094   score: 13.74   Avg score (100e): 13.49   actor gain: -1.32   critic loss: 0.41   steps: 1094\n"
     ]
    },
    {
     "name": "stderr",
     "output_type": "stream",
     "text": [
      "training loop:   2% |                                 | ETA:  36 days, 21:52:57\r"
     ]
    },
    {
     "name": "stdout",
     "output_type": "stream",
     "text": [
      "Episode: 1095   score: 13.76   Avg score (100e): 13.50   actor gain: -1.31   critic loss: 0.40   steps: 1095\n"
     ]
    },
    {
     "name": "stderr",
     "output_type": "stream",
     "text": [
      "training loop:   2% |                                 | ETA:  36 days, 21:51:23\r"
     ]
    },
    {
     "name": "stdout",
     "output_type": "stream",
     "text": [
      "Episode: 1096   score: 13.76   Avg score (100e): 13.50   actor gain: -1.31   critic loss: 0.40   steps: 1096\n"
     ]
    },
    {
     "name": "stderr",
     "output_type": "stream",
     "text": [
      "training loop:   2% |                                 | ETA:  36 days, 22:11:26\r"
     ]
    },
    {
     "name": "stdout",
     "output_type": "stream",
     "text": [
      "Episode: 1097   score: 13.77   Avg score (100e): 13.51   actor gain: -1.31   critic loss: 0.40   steps: 1097\n"
     ]
    },
    {
     "name": "stderr",
     "output_type": "stream",
     "text": [
      "training loop:   2% |                                 | ETA:  36 days, 22:09:01\r"
     ]
    },
    {
     "name": "stdout",
     "output_type": "stream",
     "text": [
      "Episode: 1098   score: 13.78   Avg score (100e): 13.51   actor gain: -1.31   critic loss: 0.40   steps: 1098\n"
     ]
    },
    {
     "name": "stderr",
     "output_type": "stream",
     "text": [
      "training loop:   2% |                                 | ETA:  36 days, 22:06:21\r"
     ]
    },
    {
     "name": "stdout",
     "output_type": "stream",
     "text": [
      "Episode: 1099   score: 13.80   Avg score (100e): 13.52   actor gain: -1.31   critic loss: 0.40   steps: 1099\n"
     ]
    },
    {
     "name": "stderr",
     "output_type": "stream",
     "text": [
      "training loop:   2% |                                 | ETA:  36 days, 22:09:40\r"
     ]
    },
    {
     "name": "stdout",
     "output_type": "stream",
     "text": [
      "Episode: 1100   score: 13.81   Avg score (100e): 13.52   actor gain: -1.31   critic loss: 0.40   steps: 1100\n"
     ]
    },
    {
     "name": "stderr",
     "output_type": "stream",
     "text": [
      "training loop:   2% |                                 | ETA:  36 days, 22:11:03\r"
     ]
    },
    {
     "name": "stdout",
     "output_type": "stream",
     "text": [
      "Episode: 1101   score: 13.82   Avg score (100e): 13.53   actor gain: -1.32   critic loss: 0.40   steps: 1101\n"
     ]
    },
    {
     "name": "stderr",
     "output_type": "stream",
     "text": [
      "training loop:   2% |                                 | ETA:  36 days, 22:09:32\r"
     ]
    },
    {
     "name": "stdout",
     "output_type": "stream",
     "text": [
      "Episode: 1102   score: 13.83   Avg score (100e): 13.54   actor gain: -1.32   critic loss: 0.41   steps: 1102\n"
     ]
    },
    {
     "name": "stderr",
     "output_type": "stream",
     "text": [
      "training loop:   2% |                                 | ETA:  36 days, 22:15:30\r"
     ]
    },
    {
     "name": "stdout",
     "output_type": "stream",
     "text": [
      "Episode: 1103   score: 13.84   Avg score (100e): 13.54   actor gain: -1.32   critic loss: 0.41   steps: 1103\n"
     ]
    },
    {
     "name": "stderr",
     "output_type": "stream",
     "text": [
      "training loop:   2% |                                 | ETA:  36 days, 22:15:56\r"
     ]
    },
    {
     "name": "stdout",
     "output_type": "stream",
     "text": [
      "Episode: 1104   score: 13.85   Avg score (100e): 13.55   actor gain: -1.31   critic loss: 0.41   steps: 1104\n"
     ]
    },
    {
     "name": "stderr",
     "output_type": "stream",
     "text": [
      "training loop:   2% |                                 | ETA:  36 days, 22:25:59\r"
     ]
    },
    {
     "name": "stdout",
     "output_type": "stream",
     "text": [
      "Episode: 1105   score: 13.87   Avg score (100e): 13.55   actor gain: -1.31   critic loss: 0.41   steps: 1105\n"
     ]
    },
    {
     "name": "stderr",
     "output_type": "stream",
     "text": [
      "training loop:   2% |                                 | ETA:  36 days, 22:35:06\r"
     ]
    },
    {
     "name": "stdout",
     "output_type": "stream",
     "text": [
      "Episode: 1106   score: 13.87   Avg score (100e): 13.56   actor gain: -1.29   critic loss: 0.41   steps: 1106\n"
     ]
    },
    {
     "name": "stderr",
     "output_type": "stream",
     "text": [
      "training loop:   2% |                                 | ETA:  36 days, 22:33:40\r"
     ]
    },
    {
     "name": "stdout",
     "output_type": "stream",
     "text": [
      "Episode: 1107   score: 13.88   Avg score (100e): 13.56   actor gain: -1.28   critic loss: 0.41   steps: 1107\n"
     ]
    },
    {
     "name": "stderr",
     "output_type": "stream",
     "text": [
      "training loop:   2% |                                 | ETA:  36 days, 22:39:53\r"
     ]
    },
    {
     "name": "stdout",
     "output_type": "stream",
     "text": [
      "Episode: 1108   score: 13.90   Avg score (100e): 13.57   actor gain: -1.28   critic loss: 0.41   steps: 1108\n"
     ]
    },
    {
     "name": "stderr",
     "output_type": "stream",
     "text": [
      "training loop:   2% |                                 | ETA:  36 days, 22:46:54\r"
     ]
    },
    {
     "name": "stdout",
     "output_type": "stream",
     "text": [
      "Episode: 1109   score: 13.90   Avg score (100e): 13.58   actor gain: -1.27   critic loss: 0.41   steps: 1109\n"
     ]
    },
    {
     "name": "stderr",
     "output_type": "stream",
     "text": [
      "training loop:   2% |                                 | ETA:  36 days, 22:51:09\r"
     ]
    },
    {
     "name": "stdout",
     "output_type": "stream",
     "text": [
      "Episode: 1110   score: 13.91   Avg score (100e): 13.58   actor gain: -1.27   critic loss: 0.41   steps: 1110\n"
     ]
    },
    {
     "name": "stderr",
     "output_type": "stream",
     "text": [
      "training loop:   2% |                                 | ETA:  36 days, 22:52:50\r"
     ]
    },
    {
     "name": "stdout",
     "output_type": "stream",
     "text": [
      "Episode: 1111   score: 13.93   Avg score (100e): 13.59   actor gain: -1.28   critic loss: 0.41   steps: 1111\n"
     ]
    },
    {
     "name": "stderr",
     "output_type": "stream",
     "text": [
      "training loop:   2% |                                 | ETA:  36 days, 22:51:16\r"
     ]
    },
    {
     "name": "stdout",
     "output_type": "stream",
     "text": [
      "Episode: 1112   score: 13.94   Avg score (100e): 13.59   actor gain: -1.27   critic loss: 0.41   steps: 1112\n"
     ]
    },
    {
     "name": "stderr",
     "output_type": "stream",
     "text": [
      "training loop:   2% |                                 | ETA:  36 days, 22:51:33\r"
     ]
    },
    {
     "name": "stdout",
     "output_type": "stream",
     "text": [
      "Episode: 1113   score: 13.94   Avg score (100e): 13.60   actor gain: -1.27   critic loss: 0.41   steps: 1113\n"
     ]
    },
    {
     "name": "stderr",
     "output_type": "stream",
     "text": [
      "training loop:   2% |                                 | ETA:  36 days, 22:48:26\r"
     ]
    },
    {
     "name": "stdout",
     "output_type": "stream",
     "text": [
      "Episode: 1114   score: 13.95   Avg score (100e): 13.61   actor gain: -0.67   critic loss: 0.41   steps: 1114\n"
     ]
    },
    {
     "name": "stderr",
     "output_type": "stream",
     "text": [
      "training loop:   2% |                                 | ETA:  36 days, 22:48:08\r"
     ]
    },
    {
     "name": "stdout",
     "output_type": "stream",
     "text": [
      "Episode: 1115   score: 13.96   Avg score (100e): 13.61   actor gain: -0.67   critic loss: 0.41   steps: 1115\n"
     ]
    },
    {
     "name": "stderr",
     "output_type": "stream",
     "text": [
      "training loop:   2% |                                 | ETA:  36 days, 23:13:51\r"
     ]
    },
    {
     "name": "stdout",
     "output_type": "stream",
     "text": [
      "Episode: 1116   score: 13.98   Avg score (100e): 13.62   actor gain: -0.67   critic loss: 0.41   steps: 1116\n"
     ]
    },
    {
     "name": "stderr",
     "output_type": "stream",
     "text": [
      "training loop:   2% |                                 | ETA:  36 days, 23:22:43\r"
     ]
    },
    {
     "name": "stdout",
     "output_type": "stream",
     "text": [
      "Episode: 1117   score: 13.99   Avg score (100e): 13.63   actor gain: -0.66   critic loss: 0.41   steps: 1117\n"
     ]
    },
    {
     "name": "stderr",
     "output_type": "stream",
     "text": [
      "training loop:   2% |                                 | ETA:  36 days, 23:22:55\r"
     ]
    },
    {
     "name": "stdout",
     "output_type": "stream",
     "text": [
      "Episode: 1118   score: 14.01   Avg score (100e): 13.63   actor gain: -0.66   critic loss: 0.41   steps: 1118\n"
     ]
    },
    {
     "name": "stderr",
     "output_type": "stream",
     "text": [
      "training loop:   2% |                                 | ETA:  36 days, 23:34:15\r"
     ]
    },
    {
     "name": "stdout",
     "output_type": "stream",
     "text": [
      "Episode: 1119   score: 14.01   Avg score (100e): 13.64   actor gain: -0.38   critic loss: 0.41   steps: 1119\n"
     ]
    },
    {
     "name": "stderr",
     "output_type": "stream",
     "text": [
      "training loop:   2% |                                 | ETA:  36 days, 23:37:49\r"
     ]
    },
    {
     "name": "stdout",
     "output_type": "stream",
     "text": [
      "Episode: 1120   score: 14.03   Avg score (100e): 13.65   actor gain: -0.38   critic loss: 0.41   steps: 1120\n"
     ]
    },
    {
     "name": "stderr",
     "output_type": "stream",
     "text": [
      "training loop:   2% |                                 | ETA:  36 days, 23:38:22\r"
     ]
    },
    {
     "name": "stdout",
     "output_type": "stream",
     "text": [
      "Episode: 1121   score: 14.05   Avg score (100e): 13.65   actor gain: -0.38   critic loss: 0.41   steps: 1121\n"
     ]
    },
    {
     "name": "stderr",
     "output_type": "stream",
     "text": [
      "training loop:   2% |                                 | ETA:  36 days, 23:37:10\r"
     ]
    },
    {
     "name": "stdout",
     "output_type": "stream",
     "text": [
      "Episode: 1122   score: 14.07   Avg score (100e): 13.66   actor gain: -0.38   critic loss: 0.41   steps: 1122\n"
     ]
    },
    {
     "name": "stderr",
     "output_type": "stream",
     "text": [
      "training loop:   2% |                                 | ETA:  36 days, 23:34:48\r"
     ]
    },
    {
     "name": "stdout",
     "output_type": "stream",
     "text": [
      "Episode: 1123   score: 14.09   Avg score (100e): 13.67   actor gain: -0.38   critic loss: 0.41   steps: 1123\n"
     ]
    },
    {
     "name": "stderr",
     "output_type": "stream",
     "text": [
      "training loop:   2% |                                 | ETA:  36 days, 23:34:41\r"
     ]
    },
    {
     "name": "stdout",
     "output_type": "stream",
     "text": [
      "Episode: 1124   score: 14.11   Avg score (100e): 13.67   actor gain: -0.38   critic loss: 0.41   steps: 1124\n"
     ]
    },
    {
     "name": "stderr",
     "output_type": "stream",
     "text": [
      "training loop:   2% |                                 | ETA:  36 days, 23:38:56\r"
     ]
    },
    {
     "name": "stdout",
     "output_type": "stream",
     "text": [
      "Episode: 1125   score: 14.12   Avg score (100e): 13.68   actor gain: -0.38   critic loss: 0.41   steps: 1125\n"
     ]
    },
    {
     "name": "stderr",
     "output_type": "stream",
     "text": [
      "training loop:   2% |                                 | ETA:  36 days, 23:46:14\r"
     ]
    },
    {
     "name": "stdout",
     "output_type": "stream",
     "text": [
      "Episode: 1126   score: 14.13   Avg score (100e): 13.69   actor gain: -0.38   critic loss: 0.41   steps: 1126\n"
     ]
    },
    {
     "name": "stderr",
     "output_type": "stream",
     "text": [
      "training loop:   2% |                                 | ETA:  36 days, 23:52:24\r"
     ]
    },
    {
     "name": "stdout",
     "output_type": "stream",
     "text": [
      "Episode: 1127   score: 14.14   Avg score (100e): 13.70   actor gain: -0.38   critic loss: 0.41   steps: 1127\n"
     ]
    },
    {
     "name": "stderr",
     "output_type": "stream",
     "text": [
      "training loop:   2% |                                 | ETA:  36 days, 23:55:22\r"
     ]
    },
    {
     "name": "stdout",
     "output_type": "stream",
     "text": [
      "Episode: 1128   score: 14.16   Avg score (100e): 13.70   actor gain: -0.38   critic loss: 0.41   steps: 1128\n"
     ]
    },
    {
     "name": "stderr",
     "output_type": "stream",
     "text": [
      "training loop:   2% |                                 | ETA:  36 days, 23:57:48\r"
     ]
    },
    {
     "name": "stdout",
     "output_type": "stream",
     "text": [
      "Episode: 1129   score: 14.17   Avg score (100e): 13.71   actor gain: -0.38   critic loss: 0.41   steps: 1129\n"
     ]
    },
    {
     "name": "stderr",
     "output_type": "stream",
     "text": [
      "training loop:   2% |                                 | ETA:  36 days, 23:58:25\r"
     ]
    },
    {
     "name": "stdout",
     "output_type": "stream",
     "text": [
      "Episode: 1130   score: 14.18   Avg score (100e): 13.72   actor gain: -0.38   critic loss: 0.41   steps: 1130\n"
     ]
    },
    {
     "name": "stderr",
     "output_type": "stream",
     "text": [
      "training loop:   2% |                                 | ETA:  36 days, 23:55:01\r"
     ]
    },
    {
     "name": "stdout",
     "output_type": "stream",
     "text": [
      "Episode: 1131   score: 14.19   Avg score (100e): 13.72   actor gain: -0.38   critic loss: 0.41   steps: 1131\n"
     ]
    },
    {
     "name": "stderr",
     "output_type": "stream",
     "text": [
      "training loop:   2% |                                 | ETA:  36 days, 23:57:36\r"
     ]
    },
    {
     "name": "stdout",
     "output_type": "stream",
     "text": [
      "Episode: 1132   score: 14.20   Avg score (100e): 13.73   actor gain: -0.38   critic loss: 0.41   steps: 1132\n"
     ]
    },
    {
     "name": "stderr",
     "output_type": "stream",
     "text": [
      "training loop:   2% |                                 | ETA:  36 days, 23:55:38\r"
     ]
    },
    {
     "name": "stdout",
     "output_type": "stream",
     "text": [
      "Episode: 1133   score: 14.21   Avg score (100e): 13.74   actor gain: -0.38   critic loss: 0.41   steps: 1133\n"
     ]
    },
    {
     "name": "stderr",
     "output_type": "stream",
     "text": [
      "training loop:   2% |                                 | ETA:  36 days, 23:56:41\r"
     ]
    },
    {
     "name": "stdout",
     "output_type": "stream",
     "text": [
      "Episode: 1134   score: 14.22   Avg score (100e): 13.75   actor gain: -0.38   critic loss: 0.41   steps: 1134\n"
     ]
    },
    {
     "name": "stderr",
     "output_type": "stream",
     "text": [
      "training loop:   2% |                                  | ETA:  37 days, 0:05:10\r"
     ]
    },
    {
     "name": "stdout",
     "output_type": "stream",
     "text": [
      "Episode: 1135   score: 14.25   Avg score (100e): 13.76   actor gain: -0.38   critic loss: 0.41   steps: 1135\n"
     ]
    },
    {
     "name": "stderr",
     "output_type": "stream",
     "text": [
      "training loop:   2% |                                  | ETA:  37 days, 0:00:26\r"
     ]
    },
    {
     "name": "stdout",
     "output_type": "stream",
     "text": [
      "Episode: 1136   score: 14.25   Avg score (100e): 13.76   actor gain: -0.38   critic loss: 0.41   steps: 1136\n"
     ]
    },
    {
     "name": "stderr",
     "output_type": "stream",
     "text": [
      "training loop:   2% |                                  | ETA:  37 days, 0:08:23\r"
     ]
    },
    {
     "name": "stdout",
     "output_type": "stream",
     "text": [
      "Episode: 1137   score: 14.26   Avg score (100e): 13.77   actor gain: -0.38   critic loss: 0.41   steps: 1137\n"
     ]
    },
    {
     "name": "stderr",
     "output_type": "stream",
     "text": [
      "training loop:   2% |                                  | ETA:  37 days, 0:16:28\r"
     ]
    },
    {
     "name": "stdout",
     "output_type": "stream",
     "text": [
      "Episode: 1138   score: 14.27   Avg score (100e): 13.78   actor gain: -0.38   critic loss: 0.41   steps: 1138\n"
     ]
    },
    {
     "name": "stderr",
     "output_type": "stream",
     "text": [
      "training loop:   2% |                                  | ETA:  37 days, 0:25:49\r"
     ]
    },
    {
     "name": "stdout",
     "output_type": "stream",
     "text": [
      "Episode: 1139   score: 14.28   Avg score (100e): 13.79   actor gain: -0.38   critic loss: 0.41   steps: 1139\n"
     ]
    },
    {
     "name": "stderr",
     "output_type": "stream",
     "text": [
      "training loop:   2% |                                  | ETA:  37 days, 0:43:59\r"
     ]
    },
    {
     "name": "stdout",
     "output_type": "stream",
     "text": [
      "Episode: 1140   score: 14.30   Avg score (100e): 13.80   actor gain: -0.39   critic loss: 0.41   steps: 1140\n"
     ]
    },
    {
     "name": "stderr",
     "output_type": "stream",
     "text": [
      "training loop:   2% |                                  | ETA:  37 days, 0:59:12\r"
     ]
    },
    {
     "name": "stdout",
     "output_type": "stream",
     "text": [
      "Episode: 1141   score: 14.31   Avg score (100e): 13.80   actor gain: -0.39   critic loss: 0.41   steps: 1141\n"
     ]
    },
    {
     "name": "stderr",
     "output_type": "stream",
     "text": [
      "training loop:   2% |                                  | ETA:  37 days, 1:07:04\r"
     ]
    },
    {
     "name": "stdout",
     "output_type": "stream",
     "text": [
      "Episode: 1142   score: 14.33   Avg score (100e): 13.81   actor gain: -0.39   critic loss: 0.41   steps: 1142\n"
     ]
    },
    {
     "name": "stderr",
     "output_type": "stream",
     "text": [
      "training loop:   2% |                                  | ETA:  37 days, 1:08:48\r"
     ]
    },
    {
     "name": "stdout",
     "output_type": "stream",
     "text": [
      "Episode: 1143   score: 14.34   Avg score (100e): 13.82   actor gain: -0.40   critic loss: 0.41   steps: 1143\n"
     ]
    },
    {
     "name": "stderr",
     "output_type": "stream",
     "text": [
      "training loop:   2% |                                  | ETA:  37 days, 1:11:37\r"
     ]
    },
    {
     "name": "stdout",
     "output_type": "stream",
     "text": [
      "Episode: 1144   score: 14.36   Avg score (100e): 13.83   actor gain: -0.40   critic loss: 0.41   steps: 1144\n"
     ]
    },
    {
     "name": "stderr",
     "output_type": "stream",
     "text": [
      "training loop:   2% |                                  | ETA:  37 days, 1:13:05\r"
     ]
    },
    {
     "name": "stdout",
     "output_type": "stream",
     "text": [
      "Episode: 1145   score: 14.37   Avg score (100e): 13.84   actor gain: -0.40   critic loss: 0.41   steps: 1145\n"
     ]
    },
    {
     "name": "stderr",
     "output_type": "stream",
     "text": [
      "training loop:   2% |                                  | ETA:  37 days, 1:14:40\r"
     ]
    },
    {
     "name": "stdout",
     "output_type": "stream",
     "text": [
      "Episode: 1146   score: 14.39   Avg score (100e): 13.85   actor gain: -0.40   critic loss: 0.41   steps: 1146\n"
     ]
    },
    {
     "name": "stderr",
     "output_type": "stream",
     "text": [
      "training loop:   2% |                                  | ETA:  37 days, 1:15:48\r"
     ]
    },
    {
     "name": "stdout",
     "output_type": "stream",
     "text": [
      "Episode: 1147   score: 14.39   Avg score (100e): 13.86   actor gain: -0.40   critic loss: 0.41   steps: 1147\n"
     ]
    },
    {
     "name": "stderr",
     "output_type": "stream",
     "text": [
      "training loop:   2% |                                  | ETA:  37 days, 1:18:11\r"
     ]
    },
    {
     "name": "stdout",
     "output_type": "stream",
     "text": [
      "Episode: 1148   score: 14.41   Avg score (100e): 13.86   actor gain: -0.40   critic loss: 0.41   steps: 1148\n"
     ]
    },
    {
     "name": "stderr",
     "output_type": "stream",
     "text": [
      "training loop:   2% |                                  | ETA:  37 days, 1:28:57\r"
     ]
    },
    {
     "name": "stdout",
     "output_type": "stream",
     "text": [
      "Episode: 1149   score: 14.42   Avg score (100e): 13.87   actor gain: -0.40   critic loss: 0.41   steps: 1149\n"
     ]
    },
    {
     "name": "stderr",
     "output_type": "stream",
     "text": [
      "training loop:   2% |                                  | ETA:  37 days, 1:36:24\r"
     ]
    },
    {
     "name": "stdout",
     "output_type": "stream",
     "text": [
      "Episode: 1150   score: 14.43   Avg score (100e): 13.88   actor gain: -0.41   critic loss: 0.41   steps: 1150\n"
     ]
    },
    {
     "name": "stderr",
     "output_type": "stream",
     "text": [
      "training loop:   2% |                                  | ETA:  37 days, 1:36:07\r"
     ]
    },
    {
     "name": "stdout",
     "output_type": "stream",
     "text": [
      "Episode: 1151   score: 14.45   Avg score (100e): 13.89   actor gain: -0.42   critic loss: 0.41   steps: 1151\n"
     ]
    },
    {
     "name": "stderr",
     "output_type": "stream",
     "text": [
      "training loop:   2% |                                  | ETA:  37 days, 1:35:38\r"
     ]
    },
    {
     "name": "stdout",
     "output_type": "stream",
     "text": [
      "Episode: 1152   score: 14.46   Avg score (100e): 13.90   actor gain: -0.42   critic loss: 0.41   steps: 1152\n"
     ]
    },
    {
     "name": "stderr",
     "output_type": "stream",
     "text": [
      "training loop:   2% |                                  | ETA:  37 days, 1:44:39\r"
     ]
    },
    {
     "name": "stdout",
     "output_type": "stream",
     "text": [
      "Episode: 1153   score: 14.47   Avg score (100e): 13.91   actor gain: -0.42   critic loss: 0.41   steps: 1153\n"
     ]
    },
    {
     "name": "stderr",
     "output_type": "stream",
     "text": [
      "training loop:   2% |                                  | ETA:  37 days, 1:53:15\r"
     ]
    },
    {
     "name": "stdout",
     "output_type": "stream",
     "text": [
      "Episode: 1154   score: 14.49   Avg score (100e): 13.92   actor gain: -0.42   critic loss: 0.41   steps: 1154\n"
     ]
    },
    {
     "name": "stderr",
     "output_type": "stream",
     "text": [
      "training loop:   2% |                                  | ETA:  37 days, 9:38:24\r"
     ]
    },
    {
     "name": "stdout",
     "output_type": "stream",
     "text": [
      "Episode: 1155   score: 14.49   Avg score (100e): 13.93   actor gain: -0.42   critic loss: 0.41   steps: 1155\n"
     ]
    },
    {
     "name": "stderr",
     "output_type": "stream",
     "text": [
      "training loop:   2% |                                  | ETA:  37 days, 9:43:21\r"
     ]
    },
    {
     "name": "stdout",
     "output_type": "stream",
     "text": [
      "Episode: 1156   score: 14.51   Avg score (100e): 13.94   actor gain: -0.42   critic loss: 0.41   steps: 1156\n"
     ]
    },
    {
     "name": "stderr",
     "output_type": "stream",
     "text": [
      "training loop:   2% |                                  | ETA:  37 days, 9:58:51\r"
     ]
    },
    {
     "name": "stdout",
     "output_type": "stream",
     "text": [
      "Episode: 1157   score: 14.52   Avg score (100e): 13.95   actor gain: -0.59   critic loss: 0.41   steps: 1157\n"
     ]
    },
    {
     "name": "stderr",
     "output_type": "stream",
     "text": [
      "training loop:   2% |                                 | ETA:  37 days, 10:08:48\r"
     ]
    },
    {
     "name": "stdout",
     "output_type": "stream",
     "text": [
      "Episode: 1158   score: 14.54   Avg score (100e): 13.96   actor gain: -0.59   critic loss: 0.41   steps: 1158\n"
     ]
    },
    {
     "name": "stderr",
     "output_type": "stream",
     "text": [
      "training loop:   2% |                                 | ETA:  37 days, 10:08:33\r"
     ]
    },
    {
     "name": "stdout",
     "output_type": "stream",
     "text": [
      "Episode: 1159   score: 14.55   Avg score (100e): 13.97   actor gain: -0.60   critic loss: 0.41   steps: 1159\n"
     ]
    },
    {
     "name": "stderr",
     "output_type": "stream",
     "text": [
      "training loop:   2% |                                 | ETA:  37 days, 10:08:45\r"
     ]
    },
    {
     "name": "stdout",
     "output_type": "stream",
     "text": [
      "Episode: 1160   score: 14.56   Avg score (100e): 13.98   actor gain: -0.60   critic loss: 0.41   steps: 1160\n"
     ]
    },
    {
     "name": "stderr",
     "output_type": "stream",
     "text": [
      "training loop:   2% |                                 | ETA:  37 days, 10:07:53\r"
     ]
    },
    {
     "name": "stdout",
     "output_type": "stream",
     "text": [
      "Episode: 1161   score: 14.58   Avg score (100e): 13.99   actor gain: -0.61   critic loss: 0.41   steps: 1161\n"
     ]
    },
    {
     "name": "stderr",
     "output_type": "stream",
     "text": [
      "training loop:   2% |                                 | ETA:  37 days, 10:11:07\r"
     ]
    },
    {
     "name": "stdout",
     "output_type": "stream",
     "text": [
      "Episode: 1162   score: 14.59   Avg score (100e): 14.00   actor gain: -0.61   critic loss: 0.41   steps: 1162\n"
     ]
    },
    {
     "name": "stderr",
     "output_type": "stream",
     "text": [
      "training loop:   2% |                                 | ETA:  37 days, 10:10:30\r"
     ]
    },
    {
     "name": "stdout",
     "output_type": "stream",
     "text": [
      "Episode: 1163   score: 14.61   Avg score (100e): 14.01   actor gain: -0.60   critic loss: 0.41   steps: 1163\n"
     ]
    },
    {
     "name": "stderr",
     "output_type": "stream",
     "text": [
      "training loop:   2% |                                 | ETA:  37 days, 10:12:33\r"
     ]
    },
    {
     "name": "stdout",
     "output_type": "stream",
     "text": [
      "Episode: 1164   score: 14.62   Avg score (100e): 14.02   actor gain: -0.60   critic loss: 0.41   steps: 1164\n"
     ]
    },
    {
     "name": "stderr",
     "output_type": "stream",
     "text": [
      "training loop:   2% |                                 | ETA:  37 days, 10:12:24\r"
     ]
    },
    {
     "name": "stdout",
     "output_type": "stream",
     "text": [
      "Episode: 1165   score: 14.63   Avg score (100e): 14.03   actor gain: -0.60   critic loss: 0.41   steps: 1165\n"
     ]
    },
    {
     "name": "stderr",
     "output_type": "stream",
     "text": [
      "training loop:   2% |                                 | ETA:  37 days, 10:11:12\r"
     ]
    },
    {
     "name": "stdout",
     "output_type": "stream",
     "text": [
      "Episode: 1166   score: 14.66   Avg score (100e): 14.04   actor gain: -0.60   critic loss: 0.41   steps: 1166\n"
     ]
    },
    {
     "name": "stderr",
     "output_type": "stream",
     "text": [
      "training loop:   2% |                                 | ETA:  37 days, 10:09:10\r"
     ]
    },
    {
     "name": "stdout",
     "output_type": "stream",
     "text": [
      "Episode: 1167   score: 14.67   Avg score (100e): 14.05   actor gain: -0.60   critic loss: 0.41   steps: 1167\n"
     ]
    },
    {
     "name": "stderr",
     "output_type": "stream",
     "text": [
      "training loop:   2% |                                 | ETA:  37 days, 10:10:12\r"
     ]
    },
    {
     "name": "stdout",
     "output_type": "stream",
     "text": [
      "Episode: 1168   score: 14.67   Avg score (100e): 14.06   actor gain: -0.59   critic loss: 0.41   steps: 1168\n"
     ]
    },
    {
     "name": "stderr",
     "output_type": "stream",
     "text": [
      "training loop:   2% |                                 | ETA:  37 days, 10:13:19\r"
     ]
    },
    {
     "name": "stdout",
     "output_type": "stream",
     "text": [
      "Episode: 1169   score: 14.68   Avg score (100e): 14.07   actor gain: -0.59   critic loss: 0.41   steps: 1169\n"
     ]
    },
    {
     "name": "stderr",
     "output_type": "stream",
     "text": [
      "training loop:   2% |                                 | ETA:  37 days, 10:17:49\r"
     ]
    },
    {
     "name": "stdout",
     "output_type": "stream",
     "text": [
      "Episode: 1170   score: 14.70   Avg score (100e): 14.08   actor gain: -0.59   critic loss: 0.41   steps: 1170\n"
     ]
    },
    {
     "name": "stderr",
     "output_type": "stream",
     "text": [
      "training loop:   2% |                                 | ETA:  37 days, 10:17:49\r"
     ]
    },
    {
     "name": "stdout",
     "output_type": "stream",
     "text": [
      "Episode: 1171   score: 14.71   Avg score (100e): 14.09   actor gain: -0.59   critic loss: 0.41   steps: 1171\n"
     ]
    },
    {
     "name": "stderr",
     "output_type": "stream",
     "text": [
      "training loop:   2% |                                 | ETA:  37 days, 10:20:34\r"
     ]
    },
    {
     "name": "stdout",
     "output_type": "stream",
     "text": [
      "Episode: 1172   score: 14.72   Avg score (100e): 14.10   actor gain: -0.59   critic loss: 0.41   steps: 1172\n"
     ]
    },
    {
     "name": "stderr",
     "output_type": "stream",
     "text": [
      "training loop:   2% |                                 | ETA:  37 days, 10:19:21\r"
     ]
    },
    {
     "name": "stdout",
     "output_type": "stream",
     "text": [
      "Episode: 1173   score: 14.73   Avg score (100e): 14.12   actor gain: -0.59   critic loss: 0.41   steps: 1173\n"
     ]
    },
    {
     "name": "stderr",
     "output_type": "stream",
     "text": [
      "training loop:   2% |                                 | ETA:  37 days, 10:38:53\r"
     ]
    },
    {
     "name": "stdout",
     "output_type": "stream",
     "text": [
      "Episode: 1174   score: 14.75   Avg score (100e): 14.13   actor gain: -0.60   critic loss: 0.41   steps: 1174\n"
     ]
    },
    {
     "name": "stderr",
     "output_type": "stream",
     "text": [
      "training loop:   2% |                                 | ETA:  37 days, 10:46:23\r"
     ]
    },
    {
     "name": "stdout",
     "output_type": "stream",
     "text": [
      "Episode: 1175   score: 14.76   Avg score (100e): 14.14   actor gain: -0.59   critic loss: 0.41   steps: 1175\n"
     ]
    },
    {
     "name": "stderr",
     "output_type": "stream",
     "text": [
      "training loop:   2% |                                 | ETA:  37 days, 10:59:32\r"
     ]
    },
    {
     "name": "stdout",
     "output_type": "stream",
     "text": [
      "Episode: 1176   score: 14.78   Avg score (100e): 14.15   actor gain: -0.58   critic loss: 0.41   steps: 1176\n"
     ]
    },
    {
     "name": "stderr",
     "output_type": "stream",
     "text": [
      "training loop:   2% |                                 | ETA:  37 days, 11:12:03\r"
     ]
    },
    {
     "name": "stdout",
     "output_type": "stream",
     "text": [
      "Episode: 1177   score: 14.78   Avg score (100e): 14.16   actor gain: -0.58   critic loss: 0.41   steps: 1177\n"
     ]
    },
    {
     "name": "stderr",
     "output_type": "stream",
     "text": [
      "training loop:   2% |                                 | ETA:  37 days, 11:30:10\r"
     ]
    },
    {
     "name": "stdout",
     "output_type": "stream",
     "text": [
      "Episode: 1178   score: 14.80   Avg score (100e): 14.17   actor gain: -0.58   critic loss: 0.41   steps: 1178\n"
     ]
    },
    {
     "name": "stderr",
     "output_type": "stream",
     "text": [
      "training loop:   2% |                                 | ETA:  37 days, 11:37:53\r"
     ]
    },
    {
     "name": "stdout",
     "output_type": "stream",
     "text": [
      "Episode: 1179   score: 14.81   Avg score (100e): 14.18   actor gain: -0.58   critic loss: 0.41   steps: 1179\n"
     ]
    },
    {
     "name": "stderr",
     "output_type": "stream",
     "text": [
      "training loop:   2% |                                 | ETA:  37 days, 11:40:57\r"
     ]
    },
    {
     "name": "stdout",
     "output_type": "stream",
     "text": [
      "Episode: 1180   score: 14.82   Avg score (100e): 14.19   actor gain: -0.61   critic loss: 0.41   steps: 1180\n"
     ]
    },
    {
     "name": "stderr",
     "output_type": "stream",
     "text": [
      "training loop:   2% |                                 | ETA:  37 days, 11:44:13\r"
     ]
    },
    {
     "name": "stdout",
     "output_type": "stream",
     "text": [
      "Episode: 1181   score: 14.84   Avg score (100e): 14.21   actor gain: -0.61   critic loss: 0.41   steps: 1181\n"
     ]
    },
    {
     "name": "stderr",
     "output_type": "stream",
     "text": [
      "training loop:   2% |                                 | ETA:  37 days, 11:46:56\r"
     ]
    },
    {
     "name": "stdout",
     "output_type": "stream",
     "text": [
      "Episode: 1182   score: 14.85   Avg score (100e): 14.22   actor gain: -0.44   critic loss: 0.41   steps: 1182\n"
     ]
    },
    {
     "name": "stderr",
     "output_type": "stream",
     "text": [
      "training loop:   2% |                                 | ETA:  37 days, 11:50:34\r"
     ]
    },
    {
     "name": "stdout",
     "output_type": "stream",
     "text": [
      "Episode: 1183   score: 14.86   Avg score (100e): 14.23   actor gain: -0.44   critic loss: 0.41   steps: 1183\n"
     ]
    },
    {
     "name": "stderr",
     "output_type": "stream",
     "text": [
      "training loop:   2% |                                 | ETA:  37 days, 11:49:19\r"
     ]
    },
    {
     "name": "stdout",
     "output_type": "stream",
     "text": [
      "Episode: 1184   score: 14.87   Avg score (100e): 14.24   actor gain: -0.43   critic loss: 0.41   steps: 1184\n"
     ]
    },
    {
     "name": "stderr",
     "output_type": "stream",
     "text": [
      "training loop:   2% |                                 | ETA:  37 days, 11:48:03\r"
     ]
    },
    {
     "name": "stdout",
     "output_type": "stream",
     "text": [
      "Episode: 1185   score: 14.88   Avg score (100e): 14.25   actor gain: -0.43   critic loss: 0.41   steps: 1185\n"
     ]
    },
    {
     "name": "stderr",
     "output_type": "stream",
     "text": [
      "training loop:   2% |                                 | ETA:  37 days, 11:46:57\r"
     ]
    },
    {
     "name": "stdout",
     "output_type": "stream",
     "text": [
      "Episode: 1186   score: 14.90   Avg score (100e): 14.27   actor gain: -0.42   critic loss: 0.41   steps: 1186\n"
     ]
    },
    {
     "name": "stderr",
     "output_type": "stream",
     "text": [
      "training loop:   2% |                                 | ETA:  37 days, 11:48:20\r"
     ]
    },
    {
     "name": "stdout",
     "output_type": "stream",
     "text": [
      "Episode: 1187   score: 14.91   Avg score (100e): 14.28   actor gain: -0.42   critic loss: 0.41   steps: 1187\n"
     ]
    },
    {
     "name": "stderr",
     "output_type": "stream",
     "text": [
      "training loop:   2% |                                 | ETA:  37 days, 11:50:38\r"
     ]
    },
    {
     "name": "stdout",
     "output_type": "stream",
     "text": [
      "Episode: 1188   score: 14.92   Avg score (100e): 14.29   actor gain: -0.42   critic loss: 0.41   steps: 1188\n"
     ]
    },
    {
     "name": "stderr",
     "output_type": "stream",
     "text": [
      "training loop:   2% |                                 | ETA:  37 days, 11:59:17\r"
     ]
    },
    {
     "name": "stdout",
     "output_type": "stream",
     "text": [
      "Episode: 1189   score: 14.93   Avg score (100e): 14.30   actor gain: -0.42   critic loss: 0.41   steps: 1189\n"
     ]
    },
    {
     "name": "stderr",
     "output_type": "stream",
     "text": [
      "training loop:   2% |                                 | ETA:  37 days, 12:05:14\r"
     ]
    },
    {
     "name": "stdout",
     "output_type": "stream",
     "text": [
      "Episode: 1190   score: 14.96   Avg score (100e): 14.31   actor gain: -0.41   critic loss: 0.41   steps: 1190\n"
     ]
    },
    {
     "name": "stderr",
     "output_type": "stream",
     "text": [
      "training loop:   2% |                                 | ETA:  37 days, 12:26:08\r"
     ]
    },
    {
     "name": "stdout",
     "output_type": "stream",
     "text": [
      "Episode: 1191   score: 14.97   Avg score (100e): 14.33   actor gain: -0.41   critic loss: 0.41   steps: 1191\n"
     ]
    },
    {
     "name": "stderr",
     "output_type": "stream",
     "text": [
      "training loop:   2% |                                 | ETA:  37 days, 12:30:20\r"
     ]
    },
    {
     "name": "stdout",
     "output_type": "stream",
     "text": [
      "Episode: 1192   score: 14.99   Avg score (100e): 14.34   actor gain: -0.41   critic loss: 0.41   steps: 1192\n"
     ]
    },
    {
     "name": "stderr",
     "output_type": "stream",
     "text": [
      "training loop:   2% |                                 | ETA:  37 days, 12:46:19\r"
     ]
    },
    {
     "name": "stdout",
     "output_type": "stream",
     "text": [
      "Episode: 1193   score: 15.01   Avg score (100e): 14.35   actor gain: -0.41   critic loss: 0.41   steps: 1193\n"
     ]
    },
    {
     "name": "stderr",
     "output_type": "stream",
     "text": [
      "training loop:   2% |                                 | ETA:  37 days, 12:59:39\r"
     ]
    },
    {
     "name": "stdout",
     "output_type": "stream",
     "text": [
      "Episode: 1194   score: 15.02   Avg score (100e): 14.37   actor gain: -0.41   critic loss: 0.41   steps: 1194\n"
     ]
    },
    {
     "name": "stderr",
     "output_type": "stream",
     "text": [
      "training loop:   2% |                                 | ETA:  37 days, 12:59:27\r"
     ]
    },
    {
     "name": "stdout",
     "output_type": "stream",
     "text": [
      "Episode: 1195   score: 15.03   Avg score (100e): 14.38   actor gain: -0.41   critic loss: 0.41   steps: 1195\n"
     ]
    },
    {
     "name": "stderr",
     "output_type": "stream",
     "text": [
      "training loop:   2% |                                 | ETA:  37 days, 13:04:21\r"
     ]
    },
    {
     "name": "stdout",
     "output_type": "stream",
     "text": [
      "Episode: 1196   score: 15.04   Avg score (100e): 14.39   actor gain: -0.41   critic loss: 0.41   steps: 1196\n"
     ]
    },
    {
     "name": "stderr",
     "output_type": "stream",
     "text": [
      "training loop:   2% |                                 | ETA:  37 days, 13:14:29\r"
     ]
    },
    {
     "name": "stdout",
     "output_type": "stream",
     "text": [
      "Episode: 1197   score: 15.06   Avg score (100e): 14.40   actor gain: -0.45   critic loss: 0.41   steps: 1197\n"
     ]
    },
    {
     "name": "stderr",
     "output_type": "stream",
     "text": [
      "training loop:   2% |                                 | ETA:  37 days, 13:29:52\r"
     ]
    },
    {
     "name": "stdout",
     "output_type": "stream",
     "text": [
      "Episode: 1198   score: 15.07   Avg score (100e): 14.42   actor gain: -0.45   critic loss: 0.41   steps: 1198\n"
     ]
    },
    {
     "name": "stderr",
     "output_type": "stream",
     "text": [
      "training loop:   2% |                                 | ETA:  37 days, 13:37:41\r"
     ]
    },
    {
     "name": "stdout",
     "output_type": "stream",
     "text": [
      "Episode: 1199   score: 15.08   Avg score (100e): 14.43   actor gain: -0.44   critic loss: 0.41   steps: 1199\n"
     ]
    },
    {
     "name": "stderr",
     "output_type": "stream",
     "text": [
      "training loop:   2% |                                 | ETA:  37 days, 13:40:00\r"
     ]
    },
    {
     "name": "stdout",
     "output_type": "stream",
     "text": [
      "Episode: 1200   score: 15.09   Avg score (100e): 14.44   actor gain: -0.44   critic loss: 0.41   steps: 1200\n"
     ]
    },
    {
     "name": "stderr",
     "output_type": "stream",
     "text": [
      "training loop:   2% |                                 | ETA:  37 days, 13:39:13\r"
     ]
    },
    {
     "name": "stdout",
     "output_type": "stream",
     "text": [
      "Episode: 1201   score: 15.12   Avg score (100e): 14.46   actor gain: -0.44   critic loss: 0.41   steps: 1201\n"
     ]
    },
    {
     "name": "stderr",
     "output_type": "stream",
     "text": [
      "training loop:   2% |                                 | ETA:  37 days, 13:38:53\r"
     ]
    },
    {
     "name": "stdout",
     "output_type": "stream",
     "text": [
      "Episode: 1202   score: 15.13   Avg score (100e): 14.47   actor gain: -0.46   critic loss: 0.41   steps: 1202\n"
     ]
    },
    {
     "name": "stderr",
     "output_type": "stream",
     "text": [
      "training loop:   2% |                                 | ETA:  37 days, 13:39:27\r"
     ]
    },
    {
     "name": "stdout",
     "output_type": "stream",
     "text": [
      "Episode: 1203   score: 15.15   Avg score (100e): 14.48   actor gain: -0.46   critic loss: 0.41   steps: 1203\n"
     ]
    },
    {
     "name": "stderr",
     "output_type": "stream",
     "text": [
      "training loop:   2% |                                 | ETA:  37 days, 13:38:35\r"
     ]
    },
    {
     "name": "stdout",
     "output_type": "stream",
     "text": [
      "Episode: 1204   score: 15.16   Avg score (100e): 14.49   actor gain: -0.46   critic loss: 0.41   steps: 1204\n"
     ]
    },
    {
     "name": "stderr",
     "output_type": "stream",
     "text": [
      "training loop:   2% |                                 | ETA:  37 days, 13:37:39\r"
     ]
    },
    {
     "name": "stdout",
     "output_type": "stream",
     "text": [
      "Episode: 1205   score: 15.18   Avg score (100e): 14.51   actor gain: -0.43   critic loss: 0.41   steps: 1205\n"
     ]
    },
    {
     "name": "stderr",
     "output_type": "stream",
     "text": [
      "training loop:   2% |                                 | ETA:  37 days, 13:44:22\r"
     ]
    },
    {
     "name": "stdout",
     "output_type": "stream",
     "text": [
      "Episode: 1206   score: 15.19   Avg score (100e): 14.52   actor gain: -0.43   critic loss: 0.41   steps: 1206\n"
     ]
    },
    {
     "name": "stderr",
     "output_type": "stream",
     "text": [
      "training loop:   2% |                                 | ETA:  37 days, 13:44:59\r"
     ]
    },
    {
     "name": "stdout",
     "output_type": "stream",
     "text": [
      "Episode: 1207   score: 15.20   Avg score (100e): 14.53   actor gain: -0.43   critic loss: 0.41   steps: 1207\n"
     ]
    },
    {
     "name": "stderr",
     "output_type": "stream",
     "text": [
      "training loop:   2% |                                 | ETA:  37 days, 13:43:09\r"
     ]
    },
    {
     "name": "stdout",
     "output_type": "stream",
     "text": [
      "Episode: 1208   score: 15.21   Avg score (100e): 14.55   actor gain: -0.43   critic loss: 0.41   steps: 1208\n"
     ]
    },
    {
     "name": "stderr",
     "output_type": "stream",
     "text": [
      "training loop:   2% |                                 | ETA:  37 days, 13:42:03\r"
     ]
    },
    {
     "name": "stdout",
     "output_type": "stream",
     "text": [
      "Episode: 1209   score: 15.23   Avg score (100e): 14.56   actor gain: -0.43   critic loss: 0.41   steps: 1209\n"
     ]
    },
    {
     "name": "stderr",
     "output_type": "stream",
     "text": [
      "training loop:   2% |                                 | ETA:  37 days, 13:41:32\r"
     ]
    },
    {
     "name": "stdout",
     "output_type": "stream",
     "text": [
      "Episode: 1210   score: 15.25   Avg score (100e): 14.57   actor gain: -0.59   critic loss: 0.41   steps: 1210\n"
     ]
    },
    {
     "name": "stderr",
     "output_type": "stream",
     "text": [
      "training loop:   2% |                                 | ETA:  37 days, 13:39:34\r"
     ]
    },
    {
     "name": "stdout",
     "output_type": "stream",
     "text": [
      "Episode: 1211   score: 15.26   Avg score (100e): 14.59   actor gain: -0.59   critic loss: 0.41   steps: 1211\n"
     ]
    },
    {
     "name": "stderr",
     "output_type": "stream",
     "text": [
      "training loop:   2% |                                 | ETA:  37 days, 13:36:26\r"
     ]
    },
    {
     "name": "stdout",
     "output_type": "stream",
     "text": [
      "Episode: 1212   score: 15.27   Avg score (100e): 14.60   actor gain: -0.63   critic loss: 0.41   steps: 1212\n"
     ]
    },
    {
     "name": "stderr",
     "output_type": "stream",
     "text": [
      "training loop:   2% |                                 | ETA:  37 days, 13:33:10\r"
     ]
    },
    {
     "name": "stdout",
     "output_type": "stream",
     "text": [
      "Episode: 1213   score: 15.29   Avg score (100e): 14.61   actor gain: -0.62   critic loss: 0.41   steps: 1213\n"
     ]
    },
    {
     "name": "stderr",
     "output_type": "stream",
     "text": [
      "training loop:   2% |                                 | ETA:  37 days, 13:31:29\r"
     ]
    },
    {
     "name": "stdout",
     "output_type": "stream",
     "text": [
      "Episode: 1214   score: 15.30   Avg score (100e): 14.63   actor gain: -0.62   critic loss: 0.41   steps: 1214\n"
     ]
    },
    {
     "name": "stderr",
     "output_type": "stream",
     "text": [
      "training loop:   2% |                                 | ETA:  37 days, 13:26:55\r"
     ]
    },
    {
     "name": "stdout",
     "output_type": "stream",
     "text": [
      "Episode: 1215   score: 15.32   Avg score (100e): 14.64   actor gain: -0.62   critic loss: 0.41   steps: 1215\n"
     ]
    },
    {
     "name": "stderr",
     "output_type": "stream",
     "text": [
      "training loop:   2% |                                 | ETA:  37 days, 13:22:51\r"
     ]
    },
    {
     "name": "stdout",
     "output_type": "stream",
     "text": [
      "Episode: 1216   score: 15.33   Avg score (100e): 14.65   actor gain: -0.63   critic loss: 0.42   steps: 1216\n"
     ]
    },
    {
     "name": "stderr",
     "output_type": "stream",
     "text": [
      "training loop:   2% |                                 | ETA:  37 days, 13:19:17\r"
     ]
    },
    {
     "name": "stdout",
     "output_type": "stream",
     "text": [
      "Episode: 1217   score: 15.35   Avg score (100e): 14.67   actor gain: -0.63   critic loss: 0.42   steps: 1217\n"
     ]
    },
    {
     "name": "stderr",
     "output_type": "stream",
     "text": [
      "training loop:   2% |                                 | ETA:  37 days, 13:16:36\r"
     ]
    },
    {
     "name": "stdout",
     "output_type": "stream",
     "text": [
      "Episode: 1218   score: 15.37   Avg score (100e): 14.68   actor gain: -0.63   critic loss: 0.42   steps: 1218\n"
     ]
    },
    {
     "name": "stderr",
     "output_type": "stream",
     "text": [
      "training loop:   2% |                                 | ETA:  37 days, 13:10:13\r"
     ]
    },
    {
     "name": "stdout",
     "output_type": "stream",
     "text": [
      "Episode: 1219   score: 15.38   Avg score (100e): 14.70   actor gain: -0.63   critic loss: 0.42   steps: 1219\n"
     ]
    },
    {
     "name": "stderr",
     "output_type": "stream",
     "text": [
      "training loop:   2% |                                 | ETA:  37 days, 13:07:32\r"
     ]
    },
    {
     "name": "stdout",
     "output_type": "stream",
     "text": [
      "Episode: 1220   score: 15.39   Avg score (100e): 14.71   actor gain: -0.63   critic loss: 0.42   steps: 1220\n"
     ]
    },
    {
     "name": "stderr",
     "output_type": "stream",
     "text": [
      "training loop:   2% |                                 | ETA:  37 days, 13:14:46\r"
     ]
    },
    {
     "name": "stdout",
     "output_type": "stream",
     "text": [
      "Episode: 1221   score: 15.41   Avg score (100e): 14.72   actor gain: -0.63   critic loss: 0.42   steps: 1221\n"
     ]
    },
    {
     "name": "stderr",
     "output_type": "stream",
     "text": [
      "training loop:   2% |                                 | ETA:  37 days, 13:11:21\r"
     ]
    },
    {
     "name": "stdout",
     "output_type": "stream",
     "text": [
      "Episode: 1222   score: 15.42   Avg score (100e): 14.74   actor gain: -0.59   critic loss: 0.42   steps: 1222\n"
     ]
    },
    {
     "name": "stderr",
     "output_type": "stream",
     "text": [
      "training loop:   2% |                                 | ETA:  37 days, 13:08:50\r"
     ]
    },
    {
     "name": "stdout",
     "output_type": "stream",
     "text": [
      "Episode: 1223   score: 15.43   Avg score (100e): 14.75   actor gain: -0.59   critic loss: 0.42   steps: 1223\n"
     ]
    },
    {
     "name": "stderr",
     "output_type": "stream",
     "text": [
      "training loop:   2% |                                 | ETA:  37 days, 13:06:54\r"
     ]
    },
    {
     "name": "stdout",
     "output_type": "stream",
     "text": [
      "Episode: 1224   score: 15.44   Avg score (100e): 14.76   actor gain: -0.59   critic loss: 0.42   steps: 1224\n"
     ]
    },
    {
     "name": "stderr",
     "output_type": "stream",
     "text": [
      "training loop:   2% |                                 | ETA:  37 days, 13:22:01\r"
     ]
    },
    {
     "name": "stdout",
     "output_type": "stream",
     "text": [
      "Episode: 1225   score: 15.46   Avg score (100e): 14.78   actor gain: -0.59   critic loss: 0.42   steps: 1225\n"
     ]
    },
    {
     "name": "stderr",
     "output_type": "stream",
     "text": [
      "training loop:   2% |                                 | ETA:  37 days, 13:19:30\r"
     ]
    },
    {
     "name": "stdout",
     "output_type": "stream",
     "text": [
      "Episode: 1226   score: 15.47   Avg score (100e): 14.79   actor gain: -0.59   critic loss: 0.42   steps: 1226\n"
     ]
    },
    {
     "name": "stderr",
     "output_type": "stream",
     "text": [
      "training loop:   2% |                                 | ETA:  37 days, 13:18:17\r"
     ]
    },
    {
     "name": "stdout",
     "output_type": "stream",
     "text": [
      "Episode: 1227   score: 15.49   Avg score (100e): 14.80   actor gain: -0.57   critic loss: 0.42   steps: 1227\n"
     ]
    },
    {
     "name": "stderr",
     "output_type": "stream",
     "text": [
      "training loop:   2% |                                 | ETA:  37 days, 13:21:24\r"
     ]
    },
    {
     "name": "stdout",
     "output_type": "stream",
     "text": [
      "Episode: 1228   score: 15.51   Avg score (100e): 14.82   actor gain: -0.57   critic loss: 0.42   steps: 1228\n"
     ]
    },
    {
     "name": "stderr",
     "output_type": "stream",
     "text": [
      "training loop:   2% |                                 | ETA:  37 days, 13:26:14\r"
     ]
    },
    {
     "name": "stdout",
     "output_type": "stream",
     "text": [
      "Episode: 1229   score: 15.52   Avg score (100e): 14.83   actor gain: -0.57   critic loss: 0.42   steps: 1229\n"
     ]
    },
    {
     "name": "stderr",
     "output_type": "stream",
     "text": [
      "training loop:   2% |                                 | ETA:  37 days, 13:26:55\r"
     ]
    },
    {
     "name": "stdout",
     "output_type": "stream",
     "text": [
      "Episode: 1230   score: 15.54   Avg score (100e): 14.84   actor gain: -0.58   critic loss: 0.42   steps: 1230\n"
     ]
    },
    {
     "name": "stderr",
     "output_type": "stream",
     "text": [
      "training loop:   2% |                                 | ETA:  37 days, 13:27:11\r"
     ]
    },
    {
     "name": "stdout",
     "output_type": "stream",
     "text": [
      "Episode: 1231   score: 15.55   Avg score (100e): 14.86   actor gain: -0.58   critic loss: 0.42   steps: 1231\n"
     ]
    },
    {
     "name": "stderr",
     "output_type": "stream",
     "text": [
      "training loop:   2% |                                 | ETA:  37 days, 13:22:33\r"
     ]
    },
    {
     "name": "stdout",
     "output_type": "stream",
     "text": [
      "Episode: 1232   score: 15.58   Avg score (100e): 14.87   actor gain: -0.58   critic loss: 0.42   steps: 1232\n"
     ]
    },
    {
     "name": "stderr",
     "output_type": "stream",
     "text": [
      "training loop:   2% |                                 | ETA:  37 days, 13:20:10\r"
     ]
    },
    {
     "name": "stdout",
     "output_type": "stream",
     "text": [
      "Episode: 1233   score: 15.59   Avg score (100e): 14.88   actor gain: -0.58   critic loss: 0.42   steps: 1233\n"
     ]
    },
    {
     "name": "stderr",
     "output_type": "stream",
     "text": [
      "training loop:   2% |                                 | ETA:  37 days, 13:15:09\r"
     ]
    },
    {
     "name": "stdout",
     "output_type": "stream",
     "text": [
      "Episode: 1234   score: 15.59   Avg score (100e): 14.90   actor gain: -0.58   critic loss: 0.42   steps: 1234\n"
     ]
    },
    {
     "name": "stderr",
     "output_type": "stream",
     "text": [
      "training loop:   2% |                                 | ETA:  37 days, 13:15:02\r"
     ]
    },
    {
     "name": "stdout",
     "output_type": "stream",
     "text": [
      "Episode: 1235   score: 15.61   Avg score (100e): 14.91   actor gain: -0.42   critic loss: 0.42   steps: 1235\n"
     ]
    },
    {
     "name": "stderr",
     "output_type": "stream",
     "text": [
      "training loop:   2% |                                 | ETA:  37 days, 13:11:44\r"
     ]
    },
    {
     "name": "stdout",
     "output_type": "stream",
     "text": [
      "Episode: 1236   score: 15.62   Avg score (100e): 14.93   actor gain: -0.42   critic loss: 0.42   steps: 1236\n"
     ]
    },
    {
     "name": "stderr",
     "output_type": "stream",
     "text": [
      "training loop:   2% |                                 | ETA:  37 days, 13:07:51\r"
     ]
    },
    {
     "name": "stdout",
     "output_type": "stream",
     "text": [
      "Episode: 1237   score: 15.63   Avg score (100e): 14.94   actor gain: -0.38   critic loss: 0.42   steps: 1237\n"
     ]
    },
    {
     "name": "stderr",
     "output_type": "stream",
     "text": [
      "training loop:   2% |                                 | ETA:  37 days, 13:17:50\r"
     ]
    },
    {
     "name": "stdout",
     "output_type": "stream",
     "text": [
      "Episode: 1238   score: 15.63   Avg score (100e): 14.95   actor gain: -0.38   critic loss: 0.42   steps: 1238\n"
     ]
    },
    {
     "name": "stderr",
     "output_type": "stream",
     "text": [
      "training loop:   2% |                                 | ETA:  37 days, 13:14:35\r"
     ]
    },
    {
     "name": "stdout",
     "output_type": "stream",
     "text": [
      "Episode: 1239   score: 15.64   Avg score (100e): 14.97   actor gain: -0.38   critic loss: 0.42   steps: 1239\n"
     ]
    },
    {
     "name": "stderr",
     "output_type": "stream",
     "text": [
      "training loop:   2% |                                 | ETA:  37 days, 13:13:39\r"
     ]
    },
    {
     "name": "stdout",
     "output_type": "stream",
     "text": [
      "Episode: 1240   score: 15.65   Avg score (100e): 14.98   actor gain: -0.38   critic loss: 0.42   steps: 1240\n",
      "np.all(done) is true! miracle!\n"
     ]
    },
    {
     "name": "stderr",
     "output_type": "stream",
     "text": [
      "training loop:   2% |                                 | ETA:  37 days, 13:12:59\r"
     ]
    },
    {
     "name": "stdout",
     "output_type": "stream",
     "text": [
      "Episode: 1241   score: 15.66   Avg score (100e): 14.99   actor gain: -0.38   critic loss: 0.42   steps: 1241\n"
     ]
    },
    {
     "name": "stderr",
     "output_type": "stream",
     "text": [
      "training loop:   2% |                                 | ETA:  37 days, 13:12:53\r"
     ]
    },
    {
     "name": "stdout",
     "output_type": "stream",
     "text": [
      "Episode: 1242   score: 15.67   Avg score (100e): 15.01   actor gain: -0.38   critic loss: 0.42   steps: 1242\n"
     ]
    },
    {
     "name": "stderr",
     "output_type": "stream",
     "text": [
      "training loop:   2% |                                 | ETA:  37 days, 13:13:58\r"
     ]
    },
    {
     "name": "stdout",
     "output_type": "stream",
     "text": [
      "Episode: 1243   score: 15.68   Avg score (100e): 15.02   actor gain: -0.38   critic loss: 0.42   steps: 1243\n"
     ]
    },
    {
     "name": "stderr",
     "output_type": "stream",
     "text": [
      "training loop:   2% |                                 | ETA:  37 days, 13:14:58\r"
     ]
    },
    {
     "name": "stdout",
     "output_type": "stream",
     "text": [
      "Episode: 1244   score: 15.69   Avg score (100e): 15.03   actor gain: -0.38   critic loss: 0.42   steps: 1244\n"
     ]
    },
    {
     "name": "stderr",
     "output_type": "stream",
     "text": [
      "training loop:   2% |                                 | ETA:  37 days, 13:21:20\r"
     ]
    },
    {
     "name": "stdout",
     "output_type": "stream",
     "text": [
      "Episode: 1245   score: 15.71   Avg score (100e): 15.05   actor gain: -0.38   critic loss: 0.42   steps: 1245\n"
     ]
    },
    {
     "name": "stderr",
     "output_type": "stream",
     "text": [
      "training loop:   2% |                                 | ETA:  37 days, 13:23:42\r"
     ]
    },
    {
     "name": "stdout",
     "output_type": "stream",
     "text": [
      "Episode: 1246   score: 15.72   Avg score (100e): 15.06   actor gain: -0.38   critic loss: 0.41   steps: 1246\n"
     ]
    },
    {
     "name": "stderr",
     "output_type": "stream",
     "text": [
      "training loop:   2% |                                 | ETA:  37 days, 13:26:51\r"
     ]
    },
    {
     "name": "stdout",
     "output_type": "stream",
     "text": [
      "Episode: 1247   score: 15.73   Avg score (100e): 15.07   actor gain: -0.38   critic loss: 0.41   steps: 1247\n"
     ]
    },
    {
     "name": "stderr",
     "output_type": "stream",
     "text": [
      "training loop:   2% |                                 | ETA:  37 days, 13:24:06\r"
     ]
    },
    {
     "name": "stdout",
     "output_type": "stream",
     "text": [
      "Episode: 1248   score: 15.76   Avg score (100e): 15.09   actor gain: -0.38   critic loss: 0.41   steps: 1248\n"
     ]
    },
    {
     "name": "stderr",
     "output_type": "stream",
     "text": [
      "training loop:   2% |                                 | ETA:  37 days, 13:18:34\r"
     ]
    },
    {
     "name": "stdout",
     "output_type": "stream",
     "text": [
      "Episode: 1249   score: 15.77   Avg score (100e): 15.10   actor gain: -0.38   critic loss: 0.41   steps: 1249\n"
     ]
    },
    {
     "name": "stderr",
     "output_type": "stream",
     "text": [
      "training loop:   2% |                                 | ETA:  37 days, 13:15:42\r"
     ]
    },
    {
     "name": "stdout",
     "output_type": "stream",
     "text": [
      "Episode: 1250   score: 15.78   Avg score (100e): 15.11   actor gain: -0.38   critic loss: 0.41   steps: 1250\n"
     ]
    },
    {
     "name": "stderr",
     "output_type": "stream",
     "text": [
      "training loop:   2% |                                 | ETA:  37 days, 13:14:57\r"
     ]
    },
    {
     "name": "stdout",
     "output_type": "stream",
     "text": [
      "Episode: 1251   score: 15.80   Avg score (100e): 15.13   actor gain: -0.38   critic loss: 0.41   steps: 1251\n"
     ]
    },
    {
     "name": "stderr",
     "output_type": "stream",
     "text": [
      "training loop:   2% |                                 | ETA:  37 days, 13:14:50\r"
     ]
    },
    {
     "name": "stdout",
     "output_type": "stream",
     "text": [
      "Episode: 1252   score: 15.82   Avg score (100e): 15.14   actor gain: -0.38   critic loss: 0.41   steps: 1252\n"
     ]
    },
    {
     "name": "stderr",
     "output_type": "stream",
     "text": [
      "training loop:   2% |                                 | ETA:  37 days, 13:16:55\r"
     ]
    },
    {
     "name": "stdout",
     "output_type": "stream",
     "text": [
      "Episode: 1253   score: 15.84   Avg score (100e): 15.15   actor gain: -0.38   critic loss: 0.41   steps: 1253\n"
     ]
    },
    {
     "name": "stderr",
     "output_type": "stream",
     "text": [
      "training loop:   2% |                                 | ETA:  37 days, 13:22:25\r"
     ]
    },
    {
     "name": "stdout",
     "output_type": "stream",
     "text": [
      "Episode: 1254   score: 15.85   Avg score (100e): 15.17   actor gain: -0.39   critic loss: 0.41   steps: 1254\n"
     ]
    },
    {
     "name": "stderr",
     "output_type": "stream",
     "text": [
      "training loop:   2% |                                 | ETA:  37 days, 13:23:07\r"
     ]
    },
    {
     "name": "stdout",
     "output_type": "stream",
     "text": [
      "Episode: 1255   score: 15.86   Avg score (100e): 15.18   actor gain: -0.38   critic loss: 0.41   steps: 1255\n"
     ]
    },
    {
     "name": "stderr",
     "output_type": "stream",
     "text": [
      "training loop:   2% |                                 | ETA:  37 days, 13:19:54\r"
     ]
    },
    {
     "name": "stdout",
     "output_type": "stream",
     "text": [
      "Episode: 1256   score: 15.87   Avg score (100e): 15.20   actor gain: -0.38   critic loss: 0.41   steps: 1256\n"
     ]
    },
    {
     "name": "stderr",
     "output_type": "stream",
     "text": [
      "training loop:   2% |                                 | ETA:  37 days, 13:24:48\r"
     ]
    },
    {
     "name": "stdout",
     "output_type": "stream",
     "text": [
      "Episode: 1257   score: 15.89   Avg score (100e): 15.21   actor gain: -0.38   critic loss: 0.41   steps: 1257\n",
      "np.all(done) is true! miracle!\n"
     ]
    },
    {
     "name": "stderr",
     "output_type": "stream",
     "text": [
      "training loop:   2% |                                 | ETA:  37 days, 13:13:47\r"
     ]
    },
    {
     "name": "stdout",
     "output_type": "stream",
     "text": [
      "Episode: 1258   score: 15.90   Avg score (100e): 15.22   actor gain: -0.38   critic loss: 0.41   steps: 1258\n"
     ]
    },
    {
     "name": "stderr",
     "output_type": "stream",
     "text": [
      "training loop:   2% |                                 | ETA:  37 days, 13:04:03\r"
     ]
    },
    {
     "name": "stdout",
     "output_type": "stream",
     "text": [
      "Episode: 1259   score: 15.91   Avg score (100e): 15.24   actor gain: -0.38   critic loss: 0.41   steps: 1259\n"
     ]
    },
    {
     "name": "stderr",
     "output_type": "stream",
     "text": [
      "training loop:   2% |                                 | ETA:  37 days, 12:53:32\r"
     ]
    },
    {
     "name": "stdout",
     "output_type": "stream",
     "text": [
      "Episode: 1260   score: 15.92   Avg score (100e): 15.25   actor gain: -0.38   critic loss: 0.41   steps: 1260\n"
     ]
    },
    {
     "name": "stderr",
     "output_type": "stream",
     "text": [
      "training loop:   2% |                                 | ETA:  37 days, 12:50:16\r"
     ]
    },
    {
     "name": "stdout",
     "output_type": "stream",
     "text": [
      "Episode: 1261   score: 15.92   Avg score (100e): 15.26   actor gain: -0.38   critic loss: 0.41   steps: 1261\n"
     ]
    },
    {
     "name": "stderr",
     "output_type": "stream",
     "text": [
      "training loop:   2% |                                 | ETA:  37 days, 12:45:11\r"
     ]
    },
    {
     "name": "stdout",
     "output_type": "stream",
     "text": [
      "Episode: 1262   score: 15.94   Avg score (100e): 15.28   actor gain: -0.38   critic loss: 0.41   steps: 1262\n"
     ]
    },
    {
     "name": "stderr",
     "output_type": "stream",
     "text": [
      "training loop:   2% |                                 | ETA:  37 days, 12:39:30\r"
     ]
    },
    {
     "name": "stdout",
     "output_type": "stream",
     "text": [
      "Episode: 1263   score: 15.95   Avg score (100e): 15.29   actor gain: -0.38   critic loss: 0.41   steps: 1263\n",
      "np.all(done) is true! miracle!\n"
     ]
    },
    {
     "name": "stderr",
     "output_type": "stream",
     "text": [
      "training loop:   2% |                                 | ETA:  37 days, 12:37:26\r"
     ]
    },
    {
     "name": "stdout",
     "output_type": "stream",
     "text": [
      "Episode: 1264   score: 15.97   Avg score (100e): 15.30   actor gain: -0.38   critic loss: 0.41   steps: 1264\n"
     ]
    },
    {
     "name": "stderr",
     "output_type": "stream",
     "text": [
      "training loop:   2% |                                 | ETA:  37 days, 12:43:20\r"
     ]
    },
    {
     "name": "stdout",
     "output_type": "stream",
     "text": [
      "Episode: 1265   score: 15.98   Avg score (100e): 15.32   actor gain: -0.38   critic loss: 0.41   steps: 1265\n"
     ]
    },
    {
     "name": "stderr",
     "output_type": "stream",
     "text": [
      "training loop:   2% |                                 | ETA:  37 days, 12:43:39\r"
     ]
    },
    {
     "name": "stdout",
     "output_type": "stream",
     "text": [
      "Episode: 1266   score: 15.99   Avg score (100e): 15.33   actor gain: -0.38   critic loss: 0.41   steps: 1266\n"
     ]
    },
    {
     "name": "stderr",
     "output_type": "stream",
     "text": [
      "training loop:   2% |                                 | ETA:  37 days, 12:45:59\r"
     ]
    },
    {
     "name": "stdout",
     "output_type": "stream",
     "text": [
      "Episode: 1267   score: 16.01   Avg score (100e): 15.34   actor gain: -0.38   critic loss: 0.41   steps: 1267\n"
     ]
    },
    {
     "name": "stderr",
     "output_type": "stream",
     "text": [
      "training loop:   2% |                                 | ETA:  37 days, 12:55:07\r"
     ]
    },
    {
     "name": "stdout",
     "output_type": "stream",
     "text": [
      "Episode: 1268   score: 16.02   Avg score (100e): 15.36   actor gain: -0.38   critic loss: 0.41   steps: 1268\n"
     ]
    },
    {
     "name": "stderr",
     "output_type": "stream",
     "text": [
      "training loop:   2% |                                 | ETA:  37 days, 12:52:07\r"
     ]
    },
    {
     "name": "stdout",
     "output_type": "stream",
     "text": [
      "Episode: 1269   score: 16.03   Avg score (100e): 15.37   actor gain: -0.38   critic loss: 0.41   steps: 1269\n"
     ]
    },
    {
     "name": "stderr",
     "output_type": "stream",
     "text": [
      "training loop:   2% |                                 | ETA:  37 days, 12:49:27\r"
     ]
    },
    {
     "name": "stdout",
     "output_type": "stream",
     "text": [
      "Episode: 1270   score: 16.04   Avg score (100e): 15.38   actor gain: -0.38   critic loss: 0.41   steps: 1270\n"
     ]
    },
    {
     "name": "stderr",
     "output_type": "stream",
     "text": [
      "training loop:   2% |                                 | ETA:  37 days, 12:55:32\r"
     ]
    },
    {
     "name": "stdout",
     "output_type": "stream",
     "text": [
      "Episode: 1271   score: 16.04   Avg score (100e): 15.40   actor gain: -0.39   critic loss: 0.41   steps: 1271\n"
     ]
    },
    {
     "name": "stderr",
     "output_type": "stream",
     "text": [
      "training loop:   2% |                                 | ETA:  37 days, 12:52:31\r"
     ]
    },
    {
     "name": "stdout",
     "output_type": "stream",
     "text": [
      "Episode: 1272   score: 16.06   Avg score (100e): 15.41   actor gain: -0.39   critic loss: 0.41   steps: 1272\n"
     ]
    },
    {
     "name": "stderr",
     "output_type": "stream",
     "text": [
      "training loop:   2% |                                 | ETA:  37 days, 12:50:46\r"
     ]
    },
    {
     "name": "stdout",
     "output_type": "stream",
     "text": [
      "Episode: 1273   score: 16.07   Avg score (100e): 15.42   actor gain: -0.39   critic loss: 0.41   steps: 1273\n"
     ]
    },
    {
     "name": "stderr",
     "output_type": "stream",
     "text": [
      "training loop:   2% |                                 | ETA:  37 days, 12:47:11\r"
     ]
    },
    {
     "name": "stdout",
     "output_type": "stream",
     "text": [
      "Episode: 1274   score: 16.09   Avg score (100e): 15.44   actor gain: -0.39   critic loss: 0.41   steps: 1274\n"
     ]
    },
    {
     "name": "stderr",
     "output_type": "stream",
     "text": [
      "training loop:   2% |                                 | ETA:  37 days, 12:44:04\r"
     ]
    },
    {
     "name": "stdout",
     "output_type": "stream",
     "text": [
      "Episode: 1275   score: 16.10   Avg score (100e): 15.45   actor gain: -0.39   critic loss: 0.41   steps: 1275\n"
     ]
    },
    {
     "name": "stderr",
     "output_type": "stream",
     "text": [
      "training loop:   2% |                                 | ETA:  37 days, 12:42:05\r"
     ]
    },
    {
     "name": "stdout",
     "output_type": "stream",
     "text": [
      "Episode: 1276   score: 16.11   Avg score (100e): 15.46   actor gain: -0.39   critic loss: 0.41   steps: 1276\n",
      "np.all(done) is true! miracle!\n"
     ]
    },
    {
     "name": "stderr",
     "output_type": "stream",
     "text": [
      "training loop:   2% |                                 | ETA:  37 days, 12:40:17\r"
     ]
    },
    {
     "name": "stdout",
     "output_type": "stream",
     "text": [
      "Episode: 1277   score: 16.14   Avg score (100e): 15.48   actor gain: -0.39   critic loss: 0.41   steps: 1277\n"
     ]
    },
    {
     "name": "stderr",
     "output_type": "stream",
     "text": [
      "training loop:   2% |                                 | ETA:  37 days, 12:37:53\r"
     ]
    },
    {
     "name": "stdout",
     "output_type": "stream",
     "text": [
      "Episode: 1278   score: 16.15   Avg score (100e): 15.49   actor gain: -0.39   critic loss: 0.41   steps: 1278\n"
     ]
    },
    {
     "name": "stderr",
     "output_type": "stream",
     "text": [
      "training loop:   2% |                                 | ETA:  37 days, 12:33:18\r"
     ]
    },
    {
     "name": "stdout",
     "output_type": "stream",
     "text": [
      "Episode: 1279   score: 16.17   Avg score (100e): 15.51   actor gain: -0.38   critic loss: 0.41   steps: 1279\n"
     ]
    },
    {
     "name": "stderr",
     "output_type": "stream",
     "text": [
      "training loop:   2% |                                 | ETA:  37 days, 12:29:33\r"
     ]
    },
    {
     "name": "stdout",
     "output_type": "stream",
     "text": [
      "Episode: 1280   score: 16.18   Avg score (100e): 15.52   actor gain: -0.38   critic loss: 0.41   steps: 1280\n"
     ]
    },
    {
     "name": "stderr",
     "output_type": "stream",
     "text": [
      "training loop:   2% |                                 | ETA:  37 days, 12:24:33\r"
     ]
    },
    {
     "name": "stdout",
     "output_type": "stream",
     "text": [
      "Episode: 1281   score: 16.19   Avg score (100e): 15.53   actor gain: -0.38   critic loss: 0.41   steps: 1281\n"
     ]
    },
    {
     "name": "stderr",
     "output_type": "stream",
     "text": [
      "training loop:   2% |                                 | ETA:  37 days, 12:22:21\r"
     ]
    },
    {
     "name": "stdout",
     "output_type": "stream",
     "text": [
      "Episode: 1282   score: 16.21   Avg score (100e): 15.55   actor gain: -0.39   critic loss: 0.41   steps: 1282\n"
     ]
    },
    {
     "name": "stderr",
     "output_type": "stream",
     "text": [
      "training loop:   2% |                                 | ETA:  37 days, 12:19:05\r"
     ]
    },
    {
     "name": "stdout",
     "output_type": "stream",
     "text": [
      "Episode: 1283   score: 16.22   Avg score (100e): 15.56   actor gain: -0.42   critic loss: 0.41   steps: 1283\n"
     ]
    },
    {
     "name": "stderr",
     "output_type": "stream",
     "text": [
      "training loop:   2% |                                 | ETA:  37 days, 12:24:39\r"
     ]
    },
    {
     "name": "stdout",
     "output_type": "stream",
     "text": [
      "Episode: 1284   score: 16.24   Avg score (100e): 15.57   actor gain: -0.44   critic loss: 0.41   steps: 1284\n",
      "np.all(done) is true! miracle!\n"
     ]
    },
    {
     "name": "stderr",
     "output_type": "stream",
     "text": [
      "training loop:   2% |                                 | ETA:  37 days, 12:22:42\r"
     ]
    },
    {
     "name": "stdout",
     "output_type": "stream",
     "text": [
      "Episode: 1285   score: 16.24   Avg score (100e): 15.59   actor gain: -7.29   critic loss: 0.41   steps: 1285\n"
     ]
    },
    {
     "name": "stderr",
     "output_type": "stream",
     "text": [
      "training loop:   2% |                                 | ETA:  37 days, 12:24:37\r"
     ]
    },
    {
     "name": "stdout",
     "output_type": "stream",
     "text": [
      "Episode: 1286   score: 16.26   Avg score (100e): 15.60   actor gain: -7.28   critic loss: 0.41   steps: 1286\n"
     ]
    },
    {
     "name": "stderr",
     "output_type": "stream",
     "text": [
      "training loop:   2% |                                 | ETA:  37 days, 12:22:19\r"
     ]
    },
    {
     "name": "stdout",
     "output_type": "stream",
     "text": [
      "Episode: 1287   score: 16.27   Avg score (100e): 15.61   actor gain: -7.28   critic loss: 0.41   steps: 1287\n"
     ]
    },
    {
     "name": "stderr",
     "output_type": "stream",
     "text": [
      "training loop:   2% |                                 | ETA:  37 days, 12:22:16\r"
     ]
    },
    {
     "name": "stdout",
     "output_type": "stream",
     "text": [
      "Episode: 1288   score: 16.27   Avg score (100e): 15.63   actor gain: -7.28   critic loss: 0.41   steps: 1288\n"
     ]
    },
    {
     "name": "stderr",
     "output_type": "stream",
     "text": [
      "training loop:   2% |                                 | ETA:  37 days, 12:20:38\r"
     ]
    },
    {
     "name": "stdout",
     "output_type": "stream",
     "text": [
      "Episode: 1289   score: 16.28   Avg score (100e): 15.64   actor gain: -7.28   critic loss: 0.41   steps: 1289\n"
     ]
    },
    {
     "name": "stderr",
     "output_type": "stream",
     "text": [
      "training loop:   2% |                                 | ETA:  37 days, 12:18:38\r"
     ]
    },
    {
     "name": "stdout",
     "output_type": "stream",
     "text": [
      "Episode: 1290   score: 16.30   Avg score (100e): 15.65   actor gain: -7.28   critic loss: 0.41   steps: 1290\n",
      "np.all(done) is true! miracle!\n"
     ]
    },
    {
     "name": "stderr",
     "output_type": "stream",
     "text": [
      "training loop:   2% |                                 | ETA:  37 days, 12:33:27\r"
     ]
    },
    {
     "name": "stdout",
     "output_type": "stream",
     "text": [
      "Episode: 1291   score: 16.32   Avg score (100e): 15.67   actor gain: -7.28   critic loss: 0.41   steps: 1291\n"
     ]
    },
    {
     "name": "stderr",
     "output_type": "stream",
     "text": [
      "training loop:   2% |                                 | ETA:  37 days, 12:38:25\r"
     ]
    },
    {
     "name": "stdout",
     "output_type": "stream",
     "text": [
      "Episode: 1292   score: 16.32   Avg score (100e): 15.68   actor gain: -7.28   critic loss: 0.41   steps: 1292\n"
     ]
    },
    {
     "name": "stderr",
     "output_type": "stream",
     "text": [
      "training loop:   2% |                                 | ETA:  37 days, 12:39:55\r"
     ]
    },
    {
     "name": "stdout",
     "output_type": "stream",
     "text": [
      "Episode: 1293   score: 16.33   Avg score (100e): 15.69   actor gain: -7.28   critic loss: 0.41   steps: 1293\n"
     ]
    },
    {
     "name": "stderr",
     "output_type": "stream",
     "text": [
      "training loop:   2% |                                 | ETA:  37 days, 12:38:50\r"
     ]
    },
    {
     "name": "stdout",
     "output_type": "stream",
     "text": [
      "Episode: 1294   score: 16.34   Avg score (100e): 15.71   actor gain: -7.28   critic loss: 0.41   steps: 1294\n"
     ]
    },
    {
     "name": "stderr",
     "output_type": "stream",
     "text": [
      "training loop:   2% |                                 | ETA:  37 days, 12:38:58\r"
     ]
    },
    {
     "name": "stdout",
     "output_type": "stream",
     "text": [
      "Episode: 1295   score: 16.34   Avg score (100e): 15.72   actor gain: -7.28   critic loss: 0.41   steps: 1295\n"
     ]
    },
    {
     "name": "stderr",
     "output_type": "stream",
     "text": [
      "training loop:   2% |                                 | ETA:  37 days, 12:40:26\r"
     ]
    },
    {
     "name": "stdout",
     "output_type": "stream",
     "text": [
      "Episode: 1296   score: 16.35   Avg score (100e): 15.73   actor gain: -7.28   critic loss: 0.41   steps: 1296\n"
     ]
    },
    {
     "name": "stderr",
     "output_type": "stream",
     "text": [
      "training loop:   2% |                                 | ETA:  37 days, 12:49:56\r"
     ]
    },
    {
     "name": "stdout",
     "output_type": "stream",
     "text": [
      "Episode: 1297   score: 16.35   Avg score (100e): 15.75   actor gain: -7.28   critic loss: 0.41   steps: 1297\n"
     ]
    },
    {
     "name": "stderr",
     "output_type": "stream",
     "text": [
      "training loop:   2% |                                 | ETA:  37 days, 12:55:59\r"
     ]
    },
    {
     "name": "stdout",
     "output_type": "stream",
     "text": [
      "Episode: 1298   score: 16.36   Avg score (100e): 15.76   actor gain: -7.28   critic loss: 0.41   steps: 1298\n"
     ]
    },
    {
     "name": "stderr",
     "output_type": "stream",
     "text": [
      "training loop:   2% |                                 | ETA:  37 days, 13:00:17\r"
     ]
    },
    {
     "name": "stdout",
     "output_type": "stream",
     "text": [
      "Episode: 1299   score: 16.37   Avg score (100e): 15.77   actor gain: -7.28   critic loss: 0.41   steps: 1299\n"
     ]
    },
    {
     "name": "stderr",
     "output_type": "stream",
     "text": [
      "training loop:   2% |                                 | ETA:  37 days, 12:58:45\r"
     ]
    },
    {
     "name": "stdout",
     "output_type": "stream",
     "text": [
      "Episode: 1300   score: 16.37   Avg score (100e): 15.79   actor gain: -7.28   critic loss: 0.41   steps: 1300\n",
      "np.all(done) is true! miracle!\n"
     ]
    },
    {
     "name": "stderr",
     "output_type": "stream",
     "text": [
      "training loop:   2% |                                 | ETA:  37 days, 12:55:05\r"
     ]
    },
    {
     "name": "stdout",
     "output_type": "stream",
     "text": [
      "Episode: 1301   score: 16.38   Avg score (100e): 15.80   actor gain: -7.28   critic loss: 0.41   steps: 1301\n"
     ]
    },
    {
     "name": "stderr",
     "output_type": "stream",
     "text": [
      "training loop:   2% |                                 | ETA:  37 days, 12:55:06\r"
     ]
    },
    {
     "name": "stdout",
     "output_type": "stream",
     "text": [
      "Episode: 1302   score: 16.39   Avg score (100e): 15.81   actor gain: -7.28   critic loss: 0.41   steps: 1302\n"
     ]
    },
    {
     "name": "stderr",
     "output_type": "stream",
     "text": [
      "training loop:   2% |                                 | ETA:  37 days, 13:04:56\r"
     ]
    },
    {
     "name": "stdout",
     "output_type": "stream",
     "text": [
      "Episode: 1303   score: 16.39   Avg score (100e): 15.82   actor gain: -7.28   critic loss: 0.41   steps: 1303\n"
     ]
    },
    {
     "name": "stderr",
     "output_type": "stream",
     "text": [
      "training loop:   2% |                                 | ETA:  37 days, 13:02:25\r"
     ]
    },
    {
     "name": "stdout",
     "output_type": "stream",
     "text": [
      "Episode: 1304   score: 16.40   Avg score (100e): 15.84   actor gain: -7.28   critic loss: 0.41   steps: 1304\n"
     ]
    },
    {
     "name": "stderr",
     "output_type": "stream",
     "text": [
      "training loop:   2% |                                 | ETA:  37 days, 13:02:08\r"
     ]
    },
    {
     "name": "stdout",
     "output_type": "stream",
     "text": [
      "Episode: 1305   score: 16.42   Avg score (100e): 15.85   actor gain: -7.28   critic loss: 0.41   steps: 1305\n"
     ]
    },
    {
     "name": "stderr",
     "output_type": "stream",
     "text": [
      "training loop:   2% |                                 | ETA:  37 days, 13:00:42\r"
     ]
    },
    {
     "name": "stdout",
     "output_type": "stream",
     "text": [
      "Episode: 1306   score: 16.42   Avg score (100e): 15.86   actor gain: -7.29   critic loss: 0.41   steps: 1306\n"
     ]
    },
    {
     "name": "stderr",
     "output_type": "stream",
     "text": [
      "training loop:   2% |                                 | ETA:  37 days, 12:57:41\r"
     ]
    },
    {
     "name": "stdout",
     "output_type": "stream",
     "text": [
      "Episode: 1307   score: 16.44   Avg score (100e): 15.87   actor gain: -7.29   critic loss: 0.41   steps: 1307\n"
     ]
    },
    {
     "name": "stderr",
     "output_type": "stream",
     "text": [
      "training loop:   2% |                                 | ETA:  37 days, 12:53:25\r"
     ]
    },
    {
     "name": "stdout",
     "output_type": "stream",
     "text": [
      "Episode: 1308   score: 16.45   Avg score (100e): 15.89   actor gain: -7.26   critic loss: 0.41   steps: 1308\n"
     ]
    },
    {
     "name": "stderr",
     "output_type": "stream",
     "text": [
      "training loop:   2% |                                 | ETA:  37 days, 12:50:46\r"
     ]
    },
    {
     "name": "stdout",
     "output_type": "stream",
     "text": [
      "Episode: 1309   score: 16.46   Avg score (100e): 15.90   actor gain: -7.24   critic loss: 0.41   steps: 1309\n"
     ]
    },
    {
     "name": "stderr",
     "output_type": "stream",
     "text": [
      "training loop:   2% |                                 | ETA:  37 days, 12:47:01\r"
     ]
    },
    {
     "name": "stdout",
     "output_type": "stream",
     "text": [
      "Episode: 1310   score: 16.46   Avg score (100e): 15.91   actor gain: -0.40   critic loss: 0.41   steps: 1310\n"
     ]
    },
    {
     "name": "stderr",
     "output_type": "stream",
     "text": [
      "training loop:   2% |                                 | ETA:  37 days, 12:44:31\r"
     ]
    },
    {
     "name": "stdout",
     "output_type": "stream",
     "text": [
      "Episode: 1311   score: 16.48   Avg score (100e): 15.92   actor gain: -0.40   critic loss: 0.41   steps: 1311\n"
     ]
    },
    {
     "name": "stderr",
     "output_type": "stream",
     "text": [
      "training loop:   2% |                                 | ETA:  37 days, 12:42:01\r"
     ]
    },
    {
     "name": "stdout",
     "output_type": "stream",
     "text": [
      "Episode: 1312   score: 16.50   Avg score (100e): 15.93   actor gain: -0.41   critic loss: 0.41   steps: 1312\n"
     ]
    },
    {
     "name": "stderr",
     "output_type": "stream",
     "text": [
      "training loop:   2% |                                 | ETA:  37 days, 12:49:10\r"
     ]
    },
    {
     "name": "stdout",
     "output_type": "stream",
     "text": [
      "Episode: 1313   score: 16.50   Avg score (100e): 15.95   actor gain: -0.41   critic loss: 0.41   steps: 1313\n"
     ]
    },
    {
     "name": "stderr",
     "output_type": "stream",
     "text": [
      "training loop:   2% |                                 | ETA:  37 days, 12:48:53\r"
     ]
    },
    {
     "name": "stdout",
     "output_type": "stream",
     "text": [
      "Episode: 1314   score: 16.51   Avg score (100e): 15.96   actor gain: -0.41   critic loss: 0.41   steps: 1314\n"
     ]
    },
    {
     "name": "stderr",
     "output_type": "stream",
     "text": [
      "training loop:   2% |                                 | ETA:  37 days, 12:58:27\r"
     ]
    },
    {
     "name": "stdout",
     "output_type": "stream",
     "text": [
      "Episode: 1315   score: 16.52   Avg score (100e): 15.97   actor gain: -0.41   critic loss: 0.41   steps: 1315\n"
     ]
    },
    {
     "name": "stderr",
     "output_type": "stream",
     "text": [
      "training loop:   2% |                                 | ETA:  37 days, 12:59:49\r"
     ]
    },
    {
     "name": "stdout",
     "output_type": "stream",
     "text": [
      "Episode: 1316   score: 16.52   Avg score (100e): 15.98   actor gain: -0.42   critic loss: 0.41   steps: 1316\n"
     ]
    },
    {
     "name": "stderr",
     "output_type": "stream",
     "text": [
      "training loop:   2% |                                 | ETA:  37 days, 12:58:39\r"
     ]
    },
    {
     "name": "stdout",
     "output_type": "stream",
     "text": [
      "Episode: 1317   score: 16.53   Avg score (100e): 15.99   actor gain: -0.42   critic loss: 0.41   steps: 1317\n"
     ]
    },
    {
     "name": "stderr",
     "output_type": "stream",
     "text": [
      "training loop:   2% |                                 | ETA:  37 days, 12:55:25\r"
     ]
    },
    {
     "name": "stdout",
     "output_type": "stream",
     "text": [
      "Episode: 1318   score: 16.55   Avg score (100e): 16.01   actor gain: -0.42   critic loss: 0.41   steps: 1318\n"
     ]
    },
    {
     "name": "stderr",
     "output_type": "stream",
     "text": [
      "training loop:   2% |                                 | ETA:  37 days, 12:58:12\r"
     ]
    },
    {
     "name": "stdout",
     "output_type": "stream",
     "text": [
      "Episode: 1319   score: 16.55   Avg score (100e): 16.02   actor gain: -0.42   critic loss: 0.41   steps: 1319\n"
     ]
    },
    {
     "name": "stderr",
     "output_type": "stream",
     "text": [
      "training loop:   2% |                                 | ETA:  37 days, 12:57:25\r"
     ]
    },
    {
     "name": "stdout",
     "output_type": "stream",
     "text": [
      "Episode: 1320   score: 16.56   Avg score (100e): 16.03   actor gain: -0.45   critic loss: 0.41   steps: 1320\n"
     ]
    },
    {
     "name": "stderr",
     "output_type": "stream",
     "text": [
      "training loop:   2% |                                 | ETA:  37 days, 12:55:17\r"
     ]
    },
    {
     "name": "stdout",
     "output_type": "stream",
     "text": [
      "Episode: 1321   score: 16.57   Avg score (100e): 16.04   actor gain: -0.46   critic loss: 0.41   steps: 1321\n"
     ]
    },
    {
     "name": "stderr",
     "output_type": "stream",
     "text": [
      "training loop:   2% |                                 | ETA:  37 days, 12:51:33\r"
     ]
    },
    {
     "name": "stdout",
     "output_type": "stream",
     "text": [
      "Episode: 1322   score: 16.59   Avg score (100e): 16.05   actor gain: -0.51   critic loss: 0.41   steps: 1322\n"
     ]
    },
    {
     "name": "stderr",
     "output_type": "stream",
     "text": [
      "training loop:   2% |                                 | ETA:  37 days, 12:49:34\r"
     ]
    },
    {
     "name": "stdout",
     "output_type": "stream",
     "text": [
      "Episode: 1323   score: 16.60   Avg score (100e): 16.06   actor gain: -0.51   critic loss: 0.41   steps: 1323\n"
     ]
    },
    {
     "name": "stderr",
     "output_type": "stream",
     "text": [
      "training loop:   2% |                                 | ETA:  37 days, 12:51:13\r"
     ]
    },
    {
     "name": "stdout",
     "output_type": "stream",
     "text": [
      "Episode: 1324   score: 16.60   Avg score (100e): 16.08   actor gain: -0.51   critic loss: 0.41   steps: 1324\n",
      "np.all(done) is true! miracle!\n"
     ]
    },
    {
     "name": "stderr",
     "output_type": "stream",
     "text": [
      "training loop:   2% |                                 | ETA:  37 days, 12:55:45\r"
     ]
    },
    {
     "name": "stdout",
     "output_type": "stream",
     "text": [
      "Episode: 1325   score: 16.61   Avg score (100e): 16.09   actor gain: -0.51   critic loss: 0.41   steps: 1325\n"
     ]
    },
    {
     "name": "stderr",
     "output_type": "stream",
     "text": [
      "training loop:   2% |                                 | ETA:  37 days, 12:57:56\r"
     ]
    },
    {
     "name": "stdout",
     "output_type": "stream",
     "text": [
      "Episode: 1326   score: 16.61   Avg score (100e): 16.10   actor gain: -0.51   critic loss: 0.41   steps: 1326\n"
     ]
    },
    {
     "name": "stderr",
     "output_type": "stream",
     "text": [
      "training loop:   2% |                                 | ETA:  37 days, 12:54:56\r"
     ]
    },
    {
     "name": "stdout",
     "output_type": "stream",
     "text": [
      "Episode: 1327   score: 16.62   Avg score (100e): 16.11   actor gain: -0.51   critic loss: 0.41   steps: 1327\n"
     ]
    },
    {
     "name": "stderr",
     "output_type": "stream",
     "text": [
      "training loop:   2% |                                 | ETA:  37 days, 13:03:42\r"
     ]
    },
    {
     "name": "stdout",
     "output_type": "stream",
     "text": [
      "Episode: 1328   score: 16.63   Avg score (100e): 16.12   actor gain: -0.57   critic loss: 0.41   steps: 1328\n"
     ]
    },
    {
     "name": "stderr",
     "output_type": "stream",
     "text": [
      "training loop:   2% |                                 | ETA:  37 days, 13:01:24\r"
     ]
    },
    {
     "name": "stdout",
     "output_type": "stream",
     "text": [
      "Episode: 1329   score: 16.63   Avg score (100e): 16.13   actor gain: -0.57   critic loss: 0.41   steps: 1329\n"
     ]
    },
    {
     "name": "stderr",
     "output_type": "stream",
     "text": [
      "training loop:   2% |                                 | ETA:  37 days, 13:18:57\r"
     ]
    },
    {
     "name": "stdout",
     "output_type": "stream",
     "text": [
      "Episode: 1330   score: 16.64   Avg score (100e): 16.14   actor gain: -0.57   critic loss: 0.41   steps: 1330\n"
     ]
    },
    {
     "name": "stderr",
     "output_type": "stream",
     "text": [
      "training loop:   2% |                                 | ETA:  37 days, 13:25:33\r"
     ]
    },
    {
     "name": "stdout",
     "output_type": "stream",
     "text": [
      "Episode: 1331   score: 16.65   Avg score (100e): 16.15   actor gain: -0.56   critic loss: 0.41   steps: 1331\n"
     ]
    },
    {
     "name": "stderr",
     "output_type": "stream",
     "text": [
      "training loop:   2% |                                 | ETA:  37 days, 13:30:30\r"
     ]
    },
    {
     "name": "stdout",
     "output_type": "stream",
     "text": [
      "Episode: 1332   score: 16.66   Avg score (100e): 16.16   actor gain: -0.56   critic loss: 0.41   steps: 1332\n",
      "np.all(done) is true! miracle!\n"
     ]
    },
    {
     "name": "stderr",
     "output_type": "stream",
     "text": [
      "training loop:   2% |                                 | ETA:  37 days, 13:37:13\r"
     ]
    },
    {
     "name": "stdout",
     "output_type": "stream",
     "text": [
      "Episode: 1333   score: 16.67   Avg score (100e): 16.18   actor gain: -0.56   critic loss: 0.41   steps: 1333\n"
     ]
    },
    {
     "name": "stderr",
     "output_type": "stream",
     "text": [
      "training loop:   2% |                                 | ETA:  37 days, 13:37:52\r"
     ]
    },
    {
     "name": "stdout",
     "output_type": "stream",
     "text": [
      "Episode: 1334   score: 16.69   Avg score (100e): 16.19   actor gain: -0.56   critic loss: 0.41   steps: 1334\n"
     ]
    },
    {
     "name": "stderr",
     "output_type": "stream",
     "text": [
      "training loop:   2% |                                 | ETA:  37 days, 13:57:42\r"
     ]
    },
    {
     "name": "stdout",
     "output_type": "stream",
     "text": [
      "Episode: 1335   score: 16.69   Avg score (100e): 16.20   actor gain: -0.56   critic loss: 0.41   steps: 1335\n"
     ]
    },
    {
     "name": "stderr",
     "output_type": "stream",
     "text": [
      "training loop:   2% |                                 | ETA:  37 days, 14:02:34\r"
     ]
    },
    {
     "name": "stdout",
     "output_type": "stream",
     "text": [
      "Episode: 1336   score: 16.68   Avg score (100e): 16.21   actor gain: -0.56   critic loss: 0.41   steps: 1336\n"
     ]
    },
    {
     "name": "stderr",
     "output_type": "stream",
     "text": [
      "training loop:   2% |                                 | ETA:  37 days, 14:02:55\r"
     ]
    },
    {
     "name": "stdout",
     "output_type": "stream",
     "text": [
      "Episode: 1337   score: 16.69   Avg score (100e): 16.22   actor gain: -0.55   critic loss: 0.41   steps: 1337\n"
     ]
    },
    {
     "name": "stderr",
     "output_type": "stream",
     "text": [
      "training loop:   2% |                                 | ETA:  37 days, 14:01:56\r"
     ]
    },
    {
     "name": "stdout",
     "output_type": "stream",
     "text": [
      "Episode: 1338   score: 16.70   Avg score (100e): 16.23   actor gain: -0.55   critic loss: 0.41   steps: 1338\n"
     ]
    },
    {
     "name": "stderr",
     "output_type": "stream",
     "text": [
      "training loop:   2% |                                 | ETA:  37 days, 14:01:19\r"
     ]
    },
    {
     "name": "stdout",
     "output_type": "stream",
     "text": [
      "Episode: 1339   score: 16.70   Avg score (100e): 16.24   actor gain: -0.56   critic loss: 0.41   steps: 1339\n"
     ]
    },
    {
     "name": "stderr",
     "output_type": "stream",
     "text": [
      "training loop:   2% |                                 | ETA:  37 days, 13:58:37\r"
     ]
    },
    {
     "name": "stdout",
     "output_type": "stream",
     "text": [
      "Episode: 1340   score: 16.71   Avg score (100e): 16.25   actor gain: -0.56   critic loss: 0.41   steps: 1340\n"
     ]
    },
    {
     "name": "stderr",
     "output_type": "stream",
     "text": [
      "training loop:   2% |                                 | ETA:  37 days, 13:59:16\r"
     ]
    },
    {
     "name": "stdout",
     "output_type": "stream",
     "text": [
      "Episode: 1341   score: 16.74   Avg score (100e): 16.26   actor gain: -0.56   critic loss: 0.41   steps: 1341\n"
     ]
    },
    {
     "name": "stderr",
     "output_type": "stream",
     "text": [
      "training loop:   2% |                                 | ETA:  37 days, 14:02:44\r"
     ]
    },
    {
     "name": "stdout",
     "output_type": "stream",
     "text": [
      "Episode: 1342   score: 16.75   Avg score (100e): 16.27   actor gain: -0.59   critic loss: 0.41   steps: 1342\n"
     ]
    },
    {
     "name": "stderr",
     "output_type": "stream",
     "text": [
      "training loop:   2% |                                 | ETA:  37 days, 14:02:51\r"
     ]
    },
    {
     "name": "stdout",
     "output_type": "stream",
     "text": [
      "Episode: 1343   score: 16.76   Avg score (100e): 16.28   actor gain: -0.59   critic loss: 0.41   steps: 1343\n"
     ]
    },
    {
     "name": "stderr",
     "output_type": "stream",
     "text": [
      "training loop:   2% |                                 | ETA:  37 days, 14:01:45\r"
     ]
    },
    {
     "name": "stdout",
     "output_type": "stream",
     "text": [
      "Episode: 1344   score: 16.77   Avg score (100e): 16.29   actor gain: -0.59   critic loss: 0.41   steps: 1344\n"
     ]
    },
    {
     "name": "stderr",
     "output_type": "stream",
     "text": [
      "training loop:   2% |                                 | ETA:  37 days, 14:03:57\r"
     ]
    },
    {
     "name": "stdout",
     "output_type": "stream",
     "text": [
      "Episode: 1345   score: 16.78   Avg score (100e): 16.30   actor gain: -0.56   critic loss: 0.41   steps: 1345\n"
     ]
    },
    {
     "name": "stderr",
     "output_type": "stream",
     "text": [
      "training loop:   2% |                                 | ETA:  37 days, 14:01:51\r"
     ]
    },
    {
     "name": "stdout",
     "output_type": "stream",
     "text": [
      "Episode: 1346   score: 16.78   Avg score (100e): 16.32   actor gain: -0.54   critic loss: 0.41   steps: 1346\n"
     ]
    },
    {
     "name": "stderr",
     "output_type": "stream",
     "text": [
      "training loop:   2% |                                 | ETA:  37 days, 14:01:11\r"
     ]
    },
    {
     "name": "stdout",
     "output_type": "stream",
     "text": [
      "Episode: 1347   score: 16.78   Avg score (100e): 16.33   actor gain: -0.50   critic loss: 0.41   steps: 1347\n"
     ]
    },
    {
     "name": "stderr",
     "output_type": "stream",
     "text": [
      "training loop:   2% |                                 | ETA:  37 days, 13:56:47\r"
     ]
    },
    {
     "name": "stdout",
     "output_type": "stream",
     "text": [
      "Episode: 1348   score: 16.79   Avg score (100e): 16.34   actor gain: -0.50   critic loss: 0.41   steps: 1348\n"
     ]
    },
    {
     "name": "stderr",
     "output_type": "stream",
     "text": [
      "training loop:   2% |                                 | ETA:  37 days, 13:57:57\r"
     ]
    },
    {
     "name": "stdout",
     "output_type": "stream",
     "text": [
      "Episode: 1349   score: 16.80   Avg score (100e): 16.35   actor gain: -0.50   critic loss: 0.41   steps: 1349\n"
     ]
    },
    {
     "name": "stderr",
     "output_type": "stream",
     "text": [
      "training loop:   2% |                                 | ETA:  37 days, 14:02:20\r"
     ]
    },
    {
     "name": "stdout",
     "output_type": "stream",
     "text": [
      "Episode: 1350   score: 16.81   Avg score (100e): 16.36   actor gain: -0.50   critic loss: 0.41   steps: 1350\n"
     ]
    },
    {
     "name": "stderr",
     "output_type": "stream",
     "text": [
      "training loop:   2% |                                 | ETA:  37 days, 14:04:38\r"
     ]
    },
    {
     "name": "stdout",
     "output_type": "stream",
     "text": [
      "Episode: 1351   score: 16.82   Avg score (100e): 16.37   actor gain: -0.50   critic loss: 0.41   steps: 1351\n"
     ]
    },
    {
     "name": "stderr",
     "output_type": "stream",
     "text": [
      "training loop:   2% |                                 | ETA:  37 days, 14:03:51\r"
     ]
    },
    {
     "name": "stdout",
     "output_type": "stream",
     "text": [
      "Episode: 1352   score: 16.83   Avg score (100e): 16.38   actor gain: -0.50   critic loss: 0.41   steps: 1352\n"
     ]
    },
    {
     "name": "stderr",
     "output_type": "stream",
     "text": [
      "training loop:   2% |                                 | ETA:  37 days, 14:01:25\r"
     ]
    },
    {
     "name": "stdout",
     "output_type": "stream",
     "text": [
      "Episode: 1353   score: 16.84   Avg score (100e): 16.39   actor gain: -0.44   critic loss: 0.41   steps: 1353\n"
     ]
    },
    {
     "name": "stderr",
     "output_type": "stream",
     "text": [
      "training loop:   2% |                                 | ETA:  37 days, 13:57:17\r"
     ]
    },
    {
     "name": "stdout",
     "output_type": "stream",
     "text": [
      "Episode: 1354   score: 16.85   Avg score (100e): 16.40   actor gain: -0.44   critic loss: 0.41   steps: 1354\n"
     ]
    },
    {
     "name": "stderr",
     "output_type": "stream",
     "text": [
      "training loop:   2% |                                 | ETA:  37 days, 13:55:17\r"
     ]
    },
    {
     "name": "stdout",
     "output_type": "stream",
     "text": [
      "Episode: 1355   score: 16.86   Avg score (100e): 16.41   actor gain: -0.44   critic loss: 0.41   steps: 1355\n"
     ]
    },
    {
     "name": "stderr",
     "output_type": "stream",
     "text": [
      "training loop:   2% |                                 | ETA:  37 days, 13:54:00\r"
     ]
    },
    {
     "name": "stdout",
     "output_type": "stream",
     "text": [
      "Episode: 1356   score: 16.87   Avg score (100e): 16.42   actor gain: -0.46   critic loss: 0.41   steps: 1356\n"
     ]
    },
    {
     "name": "stderr",
     "output_type": "stream",
     "text": [
      "training loop:   2% |                                 | ETA:  37 days, 13:51:43\r"
     ]
    },
    {
     "name": "stdout",
     "output_type": "stream",
     "text": [
      "Episode: 1357   score: 16.87   Avg score (100e): 16.43   actor gain: -0.47   critic loss: 0.41   steps: 1357\n"
     ]
    },
    {
     "name": "stderr",
     "output_type": "stream",
     "text": [
      "training loop:   2% |                                 | ETA:  37 days, 13:49:31\r"
     ]
    },
    {
     "name": "stdout",
     "output_type": "stream",
     "text": [
      "Episode: 1358   score: 16.88   Avg score (100e): 16.44   actor gain: -0.47   critic loss: 0.41   steps: 1358\n"
     ]
    },
    {
     "name": "stderr",
     "output_type": "stream",
     "text": [
      "training loop:   2% |                                 | ETA:  37 days, 13:47:17\r"
     ]
    },
    {
     "name": "stdout",
     "output_type": "stream",
     "text": [
      "Episode: 1359   score: 16.89   Avg score (100e): 16.45   actor gain: -0.47   critic loss: 0.41   steps: 1359\n"
     ]
    },
    {
     "name": "stderr",
     "output_type": "stream",
     "text": [
      "training loop:   2% |                                 | ETA:  37 days, 13:43:53\r"
     ]
    },
    {
     "name": "stdout",
     "output_type": "stream",
     "text": [
      "Episode: 1360   score: 16.90   Avg score (100e): 16.46   actor gain: -0.46   critic loss: 0.41   steps: 1360\n"
     ]
    },
    {
     "name": "stderr",
     "output_type": "stream",
     "text": [
      "training loop:   2% |                                 | ETA:  37 days, 13:41:05\r"
     ]
    },
    {
     "name": "stdout",
     "output_type": "stream",
     "text": [
      "Episode: 1361   score: 16.91   Avg score (100e): 16.47   actor gain: -0.46   critic loss: 0.41   steps: 1361\n"
     ]
    },
    {
     "name": "stderr",
     "output_type": "stream",
     "text": [
      "training loop:   2% |                                 | ETA:  37 days, 13:36:57\r"
     ]
    },
    {
     "name": "stdout",
     "output_type": "stream",
     "text": [
      "Episode: 1362   score: 16.92   Avg score (100e): 16.48   actor gain: -0.46   critic loss: 0.41   steps: 1362\n"
     ]
    },
    {
     "name": "stderr",
     "output_type": "stream",
     "text": [
      "training loop:   2% |                                 | ETA:  37 days, 13:33:49\r"
     ]
    },
    {
     "name": "stdout",
     "output_type": "stream",
     "text": [
      "Episode: 1363   score: 16.91   Avg score (100e): 16.49   actor gain: -0.46   critic loss: 0.41   steps: 1363\n"
     ]
    },
    {
     "name": "stderr",
     "output_type": "stream",
     "text": [
      "training loop:   2% |                                 | ETA:  37 days, 13:29:37\r"
     ]
    },
    {
     "name": "stdout",
     "output_type": "stream",
     "text": [
      "Episode: 1364   score: 16.92   Avg score (100e): 16.49   actor gain: -0.45   critic loss: 0.41   steps: 1364\n"
     ]
    },
    {
     "name": "stderr",
     "output_type": "stream",
     "text": [
      "training loop:   2% |                                 | ETA:  37 days, 13:27:10\r"
     ]
    },
    {
     "name": "stdout",
     "output_type": "stream",
     "text": [
      "Episode: 1365   score: 16.92   Avg score (100e): 16.50   actor gain: -0.44   critic loss: 0.41   steps: 1365\n"
     ]
    },
    {
     "name": "stderr",
     "output_type": "stream",
     "text": [
      "training loop:   2% |                                 | ETA:  37 days, 13:39:19\r"
     ]
    },
    {
     "name": "stdout",
     "output_type": "stream",
     "text": [
      "Episode: 1366   score: 16.93   Avg score (100e): 16.51   actor gain: -0.44   critic loss: 0.41   steps: 1366\n"
     ]
    },
    {
     "name": "stderr",
     "output_type": "stream",
     "text": [
      "training loop:   2% |                                 | ETA:  37 days, 13:47:27\r"
     ]
    },
    {
     "name": "stdout",
     "output_type": "stream",
     "text": [
      "Episode: 1367   score: 16.93   Avg score (100e): 16.52   actor gain: -0.41   critic loss: 0.41   steps: 1367\n"
     ]
    },
    {
     "name": "stderr",
     "output_type": "stream",
     "text": [
      "training loop:   2% |                                 | ETA:  37 days, 13:59:14\r"
     ]
    },
    {
     "name": "stdout",
     "output_type": "stream",
     "text": [
      "Episode: 1368   score: 16.95   Avg score (100e): 16.53   actor gain: -0.41   critic loss: 0.41   steps: 1368\n"
     ]
    },
    {
     "name": "stderr",
     "output_type": "stream",
     "text": [
      "training loop:   2% |                                 | ETA:  37 days, 14:00:36\r"
     ]
    },
    {
     "name": "stdout",
     "output_type": "stream",
     "text": [
      "Episode: 1369   score: 16.95   Avg score (100e): 16.54   actor gain: -0.41   critic loss: 0.41   steps: 1369\n"
     ]
    },
    {
     "name": "stderr",
     "output_type": "stream",
     "text": [
      "training loop:   2% |                                 | ETA:  37 days, 13:58:15\r"
     ]
    },
    {
     "name": "stdout",
     "output_type": "stream",
     "text": [
      "Episode: 1370   score: 16.96   Avg score (100e): 16.55   actor gain: -0.41   critic loss: 0.41   steps: 1370\n"
     ]
    },
    {
     "name": "stderr",
     "output_type": "stream",
     "text": [
      "training loop:   2% |                                 | ETA:  37 days, 13:58:23\r"
     ]
    },
    {
     "name": "stdout",
     "output_type": "stream",
     "text": [
      "Episode: 1371   score: 16.97   Avg score (100e): 16.56   actor gain: -0.41   critic loss: 0.41   steps: 1371\n"
     ]
    },
    {
     "name": "stderr",
     "output_type": "stream",
     "text": [
      "training loop:   2% |                                 | ETA:  37 days, 13:55:49\r"
     ]
    },
    {
     "name": "stdout",
     "output_type": "stream",
     "text": [
      "Episode: 1372   score: 16.99   Avg score (100e): 16.57   actor gain: -0.41   critic loss: 0.41   steps: 1372\n"
     ]
    },
    {
     "name": "stderr",
     "output_type": "stream",
     "text": [
      "training loop:   2% |                                 | ETA:  37 days, 13:52:46\r"
     ]
    },
    {
     "name": "stdout",
     "output_type": "stream",
     "text": [
      "Episode: 1373   score: 17.00   Avg score (100e): 16.58   actor gain: -0.41   critic loss: 0.41   steps: 1373\n"
     ]
    },
    {
     "name": "stderr",
     "output_type": "stream",
     "text": [
      "training loop:   2% |                                 | ETA:  37 days, 13:59:01\r"
     ]
    },
    {
     "name": "stdout",
     "output_type": "stream",
     "text": [
      "Episode: 1374   score: 17.00   Avg score (100e): 16.59   actor gain: -0.41   critic loss: 0.41   steps: 1374\n"
     ]
    },
    {
     "name": "stderr",
     "output_type": "stream",
     "text": [
      "training loop:   2% |                                 | ETA:  37 days, 13:58:51\r"
     ]
    },
    {
     "name": "stdout",
     "output_type": "stream",
     "text": [
      "Episode: 1375   score: 17.01   Avg score (100e): 16.60   actor gain: -0.41   critic loss: 0.41   steps: 1375\n"
     ]
    },
    {
     "name": "stderr",
     "output_type": "stream",
     "text": [
      "training loop:   2% |                                 | ETA:  37 days, 13:58:29\r"
     ]
    },
    {
     "name": "stdout",
     "output_type": "stream",
     "text": [
      "Episode: 1376   score: 17.02   Avg score (100e): 16.61   actor gain: -0.41   critic loss: 0.41   steps: 1376\n"
     ]
    },
    {
     "name": "stderr",
     "output_type": "stream",
     "text": [
      "training loop:   2% |                                 | ETA:  37 days, 13:55:10\r"
     ]
    },
    {
     "name": "stdout",
     "output_type": "stream",
     "text": [
      "Episode: 1377   score: 17.02   Avg score (100e): 16.61   actor gain: -0.41   critic loss: 0.41   steps: 1377\n"
     ]
    },
    {
     "name": "stderr",
     "output_type": "stream",
     "text": [
      "training loop:   2% |                                 | ETA:  37 days, 13:49:16\r"
     ]
    },
    {
     "name": "stdout",
     "output_type": "stream",
     "text": [
      "Episode: 1378   score: 17.02   Avg score (100e): 16.62   actor gain: -0.41   critic loss: 0.41   steps: 1378\n"
     ]
    },
    {
     "name": "stderr",
     "output_type": "stream",
     "text": [
      "training loop:   2% |                                 | ETA:  37 days, 13:45:08\r"
     ]
    },
    {
     "name": "stdout",
     "output_type": "stream",
     "text": [
      "Episode: 1379   score: 17.03   Avg score (100e): 16.63   actor gain: -0.41   critic loss: 0.41   steps: 1379\n",
      "np.all(done) is true! miracle!\n"
     ]
    },
    {
     "name": "stderr",
     "output_type": "stream",
     "text": [
      "training loop:   2% |                                 | ETA:  37 days, 13:39:48\r"
     ]
    },
    {
     "name": "stdout",
     "output_type": "stream",
     "text": [
      "Episode: 1380   score: 17.04   Avg score (100e): 16.64   actor gain: -0.41   critic loss: 0.41   steps: 1380\n"
     ]
    },
    {
     "name": "stderr",
     "output_type": "stream",
     "text": [
      "training loop:   2% |                                 | ETA:  37 days, 13:35:54\r"
     ]
    },
    {
     "name": "stdout",
     "output_type": "stream",
     "text": [
      "Episode: 1381   score: 17.05   Avg score (100e): 16.65   actor gain: -0.39   critic loss: 0.41   steps: 1381\n"
     ]
    },
    {
     "name": "stderr",
     "output_type": "stream",
     "text": [
      "training loop:   2% |                                 | ETA:  37 days, 13:33:18\r"
     ]
    },
    {
     "name": "stdout",
     "output_type": "stream",
     "text": [
      "Episode: 1382   score: 17.06   Avg score (100e): 16.66   actor gain: -0.38   critic loss: 0.41   steps: 1382\n"
     ]
    },
    {
     "name": "stderr",
     "output_type": "stream",
     "text": [
      "training loop:   2% |                                 | ETA:  37 days, 13:30:51\r"
     ]
    },
    {
     "name": "stdout",
     "output_type": "stream",
     "text": [
      "Episode: 1383   score: 17.07   Avg score (100e): 16.67   actor gain: -0.38   critic loss: 0.41   steps: 1383\n"
     ]
    },
    {
     "name": "stderr",
     "output_type": "stream",
     "text": [
      "training loop:   2% |                                 | ETA:  37 days, 13:26:08\r"
     ]
    },
    {
     "name": "stdout",
     "output_type": "stream",
     "text": [
      "Episode: 1384   score: 17.08   Avg score (100e): 16.67   actor gain: -0.38   critic loss: 0.41   steps: 1384\n"
     ]
    },
    {
     "name": "stderr",
     "output_type": "stream",
     "text": [
      "training loop:   2% |                                 | ETA:  37 days, 13:20:31\r"
     ]
    },
    {
     "name": "stdout",
     "output_type": "stream",
     "text": [
      "Episode: 1385   score: 17.09   Avg score (100e): 16.68   actor gain: -0.38   critic loss: 0.41   steps: 1385\n",
      "np.all(done) is true! miracle!\n"
     ]
    },
    {
     "name": "stderr",
     "output_type": "stream",
     "text": [
      "training loop:   2% |                                 | ETA:  37 days, 13:15:58\r"
     ]
    },
    {
     "name": "stdout",
     "output_type": "stream",
     "text": [
      "Episode: 1386   score: 17.10   Avg score (100e): 16.69   actor gain: -0.38   critic loss: 0.41   steps: 1386\n"
     ]
    },
    {
     "name": "stderr",
     "output_type": "stream",
     "text": [
      "training loop:   2% |                                 | ETA:  37 days, 13:15:41\r"
     ]
    },
    {
     "name": "stdout",
     "output_type": "stream",
     "text": [
      "Episode: 1387   score: 17.11   Avg score (100e): 16.70   actor gain: -0.38   critic loss: 0.41   steps: 1387\n"
     ]
    },
    {
     "name": "stderr",
     "output_type": "stream",
     "text": [
      "training loop:   2% |                                 | ETA:  37 days, 13:17:58\r"
     ]
    },
    {
     "name": "stdout",
     "output_type": "stream",
     "text": [
      "Episode: 1388   score: 17.11   Avg score (100e): 16.71   actor gain: -0.38   critic loss: 0.41   steps: 1388\n"
     ]
    }
   ],
   "source": [
    "episode_max = 50000 # training loop max iterations\n",
    "episode_reward = 0.0\n",
    "mean_rewards = []\n",
    "e = 0\n",
    "\n",
    "widget = ['training loop: ', pb.Percentage(), ' ', \n",
    "          pb.Bar(), ' ', pb.ETA() ]\n",
    "\n",
    "#widget = ['Episode: ', pb.Counter(),'/',str(episode_max),'  ',  \n",
    "#          'eps reward: ', str(np.mean(episode_reward)) ,'  ',\n",
    "#          'Avg score (100e): ', str(mean_rewards[-100:]) ,'  ',\n",
    "#          'actor gain: ', str(np.mean(agent.actor_gain)) ,'  ',\n",
    "#          'critic loss: ', str(np.mean(agent.critic_loss)) ,'  ',\n",
    "#           pb.ETA(), ' ', pb.Bar(marker=pb.RotatingMarker()), '  ' ]\n",
    "\n",
    "timer = pb.ProgressBar(widgets=widget, maxval=episode_max).start()\n",
    "\n",
    "\n",
    "while e < episode_max:\n",
    "\n",
    "    # collect trajectories\n",
    "    agent.step()\n",
    "    episode_reward = agent.episodic_rewards\n",
    "    \n",
    "    # display some progress every 20 iterations\n",
    "    if agent.is_training:\n",
    "\n",
    "        # get the average reward of the parallel environments\n",
    "        mean_rewards.append(np.mean(episode_reward))        \n",
    "        \n",
    "        if (e+1)%1==0 :\n",
    "            print(\"Episode: {}   score: {:.2f}   Avg score (100e): {:.2f}   \"\n",
    "                  \"actor gain: {:.2f}   critic loss: {:.2f}   steps: {}\".format(e+1, np.mean(episode_reward),\n",
    "                                                                         np.mean(mean_rewards[-100:]),\n",
    "                                                                         np.mean(agent.actor_gain), \n",
    "                                                                         np.mean(agent.critic_loss),\n",
    "                                                                         agent.t_step))\n",
    "            \n",
    "        if np.mean(mean_rewards[-100:]) >= 100:\n",
    "            print(\"Average score over all agents across 100th episodes > 100. Problem Solved!\")\n",
    "            break\n",
    "                \n",
    "        timer.update(e)\n",
    "        \n",
    "        e += 1\n",
    "    else:\n",
    "        print('\\rFetching experiences... {} '.format(len(agent.memory.memory)), end=\"\")\n",
    "        \n",
    "    #update progress widget bar\n",
    "    #timer.update(e+1)\n",
    "    \n",
    "timer.finish()"
   ]
  },
  {
   "cell_type": "code",
   "execution_count": null,
   "metadata": {},
   "outputs": [],
   "source": []
  },
  {
   "cell_type": "code",
   "execution_count": null,
   "metadata": {},
   "outputs": [],
   "source": [
    "saveTrainedModel(agent, model_dir + model_name)"
   ]
  },
  {
   "cell_type": "code",
   "execution_count": null,
   "metadata": {},
   "outputs": [],
   "source": [
    "# plot the scores\n",
    "import matplotlib.pyplot as plt\n",
    "%matplotlib inline\n",
    "\n",
    "fig = plt.figure()\n",
    "ax = fig.add_subplot(111)\n",
    "plt.plot(np.arange(len(mean_rewards)), mean_rewards)\n",
    "plt.ylabel('Score')\n",
    "plt.xlabel('Episode #')\n",
    "plt.show()"
   ]
  },
  {
   "cell_type": "code",
   "execution_count": null,
   "metadata": {},
   "outputs": [],
   "source": []
  },
  {
   "cell_type": "code",
   "execution_count": null,
   "metadata": {},
   "outputs": [],
   "source": [
    "scores = np.zeros(num_agents)                # initialize the score (for each agent)\n",
    "for _ in range(10):\n",
    "    agent.step(train_mode=False)             # lower eps and train_mode=False\n",
    "    episode_reward = agent.running_rewards\n",
    "    scores += episode_reward                 # update the score (for each agent)\n",
    "print('Total score (averaged over agents) this episode: {}'.format(np.mean(scores)))"
   ]
  },
  {
   "cell_type": "code",
   "execution_count": null,
   "metadata": {},
   "outputs": [],
   "source": [
    "env.close()"
   ]
  },
  {
   "cell_type": "code",
   "execution_count": null,
   "metadata": {},
   "outputs": [],
   "source": []
  },
  {
   "cell_type": "code",
   "execution_count": null,
   "metadata": {},
   "outputs": [],
   "source": []
  }
 ],
 "metadata": {
  "kernelspec": {
   "display_name": "Python 3",
   "language": "python",
   "name": "python3"
  },
  "language_info": {
   "codemirror_mode": {
    "name": "ipython",
    "version": 3
   },
   "file_extension": ".py",
   "mimetype": "text/x-python",
   "name": "python",
   "nbconvert_exporter": "python",
   "pygments_lexer": "ipython3",
   "version": "3.5.5"
  }
 },
 "nbformat": 4,
 "nbformat_minor": 2
}
