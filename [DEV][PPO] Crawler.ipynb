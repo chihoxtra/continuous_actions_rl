{
 "cells": [
  {
   "cell_type": "markdown",
   "metadata": {},
   "source": [
    "# [DEV][PPO] Crawler\n",
    "\n",
    "---\n",
    "\n",
    "In this notebook, you will learn how to use the Unity ML-Agents environment for the second project of the [Deep Reinforcement Learning Nanodegree](https://www.udacity.com/course/deep-reinforcement-learning-nanodegree--nd893) program.\n",
    "\n",
    "### 1. Start the Environment\n",
    "\n",
    "We begin by importing the necessary packages.  If the code cell below returns an error, please revisit the project instructions to double-check that you have installed [Unity ML-Agents](https://github.com/Unity-Technologies/ml-agents/blob/master/docs/Installation.md) and [NumPy](http://www.numpy.org/)."
   ]
  },
  {
   "cell_type": "code",
   "execution_count": 1,
   "metadata": {},
   "outputs": [],
   "source": [
    "from unityagents import UnityEnvironment\n",
    "import torch\n",
    "import torch.nn as nn\n",
    "import torch.nn.functional as F\n",
    "import numpy as np\n",
    "\n",
    "# widget bar to display progress\n",
    "#!pip install progressbar\n",
    "import progressbar as pb"
   ]
  },
  {
   "cell_type": "markdown",
   "metadata": {},
   "source": [
    "Next, we will start the environment!  **_Before running the code cell below_**, change the `file_name` parameter to match the location of the Unity environment that you downloaded.\n",
    "\n",
    "- **Mac**: `\"path/to/Reacher.app\"`\n",
    "- **Windows** (x86): `\"path/to/Reacher_Windows_x86/Reacher.exe\"`\n",
    "- **Windows** (x86_64): `\"path/to/Reacher_Windows_x86_64/Reacher.exe\"`\n",
    "- **Linux** (x86): `\"path/to/Reacher_Linux/Reacher.x86\"`\n",
    "- **Linux** (x86_64): `\"path/to/Reacher_Linux/Reacher.x86_64\"`\n",
    "- **Linux** (x86, headless): `\"path/to/Reacher_Linux_NoVis/Reacher.x86\"`\n",
    "- **Linux** (x86_64, headless): `\"path/to/Reacher_Linux_NoVis/Reacher.x86_64\"`\n",
    "\n",
    "For instance, if you are using a Mac, then you downloaded `Reacher.app`.  If this file is in the same folder as the notebook, then the line below should appear as follows:\n",
    "```\n",
    "env = UnityEnvironment(file_name=\"Reacher.app\")\n",
    "```"
   ]
  },
  {
   "cell_type": "code",
   "execution_count": 2,
   "metadata": {},
   "outputs": [
    {
     "name": "stderr",
     "output_type": "stream",
     "text": [
      "INFO:unityagents:\n",
      "'Academy' started successfully!\n",
      "Unity Academy name: Academy\n",
      "        Number of Brains: 1\n",
      "        Number of External Brains : 1\n",
      "        Lesson number : 0\n",
      "        Reset Parameters :\n",
      "\t\t\n",
      "Unity brain name: CrawlerBrain\n",
      "        Number of Visual Observations (per agent): 0\n",
      "        Vector Observation space type: continuous\n",
      "        Vector Observation space size (per agent): 129\n",
      "        Number of stacked Vector Observation: 1\n",
      "        Vector Action space type: continuous\n",
      "        Vector Action space size (per agent): 20\n",
      "        Vector Action descriptions: , , , , , , , , , , , , , , , , , , , \n"
     ]
    }
   ],
   "source": [
    "env = UnityEnvironment(file_name='Crawler.app', worker_id=101,  no_graphics=False)\n",
    "#env = UnityEnvironment(file_name='Reacher.app')"
   ]
  },
  {
   "cell_type": "markdown",
   "metadata": {},
   "source": [
    "Environments contain **_brains_** which are responsible for deciding the actions of their associated agents. Here we check for the first brain available, and set it as the default brain we will be controlling from Python."
   ]
  },
  {
   "cell_type": "markdown",
   "metadata": {},
   "source": [
    "### 2. Examine the State and Action Spaces\n",
    "\n",
    "In this environment, a double-jointed arm can move to target locations. A reward of `+0.1` is provided for each step that the agent's hand is in the goal location. Thus, the goal of your agent is to maintain its position at the target location for as many time steps as possible.\n",
    "\n",
    "The observation space consists of `33` variables corresponding to position, rotation, velocity, and angular velocities of the arm.  Each action is a vector with four numbers, corresponding to torque applicable to two joints.  Every entry in the action vector must be a number between `-1` and `1`.\n",
    "\n",
    "Run the code cell below to print some information about the environment."
   ]
  },
  {
   "cell_type": "code",
   "execution_count": 3,
   "metadata": {},
   "outputs": [
    {
     "name": "stdout",
     "output_type": "stream",
     "text": [
      "Name of brain: CrawlerBrain\n",
      "Number of agents: 12\n",
      "Size of each action: 20\n",
      "There are 12 agents. Each observes a state with length: 129\n",
      "The state for the first agent looks like: [ 0.00000000e+00  0.00000000e+00  0.00000000e+00  2.25000000e+00\n",
      "  1.00000000e+00  0.00000000e+00  1.78813934e-07  0.00000000e+00\n",
      "  1.00000000e+00  0.00000000e+00  0.00000000e+00  0.00000000e+00\n",
      "  0.00000000e+00  0.00000000e+00  0.00000000e+00  0.00000000e+00\n",
      "  0.00000000e+00  0.00000000e+00  0.00000000e+00  0.00000000e+00\n",
      "  0.00000000e+00  0.00000000e+00  0.00000000e+00  0.00000000e+00\n",
      "  6.06093168e-01 -1.42857209e-01 -6.06078804e-01  0.00000000e+00\n",
      "  0.00000000e+00  0.00000000e+00  0.00000000e+00  0.00000000e+00\n",
      "  0.00000000e+00  0.00000000e+00  0.00000000e+00  0.00000000e+00\n",
      "  0.00000000e+00  0.00000000e+00  1.33339906e+00 -1.42857209e-01\n",
      " -1.33341408e+00  0.00000000e+00  0.00000000e+00  0.00000000e+00\n",
      "  0.00000000e+00  0.00000000e+00  0.00000000e+00  0.00000000e+00\n",
      "  0.00000000e+00  0.00000000e+00  0.00000000e+00  0.00000000e+00\n",
      " -6.06093347e-01 -1.42857209e-01 -6.06078625e-01  0.00000000e+00\n",
      "  0.00000000e+00  0.00000000e+00  0.00000000e+00  0.00000000e+00\n",
      "  0.00000000e+00  0.00000000e+00  0.00000000e+00  0.00000000e+00\n",
      "  0.00000000e+00  0.00000000e+00 -1.33339953e+00 -1.42857209e-01\n",
      " -1.33341372e+00  0.00000000e+00  0.00000000e+00  0.00000000e+00\n",
      "  0.00000000e+00  0.00000000e+00  0.00000000e+00  0.00000000e+00\n",
      "  0.00000000e+00  0.00000000e+00  0.00000000e+00  0.00000000e+00\n",
      " -6.06093168e-01 -1.42857209e-01  6.06078804e-01  0.00000000e+00\n",
      "  0.00000000e+00  0.00000000e+00  0.00000000e+00  0.00000000e+00\n",
      "  0.00000000e+00  0.00000000e+00  0.00000000e+00  0.00000000e+00\n",
      "  0.00000000e+00  0.00000000e+00 -1.33339906e+00 -1.42857209e-01\n",
      "  1.33341408e+00  0.00000000e+00  0.00000000e+00  0.00000000e+00\n",
      "  0.00000000e+00  0.00000000e+00  0.00000000e+00  0.00000000e+00\n",
      "  0.00000000e+00  0.00000000e+00  0.00000000e+00  0.00000000e+00\n",
      "  6.06093347e-01 -1.42857209e-01  6.06078625e-01  0.00000000e+00\n",
      "  0.00000000e+00  0.00000000e+00  0.00000000e+00  0.00000000e+00\n",
      "  0.00000000e+00  0.00000000e+00  0.00000000e+00  0.00000000e+00\n",
      "  0.00000000e+00  0.00000000e+00  1.33339953e+00 -1.42857209e-01\n",
      "  1.33341372e+00  0.00000000e+00  0.00000000e+00  0.00000000e+00\n",
      "  0.00000000e+00]\n"
     ]
    }
   ],
   "source": [
    "# get the default brain\n",
    "brain_name = env.brain_names[0]\n",
    "brain = env.brains[brain_name]\n",
    "\n",
    "# reset the environment\n",
    "env_info = env.reset(train_mode=True)[brain_name]\n",
    "\n",
    "# name of brain\n",
    "print('Name of brain:', brain_name)\n",
    "\n",
    "# number of agents\n",
    "num_agents = len(env_info.agents)\n",
    "print('Number of agents:', num_agents)\n",
    "\n",
    "# size of each action\n",
    "action_size = brain.vector_action_space_size\n",
    "print('Size of each action:', action_size)\n",
    "\n",
    "# examine the state space \n",
    "states = env_info.vector_observations\n",
    "state_size = states.shape[1]\n",
    "print('There are {} agents. Each observes a state with length: {}'.format(states.shape[0], state_size))\n",
    "print('The state for the first agent looks like:', states[0])"
   ]
  },
  {
   "cell_type": "markdown",
   "metadata": {},
   "source": [
    "### 3. Take Random Actions in the Environment\n",
    "\n",
    "In the next code cell, you will learn how to use the Python API to control the agent and receive feedback from the environment.\n",
    "\n",
    "Once this cell is executed, you will watch the agent's performance, if it selects an action at random with each time step.  A window should pop up that allows you to observe the agent, as it moves through the environment.  \n",
    "\n",
    "Of course, as part of the project, you'll have to change the code so that the agent is able to use its experience to gradually choose better actions when interacting with the environment!"
   ]
  },
  {
   "cell_type": "code",
   "execution_count": 4,
   "metadata": {},
   "outputs": [
    {
     "name": "stdout",
     "output_type": "stream",
     "text": [
      "Total score (averaged over agents) this episode: 0.7425790952984244\n"
     ]
    }
   ],
   "source": [
    "env_info = env.reset(train_mode=False)[brain_name]     # reset the environment    \n",
    "states = env_info.vector_observations                  # get the current state (for each agent)\n",
    "scores = np.zeros(num_agents)                          # initialize the score (for each agent)\n",
    "t = 0                                                  # keep track of the trajectory\n",
    "while True:\n",
    "    actions = np.random.randn(num_agents, action_size) # select an action (for each agent)\n",
    "    actions = np.clip(actions, -1, 1)                  # all actions between -1 and 1\n",
    "    env_info = env.step(actions)[brain_name]           # send all actions to tne environment\n",
    "    next_states = env_info.vector_observations         # get next state (for each agent)\n",
    "    rewards = env_info.rewards                         # get reward (for each agent)\n",
    "    dones = env_info.local_done                        # see if episode finished\n",
    "    scores += env_info.rewards                         # update the score (for each agent)\n",
    "    states = next_states                               # roll over states to next time step\n",
    "    if np.any(dones):                                  # exit loop if episode finished\n",
    "        break\n",
    "print('Total score (averaged over agents) this episode: {}'.format(np.mean(scores)))\n",
    "#env.close()"
   ]
  },
  {
   "cell_type": "markdown",
   "metadata": {},
   "source": [
    "### 4. It's Your Turn!\n",
    "\n",
    "Now it's your turn to train your own agent to solve the environment!  When training the environment, set `train_mode=True`, so that the line for resetting the environment looks like the following:\n",
    "```python\n",
    "env_info = env.reset(train_mode=True)[brain_name]\n",
    "```"
   ]
  },
  {
   "cell_type": "code",
   "execution_count": 5,
   "metadata": {},
   "outputs": [],
   "source": [
    "def saveTrainedModel(agent, path):\n",
    "    state_dicts = {'actor_model': agent.model_local.actor.state_dict(),\n",
    "                   'critic_model': agent.model_local.critic.state_dict()}\n",
    "    torch.save(state_dicts, path)\n",
    "    \n",
    "def loadTrainedModel(agent, path):\n",
    "    state_dicts = torch.load(path,map_location={'cuda:0': 'cpu'})\n",
    "\n",
    "    agent.model_local.actor.load_state_dict(state_dicts['actor_model'])\n",
    "    agent.model_local.critic.load_state_dict(state_dicts['critic_model'])\n",
    "    \n",
    "    return agent"
   ]
  },
  {
   "cell_type": "code",
   "execution_count": 6,
   "metadata": {},
   "outputs": [
    {
     "name": "stdout",
     "output_type": "stream",
     "text": [
      "current device:  cpu\n"
     ]
    }
   ],
   "source": [
    "from PPO_agent import PPO_Agent\n",
    "#import PPO_util \n",
    "\n",
    "model_dir = 'saved_models/'\n",
    "model_name = 'unity_continuous_' + str(brain_name) + '_' + str(num_agents) + '_maxscore' + '_agents.pt'\n",
    "\n",
    "agent = PPO_Agent(env, state_size, action_size, num_agents=num_agents, seed=0)\n",
    "#agent = loadTrainedModel(agent, model_dir+model_name)"
   ]
  },
  {
   "cell_type": "code",
   "execution_count": null,
   "metadata": {
    "scrolled": false
   },
   "outputs": [
    {
     "name": "stdout",
     "output_type": "stream",
     "text": [
      "Fetching experiences... 24000 Prefetch completed. Training starts! \n",
      "Number of Agents:  12\n",
      "Device:  cpu\n",
      "e: 5  score: 52.53  Avg score(100e): 50.60  A(g): -0.07  C(l): 0.12  std: 1.00  steps: 1000\n",
      "e: 10  score: 55.58  Avg score(100e): 52.41  A(g): -0.08  C(l): 0.12  std: 1.00  steps: 1000\n",
      "e: 15  score: 58.78  Avg score(100e): 54.12  A(g): -0.09  C(l): 0.12  std: 1.00  steps: 1000\n",
      "e: 20  score: 61.43  Avg score(100e): 55.69  A(g): -0.10  C(l): 0.11  std: 0.99  steps: 1000\n",
      "e: 25  score: 64.66  Avg score(100e): 57.22  A(g): -0.11  C(l): 0.11  std: 0.99  steps: 1000\n",
      "e: 30  score: 67.71  Avg score(100e): 58.75  A(g): -0.11  C(l): 0.10  std: 0.99  steps: 1000\n",
      "e: 35  score: 71.20  Avg score(100e): 60.34  A(g): -0.12  C(l): 0.07  std: 0.99  steps: 1000\n",
      "e: 40  score: 75.66  Avg score(100e): 62.01  A(g): -0.13  C(l): 0.05  std: 0.99  steps: 1000\n",
      "e: 45  score: 79.53  Avg score(100e): 63.78  A(g): -0.13  C(l): 0.05  std: 0.99  steps: 1000\n",
      "e: 50  score: 83.29  Avg score(100e): 65.59  A(g): -0.14  C(l): 0.04  std: 0.98  steps: 1000\n",
      "e: 55  score: 87.77  Avg score(100e): 67.44  A(g): -0.14  C(l): 0.05  std: 0.98  steps: 1000\n",
      "e: 60  score: 92.06  Avg score(100e): 69.34  A(g): -0.18  C(l): 0.05  std: 0.98  steps: 1000\n",
      "e: 65  score: 96.27  Avg score(100e): 71.30  A(g): -0.19  C(l): 0.05  std: 0.98  steps: 1000\n",
      "e: 70  score: 100.02  Avg score(100e): 73.22  A(g): -0.17  C(l): 0.05  std: 0.98  steps: 1000\n",
      "e: 75  score: 103.43  Avg score(100e): 75.16  A(g): -0.17  C(l): 0.05  std: 0.98  steps: 1000\n",
      "e: 80  score: 106.39  Avg score(100e): 77.04  A(g): -0.16  C(l): 0.05  std: 0.97  steps: 1000\n",
      "e: 85  score: 109.07  Avg score(100e): 78.86  A(g): -0.16  C(l): 0.05  std: 0.97  steps: 1000\n",
      "e: 90  score: 113.26  Avg score(100e): 80.67  A(g): -0.17  C(l): 0.08  std: 0.97  steps: 1011\n",
      "e: 95  score: 114.58  Avg score(100e): 82.42  A(g): -0.17  C(l): 0.08  std: 0.97  steps: 1010\n",
      "e: 100  score: 115.56  Avg score(100e): 84.05  A(g): -0.17  C(l): 0.06  std: 0.97  steps: 1010\n",
      "e: 105  score: 116.71  Avg score(100e): 87.33  A(g): -0.17  C(l): 0.06  std: 0.96  steps: 1010\n",
      "e: 110  score: 120.46  Avg score(100e): 90.57  A(g): -0.17  C(l): 0.08  std: 0.96  steps: 1010\n",
      "e: 115  score: 122.68  Avg score(100e): 93.77  A(g): -0.16  C(l): 0.09  std: 0.96  steps: 1010\n",
      "e: 120  score: 123.65  Avg score(100e): 96.91  A(g): -0.18  C(l): 0.08  std: 0.96  steps: 1010\n",
      "e: 125  score: 126.43  Avg score(100e): 100.01  A(g): -0.18  C(l): 0.08  std: 0.96  steps: 1010\n",
      "e: 130  score: 128.51  Avg score(100e): 103.07  A(g): -0.17  C(l): 0.07  std: 0.96  steps: 1010\n",
      "e: 135  score: 132.22  Avg score(100e): 106.11  A(g): -0.17  C(l): 0.08  std: 0.96  steps: 1020\n",
      "e: 140  score: 134.65  Avg score(100e): 109.12  A(g): -0.18  C(l): 0.08  std: 0.95  steps: 1020\n",
      "e: 145  score: 137.45  Avg score(100e): 112.03  A(g): -0.17  C(l): 0.08  std: 0.95  steps: 1020\n",
      "e: 150  score: 141.14  Avg score(100e): 114.92  A(g): -0.17  C(l): 0.11  std: 0.95  steps: 1020\n",
      "e: 155  score: 147.62  Avg score(100e): 117.84  A(g): -0.17  C(l): 0.10  std: 0.95  steps: 1041\n",
      "e: 160  score: 152.88  Avg score(100e): 120.86  A(g): -0.20  C(l): 0.11  std: 0.95  steps: 1062\n",
      "e: 165  score: 156.15  Avg score(100e): 123.87  A(g): -0.20  C(l): 0.12  std: 0.94  steps: 1062\n",
      "e: 170  score: 165.49  Avg score(100e): 127.06  A(g): -0.23  C(l): 0.10  std: 0.94  steps: 1115\n",
      "e: 175  score: 170.64  Avg score(100e): 130.41  A(g): -0.25  C(l): 0.12  std: 0.94  steps: 1157\n",
      "e: 180  score: 170.34  Avg score(100e): 133.66  A(g): -0.29  C(l): 0.31  std: 0.94  steps: 1167\n",
      "e: 185  score: 170.55  Avg score(100e): 136.79  A(g): -0.25  C(l): 0.10  std: 0.94  steps: 1167\n",
      "e: 190  score: 168.20  Avg score(100e): 139.69  A(g): -0.69  C(l): 0.35  std: 0.93  steps: 1178\n",
      "e: 195  score: 164.70  Avg score(100e): 142.28  A(g): -0.32  C(l): 0.25  std: 0.93  steps: 1188\n",
      "e: 200  score: 161.72  Avg score(100e): 144.67  A(g): -0.31  C(l): 0.19  std: 0.93  steps: 1188\n",
      "e: 205  score: 159.16  Avg score(100e): 146.87  A(g): -0.28  C(l): 0.09  std: 0.93  steps: 1188\n",
      "e: 210  score: 159.28  Avg score(100e): 148.88  A(g): -0.23  C(l): 0.06  std: 0.93  steps: 1241\n",
      "e: 215  score: 161.39  Avg score(100e): 150.82  A(g): -0.21  C(l): 0.08  std: 0.92  steps: 1293\n",
      "e: 220  score: 164.34  Avg score(100e): 152.80  A(g): -0.21  C(l): 0.10  std: 0.92  steps: 1335\n",
      "e: 225  score: 168.12  Avg score(100e): 154.88  A(g): -0.18  C(l): 0.11  std: 0.92  steps: 1377\n",
      "e: 230  score: 172.35  Avg score(100e): 157.01  A(g): -0.21  C(l): 0.09  std: 0.92  steps: 1419\n",
      "e: 235  score: 176.10  Avg score(100e): 159.23  A(g): -0.17  C(l): 0.09  std: 0.92  steps: 1450\n",
      "e: 240  score: 178.46  Avg score(100e): 161.41  A(g): -0.17  C(l): 0.09  std: 0.91  steps: 1492\n",
      "e: 245  score: 180.99  Avg score(100e): 163.57  A(g): -0.18  C(l): 0.09  std: 0.91  steps: 1524\n",
      "e: 250  score: 182.67  Avg score(100e): 165.71  A(g): -0.18  C(l): 0.09  std: 0.91  steps: 1544\n",
      "e: 255  score: 184.36  Avg score(100e): 167.70  A(g): -0.16  C(l): 0.09  std: 0.91  steps: 1555\n",
      "e: 260  score: 187.49  Avg score(100e): 169.48  A(g): -0.16  C(l): 0.09  std: 0.90  steps: 1586\n",
      "e: 265  score: 190.41  Avg score(100e): 171.19  A(g): -0.16  C(l): 0.09  std: 0.90  steps: 1639\n",
      "e: 270  score: 193.45  Avg score(100e): 172.69  A(g): -0.15  C(l): 0.09  std: 0.90  steps: 1639\n",
      "e: 275  score: 195.28  Avg score(100e): 173.96  A(g): -0.16  C(l): 0.09  std: 0.90  steps: 1628\n",
      "e: 280  score: 195.74  Avg score(100e): 175.22  A(g): -0.14  C(l): 0.09  std: 0.90  steps: 1628\n",
      "e: 285  score: 197.28  Avg score(100e): 176.52  A(g): -0.14  C(l): 0.09  std: 0.89  steps: 1649\n",
      "e: 290  score: 199.45  Avg score(100e): 178.00  A(g): -0.16  C(l): 0.10  std: 0.89  steps: 1670\n",
      "e: 295  score: 201.54  Avg score(100e): 179.74  A(g): -0.15  C(l): 0.10  std: 0.89  steps: 1691\n",
      "e: 300  score: 204.32  Avg score(100e): 181.75  A(g): -0.13  C(l): 0.11  std: 0.89  steps: 1723\n",
      "e: 305  score: 205.98  Avg score(100e): 184.03  A(g): -0.14  C(l): 0.11  std: 0.89  steps: 1733\n",
      "e: 310  score: 208.56  Avg score(100e): 186.48  A(g): -0.16  C(l): 0.11  std: 0.89  steps: 1702\n",
      "e: 315  score: 210.69  Avg score(100e): 188.93  A(g): -0.14  C(l): 0.11  std: 0.88  steps: 1660\n",
      "e: 320  score: 215.80  Avg score(100e): 191.47  A(g): -0.14  C(l): 0.13  std: 0.88  steps: 1670\n",
      "e: 325  score: 218.41  Avg score(100e): 193.99  A(g): -0.16  C(l): 0.14  std: 0.88  steps: 1660\n",
      "e: 330  score: 220.74  Avg score(100e): 196.48  A(g): -0.13  C(l): 0.13  std: 0.88  steps: 1639\n",
      "e: 335  score: 226.11  Avg score(100e): 198.92  A(g): -0.13  C(l): 0.13  std: 0.87  steps: 1649\n",
      "e: 340  score: 228.75  Avg score(100e): 201.43  A(g): -0.13  C(l): 0.15  std: 0.87  steps: 1639\n",
      "e: 345  score: 231.49  Avg score(100e): 203.99  A(g): -0.12  C(l): 0.11  std: 0.87  steps: 1639\n",
      "e: 350  score: 233.89  Avg score(100e): 206.54  A(g): -0.12  C(l): 0.11  std: 0.87  steps: 1649\n",
      "e: 355  score: 236.57  Avg score(100e): 209.10  A(g): -0.12  C(l): 0.12  std: 0.87  steps: 1649\n",
      "e: 360  score: 237.62  Avg score(100e): 211.63  A(g): -0.12  C(l): 0.13  std: 0.86  steps: 1607\n",
      "e: 365  score: 239.87  Avg score(100e): 214.13  A(g): -0.11  C(l): 0.12  std: 0.86  steps: 1586\n",
      "e: 370  score: 241.22  Avg score(100e): 216.54  A(g): -0.11  C(l): 0.10  std: 0.86  steps: 1555\n",
      "e: 375  score: 243.28  Avg score(100e): 218.93  A(g): -0.11  C(l): 0.10  std: 0.86  steps: 1555\n",
      "e: 380  score: 243.88  Avg score(100e): 221.32  A(g): -0.11  C(l): 0.11  std: 0.86  steps: 1555\n",
      "e: 385  score: 247.06  Avg score(100e): 223.78  A(g): -0.11  C(l): 0.11  std: 0.85  steps: 1586\n",
      "e: 390  score: 248.45  Avg score(100e): 226.22  A(g): -0.16  C(l): 0.11  std: 0.85  steps: 1565\n",
      "e: 395  score: 252.04  Avg score(100e): 228.71  A(g): -0.10  C(l): 0.11  std: 0.85  steps: 1586\n",
      "e: 400  score: 253.54  Avg score(100e): 231.21  A(g): -0.11  C(l): 0.12  std: 0.85  steps: 1586\n",
      "e: 405  score: 254.46  Avg score(100e): 233.65  A(g): -0.11  C(l): 0.12  std: 0.85  steps: 1586\n",
      "e: 410  score: 255.92  Avg score(100e): 235.99  A(g): -0.10  C(l): 0.10  std: 0.85  steps: 1586\n",
      "e: 415  score: 259.67  Avg score(100e): 238.43  A(g): -0.10  C(l): 0.11  std: 0.84  steps: 1628\n",
      "e: 420  score: 263.20  Avg score(100e): 240.84  A(g): -0.21  C(l): 0.14  std: 0.84  steps: 1628\n",
      "e: 425  score: 266.87  Avg score(100e): 243.26  A(g): -0.12  C(l): 0.13  std: 0.84  steps: 1649\n"
     ]
    },
    {
     "name": "stdout",
     "output_type": "stream",
     "text": [
      "e: 430  score: 270.01  Avg score(100e): 245.70  A(g): -0.13  C(l): 0.13  std: 0.84  steps: 1681\n",
      "e: 435  score: 273.11  Avg score(100e): 248.10  A(g): -0.12  C(l): 0.12  std: 0.84  steps: 1681\n",
      "e: 440  score: 276.28  Avg score(100e): 250.47  A(g): -0.11  C(l): 0.12  std: 0.83  steps: 1702\n",
      "e: 445  score: 279.11  Avg score(100e): 252.84  A(g): -0.11  C(l): 0.11  std: 0.83  steps: 1723\n",
      "e: 450  score: 282.16  Avg score(100e): 255.22  A(g): -0.10  C(l): 0.12  std: 0.83  steps: 1744\n",
      "e: 455  score: 284.77  Avg score(100e): 257.64  A(g): -0.11  C(l): 0.12  std: 0.83  steps: 1765\n",
      "e: 460  score: 286.74  Avg score(100e): 260.09  A(g): -0.10  C(l): 0.10  std: 0.82  steps: 1796\n",
      "e: 465  score: 289.11  Avg score(100e): 262.55  A(g): -0.11  C(l): 0.12  std: 0.82  steps: 1817\n",
      "e: 470  score: 290.26  Avg score(100e): 265.00  A(g): -0.12  C(l): 0.13  std: 0.82  steps: 1838\n",
      "e: 475  score: 290.22  Avg score(100e): 267.42  A(g): -0.11  C(l): 0.12  std: 0.82  steps: 1827\n",
      "e: 480  score: 290.85  Avg score(100e): 269.78  A(g): -0.10  C(l): 0.14  std: 0.82  steps: 1859\n",
      "e: 485  score: 292.97  Avg score(100e): 272.10  A(g): -0.11  C(l): 0.12  std: 0.81  steps: 1859\n",
      "e: 490  score: 293.48  Avg score(100e): 274.38  A(g): -0.10  C(l): 0.10  std: 0.81  steps: 1859\n",
      "e: 495  score: 295.08  Avg score(100e): 276.57  A(g): -0.09  C(l): 0.11  std: 0.81  steps: 1848\n",
      "e: 500  score: 296.80  Avg score(100e): 278.71  A(g): -0.12  C(l): 0.13  std: 0.81  steps: 1869\n",
      "e: 505  score: 299.01  Avg score(100e): 280.90  A(g): -0.11  C(l): 0.13  std: 0.81  steps: 1911\n",
      "e: 510  score: 300.68  Avg score(100e): 283.16  A(g): -0.12  C(l): 0.16  std: 0.80  steps: 1943\n",
      "e: 515  score: 302.06  Avg score(100e): 285.33  A(g): -0.12  C(l): 0.15  std: 0.80  steps: 1943\n",
      "e: 520  score: 303.54  Avg score(100e): 287.38  A(g): -0.10  C(l): 0.13  std: 0.80  steps: 1943\n"
     ]
    }
   ],
   "source": [
    "episode_max = 10000 # training loop max iterations\n",
    "episode_reward = 0.0\n",
    "mean_rewards = []\n",
    "max_score = -np.inf\n",
    "e = 0\n",
    "\n",
    "widget = ['training loop: ', pb.Percentage(), ' ', \n",
    "          pb.Bar(), ' ', pb.ETA() ]\n",
    "\n",
    "#widget = ['Episode: ', pb.Counter(),'/',str(episode_max),'  ',  \n",
    "#          'eps reward: ', str(np.mean(episode_reward)) ,'  ',\n",
    "#          'Avg score (100e): ', str(mean_rewards[-100:]) ,'  ',\n",
    "#          'actor gain: ', str(np.mean(agent.actor_gain)) ,'  ',\n",
    "#          'critic loss: ', str(np.mean(agent.critic_loss)) ,'  ',\n",
    "#           pb.ETA(), ' ', pb.Bar(marker=pb.RotatingMarker()), '  ' ]\n",
    "\n",
    "#timer = pb.ProgressBar(widgets=widget, maxval=episode_max).start()\n",
    "\n",
    "\n",
    "while e < episode_max:\n",
    "\n",
    "    # collect trajectories\n",
    "    agent.step()\n",
    "    episode_reward = agent.episodic_rewards\n",
    "\n",
    "    # display some progress every 20 iterations\n",
    "    if agent.is_training:\n",
    "\n",
    "        # get the average reward of the parallel environments\n",
    "        mean_rewards.append(np.mean(episode_reward))        \n",
    "        \n",
    "        if (e+1)%5==0 :\n",
    "            print(\"e: {}  score: {:.2f}  Avg score(100e): {:.2f}  \"\n",
    "                  \"A(g): {:.2f}  C(l): {:.2f}  std: {:.2f}  steps: {}\".format(e+1, np.mean(episode_reward),\n",
    "                                                                              np.mean(mean_rewards[-100:]),\n",
    "                                                                              np.mean(agent.actor_gain_hist), \n",
    "                                                                              np.mean(agent.critic_loss_hist),\n",
    "                                                                              agent.std_scale, \n",
    "                                                                              int(np.mean(agent.total_steps))))\n",
    "        if np.mean(mean_rewards[-100:]) > max_score:\n",
    "            max_score = np.mean(mean_rewards[-100:])\n",
    "            saveTrainedModel(agent, model_dir + model_name)\n",
    "            \n",
    "        if np.mean(mean_rewards[-100:]) >= 2000:\n",
    "            print(\"Average score over all agents across 100th episodes > 2000. Problem Solved!\")\n",
    "            break\n",
    "                \n",
    "        #timer.update(e)\n",
    "        \n",
    "        e += 1\n",
    "    else:\n",
    "        print('\\rFetching experiences... {} '.format(len(agent.memory.memory)), end=\"\")\n",
    "        \n",
    "    #update progress widget bar\n",
    "    #timer.update(e+1)\n",
    "    \n",
    "#timer.finish()"
   ]
  },
  {
   "cell_type": "code",
   "execution_count": null,
   "metadata": {},
   "outputs": [],
   "source": []
  },
  {
   "cell_type": "code",
   "execution_count": null,
   "metadata": {},
   "outputs": [],
   "source": []
  },
  {
   "cell_type": "code",
   "execution_count": null,
   "metadata": {},
   "outputs": [],
   "source": [
    "saveTrainedModel(agent, model_dir + model_name)"
   ]
  },
  {
   "cell_type": "code",
   "execution_count": null,
   "metadata": {},
   "outputs": [],
   "source": [
    "# plot the scores\n",
    "import matplotlib.pyplot as plt\n",
    "%matplotlib inline\n",
    "\n",
    "fig = plt.figure()\n",
    "ax = fig.add_subplot(111)\n",
    "plt.plot(np.arange(len(mean_rewards)), mean_rewards)\n",
    "plt.ylabel('Score')\n",
    "plt.xlabel('Episode #')\n",
    "plt.show()"
   ]
  },
  {
   "cell_type": "code",
   "execution_count": null,
   "metadata": {},
   "outputs": [],
   "source": []
  },
  {
   "cell_type": "code",
   "execution_count": 10,
   "metadata": {},
   "outputs": [
    {
     "name": "stdout",
     "output_type": "stream",
     "text": [
      "56.329058099499285\n",
      "57.3805200048179\n",
      "56.12759944982827\n",
      "56.27584464161191\n",
      "56.73528918251395\n",
      "54.943618235488735\n",
      "57.176575283519924\n",
      "56.28407214644054\n",
      "56.90771629707888\n",
      "56.7680952391432\n",
      "Total score (averaged over agents) this episode: 564.9283885799426\n"
     ]
    }
   ],
   "source": [
    "scores = np.zeros(num_agents)                # initialize the score (for each agent)\n",
    "for _ in range(10):\n",
    "    agent.step(train_mode=False)             # lower eps and train_mode=False\n",
    "    episode_reward = agent.running_rewards\n",
    "    scores += episode_reward                 # update the score (for each agent)\n",
    "   \n",
    "print('Total score (averaged over agents) this episode: {}'.format(np.mean(scores)))"
   ]
  },
  {
   "cell_type": "code",
   "execution_count": 8,
   "metadata": {},
   "outputs": [],
   "source": [
    "env.close()"
   ]
  },
  {
   "cell_type": "code",
   "execution_count": null,
   "metadata": {},
   "outputs": [],
   "source": []
  },
  {
   "cell_type": "code",
   "execution_count": null,
   "metadata": {},
   "outputs": [],
   "source": []
  }
 ],
 "metadata": {
  "kernelspec": {
   "display_name": "Python 3",
   "language": "python",
   "name": "python3"
  },
  "language_info": {
   "codemirror_mode": {
    "name": "ipython",
    "version": 3
   },
   "file_extension": ".py",
   "mimetype": "text/x-python",
   "name": "python",
   "nbconvert_exporter": "python",
   "pygments_lexer": "ipython3",
   "version": "3.5.5"
  }
 },
 "nbformat": 4,
 "nbformat_minor": 2
}
