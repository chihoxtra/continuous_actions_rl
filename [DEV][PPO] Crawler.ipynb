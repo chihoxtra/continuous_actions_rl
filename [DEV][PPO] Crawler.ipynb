{
 "cells": [
  {
   "cell_type": "markdown",
   "metadata": {},
   "source": [
    "# [DEV][PPO] Crawler\n",
    "\n",
    "---\n",
    "\n",
    "In this notebook, you will learn how to use the Unity ML-Agents environment for the second project of the [Deep Reinforcement Learning Nanodegree](https://www.udacity.com/course/deep-reinforcement-learning-nanodegree--nd893) program.\n",
    "\n",
    "### 1. Start the Environment\n",
    "\n",
    "We begin by importing the necessary packages.  If the code cell below returns an error, please revisit the project instructions to double-check that you have installed [Unity ML-Agents](https://github.com/Unity-Technologies/ml-agents/blob/master/docs/Installation.md) and [NumPy](http://www.numpy.org/)."
   ]
  },
  {
   "cell_type": "code",
   "execution_count": 8,
   "metadata": {},
   "outputs": [],
   "source": [
    "from unityagents import UnityEnvironment\n",
    "import torch\n",
    "import numpy as np\n",
    "\n",
    "# widget bar to display progress\n",
    "#!pip install progressbar\n",
    "import progressbar as pb"
   ]
  },
  {
   "cell_type": "markdown",
   "metadata": {},
   "source": [
    "Next, we will start the environment!  **_Before running the code cell below_**, change the `file_name` parameter to match the location of the Unity environment that you downloaded.\n",
    "\n",
    "- **Mac**: `\"path/to/Reacher.app\"`\n",
    "- **Windows** (x86): `\"path/to/Reacher_Windows_x86/Reacher.exe\"`\n",
    "- **Windows** (x86_64): `\"path/to/Reacher_Windows_x86_64/Reacher.exe\"`\n",
    "- **Linux** (x86): `\"path/to/Reacher_Linux/Reacher.x86\"`\n",
    "- **Linux** (x86_64): `\"path/to/Reacher_Linux/Reacher.x86_64\"`\n",
    "- **Linux** (x86, headless): `\"path/to/Reacher_Linux_NoVis/Reacher.x86\"`\n",
    "- **Linux** (x86_64, headless): `\"path/to/Reacher_Linux_NoVis/Reacher.x86_64\"`\n",
    "\n",
    "For instance, if you are using a Mac, then you downloaded `Reacher.app`.  If this file is in the same folder as the notebook, then the line below should appear as follows:\n",
    "```\n",
    "env = UnityEnvironment(file_name=\"Reacher.app\")\n",
    "```"
   ]
  },
  {
   "cell_type": "code",
   "execution_count": 9,
   "metadata": {},
   "outputs": [
    {
     "name": "stderr",
     "output_type": "stream",
     "text": [
      "INFO:unityagents:\n",
      "'Academy' started successfully!\n",
      "Unity Academy name: Academy\n",
      "        Number of Brains: 1\n",
      "        Number of External Brains : 1\n",
      "        Lesson number : 0\n",
      "        Reset Parameters :\n",
      "\t\t\n",
      "Unity brain name: CrawlerBrain\n",
      "        Number of Visual Observations (per agent): 0\n",
      "        Vector Observation space type: continuous\n",
      "        Vector Observation space size (per agent): 129\n",
      "        Number of stacked Vector Observation: 1\n",
      "        Vector Action space type: continuous\n",
      "        Vector Action space size (per agent): 20\n",
      "        Vector Action descriptions: , , , , , , , , , , , , , , , , , , , \n"
     ]
    }
   ],
   "source": [
    "env = UnityEnvironment(file_name='Crawler.app', worker_id=101,  no_graphics=True)\n",
    "#env = UnityEnvironment(file_name='Reacher.app')"
   ]
  },
  {
   "cell_type": "markdown",
   "metadata": {},
   "source": [
    "Environments contain **_brains_** which are responsible for deciding the actions of their associated agents. Here we check for the first brain available, and set it as the default brain we will be controlling from Python."
   ]
  },
  {
   "cell_type": "markdown",
   "metadata": {},
   "source": [
    "### 2. Examine the State and Action Spaces\n",
    "\n",
    "In this environment, a double-jointed arm can move to target locations. A reward of `+0.1` is provided for each step that the agent's hand is in the goal location. Thus, the goal of your agent is to maintain its position at the target location for as many time steps as possible.\n",
    "\n",
    "The observation space consists of `33` variables corresponding to position, rotation, velocity, and angular velocities of the arm.  Each action is a vector with four numbers, corresponding to torque applicable to two joints.  Every entry in the action vector must be a number between `-1` and `1`.\n",
    "\n",
    "Run the code cell below to print some information about the environment."
   ]
  },
  {
   "cell_type": "code",
   "execution_count": 10,
   "metadata": {},
   "outputs": [
    {
     "name": "stdout",
     "output_type": "stream",
     "text": [
      "Name of brain: CrawlerBrain\n",
      "Number of agents: 12\n",
      "Size of each action: 20\n",
      "There are 12 agents. Each observes a state with length: 129\n",
      "The state for the first agent looks like: [ 0.00000000e+00  0.00000000e+00  0.00000000e+00  2.25000000e+00\n",
      "  1.00000000e+00  0.00000000e+00  1.78813934e-07  0.00000000e+00\n",
      "  1.00000000e+00  0.00000000e+00  0.00000000e+00  0.00000000e+00\n",
      "  0.00000000e+00  0.00000000e+00  0.00000000e+00  0.00000000e+00\n",
      "  0.00000000e+00  0.00000000e+00  0.00000000e+00  0.00000000e+00\n",
      "  0.00000000e+00  0.00000000e+00  0.00000000e+00  0.00000000e+00\n",
      "  6.06093168e-01 -1.42857209e-01 -6.06078804e-01  0.00000000e+00\n",
      "  0.00000000e+00  0.00000000e+00  0.00000000e+00  0.00000000e+00\n",
      "  0.00000000e+00  0.00000000e+00  0.00000000e+00  0.00000000e+00\n",
      "  0.00000000e+00  0.00000000e+00  1.33339906e+00 -1.42857209e-01\n",
      " -1.33341408e+00  0.00000000e+00  0.00000000e+00  0.00000000e+00\n",
      "  0.00000000e+00  0.00000000e+00  0.00000000e+00  0.00000000e+00\n",
      "  0.00000000e+00  0.00000000e+00  0.00000000e+00  0.00000000e+00\n",
      " -6.06093347e-01 -1.42857209e-01 -6.06078625e-01  0.00000000e+00\n",
      "  0.00000000e+00  0.00000000e+00  0.00000000e+00  0.00000000e+00\n",
      "  0.00000000e+00  0.00000000e+00  0.00000000e+00  0.00000000e+00\n",
      "  0.00000000e+00  0.00000000e+00 -1.33339953e+00 -1.42857209e-01\n",
      " -1.33341372e+00  0.00000000e+00  0.00000000e+00  0.00000000e+00\n",
      "  0.00000000e+00  0.00000000e+00  0.00000000e+00  0.00000000e+00\n",
      "  0.00000000e+00  0.00000000e+00  0.00000000e+00  0.00000000e+00\n",
      " -6.06093168e-01 -1.42857209e-01  6.06078804e-01  0.00000000e+00\n",
      "  0.00000000e+00  0.00000000e+00  0.00000000e+00  0.00000000e+00\n",
      "  0.00000000e+00  0.00000000e+00  0.00000000e+00  0.00000000e+00\n",
      "  0.00000000e+00  0.00000000e+00 -1.33339906e+00 -1.42857209e-01\n",
      "  1.33341408e+00  0.00000000e+00  0.00000000e+00  0.00000000e+00\n",
      "  0.00000000e+00  0.00000000e+00  0.00000000e+00  0.00000000e+00\n",
      "  0.00000000e+00  0.00000000e+00  0.00000000e+00  0.00000000e+00\n",
      "  6.06093347e-01 -1.42857209e-01  6.06078625e-01  0.00000000e+00\n",
      "  0.00000000e+00  0.00000000e+00  0.00000000e+00  0.00000000e+00\n",
      "  0.00000000e+00  0.00000000e+00  0.00000000e+00  0.00000000e+00\n",
      "  0.00000000e+00  0.00000000e+00  1.33339953e+00 -1.42857209e-01\n",
      "  1.33341372e+00  0.00000000e+00  0.00000000e+00  0.00000000e+00\n",
      "  0.00000000e+00]\n"
     ]
    }
   ],
   "source": [
    "# get the default brain\n",
    "brain_name = env.brain_names[0]\n",
    "brain = env.brains[brain_name]\n",
    "\n",
    "# reset the environment\n",
    "env_info = env.reset(train_mode=True)[brain_name]\n",
    "\n",
    "# name of brain\n",
    "print('Name of brain:', brain_name)\n",
    "\n",
    "# number of agents\n",
    "num_agents = len(env_info.agents)\n",
    "print('Number of agents:', num_agents)\n",
    "\n",
    "# size of each action\n",
    "action_size = brain.vector_action_space_size\n",
    "print('Size of each action:', action_size)\n",
    "\n",
    "# examine the state space \n",
    "states = env_info.vector_observations\n",
    "state_size = states.shape[1]\n",
    "print('There are {} agents. Each observes a state with length: {}'.format(states.shape[0], state_size))\n",
    "print('The state for the first agent looks like:', states[0])"
   ]
  },
  {
   "cell_type": "markdown",
   "metadata": {},
   "source": [
    "### 3. Take Random Actions in the Environment\n",
    "\n",
    "In the next code cell, you will learn how to use the Python API to control the agent and receive feedback from the environment.\n",
    "\n",
    "Once this cell is executed, you will watch the agent's performance, if it selects an action at random with each time step.  A window should pop up that allows you to observe the agent, as it moves through the environment.  \n",
    "\n",
    "Of course, as part of the project, you'll have to change the code so that the agent is able to use its experience to gradually choose better actions when interacting with the environment!"
   ]
  },
  {
   "cell_type": "code",
   "execution_count": 11,
   "metadata": {},
   "outputs": [
    {
     "name": "stdout",
     "output_type": "stream",
     "text": [
      "Total score (averaged over agents) this episode: 0.49039648139538866\n"
     ]
    }
   ],
   "source": [
    "env_info = env.reset(train_mode=False)[brain_name]     # reset the environment    \n",
    "states = env_info.vector_observations                  # get the current state (for each agent)\n",
    "scores = np.zeros(num_agents)                          # initialize the score (for each agent)\n",
    "while True:\n",
    "    actions = np.random.randn(num_agents, action_size) # select an action (for each agent)\n",
    "    actions = np.clip(actions, -1, 1)                  # all actions between -1 and 1\n",
    "    env_info = env.step(actions)[brain_name]           # send all actions to tne environment\n",
    "    next_states = env_info.vector_observations         # get next state (for each agent)\n",
    "    rewards = env_info.rewards                         # get reward (for each agent)\n",
    "    dones = env_info.local_done                        # see if episode finished\n",
    "    scores += env_info.rewards                         # update the score (for each agent)\n",
    "    states = next_states                               # roll over states to next time step\n",
    "    if np.any(dones):                                  # exit loop if episode finished\n",
    "        break\n",
    "print('Total score (averaged over agents) this episode: {}'.format(np.mean(scores)))\n",
    "#env.close()"
   ]
  },
  {
   "cell_type": "markdown",
   "metadata": {},
   "source": [
    "### 4. It's Your Turn!\n",
    "\n",
    "Now it's your turn to train your own agent to solve the environment!  When training the environment, set `train_mode=True`, so that the line for resetting the environment looks like the following:\n",
    "```python\n",
    "env_info = env.reset(train_mode=True)[brain_name]\n",
    "```"
   ]
  },
  {
   "cell_type": "code",
   "execution_count": 12,
   "metadata": {},
   "outputs": [],
   "source": [
    "def saveTrainedModel(agent, path):\n",
    "    state_dicts = {'model': agent.model_local.state_dict()}\n",
    "    torch.save(state_dicts, path)\n",
    "    \n",
    "def loadTrainedModel(agent, path):\n",
    "    state_dicts = torch.load(path,map_location={'cuda:0': 'cpu'})\n",
    "\n",
    "    agent.model_local.load_state_dict(state_dicts['model'])\n",
    "    \n",
    "    return agent"
   ]
  },
  {
   "cell_type": "code",
   "execution_count": 13,
   "metadata": {},
   "outputs": [
    {
     "name": "stdout",
     "output_type": "stream",
     "text": [
      "current device:  cpu\n"
     ]
    }
   ],
   "source": [
    "from PPO_agent import PPO_Agent\n",
    "#import PPO_util \n",
    "\n",
    "model_dir = 'saved_models/'\n",
    "model_name = 'unity_continuous_' + str(brain_name) + '_' + str(num_agents) + '_agents.pt'\n",
    "\n",
    "agent = PPO_Agent(env, state_size, action_size, num_agents=num_agents, seed=1234)\n",
    "#agent = loadTrainedModel(agent, model_dir+model_name)"
   ]
  },
  {
   "cell_type": "code",
   "execution_count": null,
   "metadata": {
    "scrolled": true
   },
   "outputs": [
    {
     "name": "stderr",
     "output_type": "stream",
     "text": [
      "training loop:   0% |                                          | ETA:  --:--:--\r"
     ]
    },
    {
     "name": "stdout",
     "output_type": "stream",
     "text": [
      "\n",
      "Prefetch completed. Training starts! \r\n",
      "Number of Agents:  12\n",
      "Device:  cpu\n"
     ]
    },
    {
     "name": "stderr",
     "output_type": "stream",
     "text": [
      "training loop:   0% |                                          | ETA:  --:--:--\r"
     ]
    },
    {
     "name": "stdout",
     "output_type": "stream",
     "text": [
      "Episode: 1   score: 2.09   Avg score (100e): 2.09   actor gain: -0.49   critic loss: 1.08   steps: 1\n"
     ]
    },
    {
     "name": "stderr",
     "output_type": "stream",
     "text": [
      "training loop:   0% |                                 | ETA:  45 days, 21:05:49\r"
     ]
    },
    {
     "name": "stdout",
     "output_type": "stream",
     "text": [
      "Episode: 2   score: 2.02   Avg score (100e): 2.06   actor gain: -0.49   critic loss: 0.95   steps: 2\n"
     ]
    },
    {
     "name": "stderr",
     "output_type": "stream",
     "text": [
      "training loop:   0% |                                  | ETA:  35 days, 7:48:22\r"
     ]
    },
    {
     "name": "stdout",
     "output_type": "stream",
     "text": [
      "Episode: 3   score: 2.12   Avg score (100e): 2.08   actor gain: -0.50   critic loss: 0.86   steps: 3\n"
     ]
    },
    {
     "name": "stderr",
     "output_type": "stream",
     "text": [
      "training loop:   0% |                                 | ETA:  32 days, 14:35:58\r"
     ]
    },
    {
     "name": "stdout",
     "output_type": "stream",
     "text": [
      "Episode: 4   score: 1.97   Avg score (100e): 2.05   actor gain: -0.49   critic loss: 0.81   steps: 4\n"
     ]
    },
    {
     "name": "stderr",
     "output_type": "stream",
     "text": [
      "training loop:   0% |                                 | ETA:  31 days, 15:25:59\r"
     ]
    },
    {
     "name": "stdout",
     "output_type": "stream",
     "text": [
      "Episode: 5   score: 2.03   Avg score (100e): 2.05   actor gain: -0.49   critic loss: 0.76   steps: 5\n"
     ]
    },
    {
     "name": "stderr",
     "output_type": "stream",
     "text": [
      "training loop:   0% |                                 | ETA:  30 days, 16:06:07\r"
     ]
    },
    {
     "name": "stdout",
     "output_type": "stream",
     "text": [
      "Episode: 6   score: 2.04   Avg score (100e): 2.05   actor gain: -0.49   critic loss: 0.73   steps: 6\n"
     ]
    },
    {
     "name": "stderr",
     "output_type": "stream",
     "text": [
      "training loop:   0% |                                  | ETA:  30 days, 2:13:04\r"
     ]
    },
    {
     "name": "stdout",
     "output_type": "stream",
     "text": [
      "Episode: 7   score: 2.07   Avg score (100e): 2.05   actor gain: -0.49   critic loss: 0.70   steps: 7\n"
     ]
    },
    {
     "name": "stderr",
     "output_type": "stream",
     "text": [
      "training loop:   0% |                                 | ETA:  29 days, 20:09:20\r"
     ]
    },
    {
     "name": "stdout",
     "output_type": "stream",
     "text": [
      "Episode: 8   score: 2.08   Avg score (100e): 2.05   actor gain: -0.49   critic loss: 0.68   steps: 8\n"
     ]
    },
    {
     "name": "stderr",
     "output_type": "stream",
     "text": [
      "training loop:   0% |                                 | ETA:  29 days, 21:22:56\r"
     ]
    },
    {
     "name": "stdout",
     "output_type": "stream",
     "text": [
      "Episode: 9   score: 2.08   Avg score (100e): 2.06   actor gain: -0.49   critic loss: 0.66   steps: 9\n"
     ]
    },
    {
     "name": "stderr",
     "output_type": "stream",
     "text": [
      "training loop:   0% |                                  | ETA:  30 days, 4:45:02\r"
     ]
    },
    {
     "name": "stdout",
     "output_type": "stream",
     "text": [
      "Episode: 10   score: 2.11   Avg score (100e): 2.06   actor gain: -0.49   critic loss: 0.65   steps: 10\n"
     ]
    },
    {
     "name": "stderr",
     "output_type": "stream",
     "text": [
      "training loop:   0% |                                 | ETA:  30 days, 15:22:55\r"
     ]
    },
    {
     "name": "stdout",
     "output_type": "stream",
     "text": [
      "Episode: 11   score: 2.26   Avg score (100e): 2.08   actor gain: -0.50   critic loss: 0.63   steps: 11\n"
     ]
    },
    {
     "name": "stderr",
     "output_type": "stream",
     "text": [
      "training loop:   0% |                                 | ETA:  30 days, 23:07:04\r"
     ]
    },
    {
     "name": "stdout",
     "output_type": "stream",
     "text": [
      "Episode: 12   score: 2.34   Avg score (100e): 2.10   actor gain: -0.50   critic loss: 0.62   steps: 12\n"
     ]
    },
    {
     "name": "stderr",
     "output_type": "stream",
     "text": [
      "training loop:   0% |                                  | ETA:  31 days, 5:49:21\r"
     ]
    },
    {
     "name": "stdout",
     "output_type": "stream",
     "text": [
      "Episode: 13   score: 2.34   Avg score (100e): 2.12   actor gain: -0.49   critic loss: 0.61   steps: 13\n"
     ]
    },
    {
     "name": "stderr",
     "output_type": "stream",
     "text": [
      "training loop:   0% |                                 | ETA:  31 days, 16:57:24\r"
     ]
    },
    {
     "name": "stdout",
     "output_type": "stream",
     "text": [
      "Episode: 14   score: 2.35   Avg score (100e): 2.14   actor gain: -0.49   critic loss: 0.60   steps: 14\n"
     ]
    },
    {
     "name": "stderr",
     "output_type": "stream",
     "text": [
      "training loop:   0% |                                 | ETA:  31 days, 18:16:17\r"
     ]
    },
    {
     "name": "stdout",
     "output_type": "stream",
     "text": [
      "Episode: 15   score: 2.34   Avg score (100e): 2.15   actor gain: -0.49   critic loss: 0.59   steps: 15\n"
     ]
    },
    {
     "name": "stderr",
     "output_type": "stream",
     "text": [
      "training loop:   0% |                                 | ETA:  31 days, 20:11:45\r"
     ]
    },
    {
     "name": "stdout",
     "output_type": "stream",
     "text": [
      "Episode: 16   score: 2.36   Avg score (100e): 2.16   actor gain: -0.49   critic loss: 0.58   steps: 16\n"
     ]
    },
    {
     "name": "stderr",
     "output_type": "stream",
     "text": [
      "training loop:   0% |                                  | ETA:  32 days, 0:45:33\r"
     ]
    },
    {
     "name": "stdout",
     "output_type": "stream",
     "text": [
      "Episode: 17   score: 2.38   Avg score (100e): 2.18   actor gain: -0.49   critic loss: 0.57   steps: 17\n"
     ]
    },
    {
     "name": "stderr",
     "output_type": "stream",
     "text": [
      "training loop:   0% |                                  | ETA:  32 days, 5:58:44\r"
     ]
    },
    {
     "name": "stdout",
     "output_type": "stream",
     "text": [
      "Episode: 18   score: 2.44   Avg score (100e): 2.19   actor gain: -0.49   critic loss: 0.57   steps: 18\n"
     ]
    },
    {
     "name": "stderr",
     "output_type": "stream",
     "text": [
      "training loop:   0% |                                 | ETA:  32 days, 13:20:49\r"
     ]
    },
    {
     "name": "stdout",
     "output_type": "stream",
     "text": [
      "Episode: 19   score: 2.50   Avg score (100e): 2.21   actor gain: -0.49   critic loss: 0.56   steps: 19\n"
     ]
    },
    {
     "name": "stderr",
     "output_type": "stream",
     "text": [
      "training loop:   0% |                                 | ETA:  32 days, 18:04:20\r"
     ]
    },
    {
     "name": "stdout",
     "output_type": "stream",
     "text": [
      "Episode: 20   score: 2.54   Avg score (100e): 2.22   actor gain: -0.49   critic loss: 0.56   steps: 20\n"
     ]
    },
    {
     "name": "stderr",
     "output_type": "stream",
     "text": [
      "training loop:   0% |                                 | ETA:  32 days, 23:28:19\r"
     ]
    },
    {
     "name": "stdout",
     "output_type": "stream",
     "text": [
      "Episode: 21   score: 2.62   Avg score (100e): 2.24   actor gain: -0.49   critic loss: 0.55   steps: 21\n"
     ]
    },
    {
     "name": "stderr",
     "output_type": "stream",
     "text": [
      "training loop:   0% |                                 | ETA:  32 days, 22:19:40\r"
     ]
    },
    {
     "name": "stdout",
     "output_type": "stream",
     "text": [
      "Episode: 22   score: 2.63   Avg score (100e): 2.26   actor gain: -0.49   critic loss: 0.55   steps: 22\n"
     ]
    },
    {
     "name": "stderr",
     "output_type": "stream",
     "text": [
      "training loop:   0% |                                 | ETA:  32 days, 22:59:11\r"
     ]
    },
    {
     "name": "stdout",
     "output_type": "stream",
     "text": [
      "Episode: 23   score: 2.62   Avg score (100e): 2.28   actor gain: -0.49   critic loss: 0.54   steps: 23\n"
     ]
    },
    {
     "name": "stderr",
     "output_type": "stream",
     "text": [
      "training loop:   0% |                                 | ETA:  32 days, 21:41:23\r"
     ]
    },
    {
     "name": "stdout",
     "output_type": "stream",
     "text": [
      "Episode: 24   score: 2.65   Avg score (100e): 2.29   actor gain: -0.49   critic loss: 0.54   steps: 24\n"
     ]
    },
    {
     "name": "stderr",
     "output_type": "stream",
     "text": [
      "training loop:   0% |                                 | ETA:  32 days, 21:32:49\r"
     ]
    },
    {
     "name": "stdout",
     "output_type": "stream",
     "text": [
      "Episode: 25   score: 2.67   Avg score (100e): 2.31   actor gain: -0.48   critic loss: 0.54   steps: 25\n"
     ]
    },
    {
     "name": "stderr",
     "output_type": "stream",
     "text": [
      "training loop:   0% |                                 | ETA:  32 days, 22:08:03\r"
     ]
    },
    {
     "name": "stdout",
     "output_type": "stream",
     "text": [
      "Episode: 26   score: 2.71   Avg score (100e): 2.32   actor gain: -0.48   critic loss: 0.51   steps: 26\n"
     ]
    },
    {
     "name": "stderr",
     "output_type": "stream",
     "text": [
      "training loop:   0% |                                  | ETA:  33 days, 2:21:06\r"
     ]
    },
    {
     "name": "stdout",
     "output_type": "stream",
     "text": [
      "Episode: 27   score: 2.80   Avg score (100e): 2.34   actor gain: -0.48   critic loss: 0.50   steps: 27\n"
     ]
    },
    {
     "name": "stderr",
     "output_type": "stream",
     "text": [
      "training loop:   0% |                                  | ETA:  33 days, 3:53:47\r"
     ]
    },
    {
     "name": "stdout",
     "output_type": "stream",
     "text": [
      "Episode: 28   score: 2.84   Avg score (100e): 2.36   actor gain: -0.48   critic loss: 0.49   steps: 28\n"
     ]
    },
    {
     "name": "stderr",
     "output_type": "stream",
     "text": [
      "training loop:   0% |                                  | ETA:  33 days, 6:59:36\r"
     ]
    },
    {
     "name": "stdout",
     "output_type": "stream",
     "text": [
      "Episode: 29   score: 2.88   Avg score (100e): 2.38   actor gain: -0.48   critic loss: 0.48   steps: 29\n"
     ]
    },
    {
     "name": "stderr",
     "output_type": "stream",
     "text": [
      "training loop:   0% |                                 | ETA:  33 days, 10:03:50\r"
     ]
    },
    {
     "name": "stdout",
     "output_type": "stream",
     "text": [
      "Episode: 30   score: 2.91   Avg score (100e): 2.39   actor gain: -0.48   critic loss: 0.47   steps: 30\n"
     ]
    },
    {
     "name": "stderr",
     "output_type": "stream",
     "text": [
      "training loop:   0% |                                 | ETA:  33 days, 11:58:29\r"
     ]
    },
    {
     "name": "stdout",
     "output_type": "stream",
     "text": [
      "Episode: 31   score: 2.93   Avg score (100e): 2.41   actor gain: -0.48   critic loss: 0.47   steps: 31\n"
     ]
    },
    {
     "name": "stderr",
     "output_type": "stream",
     "text": [
      "training loop:   0% |                                 | ETA:  33 days, 15:55:03\r"
     ]
    },
    {
     "name": "stdout",
     "output_type": "stream",
     "text": [
      "Episode: 32   score: 2.96   Avg score (100e): 2.43   actor gain: -0.48   critic loss: 0.47   steps: 32\n"
     ]
    },
    {
     "name": "stderr",
     "output_type": "stream",
     "text": [
      "training loop:   0% |                                 | ETA:  33 days, 21:51:40\r"
     ]
    },
    {
     "name": "stdout",
     "output_type": "stream",
     "text": [
      "Episode: 33   score: 3.00   Avg score (100e): 2.45   actor gain: -0.48   critic loss: 0.47   steps: 33\n"
     ]
    },
    {
     "name": "stderr",
     "output_type": "stream",
     "text": [
      "training loop:   0% |                                  | ETA:  34 days, 0:40:58\r"
     ]
    },
    {
     "name": "stdout",
     "output_type": "stream",
     "text": [
      "Episode: 34   score: 3.02   Avg score (100e): 2.46   actor gain: -0.48   critic loss: 0.46   steps: 34\n"
     ]
    },
    {
     "name": "stderr",
     "output_type": "stream",
     "text": [
      "training loop:   0% |                                 | ETA:  33 days, 23:44:10\r"
     ]
    },
    {
     "name": "stdout",
     "output_type": "stream",
     "text": [
      "Episode: 35   score: 3.01   Avg score (100e): 2.48   actor gain: -0.48   critic loss: 0.46   steps: 35\n"
     ]
    },
    {
     "name": "stderr",
     "output_type": "stream",
     "text": [
      "training loop:   0% |                                 | ETA:  33 days, 23:21:43\r"
     ]
    },
    {
     "name": "stdout",
     "output_type": "stream",
     "text": [
      "Episode: 36   score: 3.05   Avg score (100e): 2.49   actor gain: -0.47   critic loss: 0.46   steps: 36\n"
     ]
    },
    {
     "name": "stderr",
     "output_type": "stream",
     "text": [
      "training loop:   0% |                                 | ETA:  33 days, 23:31:51\r"
     ]
    },
    {
     "name": "stdout",
     "output_type": "stream",
     "text": [
      "Episode: 37   score: 3.09   Avg score (100e): 2.51   actor gain: -0.47   critic loss: 0.46   steps: 37\n"
     ]
    },
    {
     "name": "stderr",
     "output_type": "stream",
     "text": [
      "training loop:   0% |                                  | ETA:  34 days, 1:40:00\r"
     ]
    },
    {
     "name": "stdout",
     "output_type": "stream",
     "text": [
      "Episode: 38   score: 3.14   Avg score (100e): 2.53   actor gain: -0.47   critic loss: 0.46   steps: 38\n"
     ]
    },
    {
     "name": "stderr",
     "output_type": "stream",
     "text": [
      "training loop:   0% |                                  | ETA:  34 days, 1:06:21\r"
     ]
    },
    {
     "name": "stdout",
     "output_type": "stream",
     "text": [
      "Episode: 39   score: 3.19   Avg score (100e): 2.54   actor gain: -0.47   critic loss: 0.46   steps: 39\n"
     ]
    },
    {
     "name": "stderr",
     "output_type": "stream",
     "text": [
      "training loop:   0% |                                  | ETA:  34 days, 1:05:23\r"
     ]
    },
    {
     "name": "stdout",
     "output_type": "stream",
     "text": [
      "Episode: 40   score: 3.25   Avg score (100e): 2.56   actor gain: -0.47   critic loss: 0.46   steps: 40\n"
     ]
    },
    {
     "name": "stderr",
     "output_type": "stream",
     "text": [
      "training loop:   0% |                                  | ETA:  34 days, 0:51:03\r"
     ]
    },
    {
     "name": "stdout",
     "output_type": "stream",
     "text": [
      "Episode: 41   score: 3.29   Avg score (100e): 2.58   actor gain: -0.47   critic loss: 0.46   steps: 41\n"
     ]
    },
    {
     "name": "stderr",
     "output_type": "stream",
     "text": [
      "training loop:   0% |                                  | ETA:  34 days, 5:19:38\r"
     ]
    },
    {
     "name": "stdout",
     "output_type": "stream",
     "text": [
      "Episode: 42   score: 3.32   Avg score (100e): 2.60   actor gain: -2.32   critic loss: 0.46   steps: 42\n"
     ]
    },
    {
     "name": "stderr",
     "output_type": "stream",
     "text": [
      "training loop:   0% |                                  | ETA:  34 days, 4:19:24\r"
     ]
    },
    {
     "name": "stdout",
     "output_type": "stream",
     "text": [
      "Episode: 43   score: 3.39   Avg score (100e): 2.61   actor gain: -2.32   critic loss: 0.46   steps: 43\n"
     ]
    },
    {
     "name": "stderr",
     "output_type": "stream",
     "text": [
      "training loop:   0% |                                  | ETA:  34 days, 4:13:47\r"
     ]
    },
    {
     "name": "stdout",
     "output_type": "stream",
     "text": [
      "Episode: 44   score: 3.42   Avg score (100e): 2.63   actor gain: -2.32   critic loss: 0.45   steps: 44\n"
     ]
    },
    {
     "name": "stderr",
     "output_type": "stream",
     "text": [
      "training loop:   0% |                                  | ETA:  34 days, 3:06:03\r"
     ]
    },
    {
     "name": "stdout",
     "output_type": "stream",
     "text": [
      "Episode: 45   score: 3.42   Avg score (100e): 2.65   actor gain: -2.32   critic loss: 0.46   steps: 45\n"
     ]
    },
    {
     "name": "stderr",
     "output_type": "stream",
     "text": [
      "training loop:   0% |                                  | ETA:  34 days, 3:03:48\r"
     ]
    },
    {
     "name": "stdout",
     "output_type": "stream",
     "text": [
      "Episode: 46   score: 3.49   Avg score (100e): 2.67   actor gain: -2.32   critic loss: 0.46   steps: 46\n"
     ]
    },
    {
     "name": "stderr",
     "output_type": "stream",
     "text": [
      "training loop:   0% |                                  | ETA:  34 days, 2:18:54\r"
     ]
    },
    {
     "name": "stdout",
     "output_type": "stream",
     "text": [
      "Episode: 47   score: 3.50   Avg score (100e): 2.69   actor gain: -2.32   critic loss: 0.46   steps: 47\n"
     ]
    },
    {
     "name": "stderr",
     "output_type": "stream",
     "text": [
      "training loop:   0% |                                  | ETA:  34 days, 2:28:04\r"
     ]
    },
    {
     "name": "stdout",
     "output_type": "stream",
     "text": [
      "Episode: 48   score: 3.57   Avg score (100e): 2.70   actor gain: -2.32   critic loss: 0.46   steps: 48\n"
     ]
    },
    {
     "name": "stderr",
     "output_type": "stream",
     "text": [
      "training loop:   0% |                                  | ETA:  34 days, 2:27:22\r"
     ]
    },
    {
     "name": "stdout",
     "output_type": "stream",
     "text": [
      "Episode: 49   score: 3.62   Avg score (100e): 2.72   actor gain: -2.32   critic loss: 0.46   steps: 49\n"
     ]
    },
    {
     "name": "stderr",
     "output_type": "stream",
     "text": [
      "training loop:   0% |                                  | ETA:  34 days, 3:29:37\r"
     ]
    },
    {
     "name": "stdout",
     "output_type": "stream",
     "text": [
      "Episode: 50   score: 3.64   Avg score (100e): 2.74   actor gain: -2.32   critic loss: 0.46   steps: 50\n"
     ]
    },
    {
     "name": "stderr",
     "output_type": "stream",
     "text": [
      "training loop:   0% |                                  | ETA:  34 days, 4:44:36\r"
     ]
    },
    {
     "name": "stdout",
     "output_type": "stream",
     "text": [
      "Episode: 51   score: 3.69   Avg score (100e): 2.76   actor gain: -2.32   critic loss: 0.46   steps: 51\n"
     ]
    },
    {
     "name": "stderr",
     "output_type": "stream",
     "text": [
      "training loop:   0% |                                  | ETA:  34 days, 4:31:44\r"
     ]
    },
    {
     "name": "stdout",
     "output_type": "stream",
     "text": [
      "Episode: 52   score: 3.70   Avg score (100e): 2.78   actor gain: -2.32   critic loss: 0.46   steps: 52\n"
     ]
    },
    {
     "name": "stderr",
     "output_type": "stream",
     "text": [
      "training loop:   0% |                                  | ETA:  34 days, 4:17:24\r"
     ]
    },
    {
     "name": "stdout",
     "output_type": "stream",
     "text": [
      "Episode: 53   score: 3.73   Avg score (100e): 2.80   actor gain: -2.32   critic loss: 0.45   steps: 53\n"
     ]
    },
    {
     "name": "stderr",
     "output_type": "stream",
     "text": [
      "training loop:   0% |                                  | ETA:  34 days, 4:03:14\r"
     ]
    },
    {
     "name": "stdout",
     "output_type": "stream",
     "text": [
      "Episode: 54   score: 3.77   Avg score (100e): 2.81   actor gain: -2.32   critic loss: 0.45   steps: 54\n"
     ]
    },
    {
     "name": "stderr",
     "output_type": "stream",
     "text": [
      "training loop:   0% |                                  | ETA:  34 days, 3:20:56\r"
     ]
    },
    {
     "name": "stdout",
     "output_type": "stream",
     "text": [
      "Episode: 55   score: 3.80   Avg score (100e): 2.83   actor gain: -2.32   critic loss: 0.45   steps: 55\n"
     ]
    },
    {
     "name": "stderr",
     "output_type": "stream",
     "text": [
      "training loop:   0% |                                  | ETA:  34 days, 3:14:09\r"
     ]
    },
    {
     "name": "stdout",
     "output_type": "stream",
     "text": [
      "Episode: 56   score: 3.86   Avg score (100e): 2.85   actor gain: -2.32   critic loss: 0.45   steps: 56\n"
     ]
    },
    {
     "name": "stderr",
     "output_type": "stream",
     "text": [
      "training loop:   0% |                                  | ETA:  34 days, 3:22:02\r"
     ]
    },
    {
     "name": "stdout",
     "output_type": "stream",
     "text": [
      "Episode: 57   score: 3.89   Avg score (100e): 2.87   actor gain: -2.33   critic loss: 0.45   steps: 57\n"
     ]
    },
    {
     "name": "stderr",
     "output_type": "stream",
     "text": [
      "training loop:   0% |                                  | ETA:  34 days, 3:17:12\r"
     ]
    },
    {
     "name": "stdout",
     "output_type": "stream",
     "text": [
      "Episode: 58   score: 3.92   Avg score (100e): 2.89   actor gain: -2.32   critic loss: 0.45   steps: 58\n"
     ]
    },
    {
     "name": "stderr",
     "output_type": "stream",
     "text": [
      "training loop:   0% |                                  | ETA:  34 days, 3:33:39\r"
     ]
    },
    {
     "name": "stdout",
     "output_type": "stream",
     "text": [
      "Episode: 59   score: 3.97   Avg score (100e): 2.90   actor gain: -2.33   critic loss: 0.45   steps: 59\n"
     ]
    },
    {
     "name": "stderr",
     "output_type": "stream",
     "text": [
      "training loop:   0% |                                  | ETA:  34 days, 0:30:36\r"
     ]
    },
    {
     "name": "stdout",
     "output_type": "stream",
     "text": [
      "Episode: 60   score: 3.98   Avg score (100e): 2.92   actor gain: -2.32   critic loss: 0.45   steps: 60\n"
     ]
    },
    {
     "name": "stderr",
     "output_type": "stream",
     "text": [
      "training loop:   0% |                                 | ETA:  33 days, 21:49:21\r"
     ]
    },
    {
     "name": "stdout",
     "output_type": "stream",
     "text": [
      "Episode: 61   score: 4.00   Avg score (100e): 2.94   actor gain: -2.32   critic loss: 0.45   steps: 61\n"
     ]
    },
    {
     "name": "stderr",
     "output_type": "stream",
     "text": [
      "training loop:   0% |                                 | ETA:  33 days, 17:41:31\r"
     ]
    },
    {
     "name": "stdout",
     "output_type": "stream",
     "text": [
      "Episode: 62   score: 4.03   Avg score (100e): 2.96   actor gain: -2.32   critic loss: 0.45   steps: 62\n"
     ]
    },
    {
     "name": "stderr",
     "output_type": "stream",
     "text": [
      "training loop:   0% |                                 | ETA:  33 days, 14:27:35\r"
     ]
    },
    {
     "name": "stdout",
     "output_type": "stream",
     "text": [
      "Episode: 63   score: 4.09   Avg score (100e): 2.98   actor gain: -2.32   critic loss: 0.45   steps: 63\n"
     ]
    },
    {
     "name": "stderr",
     "output_type": "stream",
     "text": [
      "training loop:   0% |                                 | ETA:  33 days, 12:59:18\r"
     ]
    },
    {
     "name": "stdout",
     "output_type": "stream",
     "text": [
      "Episode: 64   score: 4.12   Avg score (100e): 2.99   actor gain: -2.32   critic loss: 0.44   steps: 64\n"
     ]
    },
    {
     "name": "stderr",
     "output_type": "stream",
     "text": [
      "training loop:   0% |                                 | ETA:  33 days, 13:05:17\r"
     ]
    },
    {
     "name": "stdout",
     "output_type": "stream",
     "text": [
      "Episode: 65   score: 4.16   Avg score (100e): 3.01   actor gain: -2.33   critic loss: 0.44   steps: 65\n"
     ]
    },
    {
     "name": "stderr",
     "output_type": "stream",
     "text": [
      "training loop:   0% |                                 | ETA:  33 days, 11:41:07\r"
     ]
    },
    {
     "name": "stdout",
     "output_type": "stream",
     "text": [
      "Episode: 66   score: 4.19   Avg score (100e): 3.03   actor gain: -2.33   critic loss: 0.44   steps: 66\n"
     ]
    },
    {
     "name": "stderr",
     "output_type": "stream",
     "text": [
      "training loop:   0% |                                  | ETA:  33 days, 9:42:23\r"
     ]
    },
    {
     "name": "stdout",
     "output_type": "stream",
     "text": [
      "Episode: 67   score: 4.22   Avg score (100e): 3.05   actor gain: -0.48   critic loss: 0.44   steps: 67\n"
     ]
    },
    {
     "name": "stderr",
     "output_type": "stream",
     "text": [
      "training loop:   0% |                                  | ETA:  33 days, 7:57:03\r"
     ]
    },
    {
     "name": "stdout",
     "output_type": "stream",
     "text": [
      "Episode: 68   score: 4.21   Avg score (100e): 3.06   actor gain: -0.48   critic loss: 0.44   steps: 68\n"
     ]
    },
    {
     "name": "stderr",
     "output_type": "stream",
     "text": [
      "training loop:   0% |                                  | ETA:  33 days, 4:40:38\r"
     ]
    },
    {
     "name": "stdout",
     "output_type": "stream",
     "text": [
      "Episode: 69   score: 4.24   Avg score (100e): 3.08   actor gain: -0.48   critic loss: 0.44   steps: 69\n"
     ]
    },
    {
     "name": "stderr",
     "output_type": "stream",
     "text": [
      "training loop:   0% |                                  | ETA:  33 days, 2:16:52\r"
     ]
    },
    {
     "name": "stdout",
     "output_type": "stream",
     "text": [
      "Episode: 70   score: 4.29   Avg score (100e): 3.10   actor gain: -0.48   critic loss: 0.44   steps: 70\n"
     ]
    },
    {
     "name": "stderr",
     "output_type": "stream",
     "text": [
      "training loop:   0% |                                  | ETA:  33 days, 0:26:22\r"
     ]
    },
    {
     "name": "stdout",
     "output_type": "stream",
     "text": [
      "Episode: 71   score: 4.31   Avg score (100e): 3.12   actor gain: -0.48   critic loss: 0.44   steps: 71\n"
     ]
    },
    {
     "name": "stderr",
     "output_type": "stream",
     "text": [
      "training loop:   0% |                                 | ETA:  32 days, 22:36:42\r"
     ]
    },
    {
     "name": "stdout",
     "output_type": "stream",
     "text": [
      "Episode: 72   score: 4.34   Avg score (100e): 3.13   actor gain: -0.48   critic loss: 0.44   steps: 72\n"
     ]
    },
    {
     "name": "stderr",
     "output_type": "stream",
     "text": [
      "training loop:   0% |                                 | ETA:  32 days, 19:58:39\r"
     ]
    },
    {
     "name": "stdout",
     "output_type": "stream",
     "text": [
      "Episode: 73   score: 4.35   Avg score (100e): 3.15   actor gain: -0.48   critic loss: 0.44   steps: 73\n"
     ]
    },
    {
     "name": "stderr",
     "output_type": "stream",
     "text": [
      "training loop:   0% |                                 | ETA:  32 days, 19:54:32\r"
     ]
    },
    {
     "name": "stdout",
     "output_type": "stream",
     "text": [
      "Episode: 74   score: 4.39   Avg score (100e): 3.17   actor gain: -0.48   critic loss: 0.43   steps: 74\n"
     ]
    },
    {
     "name": "stderr",
     "output_type": "stream",
     "text": [
      "training loop:   0% |                                 | ETA:  32 days, 17:23:42\r"
     ]
    },
    {
     "name": "stdout",
     "output_type": "stream",
     "text": [
      "Episode: 75   score: 4.42   Avg score (100e): 3.18   actor gain: -0.49   critic loss: 0.43   steps: 75\n"
     ]
    },
    {
     "name": "stderr",
     "output_type": "stream",
     "text": [
      "training loop:   0% |                                 | ETA:  32 days, 15:46:35\r"
     ]
    },
    {
     "name": "stdout",
     "output_type": "stream",
     "text": [
      "Episode: 76   score: 4.45   Avg score (100e): 3.20   actor gain: -0.49   critic loss: 0.43   steps: 76\n"
     ]
    },
    {
     "name": "stderr",
     "output_type": "stream",
     "text": [
      "training loop:   0% |                                 | ETA:  32 days, 14:15:45\r"
     ]
    },
    {
     "name": "stdout",
     "output_type": "stream",
     "text": [
      "Episode: 77   score: 4.46   Avg score (100e): 3.22   actor gain: -0.49   critic loss: 0.43   steps: 77\n"
     ]
    },
    {
     "name": "stderr",
     "output_type": "stream",
     "text": [
      "training loop:   0% |                                 | ETA:  32 days, 11:56:20\r"
     ]
    },
    {
     "name": "stdout",
     "output_type": "stream",
     "text": [
      "Episode: 78   score: 4.47   Avg score (100e): 3.23   actor gain: -0.49   critic loss: 0.43   steps: 78\n"
     ]
    },
    {
     "name": "stderr",
     "output_type": "stream",
     "text": [
      "training loop:   0% |                                  | ETA:  32 days, 9:04:08\r"
     ]
    },
    {
     "name": "stdout",
     "output_type": "stream",
     "text": [
      "Episode: 79   score: 4.49   Avg score (100e): 3.25   actor gain: -0.49   critic loss: 0.43   steps: 79\n"
     ]
    },
    {
     "name": "stderr",
     "output_type": "stream",
     "text": [
      "training loop:   0% |                                  | ETA:  32 days, 6:37:53\r"
     ]
    },
    {
     "name": "stdout",
     "output_type": "stream",
     "text": [
      "Episode: 80   score: 4.51   Avg score (100e): 3.26   actor gain: -0.49   critic loss: 0.43   steps: 80\n"
     ]
    },
    {
     "name": "stderr",
     "output_type": "stream",
     "text": [
      "training loop:   0% |                                  | ETA:  32 days, 3:59:57\r"
     ]
    },
    {
     "name": "stdout",
     "output_type": "stream",
     "text": [
      "Episode: 81   score: 4.54   Avg score (100e): 3.28   actor gain: -0.49   critic loss: 0.43   steps: 81\n"
     ]
    },
    {
     "name": "stderr",
     "output_type": "stream",
     "text": [
      "training loop:   0% |                                  | ETA:  32 days, 1:06:20\r"
     ]
    },
    {
     "name": "stdout",
     "output_type": "stream",
     "text": [
      "Episode: 82   score: 4.56   Avg score (100e): 3.30   actor gain: -0.49   critic loss: 0.43   steps: 82\n"
     ]
    },
    {
     "name": "stderr",
     "output_type": "stream",
     "text": [
      "training loop:   0% |                                 | ETA:  31 days, 23:13:45\r"
     ]
    },
    {
     "name": "stdout",
     "output_type": "stream",
     "text": [
      "Episode: 83   score: 4.59   Avg score (100e): 3.31   actor gain: -0.49   critic loss: 0.43   steps: 83\n"
     ]
    },
    {
     "name": "stderr",
     "output_type": "stream",
     "text": [
      "training loop:   0% |                                 | ETA:  31 days, 20:47:31\r"
     ]
    },
    {
     "name": "stdout",
     "output_type": "stream",
     "text": [
      "Episode: 84   score: 4.60   Avg score (100e): 3.33   actor gain: -0.49   critic loss: 0.43   steps: 84\n"
     ]
    },
    {
     "name": "stderr",
     "output_type": "stream",
     "text": [
      "training loop:   0% |                                 | ETA:  31 days, 19:53:15\r"
     ]
    },
    {
     "name": "stdout",
     "output_type": "stream",
     "text": [
      "Episode: 85   score: 4.63   Avg score (100e): 3.34   actor gain: -0.49   critic loss: 0.43   steps: 85\n"
     ]
    },
    {
     "name": "stderr",
     "output_type": "stream",
     "text": [
      "training loop:   0% |                                 | ETA:  31 days, 19:18:40\r"
     ]
    },
    {
     "name": "stdout",
     "output_type": "stream",
     "text": [
      "Episode: 86   score: 4.65   Avg score (100e): 3.36   actor gain: -0.49   critic loss: 0.43   steps: 86\n"
     ]
    },
    {
     "name": "stderr",
     "output_type": "stream",
     "text": [
      "training loop:   0% |                                 | ETA:  31 days, 16:37:32\r"
     ]
    },
    {
     "name": "stdout",
     "output_type": "stream",
     "text": [
      "Episode: 87   score: 4.65   Avg score (100e): 3.37   actor gain: -0.49   critic loss: 0.43   steps: 87\n"
     ]
    },
    {
     "name": "stderr",
     "output_type": "stream",
     "text": [
      "training loop:   0% |                                 | ETA:  31 days, 13:40:10\r"
     ]
    },
    {
     "name": "stdout",
     "output_type": "stream",
     "text": [
      "Episode: 88   score: 4.66   Avg score (100e): 3.39   actor gain: -0.49   critic loss: 0.43   steps: 88\n"
     ]
    },
    {
     "name": "stderr",
     "output_type": "stream",
     "text": [
      "training loop:   0% |                                 | ETA:  31 days, 11:40:56\r"
     ]
    },
    {
     "name": "stdout",
     "output_type": "stream",
     "text": [
      "Episode: 89   score: 4.69   Avg score (100e): 3.40   actor gain: -0.49   critic loss: 0.43   steps: 89\n"
     ]
    },
    {
     "name": "stderr",
     "output_type": "stream",
     "text": [
      "training loop:   0% |                                 | ETA:  31 days, 11:01:01\r"
     ]
    },
    {
     "name": "stdout",
     "output_type": "stream",
     "text": [
      "Episode: 90   score: 4.71   Avg score (100e): 3.42   actor gain: -0.49   critic loss: 0.43   steps: 90\n"
     ]
    },
    {
     "name": "stderr",
     "output_type": "stream",
     "text": [
      "training loop:   0% |                                  | ETA:  31 days, 9:43:21\r"
     ]
    },
    {
     "name": "stdout",
     "output_type": "stream",
     "text": [
      "Episode: 91   score: 4.73   Avg score (100e): 3.43   actor gain: -0.49   critic loss: 0.43   steps: 91\n"
     ]
    },
    {
     "name": "stderr",
     "output_type": "stream",
     "text": [
      "training loop:   0% |                                  | ETA:  31 days, 6:48:56\r"
     ]
    },
    {
     "name": "stdout",
     "output_type": "stream",
     "text": [
      "Episode: 92   score: 4.72   Avg score (100e): 3.44   actor gain: -0.49   critic loss: 0.42   steps: 92\n"
     ]
    },
    {
     "name": "stderr",
     "output_type": "stream",
     "text": [
      "training loop:   0% |                                  | ETA:  31 days, 4:18:49\r"
     ]
    },
    {
     "name": "stdout",
     "output_type": "stream",
     "text": [
      "Episode: 93   score: 4.75   Avg score (100e): 3.46   actor gain: -0.49   critic loss: 0.42   steps: 93\n"
     ]
    },
    {
     "name": "stderr",
     "output_type": "stream",
     "text": [
      "training loop:   0% |                                  | ETA:  31 days, 1:53:24\r"
     ]
    },
    {
     "name": "stdout",
     "output_type": "stream",
     "text": [
      "Episode: 94   score: 4.78   Avg score (100e): 3.47   actor gain: -0.49   critic loss: 0.42   steps: 94\n"
     ]
    },
    {
     "name": "stderr",
     "output_type": "stream",
     "text": [
      "training loop:   0% |                                 | ETA:  30 days, 23:14:29\r"
     ]
    },
    {
     "name": "stdout",
     "output_type": "stream",
     "text": [
      "Episode: 95   score: 4.83   Avg score (100e): 3.49   actor gain: -0.48   critic loss: 0.42   steps: 95\n"
     ]
    },
    {
     "name": "stderr",
     "output_type": "stream",
     "text": [
      "training loop:   0% |                                 | ETA:  30 days, 20:55:46\r"
     ]
    },
    {
     "name": "stdout",
     "output_type": "stream",
     "text": [
      "Episode: 96   score: 4.86   Avg score (100e): 3.50   actor gain: -0.48   critic loss: 0.42   steps: 96\n"
     ]
    },
    {
     "name": "stderr",
     "output_type": "stream",
     "text": [
      "training loop:   0% |                                 | ETA:  30 days, 18:52:05\r"
     ]
    },
    {
     "name": "stdout",
     "output_type": "stream",
     "text": [
      "Episode: 97   score: 4.89   Avg score (100e): 3.52   actor gain: -0.48   critic loss: 0.42   steps: 97\n"
     ]
    },
    {
     "name": "stderr",
     "output_type": "stream",
     "text": [
      "training loop:   0% |                                 | ETA:  30 days, 16:39:30\r"
     ]
    },
    {
     "name": "stdout",
     "output_type": "stream",
     "text": [
      "Episode: 98   score: 4.90   Avg score (100e): 3.53   actor gain: -0.48   critic loss: 0.42   steps: 98\n"
     ]
    },
    {
     "name": "stderr",
     "output_type": "stream",
     "text": [
      "training loop:   0% |                                 | ETA:  30 days, 14:39:20\r"
     ]
    },
    {
     "name": "stdout",
     "output_type": "stream",
     "text": [
      "Episode: 99   score: 4.93   Avg score (100e): 3.54   actor gain: -0.48   critic loss: 0.42   steps: 99\n"
     ]
    },
    {
     "name": "stderr",
     "output_type": "stream",
     "text": [
      "training loop:   0% |                                 | ETA:  30 days, 12:17:34\r"
     ]
    },
    {
     "name": "stdout",
     "output_type": "stream",
     "text": [
      "Episode: 100   score: 4.95   Avg score (100e): 3.56   actor gain: -0.48   critic loss: 0.42   steps: 100\n"
     ]
    },
    {
     "name": "stderr",
     "output_type": "stream",
     "text": [
      "training loop:   0% |                                 | ETA:  30 days, 11:56:50\r"
     ]
    },
    {
     "name": "stdout",
     "output_type": "stream",
     "text": [
      "Episode: 101   score: 4.96   Avg score (100e): 3.59   actor gain: -0.48   critic loss: 0.42   steps: 101\n"
     ]
    },
    {
     "name": "stderr",
     "output_type": "stream",
     "text": [
      "training loop:   0% |                                  | ETA:  30 days, 9:58:52\r"
     ]
    },
    {
     "name": "stdout",
     "output_type": "stream",
     "text": [
      "Episode: 102   score: 4.98   Avg score (100e): 3.62   actor gain: -0.48   critic loss: 0.42   steps: 102\n"
     ]
    },
    {
     "name": "stderr",
     "output_type": "stream",
     "text": [
      "training loop:   0% |                                  | ETA:  30 days, 7:38:46\r"
     ]
    },
    {
     "name": "stdout",
     "output_type": "stream",
     "text": [
      "Episode: 103   score: 4.98   Avg score (100e): 3.64   actor gain: -0.48   critic loss: 0.42   steps: 103\n"
     ]
    },
    {
     "name": "stderr",
     "output_type": "stream",
     "text": [
      "training loop:   0% |                                  | ETA:  30 days, 5:47:42\r"
     ]
    },
    {
     "name": "stdout",
     "output_type": "stream",
     "text": [
      "Episode: 104   score: 5.00   Avg score (100e): 3.67   actor gain: -0.49   critic loss: 0.42   steps: 104\n"
     ]
    },
    {
     "name": "stderr",
     "output_type": "stream",
     "text": [
      "training loop:   0% |                                  | ETA:  30 days, 4:08:18\r"
     ]
    },
    {
     "name": "stdout",
     "output_type": "stream",
     "text": [
      "Episode: 105   score: 5.04   Avg score (100e): 3.70   actor gain: -0.49   critic loss: 0.42   steps: 105\n"
     ]
    },
    {
     "name": "stderr",
     "output_type": "stream",
     "text": [
      "training loop:   0% |                                  | ETA:  30 days, 2:33:12\r"
     ]
    },
    {
     "name": "stdout",
     "output_type": "stream",
     "text": [
      "Episode: 106   score: 5.04   Avg score (100e): 3.73   actor gain: -0.49   critic loss: 0.42   steps: 106\n"
     ]
    },
    {
     "name": "stderr",
     "output_type": "stream",
     "text": [
      "training loop:   0% |                                  | ETA:  30 days, 2:36:20\r"
     ]
    },
    {
     "name": "stdout",
     "output_type": "stream",
     "text": [
      "Episode: 107   score: 5.06   Avg score (100e): 3.76   actor gain: -0.49   critic loss: 0.42   steps: 107\n"
     ]
    },
    {
     "name": "stderr",
     "output_type": "stream",
     "text": [
      "training loop:   0% |                                  | ETA:  30 days, 1:22:15\r"
     ]
    },
    {
     "name": "stdout",
     "output_type": "stream",
     "text": [
      "Episode: 108   score: 5.11   Avg score (100e): 3.79   actor gain: -0.49   critic loss: 0.42   steps: 108\n"
     ]
    },
    {
     "name": "stderr",
     "output_type": "stream",
     "text": [
      "training loop:   0% |                                 | ETA:  29 days, 23:42:10\r"
     ]
    },
    {
     "name": "stdout",
     "output_type": "stream",
     "text": [
      "Episode: 109   score: 5.13   Avg score (100e): 3.83   actor gain: -0.49   critic loss: 0.42   steps: 109\n"
     ]
    },
    {
     "name": "stderr",
     "output_type": "stream",
     "text": [
      "training loop:   0% |                                 | ETA:  29 days, 21:47:52\r"
     ]
    },
    {
     "name": "stdout",
     "output_type": "stream",
     "text": [
      "Episode: 110   score: 5.15   Avg score (100e): 3.86   actor gain: -0.49   critic loss: 0.42   steps: 110\n"
     ]
    },
    {
     "name": "stderr",
     "output_type": "stream",
     "text": [
      "training loop:   0% |                                 | ETA:  29 days, 20:06:43\r"
     ]
    },
    {
     "name": "stdout",
     "output_type": "stream",
     "text": [
      "Episode: 111   score: 5.18   Avg score (100e): 3.88   actor gain: -0.49   critic loss: 0.42   steps: 111\n"
     ]
    },
    {
     "name": "stderr",
     "output_type": "stream",
     "text": [
      "training loop:   0% |                                 | ETA:  29 days, 18:54:19\r"
     ]
    },
    {
     "name": "stdout",
     "output_type": "stream",
     "text": [
      "Episode: 112   score: 5.20   Avg score (100e): 3.91   actor gain: -0.49   critic loss: 0.42   steps: 112\n"
     ]
    },
    {
     "name": "stderr",
     "output_type": "stream",
     "text": [
      "training loop:   0% |                                 | ETA:  29 days, 17:19:20\r"
     ]
    },
    {
     "name": "stdout",
     "output_type": "stream",
     "text": [
      "Episode: 113   score: 5.22   Avg score (100e): 3.94   actor gain: -0.49   critic loss: 0.42   steps: 113\n"
     ]
    },
    {
     "name": "stderr",
     "output_type": "stream",
     "text": [
      "training loop:   0% |                                 | ETA:  29 days, 15:37:37\r"
     ]
    },
    {
     "name": "stdout",
     "output_type": "stream",
     "text": [
      "Episode: 114   score: 5.24   Avg score (100e): 3.97   actor gain: -0.49   critic loss: 0.42   steps: 114\n"
     ]
    },
    {
     "name": "stderr",
     "output_type": "stream",
     "text": [
      "training loop:   0% |                                 | ETA:  29 days, 13:43:01\r"
     ]
    },
    {
     "name": "stdout",
     "output_type": "stream",
     "text": [
      "Episode: 115   score: 5.23   Avg score (100e): 4.00   actor gain: -0.49   critic loss: 0.42   steps: 115\n"
     ]
    },
    {
     "name": "stderr",
     "output_type": "stream",
     "text": [
      "training loop:   0% |                                 | ETA:  29 days, 11:40:43\r"
     ]
    },
    {
     "name": "stdout",
     "output_type": "stream",
     "text": [
      "Episode: 116   score: 5.25   Avg score (100e): 4.03   actor gain: -0.49   critic loss: 0.42   steps: 116\n"
     ]
    },
    {
     "name": "stderr",
     "output_type": "stream",
     "text": [
      "training loop:   0% |                                  | ETA:  29 days, 9:58:15\r"
     ]
    },
    {
     "name": "stdout",
     "output_type": "stream",
     "text": [
      "Episode: 117   score: 5.26   Avg score (100e): 4.06   actor gain: -0.49   critic loss: 0.42   steps: 117\n"
     ]
    },
    {
     "name": "stderr",
     "output_type": "stream",
     "text": [
      "training loop:   0% |                                  | ETA:  29 days, 9:40:25\r"
     ]
    },
    {
     "name": "stdout",
     "output_type": "stream",
     "text": [
      "Episode: 118   score: 5.29   Avg score (100e): 4.09   actor gain: -0.49   critic loss: 0.42   steps: 118\n"
     ]
    },
    {
     "name": "stderr",
     "output_type": "stream",
     "text": [
      "training loop:   0% |                                 | ETA:  29 days, 10:06:03\r"
     ]
    },
    {
     "name": "stdout",
     "output_type": "stream",
     "text": [
      "Episode: 119   score: 5.31   Avg score (100e): 4.11   actor gain: -0.50   critic loss: 0.42   steps: 119\n"
     ]
    },
    {
     "name": "stderr",
     "output_type": "stream",
     "text": [
      "training loop:   0% |                                  | ETA:  29 days, 9:07:14\r"
     ]
    },
    {
     "name": "stdout",
     "output_type": "stream",
     "text": [
      "Episode: 120   score: 5.33   Avg score (100e): 4.14   actor gain: -0.50   critic loss: 0.42   steps: 120\n"
     ]
    },
    {
     "name": "stderr",
     "output_type": "stream",
     "text": [
      "training loop:   0% |                                  | ETA:  29 days, 8:40:45\r"
     ]
    },
    {
     "name": "stdout",
     "output_type": "stream",
     "text": [
      "Episode: 121   score: 5.34   Avg score (100e): 4.17   actor gain: -0.50   critic loss: 0.42   steps: 121\n"
     ]
    },
    {
     "name": "stderr",
     "output_type": "stream",
     "text": [
      "training loop:   0% |                                  | ETA:  29 days, 9:02:35\r"
     ]
    },
    {
     "name": "stdout",
     "output_type": "stream",
     "text": [
      "Episode: 122   score: 5.36   Avg score (100e): 4.20   actor gain: -0.50   critic loss: 0.42   steps: 122\n"
     ]
    },
    {
     "name": "stderr",
     "output_type": "stream",
     "text": [
      "training loop:   0% |                                  | ETA:  29 days, 7:31:58\r"
     ]
    },
    {
     "name": "stdout",
     "output_type": "stream",
     "text": [
      "Episode: 123   score: 5.36   Avg score (100e): 4.22   actor gain: -0.50   critic loss: 0.42   steps: 123\n"
     ]
    },
    {
     "name": "stderr",
     "output_type": "stream",
     "text": [
      "training loop:   0% |                                  | ETA:  29 days, 6:38:25\r"
     ]
    },
    {
     "name": "stdout",
     "output_type": "stream",
     "text": [
      "Episode: 124   score: 5.36   Avg score (100e): 4.25   actor gain: -0.50   critic loss: 0.42   steps: 124\n"
     ]
    },
    {
     "name": "stderr",
     "output_type": "stream",
     "text": [
      "training loop:   0% |                                  | ETA:  29 days, 5:39:25\r"
     ]
    },
    {
     "name": "stdout",
     "output_type": "stream",
     "text": [
      "Episode: 125   score: 5.38   Avg score (100e): 4.28   actor gain: -0.50   critic loss: 0.42   steps: 125\n"
     ]
    },
    {
     "name": "stderr",
     "output_type": "stream",
     "text": [
      "training loop:   0% |                                  | ETA:  29 days, 4:51:10\r"
     ]
    },
    {
     "name": "stdout",
     "output_type": "stream",
     "text": [
      "Episode: 126   score: 5.41   Avg score (100e): 4.31   actor gain: -0.50   critic loss: 0.42   steps: 126\n"
     ]
    },
    {
     "name": "stderr",
     "output_type": "stream",
     "text": [
      "training loop:   0% |                                  | ETA:  29 days, 4:06:03\r"
     ]
    },
    {
     "name": "stdout",
     "output_type": "stream",
     "text": [
      "Episode: 127   score: 5.44   Avg score (100e): 4.33   actor gain: -0.50   critic loss: 0.42   steps: 127\n"
     ]
    },
    {
     "name": "stderr",
     "output_type": "stream",
     "text": [
      "training loop:   0% |                                  | ETA:  29 days, 4:21:57\r"
     ]
    },
    {
     "name": "stdout",
     "output_type": "stream",
     "text": [
      "Episode: 128   score: 5.45   Avg score (100e): 4.36   actor gain: -0.50   critic loss: 0.42   steps: 128\n"
     ]
    },
    {
     "name": "stderr",
     "output_type": "stream",
     "text": [
      "training loop:   0% |                                  | ETA:  29 days, 3:33:16\r"
     ]
    },
    {
     "name": "stdout",
     "output_type": "stream",
     "text": [
      "Episode: 129   score: 5.50   Avg score (100e): 4.38   actor gain: -0.48   critic loss: 0.42   steps: 129\n"
     ]
    },
    {
     "name": "stderr",
     "output_type": "stream",
     "text": [
      "training loop:   0% |                                  | ETA:  29 days, 2:44:24\r"
     ]
    },
    {
     "name": "stdout",
     "output_type": "stream",
     "text": [
      "Episode: 130   score: 5.51   Avg score (100e): 4.41   actor gain: -0.48   critic loss: 0.42   steps: 130\n"
     ]
    },
    {
     "name": "stderr",
     "output_type": "stream",
     "text": [
      "training loop:   0% |                                  | ETA:  29 days, 1:58:03\r"
     ]
    },
    {
     "name": "stdout",
     "output_type": "stream",
     "text": [
      "Episode: 131   score: 5.50   Avg score (100e): 4.44   actor gain: -0.48   critic loss: 0.42   steps: 131\n"
     ]
    },
    {
     "name": "stderr",
     "output_type": "stream",
     "text": [
      "training loop:   0% |                                  | ETA:  29 days, 0:59:35\r"
     ]
    },
    {
     "name": "stdout",
     "output_type": "stream",
     "text": [
      "Episode: 132   score: 5.53   Avg score (100e): 4.46   actor gain: -0.48   critic loss: 0.42   steps: 132\n"
     ]
    },
    {
     "name": "stderr",
     "output_type": "stream",
     "text": [
      "training loop:   0% |                                  | ETA:  29 days, 0:01:37\r"
     ]
    },
    {
     "name": "stdout",
     "output_type": "stream",
     "text": [
      "Episode: 133   score: 5.57   Avg score (100e): 4.49   actor gain: -0.48   critic loss: 0.42   steps: 133\n"
     ]
    },
    {
     "name": "stderr",
     "output_type": "stream",
     "text": [
      "training loop:   0% |                                 | ETA:  28 days, 23:50:47\r"
     ]
    },
    {
     "name": "stdout",
     "output_type": "stream",
     "text": [
      "Episode: 134   score: 5.59   Avg score (100e): 4.51   actor gain: -0.48   critic loss: 0.42   steps: 134\n"
     ]
    },
    {
     "name": "stderr",
     "output_type": "stream",
     "text": [
      "training loop:   0% |                                  | ETA:  29 days, 0:30:30\r"
     ]
    },
    {
     "name": "stdout",
     "output_type": "stream",
     "text": [
      "Episode: 135   score: 5.62   Avg score (100e): 4.54   actor gain: -0.48   critic loss: 0.42   steps: 135\n"
     ]
    },
    {
     "name": "stderr",
     "output_type": "stream",
     "text": [
      "training loop:   0% |                                  | ETA:  29 days, 0:32:42\r"
     ]
    },
    {
     "name": "stdout",
     "output_type": "stream",
     "text": [
      "Episode: 136   score: 5.63   Avg score (100e): 4.56   actor gain: -0.48   critic loss: 0.42   steps: 136\n"
     ]
    },
    {
     "name": "stderr",
     "output_type": "stream",
     "text": [
      "training loop:   0% |                                 | ETA:  28 days, 23:56:04\r"
     ]
    },
    {
     "name": "stdout",
     "output_type": "stream",
     "text": [
      "Episode: 137   score: 5.69   Avg score (100e): 4.59   actor gain: -0.48   critic loss: 0.42   steps: 137\n"
     ]
    },
    {
     "name": "stderr",
     "output_type": "stream",
     "text": [
      "training loop:   0% |                                 | ETA:  28 days, 23:35:29\r"
     ]
    },
    {
     "name": "stdout",
     "output_type": "stream",
     "text": [
      "Episode: 138   score: 5.72   Avg score (100e): 4.62   actor gain: -0.48   critic loss: 0.42   steps: 138\n"
     ]
    },
    {
     "name": "stderr",
     "output_type": "stream",
     "text": [
      "training loop:   0% |                                  | ETA:  30 days, 1:33:51\r"
     ]
    },
    {
     "name": "stdout",
     "output_type": "stream",
     "text": [
      "Episode: 139   score: 5.75   Avg score (100e): 4.64   actor gain: -0.48   critic loss: 0.42   steps: 139\n"
     ]
    },
    {
     "name": "stderr",
     "output_type": "stream",
     "text": [
      "training loop:   0% |                                  | ETA:  30 days, 1:06:52\r"
     ]
    },
    {
     "name": "stdout",
     "output_type": "stream",
     "text": [
      "Episode: 140   score: 5.77   Avg score (100e): 4.67   actor gain: -0.48   critic loss: 0.42   steps: 140\n"
     ]
    },
    {
     "name": "stderr",
     "output_type": "stream",
     "text": [
      "training loop:   0% |                                  | ETA:  30 days, 0:24:25\r"
     ]
    },
    {
     "name": "stdout",
     "output_type": "stream",
     "text": [
      "Episode: 141   score: 5.81   Avg score (100e): 4.69   actor gain: -0.48   critic loss: 0.42   steps: 141\n"
     ]
    },
    {
     "name": "stderr",
     "output_type": "stream",
     "text": [
      "training loop:   0% |                                  | ETA:  30 days, 1:36:00\r"
     ]
    },
    {
     "name": "stdout",
     "output_type": "stream",
     "text": [
      "Episode: 142   score: 5.83   Avg score (100e): 4.72   actor gain: -0.48   critic loss: 0.42   steps: 142\n"
     ]
    },
    {
     "name": "stderr",
     "output_type": "stream",
     "text": [
      "training loop:   0% |                                  | ETA:  30 days, 4:01:14\r"
     ]
    },
    {
     "name": "stdout",
     "output_type": "stream",
     "text": [
      "Episode: 143   score: 5.83   Avg score (100e): 4.74   actor gain: -0.48   critic loss: 0.42   steps: 143\n"
     ]
    },
    {
     "name": "stderr",
     "output_type": "stream",
     "text": [
      "training loop:   0% |                                  | ETA:  30 days, 6:29:59\r"
     ]
    },
    {
     "name": "stdout",
     "output_type": "stream",
     "text": [
      "Episode: 144   score: 5.83   Avg score (100e): 4.77   actor gain: -0.47   critic loss: 0.42   steps: 144\n"
     ]
    },
    {
     "name": "stderr",
     "output_type": "stream",
     "text": [
      "training loop:   0% |                                  | ETA:  30 days, 7:28:50\r"
     ]
    },
    {
     "name": "stdout",
     "output_type": "stream",
     "text": [
      "Episode: 145   score: 5.83   Avg score (100e): 4.79   actor gain: -0.47   critic loss: 0.42   steps: 145\n"
     ]
    },
    {
     "name": "stderr",
     "output_type": "stream",
     "text": [
      "training loop:   0% |                                  | ETA:  30 days, 8:17:39\r"
     ]
    },
    {
     "name": "stdout",
     "output_type": "stream",
     "text": [
      "Episode: 146   score: 5.82   Avg score (100e): 4.81   actor gain: -0.47   critic loss: 0.42   steps: 146\n"
     ]
    },
    {
     "name": "stderr",
     "output_type": "stream",
     "text": [
      "training loop:   0% |                                  | ETA:  30 days, 9:11:20\r"
     ]
    },
    {
     "name": "stdout",
     "output_type": "stream",
     "text": [
      "Episode: 147   score: 5.84   Avg score (100e): 4.84   actor gain: -0.47   critic loss: 0.42   steps: 147\n"
     ]
    },
    {
     "name": "stderr",
     "output_type": "stream",
     "text": [
      "training loop:   0% |                                  | ETA:  30 days, 9:48:06\r"
     ]
    },
    {
     "name": "stdout",
     "output_type": "stream",
     "text": [
      "Episode: 148   score: 5.83   Avg score (100e): 4.86   actor gain: -0.47   critic loss: 0.42   steps: 148\n"
     ]
    },
    {
     "name": "stderr",
     "output_type": "stream",
     "text": [
      "training loop:   0% |                                 | ETA:  30 days, 11:04:57\r"
     ]
    },
    {
     "name": "stdout",
     "output_type": "stream",
     "text": [
      "Episode: 149   score: 5.84   Avg score (100e): 4.88   actor gain: -0.47   critic loss: 0.42   steps: 149\n"
     ]
    },
    {
     "name": "stderr",
     "output_type": "stream",
     "text": [
      "training loop:   0% |                                 | ETA:  30 days, 11:47:50\r"
     ]
    },
    {
     "name": "stdout",
     "output_type": "stream",
     "text": [
      "Episode: 150   score: 5.85   Avg score (100e): 4.90   actor gain: -0.47   critic loss: 0.42   steps: 150\n"
     ]
    },
    {
     "name": "stderr",
     "output_type": "stream",
     "text": [
      "training loop:   0% |                                 | ETA:  30 days, 12:25:54\r"
     ]
    },
    {
     "name": "stdout",
     "output_type": "stream",
     "text": [
      "Episode: 151   score: 5.88   Avg score (100e): 4.93   actor gain: -0.47   critic loss: 0.42   steps: 151\n"
     ]
    },
    {
     "name": "stderr",
     "output_type": "stream",
     "text": [
      "training loop:   0% |                                 | ETA:  30 days, 13:01:01\r"
     ]
    },
    {
     "name": "stdout",
     "output_type": "stream",
     "text": [
      "Episode: 152   score: 5.92   Avg score (100e): 4.95   actor gain: -0.47   critic loss: 0.42   steps: 152\n"
     ]
    },
    {
     "name": "stderr",
     "output_type": "stream",
     "text": [
      "training loop:   0% |                                 | ETA:  30 days, 13:38:10\r"
     ]
    },
    {
     "name": "stdout",
     "output_type": "stream",
     "text": [
      "Episode: 153   score: 5.95   Avg score (100e): 4.97   actor gain: -0.47   critic loss: 0.42   steps: 153\n"
     ]
    },
    {
     "name": "stderr",
     "output_type": "stream",
     "text": [
      "training loop:   0% |                                 | ETA:  30 days, 14:41:15\r"
     ]
    },
    {
     "name": "stdout",
     "output_type": "stream",
     "text": [
      "Episode: 154   score: 5.98   Avg score (100e): 4.99   actor gain: -0.47   critic loss: 0.42   steps: 154\n"
     ]
    },
    {
     "name": "stderr",
     "output_type": "stream",
     "text": [
      "training loop:   0% |                                 | ETA:  30 days, 16:24:53\r"
     ]
    },
    {
     "name": "stdout",
     "output_type": "stream",
     "text": [
      "Episode: 155   score: 6.00   Avg score (100e): 5.01   actor gain: -0.47   critic loss: 0.42   steps: 155\n"
     ]
    },
    {
     "name": "stderr",
     "output_type": "stream",
     "text": [
      "training loop:   0% |                                 | ETA:  30 days, 17:39:42\r"
     ]
    },
    {
     "name": "stdout",
     "output_type": "stream",
     "text": [
      "Episode: 156   score: 6.00   Avg score (100e): 5.04   actor gain: -0.47   critic loss: 0.42   steps: 156\n"
     ]
    },
    {
     "name": "stderr",
     "output_type": "stream",
     "text": [
      "training loop:   0% |                                 | ETA:  30 days, 18:24:23\r"
     ]
    },
    {
     "name": "stdout",
     "output_type": "stream",
     "text": [
      "Episode: 157   score: 6.03   Avg score (100e): 5.06   actor gain: -0.47   critic loss: 0.42   steps: 157\n"
     ]
    },
    {
     "name": "stderr",
     "output_type": "stream",
     "text": [
      "training loop:   0% |                                 | ETA:  33 days, 15:32:53\r"
     ]
    },
    {
     "name": "stdout",
     "output_type": "stream",
     "text": [
      "Episode: 158   score: 6.05   Avg score (100e): 5.08   actor gain: -0.47   critic loss: 0.42   steps: 158\n"
     ]
    },
    {
     "name": "stderr",
     "output_type": "stream",
     "text": [
      "training loop:   0% |                                 | ETA:  33 days, 17:07:06\r"
     ]
    },
    {
     "name": "stdout",
     "output_type": "stream",
     "text": [
      "Episode: 159   score: 6.10   Avg score (100e): 5.10   actor gain: -0.47   critic loss: 0.42   steps: 159\n"
     ]
    },
    {
     "name": "stderr",
     "output_type": "stream",
     "text": [
      "training loop:   0% |                                 | ETA:  33 days, 17:55:12\r"
     ]
    },
    {
     "name": "stdout",
     "output_type": "stream",
     "text": [
      "Episode: 160   score: 6.10   Avg score (100e): 5.12   actor gain: -0.47   critic loss: 0.42   steps: 160\n"
     ]
    },
    {
     "name": "stderr",
     "output_type": "stream",
     "text": [
      "training loop:   0% |                                 | ETA:  33 days, 18:35:46\r"
     ]
    },
    {
     "name": "stdout",
     "output_type": "stream",
     "text": [
      "Episode: 161   score: 6.12   Avg score (100e): 5.14   actor gain: -0.47   critic loss: 0.42   steps: 161\n"
     ]
    },
    {
     "name": "stderr",
     "output_type": "stream",
     "text": [
      "training loop:   0% |                                 | ETA:  33 days, 19:05:07\r"
     ]
    },
    {
     "name": "stdout",
     "output_type": "stream",
     "text": [
      "Episode: 162   score: 6.14   Avg score (100e): 5.16   actor gain: -0.47   critic loss: 0.42   steps: 162\n"
     ]
    },
    {
     "name": "stderr",
     "output_type": "stream",
     "text": [
      "training loop:   0% |                                 | ETA:  33 days, 18:01:57\r"
     ]
    },
    {
     "name": "stdout",
     "output_type": "stream",
     "text": [
      "Episode: 163   score: 6.18   Avg score (100e): 5.18   actor gain: -0.47   critic loss: 0.42   steps: 163\n"
     ]
    },
    {
     "name": "stderr",
     "output_type": "stream",
     "text": [
      "training loop:   0% |                                 | ETA:  33 days, 17:58:17\r"
     ]
    },
    {
     "name": "stdout",
     "output_type": "stream",
     "text": [
      "Episode: 164   score: 6.20   Avg score (100e): 5.21   actor gain: -0.47   critic loss: 0.42   steps: 164\n"
     ]
    },
    {
     "name": "stderr",
     "output_type": "stream",
     "text": [
      "training loop:   0% |                                 | ETA:  33 days, 17:45:36\r"
     ]
    },
    {
     "name": "stdout",
     "output_type": "stream",
     "text": [
      "Episode: 165   score: 6.20   Avg score (100e): 5.23   actor gain: -0.47   critic loss: 0.42   steps: 165\n"
     ]
    },
    {
     "name": "stderr",
     "output_type": "stream",
     "text": [
      "training loop:   0% |                                 | ETA:  33 days, 17:37:51\r"
     ]
    },
    {
     "name": "stdout",
     "output_type": "stream",
     "text": [
      "Episode: 166   score: 6.22   Avg score (100e): 5.25   actor gain: -0.47   critic loss: 0.42   steps: 166\n"
     ]
    },
    {
     "name": "stderr",
     "output_type": "stream",
     "text": [
      "training loop:   0% |                                 | ETA:  33 days, 17:13:20\r"
     ]
    },
    {
     "name": "stdout",
     "output_type": "stream",
     "text": [
      "Episode: 167   score: 6.22   Avg score (100e): 5.27   actor gain: -0.47   critic loss: 0.42   steps: 167\n"
     ]
    },
    {
     "name": "stderr",
     "output_type": "stream",
     "text": [
      "training loop:   0% |                                 | ETA:  33 days, 16:49:49\r"
     ]
    },
    {
     "name": "stdout",
     "output_type": "stream",
     "text": [
      "Episode: 168   score: 6.23   Avg score (100e): 5.29   actor gain: -0.47   critic loss: 0.42   steps: 168\n"
     ]
    },
    {
     "name": "stderr",
     "output_type": "stream",
     "text": [
      "training loop:   0% |                                 | ETA:  33 days, 16:20:58\r"
     ]
    },
    {
     "name": "stdout",
     "output_type": "stream",
     "text": [
      "Episode: 169   score: 6.24   Avg score (100e): 5.31   actor gain: -0.47   critic loss: 0.42   steps: 169\n"
     ]
    },
    {
     "name": "stderr",
     "output_type": "stream",
     "text": [
      "training loop:   0% |                                 | ETA:  33 days, 16:52:57\r"
     ]
    },
    {
     "name": "stdout",
     "output_type": "stream",
     "text": [
      "Episode: 170   score: 6.25   Avg score (100e): 5.33   actor gain: -0.47   critic loss: 0.42   steps: 170\n"
     ]
    },
    {
     "name": "stderr",
     "output_type": "stream",
     "text": [
      "training loop:   0% |                                 | ETA:  33 days, 17:55:11\r"
     ]
    },
    {
     "name": "stdout",
     "output_type": "stream",
     "text": [
      "Episode: 171   score: 6.25   Avg score (100e): 5.35   actor gain: -0.47   critic loss: 0.42   steps: 171\n"
     ]
    },
    {
     "name": "stderr",
     "output_type": "stream",
     "text": [
      "training loop:   0% |                                 | ETA:  33 days, 18:09:10\r"
     ]
    },
    {
     "name": "stdout",
     "output_type": "stream",
     "text": [
      "Episode: 172   score: 6.26   Avg score (100e): 5.36   actor gain: -0.47   critic loss: 0.42   steps: 172\n"
     ]
    },
    {
     "name": "stderr",
     "output_type": "stream",
     "text": [
      "training loop:   0% |                                 | ETA:  33 days, 18:31:43\r"
     ]
    },
    {
     "name": "stdout",
     "output_type": "stream",
     "text": [
      "Episode: 173   score: 6.28   Avg score (100e): 5.38   actor gain: -0.47   critic loss: 0.42   steps: 173\n"
     ]
    },
    {
     "name": "stderr",
     "output_type": "stream",
     "text": [
      "training loop:   0% |                                 | ETA:  33 days, 18:33:37\r"
     ]
    },
    {
     "name": "stdout",
     "output_type": "stream",
     "text": [
      "Episode: 174   score: 6.26   Avg score (100e): 5.40   actor gain: -0.47   critic loss: 0.42   steps: 174\n"
     ]
    },
    {
     "name": "stderr",
     "output_type": "stream",
     "text": [
      "training loop:   0% |                                 | ETA:  33 days, 18:33:14\r"
     ]
    },
    {
     "name": "stdout",
     "output_type": "stream",
     "text": [
      "Episode: 175   score: 6.25   Avg score (100e): 5.42   actor gain: -0.47   critic loss: 0.42   steps: 175\n"
     ]
    },
    {
     "name": "stderr",
     "output_type": "stream",
     "text": [
      "training loop:   0% |                                 | ETA:  33 days, 18:55:52\r"
     ]
    },
    {
     "name": "stdout",
     "output_type": "stream",
     "text": [
      "Episode: 176   score: 6.25   Avg score (100e): 5.44   actor gain: -0.47   critic loss: 0.42   steps: 176\n"
     ]
    },
    {
     "name": "stderr",
     "output_type": "stream",
     "text": [
      "training loop:   0% |                                 | ETA:  33 days, 19:05:03\r"
     ]
    },
    {
     "name": "stdout",
     "output_type": "stream",
     "text": [
      "Episode: 177   score: 6.27   Avg score (100e): 5.46   actor gain: -0.46   critic loss: 0.42   steps: 177\n"
     ]
    },
    {
     "name": "stderr",
     "output_type": "stream",
     "text": [
      "training loop:   0% |                                 | ETA:  33 days, 19:24:38\r"
     ]
    },
    {
     "name": "stdout",
     "output_type": "stream",
     "text": [
      "Episode: 178   score: 6.26   Avg score (100e): 5.47   actor gain: -0.46   critic loss: 0.42   steps: 178\n"
     ]
    },
    {
     "name": "stderr",
     "output_type": "stream",
     "text": [
      "training loop:   0% |                                 | ETA:  33 days, 19:21:03\r"
     ]
    },
    {
     "name": "stdout",
     "output_type": "stream",
     "text": [
      "Episode: 179   score: 6.28   Avg score (100e): 5.49   actor gain: -0.46   critic loss: 0.42   steps: 179\n"
     ]
    },
    {
     "name": "stderr",
     "output_type": "stream",
     "text": [
      "training loop:   0% |                                 | ETA:  33 days, 19:19:38\r"
     ]
    },
    {
     "name": "stdout",
     "output_type": "stream",
     "text": [
      "Episode: 180   score: 6.28   Avg score (100e): 5.51   actor gain: -0.46   critic loss: 0.42   steps: 180\n"
     ]
    },
    {
     "name": "stderr",
     "output_type": "stream",
     "text": [
      "training loop:   0% |                                 | ETA:  33 days, 19:26:36\r"
     ]
    },
    {
     "name": "stdout",
     "output_type": "stream",
     "text": [
      "Episode: 181   score: 6.30   Avg score (100e): 5.53   actor gain: -0.46   critic loss: 0.42   steps: 181\n"
     ]
    },
    {
     "name": "stderr",
     "output_type": "stream",
     "text": [
      "training loop:   0% |                                 | ETA:  38 days, 22:53:07\r"
     ]
    },
    {
     "name": "stdout",
     "output_type": "stream",
     "text": [
      "Episode: 182   score: 6.29   Avg score (100e): 5.54   actor gain: -0.47   critic loss: 0.42   steps: 182\n"
     ]
    },
    {
     "name": "stderr",
     "output_type": "stream",
     "text": [
      "training loop:   0% |                                 | ETA:  38 days, 22:31:47\r"
     ]
    },
    {
     "name": "stdout",
     "output_type": "stream",
     "text": [
      "Episode: 183   score: 6.31   Avg score (100e): 5.56   actor gain: -0.47   critic loss: 0.42   steps: 183\n"
     ]
    },
    {
     "name": "stderr",
     "output_type": "stream",
     "text": [
      "training loop:   0% |                                 | ETA:  38 days, 22:20:29\r"
     ]
    },
    {
     "name": "stdout",
     "output_type": "stream",
     "text": [
      "Episode: 184   score: 6.33   Avg score (100e): 5.58   actor gain: -0.47   critic loss: 0.42   steps: 184\n"
     ]
    },
    {
     "name": "stderr",
     "output_type": "stream",
     "text": [
      "training loop:   0% |                                 | ETA:  38 days, 22:01:33\r"
     ]
    },
    {
     "name": "stdout",
     "output_type": "stream",
     "text": [
      "Episode: 185   score: 6.34   Avg score (100e): 5.60   actor gain: -0.47   critic loss: 0.42   steps: 185\n"
     ]
    },
    {
     "name": "stderr",
     "output_type": "stream",
     "text": [
      "training loop:   0% |                                 | ETA:  38 days, 21:33:33\r"
     ]
    },
    {
     "name": "stdout",
     "output_type": "stream",
     "text": [
      "Episode: 186   score: 6.37   Avg score (100e): 5.61   actor gain: -0.46   critic loss: 0.42   steps: 186\n"
     ]
    },
    {
     "name": "stderr",
     "output_type": "stream",
     "text": [
      "training loop:   0% |                                 | ETA:  38 days, 20:54:28\r"
     ]
    },
    {
     "name": "stdout",
     "output_type": "stream",
     "text": [
      "Episode: 187   score: 6.38   Avg score (100e): 5.63   actor gain: -0.46   critic loss: 0.42   steps: 187\n"
     ]
    },
    {
     "name": "stderr",
     "output_type": "stream",
     "text": [
      "training loop:   0% |                                 | ETA:  38 days, 20:20:27\r"
     ]
    },
    {
     "name": "stdout",
     "output_type": "stream",
     "text": [
      "Episode: 188   score: 6.39   Avg score (100e): 5.65   actor gain: -0.46   critic loss: 0.42   steps: 188\n"
     ]
    },
    {
     "name": "stderr",
     "output_type": "stream",
     "text": [
      "training loop:   0% |                                 | ETA:  38 days, 20:02:34\r"
     ]
    },
    {
     "name": "stdout",
     "output_type": "stream",
     "text": [
      "Episode: 189   score: 6.43   Avg score (100e): 5.67   actor gain: -0.46   critic loss: 0.42   steps: 189\n"
     ]
    },
    {
     "name": "stderr",
     "output_type": "stream",
     "text": [
      "training loop:   0% |                                 | ETA:  38 days, 19:30:17\r"
     ]
    },
    {
     "name": "stdout",
     "output_type": "stream",
     "text": [
      "Episode: 190   score: 6.46   Avg score (100e): 5.68   actor gain: -0.46   critic loss: 0.42   steps: 190\n"
     ]
    },
    {
     "name": "stderr",
     "output_type": "stream",
     "text": [
      "training loop:   0% |                                 | ETA:  38 days, 18:47:38\r"
     ]
    },
    {
     "name": "stdout",
     "output_type": "stream",
     "text": [
      "Episode: 191   score: 6.46   Avg score (100e): 5.70   actor gain: -0.46   critic loss: 0.42   steps: 191\n"
     ]
    },
    {
     "name": "stderr",
     "output_type": "stream",
     "text": [
      "training loop:   0% |                                 | ETA:  38 days, 18:11:07\r"
     ]
    },
    {
     "name": "stdout",
     "output_type": "stream",
     "text": [
      "Episode: 192   score: 6.47   Avg score (100e): 5.72   actor gain: -0.46   critic loss: 0.42   steps: 192\n"
     ]
    },
    {
     "name": "stderr",
     "output_type": "stream",
     "text": [
      "training loop:   0% |                                 | ETA:  38 days, 17:28:47\r"
     ]
    },
    {
     "name": "stdout",
     "output_type": "stream",
     "text": [
      "Episode: 193   score: 6.49   Avg score (100e): 5.74   actor gain: -0.46   critic loss: 0.42   steps: 193\n"
     ]
    },
    {
     "name": "stderr",
     "output_type": "stream",
     "text": [
      "training loop:   0% |                                 | ETA:  38 days, 17:07:51\r"
     ]
    },
    {
     "name": "stdout",
     "output_type": "stream",
     "text": [
      "Episode: 194   score: 6.50   Avg score (100e): 5.75   actor gain: -0.46   critic loss: 0.42   steps: 194\n"
     ]
    },
    {
     "name": "stderr",
     "output_type": "stream",
     "text": [
      "training loop:   0% |                                 | ETA:  38 days, 16:32:02\r"
     ]
    },
    {
     "name": "stdout",
     "output_type": "stream",
     "text": [
      "Episode: 195   score: 6.53   Avg score (100e): 5.77   actor gain: -0.47   critic loss: 0.42   steps: 195\n"
     ]
    },
    {
     "name": "stderr",
     "output_type": "stream",
     "text": [
      "training loop:   0% |                                 | ETA:  38 days, 16:09:04\r"
     ]
    },
    {
     "name": "stdout",
     "output_type": "stream",
     "text": [
      "Episode: 196   score: 6.55   Avg score (100e): 5.79   actor gain: -0.47   critic loss: 0.42   steps: 196\n"
     ]
    },
    {
     "name": "stderr",
     "output_type": "stream",
     "text": [
      "training loop:   0% |                                 | ETA:  38 days, 15:30:23\r"
     ]
    },
    {
     "name": "stdout",
     "output_type": "stream",
     "text": [
      "Episode: 197   score: 6.56   Avg score (100e): 5.80   actor gain: -0.49   critic loss: 0.42   steps: 197\n"
     ]
    },
    {
     "name": "stderr",
     "output_type": "stream",
     "text": [
      "training loop:   0% |                                 | ETA:  38 days, 14:51:37\r"
     ]
    },
    {
     "name": "stdout",
     "output_type": "stream",
     "text": [
      "Episode: 198   score: 6.55   Avg score (100e): 5.82   actor gain: -0.49   critic loss: 0.42   steps: 198\n"
     ]
    },
    {
     "name": "stderr",
     "output_type": "stream",
     "text": [
      "training loop:   0% |                                 | ETA:  38 days, 14:22:32\r"
     ]
    },
    {
     "name": "stdout",
     "output_type": "stream",
     "text": [
      "Episode: 199   score: 6.59   Avg score (100e): 5.84   actor gain: -0.49   critic loss: 0.42   steps: 199\n"
     ]
    },
    {
     "name": "stderr",
     "output_type": "stream",
     "text": [
      "training loop:   0% |                                 | ETA:  38 days, 13:44:59\r"
     ]
    },
    {
     "name": "stdout",
     "output_type": "stream",
     "text": [
      "Episode: 200   score: 6.63   Avg score (100e): 5.85   actor gain: -0.49   critic loss: 0.42   steps: 200\n"
     ]
    },
    {
     "name": "stderr",
     "output_type": "stream",
     "text": [
      "training loop:   0% |                                 | ETA:  38 days, 13:17:06\r"
     ]
    },
    {
     "name": "stdout",
     "output_type": "stream",
     "text": [
      "Episode: 201   score: 6.65   Avg score (100e): 5.87   actor gain: -0.49   critic loss: 0.42   steps: 201\n"
     ]
    },
    {
     "name": "stderr",
     "output_type": "stream",
     "text": [
      "training loop:   0% |                                 | ETA:  38 days, 12:51:40\r"
     ]
    },
    {
     "name": "stdout",
     "output_type": "stream",
     "text": [
      "Episode: 202   score: 6.68   Avg score (100e): 5.89   actor gain: -0.49   critic loss: 0.42   steps: 202\n"
     ]
    },
    {
     "name": "stderr",
     "output_type": "stream",
     "text": [
      "training loop:   0% |                                 | ETA:  38 days, 12:15:04\r"
     ]
    },
    {
     "name": "stdout",
     "output_type": "stream",
     "text": [
      "Episode: 203   score: 6.72   Avg score (100e): 5.90   actor gain: -0.49   critic loss: 0.42   steps: 203\n"
     ]
    },
    {
     "name": "stderr",
     "output_type": "stream",
     "text": [
      "training loop:   0% |                                 | ETA:  38 days, 12:23:15\r"
     ]
    },
    {
     "name": "stdout",
     "output_type": "stream",
     "text": [
      "Episode: 204   score: 6.75   Avg score (100e): 5.92   actor gain: -0.49   critic loss: 0.42   steps: 204\n"
     ]
    },
    {
     "name": "stderr",
     "output_type": "stream",
     "text": [
      "training loop:   0% |                                 | ETA:  38 days, 12:06:59\r"
     ]
    },
    {
     "name": "stdout",
     "output_type": "stream",
     "text": [
      "Episode: 205   score: 6.79   Avg score (100e): 5.94   actor gain: -0.49   critic loss: 0.42   steps: 205\n"
     ]
    },
    {
     "name": "stderr",
     "output_type": "stream",
     "text": [
      "training loop:   0% |                                 | ETA:  38 days, 11:55:21\r"
     ]
    },
    {
     "name": "stdout",
     "output_type": "stream",
     "text": [
      "Episode: 206   score: 6.82   Avg score (100e): 5.96   actor gain: -0.49   critic loss: 0.42   steps: 206\n"
     ]
    },
    {
     "name": "stderr",
     "output_type": "stream",
     "text": [
      "training loop:   0% |                                 | ETA:  38 days, 11:26:00\r"
     ]
    },
    {
     "name": "stdout",
     "output_type": "stream",
     "text": [
      "Episode: 207   score: 6.86   Avg score (100e): 5.98   actor gain: -0.49   critic loss: 0.42   steps: 207\n"
     ]
    },
    {
     "name": "stderr",
     "output_type": "stream",
     "text": [
      "training loop:   0% |                                 | ETA:  38 days, 11:36:12\r"
     ]
    },
    {
     "name": "stdout",
     "output_type": "stream",
     "text": [
      "Episode: 208   score: 6.88   Avg score (100e): 5.99   actor gain: -0.49   critic loss: 0.42   steps: 208\n"
     ]
    },
    {
     "name": "stderr",
     "output_type": "stream",
     "text": [
      "training loop:   0% |                                 | ETA:  38 days, 11:17:27\r"
     ]
    },
    {
     "name": "stdout",
     "output_type": "stream",
     "text": [
      "Episode: 209   score: 6.92   Avg score (100e): 6.01   actor gain: -0.49   critic loss: 0.42   steps: 209\n"
     ]
    },
    {
     "name": "stderr",
     "output_type": "stream",
     "text": [
      "training loop:   0% |                                 | ETA:  38 days, 10:43:04\r"
     ]
    },
    {
     "name": "stdout",
     "output_type": "stream",
     "text": [
      "Episode: 210   score: 6.96   Avg score (100e): 6.03   actor gain: -0.49   critic loss: 0.42   steps: 210\n"
     ]
    },
    {
     "name": "stderr",
     "output_type": "stream",
     "text": [
      "training loop:   0% |                                 | ETA:  38 days, 10:13:11\r"
     ]
    },
    {
     "name": "stdout",
     "output_type": "stream",
     "text": [
      "Episode: 211   score: 6.97   Avg score (100e): 6.05   actor gain: -0.49   critic loss: 0.42   steps: 211\n"
     ]
    },
    {
     "name": "stderr",
     "output_type": "stream",
     "text": [
      "training loop:   0% |                                  | ETA:  38 days, 9:45:55\r"
     ]
    },
    {
     "name": "stdout",
     "output_type": "stream",
     "text": [
      "Episode: 212   score: 6.99   Avg score (100e): 6.07   actor gain: -0.49   critic loss: 0.42   steps: 212\n"
     ]
    },
    {
     "name": "stderr",
     "output_type": "stream",
     "text": [
      "training loop:   0% |                                  | ETA:  38 days, 9:21:52\r"
     ]
    },
    {
     "name": "stdout",
     "output_type": "stream",
     "text": [
      "Episode: 213   score: 6.98   Avg score (100e): 6.08   actor gain: -0.49   critic loss: 0.42   steps: 213\n"
     ]
    },
    {
     "name": "stderr",
     "output_type": "stream",
     "text": [
      "training loop:   0% |                                  | ETA:  38 days, 9:05:00\r"
     ]
    },
    {
     "name": "stdout",
     "output_type": "stream",
     "text": [
      "Episode: 214   score: 7.01   Avg score (100e): 6.10   actor gain: -0.49   critic loss: 0.42   steps: 214\n"
     ]
    },
    {
     "name": "stderr",
     "output_type": "stream",
     "text": [
      "training loop:   0% |                                  | ETA:  38 days, 8:29:00\r"
     ]
    },
    {
     "name": "stdout",
     "output_type": "stream",
     "text": [
      "Episode: 215   score: 7.04   Avg score (100e): 6.12   actor gain: -0.49   critic loss: 0.42   steps: 215\n"
     ]
    },
    {
     "name": "stderr",
     "output_type": "stream",
     "text": [
      "training loop:   0% |                                  | ETA:  38 days, 7:56:41\r"
     ]
    },
    {
     "name": "stdout",
     "output_type": "stream",
     "text": [
      "Episode: 216   score: 7.07   Avg score (100e): 6.14   actor gain: -0.49   critic loss: 0.42   steps: 216\n"
     ]
    },
    {
     "name": "stderr",
     "output_type": "stream",
     "text": [
      "training loop:   0% |                                  | ETA:  38 days, 7:29:06\r"
     ]
    },
    {
     "name": "stdout",
     "output_type": "stream",
     "text": [
      "Episode: 217   score: 7.10   Avg score (100e): 6.16   actor gain: -0.49   critic loss: 0.42   steps: 217\n"
     ]
    },
    {
     "name": "stderr",
     "output_type": "stream",
     "text": [
      "training loop:   0% |                                  | ETA:  38 days, 7:03:20\r"
     ]
    },
    {
     "name": "stdout",
     "output_type": "stream",
     "text": [
      "Episode: 218   score: 7.15   Avg score (100e): 6.17   actor gain: -0.49   critic loss: 0.42   steps: 218\n"
     ]
    },
    {
     "name": "stderr",
     "output_type": "stream",
     "text": [
      "training loop:   0% |                                  | ETA:  38 days, 6:30:33\r"
     ]
    },
    {
     "name": "stdout",
     "output_type": "stream",
     "text": [
      "Episode: 219   score: 7.18   Avg score (100e): 6.19   actor gain: -0.49   critic loss: 0.42   steps: 219\n"
     ]
    },
    {
     "name": "stderr",
     "output_type": "stream",
     "text": [
      "training loop:   0% |                                  | ETA:  38 days, 6:00:27\r"
     ]
    },
    {
     "name": "stdout",
     "output_type": "stream",
     "text": [
      "Episode: 220   score: 7.21   Avg score (100e): 6.21   actor gain: -0.49   critic loss: 0.42   steps: 220\n"
     ]
    },
    {
     "name": "stderr",
     "output_type": "stream",
     "text": [
      "training loop:   0% |                                  | ETA:  38 days, 5:33:06\r"
     ]
    },
    {
     "name": "stdout",
     "output_type": "stream",
     "text": [
      "Episode: 221   score: 7.24   Avg score (100e): 6.23   actor gain: -0.49   critic loss: 0.42   steps: 221\n"
     ]
    },
    {
     "name": "stderr",
     "output_type": "stream",
     "text": [
      "training loop:   0% |                                  | ETA:  38 days, 4:57:56\r"
     ]
    },
    {
     "name": "stdout",
     "output_type": "stream",
     "text": [
      "Episode: 222   score: 7.28   Avg score (100e): 6.25   actor gain: -0.46   critic loss: 0.42   steps: 222\n"
     ]
    },
    {
     "name": "stderr",
     "output_type": "stream",
     "text": [
      "training loop:   0% |                                  | ETA:  38 days, 4:58:40\r"
     ]
    },
    {
     "name": "stdout",
     "output_type": "stream",
     "text": [
      "Episode: 223   score: 7.27   Avg score (100e): 6.27   actor gain: -0.46   critic loss: 0.42   steps: 223\n"
     ]
    },
    {
     "name": "stderr",
     "output_type": "stream",
     "text": [
      "training loop:   0% |                                  | ETA:  38 days, 4:42:58\r"
     ]
    },
    {
     "name": "stdout",
     "output_type": "stream",
     "text": [
      "Episode: 224   score: 7.30   Avg score (100e): 6.29   actor gain: -0.46   critic loss: 0.42   steps: 224\n"
     ]
    },
    {
     "name": "stderr",
     "output_type": "stream",
     "text": [
      "training loop:   0% |                                  | ETA:  38 days, 4:34:46\r"
     ]
    },
    {
     "name": "stdout",
     "output_type": "stream",
     "text": [
      "Episode: 225   score: 7.36   Avg score (100e): 6.31   actor gain: -0.47   critic loss: 0.42   steps: 225\n"
     ]
    },
    {
     "name": "stderr",
     "output_type": "stream",
     "text": [
      "training loop:   0% |                                  | ETA:  38 days, 3:59:10\r"
     ]
    },
    {
     "name": "stdout",
     "output_type": "stream",
     "text": [
      "Episode: 226   score: 7.38   Avg score (100e): 6.33   actor gain: -0.47   critic loss: 0.42   steps: 226\n"
     ]
    },
    {
     "name": "stderr",
     "output_type": "stream",
     "text": [
      "training loop:   0% |                                  | ETA:  38 days, 3:04:47\r"
     ]
    },
    {
     "name": "stdout",
     "output_type": "stream",
     "text": [
      "Episode: 227   score: 7.41   Avg score (100e): 6.35   actor gain: -0.47   critic loss: 0.42   steps: 227\n"
     ]
    },
    {
     "name": "stderr",
     "output_type": "stream",
     "text": [
      "training loop:   0% |                                  | ETA:  38 days, 3:05:11\r"
     ]
    },
    {
     "name": "stdout",
     "output_type": "stream",
     "text": [
      "Episode: 228   score: 7.42   Avg score (100e): 6.37   actor gain: -0.47   critic loss: 0.42   steps: 228\n"
     ]
    },
    {
     "name": "stderr",
     "output_type": "stream",
     "text": [
      "training loop:   0% |                                  | ETA:  38 days, 2:56:20\r"
     ]
    },
    {
     "name": "stdout",
     "output_type": "stream",
     "text": [
      "Episode: 229   score: 7.46   Avg score (100e): 6.39   actor gain: -0.47   critic loss: 0.42   steps: 229\n"
     ]
    },
    {
     "name": "stderr",
     "output_type": "stream",
     "text": [
      "training loop:   0% |                                  | ETA:  38 days, 2:36:57\r"
     ]
    },
    {
     "name": "stdout",
     "output_type": "stream",
     "text": [
      "Episode: 230   score: 7.46   Avg score (100e): 6.41   actor gain: -0.47   critic loss: 0.42   steps: 230\n"
     ]
    },
    {
     "name": "stderr",
     "output_type": "stream",
     "text": [
      "training loop:   0% |                                  | ETA:  38 days, 2:21:01\r"
     ]
    },
    {
     "name": "stdout",
     "output_type": "stream",
     "text": [
      "Episode: 231   score: 7.47   Avg score (100e): 6.43   actor gain: -0.47   critic loss: 0.42   steps: 231\n"
     ]
    },
    {
     "name": "stderr",
     "output_type": "stream",
     "text": [
      "training loop:   0% |                                  | ETA:  38 days, 2:40:36\r"
     ]
    },
    {
     "name": "stdout",
     "output_type": "stream",
     "text": [
      "Episode: 232   score: 7.49   Avg score (100e): 6.45   actor gain: -0.47   critic loss: 0.42   steps: 232\n"
     ]
    },
    {
     "name": "stderr",
     "output_type": "stream",
     "text": [
      "training loop:   0% |                                  | ETA:  38 days, 2:53:42\r"
     ]
    },
    {
     "name": "stdout",
     "output_type": "stream",
     "text": [
      "Episode: 233   score: 7.53   Avg score (100e): 6.46   actor gain: -0.47   critic loss: 0.42   steps: 233\n"
     ]
    },
    {
     "name": "stderr",
     "output_type": "stream",
     "text": [
      "training loop:   0% |                                  | ETA:  38 days, 2:57:51\r"
     ]
    },
    {
     "name": "stdout",
     "output_type": "stream",
     "text": [
      "Episode: 234   score: 7.58   Avg score (100e): 6.48   actor gain: -0.47   critic loss: 0.42   steps: 234\n"
     ]
    },
    {
     "name": "stderr",
     "output_type": "stream",
     "text": [
      "training loop:   0% |                                  | ETA:  38 days, 2:33:17\r"
     ]
    },
    {
     "name": "stdout",
     "output_type": "stream",
     "text": [
      "Episode: 235   score: 7.60   Avg score (100e): 6.50   actor gain: -0.47   critic loss: 0.42   steps: 235\n"
     ]
    },
    {
     "name": "stderr",
     "output_type": "stream",
     "text": [
      "training loop:   0% |                                  | ETA:  38 days, 3:54:30\r"
     ]
    },
    {
     "name": "stdout",
     "output_type": "stream",
     "text": [
      "Episode: 236   score: 7.63   Avg score (100e): 6.52   actor gain: -0.47   critic loss: 0.42   steps: 236\n"
     ]
    },
    {
     "name": "stderr",
     "output_type": "stream",
     "text": [
      "training loop:   0% |                                  | ETA:  38 days, 4:25:36\r"
     ]
    },
    {
     "name": "stdout",
     "output_type": "stream",
     "text": [
      "Episode: 237   score: 7.67   Avg score (100e): 6.54   actor gain: -0.47   critic loss: 0.42   steps: 237\n"
     ]
    },
    {
     "name": "stderr",
     "output_type": "stream",
     "text": [
      "training loop:   0% |                                  | ETA:  38 days, 5:17:31\r"
     ]
    },
    {
     "name": "stdout",
     "output_type": "stream",
     "text": [
      "Episode: 238   score: 7.69   Avg score (100e): 6.56   actor gain: -0.47   critic loss: 0.42   steps: 238\n"
     ]
    },
    {
     "name": "stderr",
     "output_type": "stream",
     "text": [
      "training loop:   0% |                                  | ETA:  38 days, 5:08:02\r"
     ]
    },
    {
     "name": "stdout",
     "output_type": "stream",
     "text": [
      "Episode: 239   score: 7.72   Avg score (100e): 6.58   actor gain: -0.47   critic loss: 0.42   steps: 239\n"
     ]
    },
    {
     "name": "stderr",
     "output_type": "stream",
     "text": [
      "training loop:   0% |                                  | ETA:  38 days, 4:45:56\r"
     ]
    },
    {
     "name": "stdout",
     "output_type": "stream",
     "text": [
      "Episode: 240   score: 7.77   Avg score (100e): 6.60   actor gain: -0.47   critic loss: 0.42   steps: 240\n"
     ]
    },
    {
     "name": "stderr",
     "output_type": "stream",
     "text": [
      "training loop:   0% |                                  | ETA:  38 days, 4:42:07\r"
     ]
    },
    {
     "name": "stdout",
     "output_type": "stream",
     "text": [
      "Episode: 241   score: 7.79   Avg score (100e): 6.62   actor gain: -0.47   critic loss: 0.42   steps: 241\n"
     ]
    },
    {
     "name": "stderr",
     "output_type": "stream",
     "text": [
      "training loop:   0% |                                  | ETA:  38 days, 4:18:13\r"
     ]
    },
    {
     "name": "stdout",
     "output_type": "stream",
     "text": [
      "Episode: 242   score: 7.80   Avg score (100e): 6.64   actor gain: -0.47   critic loss: 0.42   steps: 242\n"
     ]
    },
    {
     "name": "stderr",
     "output_type": "stream",
     "text": [
      "training loop:   0% |                                  | ETA:  38 days, 3:46:52\r"
     ]
    },
    {
     "name": "stdout",
     "output_type": "stream",
     "text": [
      "Episode: 243   score: 7.83   Avg score (100e): 6.66   actor gain: -0.47   critic loss: 0.42   steps: 243\n"
     ]
    },
    {
     "name": "stderr",
     "output_type": "stream",
     "text": [
      "training loop:   0% |                                  | ETA:  38 days, 3:21:33\r"
     ]
    },
    {
     "name": "stdout",
     "output_type": "stream",
     "text": [
      "Episode: 244   score: 7.84   Avg score (100e): 6.68   actor gain: -0.47   critic loss: 0.42   steps: 244\n"
     ]
    },
    {
     "name": "stderr",
     "output_type": "stream",
     "text": [
      "training loop:   0% |                                  | ETA:  38 days, 3:04:13\r"
     ]
    },
    {
     "name": "stdout",
     "output_type": "stream",
     "text": [
      "Episode: 245   score: 7.88   Avg score (100e): 6.70   actor gain: -0.47   critic loss: 0.42   steps: 245\n"
     ]
    },
    {
     "name": "stderr",
     "output_type": "stream",
     "text": [
      "training loop:   0% |                                  | ETA:  38 days, 2:38:28\r"
     ]
    },
    {
     "name": "stdout",
     "output_type": "stream",
     "text": [
      "Episode: 246   score: 7.91   Avg score (100e): 6.72   actor gain: -0.47   critic loss: 0.42   steps: 246\n"
     ]
    },
    {
     "name": "stderr",
     "output_type": "stream",
     "text": [
      "training loop:   0% |                                  | ETA:  38 days, 2:15:09\r"
     ]
    },
    {
     "name": "stdout",
     "output_type": "stream",
     "text": [
      "Episode: 247   score: 7.92   Avg score (100e): 6.75   actor gain: -0.47   critic loss: 0.42   steps: 247\n"
     ]
    },
    {
     "name": "stderr",
     "output_type": "stream",
     "text": [
      "training loop:   0% |                                  | ETA:  38 days, 1:46:47\r"
     ]
    },
    {
     "name": "stdout",
     "output_type": "stream",
     "text": [
      "Episode: 248   score: 7.96   Avg score (100e): 6.77   actor gain: -0.47   critic loss: 0.42   steps: 248\n"
     ]
    },
    {
     "name": "stderr",
     "output_type": "stream",
     "text": [
      "training loop:   0% |                                  | ETA:  38 days, 1:16:06\r"
     ]
    },
    {
     "name": "stdout",
     "output_type": "stream",
     "text": [
      "Episode: 249   score: 7.98   Avg score (100e): 6.79   actor gain: -0.46   critic loss: 0.42   steps: 249\n"
     ]
    },
    {
     "name": "stderr",
     "output_type": "stream",
     "text": [
      "training loop:   0% |                                  | ETA:  38 days, 0:46:15\r"
     ]
    },
    {
     "name": "stdout",
     "output_type": "stream",
     "text": [
      "Episode: 250   score: 7.99   Avg score (100e): 6.81   actor gain: -0.47   critic loss: 0.41   steps: 250\n"
     ]
    },
    {
     "name": "stderr",
     "output_type": "stream",
     "text": [
      "training loop:   0% |                                  | ETA:  38 days, 0:14:02\r"
     ]
    },
    {
     "name": "stdout",
     "output_type": "stream",
     "text": [
      "Episode: 251   score: 8.01   Avg score (100e): 6.83   actor gain: -0.47   critic loss: 0.41   steps: 251\n"
     ]
    },
    {
     "name": "stderr",
     "output_type": "stream",
     "text": [
      "training loop:   0% |                                 | ETA:  37 days, 23:50:33\r"
     ]
    },
    {
     "name": "stdout",
     "output_type": "stream",
     "text": [
      "Episode: 252   score: 8.03   Avg score (100e): 6.85   actor gain: -0.47   critic loss: 0.41   steps: 252\n"
     ]
    },
    {
     "name": "stderr",
     "output_type": "stream",
     "text": [
      "training loop:   0% |                                 | ETA:  37 days, 23:34:47\r"
     ]
    },
    {
     "name": "stdout",
     "output_type": "stream",
     "text": [
      "Episode: 253   score: 8.06   Avg score (100e): 6.87   actor gain: -0.47   critic loss: 0.41   steps: 253\n"
     ]
    },
    {
     "name": "stderr",
     "output_type": "stream",
     "text": [
      "training loop:   0% |                                 | ETA:  37 days, 23:08:16\r"
     ]
    },
    {
     "name": "stdout",
     "output_type": "stream",
     "text": [
      "Episode: 254   score: 8.09   Avg score (100e): 6.89   actor gain: -0.46   critic loss: 0.41   steps: 254\n"
     ]
    },
    {
     "name": "stderr",
     "output_type": "stream",
     "text": [
      "training loop:   0% |                                 | ETA:  37 days, 22:48:52\r"
     ]
    },
    {
     "name": "stdout",
     "output_type": "stream",
     "text": [
      "Episode: 255   score: 8.12   Avg score (100e): 6.92   actor gain: -0.46   critic loss: 0.41   steps: 255\n"
     ]
    },
    {
     "name": "stderr",
     "output_type": "stream",
     "text": [
      "training loop:   0% |                                 | ETA:  37 days, 22:24:38\r"
     ]
    },
    {
     "name": "stdout",
     "output_type": "stream",
     "text": [
      "Episode: 256   score: 8.14   Avg score (100e): 6.94   actor gain: -0.46   critic loss: 0.41   steps: 256\n"
     ]
    },
    {
     "name": "stderr",
     "output_type": "stream",
     "text": [
      "training loop:   0% |                                 | ETA:  37 days, 22:02:03\r"
     ]
    },
    {
     "name": "stdout",
     "output_type": "stream",
     "text": [
      "Episode: 257   score: 8.16   Avg score (100e): 6.96   actor gain: -0.46   critic loss: 0.42   steps: 257\n"
     ]
    },
    {
     "name": "stderr",
     "output_type": "stream",
     "text": [
      "training loop:   0% |                                 | ETA:  37 days, 21:35:46\r"
     ]
    },
    {
     "name": "stdout",
     "output_type": "stream",
     "text": [
      "Episode: 258   score: 8.15   Avg score (100e): 6.98   actor gain: -0.46   critic loss: 0.42   steps: 258\n"
     ]
    },
    {
     "name": "stderr",
     "output_type": "stream",
     "text": [
      "training loop:   0% |                                 | ETA:  37 days, 21:14:01\r"
     ]
    },
    {
     "name": "stdout",
     "output_type": "stream",
     "text": [
      "Episode: 259   score: 8.18   Avg score (100e): 7.00   actor gain: -0.54   critic loss: 0.42   steps: 259\n"
     ]
    },
    {
     "name": "stderr",
     "output_type": "stream",
     "text": [
      "training loop:   0% |                                 | ETA:  37 days, 20:51:51\r"
     ]
    },
    {
     "name": "stdout",
     "output_type": "stream",
     "text": [
      "Episode: 260   score: 8.18   Avg score (100e): 7.02   actor gain: -0.54   critic loss: 0.42   steps: 260\n"
     ]
    },
    {
     "name": "stderr",
     "output_type": "stream",
     "text": [
      "training loop:   0% |                                 | ETA:  37 days, 20:33:56\r"
     ]
    },
    {
     "name": "stdout",
     "output_type": "stream",
     "text": [
      "Episode: 261   score: 8.21   Avg score (100e): 7.04   actor gain: -0.54   critic loss: 0.42   steps: 261\n"
     ]
    },
    {
     "name": "stderr",
     "output_type": "stream",
     "text": [
      "training loop:   0% |                                 | ETA:  37 days, 20:42:35\r"
     ]
    },
    {
     "name": "stdout",
     "output_type": "stream",
     "text": [
      "Episode: 262   score: 8.25   Avg score (100e): 7.06   actor gain: -0.54   critic loss: 0.42   steps: 262\n"
     ]
    },
    {
     "name": "stderr",
     "output_type": "stream",
     "text": [
      "training loop:   0% |                                 | ETA:  37 days, 20:27:19\r"
     ]
    },
    {
     "name": "stdout",
     "output_type": "stream",
     "text": [
      "Episode: 263   score: 8.28   Avg score (100e): 7.08   actor gain: -0.54   critic loss: 0.42   steps: 263\n"
     ]
    }
   ],
   "source": [
    "episode_max = 50000 # training loop max iterations\n",
    "episode_reward = 0.0\n",
    "mean_rewards = []\n",
    "e = 0\n",
    "\n",
    "widget = ['training loop: ', pb.Percentage(), ' ', \n",
    "          pb.Bar(), ' ', pb.ETA() ]\n",
    "\n",
    "#widget = ['Episode: ', pb.Counter(),'/',str(episode_max),'  ',  \n",
    "#          'eps reward: ', str(np.mean(episode_reward)) ,'  ',\n",
    "#          'Avg score (100e): ', str(mean_rewards[-100:]) ,'  ',\n",
    "#          'actor gain: ', str(np.mean(agent.actor_gain)) ,'  ',\n",
    "#          'critic loss: ', str(np.mean(agent.critic_loss)) ,'  ',\n",
    "#           pb.ETA(), ' ', pb.Bar(marker=pb.RotatingMarker()), '  ' ]\n",
    "\n",
    "timer = pb.ProgressBar(widgets=widget, maxval=episode_max).start()\n",
    "\n",
    "\n",
    "while e < episode_max:\n",
    "\n",
    "    # collect trajectories\n",
    "    agent.step()\n",
    "    episode_reward = agent.episodic_rewards\n",
    "    \n",
    "    # display some progress every 20 iterations\n",
    "    if agent.is_training:\n",
    "\n",
    "        # get the average reward of the parallel environments\n",
    "        mean_rewards.append(np.mean(episode_reward))        \n",
    "        \n",
    "        if (e+1)%1==0 :\n",
    "            print(\"Episode: {}   score: {:.2f}   Avg score (100e): {:.2f}   \"\n",
    "                  \"actor gain: {:.2f}   critic loss: {:.2f}   steps: {}\".format(e+1, np.mean(episode_reward),\n",
    "                                                                         np.mean(mean_rewards[-100:]),\n",
    "                                                                         np.mean(agent.actor_gain), \n",
    "                                                                         np.mean(agent.critic_loss),\n",
    "                                                                         agent.t_step))\n",
    "            \n",
    "        if np.mean(mean_rewards[-100:]) >= 100:\n",
    "            print(\"Average score over all agents across 100th episodes > 100. Problem Solved!\")\n",
    "            break\n",
    "                \n",
    "        timer.update(e)\n",
    "        \n",
    "        e += 1\n",
    "    else:\n",
    "        print('\\rFetching experiences... {} '.format(len(agent.memory.memory)), end=\"\")\n",
    "        \n",
    "    #update progress widget bar\n",
    "    #timer.update(e+1)\n",
    "    \n",
    "timer.finish()"
   ]
  },
  {
   "cell_type": "code",
   "execution_count": null,
   "metadata": {},
   "outputs": [],
   "source": []
  },
  {
   "cell_type": "code",
   "execution_count": null,
   "metadata": {},
   "outputs": [],
   "source": [
    "saveTrainedModel(agent, model_dir + model_name)"
   ]
  },
  {
   "cell_type": "code",
   "execution_count": null,
   "metadata": {},
   "outputs": [],
   "source": [
    "# plot the scores\n",
    "import matplotlib.pyplot as plt\n",
    "%matplotlib inline\n",
    "\n",
    "fig = plt.figure()\n",
    "ax = fig.add_subplot(111)\n",
    "plt.plot(np.arange(len(mean_rewards)), mean_rewards)\n",
    "plt.ylabel('Score')\n",
    "plt.xlabel('Episode #')\n",
    "plt.show()"
   ]
  },
  {
   "cell_type": "code",
   "execution_count": null,
   "metadata": {},
   "outputs": [],
   "source": []
  },
  {
   "cell_type": "code",
   "execution_count": null,
   "metadata": {},
   "outputs": [],
   "source": [
    "scores = np.zeros(num_agents)                # initialize the score (for each agent)\n",
    "for _ in range(10):\n",
    "    agent.step(train_mode=False)             # lower eps and train_mode=False\n",
    "    episode_reward = agent.running_rewards\n",
    "    scores += episode_reward                 # update the score (for each agent)\n",
    "print('Total score (averaged over agents) this episode: {}'.format(np.mean(scores)))"
   ]
  },
  {
   "cell_type": "code",
   "execution_count": null,
   "metadata": {},
   "outputs": [],
   "source": [
    "env.close()"
   ]
  },
  {
   "cell_type": "code",
   "execution_count": null,
   "metadata": {},
   "outputs": [],
   "source": []
  },
  {
   "cell_type": "code",
   "execution_count": null,
   "metadata": {},
   "outputs": [],
   "source": []
  }
 ],
 "metadata": {
  "kernelspec": {
   "display_name": "Python 3",
   "language": "python",
   "name": "python3"
  },
  "language_info": {
   "codemirror_mode": {
    "name": "ipython",
    "version": 3
   },
   "file_extension": ".py",
   "mimetype": "text/x-python",
   "name": "python",
   "nbconvert_exporter": "python",
   "pygments_lexer": "ipython3",
   "version": "3.5.5"
  }
 },
 "nbformat": 4,
 "nbformat_minor": 2
}
