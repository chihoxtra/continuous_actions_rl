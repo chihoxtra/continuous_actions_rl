{
 "cells": [
  {
   "cell_type": "markdown",
   "metadata": {},
   "source": [
    "# [DEV][PPO] Crawler\n",
    "\n",
    "---\n",
    "\n",
    "In this notebook, you will learn how to use the Unity ML-Agents environment for the second project of the [Deep Reinforcement Learning Nanodegree](https://www.udacity.com/course/deep-reinforcement-learning-nanodegree--nd893) program.\n",
    "\n",
    "### 1. Start the Environment\n",
    "\n",
    "We begin by importing the necessary packages.  If the code cell below returns an error, please revisit the project instructions to double-check that you have installed [Unity ML-Agents](https://github.com/Unity-Technologies/ml-agents/blob/master/docs/Installation.md) and [NumPy](http://www.numpy.org/)."
   ]
  },
  {
   "cell_type": "code",
   "execution_count": 1,
   "metadata": {},
   "outputs": [],
   "source": [
    "from unityagents import UnityEnvironment\n",
    "import torch\n",
    "import torch.nn as nn\n",
    "import torch.nn.functional as F\n",
    "import numpy as np\n",
    "\n",
    "# widget bar to display progress\n",
    "#!pip install progressbar\n",
    "import progressbar as pb"
   ]
  },
  {
   "cell_type": "markdown",
   "metadata": {},
   "source": [
    "Next, we will start the environment!  **_Before running the code cell below_**, change the `file_name` parameter to match the location of the Unity environment that you downloaded.\n",
    "\n",
    "- **Mac**: `\"path/to/Reacher.app\"`\n",
    "- **Windows** (x86): `\"path/to/Reacher_Windows_x86/Reacher.exe\"`\n",
    "- **Windows** (x86_64): `\"path/to/Reacher_Windows_x86_64/Reacher.exe\"`\n",
    "- **Linux** (x86): `\"path/to/Reacher_Linux/Reacher.x86\"`\n",
    "- **Linux** (x86_64): `\"path/to/Reacher_Linux/Reacher.x86_64\"`\n",
    "- **Linux** (x86, headless): `\"path/to/Reacher_Linux_NoVis/Reacher.x86\"`\n",
    "- **Linux** (x86_64, headless): `\"path/to/Reacher_Linux_NoVis/Reacher.x86_64\"`\n",
    "\n",
    "For instance, if you are using a Mac, then you downloaded `Reacher.app`.  If this file is in the same folder as the notebook, then the line below should appear as follows:\n",
    "```\n",
    "env = UnityEnvironment(file_name=\"Reacher.app\")\n",
    "```"
   ]
  },
  {
   "cell_type": "code",
   "execution_count": 2,
   "metadata": {},
   "outputs": [
    {
     "name": "stderr",
     "output_type": "stream",
     "text": [
      "INFO:unityagents:\n",
      "'Academy' started successfully!\n",
      "Unity Academy name: Academy\n",
      "        Number of Brains: 1\n",
      "        Number of External Brains : 1\n",
      "        Lesson number : 0\n",
      "        Reset Parameters :\n",
      "\t\t\n",
      "Unity brain name: CrawlerBrain\n",
      "        Number of Visual Observations (per agent): 0\n",
      "        Vector Observation space type: continuous\n",
      "        Vector Observation space size (per agent): 129\n",
      "        Number of stacked Vector Observation: 1\n",
      "        Vector Action space type: continuous\n",
      "        Vector Action space size (per agent): 20\n",
      "        Vector Action descriptions: , , , , , , , , , , , , , , , , , , , \n"
     ]
    }
   ],
   "source": [
    "env = UnityEnvironment(file_name='Crawler.app', worker_id=101,  no_graphics=True)\n",
    "#env = UnityEnvironment(file_name='Reacher.app')"
   ]
  },
  {
   "cell_type": "markdown",
   "metadata": {},
   "source": [
    "Environments contain **_brains_** which are responsible for deciding the actions of their associated agents. Here we check for the first brain available, and set it as the default brain we will be controlling from Python."
   ]
  },
  {
   "cell_type": "markdown",
   "metadata": {},
   "source": [
    "### 2. Examine the State and Action Spaces\n",
    "\n",
    "In this environment, a double-jointed arm can move to target locations. A reward of `+0.1` is provided for each step that the agent's hand is in the goal location. Thus, the goal of your agent is to maintain its position at the target location for as many time steps as possible.\n",
    "\n",
    "The observation space consists of `33` variables corresponding to position, rotation, velocity, and angular velocities of the arm.  Each action is a vector with four numbers, corresponding to torque applicable to two joints.  Every entry in the action vector must be a number between `-1` and `1`.\n",
    "\n",
    "Run the code cell below to print some information about the environment."
   ]
  },
  {
   "cell_type": "code",
   "execution_count": 3,
   "metadata": {},
   "outputs": [
    {
     "name": "stdout",
     "output_type": "stream",
     "text": [
      "Name of brain: CrawlerBrain\n",
      "Number of agents: 12\n",
      "Size of each action: 20\n",
      "There are 12 agents. Each observes a state with length: 129\n",
      "The state for the first agent looks like: [ 0.00000000e+00  0.00000000e+00  0.00000000e+00  2.25000000e+00\n",
      "  1.00000000e+00  0.00000000e+00  1.78813934e-07  0.00000000e+00\n",
      "  1.00000000e+00  0.00000000e+00  0.00000000e+00  0.00000000e+00\n",
      "  0.00000000e+00  0.00000000e+00  0.00000000e+00  0.00000000e+00\n",
      "  0.00000000e+00  0.00000000e+00  0.00000000e+00  0.00000000e+00\n",
      "  0.00000000e+00  0.00000000e+00  0.00000000e+00  0.00000000e+00\n",
      "  6.06093168e-01 -1.42857209e-01 -6.06078804e-01  0.00000000e+00\n",
      "  0.00000000e+00  0.00000000e+00  0.00000000e+00  0.00000000e+00\n",
      "  0.00000000e+00  0.00000000e+00  0.00000000e+00  0.00000000e+00\n",
      "  0.00000000e+00  0.00000000e+00  1.33339906e+00 -1.42857209e-01\n",
      " -1.33341408e+00  0.00000000e+00  0.00000000e+00  0.00000000e+00\n",
      "  0.00000000e+00  0.00000000e+00  0.00000000e+00  0.00000000e+00\n",
      "  0.00000000e+00  0.00000000e+00  0.00000000e+00  0.00000000e+00\n",
      " -6.06093347e-01 -1.42857209e-01 -6.06078625e-01  0.00000000e+00\n",
      "  0.00000000e+00  0.00000000e+00  0.00000000e+00  0.00000000e+00\n",
      "  0.00000000e+00  0.00000000e+00  0.00000000e+00  0.00000000e+00\n",
      "  0.00000000e+00  0.00000000e+00 -1.33339953e+00 -1.42857209e-01\n",
      " -1.33341372e+00  0.00000000e+00  0.00000000e+00  0.00000000e+00\n",
      "  0.00000000e+00  0.00000000e+00  0.00000000e+00  0.00000000e+00\n",
      "  0.00000000e+00  0.00000000e+00  0.00000000e+00  0.00000000e+00\n",
      " -6.06093168e-01 -1.42857209e-01  6.06078804e-01  0.00000000e+00\n",
      "  0.00000000e+00  0.00000000e+00  0.00000000e+00  0.00000000e+00\n",
      "  0.00000000e+00  0.00000000e+00  0.00000000e+00  0.00000000e+00\n",
      "  0.00000000e+00  0.00000000e+00 -1.33339906e+00 -1.42857209e-01\n",
      "  1.33341408e+00  0.00000000e+00  0.00000000e+00  0.00000000e+00\n",
      "  0.00000000e+00  0.00000000e+00  0.00000000e+00  0.00000000e+00\n",
      "  0.00000000e+00  0.00000000e+00  0.00000000e+00  0.00000000e+00\n",
      "  6.06093347e-01 -1.42857209e-01  6.06078625e-01  0.00000000e+00\n",
      "  0.00000000e+00  0.00000000e+00  0.00000000e+00  0.00000000e+00\n",
      "  0.00000000e+00  0.00000000e+00  0.00000000e+00  0.00000000e+00\n",
      "  0.00000000e+00  0.00000000e+00  1.33339953e+00 -1.42857209e-01\n",
      "  1.33341372e+00  0.00000000e+00  0.00000000e+00  0.00000000e+00\n",
      "  0.00000000e+00]\n"
     ]
    }
   ],
   "source": [
    "# get the default brain\n",
    "brain_name = env.brain_names[0]\n",
    "brain = env.brains[brain_name]\n",
    "\n",
    "# reset the environment\n",
    "env_info = env.reset(train_mode=True)[brain_name]\n",
    "\n",
    "# name of brain\n",
    "print('Name of brain:', brain_name)\n",
    "\n",
    "# number of agents\n",
    "num_agents = len(env_info.agents)\n",
    "print('Number of agents:', num_agents)\n",
    "\n",
    "# size of each action\n",
    "action_size = brain.vector_action_space_size\n",
    "print('Size of each action:', action_size)\n",
    "\n",
    "# examine the state space \n",
    "states = env_info.vector_observations\n",
    "state_size = states.shape[1]\n",
    "print('There are {} agents. Each observes a state with length: {}'.format(states.shape[0], state_size))\n",
    "print('The state for the first agent looks like:', states[0])"
   ]
  },
  {
   "cell_type": "markdown",
   "metadata": {},
   "source": [
    "### 3. Take Random Actions in the Environment\n",
    "\n",
    "In the next code cell, you will learn how to use the Python API to control the agent and receive feedback from the environment.\n",
    "\n",
    "Once this cell is executed, you will watch the agent's performance, if it selects an action at random with each time step.  A window should pop up that allows you to observe the agent, as it moves through the environment.  \n",
    "\n",
    "Of course, as part of the project, you'll have to change the code so that the agent is able to use its experience to gradually choose better actions when interacting with the environment!"
   ]
  },
  {
   "cell_type": "code",
   "execution_count": 4,
   "metadata": {},
   "outputs": [
    {
     "name": "stdout",
     "output_type": "stream",
     "text": [
      "Total score (averaged over agents) this episode: -0.03316787451816102\n"
     ]
    }
   ],
   "source": [
    "env_info = env.reset(train_mode=False)[brain_name]     # reset the environment    \n",
    "states = env_info.vector_observations                  # get the current state (for each agent)\n",
    "scores = np.zeros(num_agents)                          # initialize the score (for each agent)\n",
    "t = 0                                                  # keep track of the trajectory\n",
    "while True:\n",
    "    actions = np.random.randn(num_agents, action_size) # select an action (for each agent)\n",
    "    actions = np.clip(actions, -1, 1)                  # all actions between -1 and 1\n",
    "    env_info = env.step(actions)[brain_name]           # send all actions to tne environment\n",
    "    next_states = env_info.vector_observations         # get next state (for each agent)\n",
    "    rewards = env_info.rewards                         # get reward (for each agent)\n",
    "    dones = env_info.local_done                        # see if episode finished\n",
    "    scores += env_info.rewards                         # update the score (for each agent)\n",
    "    states = next_states                               # roll over states to next time step\n",
    "    if np.any(dones):                                  # exit loop if episode finished\n",
    "        break\n",
    "print('Total score (averaged over agents) this episode: {}'.format(np.mean(scores)))\n",
    "#env.close()"
   ]
  },
  {
   "cell_type": "markdown",
   "metadata": {},
   "source": [
    "### 4. It's Your Turn!\n",
    "\n",
    "Now it's your turn to train your own agent to solve the environment!  When training the environment, set `train_mode=True`, so that the line for resetting the environment looks like the following:\n",
    "```python\n",
    "env_info = env.reset(train_mode=True)[brain_name]\n",
    "```"
   ]
  },
  {
   "cell_type": "code",
   "execution_count": 5,
   "metadata": {},
   "outputs": [],
   "source": [
    "def saveTrainedModel(agent, path):\n",
    "    state_dicts = {'actor_model': agent.model_local.actor.state_dict(),\n",
    "                   'critic_model': agent.model_local.critic.state_dict()}\n",
    "    torch.save(state_dicts, path)\n",
    "    \n",
    "def loadTrainedModel(agent, path):\n",
    "    state_dicts = torch.load(path,map_location={'cuda:0': 'cpu'})\n",
    "\n",
    "    agent.model_local.actor.load_state_dict(state_dicts['actor_model'])\n",
    "    agent.model_local.critic.load_state_dict(state_dicts['critic_model'])\n",
    "    \n",
    "    return agent"
   ]
  },
  {
   "cell_type": "code",
   "execution_count": 6,
   "metadata": {},
   "outputs": [
    {
     "name": "stdout",
     "output_type": "stream",
     "text": [
      "current device:  cpu\n"
     ]
    }
   ],
   "source": [
    "from PPO_agent import PPO_Agent\n",
    "#import PPO_util \n",
    "\n",
    "model_dir = 'saved_models/'\n",
    "model_name = 'unity_continuous_' + str(brain_name) + '_' + str(num_agents) + '_maxscore' + '_agents.pt'\n",
    "\n",
    "agent = PPO_Agent(env, state_size, action_size, num_agents=num_agents, seed=0)\n",
    "#agent = loadTrainedModel(agent, model_dir+model_name)"
   ]
  },
  {
   "cell_type": "code",
   "execution_count": null,
   "metadata": {
    "scrolled": false
   },
   "outputs": [
    {
     "name": "stdout",
     "output_type": "stream",
     "text": [
      "Fetching experiences... 24000 Prefetch completed. Training starts! \n",
      "Number of Agents:  12\n",
      "Device:  cpu\n",
      "e: 5  score: 52.09  Avg score(100e): 50.21  A(g): -0.07  C(l): 0.12  std: 1.00  steps: 1000\n",
      "e: 10  score: 55.67  Avg score(100e): 52.23  A(g): -0.08  C(l): 0.12  std: 1.00  steps: 1000\n",
      "e: 15  score: 58.71  Avg score(100e): 53.95  A(g): -0.09  C(l): 0.12  std: 1.00  steps: 1000\n",
      "e: 20  score: 61.53  Avg score(100e): 55.56  A(g): -0.10  C(l): 0.11  std: 0.99  steps: 1000\n",
      "e: 25  score: 64.91  Avg score(100e): 57.13  A(g): -0.11  C(l): 0.11  std: 0.99  steps: 1000\n",
      "e: 30  score: 67.66  Avg score(100e): 58.70  A(g): -0.12  C(l): 0.10  std: 0.99  steps: 1000\n",
      "e: 35  score: 69.69  Avg score(100e): 60.14  A(g): -0.12  C(l): 0.06  std: 0.99  steps: 1000\n",
      "e: 40  score: 71.79  Avg score(100e): 61.49  A(g): -0.13  C(l): 0.03  std: 0.99  steps: 1000\n",
      "e: 45  score: 74.74  Avg score(100e): 62.84  A(g): -0.13  C(l): 0.03  std: 0.99  steps: 1000\n",
      "e: 50  score: 78.05  Avg score(100e): 64.23  A(g): -0.14  C(l): 0.03  std: 0.98  steps: 1000\n",
      "e: 55  score: 81.58  Avg score(100e): 65.68  A(g): -0.15  C(l): 0.04  std: 0.98  steps: 1000\n",
      "e: 60  score: 85.28  Avg score(100e): 67.19  A(g): -0.15  C(l): 0.04  std: 0.98  steps: 1000\n",
      "e: 65  score: 88.54  Avg score(100e): 68.74  A(g): -0.16  C(l): 0.04  std: 0.98  steps: 1000\n",
      "e: 70  score: 92.09  Avg score(100e): 70.30  A(g): -0.15  C(l): 0.04  std: 0.98  steps: 1000\n",
      "e: 75  score: 96.26  Avg score(100e): 71.92  A(g): -0.15  C(l): 0.05  std: 0.98  steps: 1000\n",
      "e: 80  score: 100.68  Avg score(100e): 73.60  A(g): -0.17  C(l): 0.06  std: 0.97  steps: 1000\n",
      "e: 85  score: 105.21  Avg score(100e): 75.35  A(g): -0.17  C(l): 0.07  std: 0.97  steps: 1000\n",
      "e: 90  score: 110.96  Avg score(100e): 77.21  A(g): -0.17  C(l): 0.07  std: 0.97  steps: 1000\n",
      "e: 95  score: 117.95  Avg score(100e): 79.22  A(g): -0.17  C(l): 0.08  std: 0.97  steps: 1005\n",
      "e: 100  score: 124.20  Avg score(100e): 81.35  A(g): -0.17  C(l): 0.08  std: 0.97  steps: 1005\n",
      "e: 105  score: 129.54  Avg score(100e): 85.20  A(g): -0.17  C(l): 0.08  std: 0.97  steps: 1005\n",
      "e: 110  score: 135.57  Avg score(100e): 89.17  A(g): -0.16  C(l): 0.08  std: 0.96  steps: 1010\n",
      "e: 115  score: 140.02  Avg score(100e): 93.21  A(g): -0.17  C(l): 0.08  std: 0.96  steps: 1010\n",
      "e: 120  score: 144.37  Avg score(100e): 97.32  A(g): -0.17  C(l): 0.08  std: 0.96  steps: 1010\n",
      "e: 125  score: 147.97  Avg score(100e): 101.48  A(g): -0.16  C(l): 0.08  std: 0.96  steps: 1010\n",
      "e: 130  score: 150.75  Avg score(100e): 105.64  A(g): -0.16  C(l): 0.08  std: 0.96  steps: 1010\n",
      "e: 135  score: 155.10  Avg score(100e): 109.85  A(g): -0.16  C(l): 0.08  std: 0.96  steps: 1020\n",
      "e: 140  score: 158.04  Avg score(100e): 114.14  A(g): -0.15  C(l): 0.08  std: 0.95  steps: 1020\n",
      "e: 145  score: 161.06  Avg score(100e): 118.45  A(g): -0.15  C(l): 0.08  std: 0.95  steps: 1025\n",
      "e: 150  score: 164.27  Avg score(100e): 122.76  A(g): -0.15  C(l): 0.08  std: 0.95  steps: 1030\n",
      "e: 155  score: 166.69  Avg score(100e): 127.03  A(g): -0.15  C(l): 0.08  std: 0.95  steps: 1030\n",
      "e: 160  score: 168.62  Avg score(100e): 131.23  A(g): -0.14  C(l): 0.08  std: 0.95  steps: 1030\n",
      "e: 165  score: 171.90  Avg score(100e): 135.39  A(g): -0.15  C(l): 0.09  std: 0.95  steps: 1040\n",
      "e: 170  score: 174.46  Avg score(100e): 139.52  A(g): -0.18  C(l): 0.08  std: 0.94  steps: 1050\n",
      "e: 175  score: 176.83  Avg score(100e): 143.57  A(g): -0.19  C(l): 0.08  std: 0.94  steps: 1055\n",
      "e: 180  score: 179.45  Avg score(100e): 147.56  A(g): -0.16  C(l): 0.10  std: 0.94  steps: 1060\n",
      "e: 185  score: 181.64  Avg score(100e): 151.44  A(g): -0.15  C(l): 0.09  std: 0.94  steps: 1065\n",
      "e: 190  score: 183.32  Avg score(100e): 155.13  A(g): -0.16  C(l): 0.09  std: 0.94  steps: 1065\n",
      "e: 195  score: 185.60  Avg score(100e): 158.59  A(g): -0.16  C(l): 0.10  std: 0.94  steps: 1065\n",
      "e: 200  score: 186.69  Avg score(100e): 161.82  A(g): -0.17  C(l): 0.10  std: 0.93  steps: 1070\n",
      "e: 205  score: 189.89  Avg score(100e): 164.89  A(g): -0.17  C(l): 0.14  std: 0.93  steps: 1085\n",
      "e: 210  score: 190.80  Avg score(100e): 167.73  A(g): -0.19  C(l): 0.14  std: 0.93  steps: 1080\n",
      "e: 215  score: 193.32  Avg score(100e): 170.44  A(g): -0.17  C(l): 0.14  std: 0.93  steps: 1085\n",
      "e: 220  score: 196.23  Avg score(100e): 173.07  A(g): -0.15  C(l): 0.11  std: 0.93  steps: 1095\n",
      "e: 225  score: 199.50  Avg score(100e): 175.66  A(g): -0.15  C(l): 0.11  std: 0.93  steps: 1105\n",
      "e: 230  score: 200.83  Avg score(100e): 178.18  A(g): -0.14  C(l): 0.11  std: 0.92  steps: 1105\n"
     ]
    }
   ],
   "source": [
    "episode_max = 10000 # training loop max iterations\n",
    "episode_reward = 0.0\n",
    "mean_rewards = []\n",
    "max_score = -np.inf\n",
    "e = 0\n",
    "\n",
    "widget = ['training loop: ', pb.Percentage(), ' ', \n",
    "          pb.Bar(), ' ', pb.ETA() ]\n",
    "\n",
    "#widget = ['Episode: ', pb.Counter(),'/',str(episode_max),'  ',  \n",
    "#          'eps reward: ', str(np.mean(episode_reward)) ,'  ',\n",
    "#          'Avg score (100e): ', str(mean_rewards[-100:]) ,'  ',\n",
    "#          'actor gain: ', str(np.mean(agent.actor_gain)) ,'  ',\n",
    "#          'critic loss: ', str(np.mean(agent.critic_loss)) ,'  ',\n",
    "#           pb.ETA(), ' ', pb.Bar(marker=pb.RotatingMarker()), '  ' ]\n",
    "\n",
    "#timer = pb.ProgressBar(widgets=widget, maxval=episode_max).start()\n",
    "\n",
    "\n",
    "while e < episode_max:\n",
    "\n",
    "    # collect trajectories\n",
    "    agent.step()\n",
    "    episode_reward = agent.episodic_rewards\n",
    "\n",
    "    # display some progress every 20 iterations\n",
    "    if agent.is_training:\n",
    "\n",
    "        # get the average reward of the parallel environments\n",
    "        mean_rewards.append(np.mean(episode_reward))        \n",
    "        \n",
    "        if (e+1)%5==0 :\n",
    "            print(\"e: {}  score: {:.2f}  Avg score(100e): {:.2f}  \"\n",
    "                  \"A(g): {:.2f}  C(l): {:.2f}  std: {:.2f}  steps: {}\".format(e+1, np.mean(episode_reward),\n",
    "                                                                              np.mean(mean_rewards[-100:]),\n",
    "                                                                              np.mean(agent.actor_gain_hist), \n",
    "                                                                              np.mean(agent.critic_loss_hist),\n",
    "                                                                              agent.std_scale, \n",
    "                                                                              int(np.mean(agent.total_steps))))\n",
    "        if np.mean(mean_rewards[-100:]) > max_score:\n",
    "            max_score = np.mean(mean_rewards[-100:])\n",
    "            saveTrainedModel(agent, model_dir + model_name)\n",
    "            \n",
    "        if np.mean(mean_rewards[-100:]) >= 2000:\n",
    "            print(\"Average score over all agents across 100th episodes > 2000. Problem Solved!\")\n",
    "            break\n",
    "                \n",
    "        #timer.update(e)\n",
    "        \n",
    "        e += 1\n",
    "    else:\n",
    "        print('\\rFetching experiences... {} '.format(len(agent.memory.memory)), end=\"\")\n",
    "        \n",
    "    #update progress widget bar\n",
    "    #timer.update(e+1)\n",
    "    \n",
    "#timer.finish()"
   ]
  },
  {
   "cell_type": "code",
   "execution_count": null,
   "metadata": {},
   "outputs": [],
   "source": []
  },
  {
   "cell_type": "code",
   "execution_count": null,
   "metadata": {},
   "outputs": [],
   "source": []
  },
  {
   "cell_type": "code",
   "execution_count": null,
   "metadata": {},
   "outputs": [],
   "source": [
    "saveTrainedModel(agent, model_dir + model_name)"
   ]
  },
  {
   "cell_type": "code",
   "execution_count": null,
   "metadata": {},
   "outputs": [],
   "source": [
    "# plot the scores\n",
    "import matplotlib.pyplot as plt\n",
    "%matplotlib inline\n",
    "\n",
    "fig = plt.figure()\n",
    "ax = fig.add_subplot(111)\n",
    "plt.plot(np.arange(len(mean_rewards)), mean_rewards)\n",
    "plt.ylabel('Score')\n",
    "plt.xlabel('Episode #')\n",
    "plt.show()"
   ]
  },
  {
   "cell_type": "code",
   "execution_count": null,
   "metadata": {},
   "outputs": [],
   "source": []
  },
  {
   "cell_type": "code",
   "execution_count": 10,
   "metadata": {},
   "outputs": [
    {
     "name": "stdout",
     "output_type": "stream",
     "text": [
      "56.329058099499285\n",
      "57.3805200048179\n",
      "56.12759944982827\n",
      "56.27584464161191\n",
      "56.73528918251395\n",
      "54.943618235488735\n",
      "57.176575283519924\n",
      "56.28407214644054\n",
      "56.90771629707888\n",
      "56.7680952391432\n",
      "Total score (averaged over agents) this episode: 564.9283885799426\n"
     ]
    }
   ],
   "source": [
    "scores = np.zeros(num_agents)                # initialize the score (for each agent)\n",
    "for _ in range(10):\n",
    "    agent.step(train_mode=False)             # lower eps and train_mode=False\n",
    "    episode_reward = agent.running_rewards\n",
    "    scores += episode_reward                 # update the score (for each agent)\n",
    "   \n",
    "print('Total score (averaged over agents) this episode: {}'.format(np.mean(scores)))"
   ]
  },
  {
   "cell_type": "code",
   "execution_count": 8,
   "metadata": {},
   "outputs": [],
   "source": [
    "env.close()"
   ]
  },
  {
   "cell_type": "code",
   "execution_count": null,
   "metadata": {},
   "outputs": [],
   "source": []
  },
  {
   "cell_type": "code",
   "execution_count": null,
   "metadata": {},
   "outputs": [],
   "source": []
  }
 ],
 "metadata": {
  "kernelspec": {
   "display_name": "Python 3",
   "language": "python",
   "name": "python3"
  },
  "language_info": {
   "codemirror_mode": {
    "name": "ipython",
    "version": 3
   },
   "file_extension": ".py",
   "mimetype": "text/x-python",
   "name": "python",
   "nbconvert_exporter": "python",
   "pygments_lexer": "ipython3",
   "version": "3.5.5"
  }
 },
 "nbformat": 4,
 "nbformat_minor": 2
}
