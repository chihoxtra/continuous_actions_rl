{
 "cells": [
  {
   "cell_type": "markdown",
   "metadata": {},
   "source": [
    "# [DEV][PPO] Continuous Control\n",
    "\n",
    "---\n",
    "\n",
    "In this notebook, you will learn how to use the Unity ML-Agents environment for the second project of the [Deep Reinforcement Learning Nanodegree](https://www.udacity.com/course/deep-reinforcement-learning-nanodegree--nd893) program.\n",
    "\n",
    "### 1. Start the Environment\n",
    "\n",
    "We begin by importing the necessary packages.  If the code cell below returns an error, please revisit the project instructions to double-check that you have installed [Unity ML-Agents](https://github.com/Unity-Technologies/ml-agents/blob/master/docs/Installation.md) and [NumPy](http://www.numpy.org/)."
   ]
  },
  {
   "cell_type": "code",
   "execution_count": 1,
   "metadata": {},
   "outputs": [],
   "source": [
    "from unityagents import UnityEnvironment\n",
    "import torch\n",
    "import numpy as np\n",
    "\n",
    "# widget bar to display progress\n",
    "#!pip install progressbar\n",
    "import progressbar as pb"
   ]
  },
  {
   "cell_type": "markdown",
   "metadata": {},
   "source": [
    "Next, we will start the environment!  **_Before running the code cell below_**, change the `file_name` parameter to match the location of the Unity environment that you downloaded.\n",
    "\n",
    "- **Mac**: `\"path/to/Reacher.app\"`\n",
    "- **Windows** (x86): `\"path/to/Reacher_Windows_x86/Reacher.exe\"`\n",
    "- **Windows** (x86_64): `\"path/to/Reacher_Windows_x86_64/Reacher.exe\"`\n",
    "- **Linux** (x86): `\"path/to/Reacher_Linux/Reacher.x86\"`\n",
    "- **Linux** (x86_64): `\"path/to/Reacher_Linux/Reacher.x86_64\"`\n",
    "- **Linux** (x86, headless): `\"path/to/Reacher_Linux_NoVis/Reacher.x86\"`\n",
    "- **Linux** (x86_64, headless): `\"path/to/Reacher_Linux_NoVis/Reacher.x86_64\"`\n",
    "\n",
    "For instance, if you are using a Mac, then you downloaded `Reacher.app`.  If this file is in the same folder as the notebook, then the line below should appear as follows:\n",
    "```\n",
    "env = UnityEnvironment(file_name=\"Reacher.app\")\n",
    "```"
   ]
  },
  {
   "cell_type": "code",
   "execution_count": 2,
   "metadata": {},
   "outputs": [
    {
     "name": "stderr",
     "output_type": "stream",
     "text": [
      "INFO:unityagents:\n",
      "'Academy' started successfully!\n",
      "Unity Academy name: Academy\n",
      "        Number of Brains: 1\n",
      "        Number of External Brains : 1\n",
      "        Lesson number : 0\n",
      "        Reset Parameters :\n",
      "\t\t\n",
      "Unity brain name: CrawlerBrain\n",
      "        Number of Visual Observations (per agent): 0\n",
      "        Vector Observation space type: continuous\n",
      "        Vector Observation space size (per agent): 129\n",
      "        Number of stacked Vector Observation: 1\n",
      "        Vector Action space type: continuous\n",
      "        Vector Action space size (per agent): 20\n",
      "        Vector Action descriptions: , , , , , , , , , , , , , , , , , , , \n"
     ]
    }
   ],
   "source": [
    "env = UnityEnvironment(file_name='Crawler.app')\n",
    "#env = UnityEnvironment(file_name='Reacher.app')"
   ]
  },
  {
   "cell_type": "markdown",
   "metadata": {},
   "source": [
    "Environments contain **_brains_** which are responsible for deciding the actions of their associated agents. Here we check for the first brain available, and set it as the default brain we will be controlling from Python."
   ]
  },
  {
   "cell_type": "markdown",
   "metadata": {},
   "source": [
    "### 2. Examine the State and Action Spaces\n",
    "\n",
    "In this environment, a double-jointed arm can move to target locations. A reward of `+0.1` is provided for each step that the agent's hand is in the goal location. Thus, the goal of your agent is to maintain its position at the target location for as many time steps as possible.\n",
    "\n",
    "The observation space consists of `33` variables corresponding to position, rotation, velocity, and angular velocities of the arm.  Each action is a vector with four numbers, corresponding to torque applicable to two joints.  Every entry in the action vector must be a number between `-1` and `1`.\n",
    "\n",
    "Run the code cell below to print some information about the environment."
   ]
  },
  {
   "cell_type": "code",
   "execution_count": 3,
   "metadata": {},
   "outputs": [
    {
     "name": "stdout",
     "output_type": "stream",
     "text": [
      "Name of brain: CrawlerBrain\n",
      "Number of agents: 12\n",
      "Size of each action: 20\n",
      "There are 12 agents. Each observes a state with length: 129\n",
      "The state for the first agent looks like: [ 0.00000000e+00  0.00000000e+00  0.00000000e+00  2.25000000e+00\n",
      "  1.00000000e+00  0.00000000e+00  1.78813934e-07  0.00000000e+00\n",
      "  1.00000000e+00  0.00000000e+00  0.00000000e+00  0.00000000e+00\n",
      "  0.00000000e+00  0.00000000e+00  0.00000000e+00  0.00000000e+00\n",
      "  0.00000000e+00  0.00000000e+00  0.00000000e+00  0.00000000e+00\n",
      "  0.00000000e+00  0.00000000e+00  0.00000000e+00  0.00000000e+00\n",
      "  6.06093168e-01 -1.42857209e-01 -6.06078804e-01  0.00000000e+00\n",
      "  0.00000000e+00  0.00000000e+00  0.00000000e+00  0.00000000e+00\n",
      "  0.00000000e+00  0.00000000e+00  0.00000000e+00  0.00000000e+00\n",
      "  0.00000000e+00  0.00000000e+00  1.33339906e+00 -1.42857209e-01\n",
      " -1.33341408e+00  0.00000000e+00  0.00000000e+00  0.00000000e+00\n",
      "  0.00000000e+00  0.00000000e+00  0.00000000e+00  0.00000000e+00\n",
      "  0.00000000e+00  0.00000000e+00  0.00000000e+00  0.00000000e+00\n",
      " -6.06093347e-01 -1.42857209e-01 -6.06078625e-01  0.00000000e+00\n",
      "  0.00000000e+00  0.00000000e+00  0.00000000e+00  0.00000000e+00\n",
      "  0.00000000e+00  0.00000000e+00  0.00000000e+00  0.00000000e+00\n",
      "  0.00000000e+00  0.00000000e+00 -1.33339953e+00 -1.42857209e-01\n",
      " -1.33341372e+00  0.00000000e+00  0.00000000e+00  0.00000000e+00\n",
      "  0.00000000e+00  0.00000000e+00  0.00000000e+00  0.00000000e+00\n",
      "  0.00000000e+00  0.00000000e+00  0.00000000e+00  0.00000000e+00\n",
      " -6.06093168e-01 -1.42857209e-01  6.06078804e-01  0.00000000e+00\n",
      "  0.00000000e+00  0.00000000e+00  0.00000000e+00  0.00000000e+00\n",
      "  0.00000000e+00  0.00000000e+00  0.00000000e+00  0.00000000e+00\n",
      "  0.00000000e+00  0.00000000e+00 -1.33339906e+00 -1.42857209e-01\n",
      "  1.33341408e+00  0.00000000e+00  0.00000000e+00  0.00000000e+00\n",
      "  0.00000000e+00  0.00000000e+00  0.00000000e+00  0.00000000e+00\n",
      "  0.00000000e+00  0.00000000e+00  0.00000000e+00  0.00000000e+00\n",
      "  6.06093347e-01 -1.42857209e-01  6.06078625e-01  0.00000000e+00\n",
      "  0.00000000e+00  0.00000000e+00  0.00000000e+00  0.00000000e+00\n",
      "  0.00000000e+00  0.00000000e+00  0.00000000e+00  0.00000000e+00\n",
      "  0.00000000e+00  0.00000000e+00  1.33339953e+00 -1.42857209e-01\n",
      "  1.33341372e+00  0.00000000e+00  0.00000000e+00  0.00000000e+00\n",
      "  0.00000000e+00]\n"
     ]
    }
   ],
   "source": [
    "# get the default brain\n",
    "brain_name = env.brain_names[0]\n",
    "brain = env.brains[brain_name]\n",
    "\n",
    "# reset the environment\n",
    "env_info = env.reset(train_mode=True)[brain_name]\n",
    "\n",
    "# name of brain\n",
    "print('Name of brain:', brain_name)\n",
    "\n",
    "# number of agents\n",
    "num_agents = len(env_info.agents)\n",
    "print('Number of agents:', num_agents)\n",
    "\n",
    "# size of each action\n",
    "action_size = brain.vector_action_space_size\n",
    "print('Size of each action:', action_size)\n",
    "\n",
    "# examine the state space \n",
    "states = env_info.vector_observations\n",
    "state_size = states.shape[1]\n",
    "print('There are {} agents. Each observes a state with length: {}'.format(states.shape[0], state_size))\n",
    "print('The state for the first agent looks like:', states[0])"
   ]
  },
  {
   "cell_type": "markdown",
   "metadata": {},
   "source": [
    "### 3. Take Random Actions in the Environment\n",
    "\n",
    "In the next code cell, you will learn how to use the Python API to control the agent and receive feedback from the environment.\n",
    "\n",
    "Once this cell is executed, you will watch the agent's performance, if it selects an action at random with each time step.  A window should pop up that allows you to observe the agent, as it moves through the environment.  \n",
    "\n",
    "Of course, as part of the project, you'll have to change the code so that the agent is able to use its experience to gradually choose better actions when interacting with the environment!"
   ]
  },
  {
   "cell_type": "code",
   "execution_count": 4,
   "metadata": {},
   "outputs": [
    {
     "name": "stdout",
     "output_type": "stream",
     "text": [
      "Total score (averaged over agents) this episode: 0.25608414644375443\n"
     ]
    }
   ],
   "source": [
    "env_info = env.reset(train_mode=False)[brain_name]     # reset the environment    \n",
    "states = env_info.vector_observations                  # get the current state (for each agent)\n",
    "scores = np.zeros(num_agents)                          # initialize the score (for each agent)\n",
    "while True:\n",
    "    actions = np.random.randn(num_agents, action_size) # select an action (for each agent)\n",
    "    actions = np.clip(actions, -1, 1)                  # all actions between -1 and 1\n",
    "    env_info = env.step(actions)[brain_name]           # send all actions to tne environment\n",
    "    next_states = env_info.vector_observations         # get next state (for each agent)\n",
    "    rewards = env_info.rewards                         # get reward (for each agent)\n",
    "    dones = env_info.local_done                        # see if episode finished\n",
    "    scores += env_info.rewards                         # update the score (for each agent)\n",
    "    states = next_states                               # roll over states to next time step\n",
    "    if np.any(dones):                                  # exit loop if episode finished\n",
    "        break\n",
    "print('Total score (averaged over agents) this episode: {}'.format(np.mean(scores)))\n",
    "#env.close()"
   ]
  },
  {
   "cell_type": "markdown",
   "metadata": {},
   "source": [
    "### 4. It's Your Turn!\n",
    "\n",
    "Now it's your turn to train your own agent to solve the environment!  When training the environment, set `train_mode=True`, so that the line for resetting the environment looks like the following:\n",
    "```python\n",
    "env_info = env.reset(train_mode=True)[brain_name]\n",
    "```"
   ]
  },
  {
   "cell_type": "code",
   "execution_count": 5,
   "metadata": {},
   "outputs": [],
   "source": [
    "def saveTrainedModel(agent, path):\n",
    "    state_dicts = {'model_critic': agent.critic_local.state_dict(), \n",
    "                   'model_actor': agent.actor_local.state_dict()}\n",
    "    torch.save(state_dicts, path)\n",
    "    \n",
    "def loadTrainedModel(agent, path):\n",
    "    state_dicts = torch.load(path,map_location={'cuda:0': 'cpu'})\n",
    "\n",
    "    agent.critic_local.load_state_dict(state_dicts['model_critic'])\n",
    "    agent.critic_target.load_state_dict(state_dicts['model_critic'])\n",
    "    agent.actor_local.load_state_dict(state_dicts['model_actor'])\n",
    "    agent.actor_target.load_state_dict(state_dicts['model_actor'])\n",
    "    \n",
    "    return agent"
   ]
  },
  {
   "cell_type": "code",
   "execution_count": 6,
   "metadata": {},
   "outputs": [
    {
     "name": "stdout",
     "output_type": "stream",
     "text": [
      "current device:  cpu\n"
     ]
    }
   ],
   "source": [
    "from PPO_agent import PPO_Agent\n",
    "#import PPO_util \n",
    "\n",
    "model_dir = 'saved_models/'\n",
    "model_name = 'unity_continuous_' + str(brain_name) + '_' + str(num_agents) + '_agents.pt'\n",
    "\n",
    "agent = PPO_Agent(env, state_size, action_size, num_agents=num_agents, seed=1234)\n",
    "#agent = loadTrainedModel(agent, model_dir+model_name)"
   ]
  },
  {
   "cell_type": "code",
   "execution_count": null,
   "metadata": {
    "scrolled": false
   },
   "outputs": [
    {
     "name": "stdout",
     "output_type": "stream",
     "text": [
      "Fetching experiences... 1192 \n",
      "Prefetch completed. Training starts! \n",
      "Number of Agents:  12\n",
      "Device:  cpu\n",
      "Episode: 10   score: 0.11   Avg score (100e): 0.22   actor gain: -1.39   critic loss: 6.93   eps: 1.00\n",
      "Episode: 20   score: -0.08   Avg score (100e): 0.15   actor gain: -1.18   critic loss: 2.61   eps: 0.99\n",
      "Episode: 30   score: -0.18   Avg score (100e): 0.09   actor gain: -0.42   critic loss: 2.26   eps: 0.99\n",
      "Episode: 40   score: -0.12   Avg score (100e): 0.07   actor gain: -2.66   critic loss: 73.28   eps: 0.98\n",
      "Episode: 50   score: 0.17   Avg score (100e): 0.08   actor gain: -0.47   critic loss: 1.53   eps: 0.98\n",
      "Episode: 60   score: -0.04   Avg score (100e): 0.07   actor gain: -1.95   critic loss: 4.27   eps: 0.97\n",
      "Episode: 70   score: 0.22   Avg score (100e): 0.08   actor gain: -0.72   critic loss: 2.30   eps: 0.97\n",
      "Episode: 80   score: -0.32   Avg score (100e): 0.07   actor gain: -1.14   critic loss: 2.93   eps: 0.96\n",
      "Episode: 90   score: 0.15   Avg score (100e): 0.06   actor gain: -1.94   critic loss: 2.90   eps: 0.96\n",
      "Episode: 100   score: -0.07   Avg score (100e): 0.06   actor gain: -1.51   critic loss: 5.09   eps: 0.95\n",
      "Episode: 110   score: 0.09   Avg score (100e): 0.04   actor gain: -1.50   critic loss: 3.03   eps: 0.95\n",
      "Episode: 120   score: 0.28   Avg score (100e): 0.04   actor gain: -0.94   critic loss: 1.78   eps: 0.94\n",
      "Episode: 130   score: 0.01   Avg score (100e): 0.05   actor gain: -2.65   critic loss: 22.89   eps: 0.94\n",
      "Episode: 140   score: -0.11   Avg score (100e): 0.06   actor gain: -2.54   critic loss: 8.38   eps: 0.93\n",
      "Episode: 150   score: 0.12   Avg score (100e): 0.06   actor gain: 2.06   critic loss: 200.08   eps: 0.93\n",
      "Episode: 160   score: -0.15   Avg score (100e): 0.06   actor gain: -2.63   critic loss: 10.10   eps: 0.92\n",
      "Episode: 170   score: -0.07   Avg score (100e): 0.05   actor gain: -1.24   critic loss: 2.66   eps: 0.92\n",
      "Episode: 180   score: 0.31   Avg score (100e): 0.06   actor gain: 0.41   critic loss: 4.38   eps: 0.91\n",
      "Episode: 190   score: 0.02   Avg score (100e): 0.07   actor gain: -1.21   critic loss: 4.25   eps: 0.91\n",
      "Episode: 200   score: -0.01   Avg score (100e): 0.07   actor gain: 0.76   critic loss: 41.83   eps: 0.91\n",
      "Episode: 210   score: 0.15   Avg score (100e): 0.08   actor gain: -1.90   critic loss: 1.60   eps: 0.90\n",
      "Episode: 220   score: 0.04   Avg score (100e): 0.06   actor gain: -1.96   critic loss: 1.59   eps: 0.90\n",
      "Episode: 230   score: 0.18   Avg score (100e): 0.07   actor gain: -3.84   critic loss: 7.86   eps: 0.89\n",
      "Episode: 240   score: 0.10   Avg score (100e): 0.06   actor gain: -1.15   critic loss: 4.88   eps: 0.89\n",
      "Episode: 250   score: 0.14   Avg score (100e): 0.06   actor gain: -1.86   critic loss: 5.66   eps: 0.88\n",
      "Episode: 260   score: 0.01   Avg score (100e): 0.06   actor gain: -1.28   critic loss: 1.20   eps: 0.88\n",
      "Episode: 270   score: 0.00   Avg score (100e): 0.05   actor gain: -1.72   critic loss: 2.77   eps: 0.87\n",
      "Episode: 280   score: -0.01   Avg score (100e): 0.04   actor gain: -1.92   critic loss: 2.68   eps: 0.87\n",
      "Episode: 290   score: -0.03   Avg score (100e): 0.03   actor gain: -2.00   critic loss: 3.32   eps: 0.87\n",
      "Episode: 300   score: 0.06   Avg score (100e): 0.02   actor gain: -1.69   critic loss: 1.34   eps: 0.86\n",
      "Episode: 310   score: -0.18   Avg score (100e): 0.02   actor gain: -1.42   critic loss: 3.65   eps: 0.86\n",
      "Episode: 320   score: -0.30   Avg score (100e): 0.01   actor gain: -0.03   critic loss: 1.21   eps: 0.85\n",
      "Episode: 330   score: 0.08   Avg score (100e): 0.00   actor gain: -2.73   critic loss: 1.71   eps: 0.85\n",
      "Episode: 340   score: 0.02   Avg score (100e): 0.01   actor gain: -1.68   critic loss: 14.35   eps: 0.84\n",
      "Episode: 350   score: -0.07   Avg score (100e): 0.01   actor gain: -2.01   critic loss: 5.14   eps: 0.84\n",
      "Episode: 360   score: 0.04   Avg score (100e): 0.01   actor gain: -0.25   critic loss: 5.32   eps: 0.84\n",
      "Episode: 370   score: 0.15   Avg score (100e): 0.01   actor gain: -1.44   critic loss: 1.55   eps: 0.83\n",
      "Episode: 380   score: -0.04   Avg score (100e): 0.01   actor gain: -0.67   critic loss: 1.43   eps: 0.83\n",
      "Episode: 390   score: 0.02   Avg score (100e): 0.02   actor gain: -3.64   critic loss: 3.46   eps: 0.82\n",
      "Episode: 400   score: 0.06   Avg score (100e): 0.02   actor gain: 1.13   critic loss: 236.67   eps: 0.82\n",
      "Episode: 410   score: 0.17   Avg score (100e): 0.02   actor gain: -0.61   critic loss: 8.43   eps: 0.82\n",
      "Episode: 420   score: -0.07   Avg score (100e): 0.03   actor gain: -3.67   critic loss: 13.66   eps: 0.81\n",
      "Episode: 430   score: 0.20   Avg score (100e): 0.05   actor gain: -1.25   critic loss: 1.49   eps: 0.81\n",
      "Episode: 440   score: 0.26   Avg score (100e): 0.05   actor gain: -1.34   critic loss: 4.82   eps: 0.80\n",
      "Episode: 450   score: 0.21   Avg score (100e): 0.04   actor gain: -2.02   critic loss: 1.39   eps: 0.80\n",
      "Episode: 460   score: 0.10   Avg score (100e): 0.03   actor gain: -0.51   critic loss: 23.35   eps: 0.79\n",
      "Episode: 470   score: -0.03   Avg score (100e): 0.04   actor gain: -3.82   critic loss: 2.44   eps: 0.79\n",
      "Episode: 480   score: 0.14   Avg score (100e): 0.04   actor gain: 0.03   critic loss: 7.53   eps: 0.79\n",
      "Episode: 490   score: 0.17   Avg score (100e): 0.04   actor gain: -2.72   critic loss: 2.12   eps: 0.78\n",
      "Episode: 500   score: 0.19   Avg score (100e): 0.03   actor gain: -4.54   critic loss: 10.10   eps: 0.78\n",
      "Episode: 510   score: 0.40   Avg score (100e): 0.03   actor gain: -0.81   critic loss: 0.41   eps: 0.78\n",
      "Episode: 520   score: -0.28   Avg score (100e): 0.03   actor gain: -1.37   critic loss: 1.01   eps: 0.77\n",
      "Episode: 530   score: 0.24   Avg score (100e): 0.02   actor gain: 0.05   critic loss: 1.74   eps: 0.77\n",
      "Episode: 540   score: 0.30   Avg score (100e): 0.02   actor gain: -0.75   critic loss: 2.13   eps: 0.76\n",
      "Episode: 550   score: -0.19   Avg score (100e): 0.01   actor gain: -0.46   critic loss: 3.42   eps: 0.76\n",
      "Episode: 560   score: -0.01   Avg score (100e): 0.03   actor gain: 0.62   critic loss: 33.92   eps: 0.76\n",
      "Episode: 570   score: -0.11   Avg score (100e): 0.03   actor gain: -2.41   critic loss: 71.69   eps: 0.75\n",
      "Episode: 580   score: 0.27   Avg score (100e): 0.02   actor gain: -0.76   critic loss: 3.89   eps: 0.75\n",
      "Episode: 590   score: -0.08   Avg score (100e): 0.03   actor gain: -1.72   critic loss: 6.64   eps: 0.74\n",
      "Episode: 600   score: 0.23   Avg score (100e): 0.03   actor gain: -3.61   critic loss: 7.07   eps: 0.74\n",
      "Episode: 610   score: 0.10   Avg score (100e): 0.04   actor gain: -3.07   critic loss: 2.55   eps: 0.74\n",
      "Episode: 620   score: -0.09   Avg score (100e): 0.04   actor gain: -2.74   critic loss: 5.79   eps: 0.73\n",
      "Episode: 630   score: 0.16   Avg score (100e): 0.02   actor gain: -0.65   critic loss: 1.24   eps: 0.73\n",
      "Episode: 640   score: 0.12   Avg score (100e): 0.03   actor gain: 0.05   critic loss: 3.52   eps: 0.73\n",
      "Episode: 650   score: 0.31   Avg score (100e): 0.04   actor gain: 0.79   critic loss: 4.00   eps: 0.72\n",
      "Episode: 660   score: -0.07   Avg score (100e): 0.03   actor gain: -3.06   critic loss: 21.39   eps: 0.72\n",
      "Episode: 670   score: -0.12   Avg score (100e): 0.02   actor gain: -3.07   critic loss: 6.48   eps: 0.72\n",
      "Episode: 680   score: 0.20   Avg score (100e): 0.03   actor gain: -0.86   critic loss: 1.15   eps: 0.71\n",
      "Episode: 690   score: -0.09   Avg score (100e): 0.01   actor gain: 0.08   critic loss: 4.72   eps: 0.71\n",
      "Episode: 700   score: -0.26   Avg score (100e): 0.02   actor gain: 1.68   critic loss: 9.79   eps: 0.70\n",
      "Episode: 710   score: -0.12   Avg score (100e): 0.02   actor gain: -3.40   critic loss: 4.40   eps: 0.70\n",
      "Episode: 720   score: 0.14   Avg score (100e): 0.03   actor gain: -1.41   critic loss: 1.90   eps: 0.70\n",
      "Episode: 730   score: 0.23   Avg score (100e): 0.04   actor gain: -0.83   critic loss: 2.85   eps: 0.69\n"
     ]
    }
   ],
   "source": [
    "# training loop max iterations\n",
    "episode = 5000\n",
    "\n",
    "#widget = ['training loop: ', pb.Percentage(), ' ', \n",
    "#          pb.Bar(), ' ', pb.ETA() ]\n",
    "#timer = pb.ProgressBar(widgets=widget, maxval=episode).start()\n",
    "\n",
    "eps = 1.0\n",
    "\n",
    "# keep track of progress\n",
    "mean_rewards = []\n",
    "e = 0\n",
    "\n",
    "while e < episode:\n",
    "\n",
    "    # collect trajectories\n",
    "    agent.step(eps)\n",
    "    episode_reward = agent.running_rewards\n",
    "    \n",
    "    # display some progress every 20 iterations\n",
    "    if agent.is_training:\n",
    "\n",
    "        # get the average reward of the parallel environments\n",
    "        mean_rewards.append(np.mean(episode_reward))        \n",
    "        \n",
    "        if (e+1)%10 ==0 :\n",
    "            print(\"Episode: {}   score: {:.2f}   Avg score (100e): {:.2f}   \"\n",
    "                  \"actor gain: {:.2f}   critic loss: {:.2f}   eps: {:.2f}\".format(e+1,\n",
    "                                                                          np.mean(episode_reward),\n",
    "                                                                          np.mean(mean_rewards[-100:]),\n",
    "                                                                          agent.actor_gain, agent.critic_loss, eps\n",
    "                                                                          ))\n",
    "            \n",
    "        # this reduces exploration in later runs\n",
    "        eps = max(.9995*eps, 0.10)\n",
    "                \n",
    "        #timer.update(e)\n",
    "        \n",
    "        e += 1\n",
    "    else:\n",
    "        print('\\rFetching experiences... {} '.format(len(agent.memory.memory)), end=\"\")\n",
    "        \n",
    "    # update progress widget bar\n",
    "    # timer.update(e+1)\n",
    "    \n",
    "#timer.finish()"
   ]
  },
  {
   "cell_type": "code",
   "execution_count": null,
   "metadata": {},
   "outputs": [],
   "source": [
    "# plot the scores\n",
    "import matplotlib.pyplot as plt\n",
    "%matplotlib inline\n",
    "\n",
    "fig = plt.figure()\n",
    "ax = fig.add_subplot(111)\n",
    "plt.plot(np.arange(len(mean_rewards)), mean_rewards)\n",
    "plt.ylabel('Score')\n",
    "plt.xlabel('Episode #')\n",
    "plt.show()"
   ]
  },
  {
   "cell_type": "code",
   "execution_count": null,
   "metadata": {},
   "outputs": [],
   "source": [
    "import torch\n",
    "print(torch.__version__)"
   ]
  },
  {
   "cell_type": "code",
   "execution_count": null,
   "metadata": {},
   "outputs": [],
   "source": [
    "env_info = env.reset(train_mode=False)[brain_name]     # reset the environment    \n",
    "states = env_info.vector_observations                  # get the current state (for each agent)\n",
    "scores = np.zeros(num_agents)                          # initialize the score (for each agent)\n",
    "while True:\n",
    "    actions = agent.act(states) # select an action (for each agent)\n",
    "    actions = np.clip(actions, -1, 1)                  # all actions between -1 and 1\n",
    "    env_info = env.step(actions)[brain_name]           # send all actions to tne environment\n",
    "    next_states = env_info.vector_observations         # get next state (for each agent)\n",
    "    rewards = env_info.rewards                         # get reward (for each agent)\n",
    "    dones = env_info.local_done                        # see if episode finished\n",
    "    scores += env_info.rewards                         # update the score (for each agent)\n",
    "    states = next_states                               # roll over states to next time step\n",
    "    if np.all(dones):                                  # exit loop if episode finished\n",
    "        break\n",
    "print('Total score (averaged over agents) this episode: {}'.format(np.mean(scores)))"
   ]
  },
  {
   "cell_type": "code",
   "execution_count": null,
   "metadata": {},
   "outputs": [],
   "source": [
    "env.close()"
   ]
  },
  {
   "cell_type": "code",
   "execution_count": null,
   "metadata": {},
   "outputs": [],
   "source": []
  },
  {
   "cell_type": "code",
   "execution_count": null,
   "metadata": {},
   "outputs": [],
   "source": []
  }
 ],
 "metadata": {
  "kernelspec": {
   "display_name": "Python 3",
   "language": "python",
   "name": "python3"
  },
  "language_info": {
   "codemirror_mode": {
    "name": "ipython",
    "version": 3
   },
   "file_extension": ".py",
   "mimetype": "text/x-python",
   "name": "python",
   "nbconvert_exporter": "python",
   "pygments_lexer": "ipython3",
   "version": "3.5.5"
  }
 },
 "nbformat": 4,
 "nbformat_minor": 2
}
