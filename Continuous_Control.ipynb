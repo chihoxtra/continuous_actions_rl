{
 "cells": [
  {
   "cell_type": "markdown",
   "metadata": {},
   "source": [
    "# Continuous Control\n",
    "\n",
    "---\n",
    "\n",
    "In this notebook, you will learn how to use the Unity ML-Agents environment for the second project of the [Deep Reinforcement Learning Nanodegree](https://www.udacity.com/course/deep-reinforcement-learning-nanodegree--nd893) program.\n",
    "\n",
    "### 1. Start the Environment\n",
    "\n",
    "We begin by importing the necessary packages.  If the code cell below returns an error, please revisit the project instructions to double-check that you have installed [Unity ML-Agents](https://github.com/Unity-Technologies/ml-agents/blob/master/docs/Installation.md) and [NumPy](http://www.numpy.org/)."
   ]
  },
  {
   "cell_type": "code",
   "execution_count": 1,
   "metadata": {},
   "outputs": [],
   "source": [
    "from unityagents import UnityEnvironment\n",
    "import numpy as np"
   ]
  },
  {
   "cell_type": "markdown",
   "metadata": {},
   "source": [
    "Next, we will start the environment!  **_Before running the code cell below_**, change the `file_name` parameter to match the location of the Unity environment that you downloaded.\n",
    "\n",
    "- **Mac**: `\"path/to/Reacher.app\"`\n",
    "- **Windows** (x86): `\"path/to/Reacher_Windows_x86/Reacher.exe\"`\n",
    "- **Windows** (x86_64): `\"path/to/Reacher_Windows_x86_64/Reacher.exe\"`\n",
    "- **Linux** (x86): `\"path/to/Reacher_Linux/Reacher.x86\"`\n",
    "- **Linux** (x86_64): `\"path/to/Reacher_Linux/Reacher.x86_64\"`\n",
    "- **Linux** (x86, headless): `\"path/to/Reacher_Linux_NoVis/Reacher.x86\"`\n",
    "- **Linux** (x86_64, headless): `\"path/to/Reacher_Linux_NoVis/Reacher.x86_64\"`\n",
    "\n",
    "For instance, if you are using a Mac, then you downloaded `Reacher.app`.  If this file is in the same folder as the notebook, then the line below should appear as follows:\n",
    "```\n",
    "env = UnityEnvironment(file_name=\"Reacher.app\")\n",
    "```"
   ]
  },
  {
   "cell_type": "code",
   "execution_count": 2,
   "metadata": {},
   "outputs": [
    {
     "name": "stderr",
     "output_type": "stream",
     "text": [
      "INFO:unityagents:\n",
      "'Academy' started successfully!\n",
      "Unity Academy name: Academy\n",
      "        Number of Brains: 1\n",
      "        Number of External Brains : 1\n",
      "        Lesson number : 0\n",
      "        Reset Parameters :\n",
      "\t\tgoal_speed -> 1.0\n",
      "\t\tgoal_size -> 5.0\n",
      "Unity brain name: ReacherBrain\n",
      "        Number of Visual Observations (per agent): 0\n",
      "        Vector Observation space type: continuous\n",
      "        Vector Observation space size (per agent): 33\n",
      "        Number of stacked Vector Observation: 1\n",
      "        Vector Action space type: continuous\n",
      "        Vector Action space size (per agent): 4\n",
      "        Vector Action descriptions: , , , \n"
     ]
    }
   ],
   "source": [
    "env = UnityEnvironment(file_name='Reacher_multiagent.app')\n",
    "#env = UnityEnvironment(file_name='Reacher.app')"
   ]
  },
  {
   "cell_type": "markdown",
   "metadata": {},
   "source": [
    "Environments contain **_brains_** which are responsible for deciding the actions of their associated agents. Here we check for the first brain available, and set it as the default brain we will be controlling from Python."
   ]
  },
  {
   "cell_type": "code",
   "execution_count": 3,
   "metadata": {},
   "outputs": [],
   "source": [
    "# get the default brain\n",
    "brain_name = env.brain_names[0]\n",
    "brain = env.brains[brain_name]"
   ]
  },
  {
   "cell_type": "markdown",
   "metadata": {},
   "source": [
    "### 2. Examine the State and Action Spaces\n",
    "\n",
    "In this environment, a double-jointed arm can move to target locations. A reward of `+0.1` is provided for each step that the agent's hand is in the goal location. Thus, the goal of your agent is to maintain its position at the target location for as many time steps as possible.\n",
    "\n",
    "The observation space consists of `33` variables corresponding to position, rotation, velocity, and angular velocities of the arm.  Each action is a vector with four numbers, corresponding to torque applicable to two joints.  Every entry in the action vector must be a number between `-1` and `1`.\n",
    "\n",
    "Run the code cell below to print some information about the environment."
   ]
  },
  {
   "cell_type": "code",
   "execution_count": 4,
   "metadata": {},
   "outputs": [
    {
     "name": "stdout",
     "output_type": "stream",
     "text": [
      "Number of agents: 20\n",
      "Size of each action: 4\n",
      "There are 20 agents. Each observes a state with length: 33\n",
      "The state for the first agent looks like: [ 0.00000000e+00 -4.00000000e+00  0.00000000e+00  1.00000000e+00\n",
      " -0.00000000e+00 -0.00000000e+00 -4.37113883e-08  0.00000000e+00\n",
      "  0.00000000e+00  0.00000000e+00  0.00000000e+00  0.00000000e+00\n",
      "  0.00000000e+00  0.00000000e+00 -1.00000000e+01  0.00000000e+00\n",
      "  1.00000000e+00 -0.00000000e+00 -0.00000000e+00 -4.37113883e-08\n",
      "  0.00000000e+00  0.00000000e+00  0.00000000e+00  0.00000000e+00\n",
      "  0.00000000e+00  0.00000000e+00  5.75471878e+00 -1.00000000e+00\n",
      "  5.55726624e+00  0.00000000e+00  1.00000000e+00  0.00000000e+00\n",
      " -1.68164849e-01]\n"
     ]
    }
   ],
   "source": [
    "# reset the environment\n",
    "env_info = env.reset(train_mode=True)[brain_name]\n",
    "\n",
    "# number of agents\n",
    "num_agents = len(env_info.agents)\n",
    "print('Number of agents:', num_agents)\n",
    "\n",
    "# size of each action\n",
    "action_size = brain.vector_action_space_size\n",
    "print('Size of each action:', action_size)\n",
    "\n",
    "# examine the state space \n",
    "states = env_info.vector_observations\n",
    "state_size = states.shape[1]\n",
    "print('There are {} agents. Each observes a state with length: {}'.format(states.shape[0], state_size))\n",
    "print('The state for the first agent looks like:', states[0])"
   ]
  },
  {
   "cell_type": "markdown",
   "metadata": {},
   "source": [
    "### 3. Take Random Actions in the Environment\n",
    "\n",
    "In the next code cell, you will learn how to use the Python API to control the agent and receive feedback from the environment.\n",
    "\n",
    "Once this cell is executed, you will watch the agent's performance, if it selects an action at random with each time step.  A window should pop up that allows you to observe the agent, as it moves through the environment.  \n",
    "\n",
    "Of course, as part of the project, you'll have to change the code so that the agent is able to use its experience to gradually choose better actions when interacting with the environment!"
   ]
  },
  {
   "cell_type": "code",
   "execution_count": 5,
   "metadata": {},
   "outputs": [
    {
     "data": {
      "text/plain": [
       "\"env_info = env.reset(train_mode=False)[brain_name]     # reset the environment    \\nstates = env_info.vector_observations                  # get the current state (for each agent)\\nscores = np.zeros(num_agents)                          # initialize the score (for each agent)\\nwhile True:\\n    actions = np.random.randn(num_agents, action_size) # select an action (for each agent)\\n    actions = np.clip(actions, -1, 1)                  # all actions between -1 and 1\\n    env_info = env.step(actions)[brain_name]           # send all actions to tne environment\\n    next_states = env_info.vector_observations         # get next state (for each agent)\\n    rewards = env_info.rewards                         # get reward (for each agent)\\n    dones = env_info.local_done                        # see if episode finished\\n    scores += env_info.rewards                         # update the score (for each agent)\\n    states = next_states                               # roll over states to next time step\\n    if np.all(dones):                                  # exit loop if episode finished\\n        break\\nprint('Total score (averaged over agents) this episode: {}'.format(np.mean(scores)))\\nenv.close()\""
      ]
     },
     "execution_count": 5,
     "metadata": {},
     "output_type": "execute_result"
    }
   ],
   "source": [
    "\"\"\"env_info = env.reset(train_mode=False)[brain_name]     # reset the environment    \n",
    "states = env_info.vector_observations                  # get the current state (for each agent)\n",
    "scores = np.zeros(num_agents)                          # initialize the score (for each agent)\n",
    "while True:\n",
    "    actions = np.random.randn(num_agents, action_size) # select an action (for each agent)\n",
    "    actions = np.clip(actions, -1, 1)                  # all actions between -1 and 1\n",
    "    env_info = env.step(actions)[brain_name]           # send all actions to tne environment\n",
    "    next_states = env_info.vector_observations         # get next state (for each agent)\n",
    "    rewards = env_info.rewards                         # get reward (for each agent)\n",
    "    dones = env_info.local_done                        # see if episode finished\n",
    "    scores += env_info.rewards                         # update the score (for each agent)\n",
    "    states = next_states                               # roll over states to next time step\n",
    "    if np.all(dones):                                  # exit loop if episode finished\n",
    "        break\n",
    "print('Total score (averaged over agents) this episode: {}'.format(np.mean(scores)))\n",
    "env.close()\"\"\""
   ]
  },
  {
   "cell_type": "markdown",
   "metadata": {},
   "source": [
    "### 4. It's Your Turn!\n",
    "\n",
    "Now it's your turn to train your own agent to solve the environment!  When training the environment, set `train_mode=True`, so that the line for resetting the environment looks like the following:\n",
    "```python\n",
    "env_info = env.reset(train_mode=True)[brain_name]\n",
    "```"
   ]
  },
  {
   "cell_type": "code",
   "execution_count": 6,
   "metadata": {},
   "outputs": [],
   "source": [
    "def saveTrainedModel(agent, path):\n",
    "    state_dicts = {'model_critic': agent.critic_local.state_dict(), \n",
    "                   'model_actor': agent.actor_local.state_dict()}\n",
    "    torch.save(state_dicts, path)"
   ]
  },
  {
   "cell_type": "code",
   "execution_count": 7,
   "metadata": {},
   "outputs": [],
   "source": [
    "from DDPG_agent import DDPG_Agent"
   ]
  },
  {
   "cell_type": "code",
   "execution_count": 8,
   "metadata": {},
   "outputs": [],
   "source": [
    "model_dir = 'saved_models/'\n",
    "model_name = 'unity_continuous_rl.pt'\n",
    "\n",
    "agent = DDPG_Agent(state_size, action_size, num_agents=num_agents)"
   ]
  },
  {
   "cell_type": "code",
   "execution_count": 9,
   "metadata": {},
   "outputs": [
    {
     "name": "stdout",
     "output_type": "stream",
     "text": [
      "Fetching experiences... 80080 \n",
      "Prefetch completed. Training starts! \n",
      "Number of Agents:  20\n",
      "Device:  cpu\n",
      "Episode: 1  Avg score(#20): 0.21  steps: 5005  Actor G: 2.44  Critic L: 0.92  noise: -0.00  eps: 1.00\n",
      "Episode: 2  Avg score(#20): 0.09  steps: 6006  Actor G: 2.63  Critic L: 0.24  noise: 0.03  eps: 0.95\n",
      "Episode: 3  Avg score(#20): 0.04  steps: 7007  Actor G: 2.72  Critic L: 0.19  noise: -0.03  eps: 0.90\n",
      "Episode: 4  Avg score(#20): 0.05  steps: 8008  Actor G: 2.80  Critic L: 0.17  noise: 0.02  eps: 0.86\n",
      "Episode: 5  Avg score(#20): 0.01  steps: 9009  Actor G: 2.92  Critic L: 0.15  noise: 0.01  eps: 0.81\n",
      "Episode: 6  Avg score(#20): 0.02  steps: 10010  Actor G: 3.05  Critic L: 0.14  noise: 0.00  eps: 0.77\n",
      "Episode: 7  Avg score(#20): 0.02  steps: 11011  Actor G: 3.12  Critic L: 0.12  noise: 0.01  eps: 0.74\n",
      "Episode: 8  Avg score(#20): 0.01  steps: 12012  Actor G: 3.20  Critic L: 0.12  noise: -0.00  eps: 0.70\n",
      "Episode: 9  Avg score(#20): 0.01  steps: 13013  Actor G: 3.30  Critic L: 0.11  noise: 0.01  eps: 0.66\n",
      "Episode: 10  Avg score(#20): 0.01  steps: 14014  Actor G: 3.34  Critic L: 0.10  noise: -0.00  eps: 0.63\n",
      "Episode: 11  Avg score(#20): 0.01  steps: 15015  Actor G: 3.33  Critic L: 0.09  noise: -0.03  eps: 0.60\n",
      "Episode: 12  Avg score(#20): 0.01  steps: 16016  Actor G: 3.39  Critic L: 0.09  noise: 0.01  eps: 0.57\n",
      "Episode: 13  Avg score(#20): 0.01  steps: 17017  Actor G: 3.42  Critic L: 0.07  noise: 0.01  eps: 0.54\n",
      "Episode: 14  Avg score(#20): 0.00  steps: 18018  Actor G: 3.46  Critic L: 0.07  noise: -0.01  eps: 0.51\n",
      "Episode: 15  Avg score(#20): 0.00  steps: 19019  Actor G: 3.46  Critic L: 0.07  noise: 0.02  eps: 0.49\n",
      "Episode: 16  Avg score(#20): 0.00  steps: 20020  Actor G: 3.47  Critic L: 0.06  noise: -0.00  eps: 0.46\n",
      "Episode: 17  Avg score(#20): 0.01  steps: 21021  Actor G: 3.49  Critic L: 0.06  noise: 0.03  eps: 0.44\n",
      "Episode: 18  Avg score(#20): 0.01  steps: 22022  Actor G: 3.50  Critic L: 0.06  noise: 0.01  eps: 0.42\n",
      "Episode: 19  Avg score(#20): 0.00  steps: 23023  Actor G: 3.50  Critic L: 0.05  noise: -0.01  eps: 0.40\n",
      "Episode: 20  Avg score(#20): 0.00  steps: 24024  Actor G: 3.51  Critic L: 0.06  noise: -0.02  eps: 0.38\n",
      "Episode: 21  Avg score(#20): 0.02  steps: 25025  Actor G: 3.48  Critic L: 0.05  noise: 0.01  eps: 0.36\n",
      "Episode: 22  Avg score(#20): 0.01  steps: 26026  Actor G: 3.51  Critic L: 0.04  noise: 0.01  eps: 0.34\n",
      "Episode: 23  Avg score(#20): 0.01  steps: 27027  Actor G: 3.53  Critic L: 0.05  noise: 0.01  eps: 0.32\n",
      "Episode: 24  Avg score(#20): 0.03  steps: 28028  Actor G: 3.50  Critic L: 0.04  noise: 0.02  eps: 0.31\n",
      "Episode: 25  Avg score(#20): 0.00  steps: 29029  Actor G: 3.52  Critic L: 0.05  noise: 0.00  eps: 0.29\n",
      "Episode: 26  Avg score(#20): 0.01  steps: 30030  Actor G: 3.51  Critic L: 0.05  noise: -0.01  eps: 0.28\n",
      "Episode: 27  Avg score(#20): 0.00  steps: 31031  Actor G: 3.50  Critic L: 0.04  noise: 0.02  eps: 0.26\n",
      "Episode: 28  Avg score(#20): 0.00  steps: 32032  Actor G: 3.50  Critic L: 0.04  noise: 0.02  eps: 0.25\n",
      "Episode: 29  Avg score(#20): 0.01  steps: 33033  Actor G: 3.48  Critic L: 0.03  noise: 0.01  eps: 0.24\n",
      "Episode: 30  Avg score(#20): 0.01  steps: 34034  Actor G: 3.48  Critic L: 0.04  noise: -0.00  eps: 0.23\n",
      "Episode: 31  Avg score(#20): 0.02  steps: 35035  Actor G: 3.48  Critic L: 0.04  noise: 0.01  eps: 0.21\n",
      "Episode: 32  Avg score(#20): 0.01  steps: 36036  Actor G: 3.46  Critic L: 0.05  noise: 0.01  eps: 0.20\n",
      "Episode: 33  Avg score(#20): 0.00  steps: 37037  Actor G: 3.46  Critic L: 0.04  noise: -0.00  eps: 0.19\n",
      "Episode: 34  Avg score(#20): 0.00  steps: 38038  Actor G: 3.42  Critic L: 0.04  noise: -0.01  eps: 0.18\n",
      "Episode: 35  Avg score(#20): 0.00  steps: 39039  Actor G: 3.45  Critic L: 0.03  noise: 0.00  eps: 0.17\n",
      "Episode: 36  Avg score(#20): 0.02  steps: 40040  Actor G: 3.44  Critic L: 0.04  noise: -0.01  eps: 0.17\n",
      "Episode: 37  Avg score(#20): 0.01  steps: 41041  Actor G: 3.44  Critic L: 0.03  noise: 0.01  eps: 0.16\n",
      "Episode: 38  Avg score(#20): 0.00  steps: 42042  Actor G: 3.44  Critic L: 0.03  noise: 0.01  eps: 0.15\n",
      "Episode: 39  Avg score(#20): 0.01  steps: 43043  Actor G: 3.41  Critic L: 0.02  noise: 0.01  eps: 0.14\n",
      "Episode: 40  Avg score(#20): 0.01  steps: 44044  Actor G: 3.39  Critic L: 0.03  noise: -0.01  eps: 0.14\n",
      "Episode: 41  Avg score(#20): 0.01  steps: 45045  Actor G: 3.42  Critic L: 0.02  noise: 0.01  eps: 0.13\n",
      "Episode: 42  Avg score(#20): 0.02  steps: 46046  Actor G: 3.38  Critic L: 0.02  noise: -0.00  eps: 0.12\n",
      "Episode: 43  Avg score(#20): 0.01  steps: 47047  Actor G: 3.36  Critic L: 0.02  noise: 0.01  eps: 0.12\n",
      "Episode: 44  Avg score(#20): 0.01  steps: 48048  Actor G: 3.34  Critic L: 0.02  noise: -0.01  eps: 0.11\n",
      "Episode: 45  Avg score(#20): 0.01  steps: 49049  Actor G: 3.35  Critic L: 0.02  noise: -0.01  eps: 0.10\n",
      "Episode: 46  Avg score(#20): 0.00  steps: 50050  Actor G: 3.35  Critic L: 0.02  noise: 0.01  eps: 0.10\n",
      "Episode: 47  Avg score(#20): 0.01  steps: 51051  Actor G: 3.36  Critic L: 0.02  noise: -0.01  eps: 0.09\n",
      "Episode: 48  Avg score(#20): 0.00  steps: 52052  Actor G: 3.35  Critic L: 0.02  noise: 0.00  eps: 0.09\n",
      "Episode: 49  Avg score(#20): 0.00  steps: 53053  Actor G: 3.32  Critic L: 0.02  noise: -0.02  eps: 0.09\n",
      "Episode: 50  Avg score(#20): 0.00  steps: 54054  Actor G: 3.33  Critic L: 0.02  noise: 0.00  eps: 0.08\n",
      "Episode: 51  Avg score(#20): 0.01  steps: 55055  Actor G: 3.30  Critic L: 0.02  noise: -0.01  eps: 0.08\n",
      "Episode: 52  Avg score(#20): 0.01  steps: 56056  Actor G: 3.29  Critic L: 0.02  noise: 0.01  eps: 0.07\n"
     ]
    },
    {
     "ename": "KeyboardInterrupt",
     "evalue": "",
     "output_type": "error",
     "traceback": [
      "\u001b[0;31m---------------------------------------------\u001b[0m",
      "\u001b[0;31mKeyboardInterrupt\u001b[0mTraceback (most recent call last)",
      "\u001b[0;32m<ipython-input-9-38b28b97cddb>\u001b[0m in \u001b[0;36m<module>\u001b[0;34m\u001b[0m\n\u001b[1;32m     61\u001b[0m     \u001b[0;32mreturn\u001b[0m \u001b[0mscores_history\u001b[0m\u001b[0;34m\u001b[0m\u001b[0;34m\u001b[0m\u001b[0m\n\u001b[1;32m     62\u001b[0m \u001b[0;34m\u001b[0m\u001b[0m\n\u001b[0;32m---> 63\u001b[0;31m \u001b[0mscores\u001b[0m \u001b[0;34m=\u001b[0m \u001b[0mDDPG_train\u001b[0m\u001b[0;34m(\u001b[0m\u001b[0;36m200\u001b[0m\u001b[0;34m)\u001b[0m\u001b[0;34m\u001b[0m\u001b[0;34m\u001b[0m\u001b[0m\n\u001b[0m",
      "\u001b[0;32m<ipython-input-9-38b28b97cddb>\u001b[0m in \u001b[0;36mDDPG_train\u001b[0;34m(n_episodes, i_episode, eps_start, eps_end, eps_decay)\u001b[0m\n\u001b[1;32m     22\u001b[0m             \u001b[0mactions\u001b[0m \u001b[0;34m=\u001b[0m \u001b[0magent\u001b[0m\u001b[0;34m.\u001b[0m\u001b[0mact\u001b[0m\u001b[0;34m(\u001b[0m\u001b[0mstates\u001b[0m\u001b[0;34m,\u001b[0m \u001b[0meps\u001b[0m\u001b[0;34m)\u001b[0m                      \u001b[0;31m# select an action (for each agent)\u001b[0m\u001b[0;34m\u001b[0m\u001b[0;34m\u001b[0m\u001b[0m\n\u001b[1;32m     23\u001b[0m             \u001b[0mactions\u001b[0m \u001b[0;34m=\u001b[0m \u001b[0mnp\u001b[0m\u001b[0;34m.\u001b[0m\u001b[0mclip\u001b[0m\u001b[0;34m(\u001b[0m\u001b[0mactions\u001b[0m\u001b[0;34m,\u001b[0m \u001b[0;34m-\u001b[0m\u001b[0;36m1\u001b[0m\u001b[0;34m,\u001b[0m \u001b[0;36m1\u001b[0m\u001b[0;34m)\u001b[0m                     \u001b[0;31m# all actions between -1 and 1\u001b[0m\u001b[0;34m\u001b[0m\u001b[0;34m\u001b[0m\u001b[0m\n\u001b[0;32m---> 24\u001b[0;31m             \u001b[0menv_info\u001b[0m \u001b[0;34m=\u001b[0m \u001b[0menv\u001b[0m\u001b[0;34m.\u001b[0m\u001b[0mstep\u001b[0m\u001b[0;34m(\u001b[0m\u001b[0mactions\u001b[0m\u001b[0;34m)\u001b[0m\u001b[0;34m[\u001b[0m\u001b[0mbrain_name\u001b[0m\u001b[0;34m]\u001b[0m              \u001b[0;31m# send all actions to tne environment\u001b[0m\u001b[0;34m\u001b[0m\u001b[0;34m\u001b[0m\u001b[0m\n\u001b[0m\u001b[1;32m     25\u001b[0m             \u001b[0mnext_states\u001b[0m \u001b[0;34m=\u001b[0m \u001b[0menv_info\u001b[0m\u001b[0;34m.\u001b[0m\u001b[0mvector_observations\u001b[0m            \u001b[0;31m# get next state (for each agent)\u001b[0m\u001b[0;34m\u001b[0m\u001b[0;34m\u001b[0m\u001b[0m\n\u001b[1;32m     26\u001b[0m             \u001b[0mrewards\u001b[0m \u001b[0;34m=\u001b[0m \u001b[0menv_info\u001b[0m\u001b[0;34m.\u001b[0m\u001b[0mrewards\u001b[0m                            \u001b[0;31m# get reward (for each agent)\u001b[0m\u001b[0;34m\u001b[0m\u001b[0;34m\u001b[0m\u001b[0m\n",
      "\u001b[0;32m~/anaconda3/envs/drlnd/lib/python3.6/site-packages/unityagents/environment.py\u001b[0m in \u001b[0;36mstep\u001b[0;34m(self, vector_action, memory, text_action)\u001b[0m\n\u001b[1;32m    367\u001b[0m \u001b[0;34m\u001b[0m\u001b[0m\n\u001b[1;32m    368\u001b[0m             outputs = self.communicator.exchange(\n\u001b[0;32m--> 369\u001b[0;31m                 \u001b[0mself\u001b[0m\u001b[0;34m.\u001b[0m\u001b[0m_generate_step_input\u001b[0m\u001b[0;34m(\u001b[0m\u001b[0mvector_action\u001b[0m\u001b[0;34m,\u001b[0m \u001b[0mmemory\u001b[0m\u001b[0;34m,\u001b[0m \u001b[0mtext_action\u001b[0m\u001b[0;34m)\u001b[0m\u001b[0;34m\u001b[0m\u001b[0;34m\u001b[0m\u001b[0m\n\u001b[0m\u001b[1;32m    370\u001b[0m             )\n\u001b[1;32m    371\u001b[0m             \u001b[0;32mif\u001b[0m \u001b[0moutputs\u001b[0m \u001b[0;32mis\u001b[0m \u001b[0;32mNone\u001b[0m\u001b[0;34m:\u001b[0m\u001b[0;34m\u001b[0m\u001b[0;34m\u001b[0m\u001b[0m\n",
      "\u001b[0;32m~/anaconda3/envs/drlnd/lib/python3.6/site-packages/unityagents/rpc_communicator.py\u001b[0m in \u001b[0;36mexchange\u001b[0;34m(self, inputs)\u001b[0m\n\u001b[1;32m     76\u001b[0m         \u001b[0mmessage\u001b[0m\u001b[0;34m.\u001b[0m\u001b[0munity_input\u001b[0m\u001b[0;34m.\u001b[0m\u001b[0mCopyFrom\u001b[0m\u001b[0;34m(\u001b[0m\u001b[0minputs\u001b[0m\u001b[0;34m)\u001b[0m\u001b[0;34m\u001b[0m\u001b[0;34m\u001b[0m\u001b[0m\n\u001b[1;32m     77\u001b[0m         \u001b[0mself\u001b[0m\u001b[0;34m.\u001b[0m\u001b[0munity_to_external\u001b[0m\u001b[0;34m.\u001b[0m\u001b[0mparent_conn\u001b[0m\u001b[0;34m.\u001b[0m\u001b[0msend\u001b[0m\u001b[0;34m(\u001b[0m\u001b[0mmessage\u001b[0m\u001b[0;34m)\u001b[0m\u001b[0;34m\u001b[0m\u001b[0;34m\u001b[0m\u001b[0m\n\u001b[0;32m---> 78\u001b[0;31m         \u001b[0moutput\u001b[0m \u001b[0;34m=\u001b[0m \u001b[0mself\u001b[0m\u001b[0;34m.\u001b[0m\u001b[0munity_to_external\u001b[0m\u001b[0;34m.\u001b[0m\u001b[0mparent_conn\u001b[0m\u001b[0;34m.\u001b[0m\u001b[0mrecv\u001b[0m\u001b[0;34m(\u001b[0m\u001b[0;34m)\u001b[0m\u001b[0;34m\u001b[0m\u001b[0;34m\u001b[0m\u001b[0m\n\u001b[0m\u001b[1;32m     79\u001b[0m         \u001b[0;32mif\u001b[0m \u001b[0moutput\u001b[0m\u001b[0;34m.\u001b[0m\u001b[0mheader\u001b[0m\u001b[0;34m.\u001b[0m\u001b[0mstatus\u001b[0m \u001b[0;34m!=\u001b[0m \u001b[0;36m200\u001b[0m\u001b[0;34m:\u001b[0m\u001b[0;34m\u001b[0m\u001b[0;34m\u001b[0m\u001b[0m\n\u001b[1;32m     80\u001b[0m             \u001b[0;32mreturn\u001b[0m \u001b[0;32mNone\u001b[0m\u001b[0;34m\u001b[0m\u001b[0;34m\u001b[0m\u001b[0m\n",
      "\u001b[0;32m~/anaconda3/envs/drlnd/lib/python3.6/multiprocessing/connection.py\u001b[0m in \u001b[0;36mrecv\u001b[0;34m(self)\u001b[0m\n\u001b[1;32m    248\u001b[0m         \u001b[0mself\u001b[0m\u001b[0;34m.\u001b[0m\u001b[0m_check_closed\u001b[0m\u001b[0;34m(\u001b[0m\u001b[0;34m)\u001b[0m\u001b[0;34m\u001b[0m\u001b[0;34m\u001b[0m\u001b[0m\n\u001b[1;32m    249\u001b[0m         \u001b[0mself\u001b[0m\u001b[0;34m.\u001b[0m\u001b[0m_check_readable\u001b[0m\u001b[0;34m(\u001b[0m\u001b[0;34m)\u001b[0m\u001b[0;34m\u001b[0m\u001b[0;34m\u001b[0m\u001b[0m\n\u001b[0;32m--> 250\u001b[0;31m         \u001b[0mbuf\u001b[0m \u001b[0;34m=\u001b[0m \u001b[0mself\u001b[0m\u001b[0;34m.\u001b[0m\u001b[0m_recv_bytes\u001b[0m\u001b[0;34m(\u001b[0m\u001b[0;34m)\u001b[0m\u001b[0;34m\u001b[0m\u001b[0;34m\u001b[0m\u001b[0m\n\u001b[0m\u001b[1;32m    251\u001b[0m         \u001b[0;32mreturn\u001b[0m \u001b[0m_ForkingPickler\u001b[0m\u001b[0;34m.\u001b[0m\u001b[0mloads\u001b[0m\u001b[0;34m(\u001b[0m\u001b[0mbuf\u001b[0m\u001b[0;34m.\u001b[0m\u001b[0mgetbuffer\u001b[0m\u001b[0;34m(\u001b[0m\u001b[0;34m)\u001b[0m\u001b[0;34m)\u001b[0m\u001b[0;34m\u001b[0m\u001b[0;34m\u001b[0m\u001b[0m\n\u001b[1;32m    252\u001b[0m \u001b[0;34m\u001b[0m\u001b[0m\n",
      "\u001b[0;32m~/anaconda3/envs/drlnd/lib/python3.6/multiprocessing/connection.py\u001b[0m in \u001b[0;36m_recv_bytes\u001b[0;34m(self, maxsize)\u001b[0m\n\u001b[1;32m    405\u001b[0m \u001b[0;34m\u001b[0m\u001b[0m\n\u001b[1;32m    406\u001b[0m     \u001b[0;32mdef\u001b[0m \u001b[0m_recv_bytes\u001b[0m\u001b[0;34m(\u001b[0m\u001b[0mself\u001b[0m\u001b[0;34m,\u001b[0m \u001b[0mmaxsize\u001b[0m\u001b[0;34m=\u001b[0m\u001b[0;32mNone\u001b[0m\u001b[0;34m)\u001b[0m\u001b[0;34m:\u001b[0m\u001b[0;34m\u001b[0m\u001b[0;34m\u001b[0m\u001b[0m\n\u001b[0;32m--> 407\u001b[0;31m         \u001b[0mbuf\u001b[0m \u001b[0;34m=\u001b[0m \u001b[0mself\u001b[0m\u001b[0;34m.\u001b[0m\u001b[0m_recv\u001b[0m\u001b[0;34m(\u001b[0m\u001b[0;36m4\u001b[0m\u001b[0;34m)\u001b[0m\u001b[0;34m\u001b[0m\u001b[0;34m\u001b[0m\u001b[0m\n\u001b[0m\u001b[1;32m    408\u001b[0m         \u001b[0msize\u001b[0m\u001b[0;34m,\u001b[0m \u001b[0;34m=\u001b[0m \u001b[0mstruct\u001b[0m\u001b[0;34m.\u001b[0m\u001b[0munpack\u001b[0m\u001b[0;34m(\u001b[0m\u001b[0;34m\"!i\"\u001b[0m\u001b[0;34m,\u001b[0m \u001b[0mbuf\u001b[0m\u001b[0;34m.\u001b[0m\u001b[0mgetvalue\u001b[0m\u001b[0;34m(\u001b[0m\u001b[0;34m)\u001b[0m\u001b[0;34m)\u001b[0m\u001b[0;34m\u001b[0m\u001b[0;34m\u001b[0m\u001b[0m\n\u001b[1;32m    409\u001b[0m         \u001b[0;32mif\u001b[0m \u001b[0mmaxsize\u001b[0m \u001b[0;32mis\u001b[0m \u001b[0;32mnot\u001b[0m \u001b[0;32mNone\u001b[0m \u001b[0;32mand\u001b[0m \u001b[0msize\u001b[0m \u001b[0;34m>\u001b[0m \u001b[0mmaxsize\u001b[0m\u001b[0;34m:\u001b[0m\u001b[0;34m\u001b[0m\u001b[0;34m\u001b[0m\u001b[0m\n",
      "\u001b[0;32m~/anaconda3/envs/drlnd/lib/python3.6/multiprocessing/connection.py\u001b[0m in \u001b[0;36m_recv\u001b[0;34m(self, size, read)\u001b[0m\n\u001b[1;32m    377\u001b[0m         \u001b[0mremaining\u001b[0m \u001b[0;34m=\u001b[0m \u001b[0msize\u001b[0m\u001b[0;34m\u001b[0m\u001b[0;34m\u001b[0m\u001b[0m\n\u001b[1;32m    378\u001b[0m         \u001b[0;32mwhile\u001b[0m \u001b[0mremaining\u001b[0m \u001b[0;34m>\u001b[0m \u001b[0;36m0\u001b[0m\u001b[0;34m:\u001b[0m\u001b[0;34m\u001b[0m\u001b[0;34m\u001b[0m\u001b[0m\n\u001b[0;32m--> 379\u001b[0;31m             \u001b[0mchunk\u001b[0m \u001b[0;34m=\u001b[0m \u001b[0mread\u001b[0m\u001b[0;34m(\u001b[0m\u001b[0mhandle\u001b[0m\u001b[0;34m,\u001b[0m \u001b[0mremaining\u001b[0m\u001b[0;34m)\u001b[0m\u001b[0;34m\u001b[0m\u001b[0;34m\u001b[0m\u001b[0m\n\u001b[0m\u001b[1;32m    380\u001b[0m             \u001b[0mn\u001b[0m \u001b[0;34m=\u001b[0m \u001b[0mlen\u001b[0m\u001b[0;34m(\u001b[0m\u001b[0mchunk\u001b[0m\u001b[0;34m)\u001b[0m\u001b[0;34m\u001b[0m\u001b[0;34m\u001b[0m\u001b[0m\n\u001b[1;32m    381\u001b[0m             \u001b[0;32mif\u001b[0m \u001b[0mn\u001b[0m \u001b[0;34m==\u001b[0m \u001b[0;36m0\u001b[0m\u001b[0;34m:\u001b[0m\u001b[0;34m\u001b[0m\u001b[0;34m\u001b[0m\u001b[0m\n",
      "\u001b[0;31mKeyboardInterrupt\u001b[0m: "
     ]
    }
   ],
   "source": [
    "def DDPG_train(n_episodes=1000, i_episode=1, eps_start=1.0, eps_end=0.05, eps_decay=0.95):\n",
    "    \"\"\"DDPG_train.\n",
    "    \n",
    "    Params\n",
    "    ======\n",
    "        n_episodes (int): maximum number of training episodes\n",
    "        i_episode (int): starting episode\n",
    "    \"\"\"\n",
    "    \n",
    "    scores_history = []                                           # for plotting graph\n",
    "    eps = eps_start                                               # start of eps noise factor\n",
    "    \n",
    "    while i_episode < n_episodes + 1:\n",
    "        \n",
    "        agent.reset()                                             # reset the agent for noise\n",
    "        env_info = env.reset(train_mode=True)[brain_name]         # reset the environment  \n",
    "        states = env_info.vector_observations                     # get the current state (for each agent)\n",
    "        epi_scores = np.zeros(num_agents)                         # initialize the score (for each agent)\n",
    "\n",
    "        episode_running = True                                    # flag for breaking the loop\n",
    "        while episode_running:\n",
    "            actions = agent.act(states, eps)                      # select an action (for each agent)\n",
    "            actions = np.clip(actions, -1, 1)                     # all actions between -1 and 1\n",
    "            env_info = env.step(actions)[brain_name]              # send all actions to tne environment\n",
    "            next_states = env_info.vector_observations            # get next state (for each agent)\n",
    "            rewards = env_info.rewards                            # get reward (for each agent)\n",
    "            dones = env_info.local_done                           # see if episode finished\n",
    "            epi_scores += env_info.rewards                        # update the score (for each agent)\n",
    "\n",
    "            agent.step(states,actions,rewards,next_states,dones)  # agent to update with env info\n",
    "            \n",
    "            states = next_states                                  # roll over states to next time step\n",
    "            if np.any(dones):                                     # exit loop if ANY episode finished\n",
    "                episode_running = False               \n",
    "\n",
    "        if agent.is_training == True:        \n",
    "            scores_history.append(np.mean(epi_scores))             # append episodic avg score to history\n",
    "            print('Episode: {}  Avg score(#{}): {:.2f}  steps: {}  Actor G: {:.2f}  '\n",
    "                  'Critic L: {:.2f}  noise: {:.2f}  eps: {:.2f}'.format(i_episode, num_agents, \n",
    "                                                                        np.mean(epi_scores),\n",
    "                                                                        agent.t_step, \n",
    "                                                                        agent.getQAvg(), \n",
    "                                                                        agent.get_td_avg(), \n",
    "                                                                        agent.get_noise_avg(),\n",
    "                                                                        eps))\n",
    "\n",
    "            if len(scores_history) >=100 and np.mean(scores_history[-100:]) >= 30.0:\n",
    "                print('\\nEnvironment solved in {:d} episodes!\\tAverage Score: {:.2f}'.format(i_episode-100,\n",
    "                                                                                             np.mean(scores_history)))\n",
    "\n",
    "                saveTrainedModel(agent, model_dir+model_name)\n",
    "                break\n",
    "\n",
    "            i_episode += 1                                         # episode increment\n",
    "            eps = max(eps*eps_decay,eps_end)                       # min of eps\n",
    "        else:                                                      # training not yet started\n",
    "            print('\\rFetching experiences... {} '.format(len(agent.memory.memory)), end=\"\")\n",
    "\n",
    "    env.close()\n",
    "        \n",
    "    return scores_history\n",
    "\n",
    "scores = DDPG_train(200)"
   ]
  },
  {
   "cell_type": "code",
   "execution_count": null,
   "metadata": {},
   "outputs": [],
   "source": [
    "# plot the scores\n",
    "import matplotlib.pyplot as plt\n",
    "%matplotlib inline\n",
    "\n",
    "fig = plt.figure()\n",
    "ax = fig.add_subplot(111)\n",
    "plt.plot(np.arange(len(scores)), scores)\n",
    "plt.ylabel('Score')\n",
    "plt.xlabel('Episode #')\n",
    "plt.show()"
   ]
  },
  {
   "cell_type": "code",
   "execution_count": null,
   "metadata": {},
   "outputs": [],
   "source": []
  },
  {
   "cell_type": "code",
   "execution_count": null,
   "metadata": {},
   "outputs": [],
   "source": []
  }
 ],
 "metadata": {
  "kernelspec": {
   "display_name": "drlnd",
   "language": "python",
   "name": "myenv"
  },
  "language_info": {
   "codemirror_mode": {
    "name": "ipython",
    "version": 3
   },
   "file_extension": ".py",
   "mimetype": "text/x-python",
   "name": "python",
   "nbconvert_exporter": "python",
   "pygments_lexer": "ipython3",
   "version": "3.6.7"
  }
 },
 "nbformat": 4,
 "nbformat_minor": 2
}
